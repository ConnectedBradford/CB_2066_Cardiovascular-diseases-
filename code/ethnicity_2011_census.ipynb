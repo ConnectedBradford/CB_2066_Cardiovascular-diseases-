{
 "cells": [
  {
   "cell_type": "code",
   "execution_count": 20,
   "id": "d14c4563-477a-4ac2-a6e2-4ec158bd586c",
   "metadata": {},
   "outputs": [],
   "source": [
    "library(bigrquery)\n",
    "library(tidyverse)"
   ]
  },
  {
   "cell_type": "code",
   "execution_count": 21,
   "id": "df1936af-7ac1-43bc-a339-bda86807fd2a",
   "metadata": {},
   "outputs": [],
   "source": [
    "# Summary Statistics: Ethnicity\n",
    "projectid = \"yhcr-prd-phm-bia-core\"\n",
    "sql <- \"SELECT distinct ethnicity_source_value FROM `yhcr-prd-phm-bia-core.CB_FDM_PrimaryCare_v5.person`\"\n",
    "tb <- bq_project_query(projectid, sql)\n",
    "eth <-bq_table_download(tb)"
   ]
  },
  {
   "cell_type": "code",
   "execution_count": 22,
   "id": "955d770d-f1a2-481f-ab34-a4e33582cd16",
   "metadata": {},
   "outputs": [
    {
     "data": {
      "text/html": [
       "<table class=\"dataframe\">\n",
       "<caption>A tibble: 20 × 1</caption>\n",
       "<thead>\n",
       "\t<tr><th scope=col>ethnicity_source_value</th></tr>\n",
       "\t<tr><th scope=col>&lt;chr&gt;</th></tr>\n",
       "</thead>\n",
       "<tbody>\n",
       "\t<tr><td>NULL                                                                                                                                          </td></tr>\n",
       "\t<tr><td>Unknown/Refuse to say                                                                                                                         </td></tr>\n",
       "\t<tr><td>White:Any other White background                                                                                                              </td></tr>\n",
       "\t<tr><td>Asian or Asian British: Bangladeshi - England and Wales ethnic category 2011 census                                                           </td></tr>\n",
       "\t<tr><td>Asian or Asian British: Chinese - England and Wales ethnic category 2011 census                                                               </td></tr>\n",
       "\t<tr><td>Asian or Asian British: Indian - England and Wales ethnic category 2011 census                                                                </td></tr>\n",
       "\t<tr><td>Asian or Asian British: Pakistani - England and Wales ethnic category 2011 census                                                             </td></tr>\n",
       "\t<tr><td>Asian or Asian British: any other Asian background - England and Wales ethnic category 2011 census                                            </td></tr>\n",
       "\t<tr><td>Black or African or Caribbean or Black British: African - England and Wales ethnic category 2011 census                                       </td></tr>\n",
       "\t<tr><td>Black or African or Caribbean or Black British: Caribbean - England and Wales ethnic category 2011 census                                     </td></tr>\n",
       "\t<tr><td>Black or African or Caribbean or Black British: other Black or African or Caribbean background - England and Wales ethnic category 2011 census</td></tr>\n",
       "\t<tr><td>Mixed multiple ethnic groups: White and Asian - England and Wales ethnic category 2011 census                                                 </td></tr>\n",
       "\t<tr><td>Mixed multiple ethnic groups: White and Black African - England and Wales ethnic category 2011 census                                         </td></tr>\n",
       "\t<tr><td>Mixed multiple ethnic groups: White and Black Caribbean - England and Wales ethnic category 2011 census                                       </td></tr>\n",
       "\t<tr><td>Mixed multiple ethnic groups: any other Mixed or multiple ethnic background - England and Wales ethnic category 2011 census                   </td></tr>\n",
       "\t<tr><td>Other ethnic group: Arab - England and Wales ethnic category 2011 census                                                                      </td></tr>\n",
       "\t<tr><td>Other ethnic group: any other ethnic group - England and Wales ethnic category 2011 census                                                    </td></tr>\n",
       "\t<tr><td>White: English or Welsh or Scottish or Northern Irish or British - England and Wales ethnic category 2011 census                              </td></tr>\n",
       "\t<tr><td>White: Gypsy or Irish Traveller - England and Wales ethnic category 2011 census                                                               </td></tr>\n",
       "\t<tr><td>White: Irish - England and Wales ethnic category 2011 census                                                                                  </td></tr>\n",
       "</tbody>\n",
       "</table>\n"
      ],
      "text/latex": [
       "A tibble: 20 × 1\n",
       "\\begin{tabular}{l}\n",
       " ethnicity\\_source\\_value\\\\\n",
       " <chr>\\\\\n",
       "\\hline\n",
       "\t NULL                                                                                                                                          \\\\\n",
       "\t Unknown/Refuse to say                                                                                                                         \\\\\n",
       "\t White:Any other White background                                                                                                              \\\\\n",
       "\t Asian or Asian British: Bangladeshi - England and Wales ethnic category 2011 census                                                           \\\\\n",
       "\t Asian or Asian British: Chinese - England and Wales ethnic category 2011 census                                                               \\\\\n",
       "\t Asian or Asian British: Indian - England and Wales ethnic category 2011 census                                                                \\\\\n",
       "\t Asian or Asian British: Pakistani - England and Wales ethnic category 2011 census                                                             \\\\\n",
       "\t Asian or Asian British: any other Asian background - England and Wales ethnic category 2011 census                                            \\\\\n",
       "\t Black or African or Caribbean or Black British: African - England and Wales ethnic category 2011 census                                       \\\\\n",
       "\t Black or African or Caribbean or Black British: Caribbean - England and Wales ethnic category 2011 census                                     \\\\\n",
       "\t Black or African or Caribbean or Black British: other Black or African or Caribbean background - England and Wales ethnic category 2011 census\\\\\n",
       "\t Mixed multiple ethnic groups: White and Asian - England and Wales ethnic category 2011 census                                                 \\\\\n",
       "\t Mixed multiple ethnic groups: White and Black African - England and Wales ethnic category 2011 census                                         \\\\\n",
       "\t Mixed multiple ethnic groups: White and Black Caribbean - England and Wales ethnic category 2011 census                                       \\\\\n",
       "\t Mixed multiple ethnic groups: any other Mixed or multiple ethnic background - England and Wales ethnic category 2011 census                   \\\\\n",
       "\t Other ethnic group: Arab - England and Wales ethnic category 2011 census                                                                      \\\\\n",
       "\t Other ethnic group: any other ethnic group - England and Wales ethnic category 2011 census                                                    \\\\\n",
       "\t White: English or Welsh or Scottish or Northern Irish or British - England and Wales ethnic category 2011 census                              \\\\\n",
       "\t White: Gypsy or Irish Traveller - England and Wales ethnic category 2011 census                                                               \\\\\n",
       "\t White: Irish - England and Wales ethnic category 2011 census                                                                                  \\\\\n",
       "\\end{tabular}\n"
      ],
      "text/markdown": [
       "\n",
       "A tibble: 20 × 1\n",
       "\n",
       "| ethnicity_source_value &lt;chr&gt; |\n",
       "|---|\n",
       "| NULL                                                                                                                                           |\n",
       "| Unknown/Refuse to say                                                                                                                          |\n",
       "| White:Any other White background                                                                                                               |\n",
       "| Asian or Asian British: Bangladeshi - England and Wales ethnic category 2011 census                                                            |\n",
       "| Asian or Asian British: Chinese - England and Wales ethnic category 2011 census                                                                |\n",
       "| Asian or Asian British: Indian - England and Wales ethnic category 2011 census                                                                 |\n",
       "| Asian or Asian British: Pakistani - England and Wales ethnic category 2011 census                                                              |\n",
       "| Asian or Asian British: any other Asian background - England and Wales ethnic category 2011 census                                             |\n",
       "| Black or African or Caribbean or Black British: African - England and Wales ethnic category 2011 census                                        |\n",
       "| Black or African or Caribbean or Black British: Caribbean - England and Wales ethnic category 2011 census                                      |\n",
       "| Black or African or Caribbean or Black British: other Black or African or Caribbean background - England and Wales ethnic category 2011 census |\n",
       "| Mixed multiple ethnic groups: White and Asian - England and Wales ethnic category 2011 census                                                  |\n",
       "| Mixed multiple ethnic groups: White and Black African - England and Wales ethnic category 2011 census                                          |\n",
       "| Mixed multiple ethnic groups: White and Black Caribbean - England and Wales ethnic category 2011 census                                        |\n",
       "| Mixed multiple ethnic groups: any other Mixed or multiple ethnic background - England and Wales ethnic category 2011 census                    |\n",
       "| Other ethnic group: Arab - England and Wales ethnic category 2011 census                                                                       |\n",
       "| Other ethnic group: any other ethnic group - England and Wales ethnic category 2011 census                                                     |\n",
       "| White: English or Welsh or Scottish or Northern Irish or British - England and Wales ethnic category 2011 census                               |\n",
       "| White: Gypsy or Irish Traveller - England and Wales ethnic category 2011 census                                                                |\n",
       "| White: Irish - England and Wales ethnic category 2011 census                                                                                   |\n",
       "\n"
      ],
      "text/plain": [
       "   ethnicity_source_value                                                                                                                        \n",
       "1  NULL                                                                                                                                          \n",
       "2  Unknown/Refuse to say                                                                                                                         \n",
       "3  White:Any other White background                                                                                                              \n",
       "4  Asian or Asian British: Bangladeshi - England and Wales ethnic category 2011 census                                                           \n",
       "5  Asian or Asian British: Chinese - England and Wales ethnic category 2011 census                                                               \n",
       "6  Asian or Asian British: Indian - England and Wales ethnic category 2011 census                                                                \n",
       "7  Asian or Asian British: Pakistani - England and Wales ethnic category 2011 census                                                             \n",
       "8  Asian or Asian British: any other Asian background - England and Wales ethnic category 2011 census                                            \n",
       "9  Black or African or Caribbean or Black British: African - England and Wales ethnic category 2011 census                                       \n",
       "10 Black or African or Caribbean or Black British: Caribbean - England and Wales ethnic category 2011 census                                     \n",
       "11 Black or African or Caribbean or Black British: other Black or African or Caribbean background - England and Wales ethnic category 2011 census\n",
       "12 Mixed multiple ethnic groups: White and Asian - England and Wales ethnic category 2011 census                                                 \n",
       "13 Mixed multiple ethnic groups: White and Black African - England and Wales ethnic category 2011 census                                         \n",
       "14 Mixed multiple ethnic groups: White and Black Caribbean - England and Wales ethnic category 2011 census                                       \n",
       "15 Mixed multiple ethnic groups: any other Mixed or multiple ethnic background - England and Wales ethnic category 2011 census                   \n",
       "16 Other ethnic group: Arab - England and Wales ethnic category 2011 census                                                                      \n",
       "17 Other ethnic group: any other ethnic group - England and Wales ethnic category 2011 census                                                    \n",
       "18 White: English or Welsh or Scottish or Northern Irish or British - England and Wales ethnic category 2011 census                              \n",
       "19 White: Gypsy or Irish Traveller - England and Wales ethnic category 2011 census                                                               \n",
       "20 White: Irish - England and Wales ethnic category 2011 census                                                                                  "
      ]
     },
     "metadata": {},
     "output_type": "display_data"
    }
   ],
   "source": [
    "eth"
   ]
  },
  {
   "cell_type": "code",
   "execution_count": 23,
   "id": "5dc908b8-cfb7-43e6-9e66-e3edbe00196f",
   "metadata": {},
   "outputs": [],
   "source": [
    "# Map to 5 category ethnicity 2011 census\n",
    "eth <- eth %>%\n",
    "    mutate(eth_5cat = case_when(\n",
    "    ethnicity_source_value == \"NULL\" | ethnicity_source_value == \"Unknown/Refuse to say\" ~ NA,\n",
    "    ethnicity_source_value == \"Asian or Asian British: Bangladeshi - England and Wales ethnic category 2011 census\" | ethnicity_source_value == \"Asian or Asian British: Chinese - England and Wales ethnic category 2011 census\" | ethnicity_source_value == \"Asian or Asian British: Indian - England and Wales ethnic category 2011 census\" | ethnicity_source_value == \"Asian or Asian British: Pakistani - England and Wales ethnic category 2011 census\" | ethnicity_source_value == \"Asian or Asian British: any other Asian background - England and Wales ethnic category 2011 census\" ~ 1, # Asian\n",
    "    ethnicity_source_value == \"Black or African or Caribbean or Black British: African - England and Wales ethnic category 2011 census\" | ethnicity_source_value == \"Black or African or Caribbean or Black British: Caribbean - England and Wales ethnic category 2011 census\" | ethnicity_source_value == \"Black or African or Caribbean or Black British: other Black or African or Caribbean background - England and Wales ethnic category 2011 census\" ~ 2, # Black\n",
    "    ethnicity_source_value == \"Mixed multiple ethnic groups: White and Asian - England and Wales ethnic category 2011 census\" | ethnicity_source_value == \"Mixed multiple ethnic groups: White and Black African - England and Wales ethnic category 2011 census\" | ethnicity_source_value == \"Mixed multiple ethnic groups: White and Black Caribbean - England and Wales ethnic category 2011 census\" | ethnicity_source_value == \"Mixed multiple ethnic groups: any other Mixed or multiple ethnic background - England and Wales ethnic category 2011 census\" ~ 3, # Mixed\n",
    "    ethnicity_source_value == \"White:Any other White background\" | ethnicity_source_value == \"White: English or Welsh or Scottish or Northern Irish or British - England and Wales ethnic category 2011 census\" | ethnicity_source_value == \"White: Gypsy or Irish Traveller - England and Wales ethnic category 2011 census\" | ethnicity_source_value == \"White: Irish - England and Wales ethnic category 2011 census\" ~ 4, # White\n",
    "    ethnicity_source_value == \"Other ethnic group: Arab - England and Wales ethnic category 2011 census\" | ethnicity_source_value == \"Other ethnic group: any other ethnic group - England and Wales ethnic category 2011 census\" ~ 5)) # Other"
   ]
  },
  {
   "cell_type": "code",
   "execution_count": 16,
   "id": "0d0f09be-ff59-4fac-bc79-21370fac3742",
   "metadata": {},
   "outputs": [],
   "source": [
    "bq_auth()"
   ]
  },
  {
   "cell_type": "code",
   "execution_count": 17,
   "id": "92670450-a4ec-4910-b397-9f2bbd088554",
   "metadata": {},
   "outputs": [
    {
     "data": {
      "text/html": [
       "<style>\n",
       ".list-inline {list-style: none; margin:0; padding: 0}\n",
       ".list-inline>li {display: inline-block}\n",
       ".list-inline>li:not(:last-child)::after {content: \"\\00b7\"; padding: 0 .5ex}\n",
       "</style>\n",
       "<ol class=list-inline><li>'ethnicity_source_value'</li><li>'eth_5cat'</li></ol>\n"
      ],
      "text/latex": [
       "\\begin{enumerate*}\n",
       "\\item 'ethnicity\\_source\\_value'\n",
       "\\item 'eth\\_5cat'\n",
       "\\end{enumerate*}\n"
      ],
      "text/markdown": [
       "1. 'ethnicity_source_value'\n",
       "2. 'eth_5cat'\n",
       "\n",
       "\n"
      ],
      "text/plain": [
       "[1] \"ethnicity_source_value\" \"eth_5cat\"              "
      ]
     },
     "metadata": {},
     "output_type": "display_data"
    }
   ],
   "source": [
    "colnames(eth)"
   ]
  },
  {
   "cell_type": "code",
   "execution_count": 18,
   "id": "1d65c254-b599-48a7-b656-011443594f30",
   "metadata": {},
   "outputs": [
    {
     "ename": "ERROR",
     "evalue": "Error in eval(assertion, env): argument \"dataset\" is missing, with no default\n",
     "output_type": "error",
     "traceback": [
      "Error in eval(assertion, env): argument \"dataset\" is missing, with no default\nTraceback:\n",
      "1. bq_dataset(\"yhcr-prd-phm-bia-core.CB_LOOKUPS\")",
      "2. assert_that(is.string(project), is.string(dataset))",
      "3. see_if(..., env = env, msg = msg)",
      "4. tryCatch({\n .     eval(assertion, env)\n . }, assertError = function(e) {\n .     structure(FALSE, msg = e$message)\n . })",
      "5. tryCatchList(expr, classes, parentenv, handlers)",
      "6. tryCatchOne(expr, names, parentenv, handlers[[1L]])",
      "7. doTryCatch(return(expr), name, parentenv, handler)",
      "8. eval(assertion, env)",
      "9. eval(assertion, env)",
      "10. is.string(dataset)"
     ]
    }
   ],
   "source": [
    "# set destination table - do this regardless of whether it already exists\n",
    "dest_dataset <- bq_dataset(\"yhcr-prd-phm-bia-core.CB_LOOKUPS\")\n",
    "dest_table <- bq_table(dest_dataset, \"tbl_ethnicity_2011_census\")\n",
    "\n",
    "# create a full table spec as follows\n",
    "# then pass this to bq_table_upload\n",
    "dest_fields <- bq_fields(list(bq_field(\"ethnicity_source_value\", \"STRING\", \"REQUIRED\"),\n",
    "                              bq_field(\"eth_5cat\", \"INT64\")))\n",
    "\n",
    "# delete an existing table if necessary\n",
    "if(bq_table_exists(dest_table)) bq_table_delete(dest_table)\n",
    "# upload file_data to dest_table\n",
    "bq_table_upload(dest_table, eth, fields = dest_fields, create_disposition='CREATE_IF_NEEDED', write_disposition='WRITE_TRUNCATE')"
   ]
  },
  {
   "cell_type": "code",
   "execution_count": 19,
   "id": "ce46927d-5286-47e6-bd0e-dfb4a54934ee",
   "metadata": {},
   "outputs": [],
   "source": [
    "write_csv(eth, file = \"tbl_Ethnicity_2011_census.csv\")"
   ]
  }
 ],
 "metadata": {
  "environment": {
   "kernel": "ir",
   "name": "r-cpu.4-2.m111",
   "type": "gcloud",
   "uri": "gcr.io/deeplearning-platform-release/r-cpu.4-2:m111"
  },
  "kernelspec": {
   "display_name": "R",
   "language": "R",
   "name": "ir"
  },
  "language_info": {
   "codemirror_mode": "r",
   "file_extension": ".r",
   "mimetype": "text/x-r-source",
   "name": "R",
   "pygments_lexer": "r",
   "version": "4.3.1"
  }
 },
 "nbformat": 4,
 "nbformat_minor": 5
}
