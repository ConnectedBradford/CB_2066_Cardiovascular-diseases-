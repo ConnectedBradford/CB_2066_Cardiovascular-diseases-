{
 "cells": [
  {
   "cell_type": "code",
   "execution_count": 1,
   "id": "04158ed9-6112-4dac-b14a-4b9dca511b0c",
   "metadata": {},
   "outputs": [
    {
     "name": "stderr",
     "output_type": "stream",
     "text": [
      "── \u001b[1mAttaching core tidyverse packages\u001b[22m ──────────────────────── tidyverse 2.0.0 ──\n",
      "\u001b[32m✔\u001b[39m \u001b[34mdplyr    \u001b[39m 1.1.2     \u001b[32m✔\u001b[39m \u001b[34mreadr    \u001b[39m 2.1.4\n",
      "\u001b[32m✔\u001b[39m \u001b[34mforcats  \u001b[39m 1.0.0     \u001b[32m✔\u001b[39m \u001b[34mstringr  \u001b[39m 1.5.0\n",
      "\u001b[32m✔\u001b[39m \u001b[34mggplot2  \u001b[39m 3.4.4     \u001b[32m✔\u001b[39m \u001b[34mtibble   \u001b[39m 3.2.1\n",
      "\u001b[32m✔\u001b[39m \u001b[34mlubridate\u001b[39m 1.9.2     \u001b[32m✔\u001b[39m \u001b[34mtidyr    \u001b[39m 1.3.0\n",
      "\u001b[32m✔\u001b[39m \u001b[34mpurrr    \u001b[39m 1.0.2     \n",
      "── \u001b[1mConflicts\u001b[22m ────────────────────────────────────────── tidyverse_conflicts() ──\n",
      "\u001b[31m✖\u001b[39m \u001b[34mdplyr\u001b[39m::\u001b[32mfilter()\u001b[39m masks \u001b[34mstats\u001b[39m::filter()\n",
      "\u001b[31m✖\u001b[39m \u001b[34mdplyr\u001b[39m::\u001b[32mlag()\u001b[39m    masks \u001b[34mstats\u001b[39m::lag()\n",
      "\u001b[36mℹ\u001b[39m Use the conflicted package (\u001b[3m\u001b[34m<http://conflicted.r-lib.org/>\u001b[39m\u001b[23m) to force all conflicts to become errors\n"
     ]
    }
   ],
   "source": [
    "library(bigrquery)\n",
    "library(tidyverse)"
   ]
  },
  {
   "cell_type": "code",
   "execution_count": 2,
   "id": "f565ea87-f29b-4fe0-b966-5904cc5b1c6f",
   "metadata": {},
   "outputs": [],
   "source": [
    "# Store the project ID\n",
    "projectid = \"yhcr-prd-phm-bia-core\""
   ]
  },
  {
   "cell_type": "code",
   "execution_count": 3,
   "id": "dd852cb8-e648-48ec-8823-7dc3e272f24a",
   "metadata": {},
   "outputs": [],
   "source": [
    "# load cvd tables\n",
    "# CVD Primary Care\n",
    "sql1 <- \"SELECT *  FROM `yhcr-prd-phm-bia-core.CB_MYSPACE_AH.Cardiovascular_Diseases_Primary_Care`\"\n",
    "tb1 <- bq_project_query(projectid, sql1)\n",
    "cvd_pc <-bq_table_download(tb1)\n",
    "\n",
    "# CVD A&E\n",
    "sql2 <- \"SELECT *  FROM `yhcr-prd-phm-bia-core.CB_MYSPACE_AH.Cardiovascular_Diseases_AE`\"\n",
    "tb2 <- bq_project_query(projectid, sql2)\n",
    "cvd_ae <-bq_table_download(tb2)\n",
    "\n",
    "# CVD Episodes\n",
    "sql3 <- \"SELECT *  FROM `yhcr-prd-phm-bia-core.CB_MYSPACE_AH.Cardiovascular_Diseases_Episodes`\"\n",
    "tb3 <- bq_project_query(projectid, sql3)\n",
    "cvd_ep <-bq_table_download(tb3)\n"
   ]
  },
  {
   "cell_type": "code",
   "execution_count": 4,
   "id": "17b18630-8609-420f-a418-0d8e01c87153",
   "metadata": {},
   "outputs": [],
   "source": [
    "# Keep personid, date diagnosis and has_* variables\n",
    "# Primary Care\n",
    "pc_angina <- cvd_pc %>%\n",
    "    select(person_id, date_angina_diagnosis, has_angina)\n",
    "pc_cardiomyopathy <- cvd_pc %>%\n",
    "    select(person_id, date_cardiomyopathy_diagnosis, has_cardiomyopathy)\n",
    "pc_hf <- cvd_pc %>%\n",
    "    select(person_id, date_heart_failure_diagnosis, has_heart_failure)\n",
    "pc_ht <- cvd_pc %>%\n",
    "    select(person_id, date_hypertension_diagnosis, has_hypertension)\n",
    "pc_ihd <- cvd_pc %>%\n",
    "    select(person_id, date_ihd_diagnosis, has_ihd)\n",
    "pc_mi <- cvd_pc %>%\n",
    "    select(person_id, date_mi_diagnosis, has_mi)\n",
    "pc_pvd <- cvd_pc %>%\n",
    "    select(person_id, date_pvd_diagnosis, has_pvd)\n",
    "pc_stroke <- cvd_pc %>%\n",
    "    select(person_id, date_stroke_diagnosis, has_stroke)\n",
    "pc_vd <- cvd_pc %>%\n",
    "    select(person_id, date_valve_disease_diagnosis, has_valve_disease)\n",
    "\n",
    "# A&E\n",
    "ae_angina <- cvd_ae %>%\n",
    "    select(person_id, date_angina_diagnosis, has_angina)\n",
    "ae_cardiomyopathy <- cvd_ae %>%\n",
    "    select(person_id, date_cardiomyopathy_diagnosis, has_cardiomyopathy)\n",
    "ae_hf <- cvd_ae %>%\n",
    "    select(person_id, date_heart_failure_diagnosis, has_heart_failure)\n",
    "ae_ht <- cvd_ae %>%\n",
    "    select(person_id, date_hypertension_diagnosis, has_hypertension)\n",
    "ae_ihd <- cvd_ae %>%\n",
    "    select(person_id, date_ihd_diagnosis, has_ihd)\n",
    "ae_mi <- cvd_ae %>%\n",
    "    select(person_id, date_mi_diagnosis, has_mi)\n",
    "ae_pvd <- cvd_ae %>%\n",
    "    select(person_id, date_pvd_diagnosis, has_pvd)\n",
    "ae_stroke <- cvd_ae %>%\n",
    "    select(person_id, date_stroke_diagnosis, has_stroke)\n",
    "ae_vd <- cvd_ae %>%\n",
    "    select(person_id, date_valve_disease_diagnosis, has_valve_disease)\n",
    "\n",
    "# Episodes\n",
    "ep_angina <- cvd_ep %>%\n",
    "    select(person_id, date_angina_diagnosis, has_angina)\n",
    "ep_cardiomyopathy <- cvd_ep %>%\n",
    "    select(person_id, date_cardiomyopathy_diagnosis, has_cardiomyopathy)\n",
    "ep_hf <- cvd_ep %>%\n",
    "    select(person_id, date_heart_failure_diagnosis, has_heart_failure)\n",
    "ep_ht <- cvd_ep %>%\n",
    "    select(person_id, date_hypertension_diagnosis, has_hypertension)\n",
    "ep_ihd <- cvd_ep %>%\n",
    "    select(person_id, date_ihd_diagnosis, has_ihd)\n",
    "ep_mi <- cvd_ep %>%\n",
    "    select(person_id, date_mi_diagnosis, has_mi)\n",
    "ep_pvd <- cvd_ep %>%\n",
    "    select(person_id, date_pvd_diagnosis, has_pvd)\n",
    "ep_stroke <- cvd_ep %>%\n",
    "    select(person_id, date_stroke_diagnosis, has_stroke)\n",
    "ep_vd <- cvd_ep %>%\n",
    "    select(person_id, date_valve_disease_diagnosis, has_valve_disease)"
   ]
  },
  {
   "cell_type": "code",
   "execution_count": 5,
   "id": "c298ecd8-8fc0-49af-8b09-e62a05f04aa5",
   "metadata": {},
   "outputs": [],
   "source": [
    "# join each cvd together\n",
    "# angina\n",
    "angina <- rbind(pc_angina, ae_angina, ep_angina)\n",
    "cardiomyopathy <- rbind(pc_cardiomyopathy, ae_cardiomyopathy, ep_cardiomyopathy) \n",
    "heart_failure <- rbind(pc_hf, ae_hf, ep_hf)\n",
    "hypertension <- rbind(pc_ht, ae_ht, ep_ht)\n",
    "ihd <- rbind(pc_ihd, ae_ihd, ep_ihd)\n",
    "mi <- rbind(pc_mi, ae_mi, ep_mi)\n",
    "pvd <- rbind(pc_pvd, ae_pvd, ep_pvd)\n",
    "stroke <- rbind(pc_stroke, ae_stroke, ep_stroke)\n",
    "valve_disease <- rbind(pc_vd, ae_vd, ep_vd)"
   ]
  },
  {
   "cell_type": "code",
   "execution_count": 6,
   "id": "f07ef2a8-97fd-43cf-b440-ae4622ea7333",
   "metadata": {},
   "outputs": [
    {
     "data": {
      "text/html": [
       "23294"
      ],
      "text/latex": [
       "23294"
      ],
      "text/markdown": [
       "23294"
      ],
      "text/plain": [
       "[1] 23294"
      ]
     },
     "metadata": {},
     "output_type": "display_data"
    },
    {
     "data": {
      "text/html": [
       "20240"
      ],
      "text/latex": [
       "20240"
      ],
      "text/markdown": [
       "20240"
      ],
      "text/plain": [
       "[1] 20240"
      ]
     },
     "metadata": {},
     "output_type": "display_data"
    },
    {
     "data": {
      "text/html": [
       "5243"
      ],
      "text/latex": [
       "5243"
      ],
      "text/markdown": [
       "5243"
      ],
      "text/plain": [
       "[1] 5243"
      ]
     },
     "metadata": {},
     "output_type": "display_data"
    },
    {
     "data": {
      "text/html": [
       "5048"
      ],
      "text/latex": [
       "5048"
      ],
      "text/markdown": [
       "5048"
      ],
      "text/plain": [
       "[1] 5048"
      ]
     },
     "metadata": {},
     "output_type": "display_data"
    },
    {
     "data": {
      "text/html": [
       "21145"
      ],
      "text/latex": [
       "21145"
      ],
      "text/markdown": [
       "21145"
      ],
      "text/plain": [
       "[1] 21145"
      ]
     },
     "metadata": {},
     "output_type": "display_data"
    },
    {
     "data": {
      "text/html": [
       "17380"
      ],
      "text/latex": [
       "17380"
      ],
      "text/markdown": [
       "17380"
      ],
      "text/plain": [
       "[1] 17380"
      ]
     },
     "metadata": {},
     "output_type": "display_data"
    },
    {
     "data": {
      "text/html": [
       "40049"
      ],
      "text/latex": [
       "40049"
      ],
      "text/markdown": [
       "40049"
      ],
      "text/plain": [
       "[1] 40049"
      ]
     },
     "metadata": {},
     "output_type": "display_data"
    },
    {
     "data": {
      "text/html": [
       "35978"
      ],
      "text/latex": [
       "35978"
      ],
      "text/markdown": [
       "35978"
      ],
      "text/plain": [
       "[1] 35978"
      ]
     },
     "metadata": {},
     "output_type": "display_data"
    },
    {
     "data": {
      "text/html": [
       "9977"
      ],
      "text/latex": [
       "9977"
      ],
      "text/markdown": [
       "9977"
      ],
      "text/plain": [
       "[1] 9977"
      ]
     },
     "metadata": {},
     "output_type": "display_data"
    },
    {
     "data": {
      "text/html": [
       "7740"
      ],
      "text/latex": [
       "7740"
      ],
      "text/markdown": [
       "7740"
      ],
      "text/plain": [
       "[1] 7740"
      ]
     },
     "metadata": {},
     "output_type": "display_data"
    },
    {
     "data": {
      "text/html": [
       "7173"
      ],
      "text/latex": [
       "7173"
      ],
      "text/markdown": [
       "7173"
      ],
      "text/plain": [
       "[1] 7173"
      ]
     },
     "metadata": {},
     "output_type": "display_data"
    },
    {
     "data": {
      "text/html": [
       "6764"
      ],
      "text/latex": [
       "6764"
      ],
      "text/markdown": [
       "6764"
      ],
      "text/plain": [
       "[1] 6764"
      ]
     },
     "metadata": {},
     "output_type": "display_data"
    },
    {
     "data": {
      "text/html": [
       "6450"
      ],
      "text/latex": [
       "6450"
      ],
      "text/markdown": [
       "6450"
      ],
      "text/plain": [
       "[1] 6450"
      ]
     },
     "metadata": {},
     "output_type": "display_data"
    },
    {
     "data": {
      "text/html": [
       "5905"
      ],
      "text/latex": [
       "5905"
      ],
      "text/markdown": [
       "5905"
      ],
      "text/plain": [
       "[1] 5905"
      ]
     },
     "metadata": {},
     "output_type": "display_data"
    },
    {
     "data": {
      "text/html": [
       "41409"
      ],
      "text/latex": [
       "41409"
      ],
      "text/markdown": [
       "41409"
      ],
      "text/plain": [
       "[1] 41409"
      ]
     },
     "metadata": {},
     "output_type": "display_data"
    },
    {
     "data": {
      "text/html": [
       "32080"
      ],
      "text/latex": [
       "32080"
      ],
      "text/markdown": [
       "32080"
      ],
      "text/plain": [
       "[1] 32080"
      ]
     },
     "metadata": {},
     "output_type": "display_data"
    },
    {
     "data": {
      "text/html": [
       "10812"
      ],
      "text/latex": [
       "10812"
      ],
      "text/markdown": [
       "10812"
      ],
      "text/plain": [
       "[1] 10812"
      ]
     },
     "metadata": {},
     "output_type": "display_data"
    },
    {
     "data": {
      "text/html": [
       "10234"
      ],
      "text/latex": [
       "10234"
      ],
      "text/markdown": [
       "10234"
      ],
      "text/plain": [
       "[1] 10234"
      ]
     },
     "metadata": {},
     "output_type": "display_data"
    }
   ],
   "source": [
    "# Keep first occurrence for each cvd\n",
    "# Angina\n",
    "angina <- angina %>%\n",
    "    filter(!has_angina == 0)\n",
    "nrow(angina)\n",
    "angina <- angina %>%\n",
    "    group_by(person_id) %>%\n",
    "    slice_min(date_angina_diagnosis, with_ties = FALSE)\n",
    "nrow(angina)\n",
    "\n",
    "# Cardiomyopathy\n",
    "cardiomyopathy <- cardiomyopathy %>%\n",
    "    filter(!has_cardiomyopathy == 0)\n",
    "nrow(cardiomyopathy)\n",
    "cardiomyopathy <- cardiomyopathy %>%\n",
    "    group_by(person_id) %>%\n",
    "    slice_min(date_cardiomyopathy_diagnosis, with_ties = FALSE)\n",
    "nrow(cardiomyopathy)\n",
    "\n",
    "# heart_failure\n",
    "heart_failure <- heart_failure %>%\n",
    "    filter(!has_heart_failure == 0)\n",
    "nrow(heart_failure)\n",
    "heart_failure <- heart_failure %>%\n",
    "    group_by(person_id) %>%\n",
    "    slice_min(date_heart_failure_diagnosis, with_ties = FALSE)\n",
    "nrow(heart_failure)\n",
    "\n",
    "# hypertension\n",
    "hypertension <- hypertension %>%\n",
    "    filter(!has_hypertension == 0)\n",
    "nrow(hypertension)\n",
    "hypertension <- hypertension %>%\n",
    "    group_by(person_id) %>%\n",
    "    slice_min(date_hypertension_diagnosis, with_ties = FALSE)\n",
    "nrow(hypertension)\n",
    "\n",
    "# ihd\n",
    "ihd <- ihd %>%\n",
    "    filter(!has_ihd == 0)\n",
    "nrow(ihd)\n",
    "ihd <- ihd %>%\n",
    "    group_by(person_id) %>%\n",
    "    slice_min(date_ihd_diagnosis, with_ties = FALSE)\n",
    "nrow(ihd)\n",
    "\n",
    "# mi\n",
    "mi <- mi %>%\n",
    "    filter(!has_mi == 0)\n",
    "nrow(mi)\n",
    "mi <- mi %>%\n",
    "    group_by(person_id) %>%\n",
    "    slice_min(date_mi_diagnosis, with_ties = FALSE)\n",
    "nrow(mi)\n",
    "\n",
    "# pvd\n",
    "pvd <- pvd %>%\n",
    "    filter(!has_pvd == 0)\n",
    "nrow(pvd)\n",
    "pvd <- pvd %>%\n",
    "    group_by(person_id) %>%\n",
    "    slice_min(date_pvd_diagnosis, with_ties = FALSE)\n",
    "nrow(pvd)\n",
    "\n",
    "# stroke\n",
    "stroke <- stroke %>%\n",
    "    filter(!has_stroke == 0)\n",
    "nrow(stroke)\n",
    "stroke <- stroke %>%\n",
    "    group_by(person_id) %>%\n",
    "    slice_min(date_stroke_diagnosis, with_ties = FALSE)\n",
    "nrow(stroke)\n",
    "\n",
    "# valve_disease\n",
    "valve_disease <- valve_disease %>%\n",
    "    filter(!has_valve_disease == 0)\n",
    "nrow(valve_disease)\n",
    "valve_disease <- valve_disease %>%\n",
    "    group_by(person_id) %>%\n",
    "    slice_min(date_valve_disease_diagnosis, with_ties = FALSE)\n",
    "nrow(valve_disease)"
   ]
  },
  {
   "cell_type": "code",
   "execution_count": 7,
   "id": "6b19b9c8-69ec-4779-a557-0b1604c5a32e",
   "metadata": {},
   "outputs": [
    {
     "data": {
      "text/html": [
       "<table class=\"dataframe\">\n",
       "<caption>A grouped_df: 6 × 3</caption>\n",
       "<thead>\n",
       "\t<tr><th scope=col>person_id</th><th scope=col>date_angina_diagnosis</th><th scope=col>has_angina</th></tr>\n",
       "\t<tr><th scope=col>&lt;int&gt;</th><th scope=col>&lt;date&gt;</th><th scope=col>&lt;int&gt;</th></tr>\n",
       "</thead>\n",
       "<tbody>\n",
       "\t<tr><td>1393</td><td>2002-01-22</td><td>1</td></tr>\n",
       "\t<tr><td>1836</td><td>2004-11-03</td><td>1</td></tr>\n",
       "\t<tr><td>1947</td><td>2006-05-05</td><td>1</td></tr>\n",
       "\t<tr><td>2718</td><td>2012-05-29</td><td>1</td></tr>\n",
       "\t<tr><td>5071</td><td>2004-01-05</td><td>1</td></tr>\n",
       "\t<tr><td>5571</td><td>2004-06-22</td><td>1</td></tr>\n",
       "</tbody>\n",
       "</table>\n"
      ],
      "text/latex": [
       "A grouped\\_df: 6 × 3\n",
       "\\begin{tabular}{lll}\n",
       " person\\_id & date\\_angina\\_diagnosis & has\\_angina\\\\\n",
       " <int> & <date> & <int>\\\\\n",
       "\\hline\n",
       "\t 1393 & 2002-01-22 & 1\\\\\n",
       "\t 1836 & 2004-11-03 & 1\\\\\n",
       "\t 1947 & 2006-05-05 & 1\\\\\n",
       "\t 2718 & 2012-05-29 & 1\\\\\n",
       "\t 5071 & 2004-01-05 & 1\\\\\n",
       "\t 5571 & 2004-06-22 & 1\\\\\n",
       "\\end{tabular}\n"
      ],
      "text/markdown": [
       "\n",
       "A grouped_df: 6 × 3\n",
       "\n",
       "| person_id &lt;int&gt; | date_angina_diagnosis &lt;date&gt; | has_angina &lt;int&gt; |\n",
       "|---|---|---|\n",
       "| 1393 | 2002-01-22 | 1 |\n",
       "| 1836 | 2004-11-03 | 1 |\n",
       "| 1947 | 2006-05-05 | 1 |\n",
       "| 2718 | 2012-05-29 | 1 |\n",
       "| 5071 | 2004-01-05 | 1 |\n",
       "| 5571 | 2004-06-22 | 1 |\n",
       "\n"
      ],
      "text/plain": [
       "  person_id date_angina_diagnosis has_angina\n",
       "1 1393      2002-01-22            1         \n",
       "2 1836      2004-11-03            1         \n",
       "3 1947      2006-05-05            1         \n",
       "4 2718      2012-05-29            1         \n",
       "5 5071      2004-01-05            1         \n",
       "6 5571      2004-06-22            1         "
      ]
     },
     "metadata": {},
     "output_type": "display_data"
    },
    {
     "data": {
      "text/html": [
       "<table class=\"dataframe\">\n",
       "<caption>A grouped_df: 6 × 3</caption>\n",
       "<thead>\n",
       "\t<tr><th scope=col>person_id</th><th scope=col>date_cardiomyopathy_diagnosis</th><th scope=col>has_cardiomyopathy</th></tr>\n",
       "\t<tr><th scope=col>&lt;int&gt;</th><th scope=col>&lt;date&gt;</th><th scope=col>&lt;int&gt;</th></tr>\n",
       "</thead>\n",
       "<tbody>\n",
       "\t<tr><td> 5218</td><td>2009-12-01</td><td>1</td></tr>\n",
       "\t<tr><td> 6847</td><td>2021-06-02</td><td>1</td></tr>\n",
       "\t<tr><td>17269</td><td>2013-10-21</td><td>1</td></tr>\n",
       "\t<tr><td>18995</td><td>2005-05-11</td><td>1</td></tr>\n",
       "\t<tr><td>25173</td><td>2011-12-09</td><td>1</td></tr>\n",
       "\t<tr><td>33683</td><td>2007-10-12</td><td>1</td></tr>\n",
       "</tbody>\n",
       "</table>\n"
      ],
      "text/latex": [
       "A grouped\\_df: 6 × 3\n",
       "\\begin{tabular}{lll}\n",
       " person\\_id & date\\_cardiomyopathy\\_diagnosis & has\\_cardiomyopathy\\\\\n",
       " <int> & <date> & <int>\\\\\n",
       "\\hline\n",
       "\t  5218 & 2009-12-01 & 1\\\\\n",
       "\t  6847 & 2021-06-02 & 1\\\\\n",
       "\t 17269 & 2013-10-21 & 1\\\\\n",
       "\t 18995 & 2005-05-11 & 1\\\\\n",
       "\t 25173 & 2011-12-09 & 1\\\\\n",
       "\t 33683 & 2007-10-12 & 1\\\\\n",
       "\\end{tabular}\n"
      ],
      "text/markdown": [
       "\n",
       "A grouped_df: 6 × 3\n",
       "\n",
       "| person_id &lt;int&gt; | date_cardiomyopathy_diagnosis &lt;date&gt; | has_cardiomyopathy &lt;int&gt; |\n",
       "|---|---|---|\n",
       "|  5218 | 2009-12-01 | 1 |\n",
       "|  6847 | 2021-06-02 | 1 |\n",
       "| 17269 | 2013-10-21 | 1 |\n",
       "| 18995 | 2005-05-11 | 1 |\n",
       "| 25173 | 2011-12-09 | 1 |\n",
       "| 33683 | 2007-10-12 | 1 |\n",
       "\n"
      ],
      "text/plain": [
       "  person_id date_cardiomyopathy_diagnosis has_cardiomyopathy\n",
       "1  5218     2009-12-01                    1                 \n",
       "2  6847     2021-06-02                    1                 \n",
       "3 17269     2013-10-21                    1                 \n",
       "4 18995     2005-05-11                    1                 \n",
       "5 25173     2011-12-09                    1                 \n",
       "6 33683     2007-10-12                    1                 "
      ]
     },
     "metadata": {},
     "output_type": "display_data"
    }
   ],
   "source": [
    "head(angina)\n",
    "head(cardiomyopathy)"
   ]
  },
  {
   "cell_type": "code",
   "execution_count": 8,
   "id": "1cb6fba4-7302-4854-ab88-f29cecec339a",
   "metadata": {},
   "outputs": [],
   "source": [
    "# join all CVDs\n",
    "cvd <- full_join(angina, cardiomyopathy, by = \"person_id\")\n",
    "cvd <- full_join(cvd, heart_failure, by = \"person_id\")\n",
    "cvd <- full_join(cvd, hypertension, by = \"person_id\")\n",
    "cvd <- full_join(cvd, ihd, by = \"person_id\")\n",
    "cvd <- full_join(cvd, mi, by = \"person_id\")\n",
    "cvd <- full_join(cvd, pvd, by = \"person_id\")\n",
    "cvd <- full_join(cvd, stroke, by = \"person_id\")\n",
    "cvd <- full_join(cvd, valve_disease, by = \"person_id\")"
   ]
  },
  {
   "cell_type": "code",
   "execution_count": 9,
   "id": "84c93ef6-d877-4725-9e06-bd57f6c1a972",
   "metadata": {},
   "outputs": [
    {
     "data": {
      "text/html": [
       "<table class=\"dataframe\">\n",
       "<caption>A grouped_df: 6 × 19</caption>\n",
       "<thead>\n",
       "\t<tr><th scope=col>person_id</th><th scope=col>date_angina_diagnosis</th><th scope=col>has_angina</th><th scope=col>date_cardiomyopathy_diagnosis</th><th scope=col>has_cardiomyopathy</th><th scope=col>date_heart_failure_diagnosis</th><th scope=col>has_heart_failure</th><th scope=col>date_hypertension_diagnosis</th><th scope=col>has_hypertension</th><th scope=col>date_ihd_diagnosis</th><th scope=col>has_ihd</th><th scope=col>date_mi_diagnosis</th><th scope=col>has_mi</th><th scope=col>date_pvd_diagnosis</th><th scope=col>has_pvd</th><th scope=col>date_stroke_diagnosis</th><th scope=col>has_stroke</th><th scope=col>date_valve_disease_diagnosis</th><th scope=col>has_valve_disease</th></tr>\n",
       "\t<tr><th scope=col>&lt;int&gt;</th><th scope=col>&lt;date&gt;</th><th scope=col>&lt;int&gt;</th><th scope=col>&lt;date&gt;</th><th scope=col>&lt;int&gt;</th><th scope=col>&lt;date&gt;</th><th scope=col>&lt;int&gt;</th><th scope=col>&lt;date&gt;</th><th scope=col>&lt;int&gt;</th><th scope=col>&lt;date&gt;</th><th scope=col>&lt;int&gt;</th><th scope=col>&lt;date&gt;</th><th scope=col>&lt;int&gt;</th><th scope=col>&lt;date&gt;</th><th scope=col>&lt;int&gt;</th><th scope=col>&lt;date&gt;</th><th scope=col>&lt;int&gt;</th><th scope=col>&lt;date&gt;</th><th scope=col>&lt;int&gt;</th></tr>\n",
       "</thead>\n",
       "<tbody>\n",
       "\t<tr><td>1393</td><td>2002-01-22</td><td>1</td><td>NA</td><td>0</td><td>NA</td><td>0</td><td>NA</td><td>0</td><td>NA</td><td>0</td><td>NA</td><td>0</td><td>NA</td><td>0</td><td>NA</td><td>0</td><td>NA</td><td>0</td></tr>\n",
       "\t<tr><td>1836</td><td>2004-11-03</td><td>1</td><td>NA</td><td>0</td><td>NA</td><td>0</td><td>2002-06-14</td><td>1</td><td>NA</td><td>0</td><td>NA</td><td>0</td><td>NA</td><td>0</td><td>NA</td><td>0</td><td>NA</td><td>0</td></tr>\n",
       "\t<tr><td>1947</td><td>2006-05-05</td><td>1</td><td>NA</td><td>0</td><td>NA</td><td>0</td><td>NA</td><td>0</td><td>NA</td><td>0</td><td>NA</td><td>0</td><td>NA</td><td>0</td><td>NA</td><td>0</td><td>NA</td><td>0</td></tr>\n",
       "\t<tr><td>2718</td><td>2012-05-29</td><td>1</td><td>NA</td><td>0</td><td>NA</td><td>0</td><td>NA</td><td>0</td><td>NA</td><td>0</td><td>NA</td><td>0</td><td>NA</td><td>0</td><td>NA</td><td>0</td><td>NA</td><td>0</td></tr>\n",
       "\t<tr><td>5071</td><td>2004-01-05</td><td>1</td><td>NA</td><td>0</td><td>NA</td><td>0</td><td>2002-10-02</td><td>1</td><td>NA</td><td>0</td><td>NA</td><td>0</td><td>NA</td><td>0</td><td>NA</td><td>0</td><td>NA</td><td>0</td></tr>\n",
       "\t<tr><td>5571</td><td>2004-06-22</td><td>1</td><td>NA</td><td>0</td><td>NA</td><td>0</td><td>NA</td><td>0</td><td>NA</td><td>0</td><td>NA</td><td>0</td><td>NA</td><td>0</td><td>NA</td><td>0</td><td>NA</td><td>0</td></tr>\n",
       "</tbody>\n",
       "</table>\n"
      ],
      "text/latex": [
       "A grouped\\_df: 6 × 19\n",
       "\\begin{tabular}{lllllllllllllllllll}\n",
       " person\\_id & date\\_angina\\_diagnosis & has\\_angina & date\\_cardiomyopathy\\_diagnosis & has\\_cardiomyopathy & date\\_heart\\_failure\\_diagnosis & has\\_heart\\_failure & date\\_hypertension\\_diagnosis & has\\_hypertension & date\\_ihd\\_diagnosis & has\\_ihd & date\\_mi\\_diagnosis & has\\_mi & date\\_pvd\\_diagnosis & has\\_pvd & date\\_stroke\\_diagnosis & has\\_stroke & date\\_valve\\_disease\\_diagnosis & has\\_valve\\_disease\\\\\n",
       " <int> & <date> & <int> & <date> & <int> & <date> & <int> & <date> & <int> & <date> & <int> & <date> & <int> & <date> & <int> & <date> & <int> & <date> & <int>\\\\\n",
       "\\hline\n",
       "\t 1393 & 2002-01-22 & 1 & NA & 0 & NA & 0 & NA & 0 & NA & 0 & NA & 0 & NA & 0 & NA & 0 & NA & 0\\\\\n",
       "\t 1836 & 2004-11-03 & 1 & NA & 0 & NA & 0 & 2002-06-14 & 1 & NA & 0 & NA & 0 & NA & 0 & NA & 0 & NA & 0\\\\\n",
       "\t 1947 & 2006-05-05 & 1 & NA & 0 & NA & 0 & NA & 0 & NA & 0 & NA & 0 & NA & 0 & NA & 0 & NA & 0\\\\\n",
       "\t 2718 & 2012-05-29 & 1 & NA & 0 & NA & 0 & NA & 0 & NA & 0 & NA & 0 & NA & 0 & NA & 0 & NA & 0\\\\\n",
       "\t 5071 & 2004-01-05 & 1 & NA & 0 & NA & 0 & 2002-10-02 & 1 & NA & 0 & NA & 0 & NA & 0 & NA & 0 & NA & 0\\\\\n",
       "\t 5571 & 2004-06-22 & 1 & NA & 0 & NA & 0 & NA & 0 & NA & 0 & NA & 0 & NA & 0 & NA & 0 & NA & 0\\\\\n",
       "\\end{tabular}\n"
      ],
      "text/markdown": [
       "\n",
       "A grouped_df: 6 × 19\n",
       "\n",
       "| person_id &lt;int&gt; | date_angina_diagnosis &lt;date&gt; | has_angina &lt;int&gt; | date_cardiomyopathy_diagnosis &lt;date&gt; | has_cardiomyopathy &lt;int&gt; | date_heart_failure_diagnosis &lt;date&gt; | has_heart_failure &lt;int&gt; | date_hypertension_diagnosis &lt;date&gt; | has_hypertension &lt;int&gt; | date_ihd_diagnosis &lt;date&gt; | has_ihd &lt;int&gt; | date_mi_diagnosis &lt;date&gt; | has_mi &lt;int&gt; | date_pvd_diagnosis &lt;date&gt; | has_pvd &lt;int&gt; | date_stroke_diagnosis &lt;date&gt; | has_stroke &lt;int&gt; | date_valve_disease_diagnosis &lt;date&gt; | has_valve_disease &lt;int&gt; |\n",
       "|---|---|---|---|---|---|---|---|---|---|---|---|---|---|---|---|---|---|---|\n",
       "| 1393 | 2002-01-22 | 1 | NA | 0 | NA | 0 | NA | 0 | NA | 0 | NA | 0 | NA | 0 | NA | 0 | NA | 0 |\n",
       "| 1836 | 2004-11-03 | 1 | NA | 0 | NA | 0 | 2002-06-14 | 1 | NA | 0 | NA | 0 | NA | 0 | NA | 0 | NA | 0 |\n",
       "| 1947 | 2006-05-05 | 1 | NA | 0 | NA | 0 | NA | 0 | NA | 0 | NA | 0 | NA | 0 | NA | 0 | NA | 0 |\n",
       "| 2718 | 2012-05-29 | 1 | NA | 0 | NA | 0 | NA | 0 | NA | 0 | NA | 0 | NA | 0 | NA | 0 | NA | 0 |\n",
       "| 5071 | 2004-01-05 | 1 | NA | 0 | NA | 0 | 2002-10-02 | 1 | NA | 0 | NA | 0 | NA | 0 | NA | 0 | NA | 0 |\n",
       "| 5571 | 2004-06-22 | 1 | NA | 0 | NA | 0 | NA | 0 | NA | 0 | NA | 0 | NA | 0 | NA | 0 | NA | 0 |\n",
       "\n"
      ],
      "text/plain": [
       "  person_id date_angina_diagnosis has_angina date_cardiomyopathy_diagnosis\n",
       "1 1393      2002-01-22            1          <NA>                         \n",
       "2 1836      2004-11-03            1          <NA>                         \n",
       "3 1947      2006-05-05            1          <NA>                         \n",
       "4 2718      2012-05-29            1          <NA>                         \n",
       "5 5071      2004-01-05            1          <NA>                         \n",
       "6 5571      2004-06-22            1          <NA>                         \n",
       "  has_cardiomyopathy date_heart_failure_diagnosis has_heart_failure\n",
       "1 0                  <NA>                         0                \n",
       "2 0                  <NA>                         0                \n",
       "3 0                  <NA>                         0                \n",
       "4 0                  <NA>                         0                \n",
       "5 0                  <NA>                         0                \n",
       "6 0                  <NA>                         0                \n",
       "  date_hypertension_diagnosis has_hypertension date_ihd_diagnosis has_ihd\n",
       "1 <NA>                        0                <NA>               0      \n",
       "2 2002-06-14                  1                <NA>               0      \n",
       "3 <NA>                        0                <NA>               0      \n",
       "4 <NA>                        0                <NA>               0      \n",
       "5 2002-10-02                  1                <NA>               0      \n",
       "6 <NA>                        0                <NA>               0      \n",
       "  date_mi_diagnosis has_mi date_pvd_diagnosis has_pvd date_stroke_diagnosis\n",
       "1 <NA>              0      <NA>               0       <NA>                 \n",
       "2 <NA>              0      <NA>               0       <NA>                 \n",
       "3 <NA>              0      <NA>               0       <NA>                 \n",
       "4 <NA>              0      <NA>               0       <NA>                 \n",
       "5 <NA>              0      <NA>               0       <NA>                 \n",
       "6 <NA>              0      <NA>               0       <NA>                 \n",
       "  has_stroke date_valve_disease_diagnosis has_valve_disease\n",
       "1 0          <NA>                         0                \n",
       "2 0          <NA>                         0                \n",
       "3 0          <NA>                         0                \n",
       "4 0          <NA>                         0                \n",
       "5 0          <NA>                         0                \n",
       "6 0          <NA>                         0                "
      ]
     },
     "metadata": {},
     "output_type": "display_data"
    }
   ],
   "source": [
    "cvd <- cvd %>%\n",
    "    mutate_at(c('has_angina','has_cardiomyopathy', 'has_heart_failure', 'has_hypertension', 'has_ihd','has_mi', 'has_pvd', 'has_stroke', 'has_valve_disease'), ~replace_na(.,0))\n",
    "head(cvd)"
   ]
  },
  {
   "cell_type": "code",
   "execution_count": 10,
   "id": "00d94fd2-388f-4b26-8f6a-192748606a93",
   "metadata": {},
   "outputs": [
    {
     "data": {
      "text/html": [
       "95785"
      ],
      "text/latex": [
       "95785"
      ],
      "text/markdown": [
       "95785"
      ],
      "text/plain": [
       "[1] 95785"
      ]
     },
     "metadata": {},
     "output_type": "display_data"
    }
   ],
   "source": [
    "nrow(cvd)"
   ]
  },
  {
   "cell_type": "code",
   "execution_count": 11,
   "id": "7475fa52-1a4e-490a-82a0-2525d22606e1",
   "metadata": {},
   "outputs": [
    {
     "data": {
      "text/html": [
       "0"
      ],
      "text/latex": [
       "0"
      ],
      "text/markdown": [
       "0"
      ],
      "text/plain": [
       "[1] 0"
      ]
     },
     "metadata": {},
     "output_type": "display_data"
    }
   ],
   "source": [
    "sum(duplicated(cvd))"
   ]
  },
  {
   "cell_type": "code",
   "execution_count": 12,
   "id": "75c15fd9-e0b7-4a82-a136-1ccec4cbd389",
   "metadata": {},
   "outputs": [
    {
     "name": "stderr",
     "output_type": "stream",
     "text": [
      "Auto-refreshing stale OAuth token.\n",
      "\n"
     ]
    }
   ],
   "source": [
    "# save dataset\n",
    "# set destination table - do this regardless of whether it already exists\n",
    "dest_dataset <- bq_dataset(\"yhcr-prd-phm-bia-core\",\"CB_MYSPACE_AH\")\n",
    "dest_table <- bq_table(dest_dataset, \"All_CVD_First_Occurrence\")\n",
    "\n",
    "# create a full table spec as follows\n",
    "# then pass this to bq_table_upload\n",
    "dest_fields <- bq_fields(list(bq_field(\"person_id\", \"INT64\", \"REQUIRED\"),\n",
    "                              bq_field(\"date_angina_diagnosis\", \"DATE\"),\n",
    "                              bq_field(\"has_angina\", \"INT64\"),\n",
    "                              bq_field(\"date_cardiomyopathy_diagnosis\", \"DATE\"),\n",
    "                              bq_field(\"has_cardiomyopathy\", \"INT64\"),\n",
    "                              bq_field(\"date_heart_failure_diagnosis\", \"DATE\"),\n",
    "                              bq_field(\"has_heart_failure\", \"INT64\"),\n",
    "                              bq_field(\"date_hypertension_diagnosis\", \"DATE\"),\n",
    "                              bq_field(\"has_hypertension\", \"INT64\"),\n",
    "                              bq_field(\"date_ihd_diagnosis\", \"DATE\"),\n",
    "                              bq_field(\"has_ihd\", \"INT64\"),\n",
    "                              bq_field(\"date_mi_diagnosis\", \"DATE\"),\n",
    "                              bq_field(\"has_mi\", \"INT64\"),\n",
    "                              bq_field(\"date_pvd_diagnosis\", \"DATE\"),\n",
    "                              bq_field(\"has_pvd\", \"INT64\"),\n",
    "                              bq_field(\"date_stroke_diagnosis\", \"DATE\"),\n",
    "                              bq_field(\"has_stroke\", \"INT64\"),\n",
    "                              bq_field(\"date_valve_disease_diagnosis\", \"DATE\"),\n",
    "                              bq_field(\"has_valve_disease\", \"INT64\")))\n",
    "\n",
    "# delete an existing table if necessary\n",
    "if(bq_table_exists(dest_table)) bq_table_delete(dest_table)\n",
    "# upload file_data to dest_table\n",
    "bq_table_upload(dest_table, cvd, fields = dest_fields, create_disposition='CREATE_IF_NEEDED', write_disposition='WRITE_TRUNCATE')"
   ]
  },
  {
   "cell_type": "code",
   "execution_count": null,
   "id": "bfc15bad-0b82-4dc2-900c-90da14d662b9",
   "metadata": {},
   "outputs": [],
   "source": []
  }
 ],
 "metadata": {
  "environment": {
   "kernel": "ir",
   "name": "r-cpu.4-2.m111",
   "type": "gcloud",
   "uri": "gcr.io/deeplearning-platform-release/r-cpu.4-2:m111"
  },
  "kernelspec": {
   "display_name": "R",
   "language": "R",
   "name": "ir"
  },
  "language_info": {
   "codemirror_mode": "r",
   "file_extension": ".r",
   "mimetype": "text/x-r-source",
   "name": "R",
   "pygments_lexer": "r",
   "version": "4.3.1"
  }
 },
 "nbformat": 4,
 "nbformat_minor": 5
}
