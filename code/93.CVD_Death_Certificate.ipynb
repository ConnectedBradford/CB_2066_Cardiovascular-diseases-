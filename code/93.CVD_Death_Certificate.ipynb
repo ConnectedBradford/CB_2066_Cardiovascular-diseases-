{
 "cells": [
  {
   "cell_type": "code",
   "execution_count": 1,
   "id": "3d267ab0-b7e2-41e9-8d92-4c25b966f8ed",
   "metadata": {},
   "outputs": [
    {
     "name": "stderr",
     "output_type": "stream",
     "text": [
      "── \u001b[1mAttaching core tidyverse packages\u001b[22m ──────────────────────── tidyverse 2.0.0 ──\n",
      "\u001b[32m✔\u001b[39m \u001b[34mdplyr    \u001b[39m 1.1.2     \u001b[32m✔\u001b[39m \u001b[34mreadr    \u001b[39m 2.1.4\n",
      "\u001b[32m✔\u001b[39m \u001b[34mforcats  \u001b[39m 1.0.0     \u001b[32m✔\u001b[39m \u001b[34mstringr  \u001b[39m 1.5.0\n",
      "\u001b[32m✔\u001b[39m \u001b[34mggplot2  \u001b[39m 3.4.4     \u001b[32m✔\u001b[39m \u001b[34mtibble   \u001b[39m 3.2.1\n",
      "\u001b[32m✔\u001b[39m \u001b[34mlubridate\u001b[39m 1.9.2     \u001b[32m✔\u001b[39m \u001b[34mtidyr    \u001b[39m 1.3.0\n",
      "\u001b[32m✔\u001b[39m \u001b[34mpurrr    \u001b[39m 1.0.2     \n",
      "── \u001b[1mConflicts\u001b[22m ────────────────────────────────────────── tidyverse_conflicts() ──\n",
      "\u001b[31m✖\u001b[39m \u001b[34mdplyr\u001b[39m::\u001b[32mfilter()\u001b[39m masks \u001b[34mstats\u001b[39m::filter()\n",
      "\u001b[31m✖\u001b[39m \u001b[34mdplyr\u001b[39m::\u001b[32mlag()\u001b[39m    masks \u001b[34mstats\u001b[39m::lag()\n",
      "\u001b[36mℹ\u001b[39m Use the conflicted package (\u001b[3m\u001b[34m<http://conflicted.r-lib.org/>\u001b[39m\u001b[23m) to force all conflicts to become errors\n"
     ]
    }
   ],
   "source": [
    "library(bigrquery)\n",
    "library(tidyverse)"
   ]
  },
  {
   "cell_type": "code",
   "execution_count": 2,
   "id": "501aa969-e587-4653-b81a-69d89d1d5e4d",
   "metadata": {},
   "outputs": [],
   "source": [
    "# Store the project ID\n",
    "projectid = \"yhcr-prd-phm-bia-core\""
   ]
  },
  {
   "cell_type": "code",
   "execution_count": 3,
   "id": "ad57251d-725c-4296-973c-4c0ec5ffbdc3",
   "metadata": {},
   "outputs": [],
   "source": [
    "# load diabetes and cvd tables\n",
    "# Diabetes\n",
    "sql1 <- \"SELECT *  FROM `yhcr-prd-phm-bia-core.CB_MYSPACE_AH.Diabetes`\"\n",
    "tb1 <- bq_project_query(projectid, sql1)\n",
    "diabetes <-bq_table_download(tb1)\n",
    "\n",
    "# CVD\n",
    "sql2 <- \"SELECT *  FROM `yhcr-prd-phm-bia-core.CB_MYSPACE_AH.All_CVD_First_Occurrence`\"\n",
    "tb2 <- bq_project_query(projectid, sql2)\n",
    "cvd <-bq_table_download(tb2)\n",
    "\n",
    "# Patient table\n",
    "sql3 <- \"SELECT * FROM `yhcr-prd-phm-bia-core.CB_MYSPACE_AH.Patient_Denom`\"\n",
    "tb3 <- bq_project_query(projectid, sql3)\n",
    "patient <- bq_table_download(tb3)"
   ]
  },
  {
   "cell_type": "code",
   "execution_count": null,
   "id": "f6864b7d-eabb-49f3-a695-a4ba567696fc",
   "metadata": {},
   "outputs": [
    {
     "name": "stderr",
     "output_type": "stream",
     "text": [
      "\u001b[1m\u001b[22mNew names:\n",
      "\u001b[36m•\u001b[39m `` -> `...1`\n",
      "Warning message:\n",
      "“\u001b[1m\u001b[22mOne or more parsing issues, call `problems()` on your data frame for details,\n",
      "e.g.:\n",
      "  dat <- vroom(...)\n",
      "  problems(dat)”\n",
      "\u001b[1mRows: \u001b[22m\u001b[34m784186\u001b[39m \u001b[1mColumns: \u001b[22m\u001b[34m31\u001b[39m\n",
      "\u001b[36m──\u001b[39m \u001b[1mColumn specification\u001b[22m \u001b[36m────────────────────────────────────────────────────────\u001b[39m\n",
      "\u001b[1mDelimiter:\u001b[22m \",\"\n",
      "\u001b[32mdbl\u001b[39m  (20): ...1, person_id, gender, ethnicity, imd_decile, cholesterol, bmi,...\n",
      "\u001b[33mlgl\u001b[39m   (4): date_cholesterol, closest_cholesterol, date_egfr, closest_egfr\n",
      "\u001b[34mdate\u001b[39m  (7): birth_datetime, death_datetime, date_bmi, date_smoking, date_bp, ...\n",
      "\n",
      "\u001b[36mℹ\u001b[39m Use `spec()` to retrieve the full column specification for this data.\n",
      "\u001b[36mℹ\u001b[39m Specify the column types or set `show_col_types = FALSE` to quiet this message.\n"
     ]
    }
   ],
   "source": [
    "covars <- read_csv(\"/home/jupyter/T2D_CVD_Study/Patient_Covariates_Table.csv\")\n",
    "covars <- covars %>% select(-'...1', -birth_datetime, -gender, -imd_decile, -ethnicity)"
   ]
  },
  {
   "cell_type": "code",
   "execution_count": 5,
   "id": "f9620daf-a73c-48a1-909c-9d1da5e69a5e",
   "metadata": {},
   "outputs": [
    {
     "name": "stderr",
     "output_type": "stream",
     "text": [
      "\u001b[1m\u001b[22mJoining with `by = join_by(person_id)`\n"
     ]
    },
    {
     "data": {
      "text/html": [
       "<table class=\"dataframe\">\n",
       "<caption>A tibble: 6 × 30</caption>\n",
       "<thead>\n",
       "\t<tr><th scope=col>person_id</th><th scope=col>age_t1d_diag</th><th scope=col>date_t1d_diag</th><th scope=col>t1d_status</th><th scope=col>age_t2d_diag</th><th scope=col>date_t2d_diag</th><th scope=col>t2d_status</th><th scope=col>age_earliest_diab</th><th scope=col>earliest_diabetes_diag</th><th scope=col>any_diabetes</th><th scope=col>⋯</th><th scope=col>date_ihd_diagnosis</th><th scope=col>has_ihd</th><th scope=col>date_mi_diagnosis</th><th scope=col>has_mi</th><th scope=col>date_pvd_diagnosis</th><th scope=col>has_pvd</th><th scope=col>date_stroke_diagnosis</th><th scope=col>has_stroke</th><th scope=col>date_valve_disease_diagnosis</th><th scope=col>has_valve_disease</th></tr>\n",
       "\t<tr><th scope=col>&lt;int&gt;</th><th scope=col>&lt;int&gt;</th><th scope=col>&lt;date&gt;</th><th scope=col>&lt;int&gt;</th><th scope=col>&lt;int&gt;</th><th scope=col>&lt;date&gt;</th><th scope=col>&lt;int&gt;</th><th scope=col>&lt;int&gt;</th><th scope=col>&lt;date&gt;</th><th scope=col>&lt;int&gt;</th><th scope=col>⋯</th><th scope=col>&lt;date&gt;</th><th scope=col>&lt;int&gt;</th><th scope=col>&lt;date&gt;</th><th scope=col>&lt;int&gt;</th><th scope=col>&lt;date&gt;</th><th scope=col>&lt;int&gt;</th><th scope=col>&lt;date&gt;</th><th scope=col>&lt;int&gt;</th><th scope=col>&lt;date&gt;</th><th scope=col>&lt;int&gt;</th></tr>\n",
       "</thead>\n",
       "<tbody>\n",
       "\t<tr><td>13548546</td><td>60</td><td>2007-01-11</td><td>1</td><td>NA</td><td>NA</td><td>0</td><td>60</td><td>2007-01-11</td><td>1</td><td>⋯</td><td>NA</td><td>0</td><td>NA</td><td>0</td><td>NA</td><td>0</td><td>NA</td><td>0</td><td>NA</td><td>0</td></tr>\n",
       "\t<tr><td>12975170</td><td>80</td><td>2020-04-28</td><td>1</td><td>NA</td><td>NA</td><td>0</td><td>80</td><td>2020-04-28</td><td>1</td><td>⋯</td><td>NA</td><td>0</td><td>NA</td><td>0</td><td>NA</td><td>0</td><td>2013-03-05</td><td>1</td><td>NA</td><td>0</td></tr>\n",
       "\t<tr><td>13450523</td><td>36</td><td>2011-10-13</td><td>1</td><td>NA</td><td>NA</td><td>0</td><td>36</td><td>2011-10-13</td><td>1</td><td>⋯</td><td>NA</td><td>0</td><td>NA</td><td>0</td><td>NA</td><td>0</td><td>NA</td><td>0</td><td>NA</td><td>0</td></tr>\n",
       "\t<tr><td>12431500</td><td>75</td><td>2011-08-16</td><td>1</td><td>NA</td><td>NA</td><td>0</td><td>75</td><td>2011-08-16</td><td>1</td><td>⋯</td><td>2012-04-03</td><td>1</td><td>NA</td><td>0</td><td>NA</td><td>0</td><td>NA</td><td>0</td><td>NA</td><td>0</td></tr>\n",
       "\t<tr><td>13235332</td><td>47</td><td>2007-07-05</td><td>1</td><td>NA</td><td>NA</td><td>0</td><td>47</td><td>2007-07-05</td><td>1</td><td>⋯</td><td>NA</td><td>0</td><td>NA</td><td>0</td><td>NA</td><td>0</td><td>NA</td><td>0</td><td>NA</td><td>0</td></tr>\n",
       "\t<tr><td>12805324</td><td>39</td><td>2008-04-08</td><td>1</td><td>NA</td><td>NA</td><td>0</td><td>39</td><td>2008-04-08</td><td>1</td><td>⋯</td><td>NA</td><td>0</td><td>NA</td><td>0</td><td>NA</td><td>0</td><td>NA</td><td>0</td><td>NA</td><td>0</td></tr>\n",
       "</tbody>\n",
       "</table>\n"
      ],
      "text/latex": [
       "A tibble: 6 × 30\n",
       "\\begin{tabular}{lllllllllllllllllllll}\n",
       " person\\_id & age\\_t1d\\_diag & date\\_t1d\\_diag & t1d\\_status & age\\_t2d\\_diag & date\\_t2d\\_diag & t2d\\_status & age\\_earliest\\_diab & earliest\\_diabetes\\_diag & any\\_diabetes & ⋯ & date\\_ihd\\_diagnosis & has\\_ihd & date\\_mi\\_diagnosis & has\\_mi & date\\_pvd\\_diagnosis & has\\_pvd & date\\_stroke\\_diagnosis & has\\_stroke & date\\_valve\\_disease\\_diagnosis & has\\_valve\\_disease\\\\\n",
       " <int> & <int> & <date> & <int> & <int> & <date> & <int> & <int> & <date> & <int> & ⋯ & <date> & <int> & <date> & <int> & <date> & <int> & <date> & <int> & <date> & <int>\\\\\n",
       "\\hline\n",
       "\t 13548546 & 60 & 2007-01-11 & 1 & NA & NA & 0 & 60 & 2007-01-11 & 1 & ⋯ & NA & 0 & NA & 0 & NA & 0 & NA & 0 & NA & 0\\\\\n",
       "\t 12975170 & 80 & 2020-04-28 & 1 & NA & NA & 0 & 80 & 2020-04-28 & 1 & ⋯ & NA & 0 & NA & 0 & NA & 0 & 2013-03-05 & 1 & NA & 0\\\\\n",
       "\t 13450523 & 36 & 2011-10-13 & 1 & NA & NA & 0 & 36 & 2011-10-13 & 1 & ⋯ & NA & 0 & NA & 0 & NA & 0 & NA & 0 & NA & 0\\\\\n",
       "\t 12431500 & 75 & 2011-08-16 & 1 & NA & NA & 0 & 75 & 2011-08-16 & 1 & ⋯ & 2012-04-03 & 1 & NA & 0 & NA & 0 & NA & 0 & NA & 0\\\\\n",
       "\t 13235332 & 47 & 2007-07-05 & 1 & NA & NA & 0 & 47 & 2007-07-05 & 1 & ⋯ & NA & 0 & NA & 0 & NA & 0 & NA & 0 & NA & 0\\\\\n",
       "\t 12805324 & 39 & 2008-04-08 & 1 & NA & NA & 0 & 39 & 2008-04-08 & 1 & ⋯ & NA & 0 & NA & 0 & NA & 0 & NA & 0 & NA & 0\\\\\n",
       "\\end{tabular}\n"
      ],
      "text/markdown": [
       "\n",
       "A tibble: 6 × 30\n",
       "\n",
       "| person_id &lt;int&gt; | age_t1d_diag &lt;int&gt; | date_t1d_diag &lt;date&gt; | t1d_status &lt;int&gt; | age_t2d_diag &lt;int&gt; | date_t2d_diag &lt;date&gt; | t2d_status &lt;int&gt; | age_earliest_diab &lt;int&gt; | earliest_diabetes_diag &lt;date&gt; | any_diabetes &lt;int&gt; | ⋯ ⋯ | date_ihd_diagnosis &lt;date&gt; | has_ihd &lt;int&gt; | date_mi_diagnosis &lt;date&gt; | has_mi &lt;int&gt; | date_pvd_diagnosis &lt;date&gt; | has_pvd &lt;int&gt; | date_stroke_diagnosis &lt;date&gt; | has_stroke &lt;int&gt; | date_valve_disease_diagnosis &lt;date&gt; | has_valve_disease &lt;int&gt; |\n",
       "|---|---|---|---|---|---|---|---|---|---|---|---|---|---|---|---|---|---|---|---|---|\n",
       "| 13548546 | 60 | 2007-01-11 | 1 | NA | NA | 0 | 60 | 2007-01-11 | 1 | ⋯ | NA | 0 | NA | 0 | NA | 0 | NA | 0 | NA | 0 |\n",
       "| 12975170 | 80 | 2020-04-28 | 1 | NA | NA | 0 | 80 | 2020-04-28 | 1 | ⋯ | NA | 0 | NA | 0 | NA | 0 | 2013-03-05 | 1 | NA | 0 |\n",
       "| 13450523 | 36 | 2011-10-13 | 1 | NA | NA | 0 | 36 | 2011-10-13 | 1 | ⋯ | NA | 0 | NA | 0 | NA | 0 | NA | 0 | NA | 0 |\n",
       "| 12431500 | 75 | 2011-08-16 | 1 | NA | NA | 0 | 75 | 2011-08-16 | 1 | ⋯ | 2012-04-03 | 1 | NA | 0 | NA | 0 | NA | 0 | NA | 0 |\n",
       "| 13235332 | 47 | 2007-07-05 | 1 | NA | NA | 0 | 47 | 2007-07-05 | 1 | ⋯ | NA | 0 | NA | 0 | NA | 0 | NA | 0 | NA | 0 |\n",
       "| 12805324 | 39 | 2008-04-08 | 1 | NA | NA | 0 | 39 | 2008-04-08 | 1 | ⋯ | NA | 0 | NA | 0 | NA | 0 | NA | 0 | NA | 0 |\n",
       "\n"
      ],
      "text/plain": [
       "  person_id age_t1d_diag date_t1d_diag t1d_status age_t2d_diag date_t2d_diag\n",
       "1 13548546  60           2007-01-11    1          NA           <NA>         \n",
       "2 12975170  80           2020-04-28    1          NA           <NA>         \n",
       "3 13450523  36           2011-10-13    1          NA           <NA>         \n",
       "4 12431500  75           2011-08-16    1          NA           <NA>         \n",
       "5 13235332  47           2007-07-05    1          NA           <NA>         \n",
       "6 12805324  39           2008-04-08    1          NA           <NA>         \n",
       "  t2d_status age_earliest_diab earliest_diabetes_diag any_diabetes ⋯\n",
       "1 0          60                2007-01-11             1            ⋯\n",
       "2 0          80                2020-04-28             1            ⋯\n",
       "3 0          36                2011-10-13             1            ⋯\n",
       "4 0          75                2011-08-16             1            ⋯\n",
       "5 0          47                2007-07-05             1            ⋯\n",
       "6 0          39                2008-04-08             1            ⋯\n",
       "  date_ihd_diagnosis has_ihd date_mi_diagnosis has_mi date_pvd_diagnosis\n",
       "1 <NA>               0       <NA>              0      <NA>              \n",
       "2 <NA>               0       <NA>              0      <NA>              \n",
       "3 <NA>               0       <NA>              0      <NA>              \n",
       "4 2012-04-03         1       <NA>              0      <NA>              \n",
       "5 <NA>               0       <NA>              0      <NA>              \n",
       "6 <NA>               0       <NA>              0      <NA>              \n",
       "  has_pvd date_stroke_diagnosis has_stroke date_valve_disease_diagnosis\n",
       "1 0       <NA>                  0          <NA>                        \n",
       "2 0       2013-03-05            1          <NA>                        \n",
       "3 0       <NA>                  0          <NA>                        \n",
       "4 0       <NA>                  0          <NA>                        \n",
       "5 0       <NA>                  0          <NA>                        \n",
       "6 0       <NA>                  0          <NA>                        \n",
       "  has_valve_disease\n",
       "1 0                \n",
       "2 0                \n",
       "3 0                \n",
       "4 0                \n",
       "5 0                \n",
       "6 0                "
      ]
     },
     "metadata": {},
     "output_type": "display_data"
    },
    {
     "data": {
      "text/html": [
       "0"
      ],
      "text/latex": [
       "0"
      ],
      "text/markdown": [
       "0"
      ],
      "text/plain": [
       "[1] 0"
      ]
     },
     "metadata": {},
     "output_type": "display_data"
    },
    {
     "data": {
      "text/html": [
       "0"
      ],
      "text/latex": [
       "0"
      ],
      "text/markdown": [
       "0"
      ],
      "text/plain": [
       "[1] 0"
      ]
     },
     "metadata": {},
     "output_type": "display_data"
    }
   ],
   "source": [
    "# join cvd and diabetes\n",
    "dc <- left_join(diabetes, cvd)\n",
    "dc <- dc %>%\n",
    "    mutate_at(c('t1d_status', 't2d_status', 'any_diabetes', 'has_angina','has_cardiomyopathy', 'has_heart_failure', 'has_hypertension', 'has_ihd','has_mi', 'has_pvd', 'has_stroke', 'has_valve_disease'), ~replace_na(.,0))\n",
    "head(dc)\n",
    "sum(duplicated(dc))\n",
    "sum(duplicated(dc$person_id))"
   ]
  },
  {
   "cell_type": "code",
   "execution_count": 6,
   "id": "48d307ba-c006-4e88-bf70-639322689ee8",
   "metadata": {},
   "outputs": [
    {
     "data": {
      "text/html": [
       "<table class=\"dataframe\">\n",
       "<caption>A tibble: 6 × 35</caption>\n",
       "<thead>\n",
       "\t<tr><th scope=col>person_id</th><th scope=col>age_t1d_diag</th><th scope=col>date_t1d_diag</th><th scope=col>t1d_status</th><th scope=col>age_t2d_diag</th><th scope=col>date_t2d_diag</th><th scope=col>t2d_status</th><th scope=col>age_earliest_diab</th><th scope=col>earliest_diabetes_diag</th><th scope=col>any_diabetes</th><th scope=col>⋯</th><th scope=col>has_pvd</th><th scope=col>date_stroke_diagnosis</th><th scope=col>has_stroke</th><th scope=col>date_valve_disease_diagnosis</th><th scope=col>has_valve_disease</th><th scope=col>birth_datetime</th><th scope=col>death_datetime</th><th scope=col>gender</th><th scope=col>ethnicity</th><th scope=col>imd_decile</th></tr>\n",
       "\t<tr><th scope=col>&lt;int&gt;</th><th scope=col>&lt;int&gt;</th><th scope=col>&lt;date&gt;</th><th scope=col>&lt;int&gt;</th><th scope=col>&lt;int&gt;</th><th scope=col>&lt;date&gt;</th><th scope=col>&lt;int&gt;</th><th scope=col>&lt;int&gt;</th><th scope=col>&lt;date&gt;</th><th scope=col>&lt;int&gt;</th><th scope=col>⋯</th><th scope=col>&lt;int&gt;</th><th scope=col>&lt;date&gt;</th><th scope=col>&lt;int&gt;</th><th scope=col>&lt;date&gt;</th><th scope=col>&lt;int&gt;</th><th scope=col>&lt;date&gt;</th><th scope=col>&lt;date&gt;</th><th scope=col>&lt;int&gt;</th><th scope=col>&lt;int&gt;</th><th scope=col>&lt;int&gt;</th></tr>\n",
       "</thead>\n",
       "<tbody>\n",
       "\t<tr><td>13548546</td><td>60</td><td>2007-01-11</td><td>1</td><td>NA</td><td>NA</td><td>0</td><td>60</td><td>2007-01-11</td><td>1</td><td>⋯</td><td>0</td><td>NA</td><td>0</td><td>NA</td><td>0</td><td>1946-11-15</td><td>2008-07-15</td><td>1</td><td>1</td><td>5</td></tr>\n",
       "\t<tr><td>12975170</td><td>80</td><td>2020-04-28</td><td>1</td><td>NA</td><td>NA</td><td>0</td><td>80</td><td>2020-04-28</td><td>1</td><td>⋯</td><td>0</td><td>2013-03-05</td><td>1</td><td>NA</td><td>0</td><td>1939-11-15</td><td>2020-05-15</td><td>1</td><td>1</td><td>1</td></tr>\n",
       "\t<tr><td>13450523</td><td>36</td><td>2011-10-13</td><td>1</td><td>NA</td><td>NA</td><td>0</td><td>36</td><td>2011-10-13</td><td>1</td><td>⋯</td><td>0</td><td>NA</td><td>0</td><td>NA</td><td>0</td><td>1975-08-15</td><td>2018-12-15</td><td>1</td><td>1</td><td>4</td></tr>\n",
       "\t<tr><td>12431500</td><td>75</td><td>2011-08-16</td><td>1</td><td>NA</td><td>NA</td><td>0</td><td>75</td><td>2011-08-16</td><td>1</td><td>⋯</td><td>0</td><td>NA</td><td>0</td><td>NA</td><td>0</td><td>1936-05-15</td><td>2013-01-15</td><td>1</td><td>1</td><td>1</td></tr>\n",
       "\t<tr><td>13235332</td><td>47</td><td>2007-07-05</td><td>1</td><td>NA</td><td>NA</td><td>0</td><td>47</td><td>2007-07-05</td><td>1</td><td>⋯</td><td>0</td><td>NA</td><td>0</td><td>NA</td><td>0</td><td>1960-03-15</td><td>2013-09-15</td><td>1</td><td>1</td><td>1</td></tr>\n",
       "\t<tr><td>12805324</td><td>39</td><td>2008-04-08</td><td>1</td><td>NA</td><td>NA</td><td>0</td><td>39</td><td>2008-04-08</td><td>1</td><td>⋯</td><td>0</td><td>NA</td><td>0</td><td>NA</td><td>0</td><td>1968-08-15</td><td>2017-03-15</td><td>1</td><td>2</td><td>1</td></tr>\n",
       "</tbody>\n",
       "</table>\n"
      ],
      "text/latex": [
       "A tibble: 6 × 35\n",
       "\\begin{tabular}{lllllllllllllllllllll}\n",
       " person\\_id & age\\_t1d\\_diag & date\\_t1d\\_diag & t1d\\_status & age\\_t2d\\_diag & date\\_t2d\\_diag & t2d\\_status & age\\_earliest\\_diab & earliest\\_diabetes\\_diag & any\\_diabetes & ⋯ & has\\_pvd & date\\_stroke\\_diagnosis & has\\_stroke & date\\_valve\\_disease\\_diagnosis & has\\_valve\\_disease & birth\\_datetime & death\\_datetime & gender & ethnicity & imd\\_decile\\\\\n",
       " <int> & <int> & <date> & <int> & <int> & <date> & <int> & <int> & <date> & <int> & ⋯ & <int> & <date> & <int> & <date> & <int> & <date> & <date> & <int> & <int> & <int>\\\\\n",
       "\\hline\n",
       "\t 13548546 & 60 & 2007-01-11 & 1 & NA & NA & 0 & 60 & 2007-01-11 & 1 & ⋯ & 0 & NA & 0 & NA & 0 & 1946-11-15 & 2008-07-15 & 1 & 1 & 5\\\\\n",
       "\t 12975170 & 80 & 2020-04-28 & 1 & NA & NA & 0 & 80 & 2020-04-28 & 1 & ⋯ & 0 & 2013-03-05 & 1 & NA & 0 & 1939-11-15 & 2020-05-15 & 1 & 1 & 1\\\\\n",
       "\t 13450523 & 36 & 2011-10-13 & 1 & NA & NA & 0 & 36 & 2011-10-13 & 1 & ⋯ & 0 & NA & 0 & NA & 0 & 1975-08-15 & 2018-12-15 & 1 & 1 & 4\\\\\n",
       "\t 12431500 & 75 & 2011-08-16 & 1 & NA & NA & 0 & 75 & 2011-08-16 & 1 & ⋯ & 0 & NA & 0 & NA & 0 & 1936-05-15 & 2013-01-15 & 1 & 1 & 1\\\\\n",
       "\t 13235332 & 47 & 2007-07-05 & 1 & NA & NA & 0 & 47 & 2007-07-05 & 1 & ⋯ & 0 & NA & 0 & NA & 0 & 1960-03-15 & 2013-09-15 & 1 & 1 & 1\\\\\n",
       "\t 12805324 & 39 & 2008-04-08 & 1 & NA & NA & 0 & 39 & 2008-04-08 & 1 & ⋯ & 0 & NA & 0 & NA & 0 & 1968-08-15 & 2017-03-15 & 1 & 2 & 1\\\\\n",
       "\\end{tabular}\n"
      ],
      "text/markdown": [
       "\n",
       "A tibble: 6 × 35\n",
       "\n",
       "| person_id &lt;int&gt; | age_t1d_diag &lt;int&gt; | date_t1d_diag &lt;date&gt; | t1d_status &lt;int&gt; | age_t2d_diag &lt;int&gt; | date_t2d_diag &lt;date&gt; | t2d_status &lt;int&gt; | age_earliest_diab &lt;int&gt; | earliest_diabetes_diag &lt;date&gt; | any_diabetes &lt;int&gt; | ⋯ ⋯ | has_pvd &lt;int&gt; | date_stroke_diagnosis &lt;date&gt; | has_stroke &lt;int&gt; | date_valve_disease_diagnosis &lt;date&gt; | has_valve_disease &lt;int&gt; | birth_datetime &lt;date&gt; | death_datetime &lt;date&gt; | gender &lt;int&gt; | ethnicity &lt;int&gt; | imd_decile &lt;int&gt; |\n",
       "|---|---|---|---|---|---|---|---|---|---|---|---|---|---|---|---|---|---|---|---|---|\n",
       "| 13548546 | 60 | 2007-01-11 | 1 | NA | NA | 0 | 60 | 2007-01-11 | 1 | ⋯ | 0 | NA | 0 | NA | 0 | 1946-11-15 | 2008-07-15 | 1 | 1 | 5 |\n",
       "| 12975170 | 80 | 2020-04-28 | 1 | NA | NA | 0 | 80 | 2020-04-28 | 1 | ⋯ | 0 | 2013-03-05 | 1 | NA | 0 | 1939-11-15 | 2020-05-15 | 1 | 1 | 1 |\n",
       "| 13450523 | 36 | 2011-10-13 | 1 | NA | NA | 0 | 36 | 2011-10-13 | 1 | ⋯ | 0 | NA | 0 | NA | 0 | 1975-08-15 | 2018-12-15 | 1 | 1 | 4 |\n",
       "| 12431500 | 75 | 2011-08-16 | 1 | NA | NA | 0 | 75 | 2011-08-16 | 1 | ⋯ | 0 | NA | 0 | NA | 0 | 1936-05-15 | 2013-01-15 | 1 | 1 | 1 |\n",
       "| 13235332 | 47 | 2007-07-05 | 1 | NA | NA | 0 | 47 | 2007-07-05 | 1 | ⋯ | 0 | NA | 0 | NA | 0 | 1960-03-15 | 2013-09-15 | 1 | 1 | 1 |\n",
       "| 12805324 | 39 | 2008-04-08 | 1 | NA | NA | 0 | 39 | 2008-04-08 | 1 | ⋯ | 0 | NA | 0 | NA | 0 | 1968-08-15 | 2017-03-15 | 1 | 2 | 1 |\n",
       "\n"
      ],
      "text/plain": [
       "  person_id age_t1d_diag date_t1d_diag t1d_status age_t2d_diag date_t2d_diag\n",
       "1 13548546  60           2007-01-11    1          NA           <NA>         \n",
       "2 12975170  80           2020-04-28    1          NA           <NA>         \n",
       "3 13450523  36           2011-10-13    1          NA           <NA>         \n",
       "4 12431500  75           2011-08-16    1          NA           <NA>         \n",
       "5 13235332  47           2007-07-05    1          NA           <NA>         \n",
       "6 12805324  39           2008-04-08    1          NA           <NA>         \n",
       "  t2d_status age_earliest_diab earliest_diabetes_diag any_diabetes ⋯ has_pvd\n",
       "1 0          60                2007-01-11             1            ⋯ 0      \n",
       "2 0          80                2020-04-28             1            ⋯ 0      \n",
       "3 0          36                2011-10-13             1            ⋯ 0      \n",
       "4 0          75                2011-08-16             1            ⋯ 0      \n",
       "5 0          47                2007-07-05             1            ⋯ 0      \n",
       "6 0          39                2008-04-08             1            ⋯ 0      \n",
       "  date_stroke_diagnosis has_stroke date_valve_disease_diagnosis\n",
       "1 <NA>                  0          <NA>                        \n",
       "2 2013-03-05            1          <NA>                        \n",
       "3 <NA>                  0          <NA>                        \n",
       "4 <NA>                  0          <NA>                        \n",
       "5 <NA>                  0          <NA>                        \n",
       "6 <NA>                  0          <NA>                        \n",
       "  has_valve_disease birth_datetime death_datetime gender ethnicity imd_decile\n",
       "1 0                 1946-11-15     2008-07-15     1      1         5         \n",
       "2 0                 1939-11-15     2020-05-15     1      1         1         \n",
       "3 0                 1975-08-15     2018-12-15     1      1         4         \n",
       "4 0                 1936-05-15     2013-01-15     1      1         1         \n",
       "5 0                 1960-03-15     2013-09-15     1      1         1         \n",
       "6 0                 1968-08-15     2017-03-15     1      2         1         "
      ]
     },
     "metadata": {},
     "output_type": "display_data"
    },
    {
     "data": {
      "text/html": [
       "0"
      ],
      "text/latex": [
       "0"
      ],
      "text/markdown": [
       "0"
      ],
      "text/plain": [
       "[1] 0"
      ]
     },
     "metadata": {},
     "output_type": "display_data"
    },
    {
     "data": {
      "text/html": [
       "0"
      ],
      "text/latex": [
       "0"
      ],
      "text/markdown": [
       "0"
      ],
      "text/plain": [
       "[1] 0"
      ]
     },
     "metadata": {},
     "output_type": "display_data"
    }
   ],
   "source": [
    "# Join death datetime onto dc\n",
    "dc <- left_join(dc, patient, by = \"person_id\")\n",
    "head(dc)\n",
    "sum(duplicated(dc))\n",
    "sum(duplicated(dc$person_id))"
   ]
  },
  {
   "cell_type": "code",
   "execution_count": 7,
   "id": "e025d227-62d7-4856-9d84-2c71764e5626",
   "metadata": {},
   "outputs": [
    {
     "data": {
      "text/html": [
       "<table class=\"dataframe\">\n",
       "<caption>A tibble: 6 × 39</caption>\n",
       "<thead>\n",
       "\t<tr><th scope=col>person_id</th><th scope=col>age_t1d_diag</th><th scope=col>date_t1d_diag</th><th scope=col>t1d_status</th><th scope=col>age_t2d_diag</th><th scope=col>date_t2d_diag</th><th scope=col>t2d_status</th><th scope=col>age_earliest_diab</th><th scope=col>earliest_diabetes_diag</th><th scope=col>any_diabetes</th><th scope=col>⋯</th><th scope=col>has_valve_disease</th><th scope=col>birth_datetime</th><th scope=col>death_datetime</th><th scope=col>gender</th><th scope=col>ethnicity</th><th scope=col>imd_decile</th><th scope=col>date_earliest_cvd</th><th scope=col>diab_cvd_time</th><th scope=col>cvd_death_time</th><th scope=col>has_cvd</th></tr>\n",
       "\t<tr><th scope=col>&lt;int&gt;</th><th scope=col>&lt;int&gt;</th><th scope=col>&lt;date&gt;</th><th scope=col>&lt;int&gt;</th><th scope=col>&lt;int&gt;</th><th scope=col>&lt;date&gt;</th><th scope=col>&lt;int&gt;</th><th scope=col>&lt;int&gt;</th><th scope=col>&lt;date&gt;</th><th scope=col>&lt;int&gt;</th><th scope=col>⋯</th><th scope=col>&lt;int&gt;</th><th scope=col>&lt;date&gt;</th><th scope=col>&lt;date&gt;</th><th scope=col>&lt;int&gt;</th><th scope=col>&lt;int&gt;</th><th scope=col>&lt;int&gt;</th><th scope=col>&lt;date&gt;</th><th scope=col>&lt;int&gt;</th><th scope=col>&lt;int&gt;</th><th scope=col>&lt;dbl&gt;</th></tr>\n",
       "</thead>\n",
       "<tbody>\n",
       "\t<tr><td>13548546</td><td>60</td><td>2007-01-11</td><td>1</td><td>NA</td><td>NA</td><td>0</td><td>60</td><td>2007-01-11</td><td>1</td><td>⋯</td><td>0</td><td>1946-11-15</td><td>2008-07-15</td><td>1</td><td>1</td><td>5</td><td>NA</td><td>  NA</td><td>  NA</td><td>0</td></tr>\n",
       "\t<tr><td>12975170</td><td>80</td><td>2020-04-28</td><td>1</td><td>NA</td><td>NA</td><td>0</td><td>80</td><td>2020-04-28</td><td>1</td><td>⋯</td><td>0</td><td>1939-11-15</td><td>2020-05-15</td><td>1</td><td>1</td><td>1</td><td>2013-03-05</td><td>2611</td><td>2628</td><td>1</td></tr>\n",
       "\t<tr><td>13450523</td><td>36</td><td>2011-10-13</td><td>1</td><td>NA</td><td>NA</td><td>0</td><td>36</td><td>2011-10-13</td><td>1</td><td>⋯</td><td>0</td><td>1975-08-15</td><td>2018-12-15</td><td>1</td><td>1</td><td>4</td><td>NA</td><td>  NA</td><td>  NA</td><td>0</td></tr>\n",
       "\t<tr><td>12431500</td><td>75</td><td>2011-08-16</td><td>1</td><td>NA</td><td>NA</td><td>0</td><td>75</td><td>2011-08-16</td><td>1</td><td>⋯</td><td>0</td><td>1936-05-15</td><td>2013-01-15</td><td>1</td><td>1</td><td>1</td><td>2012-01-04</td><td> 141</td><td> 377</td><td>1</td></tr>\n",
       "\t<tr><td>13235332</td><td>47</td><td>2007-07-05</td><td>1</td><td>NA</td><td>NA</td><td>0</td><td>47</td><td>2007-07-05</td><td>1</td><td>⋯</td><td>0</td><td>1960-03-15</td><td>2013-09-15</td><td>1</td><td>1</td><td>1</td><td>NA</td><td>  NA</td><td>  NA</td><td>0</td></tr>\n",
       "\t<tr><td>12805324</td><td>39</td><td>2008-04-08</td><td>1</td><td>NA</td><td>NA</td><td>0</td><td>39</td><td>2008-04-08</td><td>1</td><td>⋯</td><td>0</td><td>1968-08-15</td><td>2017-03-15</td><td>1</td><td>2</td><td>1</td><td>NA</td><td>  NA</td><td>  NA</td><td>0</td></tr>\n",
       "</tbody>\n",
       "</table>\n"
      ],
      "text/latex": [
       "A tibble: 6 × 39\n",
       "\\begin{tabular}{lllllllllllllllllllll}\n",
       " person\\_id & age\\_t1d\\_diag & date\\_t1d\\_diag & t1d\\_status & age\\_t2d\\_diag & date\\_t2d\\_diag & t2d\\_status & age\\_earliest\\_diab & earliest\\_diabetes\\_diag & any\\_diabetes & ⋯ & has\\_valve\\_disease & birth\\_datetime & death\\_datetime & gender & ethnicity & imd\\_decile & date\\_earliest\\_cvd & diab\\_cvd\\_time & cvd\\_death\\_time & has\\_cvd\\\\\n",
       " <int> & <int> & <date> & <int> & <int> & <date> & <int> & <int> & <date> & <int> & ⋯ & <int> & <date> & <date> & <int> & <int> & <int> & <date> & <int> & <int> & <dbl>\\\\\n",
       "\\hline\n",
       "\t 13548546 & 60 & 2007-01-11 & 1 & NA & NA & 0 & 60 & 2007-01-11 & 1 & ⋯ & 0 & 1946-11-15 & 2008-07-15 & 1 & 1 & 5 & NA &   NA &   NA & 0\\\\\n",
       "\t 12975170 & 80 & 2020-04-28 & 1 & NA & NA & 0 & 80 & 2020-04-28 & 1 & ⋯ & 0 & 1939-11-15 & 2020-05-15 & 1 & 1 & 1 & 2013-03-05 & 2611 & 2628 & 1\\\\\n",
       "\t 13450523 & 36 & 2011-10-13 & 1 & NA & NA & 0 & 36 & 2011-10-13 & 1 & ⋯ & 0 & 1975-08-15 & 2018-12-15 & 1 & 1 & 4 & NA &   NA &   NA & 0\\\\\n",
       "\t 12431500 & 75 & 2011-08-16 & 1 & NA & NA & 0 & 75 & 2011-08-16 & 1 & ⋯ & 0 & 1936-05-15 & 2013-01-15 & 1 & 1 & 1 & 2012-01-04 &  141 &  377 & 1\\\\\n",
       "\t 13235332 & 47 & 2007-07-05 & 1 & NA & NA & 0 & 47 & 2007-07-05 & 1 & ⋯ & 0 & 1960-03-15 & 2013-09-15 & 1 & 1 & 1 & NA &   NA &   NA & 0\\\\\n",
       "\t 12805324 & 39 & 2008-04-08 & 1 & NA & NA & 0 & 39 & 2008-04-08 & 1 & ⋯ & 0 & 1968-08-15 & 2017-03-15 & 1 & 2 & 1 & NA &   NA &   NA & 0\\\\\n",
       "\\end{tabular}\n"
      ],
      "text/markdown": [
       "\n",
       "A tibble: 6 × 39\n",
       "\n",
       "| person_id &lt;int&gt; | age_t1d_diag &lt;int&gt; | date_t1d_diag &lt;date&gt; | t1d_status &lt;int&gt; | age_t2d_diag &lt;int&gt; | date_t2d_diag &lt;date&gt; | t2d_status &lt;int&gt; | age_earliest_diab &lt;int&gt; | earliest_diabetes_diag &lt;date&gt; | any_diabetes &lt;int&gt; | ⋯ ⋯ | has_valve_disease &lt;int&gt; | birth_datetime &lt;date&gt; | death_datetime &lt;date&gt; | gender &lt;int&gt; | ethnicity &lt;int&gt; | imd_decile &lt;int&gt; | date_earliest_cvd &lt;date&gt; | diab_cvd_time &lt;int&gt; | cvd_death_time &lt;int&gt; | has_cvd &lt;dbl&gt; |\n",
       "|---|---|---|---|---|---|---|---|---|---|---|---|---|---|---|---|---|---|---|---|---|\n",
       "| 13548546 | 60 | 2007-01-11 | 1 | NA | NA | 0 | 60 | 2007-01-11 | 1 | ⋯ | 0 | 1946-11-15 | 2008-07-15 | 1 | 1 | 5 | NA |   NA |   NA | 0 |\n",
       "| 12975170 | 80 | 2020-04-28 | 1 | NA | NA | 0 | 80 | 2020-04-28 | 1 | ⋯ | 0 | 1939-11-15 | 2020-05-15 | 1 | 1 | 1 | 2013-03-05 | 2611 | 2628 | 1 |\n",
       "| 13450523 | 36 | 2011-10-13 | 1 | NA | NA | 0 | 36 | 2011-10-13 | 1 | ⋯ | 0 | 1975-08-15 | 2018-12-15 | 1 | 1 | 4 | NA |   NA |   NA | 0 |\n",
       "| 12431500 | 75 | 2011-08-16 | 1 | NA | NA | 0 | 75 | 2011-08-16 | 1 | ⋯ | 0 | 1936-05-15 | 2013-01-15 | 1 | 1 | 1 | 2012-01-04 |  141 |  377 | 1 |\n",
       "| 13235332 | 47 | 2007-07-05 | 1 | NA | NA | 0 | 47 | 2007-07-05 | 1 | ⋯ | 0 | 1960-03-15 | 2013-09-15 | 1 | 1 | 1 | NA |   NA |   NA | 0 |\n",
       "| 12805324 | 39 | 2008-04-08 | 1 | NA | NA | 0 | 39 | 2008-04-08 | 1 | ⋯ | 0 | 1968-08-15 | 2017-03-15 | 1 | 2 | 1 | NA |   NA |   NA | 0 |\n",
       "\n"
      ],
      "text/plain": [
       "  person_id age_t1d_diag date_t1d_diag t1d_status age_t2d_diag date_t2d_diag\n",
       "1 13548546  60           2007-01-11    1          NA           <NA>         \n",
       "2 12975170  80           2020-04-28    1          NA           <NA>         \n",
       "3 13450523  36           2011-10-13    1          NA           <NA>         \n",
       "4 12431500  75           2011-08-16    1          NA           <NA>         \n",
       "5 13235332  47           2007-07-05    1          NA           <NA>         \n",
       "6 12805324  39           2008-04-08    1          NA           <NA>         \n",
       "  t2d_status age_earliest_diab earliest_diabetes_diag any_diabetes ⋯\n",
       "1 0          60                2007-01-11             1            ⋯\n",
       "2 0          80                2020-04-28             1            ⋯\n",
       "3 0          36                2011-10-13             1            ⋯\n",
       "4 0          75                2011-08-16             1            ⋯\n",
       "5 0          47                2007-07-05             1            ⋯\n",
       "6 0          39                2008-04-08             1            ⋯\n",
       "  has_valve_disease birth_datetime death_datetime gender ethnicity imd_decile\n",
       "1 0                 1946-11-15     2008-07-15     1      1         5         \n",
       "2 0                 1939-11-15     2020-05-15     1      1         1         \n",
       "3 0                 1975-08-15     2018-12-15     1      1         4         \n",
       "4 0                 1936-05-15     2013-01-15     1      1         1         \n",
       "5 0                 1960-03-15     2013-09-15     1      1         1         \n",
       "6 0                 1968-08-15     2017-03-15     1      2         1         \n",
       "  date_earliest_cvd diab_cvd_time cvd_death_time has_cvd\n",
       "1 <NA>                NA            NA           0      \n",
       "2 2013-03-05        2611          2628           1      \n",
       "3 <NA>                NA            NA           0      \n",
       "4 2012-01-04         141           377           1      \n",
       "5 <NA>                NA            NA           0      \n",
       "6 <NA>                NA            NA           0      "
      ]
     },
     "metadata": {},
     "output_type": "display_data"
    }
   ],
   "source": [
    "# Create variable for time between:\n",
    "\n",
    "dc <- dc %>%\n",
    "    mutate(date_earliest_cvd = pmin(date_angina_diagnosis, date_cardiomyopathy_diagnosis,\n",
    "                               date_heart_failure_diagnosis, date_hypertension_diagnosis,\n",
    "                              date_ihd_diagnosis, date_mi_diagnosis, date_pvd_diagnosis,\n",
    "                              date_stroke_diagnosis, date_valve_disease_diagnosis, na.rm = TRUE),\n",
    "# Diabetes and CVD\n",
    "    diab_cvd_time = abs(difftime(earliest_diabetes_diag, date_earliest_cvd, units = \"days\")),\n",
    "# CVD and Death\n",
    "          cvd_death_time = abs(difftime(date_earliest_cvd, death_datetime, units = \"days\")),\n",
    "          has_cvd = ifelse(has_angina == 1 | has_cardiomyopathy == 1 | has_heart_failure == 1 |\n",
    "                           has_hypertension == 1 | has_ihd == 1 | has_mi == 1 | has_pvd == 1 |\n",
    "                           has_stroke == 1 | has_valve_disease == 1, 1,0)) %>%\n",
    "        mutate(diab_cvd_time = as.integer(diab_cvd_time),\n",
    "               diab_death_time = as.integer(diab_death_time),\n",
    "               cvd_death_time = as.integer(cvd_death_time))\n",
    "\n",
    "head(dc)"
   ]
  },
  {
   "cell_type": "code",
   "execution_count": 8,
   "id": "d47bc11e-3e4a-4bed-9da6-6e84dfb5de40",
   "metadata": {},
   "outputs": [],
   "source": [
    "# Join covariates to diabetes dataset\n",
    "dc <- left_join(dc, covars, by = c(\"person_id\"))"
   ]
  },
  {
   "cell_type": "code",
   "execution_count": 14,
   "id": "5e798de2-681d-44d3-af08-4614fc789bd6",
   "metadata": {},
   "outputs": [],
   "source": [
    "# Import and Search Death certificate dataset for ICD10 CVD death codes\n",
    "# Angina\n",
    "sql8 <- \"SELECT * \n",
    "FROM `yhcr-prd-phm-bia-core.CB_FDM_DeathCertificates.tbl_NEC_Deaths_QWO_20230817_RELEASE`\n",
    "WHERE s_cod_code_1 IN ('I200','I248','I209','I20','A360','A691','B085','B27','D70X','I739','J020','J312','K122','I208','I201')\n",
    "OR s_cod_code_2 IN ('I200','I248','I209','I20','A360','A691','B085','B27','D70X','I739','J020','J312','K122','I208','I201')\n",
    "OR s_cod_code_3 IN ('I200','I248','I209','I20','A360','A691','B085','B27','D70X','I739','J020','J312','K122','I208','I201')\n",
    "OR s_cod_code_4 IN ('I200','I248','I209','I20','A360','A691','B085','B27','D70X','I739','J020','J312','K122','I208','I201')\n",
    "OR s_cod_code_5 IN ('I200','I248','I209','I20','A360','A691','B085','B27','D70X','I739','J020','J312','K122','I208','I201')\n",
    "OR s_cod_code_6 IN ('I200','I248','I209','I20','A360','A691','B085','B27','D70X','I739','J020','J312','K122','I208','I201')\n",
    "OR s_cod_code_7 IN ('I200','I248','I209','I20','A360','A691','B085','B27','D70X','I739','J020','J312','K122','I208','I201')\n",
    "OR s_cod_code_8 IN ('I200','I248','I209','I20','A360','A691','B085','B27','D70X','I739','J020','J312','K122','I208','I201')\n",
    "OR s_cod_code_9 IN ('I200','I248','I209','I20','A360','A691','B085','B27','D70X','I739','J020','J312','K122','I208','I201')\n",
    "OR s_cod_code_10 IN ('I200','I248','I209','I20','A360','A691','B085','B27','D70X','I739','J020','J312','K122','I208','I201')\n",
    "OR s_cod_code_11 IN ('I200','I248','I209','I20','A360','A691','B085','B27','D70X','I739','J020','J312','K122','I208','I201')\n",
    "OR s_cod_code_12 IN ('I200','I248','I209','I20','A360','A691','B085','B27','D70X','I739','J020','J312','K122','I208','I201')\n",
    "OR s_cod_code_13 IN ('I200','I248','I209','I20','A360','A691','B085','B27','D70X','I739','J020','J312','K122','I208','I201')\n",
    "OR s_cod_code_14 IN ('I200','I248','I209','I20','A360','A691','B085','B27','D70X','I739','J020','J312','K122','I208','I201')\n",
    "OR s_cod_code_15 IN ('I200','I248','I209','I20','A360','A691','B085','B27','D70X','I739','J020','J312','K122','I208','I201')\"\n",
    "tb8 <- bq_project_query(projectid, sql8)\n",
    "angina_dcert <- bq_table_download(tb8)\n",
    "\n",
    "# Cardiomyopathy\n",
    "sql9 <- \"SELECT * \n",
    "FROM `yhcr-prd-phm-bia-core.CB_FDM_DeathCertificates.tbl_NEC_Deaths_QWO_20230817_RELEASE`\n",
    "WHERE s_cod_code_1 IN ('E854D','I431A','I255','I429','I42','I090','I11','I251','I43A','O903','O994','Q248','I423','I421','I428','I425','I422','I420','B572D','B570D','I981A','I412A','I428D','E90XA','E740D','E763D','I528A','I438A','G111D','G711D','I427','I515','I430A','I432A','G710','I518','G710D')\n",
    "OR s_cod_code_2 IN ('E854D','I431A','I255','I429','I42','I090','I11','I251','I43A','O903','O994','Q248','I423','I421','I428','I425','I422','I420','B572D','B570D','I981A','I412A','I428D','E90XA','E740D','E763D','I528A','I438A','G111D','G711D','I427','I515','I430A','I432A','G710','I518','G710D')\n",
    "OR s_cod_code_3 IN ('E854D','I431A','I255','I429','I42','I090','I11','I251','I43A','O903','O994','Q248','I423','I421','I428','I425','I422','I420','B572D','B570D','I981A','I412A','I428D','E90XA','E740D','E763D','I528A','I438A','G111D','G711D','I427','I515','I430A','I432A','G710','I518','G710D')\n",
    "OR s_cod_code_4 IN ('E854D','I431A','I255','I429','I42','I090','I11','I251','I43A','O903','O994','Q248','I423','I421','I428','I425','I422','I420','B572D','B570D','I981A','I412A','I428D','E90XA','E740D','E763D','I528A','I438A','G111D','G711D','I427','I515','I430A','I432A','G710','I518','G710D')\n",
    "OR s_cod_code_5 IN ('E854D','I431A','I255','I429','I42','I090','I11','I251','I43A','O903','O994','Q248','I423','I421','I428','I425','I422','I420','B572D','B570D','I981A','I412A','I428D','E90XA','E740D','E763D','I528A','I438A','G111D','G711D','I427','I515','I430A','I432A','G710','I518','G710D')\n",
    "OR s_cod_code_6 IN ('E854D','I431A','I255','I429','I42','I090','I11','I251','I43A','O903','O994','Q248','I423','I421','I428','I425','I422','I420','B572D','B570D','I981A','I412A','I428D','E90XA','E740D','E763D','I528A','I438A','G111D','G711D','I427','I515','I430A','I432A','G710','I518','G710D')\n",
    "OR s_cod_code_7 IN ('E854D','I431A','I255','I429','I42','I090','I11','I251','I43A','O903','O994','Q248','I423','I421','I428','I425','I422','I420','B572D','B570D','I981A','I412A','I428D','E90XA','E740D','E763D','I528A','I438A','G111D','G711D','I427','I515','I430A','I432A','G710','I518','G710D')\n",
    "OR s_cod_code_8 IN ('E854D','I431A','I255','I429','I42','I090','I11','I251','I43A','O903','O994','Q248','I423','I421','I428','I425','I422','I420','B572D','B570D','I981A','I412A','I428D','E90XA','E740D','E763D','I528A','I438A','G111D','G711D','I427','I515','I430A','I432A','G710','I518','G710D')\n",
    "OR s_cod_code_9 IN ('E854D','I431A','I255','I429','I42','I090','I11','I251','I43A','O903','O994','Q248','I423','I421','I428','I425','I422','I420','B572D','B570D','I981A','I412A','I428D','E90XA','E740D','E763D','I528A','I438A','G111D','G711D','I427','I515','I430A','I432A','G710','I518','G710D')\n",
    "OR s_cod_code_10 IN ('E854D','I431A','I255','I429','I42','I090','I11','I251','I43A','O903','O994','Q248','I423','I421','I428','I425','I422','I420','B572D','B570D','I981A','I412A','I428D','E90XA','E740D','E763D','I528A','I438A','G111D','G711D','I427','I515','I430A','I432A','G710','I518','G710D')\n",
    "OR s_cod_code_11 IN ('E854D','I431A','I255','I429','I42','I090','I11','I251','I43A','O903','O994','Q248','I423','I421','I428','I425','I422','I420','B572D','B570D','I981A','I412A','I428D','E90XA','E740D','E763D','I528A','I438A','G111D','G711D','I427','I515','I430A','I432A','G710','I518','G710D')\n",
    "OR s_cod_code_12 IN ('E854D','I431A','I255','I429','I42','I090','I11','I251','I43A','O903','O994','Q248','I423','I421','I428','I425','I422','I420','B572D','B570D','I981A','I412A','I428D','E90XA','E740D','E763D','I528A','I438A','G111D','G711D','I427','I515','I430A','I432A','G710','I518','G710D')\n",
    "OR s_cod_code_13 IN ('E854D','I431A','I255','I429','I42','I090','I11','I251','I43A','O903','O994','Q248','I423','I421','I428','I425','I422','I420','B572D','B570D','I981A','I412A','I428D','E90XA','E740D','E763D','I528A','I438A','G111D','G711D','I427','I515','I430A','I432A','G710','I518','G710D')\n",
    "OR s_cod_code_14 IN ('E854D','I431A','I255','I429','I42','I090','I11','I251','I43A','O903','O994','Q248','I423','I421','I428','I425','I422','I420','B572D','B570D','I981A','I412A','I428D','E90XA','E740D','E763D','I528A','I438A','G111D','G711D','I427','I515','I430A','I432A','G710','I518','G710D')\n",
    "OR s_cod_code_15 IN ('E854D','I431A','I255','I429','I42','I090','I11','I251','I43A','O903','O994','Q248','I423','I421','I428','I425','I422','I420','B572D','B570D','I981A','I412A','I428D','E90XA','E740D','E763D','I528A','I438A','G111D','G711D','I427','I515','I430A','I432A','G710','I518','G710D')\"\n",
    "tb9 <- bq_project_query(projectid, sql9)\n",
    "cardiomyopathy_dcert <- bq_table_download(tb9)\n",
    "\n",
    "# Heart Failure\n",
    "sql11 <- \"SELECT * \n",
    "FROM `yhcr-prd-phm-bia-core.CB_FDM_DeathCertificates.tbl_NEC_Deaths_QWO_20230817_RELEASE`\n",
    "WHERE s_cod_code_1 IN ('I099','I509','I50','I110','I130','I132','I971','I978','O291','O742','O754','O891','P290','T818','E059D','I500','I10X','I501','I018','I020','I098','I970')\n",
    "OR s_cod_code_2 IN ('I099','I509','I50','I110','I130','I132','I971','I978','O291','O742','O754','O891','P290','T818','E059D','I500','I10X','I501','I018','I020','I098','I970')\n",
    "OR s_cod_code_3 IN ('I099','I509','I50','I110','I130','I132','I971','I978','O291','O742','O754','O891','P290','T818','E059D','I500','I10X','I501','I018','I020','I098','I970')\n",
    "OR s_cod_code_4 IN ('I099','I509','I50','I110','I130','I132','I971','I978','O291','O742','O754','O891','P290','T818','E059D','I500','I10X','I501','I018','I020','I098','I970')\n",
    "OR s_cod_code_5 IN ('I099','I509','I50','I110','I130','I132','I971','I978','O291','O742','O754','O891','P290','T818','E059D','I500','I10X','I501','I018','I020','I098','I970')\n",
    "OR s_cod_code_6 IN ('I099','I509','I50','I110','I130','I132','I971','I978','O291','O742','O754','O891','P290','T818','E059D','I500','I10X','I501','I018','I020','I098','I970')\n",
    "OR s_cod_code_7 IN ('I099','I509','I50','I110','I130','I132','I971','I978','O291','O742','O754','O891','P290','T818','E059D','I500','I10X','I501','I018','I020','I098','I970')\n",
    "OR s_cod_code_8 IN ('I099','I509','I50','I110','I130','I132','I971','I978','O291','O742','O754','O891','P290','T818','E059D','I500','I10X','I501','I018','I020','I098','I970')\n",
    "OR s_cod_code_9 IN ('I099','I509','I50','I110','I130','I132','I971','I978','O291','O742','O754','O891','P290','T818','E059D','I500','I10X','I501','I018','I020','I098','I970')\n",
    "OR s_cod_code_10 IN ('I099','I509','I50','I110','I130','I132','I971','I978','O291','O742','O754','O891','P290','T818','E059D','I500','I10X','I501','I018','I020','I098','I970')\n",
    "OR s_cod_code_11 IN ('I099','I509','I50','I110','I130','I132','I971','I978','O291','O742','O754','O891','P290','T818','E059D','I500','I10X','I501','I018','I020','I098','I970')\n",
    "OR s_cod_code_12 IN ('I099','I509','I50','I110','I130','I132','I971','I978','O291','O742','O754','O891','P290','T818','E059D','I500','I10X','I501','I018','I020','I098','I970')\n",
    "OR s_cod_code_13 IN ('I099','I509','I50','I110','I130','I132','I971','I978','O291','O742','O754','O891','P290','T818','E059D','I500','I10X','I501','I018','I020','I098','I970')\n",
    "OR s_cod_code_14 IN ('I099','I509','I50','I110','I130','I132','I971','I978','O291','O742','O754','O891','P290','T818','E059D','I500','I10X','I501','I018','I020','I098','I970')\n",
    "OR s_cod_code_15 IN ('I099','I509','I50','I110','I130','I132','I971','I978','O291','O742','O754','O891','P290','T818','E059D','I500','I10X','I501','I018','I020','I098','I970')\"\n",
    "tb11 <- bq_project_query(projectid, sql11)\n",
    "heart_failure_dcert <- bq_table_download(tb11)\n",
    "\n",
    "# Hypertension\n",
    "sql19 <- \"SELECT * \n",
    "FROM `yhcr-prd-phm-bia-core.CB_FDM_DeathCertificates.tbl_NEC_Deaths_QWO_20230817_RELEASE`\n",
    "WHERE s_cod_code_1 IN ('I158','O16X','I21','I22','I23','I24','I25','I270','O10','O11X','O13X','O14','O15','P292','I12','I13','P000','I129','I159','I15','O104','I150','I152','I151','O12','O100','O102','O109','O121','O141','O159','O152','O150','O149','R688','O151','O142','O140')\n",
    "OR s_cod_code_2 IN ('I158','O16X','I21','I22','I23','I24','I25','I270','O10','O11X','O13X','O14','O15','P292','I12','I13','P000','I129','I159','I15','O104','I150','I152','I151','O12','O100','O102','O109','O121','O141','O159','O152','O150','O149','R688','O151','O142','O140')\n",
    "OR s_cod_code_3 IN ('I158','O16X','I21','I22','I23','I24','I25','I270','O10','O11X','O13X','O14','O15','P292','I12','I13','P000','I129','I159','I15','O104','I150','I152','I151','O12','O100','O102','O109','O121','O141','O159','O152','O150','O149','R688','O151','O142','O140')\n",
    "OR s_cod_code_4 IN ('I158','O16X','I21','I22','I23','I24','I25','I270','O10','O11X','O13X','O14','O15','P292','I12','I13','P000','I129','I159','I15','O104','I150','I152','I151','O12','O100','O102','O109','O121','O141','O159','O152','O150','O149','R688','O151','O142','O140')\n",
    "OR s_cod_code_5 IN ('I158','O16X','I21','I22','I23','I24','I25','I270','O10','O11X','O13X','O14','O15','P292','I12','I13','P000','I129','I159','I15','O104','I150','I152','I151','O12','O100','O102','O109','O121','O141','O159','O152','O150','O149','R688','O151','O142','O140')\n",
    "OR s_cod_code_6 IN ('I158','O16X','I21','I22','I23','I24','I25','I270','O10','O11X','O13X','O14','O15','P292','I12','I13','P000','I129','I159','I15','O104','I150','I152','I151','O12','O100','O102','O109','O121','O141','O159','O152','O150','O149','R688','O151','O142','O140')\n",
    "OR s_cod_code_7 IN ('I158','O16X','I21','I22','I23','I24','I25','I270','O10','O11X','O13X','O14','O15','P292','I12','I13','P000','I129','I159','I15','O104','I150','I152','I151','O12','O100','O102','O109','O121','O141','O159','O152','O150','O149','R688','O151','O142','O140')\n",
    "OR s_cod_code_8 IN ('I158','O16X','I21','I22','I23','I24','I25','I270','O10','O11X','O13X','O14','O15','P292','I12','I13','P000','I129','I159','I15','O104','I150','I152','I151','O12','O100','O102','O109','O121','O141','O159','O152','O150','O149','R688','O151','O142','O140')\n",
    "OR s_cod_code_9 IN ('I158','O16X','I21','I22','I23','I24','I25','I270','O10','O11X','O13X','O14','O15','P292','I12','I13','P000','I129','I159','I15','O104','I150','I152','I151','O12','O100','O102','O109','O121','O141','O159','O152','O150','O149','R688','O151','O142','O140')\n",
    "OR s_cod_code_10 IN ('I158','O16X','I21','I22','I23','I24','I25','I270','O10','O11X','O13X','O14','O15','P292','I12','I13','P000','I129','I159','I15','O104','I150','I152','I151','O12','O100','O102','O109','O121','O141','O159','O152','O150','O149','R688','O151','O142','O140')\n",
    "OR s_cod_code_11 IN ('I158','O16X','I21','I22','I23','I24','I25','I270','O10','O11X','O13X','O14','O15','P292','I12','I13','P000','I129','I159','I15','O104','I150','I152','I151','O12','O100','O102','O109','O121','O141','O159','O152','O150','O149','R688','O151','O142','O140')\n",
    "OR s_cod_code_12 IN ('I158','O16X','I21','I22','I23','I24','I25','I270','O10','O11X','O13X','O14','O15','P292','I12','I13','P000','I129','I159','I15','O104','I150','I152','I151','O12','O100','O102','O109','O121','O141','O159','O152','O150','O149','R688','O151','O142','O140')\n",
    "OR s_cod_code_13 IN ('I158','O16X','I21','I22','I23','I24','I25','I270','O10','O11X','O13X','O14','O15','P292','I12','I13','P000','I129','I159','I15','O104','I150','I152','I151','O12','O100','O102','O109','O121','O141','O159','O152','O150','O149','R688','O151','O142','O140')\n",
    "OR s_cod_code_14 IN ('I158','O16X','I21','I22','I23','I24','I25','I270','O10','O11X','O13X','O14','O15','P292','I12','I13','P000','I129','I159','I15','O104','I150','I152','I151','O12','O100','O102','O109','O121','O141','O159','O152','O150','O149','R688','O151','O142','O140')\n",
    "OR s_cod_code_15 IN ('I158','O16X','I21','I22','I23','I24','I25','I270','O10','O11X','O13X','O14','O15','P292','I12','I13','P000','I129','I159','I15','O104','I150','I152','I151','O12','O100','O102','O109','O121','O141','O159','O152','O150','O149','R688','O151','O142','O140')\"\n",
    "tb19 <- bq_project_query(projectid, sql19)\n",
    "hypertension_dcert <- bq_table_download(tb19)\n",
    "\n",
    "# IHD\n",
    "sql97 <- \"SELECT * \n",
    "FROM `yhcr-prd-phm-bia-core.CB_FDM_DeathCertificates.tbl_NEC_Deaths_QWO_20230817_RELEASE`\n",
    "WHERE s_cod_code_1 IN ('I219','I214','I212','I249','I258','I250','I253','I254','I259','I233','I256','P294','I232')\n",
    "OR s_cod_code_2 IN ('I219','I214','I212','I249','I258','I250','I253','I254','I259','I233','I256','P294','I232')\n",
    "OR s_cod_code_3 IN ('I219','I214','I212','I249','I258','I250','I253','I254','I259','I233','I256','P294','I232')\n",
    "OR s_cod_code_4 IN ('I219','I214','I212','I249','I258','I250','I253','I254','I259','I233','I256','P294','I232')\n",
    "OR s_cod_code_5 IN ('I219','I214','I212','I249','I258','I250','I253','I254','I259','I233','I256','P294','I232')\n",
    "OR s_cod_code_6 IN ('I219','I214','I212','I249','I258','I250','I253','I254','I259','I233','I256','P294','I232')\n",
    "OR s_cod_code_7 IN ('I219','I214','I212','I249','I258','I250','I253','I254','I259','I233','I256','P294','I232')\n",
    "OR s_cod_code_8 IN ('I219','I214','I212','I249','I258','I250','I253','I254','I259','I233','I256','P294','I232')\n",
    "OR s_cod_code_9 IN ('I219','I214','I212','I249','I258','I250','I253','I254','I259','I233','I256','P294','I232')\n",
    "OR s_cod_code_10 IN ('I219','I214','I212','I249','I258','I250','I253','I254','I259','I233','I256','P294','I232')\n",
    "OR s_cod_code_11 IN ('I219','I214','I212','I249','I258','I250','I253','I254','I259','I233','I256','P294','I232')\n",
    "OR s_cod_code_12 IN ('I219','I214','I212','I249','I258','I250','I253','I254','I259','I233','I256','P294','I232')\n",
    "OR s_cod_code_13 IN ('I219','I214','I212','I249','I258','I250','I253','I254','I259','I233','I256','P294','I232')\n",
    "OR s_cod_code_14 IN ('I219','I214','I212','I249','I258','I250','I253','I254','I259','I233','I256','P294','I232')\n",
    "OR s_cod_code_15 IN ('I219','I214','I212','I249','I258','I250','I253','I254','I259','I233','I256','P294','I232')\"\n",
    "tb97 <- bq_project_query(projectid, sql97)\n",
    "ihd_dcert <- bq_table_download(tb97)\n",
    "\n",
    "# MI\n",
    "sql91 <- \"SELECT * \n",
    "FROM `yhcr-prd-phm-bia-core.CB_FDM_DeathCertificates.tbl_NEC_Deaths_QWO_20230817_RELEASE`\n",
    "WHERE s_cod_code_1 IN ('I210','I220','I211','I221','I229','I228','I213','I252','A520D','I520A')\n",
    "OR s_cod_code_2 IN ('I210','I220','I211','I221','I229','I228','I213','I252','A520D','I520A')\n",
    "OR s_cod_code_3 IN ('I210','I220','I211','I221','I229','I228','I213','I252','A520D','I520A')\n",
    "OR s_cod_code_4 IN ('I210','I220','I211','I221','I229','I228','I213','I252','A520D','I520A')\n",
    "OR s_cod_code_5 IN ('I210','I220','I211','I221','I229','I228','I213','I252','A520D','I520A')\n",
    "OR s_cod_code_6 IN ('I210','I220','I211','I221','I229','I228','I213','I252','A520D','I520A')\n",
    "OR s_cod_code_7 IN ('I210','I220','I211','I221','I229','I228','I213','I252','A520D','I520A')\n",
    "OR s_cod_code_8 IN ('I210','I220','I211','I221','I229','I228','I213','I252','A520D','I520A')\n",
    "OR s_cod_code_9 IN ('I210','I220','I211','I221','I229','I228','I213','I252','A520D','I520A')\n",
    "OR s_cod_code_10 IN ('I210','I220','I211','I221','I229','I228','I213','I252','A520D','I520A')\n",
    "OR s_cod_code_11 IN ('I210','I220','I211','I221','I229','I228','I213','I252','A520D','I520A')\n",
    "OR s_cod_code_12 IN ('I210','I220','I211','I221','I229','I228','I213','I252','A520D','I520A')\n",
    "OR s_cod_code_13 IN ('I210','I220','I211','I221','I229','I228','I213','I252','A520D','I520A')\n",
    "OR s_cod_code_14 IN ('I210','I220','I211','I221','I229','I228','I213','I252','A520D','I520A')\n",
    "OR s_cod_code_15 IN ('I210','I220','I211','I221','I229','I228','I213','I252','A520D','I520A')\"\n",
    "tb91 <- bq_project_query(projectid, sql91)\n",
    "mi_dcert <- bq_table_download(tb91)\n",
    "\n",
    "# PVD\n",
    "sql92 <- \"SELECT * \n",
    "FROM `yhcr-prd-phm-bia-core.CB_FDM_DeathCertificates.tbl_NEC_Deaths_QWO_20230817_RELEASE`\n",
    "WHERE s_cod_code_1 IN ('I738','E145D','E105D','E115D','E125D','E135D','O243D','O244D','O249D','I792A','I73')\n",
    "OR s_cod_code_2 IN ('I738','E145D','E105D','E115D','E125D','E135D','O243D','O244D','O249D','I792A','I73')\n",
    "OR s_cod_code_3 IN ('I738','E145D','E105D','E115D','E125D','E135D','O243D','O244D','O249D','I792A','I73')\n",
    "OR s_cod_code_4 IN ('I738','E145D','E105D','E115D','E125D','E135D','O243D','O244D','O249D','I792A','I73')\n",
    "OR s_cod_code_5 IN ('I738','E145D','E105D','E115D','E125D','E135D','O243D','O244D','O249D','I792A','I73')\n",
    "OR s_cod_code_6 IN ('I738','E145D','E105D','E115D','E125D','E135D','O243D','O244D','O249D','I792A','I73')\n",
    "OR s_cod_code_7 IN ('I738','E145D','E105D','E115D','E125D','E135D','O243D','O244D','O249D','I792A','I73')\n",
    "OR s_cod_code_8 IN ('I738','E145D','E105D','E115D','E125D','E135D','O243D','O244D','O249D','I792A','I73')\n",
    "OR s_cod_code_9 IN ('I738','E145D','E105D','E115D','E125D','E135D','O243D','O244D','O249D','I792A','I73')\n",
    "OR s_cod_code_10 IN ('I738','E145D','E105D','E115D','E125D','E135D','O243D','O244D','O249D','I792A','I73')\n",
    "OR s_cod_code_11 IN ('I738','E145D','E105D','E115D','E125D','E135D','O243D','O244D','O249D','I792A','I73')\n",
    "OR s_cod_code_12 IN ('I738','E145D','E105D','E115D','E125D','E135D','O243D','O244D','O249D','I792A','I73')\n",
    "OR s_cod_code_13 IN ('I738','E145D','E105D','E115D','E125D','E135D','O243D','O244D','O249D','I792A','I73')\n",
    "OR s_cod_code_14 IN ('I738','E145D','E105D','E115D','E125D','E135D','O243D','O244D','O249D','I792A','I73')\n",
    "OR s_cod_code_15 IN ('I738','E145D','E105D','E115D','E125D','E135D','O243D','O244D','O249D','I792A','I73')\"\n",
    "tb92 <- bq_project_query(projectid, sql92)\n",
    "pvd_dcert <- bq_table_download(tb92)\n",
    "\n",
    "# Stroke\n",
    "sql93 <- \"SELECT * \n",
    "FROM `yhcr-prd-phm-bia-core.CB_FDM_DeathCertificates.tbl_NEC_Deaths_QWO_20230817_RELEASE`\n",
    "WHERE s_cod_code_1 IN ('I619','I61','I691','I618','G459','G45','G451','G450','R55X','I603','I611','I663D','G463A','I662D','G462A','I614','P526','S068','I631','I600','I639','Z866','I612','I64X','I610','I690','I692','I693','I694','I63','I669','I66','I633','I634','I635','G465A','I639D','I609','I60','P103','P525','I668','G452','I601','I660D','G460A','I613','I630','I632','G466A','G453','I616','G458','I606','I607','Z867','I615','G454','R413','I678','I636','I604','I661D','G461A','G467A','I638','I608','I605','P101','P524','G464A','I602','I679','I67','G46','I68','I671','I672','S062','S063','P10','P52','I658')\n",
    "OR s_cod_code_2 IN ('I619','I61','I691','I618','G459','G45','G451','G450','R55X','I603','I611','I663D','G463A','I662D','G462A','I614','P526','S068','I631','I600','I639','Z866','I612','I64X','I610','I690','I692','I693','I694','I63','I669','I66','I633','I634','I635','G465A','I639D','I609','I60','P103','P525','I668','G452','I601','I660D','G460A','I613','I630','I632','G466A','G453','I616','G458','I606','I607','Z867','I615','G454','R413','I678','I636','I604','I661D','G461A','G467A','I638','I608','I605','P101','P524','G464A','I602','I679','I67','G46','I68','I671','I672','S062','S063','P10','P52','I658')\n",
    "OR s_cod_code_3 IN ('I619','I61','I691','I618','G459','G45','G451','G450','R55X','I603','I611','I663D','G463A','I662D','G462A','I614','P526','S068','I631','I600','I639','Z866','I612','I64X','I610','I690','I692','I693','I694','I63','I669','I66','I633','I634','I635','G465A','I639D','I609','I60','P103','P525','I668','G452','I601','I660D','G460A','I613','I630','I632','G466A','G453','I616','G458','I606','I607','Z867','I615','G454','R413','I678','I636','I604','I661D','G461A','G467A','I638','I608','I605','P101','P524','G464A','I602','I679','I67','G46','I68','I671','I672','S062','S063','P10','P52','I658')\n",
    "OR s_cod_code_4 IN ('I619','I61','I691','I618','G459','G45','G451','G450','R55X','I603','I611','I663D','G463A','I662D','G462A','I614','P526','S068','I631','I600','I639','Z866','I612','I64X','I610','I690','I692','I693','I694','I63','I669','I66','I633','I634','I635','G465A','I639D','I609','I60','P103','P525','I668','G452','I601','I660D','G460A','I613','I630','I632','G466A','G453','I616','G458','I606','I607','Z867','I615','G454','R413','I678','I636','I604','I661D','G461A','G467A','I638','I608','I605','P101','P524','G464A','I602','I679','I67','G46','I68','I671','I672','S062','S063','P10','P52','I658')\n",
    "OR s_cod_code_5 IN ('I619','I61','I691','I618','G459','G45','G451','G450','R55X','I603','I611','I663D','G463A','I662D','G462A','I614','P526','S068','I631','I600','I639','Z866','I612','I64X','I610','I690','I692','I693','I694','I63','I669','I66','I633','I634','I635','G465A','I639D','I609','I60','P103','P525','I668','G452','I601','I660D','G460A','I613','I630','I632','G466A','G453','I616','G458','I606','I607','Z867','I615','G454','R413','I678','I636','I604','I661D','G461A','G467A','I638','I608','I605','P101','P524','G464A','I602','I679','I67','G46','I68','I671','I672','S062','S063','P10','P52','I658')\n",
    "OR s_cod_code_6 IN ('I619','I61','I691','I618','G459','G45','G451','G450','R55X','I603','I611','I663D','G463A','I662D','G462A','I614','P526','S068','I631','I600','I639','Z866','I612','I64X','I610','I690','I692','I693','I694','I63','I669','I66','I633','I634','I635','G465A','I639D','I609','I60','P103','P525','I668','G452','I601','I660D','G460A','I613','I630','I632','G466A','G453','I616','G458','I606','I607','Z867','I615','G454','R413','I678','I636','I604','I661D','G461A','G467A','I638','I608','I605','P101','P524','G464A','I602','I679','I67','G46','I68','I671','I672','S062','S063','P10','P52','I658')\n",
    "OR s_cod_code_7 IN ('I619','I61','I691','I618','G459','G45','G451','G450','R55X','I603','I611','I663D','G463A','I662D','G462A','I614','P526','S068','I631','I600','I639','Z866','I612','I64X','I610','I690','I692','I693','I694','I63','I669','I66','I633','I634','I635','G465A','I639D','I609','I60','P103','P525','I668','G452','I601','I660D','G460A','I613','I630','I632','G466A','G453','I616','G458','I606','I607','Z867','I615','G454','R413','I678','I636','I604','I661D','G461A','G467A','I638','I608','I605','P101','P524','G464A','I602','I679','I67','G46','I68','I671','I672','S062','S063','P10','P52','I658')\n",
    "OR s_cod_code_8 IN ('I619','I61','I691','I618','G459','G45','G451','G450','R55X','I603','I611','I663D','G463A','I662D','G462A','I614','P526','S068','I631','I600','I639','Z866','I612','I64X','I610','I690','I692','I693','I694','I63','I669','I66','I633','I634','I635','G465A','I639D','I609','I60','P103','P525','I668','G452','I601','I660D','G460A','I613','I630','I632','G466A','G453','I616','G458','I606','I607','Z867','I615','G454','R413','I678','I636','I604','I661D','G461A','G467A','I638','I608','I605','P101','P524','G464A','I602','I679','I67','G46','I68','I671','I672','S062','S063','P10','P52','I658')\n",
    "OR s_cod_code_9 IN ('I619','I61','I691','I618','G459','G45','G451','G450','R55X','I603','I611','I663D','G463A','I662D','G462A','I614','P526','S068','I631','I600','I639','Z866','I612','I64X','I610','I690','I692','I693','I694','I63','I669','I66','I633','I634','I635','G465A','I639D','I609','I60','P103','P525','I668','G452','I601','I660D','G460A','I613','I630','I632','G466A','G453','I616','G458','I606','I607','Z867','I615','G454','R413','I678','I636','I604','I661D','G461A','G467A','I638','I608','I605','P101','P524','G464A','I602','I679','I67','G46','I68','I671','I672','S062','S063','P10','P52','I658')\n",
    "OR s_cod_code_10 IN ('I619','I61','I691','I618','G459','G45','G451','G450','R55X','I603','I611','I663D','G463A','I662D','G462A','I614','P526','S068','I631','I600','I639','Z866','I612','I64X','I610','I690','I692','I693','I694','I63','I669','I66','I633','I634','I635','G465A','I639D','I609','I60','P103','P525','I668','G452','I601','I660D','G460A','I613','I630','I632','G466A','G453','I616','G458','I606','I607','Z867','I615','G454','R413','I678','I636','I604','I661D','G461A','G467A','I638','I608','I605','P101','P524','G464A','I602','I679','I67','G46','I68','I671','I672','S062','S063','P10','P52','I658')\n",
    "OR s_cod_code_11 IN ('I619','I61','I691','I618','G459','G45','G451','G450','R55X','I603','I611','I663D','G463A','I662D','G462A','I614','P526','S068','I631','I600','I639','Z866','I612','I64X','I610','I690','I692','I693','I694','I63','I669','I66','I633','I634','I635','G465A','I639D','I609','I60','P103','P525','I668','G452','I601','I660D','G460A','I613','I630','I632','G466A','G453','I616','G458','I606','I607','Z867','I615','G454','R413','I678','I636','I604','I661D','G461A','G467A','I638','I608','I605','P101','P524','G464A','I602','I679','I67','G46','I68','I671','I672','S062','S063','P10','P52','I658')\n",
    "OR s_cod_code_12 IN ('I619','I61','I691','I618','G459','G45','G451','G450','R55X','I603','I611','I663D','G463A','I662D','G462A','I614','P526','S068','I631','I600','I639','Z866','I612','I64X','I610','I690','I692','I693','I694','I63','I669','I66','I633','I634','I635','G465A','I639D','I609','I60','P103','P525','I668','G452','I601','I660D','G460A','I613','I630','I632','G466A','G453','I616','G458','I606','I607','Z867','I615','G454','R413','I678','I636','I604','I661D','G461A','G467A','I638','I608','I605','P101','P524','G464A','I602','I679','I67','G46','I68','I671','I672','S062','S063','P10','P52','I658')\n",
    "OR s_cod_code_13 IN ('I619','I61','I691','I618','G459','G45','G451','G450','R55X','I603','I611','I663D','G463A','I662D','G462A','I614','P526','S068','I631','I600','I639','Z866','I612','I64X','I610','I690','I692','I693','I694','I63','I669','I66','I633','I634','I635','G465A','I639D','I609','I60','P103','P525','I668','G452','I601','I660D','G460A','I613','I630','I632','G466A','G453','I616','G458','I606','I607','Z867','I615','G454','R413','I678','I636','I604','I661D','G461A','G467A','I638','I608','I605','P101','P524','G464A','I602','I679','I67','G46','I68','I671','I672','S062','S063','P10','P52','I658')\n",
    "OR s_cod_code_14 IN ('I619','I61','I691','I618','G459','G45','G451','G450','R55X','I603','I611','I663D','G463A','I662D','G462A','I614','P526','S068','I631','I600','I639','Z866','I612','I64X','I610','I690','I692','I693','I694','I63','I669','I66','I633','I634','I635','G465A','I639D','I609','I60','P103','P525','I668','G452','I601','I660D','G460A','I613','I630','I632','G466A','G453','I616','G458','I606','I607','Z867','I615','G454','R413','I678','I636','I604','I661D','G461A','G467A','I638','I608','I605','P101','P524','G464A','I602','I679','I67','G46','I68','I671','I672','S062','S063','P10','P52','I658')\n",
    "OR s_cod_code_15 IN ('I619','I61','I691','I618','G459','G45','G451','G450','R55X','I603','I611','I663D','G463A','I662D','G462A','I614','P526','S068','I631','I600','I639','Z866','I612','I64X','I610','I690','I692','I693','I694','I63','I669','I66','I633','I634','I635','G465A','I639D','I609','I60','P103','P525','I668','G452','I601','I660D','G460A','I613','I630','I632','G466A','G453','I616','G458','I606','I607','Z867','I615','G454','R413','I678','I636','I604','I661D','G461A','G467A','I638','I608','I605','P101','P524','G464A','I602','I679','I67','G46','I68','I671','I672','S062','S063','P10','P52','I658')\"\n",
    "tb93 <- bq_project_query(projectid, sql93)\n",
    "stroke_dcert <- bq_table_download(tb93)\n",
    "\n",
    "# Valve Disease\n",
    "sql94 <- \"SELECT * \n",
    "FROM `yhcr-prd-phm-bia-core.CB_FDM_DeathCertificates.tbl_NEC_Deaths_QWO_20230817_RELEASE`\n",
    "WHERE s_cod_code_1 IN ('I059','I05','I080','I081','I083','I34','I050','I051','I052','I011','I342','I069','I06','I060','I062','I082','I061','I078','I070','I072','I071','I079','I088','I234','I235','I340','Q233','I349','I359','I35','I391A','I351','Q231','I350','I352','Q230','I369','I36','I361','I360','I362','I07','I379','I37','I393A','Q221','Q222','Q223','I371','I370','I372','I089','I08','I394A','I38X','I398A','I512','I058','I068','I348','I358','I368','I378','I390A','I392A','Q220','Q224','Q225','Q232','Q238','Q244','Q253','Q228','Q229','T828','I341','Q239','Q23','I710','Q234','Q226','T820','I712','I711','Q254','I790A','Q208','Q210','I02','I511','I33','A520A','I330')\n",
    "OR s_cod_code_2 IN ('I059','I05','I080','I081','I083','I34','I050','I051','I052','I011','I342','I069','I06','I060','I062','I082','I061','I078','I070','I072','I071','I079','I088','I234','I235','I340','Q233','I349','I359','I35','I391A','I351','Q231','I350','I352','Q230','I369','I36','I361','I360','I362','I07','I379','I37','I393A','Q221','Q222','Q223','I371','I370','I372','I089','I08','I394A','I38X','I398A','I512','I058','I068','I348','I358','I368','I378','I390A','I392A','Q220','Q224','Q225','Q232','Q238','Q244','Q253','Q228','Q229','T828','I341','Q239','Q23','I710','Q234','Q226','T820','I712','I711','Q254','I790A','Q208','Q210','I02','I511','I33','A520A','I330')\n",
    "OR s_cod_code_3 IN ('I059','I05','I080','I081','I083','I34','I050','I051','I052','I011','I342','I069','I06','I060','I062','I082','I061','I078','I070','I072','I071','I079','I088','I234','I235','I340','Q233','I349','I359','I35','I391A','I351','Q231','I350','I352','Q230','I369','I36','I361','I360','I362','I07','I379','I37','I393A','Q221','Q222','Q223','I371','I370','I372','I089','I08','I394A','I38X','I398A','I512','I058','I068','I348','I358','I368','I378','I390A','I392A','Q220','Q224','Q225','Q232','Q238','Q244','Q253','Q228','Q229','T828','I341','Q239','Q23','I710','Q234','Q226','T820','I712','I711','Q254','I790A','Q208','Q210','I02','I511','I33','A520A','I330')\n",
    "OR s_cod_code_4 IN ('I059','I05','I080','I081','I083','I34','I050','I051','I052','I011','I342','I069','I06','I060','I062','I082','I061','I078','I070','I072','I071','I079','I088','I234','I235','I340','Q233','I349','I359','I35','I391A','I351','Q231','I350','I352','Q230','I369','I36','I361','I360','I362','I07','I379','I37','I393A','Q221','Q222','Q223','I371','I370','I372','I089','I08','I394A','I38X','I398A','I512','I058','I068','I348','I358','I368','I378','I390A','I392A','Q220','Q224','Q225','Q232','Q238','Q244','Q253','Q228','Q229','T828','I341','Q239','Q23','I710','Q234','Q226','T820','I712','I711','Q254','I790A','Q208','Q210','I02','I511','I33','A520A','I330')\n",
    "OR s_cod_code_5 IN ('I059','I05','I080','I081','I083','I34','I050','I051','I052','I011','I342','I069','I06','I060','I062','I082','I061','I078','I070','I072','I071','I079','I088','I234','I235','I340','Q233','I349','I359','I35','I391A','I351','Q231','I350','I352','Q230','I369','I36','I361','I360','I362','I07','I379','I37','I393A','Q221','Q222','Q223','I371','I370','I372','I089','I08','I394A','I38X','I398A','I512','I058','I068','I348','I358','I368','I378','I390A','I392A','Q220','Q224','Q225','Q232','Q238','Q244','Q253','Q228','Q229','T828','I341','Q239','Q23','I710','Q234','Q226','T820','I712','I711','Q254','I790A','Q208','Q210','I02','I511','I33','A520A','I330')\n",
    "OR s_cod_code_6 IN ('I059','I05','I080','I081','I083','I34','I050','I051','I052','I011','I342','I069','I06','I060','I062','I082','I061','I078','I070','I072','I071','I079','I088','I234','I235','I340','Q233','I349','I359','I35','I391A','I351','Q231','I350','I352','Q230','I369','I36','I361','I360','I362','I07','I379','I37','I393A','Q221','Q222','Q223','I371','I370','I372','I089','I08','I394A','I38X','I398A','I512','I058','I068','I348','I358','I368','I378','I390A','I392A','Q220','Q224','Q225','Q232','Q238','Q244','Q253','Q228','Q229','T828','I341','Q239','Q23','I710','Q234','Q226','T820','I712','I711','Q254','I790A','Q208','Q210','I02','I511','I33','A520A','I330')\n",
    "OR s_cod_code_7 IN ('I059','I05','I080','I081','I083','I34','I050','I051','I052','I011','I342','I069','I06','I060','I062','I082','I061','I078','I070','I072','I071','I079','I088','I234','I235','I340','Q233','I349','I359','I35','I391A','I351','Q231','I350','I352','Q230','I369','I36','I361','I360','I362','I07','I379','I37','I393A','Q221','Q222','Q223','I371','I370','I372','I089','I08','I394A','I38X','I398A','I512','I058','I068','I348','I358','I368','I378','I390A','I392A','Q220','Q224','Q225','Q232','Q238','Q244','Q253','Q228','Q229','T828','I341','Q239','Q23','I710','Q234','Q226','T820','I712','I711','Q254','I790A','Q208','Q210','I02','I511','I33','A520A','I330')\n",
    "OR s_cod_code_8 IN ('I059','I05','I080','I081','I083','I34','I050','I051','I052','I011','I342','I069','I06','I060','I062','I082','I061','I078','I070','I072','I071','I079','I088','I234','I235','I340','Q233','I349','I359','I35','I391A','I351','Q231','I350','I352','Q230','I369','I36','I361','I360','I362','I07','I379','I37','I393A','Q221','Q222','Q223','I371','I370','I372','I089','I08','I394A','I38X','I398A','I512','I058','I068','I348','I358','I368','I378','I390A','I392A','Q220','Q224','Q225','Q232','Q238','Q244','Q253','Q228','Q229','T828','I341','Q239','Q23','I710','Q234','Q226','T820','I712','I711','Q254','I790A','Q208','Q210','I02','I511','I33','A520A','I330')\n",
    "OR s_cod_code_9 IN ('I059','I05','I080','I081','I083','I34','I050','I051','I052','I011','I342','I069','I06','I060','I062','I082','I061','I078','I070','I072','I071','I079','I088','I234','I235','I340','Q233','I349','I359','I35','I391A','I351','Q231','I350','I352','Q230','I369','I36','I361','I360','I362','I07','I379','I37','I393A','Q221','Q222','Q223','I371','I370','I372','I089','I08','I394A','I38X','I398A','I512','I058','I068','I348','I358','I368','I378','I390A','I392A','Q220','Q224','Q225','Q232','Q238','Q244','Q253','Q228','Q229','T828','I341','Q239','Q23','I710','Q234','Q226','T820','I712','I711','Q254','I790A','Q208','Q210','I02','I511','I33','A520A','I330')\n",
    "OR s_cod_code_10 IN ('I059','I05','I080','I081','I083','I34','I050','I051','I052','I011','I342','I069','I06','I060','I062','I082','I061','I078','I070','I072','I071','I079','I088','I234','I235','I340','Q233','I349','I359','I35','I391A','I351','Q231','I350','I352','Q230','I369','I36','I361','I360','I362','I07','I379','I37','I393A','Q221','Q222','Q223','I371','I370','I372','I089','I08','I394A','I38X','I398A','I512','I058','I068','I348','I358','I368','I378','I390A','I392A','Q220','Q224','Q225','Q232','Q238','Q244','Q253','Q228','Q229','T828','I341','Q239','Q23','I710','Q234','Q226','T820','I712','I711','Q254','I790A','Q208','Q210','I02','I511','I33','A520A','I330')\n",
    "OR s_cod_code_11 IN ('I059','I05','I080','I081','I083','I34','I050','I051','I052','I011','I342','I069','I06','I060','I062','I082','I061','I078','I070','I072','I071','I079','I088','I234','I235','I340','Q233','I349','I359','I35','I391A','I351','Q231','I350','I352','Q230','I369','I36','I361','I360','I362','I07','I379','I37','I393A','Q221','Q222','Q223','I371','I370','I372','I089','I08','I394A','I38X','I398A','I512','I058','I068','I348','I358','I368','I378','I390A','I392A','Q220','Q224','Q225','Q232','Q238','Q244','Q253','Q228','Q229','T828','I341','Q239','Q23','I710','Q234','Q226','T820','I712','I711','Q254','I790A','Q208','Q210','I02','I511','I33','A520A','I330')\n",
    "OR s_cod_code_12 IN ('I059','I05','I080','I081','I083','I34','I050','I051','I052','I011','I342','I069','I06','I060','I062','I082','I061','I078','I070','I072','I071','I079','I088','I234','I235','I340','Q233','I349','I359','I35','I391A','I351','Q231','I350','I352','Q230','I369','I36','I361','I360','I362','I07','I379','I37','I393A','Q221','Q222','Q223','I371','I370','I372','I089','I08','I394A','I38X','I398A','I512','I058','I068','I348','I358','I368','I378','I390A','I392A','Q220','Q224','Q225','Q232','Q238','Q244','Q253','Q228','Q229','T828','I341','Q239','Q23','I710','Q234','Q226','T820','I712','I711','Q254','I790A','Q208','Q210','I02','I511','I33','A520A','I330')\n",
    "OR s_cod_code_13 IN ('I059','I05','I080','I081','I083','I34','I050','I051','I052','I011','I342','I069','I06','I060','I062','I082','I061','I078','I070','I072','I071','I079','I088','I234','I235','I340','Q233','I349','I359','I35','I391A','I351','Q231','I350','I352','Q230','I369','I36','I361','I360','I362','I07','I379','I37','I393A','Q221','Q222','Q223','I371','I370','I372','I089','I08','I394A','I38X','I398A','I512','I058','I068','I348','I358','I368','I378','I390A','I392A','Q220','Q224','Q225','Q232','Q238','Q244','Q253','Q228','Q229','T828','I341','Q239','Q23','I710','Q234','Q226','T820','I712','I711','Q254','I790A','Q208','Q210','I02','I511','I33','A520A','I330')\n",
    "OR s_cod_code_14 IN ('I059','I05','I080','I081','I083','I34','I050','I051','I052','I011','I342','I069','I06','I060','I062','I082','I061','I078','I070','I072','I071','I079','I088','I234','I235','I340','Q233','I349','I359','I35','I391A','I351','Q231','I350','I352','Q230','I369','I36','I361','I360','I362','I07','I379','I37','I393A','Q221','Q222','Q223','I371','I370','I372','I089','I08','I394A','I38X','I398A','I512','I058','I068','I348','I358','I368','I378','I390A','I392A','Q220','Q224','Q225','Q232','Q238','Q244','Q253','Q228','Q229','T828','I341','Q239','Q23','I710','Q234','Q226','T820','I712','I711','Q254','I790A','Q208','Q210','I02','I511','I33','A520A','I330')\n",
    "OR s_cod_code_15 IN ('I059','I05','I080','I081','I083','I34','I050','I051','I052','I011','I342','I069','I06','I060','I062','I082','I061','I078','I070','I072','I071','I079','I088','I234','I235','I340','Q233','I349','I359','I35','I391A','I351','Q231','I350','I352','Q230','I369','I36','I361','I360','I362','I07','I379','I37','I393A','Q221','Q222','Q223','I371','I370','I372','I089','I08','I394A','I38X','I398A','I512','I058','I068','I348','I358','I368','I378','I390A','I392A','Q220','Q224','Q225','Q232','Q238','Q244','Q253','Q228','Q229','T828','I341','Q239','Q23','I710','Q234','Q226','T820','I712','I711','Q254','I790A','Q208','Q210','I02','I511','I33','A520A','I330')\"\n",
    "tb94 <- bq_project_query(projectid, sql94)\n",
    "valve_disease_dcert <- bq_table_download(tb94)"
   ]
  },
  {
   "cell_type": "code",
   "execution_count": 29,
   "id": "46735c2b-0263-40d3-b315-ac4536dc2250",
   "metadata": {},
   "outputs": [],
   "source": [
    "# Keep relevant vars and derive has_*CVD*_death var\n",
    "# Angina\n",
    "angina <- angina_dcert %>%\n",
    "    mutate(has_angina_dc = 1) %>%\n",
    "    select(person_id, gender = sex, dec_agec, has_angina_dc) %>%\n",
    "    mutate(gender = as.integer(gender)) %>%\n",
    "    mutate(person_id = as.double(person_id))\n",
    "\n",
    "# Cardiomyopathy\n",
    "cardiomyopathy <- cardiomyopathy_dcert %>%\n",
    "    mutate(has_cardiomyopathy_dc = 1) %>%\n",
    "    select(person_id, gender = sex, dec_agec, has_cardiomyopathy_dc) %>%\n",
    "    mutate(gender = as.integer(gender)) %>%\n",
    "    mutate(person_id = as.double(person_id))\n",
    "\n",
    "# Heart Failure\n",
    "heart_failure <- heart_failure_dcert %>%\n",
    "    mutate(has_heart_failure_dc = 1) %>%\n",
    "    select(person_id, gender = sex, dec_agec, has_heart_failure_dc) %>%\n",
    "    mutate(gender = as.integer(gender)) %>%\n",
    "    mutate(person_id = as.double(person_id))\n",
    "\n",
    "# Hypertension\n",
    "hypertension <- hypertension_dcert %>%\n",
    "    mutate(has_hypertension_dc = 1) %>%\n",
    "    select(person_id, gender = sex, dec_agec, has_hypertension_dc) %>%\n",
    "    mutate(gender = as.integer(gender)) %>%\n",
    "    mutate(person_id = as.double(person_id))\n",
    "\n",
    "# IHD\n",
    "ihd <- ihd_dcert %>%\n",
    "    mutate(has_ihd_dc = 1) %>%\n",
    "    select(person_id, gender = sex, dec_agec, has_ihd_dc) %>%\n",
    "    mutate(gender = as.integer(gender)) %>%\n",
    "    mutate(person_id = as.double(person_id))\n",
    "\n",
    "# MI\n",
    "mi <- mi_dcert %>%\n",
    "    mutate(has_mi_dc = 1) %>%\n",
    "    select(person_id, gender = sex, dec_agec, has_mi_dc) %>%\n",
    "    mutate(gender = as.integer(gender)) %>%\n",
    "    mutate(person_id = as.double(person_id))\n",
    "\n",
    "# PVD\n",
    "pvd <- pvd_dcert %>%\n",
    "    mutate(has_pvd_dc = 1) %>%\n",
    "    select(person_id, gender = sex, dec_agec, has_pvd_dc) %>%\n",
    "    mutate(gender = as.integer(gender)) %>%\n",
    "    mutate(person_id = as.double(person_id))\n",
    "\n",
    "# Stroke\n",
    "stroke <- stroke_dcert %>%\n",
    "    mutate(has_stroke_dc = 1) %>%\n",
    "    select(person_id, gender = sex, dec_agec, has_stroke_dc) %>%\n",
    "    mutate(gender = as.integer(gender)) %>%\n",
    "    mutate(person_id = as.double(person_id))\n",
    "\n",
    "# Valve Disease\n",
    "valve_disease <- valve_disease_dcert %>%\n",
    "    mutate(has_valve_disease_dc = 1) %>%\n",
    "    select(person_id, gender = sex, dec_agec, has_valve_disease_dc) %>%\n",
    "    mutate(gender = as.integer(gender)) %>%\n",
    "    mutate(person_id = as.double(person_id))"
   ]
  },
  {
   "cell_type": "code",
   "execution_count": 18,
   "id": "e02cf47b-1f26-412e-9963-6347cd1a5a48",
   "metadata": {},
   "outputs": [],
   "source": [
    "# Keep relevant vars in diabetes dataset\n",
    "dm <- dc %>%\n",
    "    select(person_id, gender, ethnicity, imd_decile, birth_datetime, death_datetime.x, death_datetime.y, age_t1d_diag, date_t1d_diag, t1d_status, age_t2d_diag, date_t2d_diag, t2d_status, age_earliest_diab, earliest_diabetes_diag, \n",
    "           any_diabetes, diab_death_time, cvd_death_time, diab_cvd_time, has_cvd)"
   ]
  },
  {
   "cell_type": "code",
   "execution_count": 45,
   "id": "2d0e9d2a-fe99-4bba-9e23-fe75d8587884",
   "metadata": {},
   "outputs": [],
   "source": [
    "# Join death certificate datasets to dm data\n",
    "dm_dcert <- left_join(dm, angina, by = c(\"person_id\", \"gender\")) \n",
    "dm_dcert <- left_join(dm_dcert, cardiomyopathy, by = c(\"person_id\", \"gender\", \"dec_agec\"))\n",
    "dm_dcert <- left_join(dm_dcert, heart_failure, by = c(\"person_id\", \"gender\", \"dec_agec\"))\n",
    "dm_dcert <- left_join(dm_dcert, hypertension, by = c(\"person_id\", \"gender\", \"dec_agec\"))\n",
    "dm_dcert <- left_join(dm_dcert, ihd, by = c(\"person_id\", \"gender\", \"dec_agec\"))\n",
    "dm_dcert <- left_join(dm_dcert, mi, by = c(\"person_id\", \"gender\", \"dec_agec\"))\n",
    "dm_dcert <- left_join(dm_dcert, pvd, by = c(\"person_id\", \"gender\", \"dec_agec\"))\n",
    "dm_dcert <- left_join(dm_dcert, stroke, by = c(\"person_id\", \"gender\", \"dec_agec\"))\n",
    "dm_dcert <- left_join(dm_dcert, valve_disease, by = c(\"person_id\", \"gender\", \"dec_agec\"))"
   ]
  },
  {
   "cell_type": "code",
   "execution_count": 54,
   "id": "8137d62e-48ed-452d-8694-c5be13f80534",
   "metadata": {},
   "outputs": [],
   "source": [
    "# Replace NAs across has_* vars\n",
    "dm_dcert <- dm_dcert %>%\n",
    "    mutate_at(c('has_angina_dc','has_cardiomyopathy_dc', 'has_heart_failure_dc', 'has_hypertension_dc', 'has_ihd_dc', 'has_mi_dc', 'has_pvd_dc', 'has_stroke_dc', 'has_valve_disease_dc'), ~replace_na(.,0)) %>%\n",
    "    mutate(sum_cvd_dc = rowSums(across(c(\"has_angina_dc\", \"has_cardiomyopathy_dc\", \"has_heart_failure_dc\", \"has_hypertension_dc\", \"has_ihd_dc\", \"has_mi_dc\", \"has_pvd_dc\", \"has_stroke_dc\", \"has_valve_disease_dc\")))) %>%\n",
    "    mutate(has_cvd_dc = ifelse(sum_cvd_dc >= 1,1,0))"
   ]
  },
  {
   "cell_type": "code",
   "execution_count": 64,
   "id": "a7f62c08-0d10-4b9b-9bf0-3376f31d0a1d",
   "metadata": {},
   "outputs": [
    {
     "data": {
      "text/plain": [
       "\n",
       "    0     1     2     3     4 \n",
       "43957   125   132    56     7 "
      ]
     },
     "metadata": {},
     "output_type": "display_data"
    },
    {
     "data": {
      "text/plain": [
       "\n",
       "    0     1 \n",
       "43957   320 "
      ]
     },
     "metadata": {},
     "output_type": "display_data"
    },
    {
     "data": {
      "text/plain": [
       "   \n",
       "        0     1\n",
       "  0 28145 15812\n",
       "  1    70   250"
      ]
     },
     "metadata": {},
     "output_type": "display_data"
    },
    {
     "data": {
      "text/html": [
       "44277"
      ],
      "text/latex": [
       "44277"
      ],
      "text/markdown": [
       "44277"
      ],
      "text/plain": [
       "[1] 44277"
      ]
     },
     "metadata": {},
     "output_type": "display_data"
    },
    {
     "data": {
      "text/plain": [
       "\n",
       "    0     1 \n",
       "   27 44250 "
      ]
     },
     "metadata": {},
     "output_type": "display_data"
    },
    {
     "data": {
      "text/html": [
       "0"
      ],
      "text/latex": [
       "0"
      ],
      "text/markdown": [
       "0"
      ],
      "text/plain": [
       "[1] 0"
      ]
     },
     "metadata": {},
     "output_type": "display_data"
    },
    {
     "data": {
      "text/plain": [
       "   \n",
       "        0     1\n",
       "  0    26     1\n",
       "  1 43931   319"
      ]
     },
     "metadata": {},
     "output_type": "display_data"
    },
    {
     "data": {
      "text/plain": [
       "\n",
       "    0     1 \n",
       "28215 16062 "
      ]
     },
     "metadata": {},
     "output_type": "display_data"
    }
   ],
   "source": [
    "table(dm_dcert$sum_cvd_dc)\n",
    "table(dm_dcert$has_cvd_dc)\n",
    "table(dm_dcert$has_cvd_dc, dm_dcert$has_cvd)\n",
    "nrow(dm_dcert)\n",
    "table(dm_dcert$any_diabetes)\n",
    "sum(duplicated(dm_dcert))\n",
    "table(dm_dcert$any_diabetes, dm_dcert$has_cvd_dc)\n",
    "table(dm_dcert$has_cvd)"
   ]
  },
  {
   "cell_type": "code",
   "execution_count": 1,
   "id": "87e0fe80-57cc-4dc9-b079-11a4d3f2bedd",
   "metadata": {},
   "outputs": [
    {
     "data": {
      "text/html": [
       "3.03001519756839"
      ],
      "text/latex": [
       "3.03001519756839"
      ],
      "text/markdown": [
       "3.03001519756839"
      ],
      "text/plain": [
       "[1] 3.030015"
      ]
     },
     "metadata": {},
     "output_type": "display_data"
    }
   ],
   "source": [
    "# Deceased diabetic patients (n = 10528) who have a CVD on their death certificate \n",
    "(319/10528)*100"
   ]
  }
 ],
 "metadata": {
  "environment": {
   "kernel": "ir",
   "name": "r-cpu.4-2.m111",
   "type": "gcloud",
   "uri": "gcr.io/deeplearning-platform-release/r-cpu.4-2:m111"
  },
  "kernelspec": {
   "display_name": "R",
   "language": "R",
   "name": "ir"
  },
  "language_info": {
   "codemirror_mode": "r",
   "file_extension": ".r",
   "mimetype": "text/x-r-source",
   "name": "R",
   "pygments_lexer": "r",
   "version": "4.3.1"
  }
 },
 "nbformat": 4,
 "nbformat_minor": 5
}
