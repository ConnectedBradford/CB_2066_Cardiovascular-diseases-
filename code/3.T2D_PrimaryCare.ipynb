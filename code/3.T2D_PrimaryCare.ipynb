{
 "cells": [
  {
   "cell_type": "code",
   "execution_count": 1,
   "id": "3f3510c2-8e37-47ec-a7f1-21cd23f47961",
   "metadata": {},
   "outputs": [
    {
     "name": "stderr",
     "output_type": "stream",
     "text": [
      "── \u001b[1mAttaching core tidyverse packages\u001b[22m ──────────────────────── tidyverse 2.0.0 ──\n",
      "\u001b[32m✔\u001b[39m \u001b[34mdplyr    \u001b[39m 1.1.2     \u001b[32m✔\u001b[39m \u001b[34mreadr    \u001b[39m 2.1.4\n",
      "\u001b[32m✔\u001b[39m \u001b[34mforcats  \u001b[39m 1.0.0     \u001b[32m✔\u001b[39m \u001b[34mstringr  \u001b[39m 1.5.0\n",
      "\u001b[32m✔\u001b[39m \u001b[34mggplot2  \u001b[39m 3.4.4     \u001b[32m✔\u001b[39m \u001b[34mtibble   \u001b[39m 3.2.1\n",
      "\u001b[32m✔\u001b[39m \u001b[34mlubridate\u001b[39m 1.9.2     \u001b[32m✔\u001b[39m \u001b[34mtidyr    \u001b[39m 1.3.0\n",
      "\u001b[32m✔\u001b[39m \u001b[34mpurrr    \u001b[39m 1.0.2     \n",
      "── \u001b[1mConflicts\u001b[22m ────────────────────────────────────────── tidyverse_conflicts() ──\n",
      "\u001b[31m✖\u001b[39m \u001b[34mdplyr\u001b[39m::\u001b[32mfilter()\u001b[39m masks \u001b[34mstats\u001b[39m::filter()\n",
      "\u001b[31m✖\u001b[39m \u001b[34mdplyr\u001b[39m::\u001b[32mlag()\u001b[39m    masks \u001b[34mstats\u001b[39m::lag()\n",
      "\u001b[36mℹ\u001b[39m Use the conflicted package (\u001b[3m\u001b[34m<http://conflicted.r-lib.org/>\u001b[39m\u001b[23m) to force all conflicts to become errors\n"
     ]
    }
   ],
   "source": [
    "library(bigrquery)\n",
    "library(tidyverse)"
   ]
  },
  {
   "cell_type": "code",
   "execution_count": 2,
   "id": "10ca5b10-2555-40f3-83f2-72894aa07adb",
   "metadata": {},
   "outputs": [],
   "source": [
    "# Store the project ID\n",
    "projectid = \"yhcr-prd-phm-bia-core\""
   ]
  },
  {
   "cell_type": "code",
   "execution_count": 3,
   "id": "f3dc2bf6-abf5-40e7-b854-92386b565461",
   "metadata": {},
   "outputs": [
    {
     "name": "stderr",
     "output_type": "stream",
     "text": [
      "Warning message in as.integer.integer64(x):\n",
      "“NAs produced by integer overflow”\n"
     ]
    },
    {
     "data": {
      "text/html": [
       "<table class=\"dataframe\">\n",
       "<caption>A tibble: 6 × 25</caption>\n",
       "<thead>\n",
       "\t<tr><th scope=col>person_id</th><th scope=col>src_rowidentifier</th><th scope=col>src_dateeventrecorded</th><th scope=col>src_dateevent</th><th scope=col>src_iddoneby</th><th scope=col>src_idorganisationdoneat</th><th scope=col>src_ctv3code</th><th scope=col>src_ctv3text</th><th scope=col>src_snomedcode</th><th scope=col>src_numericvalue</th><th scope=col>⋯</th><th scope=col>src_idappointment</th><th scope=col>src_idvisit</th><th scope=col>care_site_id_doneat</th><th scope=col>care_site_id</th><th scope=col>care_site_id_registeredat</th><th scope=col>provider_id</th><th scope=col>procedure_source_concept_id</th><th scope=col>observation_source_concept_id</th><th scope=col>condition_source_concept_id</th><th scope=col>measurement_source_concept_id</th></tr>\n",
       "\t<tr><th scope=col>&lt;int&gt;</th><th scope=col>&lt;int&gt;</th><th scope=col>&lt;dttm&gt;</th><th scope=col>&lt;dttm&gt;</th><th scope=col>&lt;chr&gt;</th><th scope=col>&lt;chr&gt;</th><th scope=col>&lt;chr&gt;</th><th scope=col>&lt;chr&gt;</th><th scope=col>&lt;chr&gt;</th><th scope=col>&lt;chr&gt;</th><th scope=col>⋯</th><th scope=col>&lt;chr&gt;</th><th scope=col>&lt;chr&gt;</th><th scope=col>&lt;int&gt;</th><th scope=col>&lt;int&gt;</th><th scope=col>&lt;int&gt;</th><th scope=col>&lt;int&gt;</th><th scope=col>&lt;int&gt;</th><th scope=col>&lt;int&gt;</th><th scope=col>&lt;int&gt;</th><th scope=col>&lt;int&gt;</th></tr>\n",
       "</thead>\n",
       "<tbody>\n",
       "\t<tr><td>12460479</td><td>        NA</td><td>2014-01-09 15:40:44</td><td>2014-01-09 15:40:44</td><td>207227</td><td>733375168560</td><td>X40J5</td><td>Type II diabetes mellitus</td><td>44054006</td><td>0</td><td>⋯</td><td>-1</td><td>-1</td><td>226</td><td>226</td><td> NA</td><td>NA</td><td>NA</td><td>NA</td><td>201826</td><td>NA</td></tr>\n",
       "\t<tr><td>12479383</td><td>        NA</td><td>2017-08-07 08:37:21</td><td>2012-10-15 00:00:00</td><td>-1    </td><td>NULL        </td><td>X40J5</td><td>Type II diabetes mellitus</td><td>44054006</td><td>0</td><td>⋯</td><td>-1</td><td>-1</td><td> NA</td><td>501</td><td>501</td><td>NA</td><td>NA</td><td>NA</td><td>201826</td><td>NA</td></tr>\n",
       "\t<tr><td>12750799</td><td>        NA</td><td>2009-02-27 10:45:32</td><td>2009-02-27 10:45:32</td><td>1524  </td><td>B83019      </td><td>X40J5</td><td>Type II diabetes mellitus</td><td>44054006</td><td>0</td><td>⋯</td><td>-1</td><td>-1</td><td>409</td><td>409</td><td>409</td><td>NA</td><td>NA</td><td>NA</td><td>201826</td><td>NA</td></tr>\n",
       "\t<tr><td>12516315</td><td> 285550315</td><td>2009-04-27 00:00:00</td><td>2008-12-08 00:00:04</td><td>604593</td><td>B83022      </td><td>X40J5</td><td>Type II diabetes mellitus</td><td>44054006</td><td>0</td><td>⋯</td><td>-1</td><td>-1</td><td> 82</td><td> 82</td><td> 82</td><td>NA</td><td>NA</td><td>NA</td><td>201826</td><td>NA</td></tr>\n",
       "\t<tr><td>13679957</td><td>1233240668</td><td>2010-06-02 12:54:29</td><td>2010-05-13 00:00:00</td><td>533947</td><td>B83032      </td><td>X40J5</td><td>Type II diabetes mellitus</td><td>44054006</td><td>0</td><td>⋯</td><td>-1</td><td>-1</td><td>841</td><td>841</td><td>841</td><td>NA</td><td>NA</td><td>NA</td><td>201826</td><td>NA</td></tr>\n",
       "\t<tr><td>12801727</td><td> 745086332</td><td>2009-07-19 00:00:00</td><td>2008-11-20 00:00:00</td><td>517869</td><td>B83067      </td><td>X40J5</td><td>Type II diabetes mellitus</td><td>44054006</td><td>0</td><td>⋯</td><td>-1</td><td>-1</td><td>858</td><td>858</td><td>858</td><td>NA</td><td>NA</td><td>NA</td><td>201826</td><td>NA</td></tr>\n",
       "</tbody>\n",
       "</table>\n"
      ],
      "text/latex": [
       "A tibble: 6 × 25\n",
       "\\begin{tabular}{lllllllllllllllllllll}\n",
       " person\\_id & src\\_rowidentifier & src\\_dateeventrecorded & src\\_dateevent & src\\_iddoneby & src\\_idorganisationdoneat & src\\_ctv3code & src\\_ctv3text & src\\_snomedcode & src\\_numericvalue & ⋯ & src\\_idappointment & src\\_idvisit & care\\_site\\_id\\_doneat & care\\_site\\_id & care\\_site\\_id\\_registeredat & provider\\_id & procedure\\_source\\_concept\\_id & observation\\_source\\_concept\\_id & condition\\_source\\_concept\\_id & measurement\\_source\\_concept\\_id\\\\\n",
       " <int> & <int> & <dttm> & <dttm> & <chr> & <chr> & <chr> & <chr> & <chr> & <chr> & ⋯ & <chr> & <chr> & <int> & <int> & <int> & <int> & <int> & <int> & <int> & <int>\\\\\n",
       "\\hline\n",
       "\t 12460479 &         NA & 2014-01-09 15:40:44 & 2014-01-09 15:40:44 & 207227 & 733375168560 & X40J5 & Type II diabetes mellitus & 44054006 & 0 & ⋯ & -1 & -1 & 226 & 226 &  NA & NA & NA & NA & 201826 & NA\\\\\n",
       "\t 12479383 &         NA & 2017-08-07 08:37:21 & 2012-10-15 00:00:00 & -1     & NULL         & X40J5 & Type II diabetes mellitus & 44054006 & 0 & ⋯ & -1 & -1 &  NA & 501 & 501 & NA & NA & NA & 201826 & NA\\\\\n",
       "\t 12750799 &         NA & 2009-02-27 10:45:32 & 2009-02-27 10:45:32 & 1524   & B83019       & X40J5 & Type II diabetes mellitus & 44054006 & 0 & ⋯ & -1 & -1 & 409 & 409 & 409 & NA & NA & NA & 201826 & NA\\\\\n",
       "\t 12516315 &  285550315 & 2009-04-27 00:00:00 & 2008-12-08 00:00:04 & 604593 & B83022       & X40J5 & Type II diabetes mellitus & 44054006 & 0 & ⋯ & -1 & -1 &  82 &  82 &  82 & NA & NA & NA & 201826 & NA\\\\\n",
       "\t 13679957 & 1233240668 & 2010-06-02 12:54:29 & 2010-05-13 00:00:00 & 533947 & B83032       & X40J5 & Type II diabetes mellitus & 44054006 & 0 & ⋯ & -1 & -1 & 841 & 841 & 841 & NA & NA & NA & 201826 & NA\\\\\n",
       "\t 12801727 &  745086332 & 2009-07-19 00:00:00 & 2008-11-20 00:00:00 & 517869 & B83067       & X40J5 & Type II diabetes mellitus & 44054006 & 0 & ⋯ & -1 & -1 & 858 & 858 & 858 & NA & NA & NA & 201826 & NA\\\\\n",
       "\\end{tabular}\n"
      ],
      "text/markdown": [
       "\n",
       "A tibble: 6 × 25\n",
       "\n",
       "| person_id &lt;int&gt; | src_rowidentifier &lt;int&gt; | src_dateeventrecorded &lt;dttm&gt; | src_dateevent &lt;dttm&gt; | src_iddoneby &lt;chr&gt; | src_idorganisationdoneat &lt;chr&gt; | src_ctv3code &lt;chr&gt; | src_ctv3text &lt;chr&gt; | src_snomedcode &lt;chr&gt; | src_numericvalue &lt;chr&gt; | ⋯ ⋯ | src_idappointment &lt;chr&gt; | src_idvisit &lt;chr&gt; | care_site_id_doneat &lt;int&gt; | care_site_id &lt;int&gt; | care_site_id_registeredat &lt;int&gt; | provider_id &lt;int&gt; | procedure_source_concept_id &lt;int&gt; | observation_source_concept_id &lt;int&gt; | condition_source_concept_id &lt;int&gt; | measurement_source_concept_id &lt;int&gt; |\n",
       "|---|---|---|---|---|---|---|---|---|---|---|---|---|---|---|---|---|---|---|---|---|\n",
       "| 12460479 |         NA | 2014-01-09 15:40:44 | 2014-01-09 15:40:44 | 207227 | 733375168560 | X40J5 | Type II diabetes mellitus | 44054006 | 0 | ⋯ | -1 | -1 | 226 | 226 |  NA | NA | NA | NA | 201826 | NA |\n",
       "| 12479383 |         NA | 2017-08-07 08:37:21 | 2012-10-15 00:00:00 | -1     | NULL         | X40J5 | Type II diabetes mellitus | 44054006 | 0 | ⋯ | -1 | -1 |  NA | 501 | 501 | NA | NA | NA | 201826 | NA |\n",
       "| 12750799 |         NA | 2009-02-27 10:45:32 | 2009-02-27 10:45:32 | 1524   | B83019       | X40J5 | Type II diabetes mellitus | 44054006 | 0 | ⋯ | -1 | -1 | 409 | 409 | 409 | NA | NA | NA | 201826 | NA |\n",
       "| 12516315 |  285550315 | 2009-04-27 00:00:00 | 2008-12-08 00:00:04 | 604593 | B83022       | X40J5 | Type II diabetes mellitus | 44054006 | 0 | ⋯ | -1 | -1 |  82 |  82 |  82 | NA | NA | NA | 201826 | NA |\n",
       "| 13679957 | 1233240668 | 2010-06-02 12:54:29 | 2010-05-13 00:00:00 | 533947 | B83032       | X40J5 | Type II diabetes mellitus | 44054006 | 0 | ⋯ | -1 | -1 | 841 | 841 | 841 | NA | NA | NA | 201826 | NA |\n",
       "| 12801727 |  745086332 | 2009-07-19 00:00:00 | 2008-11-20 00:00:00 | 517869 | B83067       | X40J5 | Type II diabetes mellitus | 44054006 | 0 | ⋯ | -1 | -1 | 858 | 858 | 858 | NA | NA | NA | 201826 | NA |\n",
       "\n"
      ],
      "text/plain": [
       "  person_id src_rowidentifier src_dateeventrecorded src_dateevent      \n",
       "1 12460479          NA        2014-01-09 15:40:44   2014-01-09 15:40:44\n",
       "2 12479383          NA        2017-08-07 08:37:21   2012-10-15 00:00:00\n",
       "3 12750799          NA        2009-02-27 10:45:32   2009-02-27 10:45:32\n",
       "4 12516315   285550315        2009-04-27 00:00:00   2008-12-08 00:00:04\n",
       "5 13679957  1233240668        2010-06-02 12:54:29   2010-05-13 00:00:00\n",
       "6 12801727   745086332        2009-07-19 00:00:00   2008-11-20 00:00:00\n",
       "  src_iddoneby src_idorganisationdoneat src_ctv3code src_ctv3text             \n",
       "1 207227       733375168560             X40J5        Type II diabetes mellitus\n",
       "2 -1           NULL                     X40J5        Type II diabetes mellitus\n",
       "3 1524         B83019                   X40J5        Type II diabetes mellitus\n",
       "4 604593       B83022                   X40J5        Type II diabetes mellitus\n",
       "5 533947       B83032                   X40J5        Type II diabetes mellitus\n",
       "6 517869       B83067                   X40J5        Type II diabetes mellitus\n",
       "  src_snomedcode src_numericvalue ⋯ src_idappointment src_idvisit\n",
       "1 44054006       0                ⋯ -1                -1         \n",
       "2 44054006       0                ⋯ -1                -1         \n",
       "3 44054006       0                ⋯ -1                -1         \n",
       "4 44054006       0                ⋯ -1                -1         \n",
       "5 44054006       0                ⋯ -1                -1         \n",
       "6 44054006       0                ⋯ -1                -1         \n",
       "  care_site_id_doneat care_site_id care_site_id_registeredat provider_id\n",
       "1 226                 226           NA                       NA         \n",
       "2  NA                 501          501                       NA         \n",
       "3 409                 409          409                       NA         \n",
       "4  82                  82           82                       NA         \n",
       "5 841                 841          841                       NA         \n",
       "6 858                 858          858                       NA         \n",
       "  procedure_source_concept_id observation_source_concept_id\n",
       "1 NA                          NA                           \n",
       "2 NA                          NA                           \n",
       "3 NA                          NA                           \n",
       "4 NA                          NA                           \n",
       "5 NA                          NA                           \n",
       "6 NA                          NA                           \n",
       "  condition_source_concept_id measurement_source_concept_id\n",
       "1 201826                      NA                           \n",
       "2 201826                      NA                           \n",
       "3 201826                      NA                           \n",
       "4 201826                      NA                           \n",
       "5 201826                      NA                           \n",
       "6 201826                      NA                           "
      ]
     },
     "metadata": {},
     "output_type": "display_data"
    }
   ],
   "source": [
    "# Set your query\n",
    "sql <- \"SELECT * FROM `yhcr-prd-phm-bia-core.CB_FDM_PrimaryCare_v5.tbl_SRCode` \n",
    "WHERE src_dateevent BETWEEN '2007-01-01' AND '2022-12-31' AND (src_ctv3code LIKE '%C1011%' OR\n",
    "src_ctv3code LIKE '%C1031%' OR\n",
    "src_ctv3code LIKE '%C1090%' OR\n",
    "src_ctv3code LIKE '%C1091%' OR\n",
    "src_ctv3code LIKE '%C1092%' OR\n",
    "src_ctv3code LIKE '%C1093%' OR\n",
    "src_ctv3code LIKE '%C1094%' OR\n",
    "src_ctv3code LIKE '%C1095%' OR\n",
    "src_ctv3code LIKE '%C1096%' OR\n",
    "src_ctv3code LIKE '%C1097%' OR\n",
    "src_ctv3code LIKE '%L1806%' OR\n",
    "src_ctv3code LIKE '%X40J5%' OR\n",
    "src_ctv3code LIKE '%X40J6%' OR\n",
    "src_ctv3code LIKE '%XaELQ%' OR\n",
    "src_ctv3code LIKE '%XaEnp%' OR\n",
    "src_ctv3code LIKE '%XaEnq%' OR\n",
    "src_ctv3code LIKE '%XaF05%' OR\n",
    "src_ctv3code LIKE '%XaFWI%' OR\n",
    "src_ctv3code LIKE '%XaFmA%' OR\n",
    "src_ctv3code LIKE '%XaFn7%' OR\n",
    "src_ctv3code LIKE '%XaFn8%' OR\n",
    "src_ctv3code LIKE '%XaFn9%' OR\n",
    "src_ctv3code LIKE '%XaIfG%' OR\n",
    "src_ctv3code LIKE '%XaIfI%' OR\n",
    "src_ctv3code LIKE '%XaIrf%' OR\n",
    "src_ctv3code LIKE '%XaIzQ%' OR\n",
    "src_ctv3code LIKE '%XaIzR%' OR\n",
    "src_ctv3code LIKE '%XaJQp%' OR\n",
    "src_ctv3code LIKE '%XaKyX%')\"\n",
    "\n",
    "# Run the query; this returns a bq_table object that you can query further\n",
    "tb <- bq_project_query(projectid, sql)\n",
    "\n",
    "# Store data in a tibble\n",
    "t2d <-bq_table_download(tb)\n",
    "# Print table\n",
    "head(t2d)"
   ]
  },
  {
   "cell_type": "code",
   "execution_count": 4,
   "id": "e7d4aaa6-7433-4f74-8ad8-fb00b91879a7",
   "metadata": {},
   "outputs": [
    {
     "data": {
      "text/html": [
       "175083"
      ],
      "text/latex": [
       "175083"
      ],
      "text/markdown": [
       "175083"
      ],
      "text/plain": [
       "[1] 175083"
      ]
     },
     "metadata": {},
     "output_type": "display_data"
    },
    {
     "data": {
      "text/html": [
       "0"
      ],
      "text/latex": [
       "0"
      ],
      "text/markdown": [
       "0"
      ],
      "text/plain": [
       "[1] 0"
      ]
     },
     "metadata": {},
     "output_type": "display_data"
    },
    {
     "data": {
      "text/html": [
       "8198"
      ],
      "text/latex": [
       "8198"
      ],
      "text/markdown": [
       "8198"
      ],
      "text/plain": [
       "[1] 8198"
      ]
     },
     "metadata": {},
     "output_type": "display_data"
    },
    {
     "data": {
      "text/html": [
       "166885"
      ],
      "text/latex": [
       "166885"
      ],
      "text/markdown": [
       "166885"
      ],
      "text/plain": [
       "[1] 166885"
      ]
     },
     "metadata": {},
     "output_type": "display_data"
    }
   ],
   "source": [
    "# keep on columns 1,4,7 and 8\n",
    "t2d <- t2d %>% select(1,4,7,8)\n",
    "nrow(t2d)\n",
    "sum(is.na(t2d))\n",
    "sum(duplicated(t2d))\n",
    "\n",
    "# remove duplicated rows and count remaining number of rows\n",
    "t2d <- t2d[!duplicated(t2d),]\n",
    "nrow(t2d)\n",
    "\n",
    "# add indicator variable for t2d and remove ctv3 cols\n",
    "t2d <- t2d %>%\n",
    "  mutate(t2d_status = 1) %>%\n",
    "  select(-3,-4)\n",
    "\n",
    "# change class\n",
    "t2d$src_dateevent <- as.Date(t2d$src_dateevent)\n",
    "t2d$t2d_status <- as.integer(t2d$t2d_status)"
   ]
  },
  {
   "cell_type": "code",
   "execution_count": 5,
   "id": "87d32fe0-5c2a-4a51-a7d2-7e77a9fa5a91",
   "metadata": {},
   "outputs": [
    {
     "data": {
      "text/html": [
       "<table class=\"dataframe\">\n",
       "<caption>A tibble: 6 × 3</caption>\n",
       "<thead>\n",
       "\t<tr><th scope=col>person_id</th><th scope=col>src_dateevent</th><th scope=col>t2d_status</th></tr>\n",
       "\t<tr><th scope=col>&lt;int&gt;</th><th scope=col>&lt;date&gt;</th><th scope=col>&lt;int&gt;</th></tr>\n",
       "</thead>\n",
       "<tbody>\n",
       "\t<tr><td>12460479</td><td>2014-01-09</td><td>1</td></tr>\n",
       "\t<tr><td>12479383</td><td>2012-10-15</td><td>1</td></tr>\n",
       "\t<tr><td>12750799</td><td>2009-02-27</td><td>1</td></tr>\n",
       "\t<tr><td>12516315</td><td>2008-12-08</td><td>1</td></tr>\n",
       "\t<tr><td>13679957</td><td>2010-05-13</td><td>1</td></tr>\n",
       "\t<tr><td>12801727</td><td>2008-11-20</td><td>1</td></tr>\n",
       "</tbody>\n",
       "</table>\n"
      ],
      "text/latex": [
       "A tibble: 6 × 3\n",
       "\\begin{tabular}{lll}\n",
       " person\\_id & src\\_dateevent & t2d\\_status\\\\\n",
       " <int> & <date> & <int>\\\\\n",
       "\\hline\n",
       "\t 12460479 & 2014-01-09 & 1\\\\\n",
       "\t 12479383 & 2012-10-15 & 1\\\\\n",
       "\t 12750799 & 2009-02-27 & 1\\\\\n",
       "\t 12516315 & 2008-12-08 & 1\\\\\n",
       "\t 13679957 & 2010-05-13 & 1\\\\\n",
       "\t 12801727 & 2008-11-20 & 1\\\\\n",
       "\\end{tabular}\n"
      ],
      "text/markdown": [
       "\n",
       "A tibble: 6 × 3\n",
       "\n",
       "| person_id &lt;int&gt; | src_dateevent &lt;date&gt; | t2d_status &lt;int&gt; |\n",
       "|---|---|---|\n",
       "| 12460479 | 2014-01-09 | 1 |\n",
       "| 12479383 | 2012-10-15 | 1 |\n",
       "| 12750799 | 2009-02-27 | 1 |\n",
       "| 12516315 | 2008-12-08 | 1 |\n",
       "| 13679957 | 2010-05-13 | 1 |\n",
       "| 12801727 | 2008-11-20 | 1 |\n",
       "\n"
      ],
      "text/plain": [
       "  person_id src_dateevent t2d_status\n",
       "1 12460479  2014-01-09    1         \n",
       "2 12479383  2012-10-15    1         \n",
       "3 12750799  2009-02-27    1         \n",
       "4 12516315  2008-12-08    1         \n",
       "5 13679957  2010-05-13    1         \n",
       "6 12801727  2008-11-20    1         "
      ]
     },
     "metadata": {},
     "output_type": "display_data"
    },
    {
     "data": {
      "text/html": [
       "110283"
      ],
      "text/latex": [
       "110283"
      ],
      "text/markdown": [
       "110283"
      ],
      "text/plain": [
       "[1] 110283"
      ]
     },
     "metadata": {},
     "output_type": "display_data"
    }
   ],
   "source": [
    "head(t2d)\n",
    "sum(duplicated(t2d$person_id))"
   ]
  },
  {
   "cell_type": "code",
   "execution_count": 6,
   "id": "a40847ca-b109-42eb-9962-6154239ff0ca",
   "metadata": {},
   "outputs": [
    {
     "data": {
      "text/html": [
       "56602"
      ],
      "text/latex": [
       "56602"
      ],
      "text/markdown": [
       "56602"
      ],
      "text/plain": [
       "[1] 56602"
      ]
     },
     "metadata": {},
     "output_type": "display_data"
    }
   ],
   "source": [
    "# choose earliest date of event per person\n",
    "t2d <- t2d %>%\n",
    "group_by(person_id) %>%\n",
    "arrange(src_dateevent) %>%\n",
    "mutate(event_number = row_number()) %>%\n",
    "slice_min(event_number) %>%\n",
    "select(-event_number)\n",
    "nrow(t2d)"
   ]
  },
  {
   "cell_type": "code",
   "execution_count": 7,
   "id": "0a7c18d7-06a6-42c7-bef9-1381ebd13f19",
   "metadata": {},
   "outputs": [],
   "source": [
    "# set destination table - do this regardless of whether it already exists\n",
    "dest_dataset <- bq_dataset(\"yhcr-prd-phm-bia-core\",\"CB_MYSPACE_AH\")\n",
    "dest_table <- bq_table(dest_dataset, \"Type2Diabetes\")\n",
    "\n",
    "# create a full table spec as follows\n",
    "# then pass this to bq_table_upload\n",
    "dest_fields <- bq_fields(list(bq_field(\"person_id\", \"INT64\", \"REQUIRED\"),\n",
    "                              bq_field(\"src_dateevent\", \"DATE\"),\n",
    "                              bq_field(\"t2d_status\", \"INT64\")\n",
    "))\n",
    "\n",
    "# delete an existing table if necessary\n",
    "if(bq_table_exists(dest_table)) bq_table_delete(dest_table)\n",
    "# upload file_data to dest_table\n",
    "bq_table_upload(dest_table, t2d, fields = dest_fields, create_disposition='CREATE_IF_NEEDED', write_disposition='WRITE_TRUNCATE')"
   ]
  },
  {
   "cell_type": "code",
   "execution_count": 8,
   "id": "bf23436d-34f9-4bba-8575-588100991f50",
   "metadata": {},
   "outputs": [
    {
     "data": {
      "text/html": [
       "56602"
      ],
      "text/latex": [
       "56602"
      ],
      "text/markdown": [
       "56602"
      ],
      "text/plain": [
       "[1] 56602"
      ]
     },
     "metadata": {},
     "output_type": "display_data"
    }
   ],
   "source": [
    "nrow(t2d)"
   ]
  },
  {
   "cell_type": "code",
   "execution_count": null,
   "id": "3b6004f9-5c5d-447f-8671-c4bd7efb33f0",
   "metadata": {},
   "outputs": [],
   "source": []
  }
 ],
 "metadata": {
  "environment": {
   "kernel": "ir",
   "name": "r-cpu.4-2.m111",
   "type": "gcloud",
   "uri": "gcr.io/deeplearning-platform-release/r-cpu.4-2:m111"
  },
  "kernelspec": {
   "display_name": "R",
   "language": "R",
   "name": "ir"
  },
  "language_info": {
   "codemirror_mode": "r",
   "file_extension": ".r",
   "mimetype": "text/x-r-source",
   "name": "R",
   "pygments_lexer": "r",
   "version": "4.3.1"
  }
 },
 "nbformat": 4,
 "nbformat_minor": 5
}
