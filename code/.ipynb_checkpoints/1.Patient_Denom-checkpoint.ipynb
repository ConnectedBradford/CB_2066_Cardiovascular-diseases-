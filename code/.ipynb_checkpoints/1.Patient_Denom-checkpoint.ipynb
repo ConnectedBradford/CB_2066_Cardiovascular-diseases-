{
 "cells": [
  {
   "cell_type": "code",
   "execution_count": 2,
   "id": "7675eb41-881b-4b42-b1a2-a8ad0c1e3a94",
   "metadata": {},
   "outputs": [],
   "source": [
    "library(bigrquery)\n",
    "library(tidyverse)\n",
    "#install.packages(\"labelled\")\n",
    "library(labelled)"
   ]
  },
  {
   "cell_type": "code",
   "execution_count": 3,
   "id": "c84e00bf-1fb2-4352-9c9d-1fed02d1d51c",
   "metadata": {},
   "outputs": [],
   "source": [
    "# Store the project ID\n",
    "projectid = \"yhcr-prd-phm-bia-core\""
   ]
  },
  {
   "cell_type": "code",
   "execution_count": 4,
   "id": "caac35ff-8aa9-4aaf-8b1a-bf1366ab79c5",
   "metadata": {},
   "outputs": [],
   "source": [
    "# Load person table\n",
    "sql1 <- \"SELECT person_id, birth_datetime, death_datetime, gender_source_value, ethnicity_concept_id FROM `yhcr-prd-phm-bia-core.CB_FDM_MASTER.person`\n",
    "WHERE ethnicity_concept_id = 46285833\n",
    "OR ethnicity_concept_id = 46285834\n",
    "OR ethnicity_concept_id = 46285831\n",
    "OR ethnicity_concept_id = 46285832\n",
    "OR ethnicity_concept_id = 46285835\n",
    "OR ethnicity_concept_id = 46286811\n",
    "OR ethnicity_concept_id = 46285836\n",
    "OR ethnicity_concept_id = 46285837\n",
    "OR ethnicity_concept_id = 46285829\n",
    "OR ethnicity_concept_id = 46285839\n",
    "OR ethnicity_concept_id = 46285828\n",
    "OR ethnicity_concept_id = 46285827\n",
    "OR ethnicity_concept_id = 46285830\n",
    "OR ethnicity_concept_id = 46285838\n",
    "OR ethnicity_concept_id = 46285839\n",
    "OR ethnicity_concept_id = 46286810\n",
    "OR ethnicity_concept_id = 46285825\n",
    "OR ethnicity_concept_id = 46285824\n",
    "OR ethnicity_concept_id = 46285826\n",
    "OR ethnicity_concept_id = 46286810\""
   ]
  },
  {
   "cell_type": "code",
   "execution_count": 5,
   "id": "d9216229-8c07-48e6-ad5f-be668b928793",
   "metadata": {},
   "outputs": [],
   "source": [
    "tb1 <- bq_project_query(projectid, sql1)"
   ]
  },
  {
   "cell_type": "code",
   "execution_count": 6,
   "id": "480cba96-1747-4749-8c31-bdfcff058200",
   "metadata": {},
   "outputs": [],
   "source": [
    "pat1 <-bq_table_download(tb1) # store data in tibble"
   ]
  },
  {
   "cell_type": "code",
   "execution_count": 7,
   "id": "b1578756-e45d-42ec-91ce-2f6b67bac12c",
   "metadata": {},
   "outputs": [
    {
     "data": {
      "text/html": [
       "1653478"
      ],
      "text/latex": [
       "1653478"
      ],
      "text/markdown": [
       "1653478"
      ],
      "text/plain": [
       "[1] 1653478"
      ]
     },
     "metadata": {},
     "output_type": "display_data"
    }
   ],
   "source": [
    "nrow(pat1)"
   ]
  },
  {
   "cell_type": "code",
   "execution_count": 8,
   "id": "b7652d11-94fe-47e7-bfc5-5f36a76c5c99",
   "metadata": {},
   "outputs": [],
   "source": [
    "patient <- pat1 %>%\n",
    "    mutate(gender = case_when(\n",
    "        gender_source_value == \"M\" | gender_source_value == \"Male\" ~ 1,\n",
    "        gender_source_value == \"F\" | gender_source_value == \"Female\" ~ 2)) %>%\n",
    "    select(-gender_source_value) %>%\n",
    "  mutate(ethnicity = case_when(\n",
    "    ethnicity_concept_id == \"46286810\" | ethnicity_concept_id == \"46285826\" | ethnicity_concept_id == \"46285825\" | ethnicity_concept_id == \"46285824\" ~ 1,\n",
    "    ethnicity_concept_id == \"46285832\" | ethnicity_concept_id == \"46285833\" | ethnicity_concept_id == \"46285831\" ~ 2,\n",
    "    TRUE ~ 3)) %>%\n",
    "select(-ethnicity_concept_id)"
   ]
  },
  {
   "cell_type": "code",
   "execution_count": 9,
   "id": "971dd9c3-00dc-44a4-9ddf-f2cff3aed024",
   "metadata": {},
   "outputs": [
    {
     "data": {
      "text/plain": [
       "\n",
       "     1      2 \n",
       "683777 725157 "
      ]
     },
     "metadata": {},
     "output_type": "display_data"
    },
    {
     "data": {
      "text/plain": [
       "\n",
       "      1       2       3 \n",
       "1173486  318605  161387 "
      ]
     },
     "metadata": {},
     "output_type": "display_data"
    }
   ],
   "source": [
    "table(patient$gender)\n",
    "table(patient$ethnicity)"
   ]
  },
  {
   "cell_type": "code",
   "execution_count": 10,
   "id": "104f09c7-b114-4f11-889c-2676c7773e03",
   "metadata": {},
   "outputs": [],
   "source": [
    "# Load imd by lsoa, and person lsoa\n",
    "lsoa <- \"SELECT * FROM `yhcr-prd-phm-bia-core.CB_LOOKUPS.tbl_person_lsoa`\"\n",
    "tb <- bq_project_query(projectid, lsoa)\n",
    "lsoa <-bq_table_download(tb) "
   ]
  },
  {
   "cell_type": "code",
   "execution_count": 11,
   "id": "2a1b1cae-42a3-44fd-b1c7-45cdbc898f4b",
   "metadata": {},
   "outputs": [],
   "source": [
    "imd_lsoa <- \"SELECT LSOA_code, Index_of_Multiple_Deprivation_Decile FROM `yhcr-prd-phm-bia-core.CB_LOOKUPS.tbl_IMD_by_LSOA`\"\n",
    "tb1 <- bq_project_query(projectid, imd_lsoa)\n",
    "imd_lsoa <- bq_table_download(tb1)"
   ]
  },
  {
   "cell_type": "code",
   "execution_count": 12,
   "id": "23c36393-2a1e-40f6-b6a5-a197ec56f32a",
   "metadata": {},
   "outputs": [
    {
     "data": {
      "text/html": [
       "<table class=\"dataframe\">\n",
       "<caption>A tibble: 6 × 2</caption>\n",
       "<thead>\n",
       "\t<tr><th scope=col>lsoa</th><th scope=col>imd_decile</th></tr>\n",
       "\t<tr><th scope=col>&lt;chr&gt;</th><th scope=col>&lt;int&gt;</th></tr>\n",
       "</thead>\n",
       "<tbody>\n",
       "\t<tr><td>E01010700</td><td>1</td></tr>\n",
       "\t<tr><td>E01010700</td><td>1</td></tr>\n",
       "\t<tr><td>E01010700</td><td>1</td></tr>\n",
       "\t<tr><td>E01010700</td><td>1</td></tr>\n",
       "\t<tr><td>E01010700</td><td>1</td></tr>\n",
       "\t<tr><td>E01010700</td><td>1</td></tr>\n",
       "</tbody>\n",
       "</table>\n"
      ],
      "text/latex": [
       "A tibble: 6 × 2\n",
       "\\begin{tabular}{ll}\n",
       " lsoa & imd\\_decile\\\\\n",
       " <chr> & <int>\\\\\n",
       "\\hline\n",
       "\t E01010700 & 1\\\\\n",
       "\t E01010700 & 1\\\\\n",
       "\t E01010700 & 1\\\\\n",
       "\t E01010700 & 1\\\\\n",
       "\t E01010700 & 1\\\\\n",
       "\t E01010700 & 1\\\\\n",
       "\\end{tabular}\n"
      ],
      "text/markdown": [
       "\n",
       "A tibble: 6 × 2\n",
       "\n",
       "| lsoa &lt;chr&gt; | imd_decile &lt;int&gt; |\n",
       "|---|---|\n",
       "| E01010700 | 1 |\n",
       "| E01010700 | 1 |\n",
       "| E01010700 | 1 |\n",
       "| E01010700 | 1 |\n",
       "| E01010700 | 1 |\n",
       "| E01010700 | 1 |\n",
       "\n"
      ],
      "text/plain": [
       "  lsoa      imd_decile\n",
       "1 E01010700 1         \n",
       "2 E01010700 1         \n",
       "3 E01010700 1         \n",
       "4 E01010700 1         \n",
       "5 E01010700 1         \n",
       "6 E01010700 1         "
      ]
     },
     "metadata": {},
     "output_type": "display_data"
    },
    {
     "data": {
      "text/html": [
       "<table class=\"dataframe\">\n",
       "<caption>A tibble: 6 × 3</caption>\n",
       "<thead>\n",
       "\t<tr><th scope=col>person_id</th><th scope=col>lsoa</th><th scope=col>datasetref</th></tr>\n",
       "\t<tr><th scope=col>&lt;int&gt;</th><th scope=col>&lt;chr&gt;</th><th scope=col>&lt;chr&gt;</th></tr>\n",
       "</thead>\n",
       "<tbody>\n",
       "\t<tr><td>12649844</td><td>E01010568</td><td>gp_address_full_s_joinedto_lookup_pseudonymised_uprn_lsoa</td></tr>\n",
       "\t<tr><td>  728178</td><td>E01010568</td><td>gp_address_full_s_joinedto_lookup_pseudonymised_uprn_lsoa</td></tr>\n",
       "\t<tr><td>12812078</td><td>E01010568</td><td>gp_address_full_s_joinedto_lookup_pseudonymised_uprn_lsoa</td></tr>\n",
       "\t<tr><td>12479180</td><td>E01010568</td><td>gp_address_full_s_joinedto_lookup_pseudonymised_uprn_lsoa</td></tr>\n",
       "\t<tr><td>12663673</td><td>E01010568</td><td>gp_address_full_s_joinedto_lookup_pseudonymised_uprn_lsoa</td></tr>\n",
       "\t<tr><td>13585518</td><td>E01010568</td><td>gp_address_full_s_joinedto_lookup_pseudonymised_uprn_lsoa</td></tr>\n",
       "</tbody>\n",
       "</table>\n"
      ],
      "text/latex": [
       "A tibble: 6 × 3\n",
       "\\begin{tabular}{lll}\n",
       " person\\_id & lsoa & datasetref\\\\\n",
       " <int> & <chr> & <chr>\\\\\n",
       "\\hline\n",
       "\t 12649844 & E01010568 & gp\\_address\\_full\\_s\\_joinedto\\_lookup\\_pseudonymised\\_uprn\\_lsoa\\\\\n",
       "\t   728178 & E01010568 & gp\\_address\\_full\\_s\\_joinedto\\_lookup\\_pseudonymised\\_uprn\\_lsoa\\\\\n",
       "\t 12812078 & E01010568 & gp\\_address\\_full\\_s\\_joinedto\\_lookup\\_pseudonymised\\_uprn\\_lsoa\\\\\n",
       "\t 12479180 & E01010568 & gp\\_address\\_full\\_s\\_joinedto\\_lookup\\_pseudonymised\\_uprn\\_lsoa\\\\\n",
       "\t 12663673 & E01010568 & gp\\_address\\_full\\_s\\_joinedto\\_lookup\\_pseudonymised\\_uprn\\_lsoa\\\\\n",
       "\t 13585518 & E01010568 & gp\\_address\\_full\\_s\\_joinedto\\_lookup\\_pseudonymised\\_uprn\\_lsoa\\\\\n",
       "\\end{tabular}\n"
      ],
      "text/markdown": [
       "\n",
       "A tibble: 6 × 3\n",
       "\n",
       "| person_id &lt;int&gt; | lsoa &lt;chr&gt; | datasetref &lt;chr&gt; |\n",
       "|---|---|---|\n",
       "| 12649844 | E01010568 | gp_address_full_s_joinedto_lookup_pseudonymised_uprn_lsoa |\n",
       "|   728178 | E01010568 | gp_address_full_s_joinedto_lookup_pseudonymised_uprn_lsoa |\n",
       "| 12812078 | E01010568 | gp_address_full_s_joinedto_lookup_pseudonymised_uprn_lsoa |\n",
       "| 12479180 | E01010568 | gp_address_full_s_joinedto_lookup_pseudonymised_uprn_lsoa |\n",
       "| 12663673 | E01010568 | gp_address_full_s_joinedto_lookup_pseudonymised_uprn_lsoa |\n",
       "| 13585518 | E01010568 | gp_address_full_s_joinedto_lookup_pseudonymised_uprn_lsoa |\n",
       "\n"
      ],
      "text/plain": [
       "  person_id lsoa      datasetref                                               \n",
       "1 12649844  E01010568 gp_address_full_s_joinedto_lookup_pseudonymised_uprn_lsoa\n",
       "2   728178  E01010568 gp_address_full_s_joinedto_lookup_pseudonymised_uprn_lsoa\n",
       "3 12812078  E01010568 gp_address_full_s_joinedto_lookup_pseudonymised_uprn_lsoa\n",
       "4 12479180  E01010568 gp_address_full_s_joinedto_lookup_pseudonymised_uprn_lsoa\n",
       "5 12663673  E01010568 gp_address_full_s_joinedto_lookup_pseudonymised_uprn_lsoa\n",
       "6 13585518  E01010568 gp_address_full_s_joinedto_lookup_pseudonymised_uprn_lsoa"
      ]
     },
     "metadata": {},
     "output_type": "display_data"
    }
   ],
   "source": [
    "imd_lsoa <- imd_lsoa %>%\n",
    "rename(lsoa = LSOA_code) %>%\n",
    "rename(imd_decile = Index_of_Multiple_Deprivation_Decile)\n",
    "head(imd_lsoa)\n",
    "head(lsoa)"
   ]
  },
  {
   "cell_type": "code",
   "execution_count": 13,
   "id": "3a96ad57-07db-44b2-8818-7c66d84fa6fa",
   "metadata": {},
   "outputs": [
    {
     "name": "stderr",
     "output_type": "stream",
     "text": [
      "Warning message in full_join(lsoa, imd_lsoa, by = \"lsoa\"):\n",
      "“\u001b[1m\u001b[22mDetected an unexpected many-to-many relationship between `x` and `y`.\n",
      "\u001b[36mℹ\u001b[39m Row 1 of `x` matches multiple rows in `y`.\n",
      "\u001b[36mℹ\u001b[39m Row 13893 of `y` matches multiple rows in `x`.\n",
      "\u001b[36mℹ\u001b[39m If a many-to-many relationship is expected, set `relationship =\n",
      "  \"many-to-many\"` to silence this warning.”\n"
     ]
    },
    {
     "data": {
      "text/html": [
       "<table class=\"dataframe\">\n",
       "<caption>A tibble: 6 × 3</caption>\n",
       "<thead>\n",
       "\t<tr><th scope=col>person_id</th><th scope=col>datasetref</th><th scope=col>imd_decile</th></tr>\n",
       "\t<tr><th scope=col>&lt;int&gt;</th><th scope=col>&lt;chr&gt;</th><th scope=col>&lt;int&gt;</th></tr>\n",
       "</thead>\n",
       "<tbody>\n",
       "\t<tr><td>12649844</td><td>gp_address_full_s_joinedto_lookup_pseudonymised_uprn_lsoa</td><td>7</td></tr>\n",
       "\t<tr><td>  728178</td><td>gp_address_full_s_joinedto_lookup_pseudonymised_uprn_lsoa</td><td>7</td></tr>\n",
       "\t<tr><td>12812078</td><td>gp_address_full_s_joinedto_lookup_pseudonymised_uprn_lsoa</td><td>7</td></tr>\n",
       "\t<tr><td>12479180</td><td>gp_address_full_s_joinedto_lookup_pseudonymised_uprn_lsoa</td><td>7</td></tr>\n",
       "\t<tr><td>12663673</td><td>gp_address_full_s_joinedto_lookup_pseudonymised_uprn_lsoa</td><td>7</td></tr>\n",
       "\t<tr><td>13585518</td><td>gp_address_full_s_joinedto_lookup_pseudonymised_uprn_lsoa</td><td>7</td></tr>\n",
       "</tbody>\n",
       "</table>\n"
      ],
      "text/latex": [
       "A tibble: 6 × 3\n",
       "\\begin{tabular}{lll}\n",
       " person\\_id & datasetref & imd\\_decile\\\\\n",
       " <int> & <chr> & <int>\\\\\n",
       "\\hline\n",
       "\t 12649844 & gp\\_address\\_full\\_s\\_joinedto\\_lookup\\_pseudonymised\\_uprn\\_lsoa & 7\\\\\n",
       "\t   728178 & gp\\_address\\_full\\_s\\_joinedto\\_lookup\\_pseudonymised\\_uprn\\_lsoa & 7\\\\\n",
       "\t 12812078 & gp\\_address\\_full\\_s\\_joinedto\\_lookup\\_pseudonymised\\_uprn\\_lsoa & 7\\\\\n",
       "\t 12479180 & gp\\_address\\_full\\_s\\_joinedto\\_lookup\\_pseudonymised\\_uprn\\_lsoa & 7\\\\\n",
       "\t 12663673 & gp\\_address\\_full\\_s\\_joinedto\\_lookup\\_pseudonymised\\_uprn\\_lsoa & 7\\\\\n",
       "\t 13585518 & gp\\_address\\_full\\_s\\_joinedto\\_lookup\\_pseudonymised\\_uprn\\_lsoa & 7\\\\\n",
       "\\end{tabular}\n"
      ],
      "text/markdown": [
       "\n",
       "A tibble: 6 × 3\n",
       "\n",
       "| person_id &lt;int&gt; | datasetref &lt;chr&gt; | imd_decile &lt;int&gt; |\n",
       "|---|---|---|\n",
       "| 12649844 | gp_address_full_s_joinedto_lookup_pseudonymised_uprn_lsoa | 7 |\n",
       "|   728178 | gp_address_full_s_joinedto_lookup_pseudonymised_uprn_lsoa | 7 |\n",
       "| 12812078 | gp_address_full_s_joinedto_lookup_pseudonymised_uprn_lsoa | 7 |\n",
       "| 12479180 | gp_address_full_s_joinedto_lookup_pseudonymised_uprn_lsoa | 7 |\n",
       "| 12663673 | gp_address_full_s_joinedto_lookup_pseudonymised_uprn_lsoa | 7 |\n",
       "| 13585518 | gp_address_full_s_joinedto_lookup_pseudonymised_uprn_lsoa | 7 |\n",
       "\n"
      ],
      "text/plain": [
       "  person_id datasetref                                               \n",
       "1 12649844  gp_address_full_s_joinedto_lookup_pseudonymised_uprn_lsoa\n",
       "2   728178  gp_address_full_s_joinedto_lookup_pseudonymised_uprn_lsoa\n",
       "3 12812078  gp_address_full_s_joinedto_lookup_pseudonymised_uprn_lsoa\n",
       "4 12479180  gp_address_full_s_joinedto_lookup_pseudonymised_uprn_lsoa\n",
       "5 12663673  gp_address_full_s_joinedto_lookup_pseudonymised_uprn_lsoa\n",
       "6 13585518  gp_address_full_s_joinedto_lookup_pseudonymised_uprn_lsoa\n",
       "  imd_decile\n",
       "1 7         \n",
       "2 7         \n",
       "3 7         \n",
       "4 7         \n",
       "5 7         \n",
       "6 7         "
      ]
     },
     "metadata": {},
     "output_type": "display_data"
    },
    {
     "data": {
      "text/html": [
       "466672"
      ],
      "text/latex": [
       "466672"
      ],
      "text/markdown": [
       "466672"
      ],
      "text/plain": [
       "[1] 466672"
      ]
     },
     "metadata": {},
     "output_type": "display_data"
    },
    {
     "data": {
      "text/html": [
       "1098937"
      ],
      "text/latex": [
       "1098937"
      ],
      "text/markdown": [
       "1098937"
      ],
      "text/plain": [
       "[1] 1098937"
      ]
     },
     "metadata": {},
     "output_type": "display_data"
    }
   ],
   "source": [
    "imd_person <- full_join(lsoa, imd_lsoa, by = \"lsoa\")\n",
    "imd_person <- imd_person[!duplicated(imd_person$person_id),]\n",
    "imd_person <- imd_person %>% select(-lsoa)\n",
    "head(imd_person)\n",
    "sum(is.na(imd_person$imd_decile))\n",
    "imd_person <- imd_person[!is.na(imd_person$imd_decile),]\n",
    "nrow(imd_person)"
   ]
  },
  {
   "cell_type": "code",
   "execution_count": 14,
   "id": "3b051f77-9a63-4da2-b370-57c1f4730c56",
   "metadata": {},
   "outputs": [
    {
     "data": {
      "text/plain": [
       "\n",
       "     1      2      3      4      5      6      7      8      9     10 \n",
       "384207 105922 128678 104455  78357  95040  66898  60152  48298  26930 "
      ]
     },
     "metadata": {},
     "output_type": "display_data"
    },
    {
     "data": {
      "text/html": [
       "490129"
      ],
      "text/latex": [
       "490129"
      ],
      "text/markdown": [
       "490129"
      ],
      "text/plain": [
       "[1] 490129"
      ]
     },
     "metadata": {},
     "output_type": "display_data"
    },
    {
     "data": {
      "text/html": [
       "233133"
      ],
      "text/latex": [
       "233133"
      ],
      "text/markdown": [
       "233133"
      ],
      "text/plain": [
       "[1] 233133"
      ]
     },
     "metadata": {},
     "output_type": "display_data"
    },
    {
     "data": {
      "text/html": [
       "173397"
      ],
      "text/latex": [
       "173397"
      ],
      "text/markdown": [
       "173397"
      ],
      "text/plain": [
       "[1] 173397"
      ]
     },
     "metadata": {},
     "output_type": "display_data"
    },
    {
     "data": {
      "text/html": [
       "127050"
      ],
      "text/latex": [
       "127050"
      ],
      "text/markdown": [
       "127050"
      ],
      "text/plain": [
       "[1] 127050"
      ]
     },
     "metadata": {},
     "output_type": "display_data"
    },
    {
     "data": {
      "text/html": [
       "75228"
      ],
      "text/latex": [
       "75228"
      ],
      "text/markdown": [
       "75228"
      ],
      "text/plain": [
       "[1] 75228"
      ]
     },
     "metadata": {},
     "output_type": "display_data"
    }
   ],
   "source": [
    "table(imd_person$imd_decile)\n",
    "384207+105922\n",
    "128678+104455\n",
    "78357+95040\n",
    "66898+60152\n",
    "48298+26930"
   ]
  },
  {
   "cell_type": "code",
   "execution_count": 15,
   "id": "54071810-9e49-417d-93db-c9c281d4f99c",
   "metadata": {},
   "outputs": [],
   "source": [
    "pat_imd <- left_join(patient, imd_person, by = \"person_id\")"
   ]
  },
  {
   "cell_type": "code",
   "execution_count": 16,
   "id": "94bc05eb-b5c0-40b1-927f-169d37e45b42",
   "metadata": {},
   "outputs": [],
   "source": [
    "pat_imd <- pat_imd %>%\n",
    "    filter(!duplicated(pat_imd))"
   ]
  },
  {
   "cell_type": "code",
   "execution_count": 17,
   "id": "f76d0bae-1a79-4d49-9987-19e934ae99a1",
   "metadata": {},
   "outputs": [],
   "source": [
    "pat_imd <- pat_imd %>%\n",
    "    filter(!is.na(imd_decile))"
   ]
  },
  {
   "cell_type": "code",
   "execution_count": 18,
   "id": "4949239e-48be-45c9-8d28-3c1113e35724",
   "metadata": {},
   "outputs": [],
   "source": [
    "pat_imd <- pat_imd %>%\n",
    "    filter(!is.na(gender))"
   ]
  },
  {
   "cell_type": "code",
   "execution_count": 19,
   "id": "1bdb15a7-bfa4-4a54-a577-704bd9e53531",
   "metadata": {},
   "outputs": [
    {
     "data": {
      "text/html": [
       "<table class=\"dataframe\">\n",
       "<caption>A tibble: 6 × 7</caption>\n",
       "<thead>\n",
       "\t<tr><th scope=col>person_id</th><th scope=col>birth_datetime</th><th scope=col>death_datetime</th><th scope=col>gender</th><th scope=col>ethnicity</th><th scope=col>datasetref</th><th scope=col>imd_decile</th></tr>\n",
       "\t<tr><th scope=col>&lt;int&gt;</th><th scope=col>&lt;dttm&gt;</th><th scope=col>&lt;dttm&gt;</th><th scope=col>&lt;dbl&gt;</th><th scope=col>&lt;dbl&gt;</th><th scope=col>&lt;chr&gt;</th><th scope=col>&lt;int&gt;</th></tr>\n",
       "</thead>\n",
       "<tbody>\n",
       "\t<tr><td>7265307</td><td>2012-02-15</td><td>NA</td><td>1</td><td>1</td><td>src_Demographics_Master</td><td>5</td></tr>\n",
       "\t<tr><td>6883640</td><td>1956-04-15</td><td>NA</td><td>1</td><td>1</td><td>src_Demographics_Master</td><td>7</td></tr>\n",
       "\t<tr><td>8537347</td><td>1992-04-15</td><td>NA</td><td>1</td><td>1</td><td>src_Demographics_Master</td><td>8</td></tr>\n",
       "\t<tr><td>8649877</td><td>2012-04-15</td><td>NA</td><td>1</td><td>1</td><td>src_Demographics_Master</td><td>8</td></tr>\n",
       "\t<tr><td>7139168</td><td>2008-06-15</td><td>NA</td><td>1</td><td>1</td><td>src_Demographics_Master</td><td>9</td></tr>\n",
       "\t<tr><td>9012909</td><td>2020-07-15</td><td>NA</td><td>1</td><td>1</td><td>src_Demographics_Master</td><td>5</td></tr>\n",
       "</tbody>\n",
       "</table>\n"
      ],
      "text/latex": [
       "A tibble: 6 × 7\n",
       "\\begin{tabular}{lllllll}\n",
       " person\\_id & birth\\_datetime & death\\_datetime & gender & ethnicity & datasetref & imd\\_decile\\\\\n",
       " <int> & <dttm> & <dttm> & <dbl> & <dbl> & <chr> & <int>\\\\\n",
       "\\hline\n",
       "\t 7265307 & 2012-02-15 & NA & 1 & 1 & src\\_Demographics\\_Master & 5\\\\\n",
       "\t 6883640 & 1956-04-15 & NA & 1 & 1 & src\\_Demographics\\_Master & 7\\\\\n",
       "\t 8537347 & 1992-04-15 & NA & 1 & 1 & src\\_Demographics\\_Master & 8\\\\\n",
       "\t 8649877 & 2012-04-15 & NA & 1 & 1 & src\\_Demographics\\_Master & 8\\\\\n",
       "\t 7139168 & 2008-06-15 & NA & 1 & 1 & src\\_Demographics\\_Master & 9\\\\\n",
       "\t 9012909 & 2020-07-15 & NA & 1 & 1 & src\\_Demographics\\_Master & 5\\\\\n",
       "\\end{tabular}\n"
      ],
      "text/markdown": [
       "\n",
       "A tibble: 6 × 7\n",
       "\n",
       "| person_id &lt;int&gt; | birth_datetime &lt;dttm&gt; | death_datetime &lt;dttm&gt; | gender &lt;dbl&gt; | ethnicity &lt;dbl&gt; | datasetref &lt;chr&gt; | imd_decile &lt;int&gt; |\n",
       "|---|---|---|---|---|---|---|\n",
       "| 7265307 | 2012-02-15 | NA | 1 | 1 | src_Demographics_Master | 5 |\n",
       "| 6883640 | 1956-04-15 | NA | 1 | 1 | src_Demographics_Master | 7 |\n",
       "| 8537347 | 1992-04-15 | NA | 1 | 1 | src_Demographics_Master | 8 |\n",
       "| 8649877 | 2012-04-15 | NA | 1 | 1 | src_Demographics_Master | 8 |\n",
       "| 7139168 | 2008-06-15 | NA | 1 | 1 | src_Demographics_Master | 9 |\n",
       "| 9012909 | 2020-07-15 | NA | 1 | 1 | src_Demographics_Master | 5 |\n",
       "\n"
      ],
      "text/plain": [
       "  person_id birth_datetime death_datetime gender ethnicity\n",
       "1 7265307   2012-02-15     <NA>           1      1        \n",
       "2 6883640   1956-04-15     <NA>           1      1        \n",
       "3 8537347   1992-04-15     <NA>           1      1        \n",
       "4 8649877   2012-04-15     <NA>           1      1        \n",
       "5 7139168   2008-06-15     <NA>           1      1        \n",
       "6 9012909   2020-07-15     <NA>           1      1        \n",
       "  datasetref              imd_decile\n",
       "1 src_Demographics_Master 5         \n",
       "2 src_Demographics_Master 7         \n",
       "3 src_Demographics_Master 8         \n",
       "4 src_Demographics_Master 8         \n",
       "5 src_Demographics_Master 9         \n",
       "6 src_Demographics_Master 5         "
      ]
     },
     "metadata": {},
     "output_type": "display_data"
    },
    {
     "data": {
      "text/html": [
       "784186"
      ],
      "text/latex": [
       "784186"
      ],
      "text/markdown": [
       "784186"
      ],
      "text/plain": [
       "[1] 784186"
      ]
     },
     "metadata": {},
     "output_type": "display_data"
    }
   ],
   "source": [
    "head(pat_imd)\n",
    "nrow(pat_imd)\n",
    "patient <- pat_imd"
   ]
  },
  {
   "cell_type": "code",
   "execution_count": 20,
   "id": "eb6b631c-ce6d-49cb-b68e-2230cdcfd25f",
   "metadata": {},
   "outputs": [],
   "source": [
    "patient$birth_datetime <- as.Date(patient$birth_datetime)\n",
    "patient$death_datetime <- as.Date(patient$death_datetime)"
   ]
  },
  {
   "cell_type": "code",
   "execution_count": 21,
   "id": "8a41eb31-ed1d-4117-8f75-be9922a90d3d",
   "metadata": {},
   "outputs": [
    {
     "data": {
      "text/html": [
       "<table class=\"dataframe\">\n",
       "<caption>A tibble: 6 × 7</caption>\n",
       "<thead>\n",
       "\t<tr><th scope=col>person_id</th><th scope=col>birth_datetime</th><th scope=col>death_datetime</th><th scope=col>gender</th><th scope=col>ethnicity</th><th scope=col>datasetref</th><th scope=col>imd_decile</th></tr>\n",
       "\t<tr><th scope=col>&lt;int&gt;</th><th scope=col>&lt;date&gt;</th><th scope=col>&lt;date&gt;</th><th scope=col>&lt;dbl&gt;</th><th scope=col>&lt;dbl&gt;</th><th scope=col>&lt;chr&gt;</th><th scope=col>&lt;int&gt;</th></tr>\n",
       "</thead>\n",
       "<tbody>\n",
       "\t<tr><td>7265307</td><td>2012-02-15</td><td>NA</td><td>1</td><td>1</td><td>src_Demographics_Master</td><td>5</td></tr>\n",
       "\t<tr><td>6883640</td><td>1956-04-15</td><td>NA</td><td>1</td><td>1</td><td>src_Demographics_Master</td><td>7</td></tr>\n",
       "\t<tr><td>8537347</td><td>1992-04-15</td><td>NA</td><td>1</td><td>1</td><td>src_Demographics_Master</td><td>8</td></tr>\n",
       "\t<tr><td>8649877</td><td>2012-04-15</td><td>NA</td><td>1</td><td>1</td><td>src_Demographics_Master</td><td>8</td></tr>\n",
       "\t<tr><td>7139168</td><td>2008-06-15</td><td>NA</td><td>1</td><td>1</td><td>src_Demographics_Master</td><td>9</td></tr>\n",
       "\t<tr><td>9012909</td><td>2020-07-15</td><td>NA</td><td>1</td><td>1</td><td>src_Demographics_Master</td><td>5</td></tr>\n",
       "</tbody>\n",
       "</table>\n"
      ],
      "text/latex": [
       "A tibble: 6 × 7\n",
       "\\begin{tabular}{lllllll}\n",
       " person\\_id & birth\\_datetime & death\\_datetime & gender & ethnicity & datasetref & imd\\_decile\\\\\n",
       " <int> & <date> & <date> & <dbl> & <dbl> & <chr> & <int>\\\\\n",
       "\\hline\n",
       "\t 7265307 & 2012-02-15 & NA & 1 & 1 & src\\_Demographics\\_Master & 5\\\\\n",
       "\t 6883640 & 1956-04-15 & NA & 1 & 1 & src\\_Demographics\\_Master & 7\\\\\n",
       "\t 8537347 & 1992-04-15 & NA & 1 & 1 & src\\_Demographics\\_Master & 8\\\\\n",
       "\t 8649877 & 2012-04-15 & NA & 1 & 1 & src\\_Demographics\\_Master & 8\\\\\n",
       "\t 7139168 & 2008-06-15 & NA & 1 & 1 & src\\_Demographics\\_Master & 9\\\\\n",
       "\t 9012909 & 2020-07-15 & NA & 1 & 1 & src\\_Demographics\\_Master & 5\\\\\n",
       "\\end{tabular}\n"
      ],
      "text/markdown": [
       "\n",
       "A tibble: 6 × 7\n",
       "\n",
       "| person_id &lt;int&gt; | birth_datetime &lt;date&gt; | death_datetime &lt;date&gt; | gender &lt;dbl&gt; | ethnicity &lt;dbl&gt; | datasetref &lt;chr&gt; | imd_decile &lt;int&gt; |\n",
       "|---|---|---|---|---|---|---|\n",
       "| 7265307 | 2012-02-15 | NA | 1 | 1 | src_Demographics_Master | 5 |\n",
       "| 6883640 | 1956-04-15 | NA | 1 | 1 | src_Demographics_Master | 7 |\n",
       "| 8537347 | 1992-04-15 | NA | 1 | 1 | src_Demographics_Master | 8 |\n",
       "| 8649877 | 2012-04-15 | NA | 1 | 1 | src_Demographics_Master | 8 |\n",
       "| 7139168 | 2008-06-15 | NA | 1 | 1 | src_Demographics_Master | 9 |\n",
       "| 9012909 | 2020-07-15 | NA | 1 | 1 | src_Demographics_Master | 5 |\n",
       "\n"
      ],
      "text/plain": [
       "  person_id birth_datetime death_datetime gender ethnicity\n",
       "1 7265307   2012-02-15     <NA>           1      1        \n",
       "2 6883640   1956-04-15     <NA>           1      1        \n",
       "3 8537347   1992-04-15     <NA>           1      1        \n",
       "4 8649877   2012-04-15     <NA>           1      1        \n",
       "5 7139168   2008-06-15     <NA>           1      1        \n",
       "6 9012909   2020-07-15     <NA>           1      1        \n",
       "  datasetref              imd_decile\n",
       "1 src_Demographics_Master 5         \n",
       "2 src_Demographics_Master 7         \n",
       "3 src_Demographics_Master 8         \n",
       "4 src_Demographics_Master 8         \n",
       "5 src_Demographics_Master 9         \n",
       "6 src_Demographics_Master 5         "
      ]
     },
     "metadata": {},
     "output_type": "display_data"
    },
    {
     "data": {
      "text/html": [
       "0"
      ],
      "text/latex": [
       "0"
      ],
      "text/markdown": [
       "0"
      ],
      "text/plain": [
       "[1] 0"
      ]
     },
     "metadata": {},
     "output_type": "display_data"
    }
   ],
   "source": [
    "head(patient)\n",
    "sum(duplicated(patient))\n",
    "patient <- patient %>% select(-datasetref)"
   ]
  },
  {
   "cell_type": "code",
   "execution_count": 23,
   "id": "0c7a2942-9c75-44dd-8dd5-71981069c395",
   "metadata": {},
   "outputs": [
    {
     "data": {
      "text/plain": [
       "\n",
       "     1      2 \n",
       "385987 398199 "
      ]
     },
     "metadata": {},
     "output_type": "display_data"
    },
    {
     "data": {
      "text/plain": [
       "\n",
       "     1      2      3 \n",
       "495036 202615  86535 "
      ]
     },
     "metadata": {},
     "output_type": "display_data"
    },
    {
     "data": {
      "text/plain": [
       "\n",
       "     1      2      3      4      5      6      7      8      9     10 \n",
       "290711  77500  93078  74043  53405  63714  42832  40513  30533  17857 "
      ]
     },
     "metadata": {},
     "output_type": "display_data"
    },
    {
     "data": {
      "text/html": [
       "368211"
      ],
      "text/latex": [
       "368211"
      ],
      "text/markdown": [
       "368211"
      ],
      "text/plain": [
       "[1] 368211"
      ]
     },
     "metadata": {},
     "output_type": "display_data"
    },
    {
     "data": {
      "text/html": [
       "167121"
      ],
      "text/latex": [
       "167121"
      ],
      "text/markdown": [
       "167121"
      ],
      "text/plain": [
       "[1] 167121"
      ]
     },
     "metadata": {},
     "output_type": "display_data"
    },
    {
     "data": {
      "text/html": [
       "117119"
      ],
      "text/latex": [
       "117119"
      ],
      "text/markdown": [
       "117119"
      ],
      "text/plain": [
       "[1] 117119"
      ]
     },
     "metadata": {},
     "output_type": "display_data"
    },
    {
     "data": {
      "text/html": [
       "83345"
      ],
      "text/latex": [
       "83345"
      ],
      "text/markdown": [
       "83345"
      ],
      "text/plain": [
       "[1] 83345"
      ]
     },
     "metadata": {},
     "output_type": "display_data"
    },
    {
     "data": {
      "text/html": [
       "48390"
      ],
      "text/latex": [
       "48390"
      ],
      "text/markdown": [
       "48390"
      ],
      "text/plain": [
       "[1] 48390"
      ]
     },
     "metadata": {},
     "output_type": "display_data"
    }
   ],
   "source": [
    "table(patient$gender)\n",
    "table(patient$ethnicity)\n",
    "table(patient$imd_decile)\n",
    "290711+77500\n",
    "93078+74043\n",
    "53405+63714\n",
    "42832+40513\n",
    "30533+17857"
   ]
  },
  {
   "cell_type": "code",
   "execution_count": 24,
   "id": "708312f7-bf6b-4056-9f76-094161459a85",
   "metadata": {},
   "outputs": [],
   "source": [
    "bq_auth()"
   ]
  },
  {
   "cell_type": "code",
   "execution_count": null,
   "id": "75d1a1c5-6845-46f7-9cac-8166a4c21064",
   "metadata": {},
   "outputs": [],
   "source": [
    "# set destination table - do this regardless of whether it already exists\n",
    "dest_dataset <- bq_dataset(\"yhcr-prd-phm-bia-core\",\"CB_MYSPACE_AH\")\n",
    "dest_table <- bq_table(dest_dataset, \"Patient_Denom\")\n",
    "\n",
    "# create a full table spec as follows\n",
    "# then pass this to bq_table_upload\n",
    "dest_fields <- bq_fields(list(bq_field(\"person_id\", \"INT64\", \"REQUIRED\"),\n",
    "                              bq_field(\"birth_datetime\", \"DATE\"),\n",
    "                              bq_field(\"death_datetime\", \"DATE\"),\n",
    "                              bq_field(\"gender\", \"INT64\"),\n",
    "                              bq_field(\"ethnicity\", \"INT64\"),\n",
    "                              bq_field(\"imd_decile\", \"INT64\")))\n",
    "\n",
    "# delete an existing table if necessary\n",
    "if(bq_table_exists(dest_table)) bq_table_delete(dest_table)\n",
    "# upload file_data to dest_table\n",
    "bq_table_upload(dest_table, patient, fields = dest_fields, create_disposition='CREATE_IF_NEEDED', write_disposition='WRITE_TRUNCATE')"
   ]
  },
  {
   "cell_type": "code",
   "execution_count": null,
   "id": "6d1233c0-dcaa-4590-9858-82342367741a",
   "metadata": {},
   "outputs": [],
   "source": []
  }
 ],
 "metadata": {
  "environment": {
   "kernel": "ir",
   "name": "r-cpu.4-2.m111",
   "type": "gcloud",
   "uri": "gcr.io/deeplearning-platform-release/r-cpu.4-2:m111"
  },
  "kernelspec": {
   "display_name": "R",
   "language": "R",
   "name": "ir"
  },
  "language_info": {
   "codemirror_mode": "r",
   "file_extension": ".r",
   "mimetype": "text/x-r-source",
   "name": "R",
   "pygments_lexer": "r",
   "version": "4.3.1"
  }
 },
 "nbformat": 4,
 "nbformat_minor": 5
}
