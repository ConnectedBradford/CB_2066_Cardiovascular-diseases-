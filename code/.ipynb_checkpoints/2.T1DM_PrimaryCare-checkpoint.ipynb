{
 "cells": [
  {
   "cell_type": "code",
   "execution_count": 9,
   "id": "418bc672-2cf1-4ac2-95ae-86d62d42ee11",
   "metadata": {},
   "outputs": [],
   "source": [
    "library(bigrquery)\n",
    "library(tidyverse)"
   ]
  },
  {
   "cell_type": "code",
   "execution_count": 10,
   "id": "0e72cae3-185c-43c5-80fe-76b7acc1d99c",
   "metadata": {},
   "outputs": [],
   "source": [
    "# Store the project ID\n",
    "projectid = \"yhcr-prd-phm-bia-core\""
   ]
  },
  {
   "cell_type": "code",
   "execution_count": 11,
   "id": "3e33d30f-8737-474a-88d9-9f0818e87388",
   "metadata": {},
   "outputs": [],
   "source": [
    "# Set your query\n",
    "sql <- \"SELECT * FROM `yhcr-prd-phm-bia-core.CB_FDM_PrimaryCare_v5.tbl_SRCode` WHERE src_dateevent BETWEEN '2007-01-01' AND '2022-12-31' AND (src_ctv3code LIKE '%C1010%' OR\n",
    "src_ctv3code LIKE '%C1030%' OR\n",
    "src_ctv3code LIKE '%C1080%' OR\n",
    "src_ctv3code LIKE '%C1081%' OR\n",
    "src_ctv3code LIKE '%C1082%' OR\n",
    "src_ctv3code LIKE '%C1083%' OR\n",
    "src_ctv3code LIKE '%C1085%' OR\n",
    "src_ctv3code LIKE '%C1086%' OR\n",
    "src_ctv3code LIKE '%C1087%' OR\n",
    "src_ctv3code LIKE '%C1088%' OR\n",
    "src_ctv3code LIKE '%C1089%' OR\n",
    "src_ctv3code LIKE '%L1805%' OR\n",
    "src_ctv3code LIKE '%X40J4%' OR\n",
    "src_ctv3code LIKE '%X40JY%' OR\n",
    "src_ctv3code LIKE '%Xa4g7%' OR\n",
    "src_ctv3code LIKE '%XaELP%' OR\n",
    "src_ctv3code LIKE '%XaEnn%' OR\n",
    "src_ctv3code LIKE '%XaEno%' OR\n",
    "src_ctv3code LIKE '%XaF04%' OR\n",
    "src_ctv3code LIKE '%XaFWG%' OR\n",
    "src_ctv3code LIKE '%XaFm8%' OR\n",
    "src_ctv3code LIKE '%XaFmK%' OR\n",
    "src_ctv3code LIKE '%XaFmL%' OR\n",
    "src_ctv3code LIKE '%XaFmM%' OR\n",
    "src_ctv3code LIKE '%XaIzM%' OR\n",
    "src_ctv3code LIKE '%XaIzN%' OR\n",
    "src_ctv3code LIKE '%XaJSr%' OR\n",
    "src_ctv3code LIKE '%XaKyW%')\""
   ]
  },
  {
   "cell_type": "code",
   "execution_count": 12,
   "id": "781e8aa2-fb75-4f0a-b505-0150b247a21a",
   "metadata": {},
   "outputs": [],
   "source": [
    "# Run the query; this returns a bq_table object that you can query further\n",
    "tb <- bq_project_query(projectid, sql)"
   ]
  },
  {
   "cell_type": "code",
   "execution_count": 13,
   "id": "4091b0dd-ec66-4cc1-a65a-d2f005c9460a",
   "metadata": {},
   "outputs": [
    {
     "name": "stderr",
     "output_type": "stream",
     "text": [
      "Warning message in as.integer.integer64(x):\n",
      "“NAs produced by integer overflow”\n"
     ]
    }
   ],
   "source": [
    "# Store data in a tibble\n",
    "t1d <-bq_table_download(tb)"
   ]
  },
  {
   "cell_type": "code",
   "execution_count": 14,
   "id": "ac67fc58-7902-472d-8a62-16d694c417ad",
   "metadata": {},
   "outputs": [
    {
     "data": {
      "text/html": [
       "9800"
      ],
      "text/latex": [
       "9800"
      ],
      "text/markdown": [
       "9800"
      ],
      "text/plain": [
       "[1] 9800"
      ]
     },
     "metadata": {},
     "output_type": "display_data"
    },
    {
     "data": {
      "text/html": [
       "0"
      ],
      "text/latex": [
       "0"
      ],
      "text/markdown": [
       "0"
      ],
      "text/plain": [
       "[1] 0"
      ]
     },
     "metadata": {},
     "output_type": "display_data"
    },
    {
     "data": {
      "text/html": [
       "609"
      ],
      "text/latex": [
       "609"
      ],
      "text/markdown": [
       "609"
      ],
      "text/plain": [
       "[1] 609"
      ]
     },
     "metadata": {},
     "output_type": "display_data"
    }
   ],
   "source": [
    "# keep only columns 1,4,7, and 8\n",
    "t1d <- t1d %>% select(1,4,7,8)\n",
    "# number of rows, NAs, duplicated\n",
    "nrow(t1d)\n",
    "sum(is.na(t1d))\n",
    "sum(duplicated(t1d))"
   ]
  },
  {
   "cell_type": "code",
   "execution_count": 15,
   "id": "2c42b1a3-588e-429a-a9ac-017dde939715",
   "metadata": {},
   "outputs": [
    {
     "data": {
      "text/html": [
       "9191"
      ],
      "text/latex": [
       "9191"
      ],
      "text/markdown": [
       "9191"
      ],
      "text/plain": [
       "[1] 9191"
      ]
     },
     "metadata": {},
     "output_type": "display_data"
    }
   ],
   "source": [
    "# remove duplicated rows and view number of rows remaining\n",
    "t1d <- t1d[!duplicated(t1d),]\n",
    "nrow(t1d)"
   ]
  },
  {
   "cell_type": "code",
   "execution_count": 16,
   "id": "ccf4f5eb-695e-4653-a67b-474c532c9207",
   "metadata": {},
   "outputs": [
    {
     "data": {
      "text/html": [
       "<table class=\"dataframe\">\n",
       "<caption>A tibble: 6 × 3</caption>\n",
       "<thead>\n",
       "\t<tr><th scope=col>person_id</th><th scope=col>src_dateevent</th><th scope=col>t1d_status</th></tr>\n",
       "\t<tr><th scope=col>&lt;int&gt;</th><th scope=col>&lt;dttm&gt;</th><th scope=col>&lt;dbl&gt;</th></tr>\n",
       "</thead>\n",
       "<tbody>\n",
       "\t<tr><td> 7777930</td><td>2013-03-20 11:10:06</td><td>1</td></tr>\n",
       "\t<tr><td>11093217</td><td>2022-02-21 10:46:35</td><td>1</td></tr>\n",
       "\t<tr><td>12562319</td><td>2007-07-10 00:00:00</td><td>1</td></tr>\n",
       "\t<tr><td>12669405</td><td>2008-12-03 15:53:16</td><td>1</td></tr>\n",
       "\t<tr><td>13384762</td><td>2009-10-20 00:00:01</td><td>1</td></tr>\n",
       "\t<tr><td>12391036</td><td>2012-03-06 00:00:01</td><td>1</td></tr>\n",
       "</tbody>\n",
       "</table>\n"
      ],
      "text/latex": [
       "A tibble: 6 × 3\n",
       "\\begin{tabular}{lll}\n",
       " person\\_id & src\\_dateevent & t1d\\_status\\\\\n",
       " <int> & <dttm> & <dbl>\\\\\n",
       "\\hline\n",
       "\t  7777930 & 2013-03-20 11:10:06 & 1\\\\\n",
       "\t 11093217 & 2022-02-21 10:46:35 & 1\\\\\n",
       "\t 12562319 & 2007-07-10 00:00:00 & 1\\\\\n",
       "\t 12669405 & 2008-12-03 15:53:16 & 1\\\\\n",
       "\t 13384762 & 2009-10-20 00:00:01 & 1\\\\\n",
       "\t 12391036 & 2012-03-06 00:00:01 & 1\\\\\n",
       "\\end{tabular}\n"
      ],
      "text/markdown": [
       "\n",
       "A tibble: 6 × 3\n",
       "\n",
       "| person_id &lt;int&gt; | src_dateevent &lt;dttm&gt; | t1d_status &lt;dbl&gt; |\n",
       "|---|---|---|\n",
       "|  7777930 | 2013-03-20 11:10:06 | 1 |\n",
       "| 11093217 | 2022-02-21 10:46:35 | 1 |\n",
       "| 12562319 | 2007-07-10 00:00:00 | 1 |\n",
       "| 12669405 | 2008-12-03 15:53:16 | 1 |\n",
       "| 13384762 | 2009-10-20 00:00:01 | 1 |\n",
       "| 12391036 | 2012-03-06 00:00:01 | 1 |\n",
       "\n"
      ],
      "text/plain": [
       "  person_id src_dateevent       t1d_status\n",
       "1  7777930  2013-03-20 11:10:06 1         \n",
       "2 11093217  2022-02-21 10:46:35 1         \n",
       "3 12562319  2007-07-10 00:00:00 1         \n",
       "4 12669405  2008-12-03 15:53:16 1         \n",
       "5 13384762  2009-10-20 00:00:01 1         \n",
       "6 12391036  2012-03-06 00:00:01 1         "
      ]
     },
     "metadata": {},
     "output_type": "display_data"
    }
   ],
   "source": [
    "# add indicator variable for t1d status i.e. t1d = 1 and drop ctv3code and ctv3name\n",
    "t1d <- t1d %>%\n",
    "  mutate(t1d_status = 1) %>%\n",
    "  select(-3,-4)\n",
    "head(t1d)"
   ]
  },
  {
   "cell_type": "code",
   "execution_count": 17,
   "id": "7fb6d775-797b-43b6-9758-46b38c55e0ce",
   "metadata": {},
   "outputs": [],
   "source": [
    "# change class of t1d_status and dateevent\n",
    "t1d$src_dateevent <- as.Date(t1d$src_dateevent)\n",
    "t1d$t1d_status <- as.integer(t1d$t1d_status)"
   ]
  },
  {
   "cell_type": "code",
   "execution_count": 18,
   "id": "5fcae3f1-0556-4347-a67a-ee818f42dfbd",
   "metadata": {},
   "outputs": [
    {
     "data": {
      "text/html": [
       "<table class=\"dataframe\">\n",
       "<caption>A grouped_df: 6 × 3</caption>\n",
       "<thead>\n",
       "\t<tr><th scope=col>person_id</th><th scope=col>src_dateevent</th><th scope=col>t1d_status</th></tr>\n",
       "\t<tr><th scope=col>&lt;int&gt;</th><th scope=col>&lt;date&gt;</th><th scope=col>&lt;int&gt;</th></tr>\n",
       "</thead>\n",
       "<tbody>\n",
       "\t<tr><td> 1153</td><td>2007-02-19</td><td>1</td></tr>\n",
       "\t<tr><td> 5867</td><td>2015-04-10</td><td>1</td></tr>\n",
       "\t<tr><td> 8985</td><td>2007-05-15</td><td>1</td></tr>\n",
       "\t<tr><td>11297</td><td>2007-06-12</td><td>1</td></tr>\n",
       "\t<tr><td>13003</td><td>2022-07-26</td><td>1</td></tr>\n",
       "\t<tr><td>19698</td><td>2020-11-04</td><td>1</td></tr>\n",
       "</tbody>\n",
       "</table>\n"
      ],
      "text/latex": [
       "A grouped\\_df: 6 × 3\n",
       "\\begin{tabular}{lll}\n",
       " person\\_id & src\\_dateevent & t1d\\_status\\\\\n",
       " <int> & <date> & <int>\\\\\n",
       "\\hline\n",
       "\t  1153 & 2007-02-19 & 1\\\\\n",
       "\t  5867 & 2015-04-10 & 1\\\\\n",
       "\t  8985 & 2007-05-15 & 1\\\\\n",
       "\t 11297 & 2007-06-12 & 1\\\\\n",
       "\t 13003 & 2022-07-26 & 1\\\\\n",
       "\t 19698 & 2020-11-04 & 1\\\\\n",
       "\\end{tabular}\n"
      ],
      "text/markdown": [
       "\n",
       "A grouped_df: 6 × 3\n",
       "\n",
       "| person_id &lt;int&gt; | src_dateevent &lt;date&gt; | t1d_status &lt;int&gt; |\n",
       "|---|---|---|\n",
       "|  1153 | 2007-02-19 | 1 |\n",
       "|  5867 | 2015-04-10 | 1 |\n",
       "|  8985 | 2007-05-15 | 1 |\n",
       "| 11297 | 2007-06-12 | 1 |\n",
       "| 13003 | 2022-07-26 | 1 |\n",
       "| 19698 | 2020-11-04 | 1 |\n",
       "\n"
      ],
      "text/plain": [
       "  person_id src_dateevent t1d_status\n",
       "1  1153     2007-02-19    1         \n",
       "2  5867     2015-04-10    1         \n",
       "3  8985     2007-05-15    1         \n",
       "4 11297     2007-06-12    1         \n",
       "5 13003     2022-07-26    1         \n",
       "6 19698     2020-11-04    1         "
      ]
     },
     "metadata": {},
     "output_type": "display_data"
    }
   ],
   "source": [
    "t1d <- t1d %>%\n",
    "group_by(person_id) %>%\n",
    "arrange(src_dateevent) %>%\n",
    "mutate(event_number = row_number()) %>%\n",
    "slice_min(event_number) %>%\n",
    "select(-event_number)\n",
    "\n",
    "head(t1d)"
   ]
  },
  {
   "cell_type": "code",
   "execution_count": 19,
   "id": "dc59ca41-6601-4567-848f-cebbbea91adb",
   "metadata": {},
   "outputs": [
    {
     "data": {
      "text/html": [
       "3050"
      ],
      "text/latex": [
       "3050"
      ],
      "text/markdown": [
       "3050"
      ],
      "text/plain": [
       "[1] 3050"
      ]
     },
     "metadata": {},
     "output_type": "display_data"
    }
   ],
   "source": [
    "nrow(t1d)"
   ]
  },
  {
   "cell_type": "code",
   "execution_count": null,
   "id": "ee93d2df-1239-4686-a747-b3c65a43cb5a",
   "metadata": {},
   "outputs": [],
   "source": []
  },
  {
   "cell_type": "code",
   "execution_count": 20,
   "id": "7dd4f764-f273-4619-9db9-024ca0352b8d",
   "metadata": {},
   "outputs": [],
   "source": [
    "# set destination table - do this regardless of whether it already exists\n",
    "dest_dataset <- bq_dataset(\"yhcr-prd-phm-bia-core\",\"CB_MYSPACE_AH\")\n",
    "dest_table <- bq_table(dest_dataset, \"Type1Diabetes\")"
   ]
  },
  {
   "cell_type": "code",
   "execution_count": 21,
   "id": "c1955468-a189-4b14-8acb-284d94451c4b",
   "metadata": {},
   "outputs": [],
   "source": [
    "# create a full table spec as follows\n",
    "# then pass this to bq_table_upload\n",
    "dest_fields <- bq_fields(list(bq_field(\"person_id\", \"INT64\", \"REQUIRED\"),\n",
    "                              bq_field(\"src_dateevent\", \"DATE\"),\n",
    "                              bq_field(\"t1d_status\", \"INT64\")\n",
    "))\n",
    "\n",
    "# delete an existing table if necessary\n",
    "if(bq_table_exists(dest_table)) bq_table_delete(dest_table)\n",
    "# upload file_data to dest_table\n",
    "bq_table_upload(dest_table, t1d, fields = dest_fields, create_disposition='CREATE_IF_NEEDED', write_disposition='WRITE_TRUNCATE')"
   ]
  },
  {
   "cell_type": "code",
   "execution_count": null,
   "id": "636253a6-91f0-4786-8618-be9d7a4f19f1",
   "metadata": {},
   "outputs": [],
   "source": []
  }
 ],
 "metadata": {
  "environment": {
   "kernel": "ir",
   "name": "r-cpu.4-2.m111",
   "type": "gcloud",
   "uri": "gcr.io/deeplearning-platform-release/r-cpu.4-2:m111"
  },
  "kernelspec": {
   "display_name": "R",
   "language": "R",
   "name": "ir"
  },
  "language_info": {
   "codemirror_mode": "r",
   "file_extension": ".r",
   "mimetype": "text/x-r-source",
   "name": "R",
   "pygments_lexer": "r",
   "version": "4.3.1"
  }
 },
 "nbformat": 4,
 "nbformat_minor": 5
}
