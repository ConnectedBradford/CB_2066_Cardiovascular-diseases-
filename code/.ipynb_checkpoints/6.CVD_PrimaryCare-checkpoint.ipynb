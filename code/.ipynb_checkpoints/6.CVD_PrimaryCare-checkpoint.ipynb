{
 "cells": [
  {
   "cell_type": "code",
   "execution_count": 1,
   "id": "3126683d-9cd4-4ab1-b517-5eed85214e8f",
   "metadata": {},
   "outputs": [
    {
     "name": "stderr",
     "output_type": "stream",
     "text": [
      "── \u001b[1mAttaching core tidyverse packages\u001b[22m ──────────────────────── tidyverse 2.0.0 ──\n",
      "\u001b[32m✔\u001b[39m \u001b[34mdplyr    \u001b[39m 1.1.2     \u001b[32m✔\u001b[39m \u001b[34mreadr    \u001b[39m 2.1.4\n",
      "\u001b[32m✔\u001b[39m \u001b[34mforcats  \u001b[39m 1.0.0     \u001b[32m✔\u001b[39m \u001b[34mstringr  \u001b[39m 1.5.0\n",
      "\u001b[32m✔\u001b[39m \u001b[34mggplot2  \u001b[39m 3.4.4     \u001b[32m✔\u001b[39m \u001b[34mtibble   \u001b[39m 3.2.1\n",
      "\u001b[32m✔\u001b[39m \u001b[34mlubridate\u001b[39m 1.9.2     \u001b[32m✔\u001b[39m \u001b[34mtidyr    \u001b[39m 1.3.0\n",
      "\u001b[32m✔\u001b[39m \u001b[34mpurrr    \u001b[39m 1.0.2     \n",
      "── \u001b[1mConflicts\u001b[22m ────────────────────────────────────────── tidyverse_conflicts() ──\n",
      "\u001b[31m✖\u001b[39m \u001b[34mdplyr\u001b[39m::\u001b[32mfilter()\u001b[39m masks \u001b[34mstats\u001b[39m::filter()\n",
      "\u001b[31m✖\u001b[39m \u001b[34mdplyr\u001b[39m::\u001b[32mlag()\u001b[39m    masks \u001b[34mstats\u001b[39m::lag()\n",
      "\u001b[36mℹ\u001b[39m Use the conflicted package (\u001b[3m\u001b[34m<http://conflicted.r-lib.org/>\u001b[39m\u001b[23m) to force all conflicts to become errors\n"
     ]
    }
   ],
   "source": [
    "library(bigrquery)\n",
    "library(tidyverse)"
   ]
  },
  {
   "cell_type": "code",
   "execution_count": 2,
   "id": "579f8926-976f-4674-b705-8b358a8be331",
   "metadata": {},
   "outputs": [],
   "source": [
    "# Store the project ID\n",
    "projectid = \"yhcr-prd-phm-bia-core\""
   ]
  },
  {
   "cell_type": "code",
   "execution_count": 3,
   "id": "99df6415-d3d5-4e4b-9114-5d28914a7b2f",
   "metadata": {},
   "outputs": [],
   "source": [
    "# Angina: Primary care between 2002-2022\n",
    "sql1 <- \"SELECT person_id, src_dateevent, src_ctv3code, src_ctv3text FROM `yhcr-prd-phm-bia-core.CB_FDM_PrimaryCare_v5.tbl_SRCode` \n",
    "WHERE src_dateevent BETWEEN '2002-01-01' AND '2022-12-31' AND (src_ctv3code LIKE '%G311.%' OR src_ctv3code LIKE '%G31y0%' OR src_ctv3code LIKE '%G33..%' OR src_ctv3code LIKE '%G33..%'\n",
    "OR src_ctv3code LIKE '%G33..%' OR src_ctv3code LIKE '%G33..%' OR src_ctv3code LIKE '%G33..%' OR src_ctv3code LIKE '%G33..%' OR src_ctv3code LIKE '%G33..%' OR src_ctv3code LIKE '%G33..%'\n",
    "OR src_ctv3code LIKE '%G33..%' OR src_ctv3code LIKE '%G33..%' OR src_ctv3code LIKE '%G33..%' OR src_ctv3code LIKE '%G3300%' OR src_ctv3code LIKE '%G331.%' OR src_ctv3code LIKE '%G33z3%')\"\n",
    "tb1 <- bq_project_query(projectid, sql1)\n",
    "angina <-bq_table_download(tb1) # store data in tibble\n",
    "\n",
    "# Cardiomyopathy: Primary care between 2002-2022\n",
    "sql2 <- \"SELECT person_id, src_dateevent, src_ctv3code, src_ctv3text FROM `yhcr-prd-phm-bia-core.CB_FDM_PrimaryCare_v5.tbl_SRCode` \n",
    "WHERE src_dateevent BETWEEN '2002-01-01' AND '2022-12-31' AND (src_ctv3code LIKE '%C3733%' OR src_ctv3code LIKE '%C3733%' OR src_ctv3code LIKE '%G343.%' OR src_ctv3code LIKE '%G55..%'\n",
    "OR src_ctv3code LIKE '%G55..%' OR src_ctv3code LIKE '%G55..%' OR src_ctv3code LIKE '%G55..%' OR src_ctv3code LIKE '%G55..%' OR src_ctv3code LIKE '%G55..%' OR src_ctv3code LIKE '%G55..%' \n",
    "OR src_ctv3code LIKE '%G55..%' OR src_ctv3code LIKE '%G55..%' OR src_ctv3code LIKE '%G550.%' OR src_ctv3code LIKE '%G551.%' OR src_ctv3code LIKE '%G554.%' OR src_ctv3code LIKE '%G5541%'\n",
    "OR src_ctv3code LIKE '%G5543%' OR src_ctv3code LIKE '%G5544%' OR src_ctv3code LIKE '%G556.%' OR src_ctv3code LIKE '%G556.%' OR src_ctv3code LIKE '%G556.%' OR src_ctv3code LIKE '%G556.%'\n",
    "OR src_ctv3code LIKE '%G557.%' OR src_ctv3code LIKE '%G557.%' OR src_ctv3code LIKE '%G5572%' OR src_ctv3code LIKE '%G5574%' OR src_ctv3code LIKE '%G5574%' OR src_ctv3code LIKE '%G558.%' \n",
    "OR src_ctv3code LIKE '%G5580%' OR src_ctv3code LIKE '%G5581%' OR src_ctv3code LIKE '%G55y0%' OR src_ctv3code LIKE '%G5y1.%' OR src_ctv3code LIKE '%Gyu5Q%' OR src_ctv3code LIKE '%Gyu5S%'\n",
    "OR src_ctv3code LIKE '%X708p%' OR src_ctv3code LIKE '%X776w%' OR src_ctv3code LIKE '%XaI9b%')\"\n",
    "tb2 <- bq_project_query(projectid, sql2)\n",
    "cardiomyopathy <-bq_table_download(tb2) # store data in tibble\n",
    "\n",
    "# Heart Failure: Primary care between 2002-2022\n",
    "sql3 <- \"SELECT person_id, src_dateevent, src_ctv3code, src_ctv3text FROM `yhcr-prd-phm-bia-core.CB_FDM_PrimaryCare_v5.tbl_SRCode` \n",
    "WHERE src_dateevent BETWEEN '2002-01-01' AND '2022-12-31' AND (src_ctv3code LIKE '%G1yz1%' OR src_ctv3code LIKE '%G58..%' OR src_ctv3code LIKE '%G58..%' OR src_ctv3code LIKE '%G58..%'\n",
    "OR src_ctv3code LIKE '%G58..%' OR src_ctv3code LIKE '%G58..%' OR src_ctv3code LIKE '%G58..%' OR src_ctv3code LIKE '%G58..%' OR src_ctv3code LIKE '%G58..%' OR src_ctv3code LIKE '%G58..%'\n",
    "OR src_ctv3code LIKE '%G58..%' OR src_ctv3code LIKE '%G58..%' OR src_ctv3code LIKE '%G58..%' OR src_ctv3code LIKE '%G58..%' OR src_ctv3code LIKE '%G58..%' OR src_ctv3code LIKE '%G580.%'\n",
    "OR src_ctv3code LIKE '%G5802%' OR src_ctv3code LIKE '%G5810%' OR src_ctv3code LIKE '%G5810%' OR src_ctv3code LIKE '%G5810%' OR src_ctv3code LIKE '%G5810%' OR src_ctv3code LIKE '%G5y4.%')\"\n",
    "tb3 <- bq_project_query(projectid, sql3)\n",
    "heart_failure <-bq_table_download(tb3) # store data in tibble\n",
    "\n",
    "# Hypertension: Primary care between 2002-2022\n",
    "sql4 <- \"SELECT person_id, src_dateevent, src_ctv3code, src_ctv3text FROM `yhcr-prd-phm-bia-core.CB_FDM_PrimaryCare_v5.tbl_SRCode` \n",
    "WHERE src_dateevent BETWEEN '2002-01-01' AND '2022-12-31' AND (src_ctv3code LIKE '%61462%' OR src_ctv3code LIKE '%G2...%' OR src_ctv3code LIKE '%G20..%' OR src_ctv3code LIKE '%G20..%'\n",
    "OR src_ctv3code LIKE '%G20..%' OR src_ctv3code LIKE '%G20..%' OR src_ctv3code LIKE '%G20..%' OR src_ctv3code LIKE '%G20..%' OR src_ctv3code LIKE '%G20..%' OR src_ctv3code LIKE '%G20..%'\n",
    "OR src_ctv3code LIKE '%G20..%' OR src_ctv3code LIKE '%G20..%' OR src_ctv3code LIKE '%G20..%' OR src_ctv3code LIKE '%G20..%' OR src_ctv3code LIKE '%G200.%' OR src_ctv3code LIKE '%G200.%'\n",
    "OR src_ctv3code LIKE '%G200.%' OR src_ctv3code LIKE '%G22z.%' OR src_ctv3code LIKE '%G24..%' OR src_ctv3code LIKE '%G24..%' OR src_ctv3code LIKE '%G24..%' OR src_ctv3code LIKE '%G2400%'\n",
    "OR src_ctv3code LIKE '%G244.%' OR src_ctv3code LIKE '%Gyu21%' OR src_ctv3code LIKE '%L12..%' OR src_ctv3code LIKE '%L120.%' OR src_ctv3code LIKE '%L121.%' OR src_ctv3code LIKE '%L122.%'\n",
    "OR src_ctv3code LIKE '%L125.%' OR src_ctv3code LIKE '%L1250%' OR src_ctv3code LIKE '%L126.%' OR src_ctv3code LIKE '%L1261%' OR src_ctv3code LIKE '%L1263%' OR src_ctv3code LIKE '%X40By%'\n",
    "OR src_ctv3code LIKE '%X40Bz%' OR src_ctv3code LIKE '%X40C2%' OR src_ctv3code LIKE '%X40C3%' OR src_ctv3code LIKE '%XaBE0%')\"\n",
    "tb4 <- bq_project_query(projectid, sql4)\n",
    "hypertension <-bq_table_download(tb4) # store data in tibble\n",
    "\n",
    "# Ischaemic Heart Disease: Primary care between 2002-2022\n",
    "sql5 <- \"SELECT person_id, src_dateevent, src_ctv3code, src_ctv3text FROM `yhcr-prd-phm-bia-core.CB_FDM_PrimaryCare_v5.tbl_SRCode` \n",
    "WHERE src_dateevent BETWEEN '2002-01-01' AND '2022-12-31' AND (src_ctv3code LIKE '%G30y0%' OR src_ctv3code LIKE '%G30y1%' OR src_ctv3code LIKE '%G30y2%' OR src_ctv3code LIKE '%G31..%'\n",
    "OR src_ctv3code LIKE '%G34..%' OR src_ctv3code LIKE '%G3400%' OR src_ctv3code LIKE '%G341.%' OR src_ctv3code LIKE '%G3413%' OR src_ctv3code LIKE '%G34y1%' OR src_ctv3code LIKE '%G363.%'\n",
    "OR src_ctv3code LIKE '%X200C%' OR src_ctv3code LIKE '%X200C%' OR src_ctv3code LIKE '%X200d%')\"\n",
    "tb5 <- bq_project_query(projectid, sql5)\n",
    "ihd <-bq_table_download(tb5) # store data in tibble\n",
    "\n",
    "# Myocardial Infarction: Primary care between 2002-2022\n",
    "sql6 <- \"SELECT person_id, src_dateevent, src_ctv3code, src_ctv3text FROM `yhcr-prd-phm-bia-core.CB_FDM_PrimaryCare_v5.tbl_SRCode` \n",
    "WHERE src_dateevent BETWEEN '2002-01-01' AND '2022-12-31' AND (src_ctv3code LIKE '%G300.%' OR src_ctv3code LIKE '%G300.%' OR src_ctv3code LIKE '%G302.%' OR src_ctv3code LIKE '%G302.%'\n",
    "OR src_ctv3code LIKE '%G35..%' OR src_ctv3code LIKE '%G353.%' OR src_ctv3code LIKE '%Gyu34%' OR src_ctv3code LIKE '%X200W%' OR src_ctv3code LIKE '%XE0Uh%' OR src_ctv3code LIKE '%XE0Uh%')\"\n",
    "tb6 <- bq_project_query(projectid, sql6)\n",
    "mi <-bq_table_download(tb6) # store data in tibble\n",
    "\n",
    "# Peripheral Vascular Disease: Primary care between 2002-2022\n",
    "sql7 <- \"SELECT person_id, src_dateevent, src_ctv3code, src_ctv3text FROM `yhcr-prd-phm-bia-core.CB_FDM_PrimaryCare_v5.tbl_SRCode` \n",
    "WHERE src_dateevent BETWEEN '2002-01-01' AND '2022-12-31' AND (src_ctv3code LIKE '%G73y.%' OR src_ctv3code LIKE '%G73y0%' OR src_ctv3code LIKE '%G73y0%' OR src_ctv3code LIKE '%G73y0%'\n",
    "OR src_ctv3code LIKE '%G73y0%' OR src_ctv3code LIKE '%G73y0%' OR src_ctv3code LIKE '%G73y0%' OR src_ctv3code LIKE '%G73y0%' OR src_ctv3code LIKE '%G73y0%' OR src_ctv3code LIKE '%G73y0%' OR src_ctv3code LIKE '%Xa0lV%')\"\n",
    "tb7 <- bq_project_query(projectid, sql7)\n",
    "pvd <-bq_table_download(tb7) # store data in tibble\n",
    "\n",
    "# Stroke: Primary care between 2002-2022\n",
    "sql8 <- \"SELECT person_id, src_dateevent, src_ctv3code, src_ctv3text FROM `yhcr-prd-phm-bia-core.CB_FDM_PrimaryCare_v5.tbl_SRCode` \n",
    "WHERE src_dateevent BETWEEN '2002-01-01' AND '2022-12-31' AND (src_ctv3code LIKE '%XaBM5%' OR src_ctv3code LIKE '%XaBM5%' OR src_ctv3code LIKE '%XaBM5%' OR src_ctv3code LIKE '%Gyu62%'\n",
    "OR src_ctv3code LIKE '%G65..%' OR src_ctv3code LIKE '%XE0VK%' OR src_ctv3code LIKE '%X00DU%' OR src_ctv3code LIKE '%X00DW%' OR src_ctv3code LIKE '%Xa00T%' OR src_ctv3code LIKE '%Xa01k%'\n",
    "OR src_ctv3code LIKE '%G610.%' OR src_ctv3code LIKE '%Xa00M%' OR src_ctv3code LIKE '%Xa00M%' OR src_ctv3code LIKE '%G662.%' OR src_ctv3code LIKE '%G662.%' OR src_ctv3code LIKE '%G613.%'\n",
    "OR src_ctv3code LIKE '%G613.%' OR src_ctv3code LIKE '%G613.%' OR src_ctv3code LIKE '%G63y1%' OR src_ctv3code LIKE '%G601.%' OR src_ctv3code LIKE '%XaJgQ%' OR src_ctv3code LIKE '%14AB.%'\n",
    "OR src_ctv3code LIKE '%Gyu6F%' OR src_ctv3code LIKE '%G668.%' OR src_ctv3code LIKE '%G668.%' OR src_ctv3code LIKE '%G668.%' OR src_ctv3code LIKE '%G668.%' OR src_ctv3code LIKE '%G668.%'\n",
    "OR src_ctv3code LIKE '%G668.%' OR src_ctv3code LIKE '%Xa00K%' OR src_ctv3code LIKE '%G641.%' OR src_ctv3code LIKE '%G641.%' OR src_ctv3code LIKE '%G641.%' OR src_ctv3code LIKE '%G641.%'\n",
    "OR src_ctv3code LIKE '%G641.%' OR src_ctv3code LIKE '%XaQbK%' OR src_ctv3code LIKE '%X00DB%' OR src_ctv3code LIKE '%Xa1uW%' OR src_ctv3code LIKE '%Xa1uW%' OR src_ctv3code LIKE '%Xa1uW%'\n",
    "OR src_ctv3code LIKE '%Xa1uW%' OR src_ctv3code LIKE '%Gyu66%' OR src_ctv3code LIKE '%G654.%' OR src_ctv3code LIKE '%Xa01h%' OR src_ctv3code LIKE '%G660.%' OR src_ctv3code LIKE '%G660.%'\n",
    "OR src_ctv3code LIKE '%G615.%' OR src_ctv3code LIKE '%G63y0%' OR src_ctv3code LIKE '%Gyu6G%' OR src_ctv3code LIKE '%XaQbM%' OR src_ctv3code LIKE '%F4236%' OR src_ctv3code LIKE '%G618.%'\n",
    "OR src_ctv3code LIKE '%Fyu55%' OR src_ctv3code LIKE '%Gyu60%' OR src_ctv3code LIKE '%G600.%' OR src_ctv3code LIKE '%XaBL3%' OR src_ctv3code LIKE '%G617.%' OR src_ctv3code LIKE '%X00E2%'\n",
    "OR src_ctv3code LIKE '%X00E2%' OR src_ctv3code LIKE '%G65z0%' OR src_ctv3code LIKE '%G6760%' OR src_ctv3code LIKE '%Xa01l%' OR src_ctv3code LIKE '%G661.%' OR src_ctv3code LIKE '%G661.%'\n",
    "OR src_ctv3code LIKE '%Fyu56%' OR src_ctv3code LIKE '%Gyu64%' OR src_ctv3code LIKE '%Gyu61%' OR src_ctv3code LIKE '%G606.%' OR src_ctv3code LIKE '%XE0VF%' OR src_ctv3code LIKE '%XE0VF%'\n",
    "OR src_ctv3code LIKE '%G664.%' OR src_ctv3code LIKE '%Xa01j%' OR src_ctv3code LIKE '%G6...%' OR src_ctv3code LIKE '%G6...%' OR src_ctv3code LIKE '%G6...%' OR src_ctv3code LIKE '%G6...%'\n",
    "OR src_ctv3code LIKE '%X204A%' OR src_ctv3code LIKE '%Xa3fW%' OR src_ctv3code LIKE '%XE0Wy%' OR src_ctv3code LIKE '%XE0Wy%' OR src_ctv3code LIKE '%XM0rV%' OR src_ctv3code LIKE '%XM0rV%' OR src_ctv3code LIKE '%Gyu65%')\"\n",
    "tb8 <- bq_project_query(projectid, sql8)\n",
    "stroke <-bq_table_download(tb8) # store data in tibble\n",
    "\n",
    "# Valve Disease: Primary care between 2002-2022\n",
    "sql9 <- \"SELECT person_id, src_dateevent, src_ctv3code, src_ctv3text FROM `yhcr-prd-phm-bia-core.CB_FDM_PrimaryCare_v5.tbl_SRCode` \n",
    "WHERE src_dateevent BETWEEN '2002-01-01' AND '2022-12-31' AND (src_ctv3code LIKE '%G11..%' OR src_ctv3code LIKE '%G11..%' OR src_ctv3code LIKE '%G11..%' OR src_ctv3code LIKE '%G11..%'\n",
    "OR src_ctv3code LIKE '%G11..%' OR src_ctv3code LIKE '%G11..%' OR src_ctv3code LIKE '%G110.%' OR src_ctv3code LIKE '%G111.%' OR src_ctv3code LIKE '%G111.%' OR src_ctv3code LIKE '%G111.%'\n",
    "OR src_ctv3code LIKE '%G113.%' OR src_ctv3code LIKE '%G12..%' OR src_ctv3code LIKE '%G12..%' OR src_ctv3code LIKE '%G120.%' OR src_ctv3code LIKE '%G120.%' OR src_ctv3code LIKE '%G120.%'\n",
    "OR src_ctv3code LIKE '%G121.%' OR src_ctv3code LIKE '%G140.%' OR src_ctv3code LIKE '%G1400%' OR src_ctv3code LIKE '%G1400%' OR src_ctv3code LIKE '%G1401%' OR src_ctv3code LIKE '%G140z%'\n",
    "OR src_ctv3code LIKE '%G1410%' OR src_ctv3code LIKE '%G364.%' OR src_ctv3code LIKE '%G365.%' OR src_ctv3code LIKE '%G540.%' OR src_ctv3code LIKE '%G5400%' OR src_ctv3code LIKE '%G540z%'\n",
    "OR src_ctv3code LIKE '%G541.%' OR src_ctv3code LIKE '%G541.%' OR src_ctv3code LIKE '%G541.%' OR src_ctv3code LIKE '%G5410%' OR src_ctv3code LIKE '%G5410%' OR src_ctv3code LIKE '%G5411%'\n",
    "OR src_ctv3code LIKE '%G5411%' OR src_ctv3code LIKE '%G5411%' OR src_ctv3code LIKE '%G542.%' OR src_ctv3code LIKE '%G542.%' OR src_ctv3code LIKE '%G5420%' OR src_ctv3code LIKE '%G5421%'\n",
    "OR src_ctv3code LIKE '%G5422%' OR src_ctv3code LIKE '%G542z%' OR src_ctv3code LIKE '%G543.%' OR src_ctv3code LIKE '%G543.%' OR src_ctv3code LIKE '%G543.%' OR src_ctv3code LIKE '%G543.%'\n",
    "OR src_ctv3code LIKE '%G543.%' OR src_ctv3code LIKE '%G543.%' OR src_ctv3code LIKE '%G5430%' OR src_ctv3code LIKE '%G5431%' OR src_ctv3code LIKE '%G5434%' OR src_ctv3code LIKE '%G544.%'\n",
    "OR src_ctv3code LIKE '%G544.%' OR src_ctv3code LIKE '%G544.%' OR src_ctv3code LIKE '%G54z.%' OR src_ctv3code LIKE '%G54z4%' OR src_ctv3code LIKE '%G5y6.%' OR src_ctv3code LIKE '%Gyu10%'\n",
    "OR src_ctv3code LIKE '%Gyu11%' OR src_ctv3code LIKE '%Gyu55%' OR src_ctv3code LIKE '%Gyu56%' OR src_ctv3code LIKE '%Gyu57%' OR src_ctv3code LIKE '%Gyu58%' OR src_ctv3code LIKE '%Gyu59%'\n",
    "OR src_ctv3code LIKE '%Gyu5B%' OR src_ctv3code LIKE '%P601.%' OR src_ctv3code LIKE '%P61..%' OR src_ctv3code LIKE '%P62..%' OR src_ctv3code LIKE '%P65..%' OR src_ctv3code LIKE '%P652.%'\n",
    "OR src_ctv3code LIKE '%P6y0.%' OR src_ctv3code LIKE '%P7224%' OR src_ctv3code LIKE '%Pyu23%' OR src_ctv3code LIKE '%Pyu2G%' OR src_ctv3code LIKE '%X200s%' OR src_ctv3code LIKE '%X200u%'\n",
    "OR src_ctv3code LIKE '%X2010%' OR src_ctv3code LIKE '%X2010%' OR src_ctv3code LIKE '%X2019%' OR src_ctv3code LIKE '%X201B%' OR src_ctv3code LIKE '%X201C%' OR src_ctv3code LIKE '%X777Y%'\n",
    "OR src_ctv3code LIKE '%X778h%' OR src_ctv3code LIKE '%X778h%' OR src_ctv3code LIKE '%X778h%' OR src_ctv3code LIKE '%X778h%' OR src_ctv3code LIKE '%X77vL%' OR src_ctv3code LIKE '%X77zY%'\n",
    "OR src_ctv3code LIKE '%XE0Ux%' OR src_ctv3code LIKE '%XE2bE%' OR src_ctv3code LIKE '%XM0rP%' OR src_ctv3code LIKE '%XSDVN%' OR src_ctv3code LIKE '%Xa7rt%')\"\n",
    "tb9 <- bq_project_query(projectid, sql9)\n",
    "valve_disease <-bq_table_download(tb9) # store data in tibble"
   ]
  },
  {
   "cell_type": "code",
   "execution_count": 4,
   "id": "49fe9cf8-0ffd-4668-ae26-62a27054affd",
   "metadata": {},
   "outputs": [
    {
     "name": "stdout",
     "output_type": "stream",
     "text": [
      "[1] \"Angina\"\n"
     ]
    },
    {
     "data": {
      "text/html": [
       "<table class=\"dataframe\">\n",
       "<caption>A tibble: 6 × 4</caption>\n",
       "<thead>\n",
       "\t<tr><th scope=col>person_id</th><th scope=col>src_dateevent</th><th scope=col>src_ctv3code</th><th scope=col>src_ctv3text</th></tr>\n",
       "\t<tr><th scope=col>&lt;int&gt;</th><th scope=col>&lt;dttm&gt;</th><th scope=col>&lt;chr&gt;</th><th scope=col>&lt;chr&gt;</th></tr>\n",
       "</thead>\n",
       "<tbody>\n",
       "\t<tr><td>12489933</td><td>2003-02-18 00:00:00</td><td>G331.</td><td>Prinzmetals angina</td></tr>\n",
       "\t<tr><td>12504346</td><td>2002-10-17 14:51:40</td><td>G33..</td><td>Angina            </td></tr>\n",
       "\t<tr><td>13228924</td><td>2009-05-17 00:00:00</td><td>G33..</td><td>Angina            </td></tr>\n",
       "\t<tr><td>12960863</td><td>2006-09-26 11:10:31</td><td>G33..</td><td>Angina            </td></tr>\n",
       "\t<tr><td>12915303</td><td>2002-11-18 00:00:00</td><td>G33..</td><td>Angina            </td></tr>\n",
       "\t<tr><td>  368434</td><td>2003-08-22 00:00:00</td><td>G33..</td><td>Angina            </td></tr>\n",
       "</tbody>\n",
       "</table>\n"
      ],
      "text/latex": [
       "A tibble: 6 × 4\n",
       "\\begin{tabular}{llll}\n",
       " person\\_id & src\\_dateevent & src\\_ctv3code & src\\_ctv3text\\\\\n",
       " <int> & <dttm> & <chr> & <chr>\\\\\n",
       "\\hline\n",
       "\t 12489933 & 2003-02-18 00:00:00 & G331. & Prinzmetals angina\\\\\n",
       "\t 12504346 & 2002-10-17 14:51:40 & G33.. & Angina            \\\\\n",
       "\t 13228924 & 2009-05-17 00:00:00 & G33.. & Angina            \\\\\n",
       "\t 12960863 & 2006-09-26 11:10:31 & G33.. & Angina            \\\\\n",
       "\t 12915303 & 2002-11-18 00:00:00 & G33.. & Angina            \\\\\n",
       "\t   368434 & 2003-08-22 00:00:00 & G33.. & Angina            \\\\\n",
       "\\end{tabular}\n"
      ],
      "text/markdown": [
       "\n",
       "A tibble: 6 × 4\n",
       "\n",
       "| person_id &lt;int&gt; | src_dateevent &lt;dttm&gt; | src_ctv3code &lt;chr&gt; | src_ctv3text &lt;chr&gt; |\n",
       "|---|---|---|---|\n",
       "| 12489933 | 2003-02-18 00:00:00 | G331. | Prinzmetals angina |\n",
       "| 12504346 | 2002-10-17 14:51:40 | G33.. | Angina             |\n",
       "| 13228924 | 2009-05-17 00:00:00 | G33.. | Angina             |\n",
       "| 12960863 | 2006-09-26 11:10:31 | G33.. | Angina             |\n",
       "| 12915303 | 2002-11-18 00:00:00 | G33.. | Angina             |\n",
       "|   368434 | 2003-08-22 00:00:00 | G33.. | Angina             |\n",
       "\n"
      ],
      "text/plain": [
       "  person_id src_dateevent       src_ctv3code src_ctv3text      \n",
       "1 12489933  2003-02-18 00:00:00 G331.        Prinzmetals angina\n",
       "2 12504346  2002-10-17 14:51:40 G33..        Angina            \n",
       "3 13228924  2009-05-17 00:00:00 G33..        Angina            \n",
       "4 12960863  2006-09-26 11:10:31 G33..        Angina            \n",
       "5 12915303  2002-11-18 00:00:00 G33..        Angina            \n",
       "6   368434  2003-08-22 00:00:00 G33..        Angina            "
      ]
     },
     "metadata": {},
     "output_type": "display_data"
    },
    {
     "name": "stdout",
     "output_type": "stream",
     "text": [
      "[1] \"Cardiomyopathy\"\n"
     ]
    },
    {
     "data": {
      "text/html": [
       "<table class=\"dataframe\">\n",
       "<caption>A tibble: 6 × 4</caption>\n",
       "<thead>\n",
       "\t<tr><th scope=col>person_id</th><th scope=col>src_dateevent</th><th scope=col>src_ctv3code</th><th scope=col>src_ctv3text</th></tr>\n",
       "\t<tr><th scope=col>&lt;int&gt;</th><th scope=col>&lt;dttm&gt;</th><th scope=col>&lt;chr&gt;</th><th scope=col>&lt;chr&gt;</th></tr>\n",
       "</thead>\n",
       "<tbody>\n",
       "\t<tr><td>12401297</td><td>2002-08-20 00:00:00</td><td>G55..</td><td>Cardiomyopathy</td></tr>\n",
       "\t<tr><td>13334311</td><td>2002-01-22 00:00:00</td><td>G55..</td><td>Cardiomyopathy</td></tr>\n",
       "\t<tr><td>13537234</td><td>2022-08-06 00:00:00</td><td>G55..</td><td>Cardiomyopathy</td></tr>\n",
       "\t<tr><td>13564368</td><td>2005-03-01 00:00:00</td><td>G55..</td><td>Cardiomyopathy</td></tr>\n",
       "\t<tr><td>13757005</td><td>2006-12-14 10:41:22</td><td>G55..</td><td>Cardiomyopathy</td></tr>\n",
       "\t<tr><td>13628744</td><td>2005-09-26 00:00:00</td><td>G55..</td><td>Cardiomyopathy</td></tr>\n",
       "</tbody>\n",
       "</table>\n"
      ],
      "text/latex": [
       "A tibble: 6 × 4\n",
       "\\begin{tabular}{llll}\n",
       " person\\_id & src\\_dateevent & src\\_ctv3code & src\\_ctv3text\\\\\n",
       " <int> & <dttm> & <chr> & <chr>\\\\\n",
       "\\hline\n",
       "\t 12401297 & 2002-08-20 00:00:00 & G55.. & Cardiomyopathy\\\\\n",
       "\t 13334311 & 2002-01-22 00:00:00 & G55.. & Cardiomyopathy\\\\\n",
       "\t 13537234 & 2022-08-06 00:00:00 & G55.. & Cardiomyopathy\\\\\n",
       "\t 13564368 & 2005-03-01 00:00:00 & G55.. & Cardiomyopathy\\\\\n",
       "\t 13757005 & 2006-12-14 10:41:22 & G55.. & Cardiomyopathy\\\\\n",
       "\t 13628744 & 2005-09-26 00:00:00 & G55.. & Cardiomyopathy\\\\\n",
       "\\end{tabular}\n"
      ],
      "text/markdown": [
       "\n",
       "A tibble: 6 × 4\n",
       "\n",
       "| person_id &lt;int&gt; | src_dateevent &lt;dttm&gt; | src_ctv3code &lt;chr&gt; | src_ctv3text &lt;chr&gt; |\n",
       "|---|---|---|---|\n",
       "| 12401297 | 2002-08-20 00:00:00 | G55.. | Cardiomyopathy |\n",
       "| 13334311 | 2002-01-22 00:00:00 | G55.. | Cardiomyopathy |\n",
       "| 13537234 | 2022-08-06 00:00:00 | G55.. | Cardiomyopathy |\n",
       "| 13564368 | 2005-03-01 00:00:00 | G55.. | Cardiomyopathy |\n",
       "| 13757005 | 2006-12-14 10:41:22 | G55.. | Cardiomyopathy |\n",
       "| 13628744 | 2005-09-26 00:00:00 | G55.. | Cardiomyopathy |\n",
       "\n"
      ],
      "text/plain": [
       "  person_id src_dateevent       src_ctv3code src_ctv3text  \n",
       "1 12401297  2002-08-20 00:00:00 G55..        Cardiomyopathy\n",
       "2 13334311  2002-01-22 00:00:00 G55..        Cardiomyopathy\n",
       "3 13537234  2022-08-06 00:00:00 G55..        Cardiomyopathy\n",
       "4 13564368  2005-03-01 00:00:00 G55..        Cardiomyopathy\n",
       "5 13757005  2006-12-14 10:41:22 G55..        Cardiomyopathy\n",
       "6 13628744  2005-09-26 00:00:00 G55..        Cardiomyopathy"
      ]
     },
     "metadata": {},
     "output_type": "display_data"
    },
    {
     "name": "stdout",
     "output_type": "stream",
     "text": [
      "[1] \"Heart Failure\"\n"
     ]
    },
    {
     "data": {
      "text/html": [
       "<table class=\"dataframe\">\n",
       "<caption>A tibble: 6 × 4</caption>\n",
       "<thead>\n",
       "\t<tr><th scope=col>person_id</th><th scope=col>src_dateevent</th><th scope=col>src_ctv3code</th><th scope=col>src_ctv3text</th></tr>\n",
       "\t<tr><th scope=col>&lt;int&gt;</th><th scope=col>&lt;dttm&gt;</th><th scope=col>&lt;chr&gt;</th><th scope=col>&lt;chr&gt;</th></tr>\n",
       "</thead>\n",
       "<tbody>\n",
       "\t<tr><td>12973168</td><td>2011-11-17 12:01:09</td><td>G58..</td><td>Heart failure</td></tr>\n",
       "\t<tr><td>13664609</td><td>2008-12-16 00:00:00</td><td>G58..</td><td>Heart failure</td></tr>\n",
       "\t<tr><td>13432848</td><td>2009-01-07 00:00:01</td><td>G58..</td><td>Heart failure</td></tr>\n",
       "\t<tr><td>12721987</td><td>2019-09-02 00:00:00</td><td>G58..</td><td>Heart failure</td></tr>\n",
       "\t<tr><td>12627422</td><td>2015-01-13 00:00:01</td><td>G58..</td><td>Heart failure</td></tr>\n",
       "\t<tr><td>10432309</td><td>2008-02-11 00:00:00</td><td>G58..</td><td>Heart failure</td></tr>\n",
       "</tbody>\n",
       "</table>\n"
      ],
      "text/latex": [
       "A tibble: 6 × 4\n",
       "\\begin{tabular}{llll}\n",
       " person\\_id & src\\_dateevent & src\\_ctv3code & src\\_ctv3text\\\\\n",
       " <int> & <dttm> & <chr> & <chr>\\\\\n",
       "\\hline\n",
       "\t 12973168 & 2011-11-17 12:01:09 & G58.. & Heart failure\\\\\n",
       "\t 13664609 & 2008-12-16 00:00:00 & G58.. & Heart failure\\\\\n",
       "\t 13432848 & 2009-01-07 00:00:01 & G58.. & Heart failure\\\\\n",
       "\t 12721987 & 2019-09-02 00:00:00 & G58.. & Heart failure\\\\\n",
       "\t 12627422 & 2015-01-13 00:00:01 & G58.. & Heart failure\\\\\n",
       "\t 10432309 & 2008-02-11 00:00:00 & G58.. & Heart failure\\\\\n",
       "\\end{tabular}\n"
      ],
      "text/markdown": [
       "\n",
       "A tibble: 6 × 4\n",
       "\n",
       "| person_id &lt;int&gt; | src_dateevent &lt;dttm&gt; | src_ctv3code &lt;chr&gt; | src_ctv3text &lt;chr&gt; |\n",
       "|---|---|---|---|\n",
       "| 12973168 | 2011-11-17 12:01:09 | G58.. | Heart failure |\n",
       "| 13664609 | 2008-12-16 00:00:00 | G58.. | Heart failure |\n",
       "| 13432848 | 2009-01-07 00:00:01 | G58.. | Heart failure |\n",
       "| 12721987 | 2019-09-02 00:00:00 | G58.. | Heart failure |\n",
       "| 12627422 | 2015-01-13 00:00:01 | G58.. | Heart failure |\n",
       "| 10432309 | 2008-02-11 00:00:00 | G58.. | Heart failure |\n",
       "\n"
      ],
      "text/plain": [
       "  person_id src_dateevent       src_ctv3code src_ctv3text \n",
       "1 12973168  2011-11-17 12:01:09 G58..        Heart failure\n",
       "2 13664609  2008-12-16 00:00:00 G58..        Heart failure\n",
       "3 13432848  2009-01-07 00:00:01 G58..        Heart failure\n",
       "4 12721987  2019-09-02 00:00:00 G58..        Heart failure\n",
       "5 12627422  2015-01-13 00:00:01 G58..        Heart failure\n",
       "6 10432309  2008-02-11 00:00:00 G58..        Heart failure"
      ]
     },
     "metadata": {},
     "output_type": "display_data"
    },
    {
     "name": "stdout",
     "output_type": "stream",
     "text": [
      "[1] \"Hypertension\"\n"
     ]
    },
    {
     "data": {
      "text/html": [
       "<table class=\"dataframe\">\n",
       "<caption>A tibble: 6 × 4</caption>\n",
       "<thead>\n",
       "\t<tr><th scope=col>person_id</th><th scope=col>src_dateevent</th><th scope=col>src_ctv3code</th><th scope=col>src_ctv3text</th></tr>\n",
       "\t<tr><th scope=col>&lt;int&gt;</th><th scope=col>&lt;dttm&gt;</th><th scope=col>&lt;chr&gt;</th><th scope=col>&lt;chr&gt;</th></tr>\n",
       "</thead>\n",
       "<tbody>\n",
       "\t<tr><td>12447282</td><td>2002-05-28 11:21:00</td><td>G2...</td><td>Hypertensive disease                            </td></tr>\n",
       "\t<tr><td>12569573</td><td>2003-07-28 09:47:00</td><td>G2...</td><td>Hypertensive disease                            </td></tr>\n",
       "\t<tr><td>13207479</td><td>2014-02-26 00:00:00</td><td>G2...</td><td>Hypertensive disease                            </td></tr>\n",
       "\t<tr><td>12776288</td><td>2003-06-11 18:34:58</td><td>G2...</td><td>Hypertensive disease                            </td></tr>\n",
       "\t<tr><td><span style=white-space:pre-wrap>  776094</span></td><td>2002-07-25 17:39:31</td><td>G20..</td><td>High blood pressure (&amp; [essential hypertension])</td></tr>\n",
       "\t<tr><td> 1055056</td><td>2002-02-11 15:49:08</td><td>G2...</td><td>Hypertensive disease                            </td></tr>\n",
       "</tbody>\n",
       "</table>\n"
      ],
      "text/latex": [
       "A tibble: 6 × 4\n",
       "\\begin{tabular}{llll}\n",
       " person\\_id & src\\_dateevent & src\\_ctv3code & src\\_ctv3text\\\\\n",
       " <int> & <dttm> & <chr> & <chr>\\\\\n",
       "\\hline\n",
       "\t 12447282 & 2002-05-28 11:21:00 & G2... & Hypertensive disease                            \\\\\n",
       "\t 12569573 & 2003-07-28 09:47:00 & G2... & Hypertensive disease                            \\\\\n",
       "\t 13207479 & 2014-02-26 00:00:00 & G2... & Hypertensive disease                            \\\\\n",
       "\t 12776288 & 2003-06-11 18:34:58 & G2... & Hypertensive disease                            \\\\\n",
       "\t   776094 & 2002-07-25 17:39:31 & G20.. & High blood pressure (\\& {[}essential hypertension{]})\\\\\n",
       "\t  1055056 & 2002-02-11 15:49:08 & G2... & Hypertensive disease                            \\\\\n",
       "\\end{tabular}\n"
      ],
      "text/markdown": [
       "\n",
       "A tibble: 6 × 4\n",
       "\n",
       "| person_id &lt;int&gt; | src_dateevent &lt;dttm&gt; | src_ctv3code &lt;chr&gt; | src_ctv3text &lt;chr&gt; |\n",
       "|---|---|---|---|\n",
       "| 12447282 | 2002-05-28 11:21:00 | G2... | Hypertensive disease                             |\n",
       "| 12569573 | 2003-07-28 09:47:00 | G2... | Hypertensive disease                             |\n",
       "| 13207479 | 2014-02-26 00:00:00 | G2... | Hypertensive disease                             |\n",
       "| 12776288 | 2003-06-11 18:34:58 | G2... | Hypertensive disease                             |\n",
       "|   776094 | 2002-07-25 17:39:31 | G20.. | High blood pressure (&amp; [essential hypertension]) |\n",
       "|  1055056 | 2002-02-11 15:49:08 | G2... | Hypertensive disease                             |\n",
       "\n"
      ],
      "text/plain": [
       "  person_id src_dateevent       src_ctv3code\n",
       "1 12447282  2002-05-28 11:21:00 G2...       \n",
       "2 12569573  2003-07-28 09:47:00 G2...       \n",
       "3 13207479  2014-02-26 00:00:00 G2...       \n",
       "4 12776288  2003-06-11 18:34:58 G2...       \n",
       "5   776094  2002-07-25 17:39:31 G20..       \n",
       "6  1055056  2002-02-11 15:49:08 G2...       \n",
       "  src_ctv3text                                    \n",
       "1 Hypertensive disease                            \n",
       "2 Hypertensive disease                            \n",
       "3 Hypertensive disease                            \n",
       "4 Hypertensive disease                            \n",
       "5 High blood pressure (& [essential hypertension])\n",
       "6 Hypertensive disease                            "
      ]
     },
     "metadata": {},
     "output_type": "display_data"
    },
    {
     "name": "stdout",
     "output_type": "stream",
     "text": [
      "[1] \"IHD\"\n"
     ]
    },
    {
     "data": {
      "text/html": [
       "<table class=\"dataframe\">\n",
       "<caption>A tibble: 6 × 4</caption>\n",
       "<thead>\n",
       "\t<tr><th scope=col>person_id</th><th scope=col>src_dateevent</th><th scope=col>src_ctv3code</th><th scope=col>src_ctv3text</th></tr>\n",
       "\t<tr><th scope=col>&lt;int&gt;</th><th scope=col>&lt;dttm&gt;</th><th scope=col>&lt;chr&gt;</th><th scope=col>&lt;chr&gt;</th></tr>\n",
       "</thead>\n",
       "<tbody>\n",
       "\t<tr><td>13188721</td><td>2004-08-18 00:00:00</td><td>G3400</td><td>Single coronary vessel disease</td></tr>\n",
       "\t<tr><td>13083972</td><td>2012-08-24 00:00:00</td><td>G3400</td><td>Single coronary vessel disease</td></tr>\n",
       "\t<tr><td>13165782</td><td>2017-11-28 00:00:01</td><td>G3400</td><td>Single coronary vessel disease</td></tr>\n",
       "\t<tr><td>12891725</td><td>2011-05-27 09:05:52</td><td>G3400</td><td>Single coronary vessel disease</td></tr>\n",
       "\t<tr><td>13622761</td><td>2004-03-01 10:20:36</td><td>G3400</td><td>Single coronary vessel disease</td></tr>\n",
       "\t<tr><td>13712498</td><td>2007-07-06 00:00:00</td><td>G3400</td><td>Single coronary vessel disease</td></tr>\n",
       "</tbody>\n",
       "</table>\n"
      ],
      "text/latex": [
       "A tibble: 6 × 4\n",
       "\\begin{tabular}{llll}\n",
       " person\\_id & src\\_dateevent & src\\_ctv3code & src\\_ctv3text\\\\\n",
       " <int> & <dttm> & <chr> & <chr>\\\\\n",
       "\\hline\n",
       "\t 13188721 & 2004-08-18 00:00:00 & G3400 & Single coronary vessel disease\\\\\n",
       "\t 13083972 & 2012-08-24 00:00:00 & G3400 & Single coronary vessel disease\\\\\n",
       "\t 13165782 & 2017-11-28 00:00:01 & G3400 & Single coronary vessel disease\\\\\n",
       "\t 12891725 & 2011-05-27 09:05:52 & G3400 & Single coronary vessel disease\\\\\n",
       "\t 13622761 & 2004-03-01 10:20:36 & G3400 & Single coronary vessel disease\\\\\n",
       "\t 13712498 & 2007-07-06 00:00:00 & G3400 & Single coronary vessel disease\\\\\n",
       "\\end{tabular}\n"
      ],
      "text/markdown": [
       "\n",
       "A tibble: 6 × 4\n",
       "\n",
       "| person_id &lt;int&gt; | src_dateevent &lt;dttm&gt; | src_ctv3code &lt;chr&gt; | src_ctv3text &lt;chr&gt; |\n",
       "|---|---|---|---|\n",
       "| 13188721 | 2004-08-18 00:00:00 | G3400 | Single coronary vessel disease |\n",
       "| 13083972 | 2012-08-24 00:00:00 | G3400 | Single coronary vessel disease |\n",
       "| 13165782 | 2017-11-28 00:00:01 | G3400 | Single coronary vessel disease |\n",
       "| 12891725 | 2011-05-27 09:05:52 | G3400 | Single coronary vessel disease |\n",
       "| 13622761 | 2004-03-01 10:20:36 | G3400 | Single coronary vessel disease |\n",
       "| 13712498 | 2007-07-06 00:00:00 | G3400 | Single coronary vessel disease |\n",
       "\n"
      ],
      "text/plain": [
       "  person_id src_dateevent       src_ctv3code src_ctv3text                  \n",
       "1 13188721  2004-08-18 00:00:00 G3400        Single coronary vessel disease\n",
       "2 13083972  2012-08-24 00:00:00 G3400        Single coronary vessel disease\n",
       "3 13165782  2017-11-28 00:00:01 G3400        Single coronary vessel disease\n",
       "4 12891725  2011-05-27 09:05:52 G3400        Single coronary vessel disease\n",
       "5 13622761  2004-03-01 10:20:36 G3400        Single coronary vessel disease\n",
       "6 13712498  2007-07-06 00:00:00 G3400        Single coronary vessel disease"
      ]
     },
     "metadata": {},
     "output_type": "display_data"
    },
    {
     "name": "stdout",
     "output_type": "stream",
     "text": [
      "[1] \"MI\"\n"
     ]
    },
    {
     "data": {
      "text/html": [
       "<table class=\"dataframe\">\n",
       "<caption>A tibble: 6 × 4</caption>\n",
       "<thead>\n",
       "\t<tr><th scope=col>person_id</th><th scope=col>src_dateevent</th><th scope=col>src_ctv3code</th><th scope=col>src_ctv3text</th></tr>\n",
       "\t<tr><th scope=col>&lt;int&gt;</th><th scope=col>&lt;dttm&gt;</th><th scope=col>&lt;chr&gt;</th><th scope=col>&lt;chr&gt;</th></tr>\n",
       "</thead>\n",
       "<tbody>\n",
       "\t<tr><td>13169502</td><td>2005-04-29 00:00:00</td><td>XE0Uh</td><td>Acute myocardial infarction</td></tr>\n",
       "\t<tr><td>  754361</td><td>2002-08-14 08:53:50</td><td>XE0Uh</td><td>Acute myocardial infarction</td></tr>\n",
       "\t<tr><td>13403206</td><td>2004-11-10 00:00:00</td><td>XE0Uh</td><td>Acute myocardial infarction</td></tr>\n",
       "\t<tr><td>13642837</td><td>2005-08-23 00:00:00</td><td>XE0Uh</td><td>Acute myocardial infarction</td></tr>\n",
       "\t<tr><td>12586313</td><td>2003-08-05 00:00:02</td><td>XE0Uh</td><td>Acute myocardial infarction</td></tr>\n",
       "\t<tr><td>13217717</td><td>2003-12-18 15:15:00</td><td>XE0Uh</td><td>Acute myocardial infarction</td></tr>\n",
       "</tbody>\n",
       "</table>\n"
      ],
      "text/latex": [
       "A tibble: 6 × 4\n",
       "\\begin{tabular}{llll}\n",
       " person\\_id & src\\_dateevent & src\\_ctv3code & src\\_ctv3text\\\\\n",
       " <int> & <dttm> & <chr> & <chr>\\\\\n",
       "\\hline\n",
       "\t 13169502 & 2005-04-29 00:00:00 & XE0Uh & Acute myocardial infarction\\\\\n",
       "\t   754361 & 2002-08-14 08:53:50 & XE0Uh & Acute myocardial infarction\\\\\n",
       "\t 13403206 & 2004-11-10 00:00:00 & XE0Uh & Acute myocardial infarction\\\\\n",
       "\t 13642837 & 2005-08-23 00:00:00 & XE0Uh & Acute myocardial infarction\\\\\n",
       "\t 12586313 & 2003-08-05 00:00:02 & XE0Uh & Acute myocardial infarction\\\\\n",
       "\t 13217717 & 2003-12-18 15:15:00 & XE0Uh & Acute myocardial infarction\\\\\n",
       "\\end{tabular}\n"
      ],
      "text/markdown": [
       "\n",
       "A tibble: 6 × 4\n",
       "\n",
       "| person_id &lt;int&gt; | src_dateevent &lt;dttm&gt; | src_ctv3code &lt;chr&gt; | src_ctv3text &lt;chr&gt; |\n",
       "|---|---|---|---|\n",
       "| 13169502 | 2005-04-29 00:00:00 | XE0Uh | Acute myocardial infarction |\n",
       "|   754361 | 2002-08-14 08:53:50 | XE0Uh | Acute myocardial infarction |\n",
       "| 13403206 | 2004-11-10 00:00:00 | XE0Uh | Acute myocardial infarction |\n",
       "| 13642837 | 2005-08-23 00:00:00 | XE0Uh | Acute myocardial infarction |\n",
       "| 12586313 | 2003-08-05 00:00:02 | XE0Uh | Acute myocardial infarction |\n",
       "| 13217717 | 2003-12-18 15:15:00 | XE0Uh | Acute myocardial infarction |\n",
       "\n"
      ],
      "text/plain": [
       "  person_id src_dateevent       src_ctv3code src_ctv3text               \n",
       "1 13169502  2005-04-29 00:00:00 XE0Uh        Acute myocardial infarction\n",
       "2   754361  2002-08-14 08:53:50 XE0Uh        Acute myocardial infarction\n",
       "3 13403206  2004-11-10 00:00:00 XE0Uh        Acute myocardial infarction\n",
       "4 13642837  2005-08-23 00:00:00 XE0Uh        Acute myocardial infarction\n",
       "5 12586313  2003-08-05 00:00:02 XE0Uh        Acute myocardial infarction\n",
       "6 13217717  2003-12-18 15:15:00 XE0Uh        Acute myocardial infarction"
      ]
     },
     "metadata": {},
     "output_type": "display_data"
    },
    {
     "name": "stdout",
     "output_type": "stream",
     "text": [
      "[1] \"PVD\"\n"
     ]
    },
    {
     "data": {
      "text/html": [
       "<table class=\"dataframe\">\n",
       "<caption>A tibble: 6 × 4</caption>\n",
       "<thead>\n",
       "\t<tr><th scope=col>person_id</th><th scope=col>src_dateevent</th><th scope=col>src_ctv3code</th><th scope=col>src_ctv3text</th></tr>\n",
       "\t<tr><th scope=col>&lt;int&gt;</th><th scope=col>&lt;dttm&gt;</th><th scope=col>&lt;chr&gt;</th><th scope=col>&lt;chr&gt;</th></tr>\n",
       "</thead>\n",
       "<tbody>\n",
       "\t<tr><td>12796249</td><td>2002-08-09 13:14:30</td><td>Xa0lV</td><td>Peripheral vascular disease</td></tr>\n",
       "\t<tr><td>12472859</td><td>2019-05-31 00:00:01</td><td>Xa0lV</td><td>Peripheral vascular disease</td></tr>\n",
       "\t<tr><td>12882514</td><td>2006-10-01 10:36:52</td><td>Xa0lV</td><td>Peripheral vascular disease</td></tr>\n",
       "\t<tr><td>12958877</td><td>2008-09-03 14:58:48</td><td>Xa0lV</td><td>Peripheral vascular disease</td></tr>\n",
       "\t<tr><td>  944233</td><td>2013-10-23 16:52:39</td><td>Xa0lV</td><td>Peripheral vascular disease</td></tr>\n",
       "\t<tr><td>12912825</td><td>2019-10-01 00:00:00</td><td>Xa0lV</td><td>Peripheral vascular disease</td></tr>\n",
       "</tbody>\n",
       "</table>\n"
      ],
      "text/latex": [
       "A tibble: 6 × 4\n",
       "\\begin{tabular}{llll}\n",
       " person\\_id & src\\_dateevent & src\\_ctv3code & src\\_ctv3text\\\\\n",
       " <int> & <dttm> & <chr> & <chr>\\\\\n",
       "\\hline\n",
       "\t 12796249 & 2002-08-09 13:14:30 & Xa0lV & Peripheral vascular disease\\\\\n",
       "\t 12472859 & 2019-05-31 00:00:01 & Xa0lV & Peripheral vascular disease\\\\\n",
       "\t 12882514 & 2006-10-01 10:36:52 & Xa0lV & Peripheral vascular disease\\\\\n",
       "\t 12958877 & 2008-09-03 14:58:48 & Xa0lV & Peripheral vascular disease\\\\\n",
       "\t   944233 & 2013-10-23 16:52:39 & Xa0lV & Peripheral vascular disease\\\\\n",
       "\t 12912825 & 2019-10-01 00:00:00 & Xa0lV & Peripheral vascular disease\\\\\n",
       "\\end{tabular}\n"
      ],
      "text/markdown": [
       "\n",
       "A tibble: 6 × 4\n",
       "\n",
       "| person_id &lt;int&gt; | src_dateevent &lt;dttm&gt; | src_ctv3code &lt;chr&gt; | src_ctv3text &lt;chr&gt; |\n",
       "|---|---|---|---|\n",
       "| 12796249 | 2002-08-09 13:14:30 | Xa0lV | Peripheral vascular disease |\n",
       "| 12472859 | 2019-05-31 00:00:01 | Xa0lV | Peripheral vascular disease |\n",
       "| 12882514 | 2006-10-01 10:36:52 | Xa0lV | Peripheral vascular disease |\n",
       "| 12958877 | 2008-09-03 14:58:48 | Xa0lV | Peripheral vascular disease |\n",
       "|   944233 | 2013-10-23 16:52:39 | Xa0lV | Peripheral vascular disease |\n",
       "| 12912825 | 2019-10-01 00:00:00 | Xa0lV | Peripheral vascular disease |\n",
       "\n"
      ],
      "text/plain": [
       "  person_id src_dateevent       src_ctv3code src_ctv3text               \n",
       "1 12796249  2002-08-09 13:14:30 Xa0lV        Peripheral vascular disease\n",
       "2 12472859  2019-05-31 00:00:01 Xa0lV        Peripheral vascular disease\n",
       "3 12882514  2006-10-01 10:36:52 Xa0lV        Peripheral vascular disease\n",
       "4 12958877  2008-09-03 14:58:48 Xa0lV        Peripheral vascular disease\n",
       "5   944233  2013-10-23 16:52:39 Xa0lV        Peripheral vascular disease\n",
       "6 12912825  2019-10-01 00:00:00 Xa0lV        Peripheral vascular disease"
      ]
     },
     "metadata": {},
     "output_type": "display_data"
    },
    {
     "name": "stdout",
     "output_type": "stream",
     "text": [
      "[1] \"Stroke\"\n"
     ]
    },
    {
     "data": {
      "text/html": [
       "<table class=\"dataframe\">\n",
       "<caption>A tibble: 6 × 4</caption>\n",
       "<thead>\n",
       "\t<tr><th scope=col>person_id</th><th scope=col>src_dateevent</th><th scope=col>src_ctv3code</th><th scope=col>src_ctv3text</th></tr>\n",
       "\t<tr><th scope=col>&lt;int&gt;</th><th scope=col>&lt;dttm&gt;</th><th scope=col>&lt;chr&gt;</th><th scope=col>&lt;chr&gt;</th></tr>\n",
       "</thead>\n",
       "<tbody>\n",
       "\t<tr><td>13625614</td><td>2004-07-30 00:00:00</td><td>G65..</td><td>(Drop attack) or (trans cereb isch) or (verteb-bas          </td></tr>\n",
       "\t<tr><td>12415156</td><td>2002-06-11 00:00:00</td><td>G65..</td><td>(Drop attack) or (trans cereb isch) or (verteb-bas          </td></tr>\n",
       "\t<tr><td>13270192</td><td>2017-06-05 00:00:00</td><td>G613.</td><td>Cerebellar haemorrhage                                      </td></tr>\n",
       "\t<tr><td>  338808</td><td>2004-09-03 00:00:00</td><td>G65..</td><td>(Drop attack) or (trans cereb isch) or (verteb-bas          </td></tr>\n",
       "\t<tr><td>13743607</td><td>2019-09-18 10:39:56</td><td>Fyu55</td><td>[X]Other transnt cerebral ischaemic attacks+related syndroms</td></tr>\n",
       "\t<tr><td>12787711</td><td>2003-01-02 00:00:00</td><td>G65..</td><td>(Drop attack) or (trans cereb isch) or (verteb-basil insuff)</td></tr>\n",
       "</tbody>\n",
       "</table>\n"
      ],
      "text/latex": [
       "A tibble: 6 × 4\n",
       "\\begin{tabular}{llll}\n",
       " person\\_id & src\\_dateevent & src\\_ctv3code & src\\_ctv3text\\\\\n",
       " <int> & <dttm> & <chr> & <chr>\\\\\n",
       "\\hline\n",
       "\t 13625614 & 2004-07-30 00:00:00 & G65.. & (Drop attack) or (trans cereb isch) or (verteb-bas          \\\\\n",
       "\t 12415156 & 2002-06-11 00:00:00 & G65.. & (Drop attack) or (trans cereb isch) or (verteb-bas          \\\\\n",
       "\t 13270192 & 2017-06-05 00:00:00 & G613. & Cerebellar haemorrhage                                      \\\\\n",
       "\t   338808 & 2004-09-03 00:00:00 & G65.. & (Drop attack) or (trans cereb isch) or (verteb-bas          \\\\\n",
       "\t 13743607 & 2019-09-18 10:39:56 & Fyu55 & {[}X{]}Other transnt cerebral ischaemic attacks+related syndroms\\\\\n",
       "\t 12787711 & 2003-01-02 00:00:00 & G65.. & (Drop attack) or (trans cereb isch) or (verteb-basil insuff)\\\\\n",
       "\\end{tabular}\n"
      ],
      "text/markdown": [
       "\n",
       "A tibble: 6 × 4\n",
       "\n",
       "| person_id &lt;int&gt; | src_dateevent &lt;dttm&gt; | src_ctv3code &lt;chr&gt; | src_ctv3text &lt;chr&gt; |\n",
       "|---|---|---|---|\n",
       "| 13625614 | 2004-07-30 00:00:00 | G65.. | (Drop attack) or (trans cereb isch) or (verteb-bas           |\n",
       "| 12415156 | 2002-06-11 00:00:00 | G65.. | (Drop attack) or (trans cereb isch) or (verteb-bas           |\n",
       "| 13270192 | 2017-06-05 00:00:00 | G613. | Cerebellar haemorrhage                                       |\n",
       "|   338808 | 2004-09-03 00:00:00 | G65.. | (Drop attack) or (trans cereb isch) or (verteb-bas           |\n",
       "| 13743607 | 2019-09-18 10:39:56 | Fyu55 | [X]Other transnt cerebral ischaemic attacks+related syndroms |\n",
       "| 12787711 | 2003-01-02 00:00:00 | G65.. | (Drop attack) or (trans cereb isch) or (verteb-basil insuff) |\n",
       "\n"
      ],
      "text/plain": [
       "  person_id src_dateevent       src_ctv3code\n",
       "1 13625614  2004-07-30 00:00:00 G65..       \n",
       "2 12415156  2002-06-11 00:00:00 G65..       \n",
       "3 13270192  2017-06-05 00:00:00 G613.       \n",
       "4   338808  2004-09-03 00:00:00 G65..       \n",
       "5 13743607  2019-09-18 10:39:56 Fyu55       \n",
       "6 12787711  2003-01-02 00:00:00 G65..       \n",
       "  src_ctv3text                                                \n",
       "1 (Drop attack) or (trans cereb isch) or (verteb-bas          \n",
       "2 (Drop attack) or (trans cereb isch) or (verteb-bas          \n",
       "3 Cerebellar haemorrhage                                      \n",
       "4 (Drop attack) or (trans cereb isch) or (verteb-bas          \n",
       "5 [X]Other transnt cerebral ischaemic attacks+related syndroms\n",
       "6 (Drop attack) or (trans cereb isch) or (verteb-basil insuff)"
      ]
     },
     "metadata": {},
     "output_type": "display_data"
    },
    {
     "name": "stdout",
     "output_type": "stream",
     "text": [
      "[1] \"Valve Disease\"\n"
     ]
    },
    {
     "data": {
      "text/html": [
       "<table class=\"dataframe\">\n",
       "<caption>A tibble: 6 × 4</caption>\n",
       "<thead>\n",
       "\t<tr><th scope=col>person_id</th><th scope=col>src_dateevent</th><th scope=col>src_ctv3code</th><th scope=col>src_ctv3text</th></tr>\n",
       "\t<tr><th scope=col>&lt;int&gt;</th><th scope=col>&lt;dttm&gt;</th><th scope=col>&lt;chr&gt;</th><th scope=col>&lt;chr&gt;</th></tr>\n",
       "</thead>\n",
       "<tbody>\n",
       "\t<tr><td> 1011726</td><td>2003-03-19 14:31:58</td><td>G120.</td><td>Rheumatic aortic stenosis            </td></tr>\n",
       "\t<tr><td>13240150</td><td>2006-08-11 00:00:01</td><td>G11..</td><td>Mitral valve diseases (&amp; [rheumatic])</td></tr>\n",
       "\t<tr><td>13226617</td><td>2005-10-06 00:00:00</td><td>G5420</td><td>Tricuspid incompetence non-rheumatic </td></tr>\n",
       "\t<tr><td>12899545</td><td>2002-08-23 00:00:00</td><td>G120.</td><td>Rheumatic aortic stenosis            </td></tr>\n",
       "\t<tr><td>13355235</td><td>2010-03-19 00:00:00</td><td>G543.</td><td>Pulmonary valve disease              </td></tr>\n",
       "\t<tr><td>13275618</td><td>2008-03-01 13:12:17</td><td>G5430</td><td>Pulmonary incompetence, non-rheumatic</td></tr>\n",
       "</tbody>\n",
       "</table>\n"
      ],
      "text/latex": [
       "A tibble: 6 × 4\n",
       "\\begin{tabular}{llll}\n",
       " person\\_id & src\\_dateevent & src\\_ctv3code & src\\_ctv3text\\\\\n",
       " <int> & <dttm> & <chr> & <chr>\\\\\n",
       "\\hline\n",
       "\t  1011726 & 2003-03-19 14:31:58 & G120. & Rheumatic aortic stenosis            \\\\\n",
       "\t 13240150 & 2006-08-11 00:00:01 & G11.. & Mitral valve diseases (\\& {[}rheumatic{]})\\\\\n",
       "\t 13226617 & 2005-10-06 00:00:00 & G5420 & Tricuspid incompetence non-rheumatic \\\\\n",
       "\t 12899545 & 2002-08-23 00:00:00 & G120. & Rheumatic aortic stenosis            \\\\\n",
       "\t 13355235 & 2010-03-19 00:00:00 & G543. & Pulmonary valve disease              \\\\\n",
       "\t 13275618 & 2008-03-01 13:12:17 & G5430 & Pulmonary incompetence, non-rheumatic\\\\\n",
       "\\end{tabular}\n"
      ],
      "text/markdown": [
       "\n",
       "A tibble: 6 × 4\n",
       "\n",
       "| person_id &lt;int&gt; | src_dateevent &lt;dttm&gt; | src_ctv3code &lt;chr&gt; | src_ctv3text &lt;chr&gt; |\n",
       "|---|---|---|---|\n",
       "|  1011726 | 2003-03-19 14:31:58 | G120. | Rheumatic aortic stenosis             |\n",
       "| 13240150 | 2006-08-11 00:00:01 | G11.. | Mitral valve diseases (&amp; [rheumatic]) |\n",
       "| 13226617 | 2005-10-06 00:00:00 | G5420 | Tricuspid incompetence non-rheumatic  |\n",
       "| 12899545 | 2002-08-23 00:00:00 | G120. | Rheumatic aortic stenosis             |\n",
       "| 13355235 | 2010-03-19 00:00:00 | G543. | Pulmonary valve disease               |\n",
       "| 13275618 | 2008-03-01 13:12:17 | G5430 | Pulmonary incompetence, non-rheumatic |\n",
       "\n"
      ],
      "text/plain": [
       "  person_id src_dateevent       src_ctv3code\n",
       "1  1011726  2003-03-19 14:31:58 G120.       \n",
       "2 13240150  2006-08-11 00:00:01 G11..       \n",
       "3 13226617  2005-10-06 00:00:00 G5420       \n",
       "4 12899545  2002-08-23 00:00:00 G120.       \n",
       "5 13355235  2010-03-19 00:00:00 G543.       \n",
       "6 13275618  2008-03-01 13:12:17 G5430       \n",
       "  src_ctv3text                         \n",
       "1 Rheumatic aortic stenosis            \n",
       "2 Mitral valve diseases (& [rheumatic])\n",
       "3 Tricuspid incompetence non-rheumatic \n",
       "4 Rheumatic aortic stenosis            \n",
       "5 Pulmonary valve disease              \n",
       "6 Pulmonary incompetence, non-rheumatic"
      ]
     },
     "metadata": {},
     "output_type": "display_data"
    }
   ],
   "source": [
    "print(\"Angina\")\n",
    "head(angina)\n",
    "\n",
    "print(\"Cardiomyopathy\")\n",
    "head(cardiomyopathy)\n",
    "\n",
    "print(\"Heart Failure\")\n",
    "head(heart_failure)\n",
    "\n",
    "print(\"Hypertension\")\n",
    "head(hypertension)\n",
    "\n",
    "print(\"IHD\")\n",
    "head(ihd)\n",
    "\n",
    "print(\"MI\")\n",
    "head(mi)\n",
    "\n",
    "print(\"PVD\")\n",
    "head(pvd)\n",
    "\n",
    "print(\"Stroke\")\n",
    "head(stroke)\n",
    "\n",
    "print(\"Valve Disease\")\n",
    "head(valve_disease)"
   ]
  },
  {
   "cell_type": "code",
   "execution_count": 4,
   "id": "41edf0fe-debf-4cbe-bd31-955c21c42501",
   "metadata": {},
   "outputs": [],
   "source": [
    "angina <- angina[!duplicated(angina),]\n",
    "cardiomyopathy <- cardiomyopathy[!duplicated(cardiomyopathy),]\n",
    "heart_failure <- heart_failure[!duplicated(heart_failure),]\n",
    "hypertension <- hypertension[!duplicated(hypertension),]\n",
    "ihd <- ihd[!duplicated(ihd),]\n",
    "mi <- mi[!duplicated(mi),]\n",
    "pvd <- pvd[!duplicated(pvd),]\n",
    "stroke <- stroke[!duplicated(stroke),]\n",
    "valve_disease <- valve_disease[!duplicated(valve_disease),]"
   ]
  },
  {
   "cell_type": "code",
   "execution_count": 5,
   "id": "20e1ba9e-6750-46a5-bb14-48fe1d998532",
   "metadata": {},
   "outputs": [
    {
     "data": {
      "text/html": [
       "30499"
      ],
      "text/latex": [
       "30499"
      ],
      "text/markdown": [
       "30499"
      ],
      "text/plain": [
       "[1] 30499"
      ]
     },
     "metadata": {},
     "output_type": "display_data"
    },
    {
     "data": {
      "text/html": [
       "2773"
      ],
      "text/latex": [
       "2773"
      ],
      "text/markdown": [
       "2773"
      ],
      "text/plain": [
       "[1] 2773"
      ]
     },
     "metadata": {},
     "output_type": "display_data"
    },
    {
     "data": {
      "text/html": [
       "19045"
      ],
      "text/latex": [
       "19045"
      ],
      "text/markdown": [
       "19045"
      ],
      "text/plain": [
       "[1] 19045"
      ]
     },
     "metadata": {},
     "output_type": "display_data"
    },
    {
     "data": {
      "text/html": [
       "63022"
      ],
      "text/latex": [
       "63022"
      ],
      "text/markdown": [
       "63022"
      ],
      "text/plain": [
       "[1] 63022"
      ]
     },
     "metadata": {},
     "output_type": "display_data"
    },
    {
     "data": {
      "text/html": [
       "1055"
      ],
      "text/latex": [
       "1055"
      ],
      "text/markdown": [
       "1055"
      ],
      "text/plain": [
       "[1] 1055"
      ]
     },
     "metadata": {},
     "output_type": "display_data"
    },
    {
     "data": {
      "text/html": [
       "7282"
      ],
      "text/latex": [
       "7282"
      ],
      "text/markdown": [
       "7282"
      ],
      "text/plain": [
       "[1] 7282"
      ]
     },
     "metadata": {},
     "output_type": "display_data"
    },
    {
     "data": {
      "text/html": [
       "6567"
      ],
      "text/latex": [
       "6567"
      ],
      "text/markdown": [
       "6567"
      ],
      "text/plain": [
       "[1] 6567"
      ]
     },
     "metadata": {},
     "output_type": "display_data"
    },
    {
     "data": {
      "text/html": [
       "27245"
      ],
      "text/latex": [
       "27245"
      ],
      "text/markdown": [
       "27245"
      ],
      "text/plain": [
       "[1] 27245"
      ]
     },
     "metadata": {},
     "output_type": "display_data"
    },
    {
     "data": {
      "text/html": [
       "12721"
      ],
      "text/latex": [
       "12721"
      ],
      "text/markdown": [
       "12721"
      ],
      "text/plain": [
       "[1] 12721"
      ]
     },
     "metadata": {},
     "output_type": "display_data"
    }
   ],
   "source": [
    "nrow(angina)\n",
    "nrow(cardiomyopathy)\n",
    "nrow(heart_failure)\n",
    "nrow(hypertension)\n",
    "nrow(ihd)\n",
    "nrow(mi)\n",
    "nrow(pvd)\n",
    "nrow(stroke)\n",
    "nrow(valve_disease)"
   ]
  },
  {
   "cell_type": "code",
   "execution_count": 6,
   "id": "5c4a8de1-87c2-4260-896a-b597cf54488d",
   "metadata": {},
   "outputs": [],
   "source": [
    "# add indicator for each CVD, rename date of event, remove ctv3 code and text columns, choose earliest event of CVD per person\n",
    "# Angina\n",
    "angina <- angina %>%\n",
    "    mutate(has_angina = 1) %>%\n",
    "    rename(date_angina_diagnosis = src_dateevent) %>%\n",
    "    select(-src_ctv3code, -src_ctv3text) %>%\n",
    "    group_by(person_id) %>%\n",
    "    arrange(date_angina_diagnosis) %>%\n",
    "    mutate(event_number = row_number()) %>%\n",
    "    slice_min(event_number) %>%\n",
    "    select(-event_number) %>%\n",
    "    ungroup()\n",
    "\n",
    "# Cardiomyopathy\n",
    "cardiomyopathy <- cardiomyopathy %>%\n",
    "    mutate(has_cardiomyopathy = 1) %>%\n",
    "    rename(date_cardiomyopathy_diagnosis = src_dateevent) %>%\n",
    "    select(-src_ctv3code, -src_ctv3text) %>%\n",
    "    group_by(person_id) %>%\n",
    "    arrange(date_cardiomyopathy_diagnosis) %>%\n",
    "    mutate(event_number = row_number()) %>%\n",
    "    slice_min(event_number) %>%\n",
    "    select(-event_number) %>%\n",
    "    ungroup()\n",
    "\n",
    "# Heart Failure\n",
    "heart_failure <- heart_failure %>%\n",
    "    mutate(has_heart_failure = 1) %>%\n",
    "    rename(date_heart_failure_diagnosis = src_dateevent) %>%\n",
    "    select(-src_ctv3code, -src_ctv3text) %>%\n",
    "    group_by(person_id) %>%\n",
    "    arrange(date_heart_failure_diagnosis) %>%\n",
    "    mutate(event_number = row_number()) %>%\n",
    "    slice_min(event_number) %>%\n",
    "    select(-event_number) %>%\n",
    "    ungroup()\n",
    "\n",
    "# Hypertension\n",
    "hypertension <- hypertension %>%\n",
    "    mutate(has_hypertension = 1) %>%\n",
    "    rename(date_hypertension_diagnosis = src_dateevent) %>%\n",
    "    select(-src_ctv3code, -src_ctv3text) %>%\n",
    "    group_by(person_id) %>%\n",
    "    arrange(date_hypertension_diagnosis) %>%\n",
    "    mutate(event_number = row_number()) %>%\n",
    "    slice_min(event_number) %>%\n",
    "    select(-event_number) %>%\n",
    "    ungroup()\n",
    "\n",
    "# Ischaemic Heart Disease\n",
    "ihd <- ihd %>%\n",
    "    mutate(has_ihd = 1) %>%\n",
    "    rename(date_ihd_diagnosis = src_dateevent) %>%\n",
    "    select(-src_ctv3code, -src_ctv3text) %>%\n",
    "    group_by(person_id) %>%\n",
    "    arrange(date_ihd_diagnosis) %>%\n",
    "    mutate(event_number = row_number()) %>%\n",
    "    slice_min(event_number) %>%\n",
    "    select(-event_number) %>%\n",
    "    ungroup()\n",
    "\n",
    "# Myocardial Infarction\n",
    "mi <- mi %>%\n",
    "    mutate(has_mi = 1) %>%\n",
    "    rename(date_mi_diagnosis = src_dateevent) %>%\n",
    "    select(-src_ctv3code, -src_ctv3text) %>%\n",
    "    group_by(person_id) %>%\n",
    "    arrange(date_mi_diagnosis) %>%\n",
    "    mutate(event_number = row_number()) %>%\n",
    "    slice_min(event_number) %>%\n",
    "    select(-event_number) %>%\n",
    "    ungroup()\n",
    "\n",
    "# Peripheral Vascular Disease\n",
    "pvd <- pvd %>%\n",
    "    mutate(has_pvd = 1) %>%\n",
    "    rename(date_pvd_diagnosis = src_dateevent) %>%\n",
    "    select(-src_ctv3code, -src_ctv3text) %>%\n",
    "    group_by(person_id) %>%\n",
    "    arrange(date_pvd_diagnosis) %>%\n",
    "    mutate(event_number = row_number()) %>%\n",
    "    slice_min(event_number) %>%\n",
    "    select(-event_number) %>%\n",
    "    ungroup()\n",
    "\n",
    "# Stroke\n",
    "stroke <- stroke %>%\n",
    "    mutate(has_stroke = 1) %>%\n",
    "    rename(date_stroke_diagnosis = src_dateevent) %>%\n",
    "    select(-src_ctv3code, -src_ctv3text) %>%\n",
    "    group_by(person_id) %>%\n",
    "    arrange(date_stroke_diagnosis) %>%\n",
    "    mutate(event_number = row_number()) %>%\n",
    "    slice_min(event_number) %>%\n",
    "    select(-event_number) %>%\n",
    "    ungroup()\n",
    "\n",
    "# Valve Disease\n",
    "valve_disease <- valve_disease %>%\n",
    "    mutate(has_valve_disease = 1) %>%\n",
    "    rename(date_valve_disease_diagnosis = src_dateevent) %>%\n",
    "    select(-src_ctv3code, -src_ctv3text) %>%\n",
    "    group_by(person_id) %>%\n",
    "    arrange(date_valve_disease_diagnosis) %>%\n",
    "    mutate(event_number = row_number()) %>%\n",
    "    slice_min(event_number) %>%\n",
    "    select(-event_number) %>%\n",
    "    ungroup()\n",
    "\n",
    "\n",
    "\n"
   ]
  },
  {
   "cell_type": "code",
   "execution_count": 8,
   "id": "e4217ef4-2c3e-4452-b7eb-33bd889646ba",
   "metadata": {},
   "outputs": [
    {
     "name": "stdout",
     "output_type": "stream",
     "text": [
      "[1] \"Angina\"\n"
     ]
    },
    {
     "data": {
      "text/html": [
       "<table class=\"dataframe\">\n",
       "<caption>A tibble: 6 × 3</caption>\n",
       "<thead>\n",
       "\t<tr><th scope=col>person_id</th><th scope=col>date_angina_diagnosis</th><th scope=col>has_angina</th></tr>\n",
       "\t<tr><th scope=col>&lt;int&gt;</th><th scope=col>&lt;dttm&gt;</th><th scope=col>&lt;dbl&gt;</th></tr>\n",
       "</thead>\n",
       "<tbody>\n",
       "\t<tr><td>1393</td><td>2002-01-22 00:00:00</td><td>1</td></tr>\n",
       "\t<tr><td>1836</td><td>2004-11-03 08:55:17</td><td>1</td></tr>\n",
       "\t<tr><td>1947</td><td>2006-05-05 00:00:00</td><td>1</td></tr>\n",
       "\t<tr><td>2718</td><td>2012-05-29 16:46:30</td><td>1</td></tr>\n",
       "\t<tr><td>5071</td><td>2004-01-05 14:49:00</td><td>1</td></tr>\n",
       "\t<tr><td>5571</td><td>2004-06-22 00:00:01</td><td>1</td></tr>\n",
       "</tbody>\n",
       "</table>\n"
      ],
      "text/latex": [
       "A tibble: 6 × 3\n",
       "\\begin{tabular}{lll}\n",
       " person\\_id & date\\_angina\\_diagnosis & has\\_angina\\\\\n",
       " <int> & <dttm> & <dbl>\\\\\n",
       "\\hline\n",
       "\t 1393 & 2002-01-22 00:00:00 & 1\\\\\n",
       "\t 1836 & 2004-11-03 08:55:17 & 1\\\\\n",
       "\t 1947 & 2006-05-05 00:00:00 & 1\\\\\n",
       "\t 2718 & 2012-05-29 16:46:30 & 1\\\\\n",
       "\t 5071 & 2004-01-05 14:49:00 & 1\\\\\n",
       "\t 5571 & 2004-06-22 00:00:01 & 1\\\\\n",
       "\\end{tabular}\n"
      ],
      "text/markdown": [
       "\n",
       "A tibble: 6 × 3\n",
       "\n",
       "| person_id &lt;int&gt; | date_angina_diagnosis &lt;dttm&gt; | has_angina &lt;dbl&gt; |\n",
       "|---|---|---|\n",
       "| 1393 | 2002-01-22 00:00:00 | 1 |\n",
       "| 1836 | 2004-11-03 08:55:17 | 1 |\n",
       "| 1947 | 2006-05-05 00:00:00 | 1 |\n",
       "| 2718 | 2012-05-29 16:46:30 | 1 |\n",
       "| 5071 | 2004-01-05 14:49:00 | 1 |\n",
       "| 5571 | 2004-06-22 00:00:01 | 1 |\n",
       "\n"
      ],
      "text/plain": [
       "  person_id date_angina_diagnosis has_angina\n",
       "1 1393      2002-01-22 00:00:00   1         \n",
       "2 1836      2004-11-03 08:55:17   1         \n",
       "3 1947      2006-05-05 00:00:00   1         \n",
       "4 2718      2012-05-29 16:46:30   1         \n",
       "5 5071      2004-01-05 14:49:00   1         \n",
       "6 5571      2004-06-22 00:00:01   1         "
      ]
     },
     "metadata": {},
     "output_type": "display_data"
    },
    {
     "name": "stdout",
     "output_type": "stream",
     "text": [
      "[1] \"Cardiomyopathy\"\n"
     ]
    },
    {
     "data": {
      "text/html": [
       "<table class=\"dataframe\">\n",
       "<caption>A tibble: 6 × 3</caption>\n",
       "<thead>\n",
       "\t<tr><th scope=col>person_id</th><th scope=col>date_cardiomyopathy_diagnosis</th><th scope=col>has_cardiomyopathy</th></tr>\n",
       "\t<tr><th scope=col>&lt;int&gt;</th><th scope=col>&lt;dttm&gt;</th><th scope=col>&lt;dbl&gt;</th></tr>\n",
       "</thead>\n",
       "<tbody>\n",
       "\t<tr><td> 5218</td><td>2009-12-01 14:39:42</td><td>1</td></tr>\n",
       "\t<tr><td> 6847</td><td>2021-06-02 00:00:01</td><td>1</td></tr>\n",
       "\t<tr><td>17269</td><td>2013-10-21 00:00:00</td><td>1</td></tr>\n",
       "\t<tr><td>18995</td><td>2005-05-11 00:00:01</td><td>1</td></tr>\n",
       "\t<tr><td>25173</td><td>2011-12-09 14:34:18</td><td>1</td></tr>\n",
       "\t<tr><td>33683</td><td>2007-10-12 00:00:00</td><td>1</td></tr>\n",
       "</tbody>\n",
       "</table>\n"
      ],
      "text/latex": [
       "A tibble: 6 × 3\n",
       "\\begin{tabular}{lll}\n",
       " person\\_id & date\\_cardiomyopathy\\_diagnosis & has\\_cardiomyopathy\\\\\n",
       " <int> & <dttm> & <dbl>\\\\\n",
       "\\hline\n",
       "\t  5218 & 2009-12-01 14:39:42 & 1\\\\\n",
       "\t  6847 & 2021-06-02 00:00:01 & 1\\\\\n",
       "\t 17269 & 2013-10-21 00:00:00 & 1\\\\\n",
       "\t 18995 & 2005-05-11 00:00:01 & 1\\\\\n",
       "\t 25173 & 2011-12-09 14:34:18 & 1\\\\\n",
       "\t 33683 & 2007-10-12 00:00:00 & 1\\\\\n",
       "\\end{tabular}\n"
      ],
      "text/markdown": [
       "\n",
       "A tibble: 6 × 3\n",
       "\n",
       "| person_id &lt;int&gt; | date_cardiomyopathy_diagnosis &lt;dttm&gt; | has_cardiomyopathy &lt;dbl&gt; |\n",
       "|---|---|---|\n",
       "|  5218 | 2009-12-01 14:39:42 | 1 |\n",
       "|  6847 | 2021-06-02 00:00:01 | 1 |\n",
       "| 17269 | 2013-10-21 00:00:00 | 1 |\n",
       "| 18995 | 2005-05-11 00:00:01 | 1 |\n",
       "| 25173 | 2011-12-09 14:34:18 | 1 |\n",
       "| 33683 | 2007-10-12 00:00:00 | 1 |\n",
       "\n"
      ],
      "text/plain": [
       "  person_id date_cardiomyopathy_diagnosis has_cardiomyopathy\n",
       "1  5218     2009-12-01 14:39:42           1                 \n",
       "2  6847     2021-06-02 00:00:01           1                 \n",
       "3 17269     2013-10-21 00:00:00           1                 \n",
       "4 18995     2005-05-11 00:00:01           1                 \n",
       "5 25173     2011-12-09 14:34:18           1                 \n",
       "6 33683     2007-10-12 00:00:00           1                 "
      ]
     },
     "metadata": {},
     "output_type": "display_data"
    },
    {
     "name": "stdout",
     "output_type": "stream",
     "text": [
      "[1] \"Heart Failure\"\n"
     ]
    },
    {
     "data": {
      "text/html": [
       "<table class=\"dataframe\">\n",
       "<caption>A tibble: 6 × 3</caption>\n",
       "<thead>\n",
       "\t<tr><th scope=col>person_id</th><th scope=col>date_heart_failure_diagnosis</th><th scope=col>has_heart_failure</th></tr>\n",
       "\t<tr><th scope=col>&lt;int&gt;</th><th scope=col>&lt;dttm&gt;</th><th scope=col>&lt;dbl&gt;</th></tr>\n",
       "</thead>\n",
       "<tbody>\n",
       "\t<tr><td> 381</td><td>2006-07-11 12:54:46</td><td>1</td></tr>\n",
       "\t<tr><td> 519</td><td>2007-05-23 00:00:00</td><td>1</td></tr>\n",
       "\t<tr><td>2262</td><td>2008-01-01 14:01:59</td><td>1</td></tr>\n",
       "\t<tr><td>2630</td><td>2008-12-23 00:00:00</td><td>1</td></tr>\n",
       "\t<tr><td>3254</td><td>2003-11-18 12:42:54</td><td>1</td></tr>\n",
       "\t<tr><td>6822</td><td>2013-04-23 15:00:26</td><td>1</td></tr>\n",
       "</tbody>\n",
       "</table>\n"
      ],
      "text/latex": [
       "A tibble: 6 × 3\n",
       "\\begin{tabular}{lll}\n",
       " person\\_id & date\\_heart\\_failure\\_diagnosis & has\\_heart\\_failure\\\\\n",
       " <int> & <dttm> & <dbl>\\\\\n",
       "\\hline\n",
       "\t  381 & 2006-07-11 12:54:46 & 1\\\\\n",
       "\t  519 & 2007-05-23 00:00:00 & 1\\\\\n",
       "\t 2262 & 2008-01-01 14:01:59 & 1\\\\\n",
       "\t 2630 & 2008-12-23 00:00:00 & 1\\\\\n",
       "\t 3254 & 2003-11-18 12:42:54 & 1\\\\\n",
       "\t 6822 & 2013-04-23 15:00:26 & 1\\\\\n",
       "\\end{tabular}\n"
      ],
      "text/markdown": [
       "\n",
       "A tibble: 6 × 3\n",
       "\n",
       "| person_id &lt;int&gt; | date_heart_failure_diagnosis &lt;dttm&gt; | has_heart_failure &lt;dbl&gt; |\n",
       "|---|---|---|\n",
       "|  381 | 2006-07-11 12:54:46 | 1 |\n",
       "|  519 | 2007-05-23 00:00:00 | 1 |\n",
       "| 2262 | 2008-01-01 14:01:59 | 1 |\n",
       "| 2630 | 2008-12-23 00:00:00 | 1 |\n",
       "| 3254 | 2003-11-18 12:42:54 | 1 |\n",
       "| 6822 | 2013-04-23 15:00:26 | 1 |\n",
       "\n"
      ],
      "text/plain": [
       "  person_id date_heart_failure_diagnosis has_heart_failure\n",
       "1  381      2006-07-11 12:54:46          1                \n",
       "2  519      2007-05-23 00:00:00          1                \n",
       "3 2262      2008-01-01 14:01:59          1                \n",
       "4 2630      2008-12-23 00:00:00          1                \n",
       "5 3254      2003-11-18 12:42:54          1                \n",
       "6 6822      2013-04-23 15:00:26          1                "
      ]
     },
     "metadata": {},
     "output_type": "display_data"
    },
    {
     "name": "stdout",
     "output_type": "stream",
     "text": [
      "[1] \"Hypertension\"\n"
     ]
    },
    {
     "data": {
      "text/html": [
       "<table class=\"dataframe\">\n",
       "<caption>A tibble: 6 × 3</caption>\n",
       "<thead>\n",
       "\t<tr><th scope=col>person_id</th><th scope=col>date_hypertension_diagnosis</th><th scope=col>has_hypertension</th></tr>\n",
       "\t<tr><th scope=col>&lt;int&gt;</th><th scope=col>&lt;dttm&gt;</th><th scope=col>&lt;dbl&gt;</th></tr>\n",
       "</thead>\n",
       "<tbody>\n",
       "\t<tr><td> 359</td><td>2013-04-08 18:08:53</td><td>1</td></tr>\n",
       "\t<tr><td> 957</td><td>2003-08-06 00:00:00</td><td>1</td></tr>\n",
       "\t<tr><td>1183</td><td>2003-01-21 00:00:00</td><td>1</td></tr>\n",
       "\t<tr><td>1545</td><td>2010-05-10 16:19:14</td><td>1</td></tr>\n",
       "\t<tr><td>1836</td><td>2002-06-14 12:58:01</td><td>1</td></tr>\n",
       "\t<tr><td>1851</td><td>2002-01-18 17:13:48</td><td>1</td></tr>\n",
       "</tbody>\n",
       "</table>\n"
      ],
      "text/latex": [
       "A tibble: 6 × 3\n",
       "\\begin{tabular}{lll}\n",
       " person\\_id & date\\_hypertension\\_diagnosis & has\\_hypertension\\\\\n",
       " <int> & <dttm> & <dbl>\\\\\n",
       "\\hline\n",
       "\t  359 & 2013-04-08 18:08:53 & 1\\\\\n",
       "\t  957 & 2003-08-06 00:00:00 & 1\\\\\n",
       "\t 1183 & 2003-01-21 00:00:00 & 1\\\\\n",
       "\t 1545 & 2010-05-10 16:19:14 & 1\\\\\n",
       "\t 1836 & 2002-06-14 12:58:01 & 1\\\\\n",
       "\t 1851 & 2002-01-18 17:13:48 & 1\\\\\n",
       "\\end{tabular}\n"
      ],
      "text/markdown": [
       "\n",
       "A tibble: 6 × 3\n",
       "\n",
       "| person_id &lt;int&gt; | date_hypertension_diagnosis &lt;dttm&gt; | has_hypertension &lt;dbl&gt; |\n",
       "|---|---|---|\n",
       "|  359 | 2013-04-08 18:08:53 | 1 |\n",
       "|  957 | 2003-08-06 00:00:00 | 1 |\n",
       "| 1183 | 2003-01-21 00:00:00 | 1 |\n",
       "| 1545 | 2010-05-10 16:19:14 | 1 |\n",
       "| 1836 | 2002-06-14 12:58:01 | 1 |\n",
       "| 1851 | 2002-01-18 17:13:48 | 1 |\n",
       "\n"
      ],
      "text/plain": [
       "  person_id date_hypertension_diagnosis has_hypertension\n",
       "1  359      2013-04-08 18:08:53         1               \n",
       "2  957      2003-08-06 00:00:00         1               \n",
       "3 1183      2003-01-21 00:00:00         1               \n",
       "4 1545      2010-05-10 16:19:14         1               \n",
       "5 1836      2002-06-14 12:58:01         1               \n",
       "6 1851      2002-01-18 17:13:48         1               "
      ]
     },
     "metadata": {},
     "output_type": "display_data"
    },
    {
     "name": "stdout",
     "output_type": "stream",
     "text": [
      "[1] \"IHD\"\n"
     ]
    },
    {
     "data": {
      "text/html": [
       "<table class=\"dataframe\">\n",
       "<caption>A tibble: 6 × 3</caption>\n",
       "<thead>\n",
       "\t<tr><th scope=col>person_id</th><th scope=col>date_ihd_diagnosis</th><th scope=col>has_ihd</th></tr>\n",
       "\t<tr><th scope=col>&lt;int&gt;</th><th scope=col>&lt;dttm&gt;</th><th scope=col>&lt;dbl&gt;</th></tr>\n",
       "</thead>\n",
       "<tbody>\n",
       "\t<tr><td> 39650</td><td>2002-01-02 15:22:17</td><td>1</td></tr>\n",
       "\t<tr><td> 52865</td><td>2003-02-04 00:00:00</td><td>1</td></tr>\n",
       "\t<tr><td> 54883</td><td>2012-05-11 16:06:48</td><td>1</td></tr>\n",
       "\t<tr><td> 73217</td><td>2006-08-31 10:43:44</td><td>1</td></tr>\n",
       "\t<tr><td>109088</td><td>2009-01-01 09:24:43</td><td>1</td></tr>\n",
       "\t<tr><td>123737</td><td>2002-11-12 00:00:00</td><td>1</td></tr>\n",
       "</tbody>\n",
       "</table>\n"
      ],
      "text/latex": [
       "A tibble: 6 × 3\n",
       "\\begin{tabular}{lll}\n",
       " person\\_id & date\\_ihd\\_diagnosis & has\\_ihd\\\\\n",
       " <int> & <dttm> & <dbl>\\\\\n",
       "\\hline\n",
       "\t  39650 & 2002-01-02 15:22:17 & 1\\\\\n",
       "\t  52865 & 2003-02-04 00:00:00 & 1\\\\\n",
       "\t  54883 & 2012-05-11 16:06:48 & 1\\\\\n",
       "\t  73217 & 2006-08-31 10:43:44 & 1\\\\\n",
       "\t 109088 & 2009-01-01 09:24:43 & 1\\\\\n",
       "\t 123737 & 2002-11-12 00:00:00 & 1\\\\\n",
       "\\end{tabular}\n"
      ],
      "text/markdown": [
       "\n",
       "A tibble: 6 × 3\n",
       "\n",
       "| person_id &lt;int&gt; | date_ihd_diagnosis &lt;dttm&gt; | has_ihd &lt;dbl&gt; |\n",
       "|---|---|---|\n",
       "|  39650 | 2002-01-02 15:22:17 | 1 |\n",
       "|  52865 | 2003-02-04 00:00:00 | 1 |\n",
       "|  54883 | 2012-05-11 16:06:48 | 1 |\n",
       "|  73217 | 2006-08-31 10:43:44 | 1 |\n",
       "| 109088 | 2009-01-01 09:24:43 | 1 |\n",
       "| 123737 | 2002-11-12 00:00:00 | 1 |\n",
       "\n"
      ],
      "text/plain": [
       "  person_id date_ihd_diagnosis  has_ihd\n",
       "1  39650    2002-01-02 15:22:17 1      \n",
       "2  52865    2003-02-04 00:00:00 1      \n",
       "3  54883    2012-05-11 16:06:48 1      \n",
       "4  73217    2006-08-31 10:43:44 1      \n",
       "5 109088    2009-01-01 09:24:43 1      \n",
       "6 123737    2002-11-12 00:00:00 1      "
      ]
     },
     "metadata": {},
     "output_type": "display_data"
    },
    {
     "name": "stdout",
     "output_type": "stream",
     "text": [
      "[1] \"MI\"\n"
     ]
    },
    {
     "data": {
      "text/html": [
       "<table class=\"dataframe\">\n",
       "<caption>A tibble: 6 × 3</caption>\n",
       "<thead>\n",
       "\t<tr><th scope=col>person_id</th><th scope=col>date_mi_diagnosis</th><th scope=col>has_mi</th></tr>\n",
       "\t<tr><th scope=col>&lt;int&gt;</th><th scope=col>&lt;dttm&gt;</th><th scope=col>&lt;dbl&gt;</th></tr>\n",
       "</thead>\n",
       "<tbody>\n",
       "\t<tr><td>  760</td><td>2004-11-04 00:00:00</td><td>1</td></tr>\n",
       "\t<tr><td> 1885</td><td>2004-05-17 14:28:48</td><td>1</td></tr>\n",
       "\t<tr><td> 5102</td><td>2004-10-03 00:00:00</td><td>1</td></tr>\n",
       "\t<tr><td>13718</td><td>2003-09-01 10:32:21</td><td>1</td></tr>\n",
       "\t<tr><td>19168</td><td>2002-10-31 14:53:00</td><td>1</td></tr>\n",
       "\t<tr><td>21100</td><td>2004-04-19 09:18:27</td><td>1</td></tr>\n",
       "</tbody>\n",
       "</table>\n"
      ],
      "text/latex": [
       "A tibble: 6 × 3\n",
       "\\begin{tabular}{lll}\n",
       " person\\_id & date\\_mi\\_diagnosis & has\\_mi\\\\\n",
       " <int> & <dttm> & <dbl>\\\\\n",
       "\\hline\n",
       "\t   760 & 2004-11-04 00:00:00 & 1\\\\\n",
       "\t  1885 & 2004-05-17 14:28:48 & 1\\\\\n",
       "\t  5102 & 2004-10-03 00:00:00 & 1\\\\\n",
       "\t 13718 & 2003-09-01 10:32:21 & 1\\\\\n",
       "\t 19168 & 2002-10-31 14:53:00 & 1\\\\\n",
       "\t 21100 & 2004-04-19 09:18:27 & 1\\\\\n",
       "\\end{tabular}\n"
      ],
      "text/markdown": [
       "\n",
       "A tibble: 6 × 3\n",
       "\n",
       "| person_id &lt;int&gt; | date_mi_diagnosis &lt;dttm&gt; | has_mi &lt;dbl&gt; |\n",
       "|---|---|---|\n",
       "|   760 | 2004-11-04 00:00:00 | 1 |\n",
       "|  1885 | 2004-05-17 14:28:48 | 1 |\n",
       "|  5102 | 2004-10-03 00:00:00 | 1 |\n",
       "| 13718 | 2003-09-01 10:32:21 | 1 |\n",
       "| 19168 | 2002-10-31 14:53:00 | 1 |\n",
       "| 21100 | 2004-04-19 09:18:27 | 1 |\n",
       "\n"
      ],
      "text/plain": [
       "  person_id date_mi_diagnosis   has_mi\n",
       "1   760     2004-11-04 00:00:00 1     \n",
       "2  1885     2004-05-17 14:28:48 1     \n",
       "3  5102     2004-10-03 00:00:00 1     \n",
       "4 13718     2003-09-01 10:32:21 1     \n",
       "5 19168     2002-10-31 14:53:00 1     \n",
       "6 21100     2004-04-19 09:18:27 1     "
      ]
     },
     "metadata": {},
     "output_type": "display_data"
    },
    {
     "name": "stdout",
     "output_type": "stream",
     "text": [
      "[1] \"PVD\"\n"
     ]
    },
    {
     "data": {
      "text/html": [
       "<table class=\"dataframe\">\n",
       "<caption>A tibble: 6 × 3</caption>\n",
       "<thead>\n",
       "\t<tr><th scope=col>person_id</th><th scope=col>date_pvd_diagnosis</th><th scope=col>has_pvd</th></tr>\n",
       "\t<tr><th scope=col>&lt;int&gt;</th><th scope=col>&lt;dttm&gt;</th><th scope=col>&lt;dbl&gt;</th></tr>\n",
       "</thead>\n",
       "<tbody>\n",
       "\t<tr><td> 2706</td><td>2012-04-30 10:09:46</td><td>1</td></tr>\n",
       "\t<tr><td> 5052</td><td>2021-04-23 14:21:43</td><td>1</td></tr>\n",
       "\t<tr><td> 6185</td><td>2004-12-02 10:36:38</td><td>1</td></tr>\n",
       "\t<tr><td> 9242</td><td>2012-10-29 00:00:00</td><td>1</td></tr>\n",
       "\t<tr><td>10211</td><td>2002-10-21 00:00:00</td><td>1</td></tr>\n",
       "\t<tr><td>21651</td><td>2005-12-23 14:20:00</td><td>1</td></tr>\n",
       "</tbody>\n",
       "</table>\n"
      ],
      "text/latex": [
       "A tibble: 6 × 3\n",
       "\\begin{tabular}{lll}\n",
       " person\\_id & date\\_pvd\\_diagnosis & has\\_pvd\\\\\n",
       " <int> & <dttm> & <dbl>\\\\\n",
       "\\hline\n",
       "\t  2706 & 2012-04-30 10:09:46 & 1\\\\\n",
       "\t  5052 & 2021-04-23 14:21:43 & 1\\\\\n",
       "\t  6185 & 2004-12-02 10:36:38 & 1\\\\\n",
       "\t  9242 & 2012-10-29 00:00:00 & 1\\\\\n",
       "\t 10211 & 2002-10-21 00:00:00 & 1\\\\\n",
       "\t 21651 & 2005-12-23 14:20:00 & 1\\\\\n",
       "\\end{tabular}\n"
      ],
      "text/markdown": [
       "\n",
       "A tibble: 6 × 3\n",
       "\n",
       "| person_id &lt;int&gt; | date_pvd_diagnosis &lt;dttm&gt; | has_pvd &lt;dbl&gt; |\n",
       "|---|---|---|\n",
       "|  2706 | 2012-04-30 10:09:46 | 1 |\n",
       "|  5052 | 2021-04-23 14:21:43 | 1 |\n",
       "|  6185 | 2004-12-02 10:36:38 | 1 |\n",
       "|  9242 | 2012-10-29 00:00:00 | 1 |\n",
       "| 10211 | 2002-10-21 00:00:00 | 1 |\n",
       "| 21651 | 2005-12-23 14:20:00 | 1 |\n",
       "\n"
      ],
      "text/plain": [
       "  person_id date_pvd_diagnosis  has_pvd\n",
       "1  2706     2012-04-30 10:09:46 1      \n",
       "2  5052     2021-04-23 14:21:43 1      \n",
       "3  6185     2004-12-02 10:36:38 1      \n",
       "4  9242     2012-10-29 00:00:00 1      \n",
       "5 10211     2002-10-21 00:00:00 1      \n",
       "6 21651     2005-12-23 14:20:00 1      "
      ]
     },
     "metadata": {},
     "output_type": "display_data"
    },
    {
     "name": "stdout",
     "output_type": "stream",
     "text": [
      "[1] \"Stroke\"\n"
     ]
    },
    {
     "data": {
      "text/html": [
       "<table class=\"dataframe\">\n",
       "<caption>A tibble: 6 × 3</caption>\n",
       "<thead>\n",
       "\t<tr><th scope=col>person_id</th><th scope=col>date_stroke_diagnosis</th><th scope=col>has_stroke</th></tr>\n",
       "\t<tr><th scope=col>&lt;int&gt;</th><th scope=col>&lt;dttm&gt;</th><th scope=col>&lt;dbl&gt;</th></tr>\n",
       "</thead>\n",
       "<tbody>\n",
       "\t<tr><td> 362</td><td>2006-09-01 17:52:28</td><td>1</td></tr>\n",
       "\t<tr><td> 406</td><td>2004-01-09 12:43:42</td><td>1</td></tr>\n",
       "\t<tr><td>1935</td><td>2007-07-02 14:43:31</td><td>1</td></tr>\n",
       "\t<tr><td>2623</td><td>2004-02-06 00:00:00</td><td>1</td></tr>\n",
       "\t<tr><td>4257</td><td>2004-09-03 11:38:57</td><td>1</td></tr>\n",
       "\t<tr><td>5023</td><td>2002-06-18 14:47:47</td><td>1</td></tr>\n",
       "</tbody>\n",
       "</table>\n"
      ],
      "text/latex": [
       "A tibble: 6 × 3\n",
       "\\begin{tabular}{lll}\n",
       " person\\_id & date\\_stroke\\_diagnosis & has\\_stroke\\\\\n",
       " <int> & <dttm> & <dbl>\\\\\n",
       "\\hline\n",
       "\t  362 & 2006-09-01 17:52:28 & 1\\\\\n",
       "\t  406 & 2004-01-09 12:43:42 & 1\\\\\n",
       "\t 1935 & 2007-07-02 14:43:31 & 1\\\\\n",
       "\t 2623 & 2004-02-06 00:00:00 & 1\\\\\n",
       "\t 4257 & 2004-09-03 11:38:57 & 1\\\\\n",
       "\t 5023 & 2002-06-18 14:47:47 & 1\\\\\n",
       "\\end{tabular}\n"
      ],
      "text/markdown": [
       "\n",
       "A tibble: 6 × 3\n",
       "\n",
       "| person_id &lt;int&gt; | date_stroke_diagnosis &lt;dttm&gt; | has_stroke &lt;dbl&gt; |\n",
       "|---|---|---|\n",
       "|  362 | 2006-09-01 17:52:28 | 1 |\n",
       "|  406 | 2004-01-09 12:43:42 | 1 |\n",
       "| 1935 | 2007-07-02 14:43:31 | 1 |\n",
       "| 2623 | 2004-02-06 00:00:00 | 1 |\n",
       "| 4257 | 2004-09-03 11:38:57 | 1 |\n",
       "| 5023 | 2002-06-18 14:47:47 | 1 |\n",
       "\n"
      ],
      "text/plain": [
       "  person_id date_stroke_diagnosis has_stroke\n",
       "1  362      2006-09-01 17:52:28   1         \n",
       "2  406      2004-01-09 12:43:42   1         \n",
       "3 1935      2007-07-02 14:43:31   1         \n",
       "4 2623      2004-02-06 00:00:00   1         \n",
       "5 4257      2004-09-03 11:38:57   1         \n",
       "6 5023      2002-06-18 14:47:47   1         "
      ]
     },
     "metadata": {},
     "output_type": "display_data"
    },
    {
     "name": "stdout",
     "output_type": "stream",
     "text": [
      "[1] \"Valve Disease\"\n"
     ]
    },
    {
     "data": {
      "text/html": [
       "<table class=\"dataframe\">\n",
       "<caption>A tibble: 6 × 3</caption>\n",
       "<thead>\n",
       "\t<tr><th scope=col>person_id</th><th scope=col>date_valve_disease_diagnosis</th><th scope=col>has_valve_disease</th></tr>\n",
       "\t<tr><th scope=col>&lt;int&gt;</th><th scope=col>&lt;dttm&gt;</th><th scope=col>&lt;dbl&gt;</th></tr>\n",
       "</thead>\n",
       "<tbody>\n",
       "\t<tr><td> 4931</td><td>2007-04-26 00:00:00</td><td>1</td></tr>\n",
       "\t<tr><td> 4958</td><td>2002-07-03 00:00:00</td><td>1</td></tr>\n",
       "\t<tr><td> 5218</td><td>2010-08-12 00:00:00</td><td>1</td></tr>\n",
       "\t<tr><td> 5482</td><td>2022-05-26 00:00:00</td><td>1</td></tr>\n",
       "\t<tr><td> 6228</td><td>2004-09-15 16:35:50</td><td>1</td></tr>\n",
       "\t<tr><td>10269</td><td>2021-04-29 15:06:21</td><td>1</td></tr>\n",
       "</tbody>\n",
       "</table>\n"
      ],
      "text/latex": [
       "A tibble: 6 × 3\n",
       "\\begin{tabular}{lll}\n",
       " person\\_id & date\\_valve\\_disease\\_diagnosis & has\\_valve\\_disease\\\\\n",
       " <int> & <dttm> & <dbl>\\\\\n",
       "\\hline\n",
       "\t  4931 & 2007-04-26 00:00:00 & 1\\\\\n",
       "\t  4958 & 2002-07-03 00:00:00 & 1\\\\\n",
       "\t  5218 & 2010-08-12 00:00:00 & 1\\\\\n",
       "\t  5482 & 2022-05-26 00:00:00 & 1\\\\\n",
       "\t  6228 & 2004-09-15 16:35:50 & 1\\\\\n",
       "\t 10269 & 2021-04-29 15:06:21 & 1\\\\\n",
       "\\end{tabular}\n"
      ],
      "text/markdown": [
       "\n",
       "A tibble: 6 × 3\n",
       "\n",
       "| person_id &lt;int&gt; | date_valve_disease_diagnosis &lt;dttm&gt; | has_valve_disease &lt;dbl&gt; |\n",
       "|---|---|---|\n",
       "|  4931 | 2007-04-26 00:00:00 | 1 |\n",
       "|  4958 | 2002-07-03 00:00:00 | 1 |\n",
       "|  5218 | 2010-08-12 00:00:00 | 1 |\n",
       "|  5482 | 2022-05-26 00:00:00 | 1 |\n",
       "|  6228 | 2004-09-15 16:35:50 | 1 |\n",
       "| 10269 | 2021-04-29 15:06:21 | 1 |\n",
       "\n"
      ],
      "text/plain": [
       "  person_id date_valve_disease_diagnosis has_valve_disease\n",
       "1  4931     2007-04-26 00:00:00          1                \n",
       "2  4958     2002-07-03 00:00:00          1                \n",
       "3  5218     2010-08-12 00:00:00          1                \n",
       "4  5482     2022-05-26 00:00:00          1                \n",
       "5  6228     2004-09-15 16:35:50          1                \n",
       "6 10269     2021-04-29 15:06:21          1                "
      ]
     },
     "metadata": {},
     "output_type": "display_data"
    }
   ],
   "source": [
    "print(\"Angina\")\n",
    "head(angina)\n",
    "\n",
    "print(\"Cardiomyopathy\")\n",
    "head(cardiomyopathy)\n",
    "\n",
    "print(\"Heart Failure\")\n",
    "head(heart_failure)\n",
    "\n",
    "print(\"Hypertension\")\n",
    "head(hypertension)\n",
    "\n",
    "print(\"IHD\")\n",
    "head(ihd)\n",
    "\n",
    "print(\"MI\")\n",
    "head(mi)\n",
    "\n",
    "print(\"PVD\")\n",
    "head(pvd)\n",
    "\n",
    "print(\"Stroke\")\n",
    "head(stroke)\n",
    "\n",
    "print(\"Valve Disease\")\n",
    "head(valve_disease)"
   ]
  },
  {
   "cell_type": "code",
   "execution_count": 7,
   "id": "f7d0d4cb-ee29-4713-986b-5187694514e9",
   "metadata": {},
   "outputs": [
    {
     "data": {
      "text/html": [
       "13926"
      ],
      "text/latex": [
       "13926"
      ],
      "text/markdown": [
       "13926"
      ],
      "text/plain": [
       "[1] 13926"
      ]
     },
     "metadata": {},
     "output_type": "display_data"
    },
    {
     "data": {
      "text/html": [
       "1342"
      ],
      "text/latex": [
       "1342"
      ],
      "text/markdown": [
       "1342"
      ],
      "text/plain": [
       "[1] 1342"
      ]
     },
     "metadata": {},
     "output_type": "display_data"
    },
    {
     "data": {
      "text/html": [
       "11134"
      ],
      "text/latex": [
       "11134"
      ],
      "text/markdown": [
       "11134"
      ],
      "text/plain": [
       "[1] 11134"
      ]
     },
     "metadata": {},
     "output_type": "display_data"
    },
    {
     "data": {
      "text/html": [
       "22080"
      ],
      "text/latex": [
       "22080"
      ],
      "text/markdown": [
       "22080"
      ],
      "text/plain": [
       "[1] 22080"
      ]
     },
     "metadata": {},
     "output_type": "display_data"
    },
    {
     "data": {
      "text/html": [
       "941"
      ],
      "text/latex": [
       "941"
      ],
      "text/markdown": [
       "941"
      ],
      "text/plain": [
       "[1] 941"
      ]
     },
     "metadata": {},
     "output_type": "display_data"
    },
    {
     "data": {
      "text/html": [
       "4301"
      ],
      "text/latex": [
       "4301"
      ],
      "text/markdown": [
       "4301"
      ],
      "text/plain": [
       "[1] 4301"
      ]
     },
     "metadata": {},
     "output_type": "display_data"
    },
    {
     "data": {
      "text/html": [
       "4949"
      ],
      "text/latex": [
       "4949"
      ],
      "text/markdown": [
       "4949"
      ],
      "text/plain": [
       "[1] 4949"
      ]
     },
     "metadata": {},
     "output_type": "display_data"
    },
    {
     "data": {
      "text/html": [
       "15352"
      ],
      "text/latex": [
       "15352"
      ],
      "text/markdown": [
       "15352"
      ],
      "text/plain": [
       "[1] 15352"
      ]
     },
     "metadata": {},
     "output_type": "display_data"
    },
    {
     "data": {
      "text/html": [
       "8902"
      ],
      "text/latex": [
       "8902"
      ],
      "text/markdown": [
       "8902"
      ],
      "text/plain": [
       "[1] 8902"
      ]
     },
     "metadata": {},
     "output_type": "display_data"
    }
   ],
   "source": [
    "nrow(angina)\n",
    "nrow(cardiomyopathy)\n",
    "nrow(heart_failure)\n",
    "nrow(hypertension)\n",
    "nrow(ihd)\n",
    "nrow(mi)\n",
    "nrow(pvd)\n",
    "nrow(stroke)\n",
    "nrow(valve_disease)"
   ]
  },
  {
   "cell_type": "code",
   "execution_count": 8,
   "id": "1995b1f7-c491-4eb0-8cc1-1ab53cf1004a",
   "metadata": {},
   "outputs": [],
   "source": [
    "# join all tables\n",
    "cvd <- full_join(angina, cardiomyopathy, by = \"person_id\")\n",
    "cvd <- full_join(cvd, heart_failure, by = \"person_id\")\n",
    "cvd <- full_join(cvd, hypertension, by = \"person_id\")\n",
    "cvd <- full_join(cvd, ihd, by = \"person_id\")\n",
    "cvd <- full_join(cvd, mi, by = \"person_id\")\n",
    "cvd <- full_join(cvd, pvd, by = \"person_id\")\n",
    "cvd <- full_join(cvd, stroke, by = \"person_id\")\n",
    "cvd <- full_join(cvd, valve_disease, by = \"person_id\")"
   ]
  },
  {
   "cell_type": "code",
   "execution_count": 9,
   "id": "59d854bf-b353-469e-acf7-f75fef022bbe",
   "metadata": {},
   "outputs": [],
   "source": [
    "# replace NA with 0 in has_* columns\n",
    "cvd <- cvd %>% \n",
    "    mutate_at(c('has_angina','has_cardiomyopathy','has_heart_failure','has_hypertension','has_ihd','has_mi','has_pvd','has_stroke','has_valve_disease'), ~replace_na(.,0))"
   ]
  },
  {
   "cell_type": "code",
   "execution_count": 10,
   "id": "a978824c-10c3-47cc-afa6-40a0a27b8954",
   "metadata": {},
   "outputs": [
    {
     "data": {
      "text/html": [
       "<table class=\"dataframe\">\n",
       "<caption>A tibble: 6 × 21</caption>\n",
       "<thead>\n",
       "\t<tr><th scope=col>person_id</th><th scope=col>date_angina_diagnosis</th><th scope=col>has_angina</th><th scope=col>date_cardiomyopathy_diagnosis</th><th scope=col>has_cardiomyopathy</th><th scope=col>date_heart_failure_diagnosis</th><th scope=col>has_heart_failure</th><th scope=col>date_hypertension_diagnosis</th><th scope=col>has_hypertension</th><th scope=col>date_ihd_diagnosis</th><th scope=col>⋯</th><th scope=col>date_mi_diagnosis</th><th scope=col>has_mi</th><th scope=col>date_pvd_diagnosis</th><th scope=col>has_pvd</th><th scope=col>date_stroke_diagnosis</th><th scope=col>has_stroke</th><th scope=col>date_valve_disease_diagnosis</th><th scope=col>has_valve_disease</th><th scope=col>has_cvd</th><th scope=col>cvd_number</th></tr>\n",
       "\t<tr><th scope=col>&lt;int&gt;</th><th scope=col>&lt;dttm&gt;</th><th scope=col>&lt;dbl&gt;</th><th scope=col>&lt;dttm&gt;</th><th scope=col>&lt;dbl&gt;</th><th scope=col>&lt;dttm&gt;</th><th scope=col>&lt;dbl&gt;</th><th scope=col>&lt;dttm&gt;</th><th scope=col>&lt;dbl&gt;</th><th scope=col>&lt;dttm&gt;</th><th scope=col>⋯</th><th scope=col>&lt;dttm&gt;</th><th scope=col>&lt;dbl&gt;</th><th scope=col>&lt;dttm&gt;</th><th scope=col>&lt;dbl&gt;</th><th scope=col>&lt;dttm&gt;</th><th scope=col>&lt;dbl&gt;</th><th scope=col>&lt;dttm&gt;</th><th scope=col>&lt;dbl&gt;</th><th scope=col>&lt;dbl&gt;</th><th scope=col>&lt;dbl&gt;</th></tr>\n",
       "</thead>\n",
       "<tbody>\n",
       "\t<tr><td>1393</td><td>2002-01-22 00:00:00</td><td>1</td><td>NA</td><td>0</td><td>NA</td><td>0</td><td>NA</td><td>0</td><td>NA</td><td>⋯</td><td>NA</td><td>0</td><td>NA</td><td>0</td><td>NA</td><td>0</td><td>NA</td><td>0</td><td>1</td><td>1</td></tr>\n",
       "\t<tr><td>1836</td><td>2004-11-03 08:55:17</td><td>1</td><td>NA</td><td>0</td><td>NA</td><td>0</td><td>2002-06-14 12:58:01</td><td>1</td><td>NA</td><td>⋯</td><td>NA</td><td>0</td><td>NA</td><td>0</td><td>NA</td><td>0</td><td>NA</td><td>0</td><td>1</td><td>2</td></tr>\n",
       "\t<tr><td>1947</td><td>2006-05-05 00:00:00</td><td>1</td><td>NA</td><td>0</td><td>NA</td><td>0</td><td>NA</td><td>0</td><td>NA</td><td>⋯</td><td>NA</td><td>0</td><td>NA</td><td>0</td><td>NA</td><td>0</td><td>NA</td><td>0</td><td>1</td><td>1</td></tr>\n",
       "\t<tr><td>2718</td><td>2012-05-29 16:46:30</td><td>1</td><td>NA</td><td>0</td><td>NA</td><td>0</td><td>NA</td><td>0</td><td>NA</td><td>⋯</td><td>NA</td><td>0</td><td>NA</td><td>0</td><td>NA</td><td>0</td><td>NA</td><td>0</td><td>1</td><td>1</td></tr>\n",
       "\t<tr><td>5071</td><td>2004-01-05 14:49:00</td><td>1</td><td>NA</td><td>0</td><td>NA</td><td>0</td><td>2002-10-02 09:07:38</td><td>1</td><td>NA</td><td>⋯</td><td>NA</td><td>0</td><td>NA</td><td>0</td><td>NA</td><td>0</td><td>NA</td><td>0</td><td>1</td><td>2</td></tr>\n",
       "\t<tr><td>5571</td><td>2004-06-22 00:00:01</td><td>1</td><td>NA</td><td>0</td><td>NA</td><td>0</td><td>NA</td><td>0</td><td>NA</td><td>⋯</td><td>NA</td><td>0</td><td>NA</td><td>0</td><td>NA</td><td>0</td><td>NA</td><td>0</td><td>1</td><td>1</td></tr>\n",
       "</tbody>\n",
       "</table>\n"
      ],
      "text/latex": [
       "A tibble: 6 × 21\n",
       "\\begin{tabular}{lllllllllllllllllllll}\n",
       " person\\_id & date\\_angina\\_diagnosis & has\\_angina & date\\_cardiomyopathy\\_diagnosis & has\\_cardiomyopathy & date\\_heart\\_failure\\_diagnosis & has\\_heart\\_failure & date\\_hypertension\\_diagnosis & has\\_hypertension & date\\_ihd\\_diagnosis & ⋯ & date\\_mi\\_diagnosis & has\\_mi & date\\_pvd\\_diagnosis & has\\_pvd & date\\_stroke\\_diagnosis & has\\_stroke & date\\_valve\\_disease\\_diagnosis & has\\_valve\\_disease & has\\_cvd & cvd\\_number\\\\\n",
       " <int> & <dttm> & <dbl> & <dttm> & <dbl> & <dttm> & <dbl> & <dttm> & <dbl> & <dttm> & ⋯ & <dttm> & <dbl> & <dttm> & <dbl> & <dttm> & <dbl> & <dttm> & <dbl> & <dbl> & <dbl>\\\\\n",
       "\\hline\n",
       "\t 1393 & 2002-01-22 00:00:00 & 1 & NA & 0 & NA & 0 & NA & 0 & NA & ⋯ & NA & 0 & NA & 0 & NA & 0 & NA & 0 & 1 & 1\\\\\n",
       "\t 1836 & 2004-11-03 08:55:17 & 1 & NA & 0 & NA & 0 & 2002-06-14 12:58:01 & 1 & NA & ⋯ & NA & 0 & NA & 0 & NA & 0 & NA & 0 & 1 & 2\\\\\n",
       "\t 1947 & 2006-05-05 00:00:00 & 1 & NA & 0 & NA & 0 & NA & 0 & NA & ⋯ & NA & 0 & NA & 0 & NA & 0 & NA & 0 & 1 & 1\\\\\n",
       "\t 2718 & 2012-05-29 16:46:30 & 1 & NA & 0 & NA & 0 & NA & 0 & NA & ⋯ & NA & 0 & NA & 0 & NA & 0 & NA & 0 & 1 & 1\\\\\n",
       "\t 5071 & 2004-01-05 14:49:00 & 1 & NA & 0 & NA & 0 & 2002-10-02 09:07:38 & 1 & NA & ⋯ & NA & 0 & NA & 0 & NA & 0 & NA & 0 & 1 & 2\\\\\n",
       "\t 5571 & 2004-06-22 00:00:01 & 1 & NA & 0 & NA & 0 & NA & 0 & NA & ⋯ & NA & 0 & NA & 0 & NA & 0 & NA & 0 & 1 & 1\\\\\n",
       "\\end{tabular}\n"
      ],
      "text/markdown": [
       "\n",
       "A tibble: 6 × 21\n",
       "\n",
       "| person_id &lt;int&gt; | date_angina_diagnosis &lt;dttm&gt; | has_angina &lt;dbl&gt; | date_cardiomyopathy_diagnosis &lt;dttm&gt; | has_cardiomyopathy &lt;dbl&gt; | date_heart_failure_diagnosis &lt;dttm&gt; | has_heart_failure &lt;dbl&gt; | date_hypertension_diagnosis &lt;dttm&gt; | has_hypertension &lt;dbl&gt; | date_ihd_diagnosis &lt;dttm&gt; | ⋯ ⋯ | date_mi_diagnosis &lt;dttm&gt; | has_mi &lt;dbl&gt; | date_pvd_diagnosis &lt;dttm&gt; | has_pvd &lt;dbl&gt; | date_stroke_diagnosis &lt;dttm&gt; | has_stroke &lt;dbl&gt; | date_valve_disease_diagnosis &lt;dttm&gt; | has_valve_disease &lt;dbl&gt; | has_cvd &lt;dbl&gt; | cvd_number &lt;dbl&gt; |\n",
       "|---|---|---|---|---|---|---|---|---|---|---|---|---|---|---|---|---|---|---|---|---|\n",
       "| 1393 | 2002-01-22 00:00:00 | 1 | NA | 0 | NA | 0 | NA | 0 | NA | ⋯ | NA | 0 | NA | 0 | NA | 0 | NA | 0 | 1 | 1 |\n",
       "| 1836 | 2004-11-03 08:55:17 | 1 | NA | 0 | NA | 0 | 2002-06-14 12:58:01 | 1 | NA | ⋯ | NA | 0 | NA | 0 | NA | 0 | NA | 0 | 1 | 2 |\n",
       "| 1947 | 2006-05-05 00:00:00 | 1 | NA | 0 | NA | 0 | NA | 0 | NA | ⋯ | NA | 0 | NA | 0 | NA | 0 | NA | 0 | 1 | 1 |\n",
       "| 2718 | 2012-05-29 16:46:30 | 1 | NA | 0 | NA | 0 | NA | 0 | NA | ⋯ | NA | 0 | NA | 0 | NA | 0 | NA | 0 | 1 | 1 |\n",
       "| 5071 | 2004-01-05 14:49:00 | 1 | NA | 0 | NA | 0 | 2002-10-02 09:07:38 | 1 | NA | ⋯ | NA | 0 | NA | 0 | NA | 0 | NA | 0 | 1 | 2 |\n",
       "| 5571 | 2004-06-22 00:00:01 | 1 | NA | 0 | NA | 0 | NA | 0 | NA | ⋯ | NA | 0 | NA | 0 | NA | 0 | NA | 0 | 1 | 1 |\n",
       "\n"
      ],
      "text/plain": [
       "  person_id date_angina_diagnosis has_angina date_cardiomyopathy_diagnosis\n",
       "1 1393      2002-01-22 00:00:00   1          <NA>                         \n",
       "2 1836      2004-11-03 08:55:17   1          <NA>                         \n",
       "3 1947      2006-05-05 00:00:00   1          <NA>                         \n",
       "4 2718      2012-05-29 16:46:30   1          <NA>                         \n",
       "5 5071      2004-01-05 14:49:00   1          <NA>                         \n",
       "6 5571      2004-06-22 00:00:01   1          <NA>                         \n",
       "  has_cardiomyopathy date_heart_failure_diagnosis has_heart_failure\n",
       "1 0                  <NA>                         0                \n",
       "2 0                  <NA>                         0                \n",
       "3 0                  <NA>                         0                \n",
       "4 0                  <NA>                         0                \n",
       "5 0                  <NA>                         0                \n",
       "6 0                  <NA>                         0                \n",
       "  date_hypertension_diagnosis has_hypertension date_ihd_diagnosis ⋯\n",
       "1 <NA>                        0                <NA>               ⋯\n",
       "2 2002-06-14 12:58:01         1                <NA>               ⋯\n",
       "3 <NA>                        0                <NA>               ⋯\n",
       "4 <NA>                        0                <NA>               ⋯\n",
       "5 2002-10-02 09:07:38         1                <NA>               ⋯\n",
       "6 <NA>                        0                <NA>               ⋯\n",
       "  date_mi_diagnosis has_mi date_pvd_diagnosis has_pvd date_stroke_diagnosis\n",
       "1 <NA>              0      <NA>               0       <NA>                 \n",
       "2 <NA>              0      <NA>               0       <NA>                 \n",
       "3 <NA>              0      <NA>               0       <NA>                 \n",
       "4 <NA>              0      <NA>               0       <NA>                 \n",
       "5 <NA>              0      <NA>               0       <NA>                 \n",
       "6 <NA>              0      <NA>               0       <NA>                 \n",
       "  has_stroke date_valve_disease_diagnosis has_valve_disease has_cvd cvd_number\n",
       "1 0          <NA>                         0                 1       1         \n",
       "2 0          <NA>                         0                 1       2         \n",
       "3 0          <NA>                         0                 1       1         \n",
       "4 0          <NA>                         0                 1       1         \n",
       "5 0          <NA>                         0                 1       2         \n",
       "6 0          <NA>                         0                 1       1         "
      ]
     },
     "metadata": {},
     "output_type": "display_data"
    },
    {
     "data": {
      "text/plain": [
       "\n",
       "    1     2     3     4     5     6     7 \n",
       "51563 10930  2449   463    50     8     1 "
      ]
     },
     "metadata": {},
     "output_type": "display_data"
    }
   ],
   "source": [
    "# sum number of cvds, add indicator for cvd\n",
    "cvd <- cvd %>%\n",
    "    mutate(has_cvd = ifelse(has_angina == 1 | has_cardiomyopathy == 1 | has_heart_failure == 1 | has_hypertension == 1 | has_ihd == 1 | has_mi == 1 | has_pvd == 1 | has_stroke == 1 | has_valve_disease == 1,1,0)) %>%\n",
    "    mutate(cvd_number = rowSums(select(.,\"has_angina\", \"has_cardiomyopathy\", \"has_heart_failure\", \"has_hypertension\", \"has_ihd\", \"has_mi\", \"has_pvd\", \"has_stroke\", \"has_valve_disease\")))\n",
    "head(cvd)\n",
    "table(cvd$cvd_number)"
   ]
  },
  {
   "cell_type": "code",
   "execution_count": 11,
   "id": "76fefa0e-537e-4df8-ba94-f4a8eb9365f8",
   "metadata": {},
   "outputs": [],
   "source": [
    "# change date variable field class to date to be able to save dataset\n",
    "cvd$date_angina_diagnosis <- as.Date(cvd$date_angina_diagnosis)\n",
    "cvd$date_cardiomyopathy_diagnosis <- as.Date(cvd$date_cardiomyopathy_diagnosis)\n",
    "cvd$date_valve_disease_diagnosis <- as.Date(cvd$date_valve_disease_diagnosis)\n",
    "cvd$date_heart_failure_diagnosis <- as.Date(cvd$date_heart_failure_diagnosis)\n",
    "cvd$date_hypertension_diagnosis <- as.Date(cvd$date_hypertension_diagnosis)\n",
    "cvd$date_ihd_diagnosis <- as.Date(cvd$date_ihd_diagnosis)\n",
    "cvd$date_mi_diagnosis <- as.Date(cvd$date_mi_diagnosis)\n",
    "cvd$date_pvd_diagnosis <- as.Date(cvd$date_pvd_diagnosis)\n",
    "cvd$date_stroke_diagnosis <- as.Date(cvd$date_stroke_diagnosis)"
   ]
  },
  {
   "cell_type": "code",
   "execution_count": 12,
   "id": "d62a25ed-4926-4045-a4c8-29a6fc56e52a",
   "metadata": {},
   "outputs": [
    {
     "data": {
      "text/html": [
       "<table class=\"dataframe\">\n",
       "<caption>A tibble: 6 × 6</caption>\n",
       "<thead>\n",
       "\t<tr><th scope=col>person_id</th><th scope=col>birth_datetime</th><th scope=col>death_datetime</th><th scope=col>gender</th><th scope=col>ethnicity</th><th scope=col>imd_decile</th></tr>\n",
       "\t<tr><th scope=col>&lt;int&gt;</th><th scope=col>&lt;date&gt;</th><th scope=col>&lt;date&gt;</th><th scope=col>&lt;int&gt;</th><th scope=col>&lt;int&gt;</th><th scope=col>&lt;int&gt;</th></tr>\n",
       "</thead>\n",
       "<tbody>\n",
       "\t<tr><td>16813063</td><td>NA</td><td>NA</td><td>2</td><td>2</td><td>1</td></tr>\n",
       "\t<tr><td>16832562</td><td>NA</td><td>NA</td><td>1</td><td>3</td><td>1</td></tr>\n",
       "\t<tr><td>16769967</td><td>NA</td><td>NA</td><td>1</td><td>1</td><td>1</td></tr>\n",
       "\t<tr><td>16832450</td><td>NA</td><td>NA</td><td>1</td><td>2</td><td>1</td></tr>\n",
       "\t<tr><td>16814272</td><td>NA</td><td>NA</td><td>1</td><td>2</td><td>1</td></tr>\n",
       "\t<tr><td>13715865</td><td>NA</td><td>NA</td><td>1</td><td>2</td><td>1</td></tr>\n",
       "</tbody>\n",
       "</table>\n"
      ],
      "text/latex": [
       "A tibble: 6 × 6\n",
       "\\begin{tabular}{llllll}\n",
       " person\\_id & birth\\_datetime & death\\_datetime & gender & ethnicity & imd\\_decile\\\\\n",
       " <int> & <date> & <date> & <int> & <int> & <int>\\\\\n",
       "\\hline\n",
       "\t 16813063 & NA & NA & 2 & 2 & 1\\\\\n",
       "\t 16832562 & NA & NA & 1 & 3 & 1\\\\\n",
       "\t 16769967 & NA & NA & 1 & 1 & 1\\\\\n",
       "\t 16832450 & NA & NA & 1 & 2 & 1\\\\\n",
       "\t 16814272 & NA & NA & 1 & 2 & 1\\\\\n",
       "\t 13715865 & NA & NA & 1 & 2 & 1\\\\\n",
       "\\end{tabular}\n"
      ],
      "text/markdown": [
       "\n",
       "A tibble: 6 × 6\n",
       "\n",
       "| person_id &lt;int&gt; | birth_datetime &lt;date&gt; | death_datetime &lt;date&gt; | gender &lt;int&gt; | ethnicity &lt;int&gt; | imd_decile &lt;int&gt; |\n",
       "|---|---|---|---|---|---|\n",
       "| 16813063 | NA | NA | 2 | 2 | 1 |\n",
       "| 16832562 | NA | NA | 1 | 3 | 1 |\n",
       "| 16769967 | NA | NA | 1 | 1 | 1 |\n",
       "| 16832450 | NA | NA | 1 | 2 | 1 |\n",
       "| 16814272 | NA | NA | 1 | 2 | 1 |\n",
       "| 13715865 | NA | NA | 1 | 2 | 1 |\n",
       "\n"
      ],
      "text/plain": [
       "  person_id birth_datetime death_datetime gender ethnicity imd_decile\n",
       "1 16813063  <NA>           <NA>           2      2         1         \n",
       "2 16832562  <NA>           <NA>           1      3         1         \n",
       "3 16769967  <NA>           <NA>           1      1         1         \n",
       "4 16832450  <NA>           <NA>           1      2         1         \n",
       "5 16814272  <NA>           <NA>           1      2         1         \n",
       "6 13715865  <NA>           <NA>           1      2         1         "
      ]
     },
     "metadata": {},
     "output_type": "display_data"
    }
   ],
   "source": [
    "# add date of birth, gender, ethnicity and imd decile \n",
    "# person table\n",
    "sql <- \"SELECT * FROM `yhcr-prd-phm-bia-core.CB_MYSPACE_AH.Patient_Denom`\"\n",
    "tb <- bq_project_query(projectid, sql)\n",
    "person <-bq_table_download(tb)\n",
    "head(person)"
   ]
  },
  {
   "cell_type": "code",
   "execution_count": 14,
   "id": "ef58ecd4-6da1-4fc5-8010-105171472fab",
   "metadata": {},
   "outputs": [
    {
     "data": {
      "text/html": [
       "65464"
      ],
      "text/latex": [
       "65464"
      ],
      "text/markdown": [
       "65464"
      ],
      "text/plain": [
       "[1] 65464"
      ]
     },
     "metadata": {},
     "output_type": "display_data"
    }
   ],
   "source": [
    "nrow(cvd)"
   ]
  },
  {
   "cell_type": "code",
   "execution_count": 15,
   "id": "4f79754f-bbe5-4dca-a0be-c20cb354752b",
   "metadata": {},
   "outputs": [
    {
     "name": "stderr",
     "output_type": "stream",
     "text": [
      "\u001b[1m\u001b[22mJoining with `by = join_by(person_id)`\n"
     ]
    },
    {
     "data": {
      "text/html": [
       "<table class=\"dataframe\">\n",
       "<caption>A tibble: 6 × 26</caption>\n",
       "<thead>\n",
       "\t<tr><th scope=col>person_id</th><th scope=col>birth_datetime</th><th scope=col>death_datetime</th><th scope=col>gender</th><th scope=col>ethnicity</th><th scope=col>imd_decile</th><th scope=col>date_angina_diagnosis</th><th scope=col>has_angina</th><th scope=col>date_cardiomyopathy_diagnosis</th><th scope=col>has_cardiomyopathy</th><th scope=col>⋯</th><th scope=col>date_mi_diagnosis</th><th scope=col>has_mi</th><th scope=col>date_pvd_diagnosis</th><th scope=col>has_pvd</th><th scope=col>date_stroke_diagnosis</th><th scope=col>has_stroke</th><th scope=col>date_valve_disease_diagnosis</th><th scope=col>has_valve_disease</th><th scope=col>has_cvd</th><th scope=col>cvd_number</th></tr>\n",
       "\t<tr><th scope=col>&lt;int&gt;</th><th scope=col>&lt;date&gt;</th><th scope=col>&lt;date&gt;</th><th scope=col>&lt;int&gt;</th><th scope=col>&lt;int&gt;</th><th scope=col>&lt;int&gt;</th><th scope=col>&lt;date&gt;</th><th scope=col>&lt;dbl&gt;</th><th scope=col>&lt;date&gt;</th><th scope=col>&lt;dbl&gt;</th><th scope=col>⋯</th><th scope=col>&lt;date&gt;</th><th scope=col>&lt;dbl&gt;</th><th scope=col>&lt;date&gt;</th><th scope=col>&lt;dbl&gt;</th><th scope=col>&lt;date&gt;</th><th scope=col>&lt;dbl&gt;</th><th scope=col>&lt;date&gt;</th><th scope=col>&lt;dbl&gt;</th><th scope=col>&lt;dbl&gt;</th><th scope=col>&lt;dbl&gt;</th></tr>\n",
       "</thead>\n",
       "<tbody>\n",
       "\t<tr><td>13415106</td><td>1931-06-15</td><td>2018-05-15</td><td>1</td><td>1</td><td>1</td><td>2003-08-28</td><td>1</td><td>NA</td><td>0</td><td>⋯</td><td>2005-12-19</td><td>1</td><td>NA</td><td>0</td><td>NA</td><td>0</td><td>NA</td><td>0</td><td>1</td><td>3</td></tr>\n",
       "\t<tr><td>12736614</td><td>1931-06-15</td><td>2012-11-15</td><td>1</td><td>1</td><td>1</td><td>NA</td><td>0</td><td>NA</td><td>0</td><td>⋯</td><td>NA</td><td>0</td><td>NA</td><td>0</td><td>NA</td><td>0</td><td>NA</td><td>0</td><td>1</td><td>1</td></tr>\n",
       "\t<tr><td>12570853</td><td>1931-06-15</td><td>2012-02-15</td><td>1</td><td>1</td><td>1</td><td>NA</td><td>0</td><td>NA</td><td>0</td><td>⋯</td><td>2003-01-01</td><td>1</td><td>2003-09-01</td><td>1</td><td>NA</td><td>0</td><td>NA</td><td>0</td><td>1</td><td>2</td></tr>\n",
       "\t<tr><td>13432538</td><td>1931-06-15</td><td>NA</td><td>1</td><td>1</td><td>1</td><td>NA</td><td>0</td><td>NA</td><td>0</td><td>⋯</td><td>NA</td><td>0</td><td>NA</td><td>0</td><td>2008-02-22</td><td>1</td><td>NA</td><td>0</td><td>1</td><td>1</td></tr>\n",
       "\t<tr><td>13697954</td><td>1931-06-15</td><td>2018-03-15</td><td>2</td><td>1</td><td>1</td><td>NA</td><td>0</td><td>NA</td><td>0</td><td>⋯</td><td>NA</td><td>0</td><td>2017-08-04</td><td>1</td><td>2008-08-15</td><td>1</td><td>NA</td><td>0</td><td>1</td><td>2</td></tr>\n",
       "\t<tr><td>12663073</td><td>1931-06-15</td><td>2014-12-15</td><td>2</td><td>2</td><td>1</td><td>NA</td><td>0</td><td>NA</td><td>0</td><td>⋯</td><td>NA</td><td>0</td><td>NA</td><td>0</td><td>NA</td><td>0</td><td>NA</td><td>0</td><td>1</td><td>1</td></tr>\n",
       "</tbody>\n",
       "</table>\n"
      ],
      "text/latex": [
       "A tibble: 6 × 26\n",
       "\\begin{tabular}{lllllllllllllllllllll}\n",
       " person\\_id & birth\\_datetime & death\\_datetime & gender & ethnicity & imd\\_decile & date\\_angina\\_diagnosis & has\\_angina & date\\_cardiomyopathy\\_diagnosis & has\\_cardiomyopathy & ⋯ & date\\_mi\\_diagnosis & has\\_mi & date\\_pvd\\_diagnosis & has\\_pvd & date\\_stroke\\_diagnosis & has\\_stroke & date\\_valve\\_disease\\_diagnosis & has\\_valve\\_disease & has\\_cvd & cvd\\_number\\\\\n",
       " <int> & <date> & <date> & <int> & <int> & <int> & <date> & <dbl> & <date> & <dbl> & ⋯ & <date> & <dbl> & <date> & <dbl> & <date> & <dbl> & <date> & <dbl> & <dbl> & <dbl>\\\\\n",
       "\\hline\n",
       "\t 13415106 & 1931-06-15 & 2018-05-15 & 1 & 1 & 1 & 2003-08-28 & 1 & NA & 0 & ⋯ & 2005-12-19 & 1 & NA & 0 & NA & 0 & NA & 0 & 1 & 3\\\\\n",
       "\t 12736614 & 1931-06-15 & 2012-11-15 & 1 & 1 & 1 & NA & 0 & NA & 0 & ⋯ & NA & 0 & NA & 0 & NA & 0 & NA & 0 & 1 & 1\\\\\n",
       "\t 12570853 & 1931-06-15 & 2012-02-15 & 1 & 1 & 1 & NA & 0 & NA & 0 & ⋯ & 2003-01-01 & 1 & 2003-09-01 & 1 & NA & 0 & NA & 0 & 1 & 2\\\\\n",
       "\t 13432538 & 1931-06-15 & NA & 1 & 1 & 1 & NA & 0 & NA & 0 & ⋯ & NA & 0 & NA & 0 & 2008-02-22 & 1 & NA & 0 & 1 & 1\\\\\n",
       "\t 13697954 & 1931-06-15 & 2018-03-15 & 2 & 1 & 1 & NA & 0 & NA & 0 & ⋯ & NA & 0 & 2017-08-04 & 1 & 2008-08-15 & 1 & NA & 0 & 1 & 2\\\\\n",
       "\t 12663073 & 1931-06-15 & 2014-12-15 & 2 & 2 & 1 & NA & 0 & NA & 0 & ⋯ & NA & 0 & NA & 0 & NA & 0 & NA & 0 & 1 & 1\\\\\n",
       "\\end{tabular}\n"
      ],
      "text/markdown": [
       "\n",
       "A tibble: 6 × 26\n",
       "\n",
       "| person_id &lt;int&gt; | birth_datetime &lt;date&gt; | death_datetime &lt;date&gt; | gender &lt;int&gt; | ethnicity &lt;int&gt; | imd_decile &lt;int&gt; | date_angina_diagnosis &lt;date&gt; | has_angina &lt;dbl&gt; | date_cardiomyopathy_diagnosis &lt;date&gt; | has_cardiomyopathy &lt;dbl&gt; | ⋯ ⋯ | date_mi_diagnosis &lt;date&gt; | has_mi &lt;dbl&gt; | date_pvd_diagnosis &lt;date&gt; | has_pvd &lt;dbl&gt; | date_stroke_diagnosis &lt;date&gt; | has_stroke &lt;dbl&gt; | date_valve_disease_diagnosis &lt;date&gt; | has_valve_disease &lt;dbl&gt; | has_cvd &lt;dbl&gt; | cvd_number &lt;dbl&gt; |\n",
       "|---|---|---|---|---|---|---|---|---|---|---|---|---|---|---|---|---|---|---|---|---|\n",
       "| 13415106 | 1931-06-15 | 2018-05-15 | 1 | 1 | 1 | 2003-08-28 | 1 | NA | 0 | ⋯ | 2005-12-19 | 1 | NA | 0 | NA | 0 | NA | 0 | 1 | 3 |\n",
       "| 12736614 | 1931-06-15 | 2012-11-15 | 1 | 1 | 1 | NA | 0 | NA | 0 | ⋯ | NA | 0 | NA | 0 | NA | 0 | NA | 0 | 1 | 1 |\n",
       "| 12570853 | 1931-06-15 | 2012-02-15 | 1 | 1 | 1 | NA | 0 | NA | 0 | ⋯ | 2003-01-01 | 1 | 2003-09-01 | 1 | NA | 0 | NA | 0 | 1 | 2 |\n",
       "| 13432538 | 1931-06-15 | NA | 1 | 1 | 1 | NA | 0 | NA | 0 | ⋯ | NA | 0 | NA | 0 | 2008-02-22 | 1 | NA | 0 | 1 | 1 |\n",
       "| 13697954 | 1931-06-15 | 2018-03-15 | 2 | 1 | 1 | NA | 0 | NA | 0 | ⋯ | NA | 0 | 2017-08-04 | 1 | 2008-08-15 | 1 | NA | 0 | 1 | 2 |\n",
       "| 12663073 | 1931-06-15 | 2014-12-15 | 2 | 2 | 1 | NA | 0 | NA | 0 | ⋯ | NA | 0 | NA | 0 | NA | 0 | NA | 0 | 1 | 1 |\n",
       "\n"
      ],
      "text/plain": [
       "  person_id birth_datetime death_datetime gender ethnicity imd_decile\n",
       "1 13415106  1931-06-15     2018-05-15     1      1         1         \n",
       "2 12736614  1931-06-15     2012-11-15     1      1         1         \n",
       "3 12570853  1931-06-15     2012-02-15     1      1         1         \n",
       "4 13432538  1931-06-15     <NA>           1      1         1         \n",
       "5 13697954  1931-06-15     2018-03-15     2      1         1         \n",
       "6 12663073  1931-06-15     2014-12-15     2      2         1         \n",
       "  date_angina_diagnosis has_angina date_cardiomyopathy_diagnosis\n",
       "1 2003-08-28            1          <NA>                         \n",
       "2 <NA>                  0          <NA>                         \n",
       "3 <NA>                  0          <NA>                         \n",
       "4 <NA>                  0          <NA>                         \n",
       "5 <NA>                  0          <NA>                         \n",
       "6 <NA>                  0          <NA>                         \n",
       "  has_cardiomyopathy ⋯ date_mi_diagnosis has_mi date_pvd_diagnosis has_pvd\n",
       "1 0                  ⋯ 2005-12-19        1      <NA>               0      \n",
       "2 0                  ⋯ <NA>              0      <NA>               0      \n",
       "3 0                  ⋯ 2003-01-01        1      2003-09-01         1      \n",
       "4 0                  ⋯ <NA>              0      <NA>               0      \n",
       "5 0                  ⋯ <NA>              0      2017-08-04         1      \n",
       "6 0                  ⋯ <NA>              0      <NA>               0      \n",
       "  date_stroke_diagnosis has_stroke date_valve_disease_diagnosis\n",
       "1 <NA>                  0          <NA>                        \n",
       "2 <NA>                  0          <NA>                        \n",
       "3 <NA>                  0          <NA>                        \n",
       "4 2008-02-22            1          <NA>                        \n",
       "5 2008-08-15            1          <NA>                        \n",
       "6 <NA>                  0          <NA>                        \n",
       "  has_valve_disease has_cvd cvd_number\n",
       "1 0                 1       3         \n",
       "2 0                 1       1         \n",
       "3 0                 1       2         \n",
       "4 0                 1       1         \n",
       "5 0                 1       2         \n",
       "6 0                 1       1         "
      ]
     },
     "metadata": {},
     "output_type": "display_data"
    }
   ],
   "source": [
    "# join person table to cvd table\n",
    "cvd_pc <- person %>%\n",
    "    right_join(cvd)\n",
    "\n",
    "head(cvd_pc)"
   ]
  },
  {
   "cell_type": "code",
   "execution_count": 16,
   "id": "34c6315d-b2e2-4b65-90a2-e7ee0c17e37f",
   "metadata": {},
   "outputs": [],
   "source": [
    "# Derive age at date of diagnosis for each cvd\n",
    "cvd_pc <- cvd_pc %>%\n",
    "    mutate(age_angina_diag = interval(birth_datetime, date_angina_diagnosis)/years(1)) %>%\n",
    "    mutate(age_angina_diag = floor(age_angina_diag)) %>%\n",
    "    mutate(age_cardiomyopathy_diag = interval(birth_datetime, date_cardiomyopathy_diagnosis)/years(1)) %>%\n",
    "    mutate(age_cardiomyopathy_diag = floor(age_cardiomyopathy_diag)) %>%\n",
    "    mutate(age_heart_failure_diag = interval(birth_datetime, date_heart_failure_diagnosis)/years(1)) %>%\n",
    "    mutate(age_heart_failure_diag = floor(age_heart_failure_diag)) %>%\n",
    "    mutate(age_hypertension_diag = interval(birth_datetime, date_hypertension_diagnosis)/years(1)) %>%\n",
    "    mutate(age_hypertension_diag = floor(age_hypertension_diag)) %>%\n",
    "    mutate(age_ihd_diag = interval(birth_datetime, date_ihd_diagnosis)/years(1)) %>%\n",
    "    mutate(age_ihd_diag = floor(age_ihd_diag)) %>%\n",
    "    mutate(age_mi_diag = interval(birth_datetime, date_mi_diagnosis)/years(1)) %>%\n",
    "    mutate(age_mi_diag = floor(age_mi_diag)) %>%\n",
    "    mutate(age_pvd_diag = interval(birth_datetime, date_pvd_diagnosis)/years(1)) %>%\n",
    "    mutate(age_pvd_diag = floor(age_pvd_diag)) %>%\n",
    "    mutate(age_stroke_diag = interval(birth_datetime, date_stroke_diagnosis)/years(1)) %>%\n",
    "    mutate(age_stroke_diag = floor(age_stroke_diag)) %>%\n",
    "    mutate(age_valve_disease_diag = interval(birth_datetime, date_valve_disease_diagnosis)/years(1)) %>%\n",
    "    mutate(age_valve_disease_diag = floor(age_valve_disease_diag))\n"
   ]
  },
  {
   "cell_type": "code",
   "execution_count": 17,
   "id": "68fc1fd1-0ed1-4c3c-af95-1694b951ad02",
   "metadata": {},
   "outputs": [
    {
     "data": {
      "text/html": [
       "<table class=\"dataframe\">\n",
       "<caption>A tibble: 6 × 35</caption>\n",
       "<thead>\n",
       "\t<tr><th scope=col>person_id</th><th scope=col>birth_datetime</th><th scope=col>death_datetime</th><th scope=col>gender</th><th scope=col>ethnicity</th><th scope=col>imd_decile</th><th scope=col>date_angina_diagnosis</th><th scope=col>has_angina</th><th scope=col>date_cardiomyopathy_diagnosis</th><th scope=col>has_cardiomyopathy</th><th scope=col>⋯</th><th scope=col>cvd_number</th><th scope=col>age_angina_diag</th><th scope=col>age_cardiomyopathy_diag</th><th scope=col>age_heart_failure_diag</th><th scope=col>age_hypertension_diag</th><th scope=col>age_ihd_diag</th><th scope=col>age_mi_diag</th><th scope=col>age_pvd_diag</th><th scope=col>age_stroke_diag</th><th scope=col>age_valve_disease_diag</th></tr>\n",
       "\t<tr><th scope=col>&lt;int&gt;</th><th scope=col>&lt;date&gt;</th><th scope=col>&lt;date&gt;</th><th scope=col>&lt;int&gt;</th><th scope=col>&lt;int&gt;</th><th scope=col>&lt;int&gt;</th><th scope=col>&lt;date&gt;</th><th scope=col>&lt;dbl&gt;</th><th scope=col>&lt;date&gt;</th><th scope=col>&lt;dbl&gt;</th><th scope=col>⋯</th><th scope=col>&lt;dbl&gt;</th><th scope=col>&lt;dbl&gt;</th><th scope=col>&lt;dbl&gt;</th><th scope=col>&lt;dbl&gt;</th><th scope=col>&lt;dbl&gt;</th><th scope=col>&lt;dbl&gt;</th><th scope=col>&lt;dbl&gt;</th><th scope=col>&lt;dbl&gt;</th><th scope=col>&lt;dbl&gt;</th><th scope=col>&lt;dbl&gt;</th></tr>\n",
       "</thead>\n",
       "<tbody>\n",
       "\t<tr><td>13415106</td><td>1931-06-15</td><td>2018-05-15</td><td>1</td><td>1</td><td>1</td><td>2003-08-28</td><td>1</td><td>NA</td><td>0</td><td>⋯</td><td>3</td><td>72</td><td>NA</td><td>NA</td><td>72</td><td>NA</td><td>74</td><td>NA</td><td>NA</td><td>NA</td></tr>\n",
       "\t<tr><td>12736614</td><td>1931-06-15</td><td>2012-11-15</td><td>1</td><td>1</td><td>1</td><td>NA</td><td>0</td><td>NA</td><td>0</td><td>⋯</td><td>1</td><td>NA</td><td>NA</td><td>78</td><td>NA</td><td>NA</td><td>NA</td><td>NA</td><td>NA</td><td>NA</td></tr>\n",
       "\t<tr><td>12570853</td><td>1931-06-15</td><td>2012-02-15</td><td>1</td><td>1</td><td>1</td><td>NA</td><td>0</td><td>NA</td><td>0</td><td>⋯</td><td>2</td><td>NA</td><td>NA</td><td>NA</td><td>NA</td><td>NA</td><td>71</td><td>72</td><td>NA</td><td>NA</td></tr>\n",
       "\t<tr><td>13432538</td><td>1931-06-15</td><td>NA</td><td>1</td><td>1</td><td>1</td><td>NA</td><td>0</td><td>NA</td><td>0</td><td>⋯</td><td>1</td><td>NA</td><td>NA</td><td>NA</td><td>NA</td><td>NA</td><td>NA</td><td>NA</td><td>76</td><td>NA</td></tr>\n",
       "\t<tr><td>13697954</td><td>1931-06-15</td><td>2018-03-15</td><td>2</td><td>1</td><td>1</td><td>NA</td><td>0</td><td>NA</td><td>0</td><td>⋯</td><td>2</td><td>NA</td><td>NA</td><td>NA</td><td>NA</td><td>NA</td><td>NA</td><td>86</td><td>77</td><td>NA</td></tr>\n",
       "\t<tr><td>12663073</td><td>1931-06-15</td><td>2014-12-15</td><td>2</td><td>2</td><td>1</td><td>NA</td><td>0</td><td>NA</td><td>0</td><td>⋯</td><td>1</td><td>NA</td><td>NA</td><td>NA</td><td>73</td><td>NA</td><td>NA</td><td>NA</td><td>NA</td><td>NA</td></tr>\n",
       "</tbody>\n",
       "</table>\n"
      ],
      "text/latex": [
       "A tibble: 6 × 35\n",
       "\\begin{tabular}{lllllllllllllllllllll}\n",
       " person\\_id & birth\\_datetime & death\\_datetime & gender & ethnicity & imd\\_decile & date\\_angina\\_diagnosis & has\\_angina & date\\_cardiomyopathy\\_diagnosis & has\\_cardiomyopathy & ⋯ & cvd\\_number & age\\_angina\\_diag & age\\_cardiomyopathy\\_diag & age\\_heart\\_failure\\_diag & age\\_hypertension\\_diag & age\\_ihd\\_diag & age\\_mi\\_diag & age\\_pvd\\_diag & age\\_stroke\\_diag & age\\_valve\\_disease\\_diag\\\\\n",
       " <int> & <date> & <date> & <int> & <int> & <int> & <date> & <dbl> & <date> & <dbl> & ⋯ & <dbl> & <dbl> & <dbl> & <dbl> & <dbl> & <dbl> & <dbl> & <dbl> & <dbl> & <dbl>\\\\\n",
       "\\hline\n",
       "\t 13415106 & 1931-06-15 & 2018-05-15 & 1 & 1 & 1 & 2003-08-28 & 1 & NA & 0 & ⋯ & 3 & 72 & NA & NA & 72 & NA & 74 & NA & NA & NA\\\\\n",
       "\t 12736614 & 1931-06-15 & 2012-11-15 & 1 & 1 & 1 & NA & 0 & NA & 0 & ⋯ & 1 & NA & NA & 78 & NA & NA & NA & NA & NA & NA\\\\\n",
       "\t 12570853 & 1931-06-15 & 2012-02-15 & 1 & 1 & 1 & NA & 0 & NA & 0 & ⋯ & 2 & NA & NA & NA & NA & NA & 71 & 72 & NA & NA\\\\\n",
       "\t 13432538 & 1931-06-15 & NA & 1 & 1 & 1 & NA & 0 & NA & 0 & ⋯ & 1 & NA & NA & NA & NA & NA & NA & NA & 76 & NA\\\\\n",
       "\t 13697954 & 1931-06-15 & 2018-03-15 & 2 & 1 & 1 & NA & 0 & NA & 0 & ⋯ & 2 & NA & NA & NA & NA & NA & NA & 86 & 77 & NA\\\\\n",
       "\t 12663073 & 1931-06-15 & 2014-12-15 & 2 & 2 & 1 & NA & 0 & NA & 0 & ⋯ & 1 & NA & NA & NA & 73 & NA & NA & NA & NA & NA\\\\\n",
       "\\end{tabular}\n"
      ],
      "text/markdown": [
       "\n",
       "A tibble: 6 × 35\n",
       "\n",
       "| person_id &lt;int&gt; | birth_datetime &lt;date&gt; | death_datetime &lt;date&gt; | gender &lt;int&gt; | ethnicity &lt;int&gt; | imd_decile &lt;int&gt; | date_angina_diagnosis &lt;date&gt; | has_angina &lt;dbl&gt; | date_cardiomyopathy_diagnosis &lt;date&gt; | has_cardiomyopathy &lt;dbl&gt; | ⋯ ⋯ | cvd_number &lt;dbl&gt; | age_angina_diag &lt;dbl&gt; | age_cardiomyopathy_diag &lt;dbl&gt; | age_heart_failure_diag &lt;dbl&gt; | age_hypertension_diag &lt;dbl&gt; | age_ihd_diag &lt;dbl&gt; | age_mi_diag &lt;dbl&gt; | age_pvd_diag &lt;dbl&gt; | age_stroke_diag &lt;dbl&gt; | age_valve_disease_diag &lt;dbl&gt; |\n",
       "|---|---|---|---|---|---|---|---|---|---|---|---|---|---|---|---|---|---|---|---|---|\n",
       "| 13415106 | 1931-06-15 | 2018-05-15 | 1 | 1 | 1 | 2003-08-28 | 1 | NA | 0 | ⋯ | 3 | 72 | NA | NA | 72 | NA | 74 | NA | NA | NA |\n",
       "| 12736614 | 1931-06-15 | 2012-11-15 | 1 | 1 | 1 | NA | 0 | NA | 0 | ⋯ | 1 | NA | NA | 78 | NA | NA | NA | NA | NA | NA |\n",
       "| 12570853 | 1931-06-15 | 2012-02-15 | 1 | 1 | 1 | NA | 0 | NA | 0 | ⋯ | 2 | NA | NA | NA | NA | NA | 71 | 72 | NA | NA |\n",
       "| 13432538 | 1931-06-15 | NA | 1 | 1 | 1 | NA | 0 | NA | 0 | ⋯ | 1 | NA | NA | NA | NA | NA | NA | NA | 76 | NA |\n",
       "| 13697954 | 1931-06-15 | 2018-03-15 | 2 | 1 | 1 | NA | 0 | NA | 0 | ⋯ | 2 | NA | NA | NA | NA | NA | NA | 86 | 77 | NA |\n",
       "| 12663073 | 1931-06-15 | 2014-12-15 | 2 | 2 | 1 | NA | 0 | NA | 0 | ⋯ | 1 | NA | NA | NA | 73 | NA | NA | NA | NA | NA |\n",
       "\n"
      ],
      "text/plain": [
       "  person_id birth_datetime death_datetime gender ethnicity imd_decile\n",
       "1 13415106  1931-06-15     2018-05-15     1      1         1         \n",
       "2 12736614  1931-06-15     2012-11-15     1      1         1         \n",
       "3 12570853  1931-06-15     2012-02-15     1      1         1         \n",
       "4 13432538  1931-06-15     <NA>           1      1         1         \n",
       "5 13697954  1931-06-15     2018-03-15     2      1         1         \n",
       "6 12663073  1931-06-15     2014-12-15     2      2         1         \n",
       "  date_angina_diagnosis has_angina date_cardiomyopathy_diagnosis\n",
       "1 2003-08-28            1          <NA>                         \n",
       "2 <NA>                  0          <NA>                         \n",
       "3 <NA>                  0          <NA>                         \n",
       "4 <NA>                  0          <NA>                         \n",
       "5 <NA>                  0          <NA>                         \n",
       "6 <NA>                  0          <NA>                         \n",
       "  has_cardiomyopathy ⋯ cvd_number age_angina_diag age_cardiomyopathy_diag\n",
       "1 0                  ⋯ 3          72              NA                     \n",
       "2 0                  ⋯ 1          NA              NA                     \n",
       "3 0                  ⋯ 2          NA              NA                     \n",
       "4 0                  ⋯ 1          NA              NA                     \n",
       "5 0                  ⋯ 2          NA              NA                     \n",
       "6 0                  ⋯ 1          NA              NA                     \n",
       "  age_heart_failure_diag age_hypertension_diag age_ihd_diag age_mi_diag\n",
       "1 NA                     72                    NA           74         \n",
       "2 78                     NA                    NA           NA         \n",
       "3 NA                     NA                    NA           71         \n",
       "4 NA                     NA                    NA           NA         \n",
       "5 NA                     NA                    NA           NA         \n",
       "6 NA                     73                    NA           NA         \n",
       "  age_pvd_diag age_stroke_diag age_valve_disease_diag\n",
       "1 NA           NA              NA                    \n",
       "2 NA           NA              NA                    \n",
       "3 72           NA              NA                    \n",
       "4 NA           76              NA                    \n",
       "5 86           77              NA                    \n",
       "6 NA           NA              NA                    "
      ]
     },
     "metadata": {},
     "output_type": "display_data"
    }
   ],
   "source": [
    "head(cvd_pc)"
   ]
  },
  {
   "cell_type": "code",
   "execution_count": 18,
   "id": "97229d36-61b8-47c7-ba7c-89e575c62e9f",
   "metadata": {},
   "outputs": [],
   "source": [
    "# remove birth date, gender, ethnicity and imd\n",
    "cvd_pc <- cvd_pc %>%\n",
    "    select(-birth_datetime, -gender, -ethnicity, -imd_decile)"
   ]
  },
  {
   "cell_type": "code",
   "execution_count": 19,
   "id": "9bca5f00-6b9c-49f0-93fe-6c855bcb015f",
   "metadata": {},
   "outputs": [
    {
     "data": {
      "text/html": [
       "<style>\n",
       ".list-inline {list-style: none; margin:0; padding: 0}\n",
       ".list-inline>li {display: inline-block}\n",
       ".list-inline>li:not(:last-child)::after {content: \"\\00b7\"; padding: 0 .5ex}\n",
       "</style>\n",
       "<ol class=list-inline><li>'person_id'</li><li>'death_datetime'</li><li>'date_angina_diagnosis'</li><li>'has_angina'</li><li>'date_cardiomyopathy_diagnosis'</li><li>'has_cardiomyopathy'</li><li>'date_heart_failure_diagnosis'</li><li>'has_heart_failure'</li><li>'date_hypertension_diagnosis'</li><li>'has_hypertension'</li><li>'date_ihd_diagnosis'</li><li>'has_ihd'</li><li>'date_mi_diagnosis'</li><li>'has_mi'</li><li>'date_pvd_diagnosis'</li><li>'has_pvd'</li><li>'date_stroke_diagnosis'</li><li>'has_stroke'</li><li>'date_valve_disease_diagnosis'</li><li>'has_valve_disease'</li><li>'has_cvd'</li><li>'cvd_number'</li><li>'age_angina_diag'</li><li>'age_cardiomyopathy_diag'</li><li>'age_heart_failure_diag'</li><li>'age_hypertension_diag'</li><li>'age_ihd_diag'</li><li>'age_mi_diag'</li><li>'age_pvd_diag'</li><li>'age_stroke_diag'</li><li>'age_valve_disease_diag'</li></ol>\n"
      ],
      "text/latex": [
       "\\begin{enumerate*}\n",
       "\\item 'person\\_id'\n",
       "\\item 'death\\_datetime'\n",
       "\\item 'date\\_angina\\_diagnosis'\n",
       "\\item 'has\\_angina'\n",
       "\\item 'date\\_cardiomyopathy\\_diagnosis'\n",
       "\\item 'has\\_cardiomyopathy'\n",
       "\\item 'date\\_heart\\_failure\\_diagnosis'\n",
       "\\item 'has\\_heart\\_failure'\n",
       "\\item 'date\\_hypertension\\_diagnosis'\n",
       "\\item 'has\\_hypertension'\n",
       "\\item 'date\\_ihd\\_diagnosis'\n",
       "\\item 'has\\_ihd'\n",
       "\\item 'date\\_mi\\_diagnosis'\n",
       "\\item 'has\\_mi'\n",
       "\\item 'date\\_pvd\\_diagnosis'\n",
       "\\item 'has\\_pvd'\n",
       "\\item 'date\\_stroke\\_diagnosis'\n",
       "\\item 'has\\_stroke'\n",
       "\\item 'date\\_valve\\_disease\\_diagnosis'\n",
       "\\item 'has\\_valve\\_disease'\n",
       "\\item 'has\\_cvd'\n",
       "\\item 'cvd\\_number'\n",
       "\\item 'age\\_angina\\_diag'\n",
       "\\item 'age\\_cardiomyopathy\\_diag'\n",
       "\\item 'age\\_heart\\_failure\\_diag'\n",
       "\\item 'age\\_hypertension\\_diag'\n",
       "\\item 'age\\_ihd\\_diag'\n",
       "\\item 'age\\_mi\\_diag'\n",
       "\\item 'age\\_pvd\\_diag'\n",
       "\\item 'age\\_stroke\\_diag'\n",
       "\\item 'age\\_valve\\_disease\\_diag'\n",
       "\\end{enumerate*}\n"
      ],
      "text/markdown": [
       "1. 'person_id'\n",
       "2. 'death_datetime'\n",
       "3. 'date_angina_diagnosis'\n",
       "4. 'has_angina'\n",
       "5. 'date_cardiomyopathy_diagnosis'\n",
       "6. 'has_cardiomyopathy'\n",
       "7. 'date_heart_failure_diagnosis'\n",
       "8. 'has_heart_failure'\n",
       "9. 'date_hypertension_diagnosis'\n",
       "10. 'has_hypertension'\n",
       "11. 'date_ihd_diagnosis'\n",
       "12. 'has_ihd'\n",
       "13. 'date_mi_diagnosis'\n",
       "14. 'has_mi'\n",
       "15. 'date_pvd_diagnosis'\n",
       "16. 'has_pvd'\n",
       "17. 'date_stroke_diagnosis'\n",
       "18. 'has_stroke'\n",
       "19. 'date_valve_disease_diagnosis'\n",
       "20. 'has_valve_disease'\n",
       "21. 'has_cvd'\n",
       "22. 'cvd_number'\n",
       "23. 'age_angina_diag'\n",
       "24. 'age_cardiomyopathy_diag'\n",
       "25. 'age_heart_failure_diag'\n",
       "26. 'age_hypertension_diag'\n",
       "27. 'age_ihd_diag'\n",
       "28. 'age_mi_diag'\n",
       "29. 'age_pvd_diag'\n",
       "30. 'age_stroke_diag'\n",
       "31. 'age_valve_disease_diag'\n",
       "\n",
       "\n"
      ],
      "text/plain": [
       " [1] \"person_id\"                     \"death_datetime\"               \n",
       " [3] \"date_angina_diagnosis\"         \"has_angina\"                   \n",
       " [5] \"date_cardiomyopathy_diagnosis\" \"has_cardiomyopathy\"           \n",
       " [7] \"date_heart_failure_diagnosis\"  \"has_heart_failure\"            \n",
       " [9] \"date_hypertension_diagnosis\"   \"has_hypertension\"             \n",
       "[11] \"date_ihd_diagnosis\"            \"has_ihd\"                      \n",
       "[13] \"date_mi_diagnosis\"             \"has_mi\"                       \n",
       "[15] \"date_pvd_diagnosis\"            \"has_pvd\"                      \n",
       "[17] \"date_stroke_diagnosis\"         \"has_stroke\"                   \n",
       "[19] \"date_valve_disease_diagnosis\"  \"has_valve_disease\"            \n",
       "[21] \"has_cvd\"                       \"cvd_number\"                   \n",
       "[23] \"age_angina_diag\"               \"age_cardiomyopathy_diag\"      \n",
       "[25] \"age_heart_failure_diag\"        \"age_hypertension_diag\"        \n",
       "[27] \"age_ihd_diag\"                  \"age_mi_diag\"                  \n",
       "[29] \"age_pvd_diag\"                  \"age_stroke_diag\"              \n",
       "[31] \"age_valve_disease_diag\"       "
      ]
     },
     "metadata": {},
     "output_type": "display_data"
    }
   ],
   "source": [
    "colnames(cvd_pc)"
   ]
  },
  {
   "cell_type": "code",
   "execution_count": 20,
   "id": "eb75f6ca-7ae7-444b-bb9f-11851c69bfd1",
   "metadata": {},
   "outputs": [],
   "source": [
    "cvd_pc <- cvd_pc %>%\n",
    "mutate(in_data = 1)"
   ]
  },
  {
   "cell_type": "code",
   "execution_count": 21,
   "id": "801f5467-2ef1-4b45-a519-acc0af8ab7d0",
   "metadata": {},
   "outputs": [
    {
     "data": {
      "text/html": [
       "65464"
      ],
      "text/latex": [
       "65464"
      ],
      "text/markdown": [
       "65464"
      ],
      "text/plain": [
       "[1] 65464"
      ]
     },
     "metadata": {},
     "output_type": "display_data"
    }
   ],
   "source": [
    "nrow(cvd_pc)"
   ]
  },
  {
   "cell_type": "code",
   "execution_count": 31,
   "id": "47175dc3-ca41-41bb-bc1f-5db0fb626ded",
   "metadata": {},
   "outputs": [
    {
     "data": {
      "text/plain": [
       "\n",
       "    0     1 \n",
       "56562  8902 "
      ]
     },
     "metadata": {},
     "output_type": "display_data"
    }
   ],
   "source": [
    "table(cvd_pc$has_valve_disease)"
   ]
  },
  {
   "cell_type": "code",
   "execution_count": 22,
   "id": "5fe76125-b414-43f0-9a4f-0cafc700f255",
   "metadata": {},
   "outputs": [],
   "source": [
    "# save\n",
    "# set destination table - do this regardless of whether it already exists\n",
    "dest_dataset <- bq_dataset(\"yhcr-prd-phm-bia-core\",\"CB_MYSPACE_AH\")\n",
    "dest_table <- bq_table(dest_dataset, \"Cardiovascular_Diseases_Primary_Care\")\n",
    "\n",
    "# create a full table spec as follows\n",
    "# then pass this to bq_table_upload\n",
    "dest_fields <- bq_fields(list(bq_field(\"person_id\", \"INT64\", \"REQUIRED\"),\n",
    "                              bq_field(\"date_angina_diagnosis\", \"DATE\"),\n",
    "                              bq_field(\"has_angina\", \"INT64\"),\n",
    "                              bq_field(\"age_angina_diag\", \"INT64\"),\n",
    "                              bq_field(\"date_cardiomyopathy_diagnosis\", \"DATE\"),\n",
    "                              bq_field(\"has_cardiomyopathy\", \"INT64\"),\n",
    "                              bq_field(\"age_cardiomyopathy_diag\", \"INT64\"),\n",
    "                              bq_field(\"date_heart_failure_diagnosis\", \"DATE\"),\n",
    "                              bq_field(\"has_heart_failure\", \"INT64\"),\n",
    "                              bq_field(\"age_heart_failure_diag\", \"INT64\"),\n",
    "                              bq_field(\"date_hypertension_diagnosis\", \"DATE\"),\n",
    "                              bq_field(\"has_hypertension\", \"INT64\"),\n",
    "                              bq_field(\"age_hypertension_diag\", \"INT64\"),\n",
    "                              bq_field(\"date_ihd_diagnosis\", \"DATE\"),\n",
    "                              bq_field(\"has_ihd\", \"INT64\"),\n",
    "                              bq_field(\"age_ihd_diag\", \"INT64\"),\n",
    "                              bq_field(\"date_mi_diagnosis\", \"DATE\"),\n",
    "                              bq_field(\"has_mi\", \"INT64\"),\n",
    "                              bq_field(\"age_mi_diag\", \"INT64\"),\n",
    "                              bq_field(\"date_pvd_diagnosis\", \"DATE\"),\n",
    "                              bq_field(\"has_pvd\", \"INT64\"),\n",
    "                              bq_field(\"age_pvd_diag\", \"INT64\"),\n",
    "                              bq_field(\"date_stroke_diagnosis\", \"DATE\"),\n",
    "                              bq_field(\"has_stroke\", \"INT64\"),\n",
    "                              bq_field(\"age_stroke_diag\", \"INT64\"),\n",
    "                              bq_field(\"date_valve_disease_diagnosis\", \"DATE\"),\n",
    "                              bq_field(\"has_valve_disease\", \"INT64\"),\n",
    "                              bq_field(\"age_valve_disease_diag\", \"INT64\"),\n",
    "                              bq_field(\"has_cvd\", \"INT64\"),\n",
    "                              bq_field(\"cvd_number\", \"INT64\"),\n",
    "                             bq_field(\"in_data\", \"INT64\")))\n",
    "\n",
    "# delete an existing table if necessary\n",
    "if(bq_table_exists(dest_table)) bq_table_delete(dest_table)\n",
    "# upload file_data to dest_table\n",
    "bq_table_upload(dest_table, cvd, fields = dest_fields, create_disposition='CREATE_IF_NEEDED', write_disposition='WRITE_TRUNCATE')"
   ]
  },
  {
   "cell_type": "code",
   "execution_count": null,
   "id": "dfd54de8-3fe2-4230-93a8-21db5b47234e",
   "metadata": {},
   "outputs": [],
   "source": []
  }
 ],
 "metadata": {
  "environment": {
   "kernel": "ir",
   "name": "r-cpu.4-2.m111",
   "type": "gcloud",
   "uri": "gcr.io/deeplearning-platform-release/r-cpu.4-2:m111"
  },
  "kernelspec": {
   "display_name": "R",
   "language": "R",
   "name": "ir"
  },
  "language_info": {
   "codemirror_mode": "r",
   "file_extension": ".r",
   "mimetype": "text/x-r-source",
   "name": "R",
   "pygments_lexer": "r",
   "version": "4.3.1"
  }
 },
 "nbformat": 4,
 "nbformat_minor": 5
}
