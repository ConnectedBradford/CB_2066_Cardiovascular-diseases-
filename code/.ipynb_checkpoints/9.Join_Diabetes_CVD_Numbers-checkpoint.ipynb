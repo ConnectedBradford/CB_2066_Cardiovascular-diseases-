{
 "cells": [
  {
   "cell_type": "code",
   "execution_count": 23,
   "id": "43ddef8e-303e-428b-8354-df3636866be6",
   "metadata": {},
   "outputs": [],
   "source": [
    "library(bigrquery)\n",
    "library(tidyverse)"
   ]
  },
  {
   "cell_type": "code",
   "execution_count": 24,
   "id": "3c5d4ebb-8af4-403e-8193-c16e40701e42",
   "metadata": {},
   "outputs": [],
   "source": [
    "# Store the project ID\n",
    "projectid = \"yhcr-prd-phm-bia-core\""
   ]
  },
  {
   "cell_type": "code",
   "execution_count": 25,
   "id": "94761bc9-dd60-4206-b277-08add10bc4fb",
   "metadata": {},
   "outputs": [],
   "source": [
    "# load diabetes and cvd tables\n",
    "# Diabetes\n",
    "sql1 <- \"SELECT *  FROM `yhcr-prd-phm-bia-core.CB_MYSPACE_AH.Diabetes`\"\n",
    "tb1 <- bq_project_query(projectid, sql1)\n",
    "diabetes <-bq_table_download(tb1)\n",
    "\n",
    "# CVD\n",
    "sql2 <- \"SELECT *  FROM `yhcr-prd-phm-bia-core.CB_MYSPACE_AH.All_CVD_First_Occurrence`\"\n",
    "tb2 <- bq_project_query(projectid, sql2)\n",
    "cvd <-bq_table_download(tb2)"
   ]
  },
  {
   "cell_type": "code",
   "execution_count": 26,
   "id": "4f383ed7-6e48-416e-90d4-9bcca33f060f",
   "metadata": {},
   "outputs": [
    {
     "data": {
      "text/html": [
       "<table class=\"dataframe\">\n",
       "<caption>A tibble: 6 × 6</caption>\n",
       "<thead>\n",
       "\t<tr><th scope=col>person_id</th><th scope=col>birth_datetime</th><th scope=col>death_datetime</th><th scope=col>gender</th><th scope=col>ethnicity</th><th scope=col>imd_decile</th></tr>\n",
       "\t<tr><th scope=col>&lt;int&gt;</th><th scope=col>&lt;date&gt;</th><th scope=col>&lt;date&gt;</th><th scope=col>&lt;int&gt;</th><th scope=col>&lt;int&gt;</th><th scope=col>&lt;int&gt;</th></tr>\n",
       "</thead>\n",
       "<tbody>\n",
       "\t<tr><td>16813063</td><td>NA</td><td>NA</td><td>2</td><td>2</td><td>1</td></tr>\n",
       "\t<tr><td>16832562</td><td>NA</td><td>NA</td><td>1</td><td>3</td><td>1</td></tr>\n",
       "\t<tr><td>16769967</td><td>NA</td><td>NA</td><td>1</td><td>1</td><td>1</td></tr>\n",
       "\t<tr><td>16832450</td><td>NA</td><td>NA</td><td>1</td><td>2</td><td>1</td></tr>\n",
       "\t<tr><td>16814272</td><td>NA</td><td>NA</td><td>1</td><td>2</td><td>1</td></tr>\n",
       "\t<tr><td>13715865</td><td>NA</td><td>NA</td><td>1</td><td>2</td><td>1</td></tr>\n",
       "</tbody>\n",
       "</table>\n"
      ],
      "text/latex": [
       "A tibble: 6 × 6\n",
       "\\begin{tabular}{llllll}\n",
       " person\\_id & birth\\_datetime & death\\_datetime & gender & ethnicity & imd\\_decile\\\\\n",
       " <int> & <date> & <date> & <int> & <int> & <int>\\\\\n",
       "\\hline\n",
       "\t 16813063 & NA & NA & 2 & 2 & 1\\\\\n",
       "\t 16832562 & NA & NA & 1 & 3 & 1\\\\\n",
       "\t 16769967 & NA & NA & 1 & 1 & 1\\\\\n",
       "\t 16832450 & NA & NA & 1 & 2 & 1\\\\\n",
       "\t 16814272 & NA & NA & 1 & 2 & 1\\\\\n",
       "\t 13715865 & NA & NA & 1 & 2 & 1\\\\\n",
       "\\end{tabular}\n"
      ],
      "text/markdown": [
       "\n",
       "A tibble: 6 × 6\n",
       "\n",
       "| person_id &lt;int&gt; | birth_datetime &lt;date&gt; | death_datetime &lt;date&gt; | gender &lt;int&gt; | ethnicity &lt;int&gt; | imd_decile &lt;int&gt; |\n",
       "|---|---|---|---|---|---|\n",
       "| 16813063 | NA | NA | 2 | 2 | 1 |\n",
       "| 16832562 | NA | NA | 1 | 3 | 1 |\n",
       "| 16769967 | NA | NA | 1 | 1 | 1 |\n",
       "| 16832450 | NA | NA | 1 | 2 | 1 |\n",
       "| 16814272 | NA | NA | 1 | 2 | 1 |\n",
       "| 13715865 | NA | NA | 1 | 2 | 1 |\n",
       "\n"
      ],
      "text/plain": [
       "  person_id birth_datetime death_datetime gender ethnicity imd_decile\n",
       "1 16813063  <NA>           <NA>           2      2         1         \n",
       "2 16832562  <NA>           <NA>           1      3         1         \n",
       "3 16769967  <NA>           <NA>           1      1         1         \n",
       "4 16832450  <NA>           <NA>           1      2         1         \n",
       "5 16814272  <NA>           <NA>           1      2         1         \n",
       "6 13715865  <NA>           <NA>           1      2         1         "
      ]
     },
     "metadata": {},
     "output_type": "display_data"
    }
   ],
   "source": [
    "# Patient table\n",
    "sql3 <- \"SELECT * FROM `yhcr-prd-phm-bia-core.CB_MYSPACE_AH.Patient_Denom`\"\n",
    "tb3 <- bq_project_query(projectid, sql3)\n",
    "patient <- bq_table_download(tb3)\n",
    "head(patient)"
   ]
  },
  {
   "cell_type": "code",
   "execution_count": 27,
   "id": "572a13b1-421d-4b43-920a-2ed00dae64b5",
   "metadata": {},
   "outputs": [
    {
     "name": "stderr",
     "output_type": "stream",
     "text": [
      "\u001b[1m\u001b[22mNew names:\n",
      "\u001b[36m•\u001b[39m `` -> `...1`\n",
      "Warning message:\n",
      "“\u001b[1m\u001b[22mOne or more parsing issues, call `problems()` on your data frame for details,\n",
      "e.g.:\n",
      "  dat <- vroom(...)\n",
      "  problems(dat)”\n",
      "\u001b[1mRows: \u001b[22m\u001b[34m784186\u001b[39m \u001b[1mColumns: \u001b[22m\u001b[34m31\u001b[39m\n",
      "\u001b[36m──\u001b[39m \u001b[1mColumn specification\u001b[22m \u001b[36m────────────────────────────────────────────────────────\u001b[39m\n",
      "\u001b[1mDelimiter:\u001b[22m \",\"\n",
      "\u001b[32mdbl\u001b[39m  (20): ...1, person_id, gender, ethnicity, imd_decile, cholesterol, bmi,...\n",
      "\u001b[33mlgl\u001b[39m   (4): date_cholesterol, closest_cholesterol, date_egfr, closest_egfr\n",
      "\u001b[34mdate\u001b[39m  (7): birth_datetime, death_datetime, date_bmi, date_smoking, date_bp, ...\n",
      "\n",
      "\u001b[36mℹ\u001b[39m Use `spec()` to retrieve the full column specification for this data.\n",
      "\u001b[36mℹ\u001b[39m Specify the column types or set `show_col_types = FALSE` to quiet this message.\n"
     ]
    }
   ],
   "source": [
    "covars <- read_csv(\"/home/jupyter/T2D_CVD_Study/Patient_Covariates_Table.csv\")\n",
    "covars <- covars %>% select(-'...1', -birth_datetime, -gender, -imd_decile, -ethnicity)"
   ]
  },
  {
   "cell_type": "code",
   "execution_count": 28,
   "id": "25555559-1c74-4fcf-9c66-820d87f99d33",
   "metadata": {},
   "outputs": [
    {
     "name": "stderr",
     "output_type": "stream",
     "text": [
      "\u001b[1m\u001b[22mJoining with `by = join_by(person_id)`\n"
     ]
    },
    {
     "data": {
      "text/html": [
       "<table class=\"dataframe\">\n",
       "<caption>A tibble: 6 × 30</caption>\n",
       "<thead>\n",
       "\t<tr><th scope=col>person_id</th><th scope=col>age_t1d_diag</th><th scope=col>date_t1d_diag</th><th scope=col>t1d_status</th><th scope=col>age_t2d_diag</th><th scope=col>date_t2d_diag</th><th scope=col>t2d_status</th><th scope=col>age_earliest_diab</th><th scope=col>earliest_diabetes_diag</th><th scope=col>any_diabetes</th><th scope=col>⋯</th><th scope=col>date_ihd_diagnosis</th><th scope=col>has_ihd</th><th scope=col>date_mi_diagnosis</th><th scope=col>has_mi</th><th scope=col>date_pvd_diagnosis</th><th scope=col>has_pvd</th><th scope=col>date_stroke_diagnosis</th><th scope=col>has_stroke</th><th scope=col>date_valve_disease_diagnosis</th><th scope=col>has_valve_disease</th></tr>\n",
       "\t<tr><th scope=col>&lt;int&gt;</th><th scope=col>&lt;int&gt;</th><th scope=col>&lt;date&gt;</th><th scope=col>&lt;int&gt;</th><th scope=col>&lt;int&gt;</th><th scope=col>&lt;date&gt;</th><th scope=col>&lt;int&gt;</th><th scope=col>&lt;int&gt;</th><th scope=col>&lt;date&gt;</th><th scope=col>&lt;int&gt;</th><th scope=col>⋯</th><th scope=col>&lt;date&gt;</th><th scope=col>&lt;int&gt;</th><th scope=col>&lt;date&gt;</th><th scope=col>&lt;int&gt;</th><th scope=col>&lt;date&gt;</th><th scope=col>&lt;int&gt;</th><th scope=col>&lt;date&gt;</th><th scope=col>&lt;int&gt;</th><th scope=col>&lt;date&gt;</th><th scope=col>&lt;int&gt;</th></tr>\n",
       "</thead>\n",
       "<tbody>\n",
       "\t<tr><td>13548546</td><td>60</td><td>2007-01-11</td><td>1</td><td>NA</td><td>NA</td><td>0</td><td>60</td><td>2007-01-11</td><td>1</td><td>⋯</td><td>NA</td><td>0</td><td>NA</td><td>0</td><td>NA</td><td>0</td><td>NA</td><td>0</td><td>NA</td><td>0</td></tr>\n",
       "\t<tr><td>12975170</td><td>80</td><td>2020-04-28</td><td>1</td><td>NA</td><td>NA</td><td>0</td><td>80</td><td>2020-04-28</td><td>1</td><td>⋯</td><td>NA</td><td>0</td><td>NA</td><td>0</td><td>NA</td><td>0</td><td>2013-03-05</td><td>1</td><td>NA</td><td>0</td></tr>\n",
       "\t<tr><td>13450523</td><td>36</td><td>2011-10-13</td><td>1</td><td>NA</td><td>NA</td><td>0</td><td>36</td><td>2011-10-13</td><td>1</td><td>⋯</td><td>NA</td><td>0</td><td>NA</td><td>0</td><td>NA</td><td>0</td><td>NA</td><td>0</td><td>NA</td><td>0</td></tr>\n",
       "\t<tr><td>12431500</td><td>75</td><td>2011-08-16</td><td>1</td><td>NA</td><td>NA</td><td>0</td><td>75</td><td>2011-08-16</td><td>1</td><td>⋯</td><td>2012-04-03</td><td>1</td><td>NA</td><td>0</td><td>NA</td><td>0</td><td>NA</td><td>0</td><td>NA</td><td>0</td></tr>\n",
       "\t<tr><td>13235332</td><td>47</td><td>2007-07-05</td><td>1</td><td>NA</td><td>NA</td><td>0</td><td>47</td><td>2007-07-05</td><td>1</td><td>⋯</td><td>NA</td><td>0</td><td>NA</td><td>0</td><td>NA</td><td>0</td><td>NA</td><td>0</td><td>NA</td><td>0</td></tr>\n",
       "\t<tr><td>12805324</td><td>39</td><td>2008-04-08</td><td>1</td><td>NA</td><td>NA</td><td>0</td><td>39</td><td>2008-04-08</td><td>1</td><td>⋯</td><td>NA</td><td>0</td><td>NA</td><td>0</td><td>NA</td><td>0</td><td>NA</td><td>0</td><td>NA</td><td>0</td></tr>\n",
       "</tbody>\n",
       "</table>\n"
      ],
      "text/latex": [
       "A tibble: 6 × 30\n",
       "\\begin{tabular}{lllllllllllllllllllll}\n",
       " person\\_id & age\\_t1d\\_diag & date\\_t1d\\_diag & t1d\\_status & age\\_t2d\\_diag & date\\_t2d\\_diag & t2d\\_status & age\\_earliest\\_diab & earliest\\_diabetes\\_diag & any\\_diabetes & ⋯ & date\\_ihd\\_diagnosis & has\\_ihd & date\\_mi\\_diagnosis & has\\_mi & date\\_pvd\\_diagnosis & has\\_pvd & date\\_stroke\\_diagnosis & has\\_stroke & date\\_valve\\_disease\\_diagnosis & has\\_valve\\_disease\\\\\n",
       " <int> & <int> & <date> & <int> & <int> & <date> & <int> & <int> & <date> & <int> & ⋯ & <date> & <int> & <date> & <int> & <date> & <int> & <date> & <int> & <date> & <int>\\\\\n",
       "\\hline\n",
       "\t 13548546 & 60 & 2007-01-11 & 1 & NA & NA & 0 & 60 & 2007-01-11 & 1 & ⋯ & NA & 0 & NA & 0 & NA & 0 & NA & 0 & NA & 0\\\\\n",
       "\t 12975170 & 80 & 2020-04-28 & 1 & NA & NA & 0 & 80 & 2020-04-28 & 1 & ⋯ & NA & 0 & NA & 0 & NA & 0 & 2013-03-05 & 1 & NA & 0\\\\\n",
       "\t 13450523 & 36 & 2011-10-13 & 1 & NA & NA & 0 & 36 & 2011-10-13 & 1 & ⋯ & NA & 0 & NA & 0 & NA & 0 & NA & 0 & NA & 0\\\\\n",
       "\t 12431500 & 75 & 2011-08-16 & 1 & NA & NA & 0 & 75 & 2011-08-16 & 1 & ⋯ & 2012-04-03 & 1 & NA & 0 & NA & 0 & NA & 0 & NA & 0\\\\\n",
       "\t 13235332 & 47 & 2007-07-05 & 1 & NA & NA & 0 & 47 & 2007-07-05 & 1 & ⋯ & NA & 0 & NA & 0 & NA & 0 & NA & 0 & NA & 0\\\\\n",
       "\t 12805324 & 39 & 2008-04-08 & 1 & NA & NA & 0 & 39 & 2008-04-08 & 1 & ⋯ & NA & 0 & NA & 0 & NA & 0 & NA & 0 & NA & 0\\\\\n",
       "\\end{tabular}\n"
      ],
      "text/markdown": [
       "\n",
       "A tibble: 6 × 30\n",
       "\n",
       "| person_id &lt;int&gt; | age_t1d_diag &lt;int&gt; | date_t1d_diag &lt;date&gt; | t1d_status &lt;int&gt; | age_t2d_diag &lt;int&gt; | date_t2d_diag &lt;date&gt; | t2d_status &lt;int&gt; | age_earliest_diab &lt;int&gt; | earliest_diabetes_diag &lt;date&gt; | any_diabetes &lt;int&gt; | ⋯ ⋯ | date_ihd_diagnosis &lt;date&gt; | has_ihd &lt;int&gt; | date_mi_diagnosis &lt;date&gt; | has_mi &lt;int&gt; | date_pvd_diagnosis &lt;date&gt; | has_pvd &lt;int&gt; | date_stroke_diagnosis &lt;date&gt; | has_stroke &lt;int&gt; | date_valve_disease_diagnosis &lt;date&gt; | has_valve_disease &lt;int&gt; |\n",
       "|---|---|---|---|---|---|---|---|---|---|---|---|---|---|---|---|---|---|---|---|---|\n",
       "| 13548546 | 60 | 2007-01-11 | 1 | NA | NA | 0 | 60 | 2007-01-11 | 1 | ⋯ | NA | 0 | NA | 0 | NA | 0 | NA | 0 | NA | 0 |\n",
       "| 12975170 | 80 | 2020-04-28 | 1 | NA | NA | 0 | 80 | 2020-04-28 | 1 | ⋯ | NA | 0 | NA | 0 | NA | 0 | 2013-03-05 | 1 | NA | 0 |\n",
       "| 13450523 | 36 | 2011-10-13 | 1 | NA | NA | 0 | 36 | 2011-10-13 | 1 | ⋯ | NA | 0 | NA | 0 | NA | 0 | NA | 0 | NA | 0 |\n",
       "| 12431500 | 75 | 2011-08-16 | 1 | NA | NA | 0 | 75 | 2011-08-16 | 1 | ⋯ | 2012-04-03 | 1 | NA | 0 | NA | 0 | NA | 0 | NA | 0 |\n",
       "| 13235332 | 47 | 2007-07-05 | 1 | NA | NA | 0 | 47 | 2007-07-05 | 1 | ⋯ | NA | 0 | NA | 0 | NA | 0 | NA | 0 | NA | 0 |\n",
       "| 12805324 | 39 | 2008-04-08 | 1 | NA | NA | 0 | 39 | 2008-04-08 | 1 | ⋯ | NA | 0 | NA | 0 | NA | 0 | NA | 0 | NA | 0 |\n",
       "\n"
      ],
      "text/plain": [
       "  person_id age_t1d_diag date_t1d_diag t1d_status age_t2d_diag date_t2d_diag\n",
       "1 13548546  60           2007-01-11    1          NA           <NA>         \n",
       "2 12975170  80           2020-04-28    1          NA           <NA>         \n",
       "3 13450523  36           2011-10-13    1          NA           <NA>         \n",
       "4 12431500  75           2011-08-16    1          NA           <NA>         \n",
       "5 13235332  47           2007-07-05    1          NA           <NA>         \n",
       "6 12805324  39           2008-04-08    1          NA           <NA>         \n",
       "  t2d_status age_earliest_diab earliest_diabetes_diag any_diabetes ⋯\n",
       "1 0          60                2007-01-11             1            ⋯\n",
       "2 0          80                2020-04-28             1            ⋯\n",
       "3 0          36                2011-10-13             1            ⋯\n",
       "4 0          75                2011-08-16             1            ⋯\n",
       "5 0          47                2007-07-05             1            ⋯\n",
       "6 0          39                2008-04-08             1            ⋯\n",
       "  date_ihd_diagnosis has_ihd date_mi_diagnosis has_mi date_pvd_diagnosis\n",
       "1 <NA>               0       <NA>              0      <NA>              \n",
       "2 <NA>               0       <NA>              0      <NA>              \n",
       "3 <NA>               0       <NA>              0      <NA>              \n",
       "4 2012-04-03         1       <NA>              0      <NA>              \n",
       "5 <NA>               0       <NA>              0      <NA>              \n",
       "6 <NA>               0       <NA>              0      <NA>              \n",
       "  has_pvd date_stroke_diagnosis has_stroke date_valve_disease_diagnosis\n",
       "1 0       <NA>                  0          <NA>                        \n",
       "2 0       2013-03-05            1          <NA>                        \n",
       "3 0       <NA>                  0          <NA>                        \n",
       "4 0       <NA>                  0          <NA>                        \n",
       "5 0       <NA>                  0          <NA>                        \n",
       "6 0       <NA>                  0          <NA>                        \n",
       "  has_valve_disease\n",
       "1 0                \n",
       "2 0                \n",
       "3 0                \n",
       "4 0                \n",
       "5 0                \n",
       "6 0                "
      ]
     },
     "metadata": {},
     "output_type": "display_data"
    },
    {
     "data": {
      "text/html": [
       "0"
      ],
      "text/latex": [
       "0"
      ],
      "text/markdown": [
       "0"
      ],
      "text/plain": [
       "[1] 0"
      ]
     },
     "metadata": {},
     "output_type": "display_data"
    },
    {
     "data": {
      "text/html": [
       "0"
      ],
      "text/latex": [
       "0"
      ],
      "text/markdown": [
       "0"
      ],
      "text/plain": [
       "[1] 0"
      ]
     },
     "metadata": {},
     "output_type": "display_data"
    }
   ],
   "source": [
    "# join cvd and diabetes\n",
    "dc <- left_join(diabetes, cvd)\n",
    "dc <- dc %>%\n",
    "    mutate_at(c('t1d_status', 't2d_status', 'any_diabetes', 'has_angina','has_cardiomyopathy', 'has_heart_failure', 'has_hypertension', 'has_ihd','has_mi', 'has_pvd', 'has_stroke', 'has_valve_disease'), ~replace_na(.,0))\n",
    "head(dc)\n",
    "sum(duplicated(dc))\n",
    "sum(duplicated(dc$person_id))"
   ]
  },
  {
   "cell_type": "code",
   "execution_count": 29,
   "id": "8377f7a0-3015-4b14-95fd-5bf88f52b915",
   "metadata": {},
   "outputs": [
    {
     "data": {
      "text/html": [
       "<table class=\"dataframe\">\n",
       "<caption>A tibble: 6 × 35</caption>\n",
       "<thead>\n",
       "\t<tr><th scope=col>person_id</th><th scope=col>age_t1d_diag</th><th scope=col>date_t1d_diag</th><th scope=col>t1d_status</th><th scope=col>age_t2d_diag</th><th scope=col>date_t2d_diag</th><th scope=col>t2d_status</th><th scope=col>age_earliest_diab</th><th scope=col>earliest_diabetes_diag</th><th scope=col>any_diabetes</th><th scope=col>⋯</th><th scope=col>has_pvd</th><th scope=col>date_stroke_diagnosis</th><th scope=col>has_stroke</th><th scope=col>date_valve_disease_diagnosis</th><th scope=col>has_valve_disease</th><th scope=col>birth_datetime</th><th scope=col>death_datetime</th><th scope=col>gender</th><th scope=col>ethnicity</th><th scope=col>imd_decile</th></tr>\n",
       "\t<tr><th scope=col>&lt;int&gt;</th><th scope=col>&lt;int&gt;</th><th scope=col>&lt;date&gt;</th><th scope=col>&lt;int&gt;</th><th scope=col>&lt;int&gt;</th><th scope=col>&lt;date&gt;</th><th scope=col>&lt;int&gt;</th><th scope=col>&lt;int&gt;</th><th scope=col>&lt;date&gt;</th><th scope=col>&lt;int&gt;</th><th scope=col>⋯</th><th scope=col>&lt;int&gt;</th><th scope=col>&lt;date&gt;</th><th scope=col>&lt;int&gt;</th><th scope=col>&lt;date&gt;</th><th scope=col>&lt;int&gt;</th><th scope=col>&lt;date&gt;</th><th scope=col>&lt;date&gt;</th><th scope=col>&lt;int&gt;</th><th scope=col>&lt;int&gt;</th><th scope=col>&lt;int&gt;</th></tr>\n",
       "</thead>\n",
       "<tbody>\n",
       "\t<tr><td>13548546</td><td>60</td><td>2007-01-11</td><td>1</td><td>NA</td><td>NA</td><td>0</td><td>60</td><td>2007-01-11</td><td>1</td><td>⋯</td><td>0</td><td>NA</td><td>0</td><td>NA</td><td>0</td><td>1946-11-15</td><td>2008-07-15</td><td>1</td><td>1</td><td>5</td></tr>\n",
       "\t<tr><td>12975170</td><td>80</td><td>2020-04-28</td><td>1</td><td>NA</td><td>NA</td><td>0</td><td>80</td><td>2020-04-28</td><td>1</td><td>⋯</td><td>0</td><td>2013-03-05</td><td>1</td><td>NA</td><td>0</td><td>1939-11-15</td><td>2020-05-15</td><td>1</td><td>1</td><td>1</td></tr>\n",
       "\t<tr><td>13450523</td><td>36</td><td>2011-10-13</td><td>1</td><td>NA</td><td>NA</td><td>0</td><td>36</td><td>2011-10-13</td><td>1</td><td>⋯</td><td>0</td><td>NA</td><td>0</td><td>NA</td><td>0</td><td>1975-08-15</td><td>2018-12-15</td><td>1</td><td>1</td><td>4</td></tr>\n",
       "\t<tr><td>12431500</td><td>75</td><td>2011-08-16</td><td>1</td><td>NA</td><td>NA</td><td>0</td><td>75</td><td>2011-08-16</td><td>1</td><td>⋯</td><td>0</td><td>NA</td><td>0</td><td>NA</td><td>0</td><td>1936-05-15</td><td>2013-01-15</td><td>1</td><td>1</td><td>1</td></tr>\n",
       "\t<tr><td>13235332</td><td>47</td><td>2007-07-05</td><td>1</td><td>NA</td><td>NA</td><td>0</td><td>47</td><td>2007-07-05</td><td>1</td><td>⋯</td><td>0</td><td>NA</td><td>0</td><td>NA</td><td>0</td><td>1960-03-15</td><td>2013-09-15</td><td>1</td><td>1</td><td>1</td></tr>\n",
       "\t<tr><td>12805324</td><td>39</td><td>2008-04-08</td><td>1</td><td>NA</td><td>NA</td><td>0</td><td>39</td><td>2008-04-08</td><td>1</td><td>⋯</td><td>0</td><td>NA</td><td>0</td><td>NA</td><td>0</td><td>1968-08-15</td><td>2017-03-15</td><td>1</td><td>2</td><td>1</td></tr>\n",
       "</tbody>\n",
       "</table>\n"
      ],
      "text/latex": [
       "A tibble: 6 × 35\n",
       "\\begin{tabular}{lllllllllllllllllllll}\n",
       " person\\_id & age\\_t1d\\_diag & date\\_t1d\\_diag & t1d\\_status & age\\_t2d\\_diag & date\\_t2d\\_diag & t2d\\_status & age\\_earliest\\_diab & earliest\\_diabetes\\_diag & any\\_diabetes & ⋯ & has\\_pvd & date\\_stroke\\_diagnosis & has\\_stroke & date\\_valve\\_disease\\_diagnosis & has\\_valve\\_disease & birth\\_datetime & death\\_datetime & gender & ethnicity & imd\\_decile\\\\\n",
       " <int> & <int> & <date> & <int> & <int> & <date> & <int> & <int> & <date> & <int> & ⋯ & <int> & <date> & <int> & <date> & <int> & <date> & <date> & <int> & <int> & <int>\\\\\n",
       "\\hline\n",
       "\t 13548546 & 60 & 2007-01-11 & 1 & NA & NA & 0 & 60 & 2007-01-11 & 1 & ⋯ & 0 & NA & 0 & NA & 0 & 1946-11-15 & 2008-07-15 & 1 & 1 & 5\\\\\n",
       "\t 12975170 & 80 & 2020-04-28 & 1 & NA & NA & 0 & 80 & 2020-04-28 & 1 & ⋯ & 0 & 2013-03-05 & 1 & NA & 0 & 1939-11-15 & 2020-05-15 & 1 & 1 & 1\\\\\n",
       "\t 13450523 & 36 & 2011-10-13 & 1 & NA & NA & 0 & 36 & 2011-10-13 & 1 & ⋯ & 0 & NA & 0 & NA & 0 & 1975-08-15 & 2018-12-15 & 1 & 1 & 4\\\\\n",
       "\t 12431500 & 75 & 2011-08-16 & 1 & NA & NA & 0 & 75 & 2011-08-16 & 1 & ⋯ & 0 & NA & 0 & NA & 0 & 1936-05-15 & 2013-01-15 & 1 & 1 & 1\\\\\n",
       "\t 13235332 & 47 & 2007-07-05 & 1 & NA & NA & 0 & 47 & 2007-07-05 & 1 & ⋯ & 0 & NA & 0 & NA & 0 & 1960-03-15 & 2013-09-15 & 1 & 1 & 1\\\\\n",
       "\t 12805324 & 39 & 2008-04-08 & 1 & NA & NA & 0 & 39 & 2008-04-08 & 1 & ⋯ & 0 & NA & 0 & NA & 0 & 1968-08-15 & 2017-03-15 & 1 & 2 & 1\\\\\n",
       "\\end{tabular}\n"
      ],
      "text/markdown": [
       "\n",
       "A tibble: 6 × 35\n",
       "\n",
       "| person_id &lt;int&gt; | age_t1d_diag &lt;int&gt; | date_t1d_diag &lt;date&gt; | t1d_status &lt;int&gt; | age_t2d_diag &lt;int&gt; | date_t2d_diag &lt;date&gt; | t2d_status &lt;int&gt; | age_earliest_diab &lt;int&gt; | earliest_diabetes_diag &lt;date&gt; | any_diabetes &lt;int&gt; | ⋯ ⋯ | has_pvd &lt;int&gt; | date_stroke_diagnosis &lt;date&gt; | has_stroke &lt;int&gt; | date_valve_disease_diagnosis &lt;date&gt; | has_valve_disease &lt;int&gt; | birth_datetime &lt;date&gt; | death_datetime &lt;date&gt; | gender &lt;int&gt; | ethnicity &lt;int&gt; | imd_decile &lt;int&gt; |\n",
       "|---|---|---|---|---|---|---|---|---|---|---|---|---|---|---|---|---|---|---|---|---|\n",
       "| 13548546 | 60 | 2007-01-11 | 1 | NA | NA | 0 | 60 | 2007-01-11 | 1 | ⋯ | 0 | NA | 0 | NA | 0 | 1946-11-15 | 2008-07-15 | 1 | 1 | 5 |\n",
       "| 12975170 | 80 | 2020-04-28 | 1 | NA | NA | 0 | 80 | 2020-04-28 | 1 | ⋯ | 0 | 2013-03-05 | 1 | NA | 0 | 1939-11-15 | 2020-05-15 | 1 | 1 | 1 |\n",
       "| 13450523 | 36 | 2011-10-13 | 1 | NA | NA | 0 | 36 | 2011-10-13 | 1 | ⋯ | 0 | NA | 0 | NA | 0 | 1975-08-15 | 2018-12-15 | 1 | 1 | 4 |\n",
       "| 12431500 | 75 | 2011-08-16 | 1 | NA | NA | 0 | 75 | 2011-08-16 | 1 | ⋯ | 0 | NA | 0 | NA | 0 | 1936-05-15 | 2013-01-15 | 1 | 1 | 1 |\n",
       "| 13235332 | 47 | 2007-07-05 | 1 | NA | NA | 0 | 47 | 2007-07-05 | 1 | ⋯ | 0 | NA | 0 | NA | 0 | 1960-03-15 | 2013-09-15 | 1 | 1 | 1 |\n",
       "| 12805324 | 39 | 2008-04-08 | 1 | NA | NA | 0 | 39 | 2008-04-08 | 1 | ⋯ | 0 | NA | 0 | NA | 0 | 1968-08-15 | 2017-03-15 | 1 | 2 | 1 |\n",
       "\n"
      ],
      "text/plain": [
       "  person_id age_t1d_diag date_t1d_diag t1d_status age_t2d_diag date_t2d_diag\n",
       "1 13548546  60           2007-01-11    1          NA           <NA>         \n",
       "2 12975170  80           2020-04-28    1          NA           <NA>         \n",
       "3 13450523  36           2011-10-13    1          NA           <NA>         \n",
       "4 12431500  75           2011-08-16    1          NA           <NA>         \n",
       "5 13235332  47           2007-07-05    1          NA           <NA>         \n",
       "6 12805324  39           2008-04-08    1          NA           <NA>         \n",
       "  t2d_status age_earliest_diab earliest_diabetes_diag any_diabetes ⋯ has_pvd\n",
       "1 0          60                2007-01-11             1            ⋯ 0      \n",
       "2 0          80                2020-04-28             1            ⋯ 0      \n",
       "3 0          36                2011-10-13             1            ⋯ 0      \n",
       "4 0          75                2011-08-16             1            ⋯ 0      \n",
       "5 0          47                2007-07-05             1            ⋯ 0      \n",
       "6 0          39                2008-04-08             1            ⋯ 0      \n",
       "  date_stroke_diagnosis has_stroke date_valve_disease_diagnosis\n",
       "1 <NA>                  0          <NA>                        \n",
       "2 2013-03-05            1          <NA>                        \n",
       "3 <NA>                  0          <NA>                        \n",
       "4 <NA>                  0          <NA>                        \n",
       "5 <NA>                  0          <NA>                        \n",
       "6 <NA>                  0          <NA>                        \n",
       "  has_valve_disease birth_datetime death_datetime gender ethnicity imd_decile\n",
       "1 0                 1946-11-15     2008-07-15     1      1         5         \n",
       "2 0                 1939-11-15     2020-05-15     1      1         1         \n",
       "3 0                 1975-08-15     2018-12-15     1      1         4         \n",
       "4 0                 1936-05-15     2013-01-15     1      1         1         \n",
       "5 0                 1960-03-15     2013-09-15     1      1         1         \n",
       "6 0                 1968-08-15     2017-03-15     1      2         1         "
      ]
     },
     "metadata": {},
     "output_type": "display_data"
    },
    {
     "data": {
      "text/html": [
       "0"
      ],
      "text/latex": [
       "0"
      ],
      "text/markdown": [
       "0"
      ],
      "text/plain": [
       "[1] 0"
      ]
     },
     "metadata": {},
     "output_type": "display_data"
    },
    {
     "data": {
      "text/html": [
       "0"
      ],
      "text/latex": [
       "0"
      ],
      "text/markdown": [
       "0"
      ],
      "text/plain": [
       "[1] 0"
      ]
     },
     "metadata": {},
     "output_type": "display_data"
    }
   ],
   "source": [
    "# Join death datetime onto dc\n",
    "dc <- left_join(dc, patient, by = \"person_id\")\n",
    "head(dc)\n",
    "sum(duplicated(dc))\n",
    "sum(duplicated(dc$person_id))"
   ]
  },
  {
   "cell_type": "code",
   "execution_count": 30,
   "id": "63213f07-9092-4728-9ad3-9d59f3700efd",
   "metadata": {},
   "outputs": [
    {
     "data": {
      "text/html": [
       "<style>\n",
       ".list-inline {list-style: none; margin:0; padding: 0}\n",
       ".list-inline>li {display: inline-block}\n",
       ".list-inline>li:not(:last-child)::after {content: \"\\00b7\"; padding: 0 .5ex}\n",
       "</style>\n",
       "<ol class=list-inline><li>'person_id'</li><li>'age_t1d_diag'</li><li>'date_t1d_diag'</li><li>'t1d_status'</li><li>'age_t2d_diag'</li><li>'date_t2d_diag'</li><li>'t2d_status'</li><li>'age_earliest_diab'</li><li>'earliest_diabetes_diag'</li><li>'any_diabetes'</li><li>'diab_death_time'</li><li>'diabetes_meds'</li><li>'date_angina_diagnosis'</li><li>'has_angina'</li><li>'date_cardiomyopathy_diagnosis'</li><li>'has_cardiomyopathy'</li><li>'date_heart_failure_diagnosis'</li><li>'has_heart_failure'</li><li>'date_hypertension_diagnosis'</li><li>'has_hypertension'</li><li>'date_ihd_diagnosis'</li><li>'has_ihd'</li><li>'date_mi_diagnosis'</li><li>'has_mi'</li><li>'date_pvd_diagnosis'</li><li>'has_pvd'</li><li>'date_stroke_diagnosis'</li><li>'has_stroke'</li><li>'date_valve_disease_diagnosis'</li><li>'has_valve_disease'</li><li>'birth_datetime'</li><li>'death_datetime'</li><li>'gender'</li><li>'ethnicity'</li><li>'imd_decile'</li></ol>\n"
      ],
      "text/latex": [
       "\\begin{enumerate*}\n",
       "\\item 'person\\_id'\n",
       "\\item 'age\\_t1d\\_diag'\n",
       "\\item 'date\\_t1d\\_diag'\n",
       "\\item 't1d\\_status'\n",
       "\\item 'age\\_t2d\\_diag'\n",
       "\\item 'date\\_t2d\\_diag'\n",
       "\\item 't2d\\_status'\n",
       "\\item 'age\\_earliest\\_diab'\n",
       "\\item 'earliest\\_diabetes\\_diag'\n",
       "\\item 'any\\_diabetes'\n",
       "\\item 'diab\\_death\\_time'\n",
       "\\item 'diabetes\\_meds'\n",
       "\\item 'date\\_angina\\_diagnosis'\n",
       "\\item 'has\\_angina'\n",
       "\\item 'date\\_cardiomyopathy\\_diagnosis'\n",
       "\\item 'has\\_cardiomyopathy'\n",
       "\\item 'date\\_heart\\_failure\\_diagnosis'\n",
       "\\item 'has\\_heart\\_failure'\n",
       "\\item 'date\\_hypertension\\_diagnosis'\n",
       "\\item 'has\\_hypertension'\n",
       "\\item 'date\\_ihd\\_diagnosis'\n",
       "\\item 'has\\_ihd'\n",
       "\\item 'date\\_mi\\_diagnosis'\n",
       "\\item 'has\\_mi'\n",
       "\\item 'date\\_pvd\\_diagnosis'\n",
       "\\item 'has\\_pvd'\n",
       "\\item 'date\\_stroke\\_diagnosis'\n",
       "\\item 'has\\_stroke'\n",
       "\\item 'date\\_valve\\_disease\\_diagnosis'\n",
       "\\item 'has\\_valve\\_disease'\n",
       "\\item 'birth\\_datetime'\n",
       "\\item 'death\\_datetime'\n",
       "\\item 'gender'\n",
       "\\item 'ethnicity'\n",
       "\\item 'imd\\_decile'\n",
       "\\end{enumerate*}\n"
      ],
      "text/markdown": [
       "1. 'person_id'\n",
       "2. 'age_t1d_diag'\n",
       "3. 'date_t1d_diag'\n",
       "4. 't1d_status'\n",
       "5. 'age_t2d_diag'\n",
       "6. 'date_t2d_diag'\n",
       "7. 't2d_status'\n",
       "8. 'age_earliest_diab'\n",
       "9. 'earliest_diabetes_diag'\n",
       "10. 'any_diabetes'\n",
       "11. 'diab_death_time'\n",
       "12. 'diabetes_meds'\n",
       "13. 'date_angina_diagnosis'\n",
       "14. 'has_angina'\n",
       "15. 'date_cardiomyopathy_diagnosis'\n",
       "16. 'has_cardiomyopathy'\n",
       "17. 'date_heart_failure_diagnosis'\n",
       "18. 'has_heart_failure'\n",
       "19. 'date_hypertension_diagnosis'\n",
       "20. 'has_hypertension'\n",
       "21. 'date_ihd_diagnosis'\n",
       "22. 'has_ihd'\n",
       "23. 'date_mi_diagnosis'\n",
       "24. 'has_mi'\n",
       "25. 'date_pvd_diagnosis'\n",
       "26. 'has_pvd'\n",
       "27. 'date_stroke_diagnosis'\n",
       "28. 'has_stroke'\n",
       "29. 'date_valve_disease_diagnosis'\n",
       "30. 'has_valve_disease'\n",
       "31. 'birth_datetime'\n",
       "32. 'death_datetime'\n",
       "33. 'gender'\n",
       "34. 'ethnicity'\n",
       "35. 'imd_decile'\n",
       "\n",
       "\n"
      ],
      "text/plain": [
       " [1] \"person_id\"                     \"age_t1d_diag\"                 \n",
       " [3] \"date_t1d_diag\"                 \"t1d_status\"                   \n",
       " [5] \"age_t2d_diag\"                  \"date_t2d_diag\"                \n",
       " [7] \"t2d_status\"                    \"age_earliest_diab\"            \n",
       " [9] \"earliest_diabetes_diag\"        \"any_diabetes\"                 \n",
       "[11] \"diab_death_time\"               \"diabetes_meds\"                \n",
       "[13] \"date_angina_diagnosis\"         \"has_angina\"                   \n",
       "[15] \"date_cardiomyopathy_diagnosis\" \"has_cardiomyopathy\"           \n",
       "[17] \"date_heart_failure_diagnosis\"  \"has_heart_failure\"            \n",
       "[19] \"date_hypertension_diagnosis\"   \"has_hypertension\"             \n",
       "[21] \"date_ihd_diagnosis\"            \"has_ihd\"                      \n",
       "[23] \"date_mi_diagnosis\"             \"has_mi\"                       \n",
       "[25] \"date_pvd_diagnosis\"            \"has_pvd\"                      \n",
       "[27] \"date_stroke_diagnosis\"         \"has_stroke\"                   \n",
       "[29] \"date_valve_disease_diagnosis\"  \"has_valve_disease\"            \n",
       "[31] \"birth_datetime\"                \"death_datetime\"               \n",
       "[33] \"gender\"                        \"ethnicity\"                    \n",
       "[35] \"imd_decile\"                   "
      ]
     },
     "metadata": {},
     "output_type": "display_data"
    }
   ],
   "source": [
    "colnames(dc)"
   ]
  },
  {
   "cell_type": "code",
   "execution_count": 31,
   "id": "6538524a-584a-42a9-b19a-55d43e7c52d4",
   "metadata": {},
   "outputs": [
    {
     "data": {
      "text/html": [
       "<table class=\"dataframe\">\n",
       "<caption>A tibble: 6 × 39</caption>\n",
       "<thead>\n",
       "\t<tr><th scope=col>person_id</th><th scope=col>age_t1d_diag</th><th scope=col>date_t1d_diag</th><th scope=col>t1d_status</th><th scope=col>age_t2d_diag</th><th scope=col>date_t2d_diag</th><th scope=col>t2d_status</th><th scope=col>age_earliest_diab</th><th scope=col>earliest_diabetes_diag</th><th scope=col>any_diabetes</th><th scope=col>⋯</th><th scope=col>has_valve_disease</th><th scope=col>birth_datetime</th><th scope=col>death_datetime</th><th scope=col>gender</th><th scope=col>ethnicity</th><th scope=col>imd_decile</th><th scope=col>date_earliest_cvd</th><th scope=col>diab_cvd_time</th><th scope=col>cvd_death_time</th><th scope=col>has_cvd</th></tr>\n",
       "\t<tr><th scope=col>&lt;int&gt;</th><th scope=col>&lt;int&gt;</th><th scope=col>&lt;date&gt;</th><th scope=col>&lt;int&gt;</th><th scope=col>&lt;int&gt;</th><th scope=col>&lt;date&gt;</th><th scope=col>&lt;int&gt;</th><th scope=col>&lt;int&gt;</th><th scope=col>&lt;date&gt;</th><th scope=col>&lt;int&gt;</th><th scope=col>⋯</th><th scope=col>&lt;int&gt;</th><th scope=col>&lt;date&gt;</th><th scope=col>&lt;date&gt;</th><th scope=col>&lt;int&gt;</th><th scope=col>&lt;int&gt;</th><th scope=col>&lt;int&gt;</th><th scope=col>&lt;date&gt;</th><th scope=col>&lt;int&gt;</th><th scope=col>&lt;int&gt;</th><th scope=col>&lt;dbl&gt;</th></tr>\n",
       "</thead>\n",
       "<tbody>\n",
       "\t<tr><td>13548546</td><td>60</td><td>2007-01-11</td><td>1</td><td>NA</td><td>NA</td><td>0</td><td>60</td><td>2007-01-11</td><td>1</td><td>⋯</td><td>0</td><td>1946-11-15</td><td>2008-07-15</td><td>1</td><td>1</td><td>5</td><td>NA</td><td>  NA</td><td>  NA</td><td>0</td></tr>\n",
       "\t<tr><td>12975170</td><td>80</td><td>2020-04-28</td><td>1</td><td>NA</td><td>NA</td><td>0</td><td>80</td><td>2020-04-28</td><td>1</td><td>⋯</td><td>0</td><td>1939-11-15</td><td>2020-05-15</td><td>1</td><td>1</td><td>1</td><td>2013-03-05</td><td>2611</td><td>2628</td><td>1</td></tr>\n",
       "\t<tr><td>13450523</td><td>36</td><td>2011-10-13</td><td>1</td><td>NA</td><td>NA</td><td>0</td><td>36</td><td>2011-10-13</td><td>1</td><td>⋯</td><td>0</td><td>1975-08-15</td><td>2018-12-15</td><td>1</td><td>1</td><td>4</td><td>NA</td><td>  NA</td><td>  NA</td><td>0</td></tr>\n",
       "\t<tr><td>12431500</td><td>75</td><td>2011-08-16</td><td>1</td><td>NA</td><td>NA</td><td>0</td><td>75</td><td>2011-08-16</td><td>1</td><td>⋯</td><td>0</td><td>1936-05-15</td><td>2013-01-15</td><td>1</td><td>1</td><td>1</td><td>2012-01-04</td><td> 141</td><td> 377</td><td>1</td></tr>\n",
       "\t<tr><td>13235332</td><td>47</td><td>2007-07-05</td><td>1</td><td>NA</td><td>NA</td><td>0</td><td>47</td><td>2007-07-05</td><td>1</td><td>⋯</td><td>0</td><td>1960-03-15</td><td>2013-09-15</td><td>1</td><td>1</td><td>1</td><td>NA</td><td>  NA</td><td>  NA</td><td>0</td></tr>\n",
       "\t<tr><td>12805324</td><td>39</td><td>2008-04-08</td><td>1</td><td>NA</td><td>NA</td><td>0</td><td>39</td><td>2008-04-08</td><td>1</td><td>⋯</td><td>0</td><td>1968-08-15</td><td>2017-03-15</td><td>1</td><td>2</td><td>1</td><td>NA</td><td>  NA</td><td>  NA</td><td>0</td></tr>\n",
       "</tbody>\n",
       "</table>\n"
      ],
      "text/latex": [
       "A tibble: 6 × 39\n",
       "\\begin{tabular}{lllllllllllllllllllll}\n",
       " person\\_id & age\\_t1d\\_diag & date\\_t1d\\_diag & t1d\\_status & age\\_t2d\\_diag & date\\_t2d\\_diag & t2d\\_status & age\\_earliest\\_diab & earliest\\_diabetes\\_diag & any\\_diabetes & ⋯ & has\\_valve\\_disease & birth\\_datetime & death\\_datetime & gender & ethnicity & imd\\_decile & date\\_earliest\\_cvd & diab\\_cvd\\_time & cvd\\_death\\_time & has\\_cvd\\\\\n",
       " <int> & <int> & <date> & <int> & <int> & <date> & <int> & <int> & <date> & <int> & ⋯ & <int> & <date> & <date> & <int> & <int> & <int> & <date> & <int> & <int> & <dbl>\\\\\n",
       "\\hline\n",
       "\t 13548546 & 60 & 2007-01-11 & 1 & NA & NA & 0 & 60 & 2007-01-11 & 1 & ⋯ & 0 & 1946-11-15 & 2008-07-15 & 1 & 1 & 5 & NA &   NA &   NA & 0\\\\\n",
       "\t 12975170 & 80 & 2020-04-28 & 1 & NA & NA & 0 & 80 & 2020-04-28 & 1 & ⋯ & 0 & 1939-11-15 & 2020-05-15 & 1 & 1 & 1 & 2013-03-05 & 2611 & 2628 & 1\\\\\n",
       "\t 13450523 & 36 & 2011-10-13 & 1 & NA & NA & 0 & 36 & 2011-10-13 & 1 & ⋯ & 0 & 1975-08-15 & 2018-12-15 & 1 & 1 & 4 & NA &   NA &   NA & 0\\\\\n",
       "\t 12431500 & 75 & 2011-08-16 & 1 & NA & NA & 0 & 75 & 2011-08-16 & 1 & ⋯ & 0 & 1936-05-15 & 2013-01-15 & 1 & 1 & 1 & 2012-01-04 &  141 &  377 & 1\\\\\n",
       "\t 13235332 & 47 & 2007-07-05 & 1 & NA & NA & 0 & 47 & 2007-07-05 & 1 & ⋯ & 0 & 1960-03-15 & 2013-09-15 & 1 & 1 & 1 & NA &   NA &   NA & 0\\\\\n",
       "\t 12805324 & 39 & 2008-04-08 & 1 & NA & NA & 0 & 39 & 2008-04-08 & 1 & ⋯ & 0 & 1968-08-15 & 2017-03-15 & 1 & 2 & 1 & NA &   NA &   NA & 0\\\\\n",
       "\\end{tabular}\n"
      ],
      "text/markdown": [
       "\n",
       "A tibble: 6 × 39\n",
       "\n",
       "| person_id &lt;int&gt; | age_t1d_diag &lt;int&gt; | date_t1d_diag &lt;date&gt; | t1d_status &lt;int&gt; | age_t2d_diag &lt;int&gt; | date_t2d_diag &lt;date&gt; | t2d_status &lt;int&gt; | age_earliest_diab &lt;int&gt; | earliest_diabetes_diag &lt;date&gt; | any_diabetes &lt;int&gt; | ⋯ ⋯ | has_valve_disease &lt;int&gt; | birth_datetime &lt;date&gt; | death_datetime &lt;date&gt; | gender &lt;int&gt; | ethnicity &lt;int&gt; | imd_decile &lt;int&gt; | date_earliest_cvd &lt;date&gt; | diab_cvd_time &lt;int&gt; | cvd_death_time &lt;int&gt; | has_cvd &lt;dbl&gt; |\n",
       "|---|---|---|---|---|---|---|---|---|---|---|---|---|---|---|---|---|---|---|---|---|\n",
       "| 13548546 | 60 | 2007-01-11 | 1 | NA | NA | 0 | 60 | 2007-01-11 | 1 | ⋯ | 0 | 1946-11-15 | 2008-07-15 | 1 | 1 | 5 | NA |   NA |   NA | 0 |\n",
       "| 12975170 | 80 | 2020-04-28 | 1 | NA | NA | 0 | 80 | 2020-04-28 | 1 | ⋯ | 0 | 1939-11-15 | 2020-05-15 | 1 | 1 | 1 | 2013-03-05 | 2611 | 2628 | 1 |\n",
       "| 13450523 | 36 | 2011-10-13 | 1 | NA | NA | 0 | 36 | 2011-10-13 | 1 | ⋯ | 0 | 1975-08-15 | 2018-12-15 | 1 | 1 | 4 | NA |   NA |   NA | 0 |\n",
       "| 12431500 | 75 | 2011-08-16 | 1 | NA | NA | 0 | 75 | 2011-08-16 | 1 | ⋯ | 0 | 1936-05-15 | 2013-01-15 | 1 | 1 | 1 | 2012-01-04 |  141 |  377 | 1 |\n",
       "| 13235332 | 47 | 2007-07-05 | 1 | NA | NA | 0 | 47 | 2007-07-05 | 1 | ⋯ | 0 | 1960-03-15 | 2013-09-15 | 1 | 1 | 1 | NA |   NA |   NA | 0 |\n",
       "| 12805324 | 39 | 2008-04-08 | 1 | NA | NA | 0 | 39 | 2008-04-08 | 1 | ⋯ | 0 | 1968-08-15 | 2017-03-15 | 1 | 2 | 1 | NA |   NA |   NA | 0 |\n",
       "\n"
      ],
      "text/plain": [
       "  person_id age_t1d_diag date_t1d_diag t1d_status age_t2d_diag date_t2d_diag\n",
       "1 13548546  60           2007-01-11    1          NA           <NA>         \n",
       "2 12975170  80           2020-04-28    1          NA           <NA>         \n",
       "3 13450523  36           2011-10-13    1          NA           <NA>         \n",
       "4 12431500  75           2011-08-16    1          NA           <NA>         \n",
       "5 13235332  47           2007-07-05    1          NA           <NA>         \n",
       "6 12805324  39           2008-04-08    1          NA           <NA>         \n",
       "  t2d_status age_earliest_diab earliest_diabetes_diag any_diabetes ⋯\n",
       "1 0          60                2007-01-11             1            ⋯\n",
       "2 0          80                2020-04-28             1            ⋯\n",
       "3 0          36                2011-10-13             1            ⋯\n",
       "4 0          75                2011-08-16             1            ⋯\n",
       "5 0          47                2007-07-05             1            ⋯\n",
       "6 0          39                2008-04-08             1            ⋯\n",
       "  has_valve_disease birth_datetime death_datetime gender ethnicity imd_decile\n",
       "1 0                 1946-11-15     2008-07-15     1      1         5         \n",
       "2 0                 1939-11-15     2020-05-15     1      1         1         \n",
       "3 0                 1975-08-15     2018-12-15     1      1         4         \n",
       "4 0                 1936-05-15     2013-01-15     1      1         1         \n",
       "5 0                 1960-03-15     2013-09-15     1      1         1         \n",
       "6 0                 1968-08-15     2017-03-15     1      2         1         \n",
       "  date_earliest_cvd diab_cvd_time cvd_death_time has_cvd\n",
       "1 <NA>                NA            NA           0      \n",
       "2 2013-03-05        2611          2628           1      \n",
       "3 <NA>                NA            NA           0      \n",
       "4 2012-01-04         141           377           1      \n",
       "5 <NA>                NA            NA           0      \n",
       "6 <NA>                NA            NA           0      "
      ]
     },
     "metadata": {},
     "output_type": "display_data"
    }
   ],
   "source": [
    "# Create variable for time between:\n",
    "\n",
    "dc <- dc %>%\n",
    "    mutate(date_earliest_cvd = pmin(date_angina_diagnosis, date_cardiomyopathy_diagnosis,\n",
    "                               date_heart_failure_diagnosis, date_hypertension_diagnosis,\n",
    "                              date_ihd_diagnosis, date_mi_diagnosis, date_pvd_diagnosis,\n",
    "                              date_stroke_diagnosis, date_valve_disease_diagnosis, na.rm = TRUE),\n",
    "# Diabetes and CVD\n",
    "    diab_cvd_time = abs(difftime(earliest_diabetes_diag, date_earliest_cvd, units = \"days\")),\n",
    "# CVD and Death\n",
    "          cvd_death_time = abs(difftime(date_earliest_cvd, death_datetime, units = \"days\")),\n",
    "          has_cvd = ifelse(has_angina == 1 | has_cardiomyopathy == 1 | has_heart_failure == 1 |\n",
    "                           has_hypertension == 1 | has_ihd == 1 | has_mi == 1 | has_pvd == 1 |\n",
    "                           has_stroke == 1 | has_valve_disease == 1, 1,0)) %>%\n",
    "        mutate(diab_cvd_time = as.integer(diab_cvd_time),\n",
    "               diab_death_time = as.integer(diab_death_time),\n",
    "               cvd_death_time = as.integer(cvd_death_time))\n",
    "\n",
    "head(dc)"
   ]
  },
  {
   "cell_type": "code",
   "execution_count": 32,
   "id": "f41d9b09-b5d8-4e95-8fca-a115e01aca86",
   "metadata": {},
   "outputs": [
    {
     "data": {
      "text/html": [
       "0"
      ],
      "text/latex": [
       "0"
      ],
      "text/markdown": [
       "0"
      ],
      "text/plain": [
       "[1] 0"
      ]
     },
     "metadata": {},
     "output_type": "display_data"
    },
    {
     "data": {
      "text/html": [
       "0"
      ],
      "text/latex": [
       "0"
      ],
      "text/markdown": [
       "0"
      ],
      "text/plain": [
       "[1] 0"
      ]
     },
     "metadata": {},
     "output_type": "display_data"
    }
   ],
   "source": [
    "sum(duplicated(covars))\n",
    "sum(duplicated(covars$person_id))"
   ]
  },
  {
   "cell_type": "code",
   "execution_count": 33,
   "id": "512bc974-d76d-45f6-b9c4-7b881d96764e",
   "metadata": {},
   "outputs": [],
   "source": [
    "# Join covariates to diabetes dataset\n",
    "dc <- left_join(dc, covars, by = c(\"person_id\"))"
   ]
  },
  {
   "cell_type": "code",
   "execution_count": 34,
   "id": "77c177a9-af46-436d-9f25-fee3dcb4c831",
   "metadata": {},
   "outputs": [],
   "source": [
    "# Change IMD to IMD QUINTILE i.e. combine 1+2 = 1, 3+4 = 2, 5+6 = 3, 7+8 = 4, 9+10 = 5\n",
    "dc <- dc %>%\n",
    "    mutate(imd_quintile = case_when(\n",
    "    imd_decile == 1 | imd_decile == 2 ~ 1,\n",
    "    imd_decile == 3 | imd_decile == 4 ~ 2,\n",
    "    imd_decile == 5 | imd_decile == 6 ~ 3,\n",
    "    imd_decile == 7 | imd_decile == 8 ~ 4,\n",
    "    imd_decile == 9 | imd_decile == 10 ~ 5))\n"
   ]
  },
  {
   "cell_type": "code",
   "execution_count": 35,
   "id": "9f2a359d-2777-4a5b-9a89-391ee473b2cd",
   "metadata": {},
   "outputs": [
    {
     "data": {
      "text/html": [
       "44250"
      ],
      "text/latex": [
       "44250"
      ],
      "text/markdown": [
       "44250"
      ],
      "text/plain": [
       "[1] 44250"
      ]
     },
     "metadata": {},
     "output_type": "display_data"
    },
    {
     "data": {
      "text/html": [
       "2166"
      ],
      "text/latex": [
       "2166"
      ],
      "text/markdown": [
       "2166"
      ],
      "text/plain": [
       "[1] 2166"
      ]
     },
     "metadata": {},
     "output_type": "display_data"
    },
    {
     "data": {
      "text/html": [
       "42589"
      ],
      "text/latex": [
       "42589"
      ],
      "text/markdown": [
       "42589"
      ],
      "text/plain": [
       "[1] 42589"
      ]
     },
     "metadata": {},
     "output_type": "display_data"
    }
   ],
   "source": [
    "# Total number of those with any diabetes, t1d or t2d diabetes\n",
    "any_diabetes_n <- sum(dc$any_diabetes == 1, na.rm = TRUE)\n",
    "t1d_n <- sum(dc$t1d_status == 1, na.rm = TRUE)\n",
    "t2d_n <- sum(dc$t2d_status == 1, na.rm = TRUE)\n",
    "\n",
    "any_diabetes_n\n",
    "t1d_n\n",
    "t2d_n"
   ]
  },
  {
   "cell_type": "code",
   "execution_count": 36,
   "id": "bbe80935-a9f1-4d2b-afac-a229ecf285c6",
   "metadata": {},
   "outputs": [
    {
     "data": {
      "text/html": [
       "<time datetime=\"2022-09-27\">2022-09-27</time>"
      ],
      "text/latex": [
       "2022-09-27"
      ],
      "text/markdown": [
       "2022-09-27"
      ],
      "text/plain": [
       "[1] \"2022-09-27\""
      ]
     },
     "metadata": {},
     "output_type": "display_data"
    }
   ],
   "source": [
    "max(dc$date_t2d_diag,na.rm=TRUE)"
   ]
  },
  {
   "cell_type": "code",
   "execution_count": 15,
   "id": "ad745284-9c5e-4bfe-95d4-edfaa85ed01c",
   "metadata": {},
   "outputs": [
    {
     "data": {
      "text/html": [
       "<table class=\"dataframe\">\n",
       "<caption>A data.frame: 19 × 4</caption>\n",
       "<thead>\n",
       "\t<tr><th scope=col>age</th><th scope=col>any_diabetes</th><th scope=col>t1d_diabetes</th><th scope=col>t2d_diabetes</th></tr>\n",
       "\t<tr><th scope=col>&lt;chr&gt;</th><th scope=col>&lt;chr&gt;</th><th scope=col>&lt;chr&gt;</th><th scope=col>&lt;chr&gt;</th></tr>\n",
       "</thead>\n",
       "<tbody>\n",
       "\t<tr><td>Mean (SD)</td><td>57 (15)     </td><td>36 (21)    </td><td>58 (14)     </td></tr>\n",
       "\t<tr><td><span style=white-space:pre-wrap>&lt;20      </span></td><td><span style=white-space:pre-wrap>705 (1.59)  </span></td><td>557 (25.72)</td><td><span style=white-space:pre-wrap>173 (0.41)  </span></td></tr>\n",
       "\t<tr><td>20-24    </td><td>397 (0.9)   </td><td>165 (7.62) </td><td>243 (0.57)  </td></tr>\n",
       "\t<tr><td>25-29    </td><td>780 (1.76)  </td><td>175 (8.08) </td><td>624 (1.47)  </td></tr>\n",
       "\t<tr><td>30-34    </td><td>1466 (3.31) </td><td>163 (7.53) </td><td>1330 (3.12) </td></tr>\n",
       "\t<tr><td>35-39    </td><td>2318 (5.24) </td><td>154 (7.11) </td><td>2192 (5.15) </td></tr>\n",
       "\t<tr><td>40-44    </td><td>3434 (7.76) </td><td>149 (6.88) </td><td>3326 (7.81) </td></tr>\n",
       "\t<tr><td>45-49    </td><td>4258 (9.62) </td><td>177 (8.17) </td><td>4131 (9.7)  </td></tr>\n",
       "\t<tr><td>50-54    </td><td>5032 (11.37)</td><td>149 (6.88) </td><td>4940 (11.6) </td></tr>\n",
       "\t<tr><td>55-59    </td><td>5322 (12.03)</td><td>112 (5.17) </td><td>5263 (12.36)</td></tr>\n",
       "\t<tr><td>60-64    </td><td>5015 (11.33)</td><td>108 (4.99) </td><td>4949 (11.62)</td></tr>\n",
       "\t<tr><td>65-69    </td><td>4564 (10.31)</td><td>83 (3.83)  </td><td>4519 (10.61)</td></tr>\n",
       "\t<tr><td>70-74    </td><td>4226 (9.55) </td><td>68 (3.14)  </td><td>4198 (9.86) </td></tr>\n",
       "\t<tr><td>75-79    </td><td>3304 (7.47) </td><td>50 (2.31)  </td><td>3291 (7.73) </td></tr>\n",
       "\t<tr><td>80-84    </td><td>2076 (4.69) </td><td>34 (1.57)  </td><td>2066 (4.85) </td></tr>\n",
       "\t<tr><td>85-89    </td><td>981 (2.22)  </td><td>15 (0.69)  </td><td>978 (2.3)   </td></tr>\n",
       "\t<tr><td>90-94    </td><td>312 (0.71)  </td><td>7 (0.32)   </td><td>306 (0.72)  </td></tr>\n",
       "\t<tr><td>95-99    </td><td>50 (0.11)   </td><td>0 (0)      </td><td>50 (0.12)   </td></tr>\n",
       "\t<tr><td>100+     </td><td>10 (0.02)   </td><td>0 (0)      </td><td>10 (0.02)   </td></tr>\n",
       "</tbody>\n",
       "</table>\n"
      ],
      "text/latex": [
       "A data.frame: 19 × 4\n",
       "\\begin{tabular}{llll}\n",
       " age & any\\_diabetes & t1d\\_diabetes & t2d\\_diabetes\\\\\n",
       " <chr> & <chr> & <chr> & <chr>\\\\\n",
       "\\hline\n",
       "\t Mean (SD) & 57 (15)      & 36 (21)     & 58 (14)     \\\\\n",
       "\t <20       & 705 (1.59)   & 557 (25.72) & 173 (0.41)  \\\\\n",
       "\t 20-24     & 397 (0.9)    & 165 (7.62)  & 243 (0.57)  \\\\\n",
       "\t 25-29     & 780 (1.76)   & 175 (8.08)  & 624 (1.47)  \\\\\n",
       "\t 30-34     & 1466 (3.31)  & 163 (7.53)  & 1330 (3.12) \\\\\n",
       "\t 35-39     & 2318 (5.24)  & 154 (7.11)  & 2192 (5.15) \\\\\n",
       "\t 40-44     & 3434 (7.76)  & 149 (6.88)  & 3326 (7.81) \\\\\n",
       "\t 45-49     & 4258 (9.62)  & 177 (8.17)  & 4131 (9.7)  \\\\\n",
       "\t 50-54     & 5032 (11.37) & 149 (6.88)  & 4940 (11.6) \\\\\n",
       "\t 55-59     & 5322 (12.03) & 112 (5.17)  & 5263 (12.36)\\\\\n",
       "\t 60-64     & 5015 (11.33) & 108 (4.99)  & 4949 (11.62)\\\\\n",
       "\t 65-69     & 4564 (10.31) & 83 (3.83)   & 4519 (10.61)\\\\\n",
       "\t 70-74     & 4226 (9.55)  & 68 (3.14)   & 4198 (9.86) \\\\\n",
       "\t 75-79     & 3304 (7.47)  & 50 (2.31)   & 3291 (7.73) \\\\\n",
       "\t 80-84     & 2076 (4.69)  & 34 (1.57)   & 2066 (4.85) \\\\\n",
       "\t 85-89     & 981 (2.22)   & 15 (0.69)   & 978 (2.3)   \\\\\n",
       "\t 90-94     & 312 (0.71)   & 7 (0.32)    & 306 (0.72)  \\\\\n",
       "\t 95-99     & 50 (0.11)    & 0 (0)       & 50 (0.12)   \\\\\n",
       "\t 100+      & 10 (0.02)    & 0 (0)       & 10 (0.02)   \\\\\n",
       "\\end{tabular}\n"
      ],
      "text/markdown": [
       "\n",
       "A data.frame: 19 × 4\n",
       "\n",
       "| age &lt;chr&gt; | any_diabetes &lt;chr&gt; | t1d_diabetes &lt;chr&gt; | t2d_diabetes &lt;chr&gt; |\n",
       "|---|---|---|---|\n",
       "| Mean (SD) | 57 (15)      | 36 (21)     | 58 (14)      |\n",
       "| &lt;20       | 705 (1.59)   | 557 (25.72) | 173 (0.41)   |\n",
       "| 20-24     | 397 (0.9)    | 165 (7.62)  | 243 (0.57)   |\n",
       "| 25-29     | 780 (1.76)   | 175 (8.08)  | 624 (1.47)   |\n",
       "| 30-34     | 1466 (3.31)  | 163 (7.53)  | 1330 (3.12)  |\n",
       "| 35-39     | 2318 (5.24)  | 154 (7.11)  | 2192 (5.15)  |\n",
       "| 40-44     | 3434 (7.76)  | 149 (6.88)  | 3326 (7.81)  |\n",
       "| 45-49     | 4258 (9.62)  | 177 (8.17)  | 4131 (9.7)   |\n",
       "| 50-54     | 5032 (11.37) | 149 (6.88)  | 4940 (11.6)  |\n",
       "| 55-59     | 5322 (12.03) | 112 (5.17)  | 5263 (12.36) |\n",
       "| 60-64     | 5015 (11.33) | 108 (4.99)  | 4949 (11.62) |\n",
       "| 65-69     | 4564 (10.31) | 83 (3.83)   | 4519 (10.61) |\n",
       "| 70-74     | 4226 (9.55)  | 68 (3.14)   | 4198 (9.86)  |\n",
       "| 75-79     | 3304 (7.47)  | 50 (2.31)   | 3291 (7.73)  |\n",
       "| 80-84     | 2076 (4.69)  | 34 (1.57)   | 2066 (4.85)  |\n",
       "| 85-89     | 981 (2.22)   | 15 (0.69)   | 978 (2.3)    |\n",
       "| 90-94     | 312 (0.71)   | 7 (0.32)    | 306 (0.72)   |\n",
       "| 95-99     | 50 (0.11)    | 0 (0)       | 50 (0.12)    |\n",
       "| 100+      | 10 (0.02)    | 0 (0)       | 10 (0.02)    |\n",
       "\n"
      ],
      "text/plain": [
       "   age       any_diabetes t1d_diabetes t2d_diabetes\n",
       "1  Mean (SD) 57 (15)      36 (21)      58 (14)     \n",
       "2  <20       705 (1.59)   557 (25.72)  173 (0.41)  \n",
       "3  20-24     397 (0.9)    165 (7.62)   243 (0.57)  \n",
       "4  25-29     780 (1.76)   175 (8.08)   624 (1.47)  \n",
       "5  30-34     1466 (3.31)  163 (7.53)   1330 (3.12) \n",
       "6  35-39     2318 (5.24)  154 (7.11)   2192 (5.15) \n",
       "7  40-44     3434 (7.76)  149 (6.88)   3326 (7.81) \n",
       "8  45-49     4258 (9.62)  177 (8.17)   4131 (9.7)  \n",
       "9  50-54     5032 (11.37) 149 (6.88)   4940 (11.6) \n",
       "10 55-59     5322 (12.03) 112 (5.17)   5263 (12.36)\n",
       "11 60-64     5015 (11.33) 108 (4.99)   4949 (11.62)\n",
       "12 65-69     4564 (10.31) 83 (3.83)    4519 (10.61)\n",
       "13 70-74     4226 (9.55)  68 (3.14)    4198 (9.86) \n",
       "14 75-79     3304 (7.47)  50 (2.31)    3291 (7.73) \n",
       "15 80-84     2076 (4.69)  34 (1.57)    2066 (4.85) \n",
       "16 85-89     981 (2.22)   15 (0.69)    978 (2.3)   \n",
       "17 90-94     312 (0.71)   7 (0.32)     306 (0.72)  \n",
       "18 95-99     50 (0.11)    0 (0)        50 (0.12)   \n",
       "19 100+      10 (0.02)    0 (0)        10 (0.02)   "
      ]
     },
     "metadata": {},
     "output_type": "display_data"
    }
   ],
   "source": [
    "# Descriptive Stats\n",
    "# Age at diagnosis of any diabetes\n",
    "any_mean <- floor(mean(dc$age_earliest_diab, na.rm=TRUE))\n",
    "any_sd <- floor(sd(dc$age_earliest_diab, na.rm=TRUE))\n",
    "any_ms <- paste0(any_mean,\" (\",any_sd,\")\")\n",
    "any_1 <- sum(dc$age_earliest_diab < 20, na.rm = TRUE)\n",
    "any_1_p <- round((any_1/any_diabetes_n)*100,2)\n",
    "any1 <- paste0(any_1,\" (\",any_1_p,\")\")\n",
    "any_2 <- sum(dc$age_earliest_diab >= 20 & dc$age_earliest_diab <= 24, na.rm = TRUE)\n",
    "any_2_p <- round((any_2/any_diabetes_n)*100,2)\n",
    "any2 <- paste0(any_2,\" (\",any_2_p,\")\")\n",
    "any_3 <- sum(dc$age_earliest_diab >= 25 & dc$age_earliest_diab <= 29, na.rm = TRUE)\n",
    "any_3_p <- round((any_3/any_diabetes_n)*100,2)\n",
    "any3 <- paste0(any_3,\" (\",any_3_p,\")\")\n",
    "any_4 <- sum(dc$age_earliest_diab >= 30 & dc$age_earliest_diab <= 34, na.rm = TRUE)\n",
    "any_4_p <- round((any_4/any_diabetes_n)*100,2)\n",
    "any4 <- paste0(any_4,\" (\",any_4_p,\")\")\n",
    "any_5 <- sum(dc$age_earliest_diab >= 35 & dc$age_earliest_diab <= 39, na.rm = TRUE)\n",
    "any_5_p <- round((any_5/any_diabetes_n)*100,2)\n",
    "any5 <- paste0(any_5,\" (\",any_5_p,\")\")\n",
    "any_6 <- sum(dc$age_earliest_diab >= 40 & dc$age_earliest_diab <= 44, na.rm = TRUE)\n",
    "any_6_p <- round((any_6/any_diabetes_n)*100,2)\n",
    "any6 <- paste0(any_6,\" (\",any_6_p,\")\")\n",
    "any_7 <- sum(dc$age_earliest_diab >= 45 & dc$age_earliest_diab <= 49, na.rm = TRUE)\n",
    "any_7_p <- round((any_7/any_diabetes_n)*100,2)\n",
    "any7 <- paste0(any_7,\" (\",any_7_p,\")\")\n",
    "any_8 <- sum(dc$age_earliest_diab >= 50 & dc$age_earliest_diab <= 54, na.rm = TRUE)\n",
    "any_8_p <- round((any_8/any_diabetes_n)*100,2)\n",
    "any8 <- paste0(any_8,\" (\",any_8_p,\")\")\n",
    "any_9 <- sum(dc$age_earliest_diab >= 55 & dc$age_earliest_diab <= 59, na.rm = TRUE)\n",
    "any_9_p <- round((any_9/any_diabetes_n)*100,2)\n",
    "any9 <- paste0(any_9,\" (\",any_9_p,\")\")\n",
    "any_10 <- sum(dc$age_earliest_diab >= 60 & dc$age_earliest_diab <= 64, na.rm = TRUE)\n",
    "any_10_p <- round((any_10/any_diabetes_n)*100,2)\n",
    "any10 <- paste0(any_10,\" (\",any_10_p,\")\")\n",
    "any_11 <- sum(dc$age_earliest_diab >= 65 & dc$age_earliest_diab <= 69, na.rm = TRUE)\n",
    "any_11_p <- round((any_11/any_diabetes_n)*100,2)\n",
    "any11 <- paste0(any_11,\" (\",any_11_p,\")\")\n",
    "any_12 <- sum(dc$age_earliest_diab >= 70 & dc$age_earliest_diab <= 74, na.rm = TRUE)\n",
    "any_12_p <- round((any_12/any_diabetes_n)*100,2)\n",
    "any12 <- paste0(any_12,\" (\",any_12_p,\")\")\n",
    "any_13 <- sum(dc$age_earliest_diab >= 75 & dc$age_earliest_diab <= 79, na.rm = TRUE)\n",
    "any_13_p <- round((any_13/any_diabetes_n)*100,2)\n",
    "any13 <- paste0(any_13,\" (\",any_13_p,\")\")\n",
    "any_14 <- sum(dc$age_earliest_diab >= 80 & dc$age_earliest_diab <= 84, na.rm = TRUE)\n",
    "any_14_p <- round((any_14/any_diabetes_n)*100,2)\n",
    "any14 <- paste0(any_14,\" (\",any_14_p,\")\")\n",
    "any_15 <- sum(dc$age_earliest_diab >= 85 & dc$age_earliest_diab <= 89, na.rm = TRUE)\n",
    "any_15_p <- round((any_15/any_diabetes_n)*100,2)\n",
    "any15 <- paste0(any_15,\" (\",any_15_p,\")\")\n",
    "any_16 <- sum(dc$age_earliest_diab >= 90 & dc$age_earliest_diab <= 94, na.rm = TRUE)\n",
    "any_16_p <- round((any_16/any_diabetes_n)*100,2)\n",
    "any16 <- paste0(any_16,\" (\",any_16_p,\")\")\n",
    "any_17 <- sum(dc$age_earliest_diab >= 95 & dc$age_earliest_diab <= 99, na.rm = TRUE)\n",
    "any_17_p <- round((any_17/any_diabetes_n)*100,2)\n",
    "any17 <- paste0(any_17,\" (\",any_17_p,\")\")\n",
    "any_18 <- sum(dc$age_earliest_diab >= 100, na.rm = TRUE)\n",
    "any_18_p <- round((any_18/any_diabetes_n)*100,2)\n",
    "any18 <- paste0(any_18,\" (\",any_18_p,\")\")\n",
    "\n",
    "# Age at diagnosis of type 1 diabetes\n",
    "t1d_mean <- floor(mean(dc$age_t1d_diag, na.rm=TRUE))\n",
    "t1d_sd <- floor(sd(dc$age_t1d_diag, na.rm=TRUE))\n",
    "t1d_ms <- paste0(t1d_mean,\" (\",t1d_sd,\")\")\n",
    "t1d_1 <- sum(dc$age_t1d_diag < 20, na.rm = TRUE)\n",
    "t1d_1_p <- round((t1d_1/t1d_n)*100,2)\n",
    "t1d1 <- paste0(t1d_1,\" (\",t1d_1_p,\")\")\n",
    "t1d_2 <- sum(dc$age_t1d_diag >= 20 & dc$age_t1d_diag <= 24, na.rm = TRUE)\n",
    "t1d_2_p <- round((t1d_2/t1d_n)*100,2)\n",
    "t1d2 <- paste0(t1d_2,\" (\",t1d_2_p,\")\")\n",
    "t1d_3 <- sum(dc$age_t1d_diag >= 25 & dc$age_t1d_diag <= 29, na.rm = TRUE)\n",
    "t1d_3_p <- round((t1d_3/t1d_n)*100,2)\n",
    "t1d3 <- paste0(t1d_3,\" (\",t1d_3_p,\")\")\n",
    "t1d_4 <- sum(dc$age_t1d_diag >= 30 & dc$age_t1d_diag <= 34, na.rm = TRUE)\n",
    "t1d_4_p <- round((t1d_4/t1d_n)*100,2)\n",
    "t1d4 <- paste0(t1d_4,\" (\",t1d_4_p,\")\")\n",
    "t1d_5 <- sum(dc$age_t1d_diag >= 35 & dc$age_t1d_diag <= 39, na.rm = TRUE)\n",
    "t1d_5_p <- round((t1d_5/t1d_n)*100,2)\n",
    "t1d5 <- paste0(t1d_5,\" (\",t1d_5_p,\")\")\n",
    "t1d_6 <- sum(dc$age_t1d_diag >= 40 & dc$age_t1d_diag <= 44, na.rm = TRUE)\n",
    "t1d_6_p <- round((t1d_6/t1d_n)*100,2)\n",
    "t1d6 <- paste0(t1d_6,\" (\",t1d_6_p,\")\")\n",
    "t1d_7 <- sum(dc$age_t1d_diag >= 45 & dc$age_t1d_diag <= 49, na.rm = TRUE)\n",
    "t1d_7_p <- round((t1d_7/t1d_n)*100,2)\n",
    "t1d7 <- paste0(t1d_7,\" (\",t1d_7_p,\")\")\n",
    "t1d_8 <- sum(dc$age_t1d_diag >= 50 & dc$age_t1d_diag <= 54, na.rm = TRUE)\n",
    "t1d_8_p <- round((t1d_8/t1d_n)*100,2)\n",
    "t1d8 <- paste0(t1d_8,\" (\",t1d_8_p,\")\")\n",
    "t1d_9 <- sum(dc$age_t1d_diag >= 55 & dc$age_t1d_diag <= 59, na.rm = TRUE)\n",
    "t1d_9_p <- round((t1d_9/t1d_n)*100,2)\n",
    "t1d9 <- paste0(t1d_9,\" (\",t1d_9_p,\")\")\n",
    "t1d_10 <- sum(dc$age_t1d_diag >= 60 & dc$age_t1d_diag <= 64, na.rm = TRUE)\n",
    "t1d_10_p <- round((t1d_10/t1d_n)*100,2)\n",
    "t1d10 <- paste0(t1d_10,\" (\",t1d_10_p,\")\")\n",
    "t1d_11 <- sum(dc$age_t1d_diag >= 65 & dc$age_t1d_diag <= 69, na.rm = TRUE)\n",
    "t1d_11_p <- round((t1d_11/t1d_n)*100,2)\n",
    "t1d11 <- paste0(t1d_11,\" (\",t1d_11_p,\")\")\n",
    "t1d_12 <- sum(dc$age_t1d_diag >= 70 & dc$age_t1d_diag <= 74, na.rm = TRUE)\n",
    "t1d_12_p <- round((t1d_12/t1d_n)*100,2)\n",
    "t1d12 <- paste0(t1d_12,\" (\",t1d_12_p,\")\")\n",
    "t1d_13 <- sum(dc$age_t1d_diag >= 75 & dc$age_t1d_diag <= 79, na.rm = TRUE)\n",
    "t1d_13_p <- round((t1d_13/t1d_n)*100,2)\n",
    "t1d13 <- paste0(t1d_13,\" (\",t1d_13_p,\")\")\n",
    "t1d_14 <- sum(dc$age_t1d_diag >= 80 & dc$age_t1d_diag <= 84, na.rm = TRUE)\n",
    "t1d_14_p <- round((t1d_14/t1d_n)*100,2)\n",
    "t1d14 <- paste0(t1d_14,\" (\",t1d_14_p,\")\")\n",
    "t1d_15 <- sum(dc$age_t1d_diag >= 85 & dc$age_t1d_diag <= 89, na.rm = TRUE)\n",
    "t1d_15_p <- round((t1d_15/t1d_n)*100,2)\n",
    "t1d15 <- paste0(t1d_15,\" (\",t1d_15_p,\")\")\n",
    "t1d_16 <- sum(dc$age_t1d_diag >= 90 & dc$age_t1d_diag <= 94, na.rm = TRUE)\n",
    "t1d_16_p <- round((t1d_16/t1d_n)*100,2)\n",
    "t1d16 <- paste0(t1d_16,\" (\",t1d_16_p,\")\")\n",
    "t1d_17 <- sum(dc$age_t1d_diag >= 95 & dc$age_t1d_diag <= 99, na.rm = TRUE)\n",
    "t1d_17_p <- round((t1d_17/t1d_n)*100,2)\n",
    "t1d17 <- paste0(t1d_17,\" (\",t1d_17_p,\")\")\n",
    "t1d_18 <- sum(dc$age_t1d_diag >= 100, na.rm = TRUE)\n",
    "t1d_18_p <- round((t1d_18/t1d_n)*100,2)\n",
    "t1d18 <- paste0(t1d_18,\" (\",t1d_18_p,\")\")\n",
    "\n",
    "# Age at diagnosis of type 2 diabetes\n",
    "t2d_mean <- floor(mean(dc$age_t2d_diag, na.rm=TRUE))\n",
    "t2d_sd <- floor(sd(dc$age_t2d_diag, na.rm=TRUE))\n",
    "t2d_ms <- paste0(t2d_mean,\" (\",t2d_sd,\")\")\n",
    "t2d_1 <- sum(dc$age_t2d_diag < 20, na.rm = TRUE)\n",
    "t2d_1_p <- round((t2d_1/t2d_n)*100,2)\n",
    "t2d1 <- paste0(t2d_1,\" (\",t2d_1_p,\")\")\n",
    "t2d_2 <- sum(dc$age_t2d_diag >= 20 & dc$age_t2d_diag <= 24, na.rm = TRUE)\n",
    "t2d_2_p <- round((t2d_2/t2d_n)*100,2)\n",
    "t2d2 <- paste0(t2d_2,\" (\",t2d_2_p,\")\")\n",
    "t2d_3 <- sum(dc$age_t2d_diag >= 25 & dc$age_t2d_diag <= 29, na.rm = TRUE)\n",
    "t2d_3_p <- round((t2d_3/t2d_n)*100,2)\n",
    "t2d3 <- paste0(t2d_3,\" (\",t2d_3_p,\")\")\n",
    "t2d_4 <- sum(dc$age_t2d_diag >= 30 & dc$age_t2d_diag <= 34, na.rm = TRUE)\n",
    "t2d_4_p <- round((t2d_4/t2d_n)*100,2)\n",
    "t2d4 <- paste0(t2d_4,\" (\",t2d_4_p,\")\")\n",
    "t2d_5 <- sum(dc$age_t2d_diag >= 35 & dc$age_t2d_diag <= 39, na.rm = TRUE)\n",
    "t2d_5_p <- round((t2d_5/t2d_n)*100,2)\n",
    "t2d5 <- paste0(t2d_5,\" (\",t2d_5_p,\")\")\n",
    "t2d_6 <- sum(dc$age_t2d_diag >= 40 & dc$age_t2d_diag <= 44, na.rm = TRUE)\n",
    "t2d_6_p <- round((t2d_6/t2d_n)*100,2)\n",
    "t2d6 <- paste0(t2d_6,\" (\",t2d_6_p,\")\")\n",
    "t2d_7 <- sum(dc$age_t2d_diag >= 45 & dc$age_t2d_diag <= 49, na.rm = TRUE)\n",
    "t2d_7_p <- round((t2d_7/t2d_n)*100,2)\n",
    "t2d7 <- paste0(t2d_7,\" (\",t2d_7_p,\")\")\n",
    "t2d_8 <- sum(dc$age_t2d_diag >= 50 & dc$age_t2d_diag <= 54, na.rm = TRUE)\n",
    "t2d_8_p <- round((t2d_8/t2d_n)*100,2)\n",
    "t2d8 <- paste0(t2d_8,\" (\",t2d_8_p,\")\")\n",
    "t2d_9 <- sum(dc$age_t2d_diag >= 55 & dc$age_t2d_diag <= 59, na.rm = TRUE)\n",
    "t2d_9_p <- round((t2d_9/t2d_n)*100,2)\n",
    "t2d9 <- paste0(t2d_9,\" (\",t2d_9_p,\")\")\n",
    "t2d_10 <- sum(dc$age_t2d_diag >= 60 & dc$age_t2d_diag <= 64, na.rm = TRUE)\n",
    "t2d_10_p <- round((t2d_10/t2d_n)*100,2)\n",
    "t2d10 <- paste0(t2d_10,\" (\",t2d_10_p,\")\")\n",
    "t2d_11 <- sum(dc$age_t2d_diag >= 65 & dc$age_t2d_diag <= 69, na.rm = TRUE)\n",
    "t2d_11_p <- round((t2d_11/t2d_n)*100,2)\n",
    "t2d11 <- paste0(t2d_11,\" (\",t2d_11_p,\")\")\n",
    "t2d_12 <- sum(dc$age_t2d_diag >= 70 & dc$age_t2d_diag <= 74, na.rm = TRUE)\n",
    "t2d_12_p <- round((t2d_12/t2d_n)*100,2)\n",
    "t2d12 <- paste0(t2d_12,\" (\",t2d_12_p,\")\")\n",
    "t2d_13 <- sum(dc$age_t2d_diag >= 75 & dc$age_t2d_diag <= 79, na.rm = TRUE)\n",
    "t2d_13_p <- round((t2d_13/t2d_n)*100,2)\n",
    "t2d13 <- paste0(t2d_13,\" (\",t2d_13_p,\")\")\n",
    "t2d_14 <- sum(dc$age_t2d_diag >= 80 & dc$age_t2d_diag <= 84, na.rm = TRUE)\n",
    "t2d_14_p <- round((t2d_14/t2d_n)*100,2)\n",
    "t2d14 <- paste0(t2d_14,\" (\",t2d_14_p,\")\")\n",
    "t2d_15 <- sum(dc$age_t2d_diag >= 85 & dc$age_t2d_diag <= 89, na.rm = TRUE)\n",
    "t2d_15_p <- round((t2d_15/t2d_n)*100,2)\n",
    "t2d15 <- paste0(t2d_15,\" (\",t2d_15_p,\")\")\n",
    "t2d_16 <- sum(dc$age_t2d_diag >= 90 & dc$age_t2d_diag <= 94, na.rm = TRUE)\n",
    "t2d_16_p <- round((t2d_16/t2d_n)*100,2)\n",
    "t2d16 <- paste0(t2d_16,\" (\",t2d_16_p,\")\")\n",
    "t2d_17 <- sum(dc$age_t2d_diag >= 95 & dc$age_t2d_diag <= 99, na.rm = TRUE)\n",
    "t2d_17_p <- round((t2d_17/t2d_n)*100,2)\n",
    "t2d17 <- paste0(t2d_17,\" (\",t2d_17_p,\")\")\n",
    "t2d_18 <- sum(dc$age_t2d_diag >= 100, na.rm = TRUE)\n",
    "t2d_18_p <- round((t2d_18/t2d_n)*100,2)\n",
    "t2d18 <- paste0(t2d_18,\" (\",t2d_18_p,\")\")\n",
    "\n",
    "age <- c(\"Mean (SD)\", \"<20\", \"20-24\", \"25-29\", \"30-34\", \"35-39\", \"40-44\", \"45-49\", \"50-54\", \"55-59\", \"60-64\", \"65-69\", \"70-74\", \"75-79\", \"80-84\", \"85-89\", \"90-94\", \"95-99\", \"100+\")\n",
    "any_diabetes <- c(any_ms, any1, any2, any3, any4, any5, any6, any7, any8, any9, any10, any11, any12, any13, any14, any15, any16, any17, any18)\n",
    "t1d_diabetes <- c(t1d_ms, t1d1, t1d2, t1d3, t1d4, t1d5, t1d6, t1d7, t1d8, t1d9, t1d10, t1d11, t1d12, t1d13, t1d14, t1d15, t1d16, t1d17, t1d18)\n",
    "t2d_diabetes <- c(t2d_ms, t2d1, t2d2, t2d3, t2d4, t2d5, t2d6, t2d7, t2d8, t2d9, t2d10, t2d11, t2d12, t2d13, t2d14, t2d15, t2d16, t2d17, t2d18)\n",
    "age_dm <- data.frame(age, any_diabetes, t1d_diabetes, t2d_diabetes)\n",
    "age_dm"
   ]
  },
  {
   "cell_type": "code",
   "execution_count": 16,
   "id": "9c96d4af-89b9-4fe6-b1f7-057227190969",
   "metadata": {},
   "outputs": [
    {
     "data": {
      "text/html": [
       "<table class=\"dataframe\">\n",
       "<caption>A data.frame: 2 × 4</caption>\n",
       "<thead>\n",
       "\t<tr><th scope=col>gender</th><th scope=col>gender_any</th><th scope=col>gender_t1d</th><th scope=col>gender_t2d</th></tr>\n",
       "\t<tr><th scope=col>&lt;chr&gt;</th><th scope=col>&lt;chr&gt;</th><th scope=col>&lt;chr&gt;</th><th scope=col>&lt;chr&gt;</th></tr>\n",
       "</thead>\n",
       "<tbody>\n",
       "\t<tr><td>Males  </td><td>23811 (53.81)</td><td>1270 (58.63)</td><td>22803 (53.54)</td></tr>\n",
       "\t<tr><td>Females</td><td>20466 (46.25)</td><td>896 (41.37) </td><td>19786 (46.46)</td></tr>\n",
       "</tbody>\n",
       "</table>\n"
      ],
      "text/latex": [
       "A data.frame: 2 × 4\n",
       "\\begin{tabular}{llll}\n",
       " gender & gender\\_any & gender\\_t1d & gender\\_t2d\\\\\n",
       " <chr> & <chr> & <chr> & <chr>\\\\\n",
       "\\hline\n",
       "\t Males   & 23811 (53.81) & 1270 (58.63) & 22803 (53.54)\\\\\n",
       "\t Females & 20466 (46.25) & 896 (41.37)  & 19786 (46.46)\\\\\n",
       "\\end{tabular}\n"
      ],
      "text/markdown": [
       "\n",
       "A data.frame: 2 × 4\n",
       "\n",
       "| gender &lt;chr&gt; | gender_any &lt;chr&gt; | gender_t1d &lt;chr&gt; | gender_t2d &lt;chr&gt; |\n",
       "|---|---|---|---|\n",
       "| Males   | 23811 (53.81) | 1270 (58.63) | 22803 (53.54) |\n",
       "| Females | 20466 (46.25) | 896 (41.37)  | 19786 (46.46) |\n",
       "\n"
      ],
      "text/plain": [
       "  gender  gender_any    gender_t1d   gender_t2d   \n",
       "1 Males   23811 (53.81) 1270 (58.63) 22803 (53.54)\n",
       "2 Females 20466 (46.25) 896 (41.37)  19786 (46.46)"
      ]
     },
     "metadata": {},
     "output_type": "display_data"
    }
   ],
   "source": [
    "# Gender \n",
    "# males\n",
    "m_any <- sum(dc$gender == 1 & !is.na(dc$any_diabetes), na.rm = TRUE)\n",
    "m_any_p <- round((m_any/any_diabetes_n)*100,2)\n",
    "m_any1 <- paste0(m_any,\" (\",m_any_p,\")\")\n",
    "m_t1d <- sum(dc$gender == 1 & dc$t1d_status == 1, na.rm = TRUE)\n",
    "m_t1d_p <- round((m_t1d/t1d_n)*100,2)\n",
    "m_t1d1 <- paste0(m_t1d,\" (\",m_t1d_p,\")\")\n",
    "m_t2d <- sum(dc$gender == 1 & dc$t2d_status == 1, na.rm = TRUE)\n",
    "m_t2d_p <- round((m_t2d/t2d_n)*100,2)\n",
    "m_t2d1 <- paste0(m_t2d,\" (\",m_t2d_p,\")\")\n",
    "\n",
    "# females\n",
    "f_any <- sum(dc$gender == 2 & !is.na(dc$any_diabetes), na.rm = TRUE)\n",
    "f_any_p <- round((f_any/any_diabetes_n)*100,2)\n",
    "f_any1 <- paste0(f_any,\" (\",f_any_p,\")\")\n",
    "f_t1d <- sum(dc$gender == 2 & dc$t1d_status == 1, na.rm = TRUE)\n",
    "f_t1d_p <- round((f_t1d/t1d_n)*100,2)\n",
    "f_t1d1 <- paste0(f_t1d,\" (\",f_t1d_p,\")\")\n",
    "f_t2d <- sum(dc$gender == 2 & dc$t2d_status == 1, na.rm = TRUE)\n",
    "f_t2d_p <- round((f_t2d/t2d_n)*100,2)\n",
    "f_t2d1 <- paste0(f_t2d,\" (\",f_t2d_p,\")\")\n",
    "\n",
    "gender <- c(\"Males\", \"Females\")\n",
    "gender_any <- c(m_any1, f_any1)\n",
    "gender_t1d <- c(m_t1d1, f_t1d1)\n",
    "gender_t2d <- c(m_t2d1, f_t2d1)\n",
    "gender_n <- data.frame(gender, gender_any, gender_t1d, gender_t2d)\n",
    "gender_n"
   ]
  },
  {
   "cell_type": "code",
   "execution_count": 17,
   "id": "28108bf4-e90d-4c94-ae06-0eecfd434f99",
   "metadata": {},
   "outputs": [
    {
     "data": {
      "text/html": [
       "<table class=\"dataframe\">\n",
       "<caption>A data.frame: 5 × 4</caption>\n",
       "<thead>\n",
       "\t<tr><th scope=col>imd_quintile</th><th scope=col>imd_any</th><th scope=col>imd_t1d</th><th scope=col>imd_t2d</th></tr>\n",
       "\t<tr><th scope=col>&lt;chr&gt;</th><th scope=col>&lt;chr&gt;</th><th scope=col>&lt;chr&gt;</th><th scope=col>&lt;chr&gt;</th></tr>\n",
       "</thead>\n",
       "<tbody>\n",
       "\t<tr><td>1</td><td>23101 (52.21)</td><td>973 (44.92)</td><td>22420 (52.64)</td></tr>\n",
       "\t<tr><td>2</td><td>8901 (20.12) </td><td>427 (19.71)</td><td>8557 (20.09) </td></tr>\n",
       "\t<tr><td>3</td><td>6206 (14.02) </td><td>366 (16.9) </td><td>5899 (13.85) </td></tr>\n",
       "\t<tr><td>4</td><td>3961 (8.95)  </td><td>253 (11.68)</td><td>3753 (8.81)  </td></tr>\n",
       "\t<tr><td>5</td><td>2081 (4.7)   </td><td>147 (6.79) </td><td>1960 (4.6)   </td></tr>\n",
       "</tbody>\n",
       "</table>\n"
      ],
      "text/latex": [
       "A data.frame: 5 × 4\n",
       "\\begin{tabular}{llll}\n",
       " imd\\_quintile & imd\\_any & imd\\_t1d & imd\\_t2d\\\\\n",
       " <chr> & <chr> & <chr> & <chr>\\\\\n",
       "\\hline\n",
       "\t 1 & 23101 (52.21) & 973 (44.92) & 22420 (52.64)\\\\\n",
       "\t 2 & 8901 (20.12)  & 427 (19.71) & 8557 (20.09) \\\\\n",
       "\t 3 & 6206 (14.02)  & 366 (16.9)  & 5899 (13.85) \\\\\n",
       "\t 4 & 3961 (8.95)   & 253 (11.68) & 3753 (8.81)  \\\\\n",
       "\t 5 & 2081 (4.7)    & 147 (6.79)  & 1960 (4.6)   \\\\\n",
       "\\end{tabular}\n"
      ],
      "text/markdown": [
       "\n",
       "A data.frame: 5 × 4\n",
       "\n",
       "| imd_quintile &lt;chr&gt; | imd_any &lt;chr&gt; | imd_t1d &lt;chr&gt; | imd_t2d &lt;chr&gt; |\n",
       "|---|---|---|---|\n",
       "| 1 | 23101 (52.21) | 973 (44.92) | 22420 (52.64) |\n",
       "| 2 | 8901 (20.12)  | 427 (19.71) | 8557 (20.09)  |\n",
       "| 3 | 6206 (14.02)  | 366 (16.9)  | 5899 (13.85)  |\n",
       "| 4 | 3961 (8.95)   | 253 (11.68) | 3753 (8.81)   |\n",
       "| 5 | 2081 (4.7)    | 147 (6.79)  | 1960 (4.6)    |\n",
       "\n"
      ],
      "text/plain": [
       "  imd_quintile imd_any       imd_t1d     imd_t2d      \n",
       "1 1            23101 (52.21) 973 (44.92) 22420 (52.64)\n",
       "2 2            8901 (20.12)  427 (19.71) 8557 (20.09) \n",
       "3 3            6206 (14.02)  366 (16.9)  5899 (13.85) \n",
       "4 4            3961 (8.95)   253 (11.68) 3753 (8.81)  \n",
       "5 5            2081 (4.7)    147 (6.79)  1960 (4.6)   "
      ]
     },
     "metadata": {},
     "output_type": "display_data"
    }
   ],
   "source": [
    "# IMD\n",
    "imd1_any <- sum(dc$imd_quintile == 1 & dc$any_diabetes == 1) \n",
    "imd1_any_p <- round((imd1_any/any_diabetes_n)*100,2)\n",
    "imd1any <- paste0(imd1_any,\" (\",imd1_any_p,\")\")\n",
    "\n",
    "imd1_t1d <- sum(dc$imd_quintile == 1 & dc$t1d_status == 1) \n",
    "imd1_t1d_p <- round((imd1_t1d/t1d_n)*100,2)\n",
    "imd1t1d <- paste0(imd1_t1d,\" (\",imd1_t1d_p,\")\")\n",
    "\n",
    "imd1_t2d <- sum(dc$imd_quintile == 1 & dc$t2d_status == 1) \n",
    "imd1_t2d_p <- round((imd1_t2d/t2d_n)*100,2)\n",
    "imd1t2d <- paste0(imd1_t2d,\" (\",imd1_t2d_p,\")\")\n",
    "\n",
    "imd2_any <- sum(dc$imd_quintile == 2 & dc$any_diabetes == 1) \n",
    "imd2_any_p <- round((imd2_any/any_diabetes_n)*100,2)\n",
    "imd2any <- paste0(imd2_any,\" (\",imd2_any_p,\")\")\n",
    "\n",
    "imd2_t1d <- sum(dc$imd_quintile == 2 & dc$t1d_status == 1) \n",
    "imd2_t1d_p <- round((imd2_t1d/t1d_n)*100,2)\n",
    "imd2t1d <- paste0(imd2_t1d,\" (\",imd2_t1d_p,\")\")\n",
    "\n",
    "imd2_t2d <- sum(dc$imd_quintile == 2 & dc$t2d_status == 1) \n",
    "imd2_t2d_p <- round((imd2_t2d/t2d_n)*100,2)\n",
    "imd2t2d <- paste0(imd2_t2d,\" (\",imd2_t2d_p,\")\")\n",
    "\n",
    "imd3_any <- sum(dc$imd_quintile == 3 & dc$any_diabetes == 1) \n",
    "imd3_any_p <- round((imd3_any/any_diabetes_n)*100,2)\n",
    "imd3any <- paste0(imd3_any,\" (\",imd3_any_p,\")\")\n",
    "\n",
    "imd3_t1d <- sum(dc$imd_quintile == 3 & dc$t1d_status == 1) \n",
    "imd3_t1d_p <- round((imd3_t1d/t1d_n)*100,2)\n",
    "imd3t1d <- paste0(imd3_t1d,\" (\",imd3_t1d_p,\")\")\n",
    "\n",
    "imd3_t2d <- sum(dc$imd_quintile == 3 & dc$t2d_status == 1) \n",
    "imd3_t2d_p <- round((imd3_t2d/t2d_n)*100,2)\n",
    "imd3t2d <- paste0(imd3_t2d,\" (\",imd3_t2d_p,\")\")\n",
    "\n",
    "imd4_any <- sum(dc$imd_quintile == 4 & dc$any_diabetes == 1) \n",
    "imd4_any_p <- round((imd4_any/any_diabetes_n)*100,2)\n",
    "imd4any <- paste0(imd4_any,\" (\",imd4_any_p,\")\")\n",
    "\n",
    "imd4_t1d <- sum(dc$imd_quintile == 4 & dc$t1d_status == 1) \n",
    "imd4_t1d_p <- round((imd4_t1d/t1d_n)*100,2)\n",
    "imd4t1d <- paste0(imd4_t1d,\" (\",imd4_t1d_p,\")\")\n",
    "\n",
    "imd4_t2d <- sum(dc$imd_quintile == 4 & dc$t2d_status == 1) \n",
    "imd4_t2d_p <- round((imd4_t2d/t2d_n)*100,2)\n",
    "imd4t2d <- paste0(imd4_t2d,\" (\",imd4_t2d_p,\")\")\n",
    "\n",
    "imd5_any <- sum(dc$imd_quintile == 5 & dc$any_diabetes == 1) \n",
    "imd5_any_p <- round((imd5_any/any_diabetes_n)*100,2)\n",
    "imd5any <- paste0(imd5_any,\" (\",imd5_any_p,\")\")\n",
    "\n",
    "imd5_t1d <- sum(dc$imd_quintile == 5 & dc$t1d_status == 1) \n",
    "imd5_t1d_p <- round((imd5_t1d/t1d_n)*100,2)\n",
    "imd5t1d <- paste0(imd5_t1d,\" (\",imd5_t1d_p,\")\")\n",
    "\n",
    "imd5_t2d <- sum(dc$imd_quintile == 5 & dc$t2d_status == 1) \n",
    "imd5_t2d_p <- round((imd5_t2d/t2d_n)*100,2)\n",
    "imd5t2d <- paste0(imd5_t2d,\" (\",imd5_t2d_p,\")\")\n",
    "\n",
    "imd_quintile <- c(\"1\", \"2\", \"3\", \"4\", \"5\")\n",
    "imd_any <- c(imd1any, imd2any, imd3any, imd4any, imd5any)\n",
    "imd_t1d <- c(imd1t1d, imd2t1d, imd3t1d, imd4t1d, imd5t1d)\n",
    "imd_t2d <- c(imd1t2d, imd2t2d, imd3t2d, imd4t2d, imd5t2d)\n",
    "imd <- data.frame(imd_quintile, imd_any, imd_t1d, imd_t2d)\n",
    "imd"
   ]
  },
  {
   "cell_type": "code",
   "execution_count": 18,
   "id": "32bb4e71-9566-4cab-8594-9442cf3b4b1c",
   "metadata": {},
   "outputs": [
    {
     "data": {
      "text/html": [
       "<style>\n",
       ".list-inline {list-style: none; margin:0; padding: 0}\n",
       ".list-inline>li {display: inline-block}\n",
       ".list-inline>li:not(:last-child)::after {content: \"\\00b7\"; padding: 0 .5ex}\n",
       "</style>\n",
       "<ol class=list-inline><li>'person_id'</li><li>'age_t1d_diag'</li><li>'date_t1d_diag'</li><li>'t1d_status'</li><li>'age_t2d_diag'</li><li>'date_t2d_diag'</li><li>'t2d_status'</li><li>'age_earliest_diab'</li><li>'earliest_diabetes_diag'</li><li>'any_diabetes'</li><li>'diab_death_time'</li><li>'diabetes_meds'</li><li>'date_angina_diagnosis'</li><li>'has_angina'</li><li>'date_cardiomyopathy_diagnosis'</li><li>'has_cardiomyopathy'</li><li>'date_heart_failure_diagnosis'</li><li>'has_heart_failure'</li><li>'date_hypertension_diagnosis'</li><li>'has_hypertension'</li><li>'date_ihd_diagnosis'</li><li>'has_ihd'</li><li>'date_mi_diagnosis'</li><li>'has_mi'</li><li>'date_pvd_diagnosis'</li><li>'has_pvd'</li><li>'date_stroke_diagnosis'</li><li>'has_stroke'</li><li>'date_valve_disease_diagnosis'</li><li>'has_valve_disease'</li><li>'birth_datetime'</li><li>'death_datetime.x'</li><li>'gender'</li><li>'ethnicity'</li><li>'imd_decile'</li><li>'date_earliest_cvd'</li><li>'diab_cvd_time'</li><li>'cvd_death_time'</li><li>'has_cvd'</li><li>'death_datetime.y'</li><li>'date_cholesterol'</li><li>'cholesterol'</li><li>'closest_cholesterol'</li><li>'date_bmi'</li><li>'bmi'</li><li>'closest_bmi'</li><li>'bmi_value'</li><li>'date_smoking'</li><li>'smoking'</li><li>'closest_smoking'</li><li>'date_bp'</li><li>'blood_pressure'</li><li>'sbp_value'</li><li>'dbp_value'</li><li>'closest_bp'</li><li>'date_creatinine'</li><li>'creatinine'</li><li>'closest_creatinine'</li><li>'date_acr'</li><li>'acr'</li><li>'closest_acr'</li><li>'date_egfr'</li><li>'egfr'</li><li>'closest_egfr'</li><li>'imd_quintile'</li></ol>\n"
      ],
      "text/latex": [
       "\\begin{enumerate*}\n",
       "\\item 'person\\_id'\n",
       "\\item 'age\\_t1d\\_diag'\n",
       "\\item 'date\\_t1d\\_diag'\n",
       "\\item 't1d\\_status'\n",
       "\\item 'age\\_t2d\\_diag'\n",
       "\\item 'date\\_t2d\\_diag'\n",
       "\\item 't2d\\_status'\n",
       "\\item 'age\\_earliest\\_diab'\n",
       "\\item 'earliest\\_diabetes\\_diag'\n",
       "\\item 'any\\_diabetes'\n",
       "\\item 'diab\\_death\\_time'\n",
       "\\item 'diabetes\\_meds'\n",
       "\\item 'date\\_angina\\_diagnosis'\n",
       "\\item 'has\\_angina'\n",
       "\\item 'date\\_cardiomyopathy\\_diagnosis'\n",
       "\\item 'has\\_cardiomyopathy'\n",
       "\\item 'date\\_heart\\_failure\\_diagnosis'\n",
       "\\item 'has\\_heart\\_failure'\n",
       "\\item 'date\\_hypertension\\_diagnosis'\n",
       "\\item 'has\\_hypertension'\n",
       "\\item 'date\\_ihd\\_diagnosis'\n",
       "\\item 'has\\_ihd'\n",
       "\\item 'date\\_mi\\_diagnosis'\n",
       "\\item 'has\\_mi'\n",
       "\\item 'date\\_pvd\\_diagnosis'\n",
       "\\item 'has\\_pvd'\n",
       "\\item 'date\\_stroke\\_diagnosis'\n",
       "\\item 'has\\_stroke'\n",
       "\\item 'date\\_valve\\_disease\\_diagnosis'\n",
       "\\item 'has\\_valve\\_disease'\n",
       "\\item 'birth\\_datetime'\n",
       "\\item 'death\\_datetime.x'\n",
       "\\item 'gender'\n",
       "\\item 'ethnicity'\n",
       "\\item 'imd\\_decile'\n",
       "\\item 'date\\_earliest\\_cvd'\n",
       "\\item 'diab\\_cvd\\_time'\n",
       "\\item 'cvd\\_death\\_time'\n",
       "\\item 'has\\_cvd'\n",
       "\\item 'death\\_datetime.y'\n",
       "\\item 'date\\_cholesterol'\n",
       "\\item 'cholesterol'\n",
       "\\item 'closest\\_cholesterol'\n",
       "\\item 'date\\_bmi'\n",
       "\\item 'bmi'\n",
       "\\item 'closest\\_bmi'\n",
       "\\item 'bmi\\_value'\n",
       "\\item 'date\\_smoking'\n",
       "\\item 'smoking'\n",
       "\\item 'closest\\_smoking'\n",
       "\\item 'date\\_bp'\n",
       "\\item 'blood\\_pressure'\n",
       "\\item 'sbp\\_value'\n",
       "\\item 'dbp\\_value'\n",
       "\\item 'closest\\_bp'\n",
       "\\item 'date\\_creatinine'\n",
       "\\item 'creatinine'\n",
       "\\item 'closest\\_creatinine'\n",
       "\\item 'date\\_acr'\n",
       "\\item 'acr'\n",
       "\\item 'closest\\_acr'\n",
       "\\item 'date\\_egfr'\n",
       "\\item 'egfr'\n",
       "\\item 'closest\\_egfr'\n",
       "\\item 'imd\\_quintile'\n",
       "\\end{enumerate*}\n"
      ],
      "text/markdown": [
       "1. 'person_id'\n",
       "2. 'age_t1d_diag'\n",
       "3. 'date_t1d_diag'\n",
       "4. 't1d_status'\n",
       "5. 'age_t2d_diag'\n",
       "6. 'date_t2d_diag'\n",
       "7. 't2d_status'\n",
       "8. 'age_earliest_diab'\n",
       "9. 'earliest_diabetes_diag'\n",
       "10. 'any_diabetes'\n",
       "11. 'diab_death_time'\n",
       "12. 'diabetes_meds'\n",
       "13. 'date_angina_diagnosis'\n",
       "14. 'has_angina'\n",
       "15. 'date_cardiomyopathy_diagnosis'\n",
       "16. 'has_cardiomyopathy'\n",
       "17. 'date_heart_failure_diagnosis'\n",
       "18. 'has_heart_failure'\n",
       "19. 'date_hypertension_diagnosis'\n",
       "20. 'has_hypertension'\n",
       "21. 'date_ihd_diagnosis'\n",
       "22. 'has_ihd'\n",
       "23. 'date_mi_diagnosis'\n",
       "24. 'has_mi'\n",
       "25. 'date_pvd_diagnosis'\n",
       "26. 'has_pvd'\n",
       "27. 'date_stroke_diagnosis'\n",
       "28. 'has_stroke'\n",
       "29. 'date_valve_disease_diagnosis'\n",
       "30. 'has_valve_disease'\n",
       "31. 'birth_datetime'\n",
       "32. 'death_datetime.x'\n",
       "33. 'gender'\n",
       "34. 'ethnicity'\n",
       "35. 'imd_decile'\n",
       "36. 'date_earliest_cvd'\n",
       "37. 'diab_cvd_time'\n",
       "38. 'cvd_death_time'\n",
       "39. 'has_cvd'\n",
       "40. 'death_datetime.y'\n",
       "41. 'date_cholesterol'\n",
       "42. 'cholesterol'\n",
       "43. 'closest_cholesterol'\n",
       "44. 'date_bmi'\n",
       "45. 'bmi'\n",
       "46. 'closest_bmi'\n",
       "47. 'bmi_value'\n",
       "48. 'date_smoking'\n",
       "49. 'smoking'\n",
       "50. 'closest_smoking'\n",
       "51. 'date_bp'\n",
       "52. 'blood_pressure'\n",
       "53. 'sbp_value'\n",
       "54. 'dbp_value'\n",
       "55. 'closest_bp'\n",
       "56. 'date_creatinine'\n",
       "57. 'creatinine'\n",
       "58. 'closest_creatinine'\n",
       "59. 'date_acr'\n",
       "60. 'acr'\n",
       "61. 'closest_acr'\n",
       "62. 'date_egfr'\n",
       "63. 'egfr'\n",
       "64. 'closest_egfr'\n",
       "65. 'imd_quintile'\n",
       "\n",
       "\n"
      ],
      "text/plain": [
       " [1] \"person_id\"                     \"age_t1d_diag\"                 \n",
       " [3] \"date_t1d_diag\"                 \"t1d_status\"                   \n",
       " [5] \"age_t2d_diag\"                  \"date_t2d_diag\"                \n",
       " [7] \"t2d_status\"                    \"age_earliest_diab\"            \n",
       " [9] \"earliest_diabetes_diag\"        \"any_diabetes\"                 \n",
       "[11] \"diab_death_time\"               \"diabetes_meds\"                \n",
       "[13] \"date_angina_diagnosis\"         \"has_angina\"                   \n",
       "[15] \"date_cardiomyopathy_diagnosis\" \"has_cardiomyopathy\"           \n",
       "[17] \"date_heart_failure_diagnosis\"  \"has_heart_failure\"            \n",
       "[19] \"date_hypertension_diagnosis\"   \"has_hypertension\"             \n",
       "[21] \"date_ihd_diagnosis\"            \"has_ihd\"                      \n",
       "[23] \"date_mi_diagnosis\"             \"has_mi\"                       \n",
       "[25] \"date_pvd_diagnosis\"            \"has_pvd\"                      \n",
       "[27] \"date_stroke_diagnosis\"         \"has_stroke\"                   \n",
       "[29] \"date_valve_disease_diagnosis\"  \"has_valve_disease\"            \n",
       "[31] \"birth_datetime\"                \"death_datetime.x\"             \n",
       "[33] \"gender\"                        \"ethnicity\"                    \n",
       "[35] \"imd_decile\"                    \"date_earliest_cvd\"            \n",
       "[37] \"diab_cvd_time\"                 \"cvd_death_time\"               \n",
       "[39] \"has_cvd\"                       \"death_datetime.y\"             \n",
       "[41] \"date_cholesterol\"              \"cholesterol\"                  \n",
       "[43] \"closest_cholesterol\"           \"date_bmi\"                     \n",
       "[45] \"bmi\"                           \"closest_bmi\"                  \n",
       "[47] \"bmi_value\"                     \"date_smoking\"                 \n",
       "[49] \"smoking\"                       \"closest_smoking\"              \n",
       "[51] \"date_bp\"                       \"blood_pressure\"               \n",
       "[53] \"sbp_value\"                     \"dbp_value\"                    \n",
       "[55] \"closest_bp\"                    \"date_creatinine\"              \n",
       "[57] \"creatinine\"                    \"closest_creatinine\"           \n",
       "[59] \"date_acr\"                      \"acr\"                          \n",
       "[61] \"closest_acr\"                   \"date_egfr\"                    \n",
       "[63] \"egfr\"                          \"closest_egfr\"                 \n",
       "[65] \"imd_quintile\"                 "
      ]
     },
     "metadata": {},
     "output_type": "display_data"
    }
   ],
   "source": [
    "colnames(dc)"
   ]
  },
  {
   "cell_type": "code",
   "execution_count": 18,
   "id": "b91edf2a-e495-492d-b3a6-0339012458cb",
   "metadata": {},
   "outputs": [
    {
     "data": {
      "text/html": [
       "<table class=\"dataframe\">\n",
       "<caption>A data.frame: 3 × 4</caption>\n",
       "<thead>\n",
       "\t<tr><th scope=col>smoking</th><th scope=col>smoker</th><th scope=col>exsmoker</th><th scope=col>nonsmoker</th></tr>\n",
       "\t<tr><th scope=col>&lt;chr&gt;</th><th scope=col>&lt;chr&gt;</th><th scope=col>&lt;chr&gt;</th><th scope=col>&lt;chr&gt;</th></tr>\n",
       "</thead>\n",
       "<tbody>\n",
       "\t<tr><td>Smoker    </td><td>8118 (18.35)</td><td>12123 (27.4) </td><td>1581 (3.57)</td></tr>\n",
       "\t<tr><td>Ex-Smoker </td><td>409 (18.88) </td><td>318 (14.68)  </td><td>75 (3.46)  </td></tr>\n",
       "\t<tr><td>Non-Smoker</td><td>7805 (18.33)</td><td>11895 (27.93)</td><td>1534 (3.6) </td></tr>\n",
       "</tbody>\n",
       "</table>\n"
      ],
      "text/latex": [
       "A data.frame: 3 × 4\n",
       "\\begin{tabular}{llll}\n",
       " smoking & smoker & exsmoker & nonsmoker\\\\\n",
       " <chr> & <chr> & <chr> & <chr>\\\\\n",
       "\\hline\n",
       "\t Smoker     & 8118 (18.35) & 12123 (27.4)  & 1581 (3.57)\\\\\n",
       "\t Ex-Smoker  & 409 (18.88)  & 318 (14.68)   & 75 (3.46)  \\\\\n",
       "\t Non-Smoker & 7805 (18.33) & 11895 (27.93) & 1534 (3.6) \\\\\n",
       "\\end{tabular}\n"
      ],
      "text/markdown": [
       "\n",
       "A data.frame: 3 × 4\n",
       "\n",
       "| smoking &lt;chr&gt; | smoker &lt;chr&gt; | exsmoker &lt;chr&gt; | nonsmoker &lt;chr&gt; |\n",
       "|---|---|---|---|\n",
       "| Smoker     | 8118 (18.35) | 12123 (27.4)  | 1581 (3.57) |\n",
       "| Ex-Smoker  | 409 (18.88)  | 318 (14.68)   | 75 (3.46)   |\n",
       "| Non-Smoker | 7805 (18.33) | 11895 (27.93) | 1534 (3.6)  |\n",
       "\n"
      ],
      "text/plain": [
       "  smoking    smoker       exsmoker      nonsmoker  \n",
       "1 Smoker     8118 (18.35) 12123 (27.4)  1581 (3.57)\n",
       "2 Ex-Smoker  409 (18.88)  318 (14.68)   75 (3.46)  \n",
       "3 Non-Smoker 7805 (18.33) 11895 (27.93) 1534 (3.6) "
      ]
     },
     "metadata": {},
     "output_type": "display_data"
    }
   ],
   "source": [
    "# Smoker\n",
    "smoke_any <- sum(dc$smoking == 1 & dc$any_diabetes == 1, na.rm = TRUE)\n",
    "smk_any_p <- round((smoke_any/any_diabetes_n)*100,2)\n",
    "smkany <- paste0(smoke_any,\" (\",smk_any_p,\")\")\n",
    "\n",
    "smoke_t1d <- sum(dc$smoking == 1 & dc$t1d_status == 1, na.rm = TRUE)\n",
    "smk_t1d_p <- round((smoke_t1d/t1d_n)*100,2)\n",
    "smkt1d <- paste0(smoke_t1d,\" (\",smk_t1d_p,\")\")\n",
    "\n",
    "smoke_t2d <- sum(dc$smoking == 1 & dc$t2d_status == 1, na.rm = TRUE)\n",
    "smk_t2d_p <- round((smoke_t2d/t2d_n)*100,2)\n",
    "smkt2d <- paste0(smoke_t2d,\" (\",smk_t2d_p,\")\")\n",
    "\n",
    "exsmoke_any <- sum(dc$smoking == 2 & dc$any_diabetes == 1, na.rm = TRUE)\n",
    "exsmk_any_p <- round((exsmoke_any/any_diabetes_n)*100,2)\n",
    "exsmkany <- paste0(exsmoke_any,\" (\",exsmk_any_p,\")\")\n",
    "\n",
    "exsmoke_t1d <- sum(dc$smoking == 2 & dc$t1d_status == 1, na.rm = TRUE)\n",
    "exsmk_t1d_p <- round((exsmoke_t1d/t1d_n)*100,2)\n",
    "exsmkt1d <- paste0(exsmoke_t1d,\" (\",exsmk_t1d_p,\")\")\n",
    "\n",
    "exsmoke_t2d <- sum(dc$smoking == 2 & dc$t2d_status == 1, na.rm = TRUE)\n",
    "exsmk_t2d_p <- round((exsmoke_t2d/t2d_n)*100,2)\n",
    "exsmkt2d <- paste0(exsmoke_t2d,\" (\",exsmk_t2d_p,\")\")\n",
    "\n",
    "nonsmoke_any <- sum(dc$smoking == 3 & dc$any_diabetes == 1, na.rm = TRUE)\n",
    "nosmk_any_p <- round((nonsmoke_any/any_diabetes_n)*100,2)\n",
    "nosmkany <- paste0(nonsmoke_any,\" (\",nosmk_any_p,\")\")\n",
    "\n",
    "nonsmoke_t1d <- sum(dc$smoking == 3 & dc$t1d_status == 1, na.rm = TRUE)\n",
    "nosmk_t1d_p <- round((nonsmoke_t1d/t1d_n)*100,2)\n",
    "nosmkt1d <- paste0(nonsmoke_t1d,\" (\",nosmk_t1d_p,\")\")\n",
    "\n",
    "nonsmoke_t2d <- sum(dc$smoking == 3 & dc$t2d_status == 1, na.rm = TRUE)\n",
    "nosmk_t2d_p <- round((nonsmoke_t2d/t2d_n)*100,2)\n",
    "nosmkt2d <- paste0(nonsmoke_t2d,\" (\",nosmk_t2d_p,\")\")\n",
    "\n",
    "\n",
    "smoking <- c(\"Smoker\", \"Ex-Smoker\", \"Non-Smoker\")\n",
    "smoker <- c(smkany, smkt1d, smkt2d)\n",
    "exsmoker <- c(exsmkany, exsmkt1d, exsmkt2d)\n",
    "nonsmoker <- c(nosmkany, nosmkt1d, nosmkt2d)\n",
    "smoke <- data.frame(smoking, smoker, exsmoker, nonsmoker)\n",
    "\n",
    "smoke"
   ]
  },
  {
   "cell_type": "code",
   "execution_count": 32,
   "id": "7a80c970-55e5-46da-98a9-a7f911a70c15",
   "metadata": {},
   "outputs": [
    {
     "data": {
      "text/html": [
       "31.2518546117544"
      ],
      "text/latex": [
       "31.2518546117544"
      ],
      "text/markdown": [
       "31.2518546117544"
      ],
      "text/plain": [
       "[1] 31.25185"
      ]
     },
     "metadata": {},
     "output_type": "display_data"
    },
    {
     "data": {
      "text/html": [
       "6.2942594548688"
      ],
      "text/latex": [
       "6.2942594548688"
      ],
      "text/markdown": [
       "6.2942594548688"
      ],
      "text/plain": [
       "[1] 6.294259"
      ]
     },
     "metadata": {},
     "output_type": "display_data"
    },
    {
     "data": {
      "text/html": [
       "25.9700486124661"
      ],
      "text/latex": [
       "25.9700486124661"
      ],
      "text/markdown": [
       "25.9700486124661"
      ],
      "text/plain": [
       "[1] 25.97005"
      ]
     },
     "metadata": {},
     "output_type": "display_data"
    },
    {
     "data": {
      "text/html": [
       "6.41638982462044"
      ],
      "text/latex": [
       "6.41638982462044"
      ],
      "text/markdown": [
       "6.41638982462044"
      ],
      "text/plain": [
       "[1] 6.41639"
      ]
     },
     "metadata": {},
     "output_type": "display_data"
    },
    {
     "data": {
      "text/html": [
       "31.4718358659921"
      ],
      "text/latex": [
       "31.4718358659921"
      ],
      "text/markdown": [
       "31.4718358659921"
      ],
      "text/plain": [
       "[1] 31.47184"
      ]
     },
     "metadata": {},
     "output_type": "display_data"
    },
    {
     "data": {
      "text/html": [
       "6.18896728714133"
      ],
      "text/latex": [
       "6.18896728714133"
      ],
      "text/markdown": [
       "6.18896728714133"
      ],
      "text/plain": [
       "[1] 6.188967"
      ]
     },
     "metadata": {},
     "output_type": "display_data"
    },
    {
     "data": {
      "text/html": [
       "<table class=\"dataframe\">\n",
       "<caption>A data.frame: 4 × 4</caption>\n",
       "<thead>\n",
       "\t<tr><th scope=col>bmi_cat</th><th scope=col>bmi_any</th><th scope=col>bmi_t1d</th><th scope=col>bmi_t2d</th></tr>\n",
       "\t<tr><th scope=col>&lt;chr&gt;</th><th scope=col>&lt;chr&gt;</th><th scope=col>&lt;chr&gt;</th><th scope=col>&lt;chr&gt;</th></tr>\n",
       "</thead>\n",
       "<tbody>\n",
       "\t<tr><td>Underweight  </td><td>390 (0.88)   </td><td>204 (9.42) </td><td>195 (0.46)   </td></tr>\n",
       "\t<tr><td>Health weight</td><td>5408 (12.22) </td><td>661 (30.52)</td><td>4871 (11.44) </td></tr>\n",
       "\t<tr><td>Overweight   </td><td>12933 (29.23)</td><td>541 (24.98)</td><td>12544 (29.45)</td></tr>\n",
       "\t<tr><td>Obese        </td><td>21978 (49.67)</td><td>416 (19.21)</td><td>21735 (51.03)</td></tr>\n",
       "</tbody>\n",
       "</table>\n"
      ],
      "text/latex": [
       "A data.frame: 4 × 4\n",
       "\\begin{tabular}{llll}\n",
       " bmi\\_cat & bmi\\_any & bmi\\_t1d & bmi\\_t2d\\\\\n",
       " <chr> & <chr> & <chr> & <chr>\\\\\n",
       "\\hline\n",
       "\t Underweight   & 390 (0.88)    & 204 (9.42)  & 195 (0.46)   \\\\\n",
       "\t Health weight & 5408 (12.22)  & 661 (30.52) & 4871 (11.44) \\\\\n",
       "\t Overweight    & 12933 (29.23) & 541 (24.98) & 12544 (29.45)\\\\\n",
       "\t Obese         & 21978 (49.67) & 416 (19.21) & 21735 (51.03)\\\\\n",
       "\\end{tabular}\n"
      ],
      "text/markdown": [
       "\n",
       "A data.frame: 4 × 4\n",
       "\n",
       "| bmi_cat &lt;chr&gt; | bmi_any &lt;chr&gt; | bmi_t1d &lt;chr&gt; | bmi_t2d &lt;chr&gt; |\n",
       "|---|---|---|---|\n",
       "| Underweight   | 390 (0.88)    | 204 (9.42)  | 195 (0.46)    |\n",
       "| Health weight | 5408 (12.22)  | 661 (30.52) | 4871 (11.44)  |\n",
       "| Overweight    | 12933 (29.23) | 541 (24.98) | 12544 (29.45) |\n",
       "| Obese         | 21978 (49.67) | 416 (19.21) | 21735 (51.03) |\n",
       "\n"
      ],
      "text/plain": [
       "  bmi_cat       bmi_any       bmi_t1d     bmi_t2d      \n",
       "1 Underweight   390 (0.88)    204 (9.42)  195 (0.46)   \n",
       "2 Health weight 5408 (12.22)  661 (30.52) 4871 (11.44) \n",
       "3 Overweight    12933 (29.23) 541 (24.98) 12544 (29.45)\n",
       "4 Obese         21978 (49.67) 416 (19.21) 21735 (51.03)"
      ]
     },
     "metadata": {},
     "output_type": "display_data"
    }
   ],
   "source": [
    "# BMI\n",
    "mean(dc$bmi_value[dc$any_diabetes==1], na.rm = TRUE)\n",
    "sd(dc$bmi_value[dc$any_diabetes==1], na.rm = TRUE)\n",
    "\n",
    "mean(dc$bmi_value[dc$t1d_status==1], na.rm = TRUE)\n",
    "sd(dc$bmi_value[dc$t1d_status==1], na.rm = TRUE)\n",
    "\n",
    "mean(dc$bmi_value[dc$t2d_status==1], na.rm = TRUE)\n",
    "sd(dc$bmi_value[dc$t2d_status==1], na.rm = TRUE)\n",
    "\n",
    "bmiu_any <- sum(dc$bmi == 1 & dc$any_diabetes == 1, na.rm = TRUE)\n",
    "bmiu_any_p <- round((bmiu_any/any_diabetes_n)*100,2)\n",
    "bmiuany <- paste0(bmiu_any,\" (\",bmiu_any_p,\")\")\n",
    "bmih_any <- sum(dc$bmi == 2 & dc$any_diabetes == 1, na.rm = TRUE)\n",
    "bmih_any_p <- round((bmih_any/any_diabetes_n)*100,2)\n",
    "bmihany <- paste0(bmih_any,\" (\",bmih_any_p,\")\")\n",
    "bmiov_any <- sum(dc$bmi == 3 & dc$any_diabetes == 1, na.rm = TRUE)\n",
    "bmiov_any_p <- round((bmiov_any/any_diabetes_n)*100,2)\n",
    "bmiovany <- paste0(bmiov_any,\" (\",bmiov_any_p,\")\")\n",
    "bmiob_any <- sum(dc$bmi == 4 & dc$any_diabetes == 1, na.rm = TRUE)\n",
    "bmiob_any_p <- round((bmiob_any/any_diabetes_n)*100,2)\n",
    "bmiobany <- paste0(bmiob_any,\" (\",bmiob_any_p,\")\")\n",
    "\n",
    "bmiu_t1d <- sum(dc$bmi == 1 & dc$t1d_status == 1, na.rm = TRUE)\n",
    "bmiu_t1d_p <- round((bmiu_t1d/t1d_n)*100,2)\n",
    "bmiut1d <- paste0(bmiu_t1d,\" (\",bmiu_t1d_p,\")\")\n",
    "bmih_t1d <- sum(dc$bmi == 2 & dc$t1d_status == 1, na.rm = TRUE)\n",
    "bmih_t1d_p <- round((bmih_t1d/t1d_n)*100,2)\n",
    "bmiht1d <- paste0(bmih_t1d,\" (\",bmih_t1d_p,\")\")\n",
    "bmiov_t1d <- sum(dc$bmi == 3 & dc$t1d_status == 1, na.rm = TRUE)\n",
    "bmiov_t1d_p <- round((bmiov_t1d/t1d_n)*100,2)\n",
    "bmiovt1d <- paste0(bmiov_t1d,\" (\",bmiov_t1d_p,\")\")\n",
    "bmiob_t1d <- sum(dc$bmi == 4 & dc$t1d_status == 1, na.rm = TRUE)\n",
    "bmiob_t1d_p <- round((bmiob_t1d/t1d_n)*100,2)\n",
    "bmiobt1d <- paste0(bmiob_t1d,\" (\",bmiob_t1d_p,\")\")\n",
    "\n",
    "bmiu_t2d <- sum(dc$bmi == 1 & dc$t2d_status == 1, na.rm = TRUE)\n",
    "bmiu_t2d_p <- round((bmiu_t2d/t2d_n)*100,2)\n",
    "bmiut2d <- paste0(bmiu_t2d,\" (\",bmiu_t2d_p,\")\")\n",
    "bmih_t2d <- sum(dc$bmi == 2 & dc$t2d_status == 1, na.rm = TRUE)\n",
    "bmih_t2d_p <- round((bmih_t2d/t2d_n)*100,2)\n",
    "bmiht2d <- paste0(bmih_t2d,\" (\",bmih_t2d_p,\")\")\n",
    "bmiov_t2d <- sum(dc$bmi == 3 & dc$t2d_status == 1, na.rm = TRUE)\n",
    "bmiov_t2d_p <- round((bmiov_t2d/t2d_n)*100,2)\n",
    "bmiovt2d <- paste0(bmiov_t2d,\" (\",bmiov_t2d_p,\")\")\n",
    "bmiob_t2d <- sum(dc$bmi == 4 & dc$t2d_status == 1, na.rm = TRUE)\n",
    "bmiob_t2d_p <- round((bmiob_t2d/t2d_n)*100,2)\n",
    "bmiobt2d <- paste0(bmiob_t2d,\" (\",bmiob_t2d_p,\")\")\n",
    "\n",
    "bmi_cat <- c(\"Underweight\", \"Health weight\", \"Overweight\", \"Obese\")\n",
    "bmi_any <- c(bmiuany, bmihany, bmiovany, bmiobany)\n",
    "bmi_t1d <- c(bmiut1d, bmiht1d, bmiovt1d, bmiobt1d)\n",
    "bmi_t2d <- c(bmiut2d, bmiht2d, bmiovt2d, bmiobt2d)\n",
    "bmi <- data.frame(bmi_cat, bmi_any, bmi_t1d, bmi_t2d)\n",
    "bmi"
   ]
  },
  {
   "cell_type": "code",
   "execution_count": 20,
   "id": "58b41d2d-e91a-45c4-957f-ebae2c724f57",
   "metadata": {},
   "outputs": [
    {
     "data": {
      "text/html": [
       "130"
      ],
      "text/latex": [
       "130"
      ],
      "text/markdown": [
       "130"
      ],
      "text/plain": [
       "[1] 130"
      ]
     },
     "metadata": {},
     "output_type": "display_data"
    },
    {
     "data": {
      "text/html": [
       "27"
      ],
      "text/latex": [
       "27"
      ],
      "text/markdown": [
       "27"
      ],
      "text/plain": [
       "[1] 27"
      ]
     },
     "metadata": {},
     "output_type": "display_data"
    },
    {
     "data": {
      "text/html": [
       "76"
      ],
      "text/latex": [
       "76"
      ],
      "text/markdown": [
       "76"
      ],
      "text/plain": [
       "[1] 76"
      ]
     },
     "metadata": {},
     "output_type": "display_data"
    },
    {
     "data": {
      "text/html": [
       "19"
      ],
      "text/latex": [
       "19"
      ],
      "text/markdown": [
       "19"
      ],
      "text/plain": [
       "[1] 19"
      ]
     },
     "metadata": {},
     "output_type": "display_data"
    },
    {
     "data": {
      "text/html": [
       "122"
      ],
      "text/latex": [
       "122"
      ],
      "text/markdown": [
       "122"
      ],
      "text/plain": [
       "[1] 122"
      ]
     },
     "metadata": {},
     "output_type": "display_data"
    },
    {
     "data": {
      "text/html": [
       "30.25"
      ],
      "text/latex": [
       "30.25"
      ],
      "text/markdown": [
       "30.25"
      ],
      "text/plain": [
       "[1] 30.25"
      ]
     },
     "metadata": {},
     "output_type": "display_data"
    },
    {
     "data": {
      "text/html": [
       "74"
      ],
      "text/latex": [
       "74"
      ],
      "text/markdown": [
       "74"
      ],
      "text/plain": [
       "[1] 74"
      ]
     },
     "metadata": {},
     "output_type": "display_data"
    },
    {
     "data": {
      "text/html": [
       "18"
      ],
      "text/latex": [
       "18"
      ],
      "text/markdown": [
       "18"
      ],
      "text/plain": [
       "[1] 18"
      ]
     },
     "metadata": {},
     "output_type": "display_data"
    },
    {
     "data": {
      "text/html": [
       "130"
      ],
      "text/latex": [
       "130"
      ],
      "text/markdown": [
       "130"
      ],
      "text/plain": [
       "[1] 130"
      ]
     },
     "metadata": {},
     "output_type": "display_data"
    },
    {
     "data": {
      "text/html": [
       "27"
      ],
      "text/latex": [
       "27"
      ],
      "text/markdown": [
       "27"
      ],
      "text/plain": [
       "[1] 27"
      ]
     },
     "metadata": {},
     "output_type": "display_data"
    },
    {
     "data": {
      "text/html": [
       "76"
      ],
      "text/latex": [
       "76"
      ],
      "text/markdown": [
       "76"
      ],
      "text/plain": [
       "[1] 76"
      ]
     },
     "metadata": {},
     "output_type": "display_data"
    },
    {
     "data": {
      "text/html": [
       "19"
      ],
      "text/latex": [
       "19"
      ],
      "text/markdown": [
       "19"
      ],
      "text/plain": [
       "[1] 19"
      ]
     },
     "metadata": {},
     "output_type": "display_data"
    },
    {
     "data": {
      "text/html": [
       "<table class=\"dataframe\">\n",
       "<caption>A data.frame: 3 × 4</caption>\n",
       "<thead>\n",
       "\t<tr><th scope=col>bp_cat</th><th scope=col>bp_any</th><th scope=col>bp_t1d</th><th scope=col>bp_t2d</th></tr>\n",
       "\t<tr><th scope=col>&lt;chr&gt;</th><th scope=col>&lt;chr&gt;</th><th scope=col>&lt;chr&gt;</th><th scope=col>&lt;chr&gt;</th></tr>\n",
       "</thead>\n",
       "<tbody>\n",
       "\t<tr><td>Low   </td><td>209 (0.47) </td><td>7 (0.32) </td><td>204 (0.48) </td></tr>\n",
       "\t<tr><td>Normal</td><td>1141 (2.58)</td><td>29 (1.34)</td><td>1119 (2.63)</td></tr>\n",
       "\t<tr><td>High  </td><td>827 (1.87) </td><td>18 (0.83)</td><td>818 (1.92) </td></tr>\n",
       "</tbody>\n",
       "</table>\n"
      ],
      "text/latex": [
       "A data.frame: 3 × 4\n",
       "\\begin{tabular}{llll}\n",
       " bp\\_cat & bp\\_any & bp\\_t1d & bp\\_t2d\\\\\n",
       " <chr> & <chr> & <chr> & <chr>\\\\\n",
       "\\hline\n",
       "\t Low    & 209 (0.47)  & 7 (0.32)  & 204 (0.48) \\\\\n",
       "\t Normal & 1141 (2.58) & 29 (1.34) & 1119 (2.63)\\\\\n",
       "\t High   & 827 (1.87)  & 18 (0.83) & 818 (1.92) \\\\\n",
       "\\end{tabular}\n"
      ],
      "text/markdown": [
       "\n",
       "A data.frame: 3 × 4\n",
       "\n",
       "| bp_cat &lt;chr&gt; | bp_any &lt;chr&gt; | bp_t1d &lt;chr&gt; | bp_t2d &lt;chr&gt; |\n",
       "|---|---|---|---|\n",
       "| Low    | 209 (0.47)  | 7 (0.32)  | 204 (0.48)  |\n",
       "| Normal | 1141 (2.58) | 29 (1.34) | 1119 (2.63) |\n",
       "| High   | 827 (1.87)  | 18 (0.83) | 818 (1.92)  |\n",
       "\n"
      ],
      "text/plain": [
       "  bp_cat bp_any      bp_t1d    bp_t2d     \n",
       "1 Low    209 (0.47)  7 (0.32)  204 (0.48) \n",
       "2 Normal 1141 (2.58) 29 (1.34) 1119 (2.63)\n",
       "3 High   827 (1.87)  18 (0.83) 818 (1.92) "
      ]
     },
     "metadata": {},
     "output_type": "display_data"
    }
   ],
   "source": [
    "# Blood Pressure\n",
    "median(dc$sbp_value[dc$any_diabetes==1], na.rm = TRUE)\n",
    "IQR(dc$sbp_value[dc$any_diabetes==1], na.rm = TRUE)\n",
    "median(dc$dbp_value[dc$any_diabetes==1], na.rm = TRUE)\n",
    "IQR(dc$dbp_value[dc$any_diabetes==1], na.rm = TRUE)\n",
    "\n",
    "median(dc$sbp_value[dc$t1d_status==1], na.rm = TRUE)\n",
    "IQR(dc$sbp_value[dc$t1d_status==1], na.rm = TRUE)\n",
    "median(dc$dbp_value[dc$t1d_status==1], na.rm = TRUE)\n",
    "IQR(dc$dbp_value[dc$t1d_status==1], na.rm = TRUE)\n",
    "\n",
    "median(dc$sbp_value[dc$t2d_status==1], na.rm = TRUE)\n",
    "IQR(dc$sbp_value[dc$t2d_status==1], na.rm = TRUE)\n",
    "median(dc$dbp_value[dc$t2d_status==1], na.rm = TRUE)\n",
    "IQR(dc$dbp_value[dc$t2d_status==1], na.rm = TRUE)\n",
    "\n",
    "\n",
    "\n",
    "bpl_any <- sum(dc$blood_pressure == 1 & dc$any_diabetes == 1, na.rm = TRUE)\n",
    "bpl_any_p <- round((bpl_any/any_diabetes_n)*100,2)\n",
    "bplany <- paste0(bpl_any,\" (\",bpl_any_p,\")\")\n",
    "\n",
    "bpl_t1d <- sum(dc$blood_pressure == 1 & dc$t1d_status == 1, na.rm = TRUE)\n",
    "bpl_t1d_p <- round((bpl_t1d/t1d_n)*100,2)\n",
    "bplt1d <- paste0(bpl_t1d,\" (\",bpl_t1d_p,\")\")\n",
    "\n",
    "bpl_t2d <- sum(dc$blood_pressure == 1 & dc$t2d_status == 1, na.rm = TRUE)\n",
    "bpl_t2d_p <- round((bpl_t2d/t2d_n)*100,2)\n",
    "bplt2d <- paste0(bpl_t2d,\" (\",bpl_t2d_p,\")\")\n",
    "\n",
    "bpn_any <- sum(dc$blood_pressure == 2 & dc$any_diabetes == 1, na.rm = TRUE)\n",
    "bpn_any_p <- round((bpn_any/any_diabetes_n)*100,2)\n",
    "bpnany <- paste0(bpn_any,\" (\",bpn_any_p,\")\")\n",
    "\n",
    "bpn_t1d <- sum(dc$blood_pressure == 2 & dc$t1d_status == 1, na.rm = TRUE)\n",
    "bpn_t1d_p <- round((bpn_t1d/t1d_n)*100,2)\n",
    "bpnt1d <- paste0(bpn_t1d,\" (\",bpn_t1d_p,\")\")\n",
    "\n",
    "bpn_t2d <- sum(dc$blood_pressure == 2 & dc$t2d_status == 1, na.rm = TRUE)\n",
    "bpn_t2d_p <- round((bpn_t2d/t2d_n)*100,2)\n",
    "bpnt2d <- paste0(bpn_t2d,\" (\",bpn_t2d_p,\")\")\n",
    "\n",
    "bph_any <- sum(dc$blood_pressure == 3 & dc$any_diabetes == 1, na.rm = TRUE)\n",
    "bph_any_p <- round((bph_any/any_diabetes_n)*100,2)\n",
    "bphany <- paste0(bph_any,\" (\",bph_any_p,\")\")\n",
    "\n",
    "bph_t1d <- sum(dc$blood_pressure == 3 & dc$t1d_status == 1, na.rm = TRUE)\n",
    "bph_t1d_p <- round((bph_t1d/t1d_n)*100,2)\n",
    "bpht1d <- paste0(bph_t1d,\" (\",bph_t1d_p,\")\")\n",
    "\n",
    "bph_t2d <- sum(dc$blood_pressure == 3 & dc$t2d_status == 1, na.rm = TRUE)\n",
    "bph_t2d_p <- round((bph_t2d/t2d_n)*100,2)\n",
    "bpht2d <- paste0(bph_t2d,\" (\",bph_t2d_p,\")\")\n",
    "\n",
    "bp_cat <- c(\"Low\", \"Normal\", \"High\")\n",
    "bp_any <- c(bplany, bpnany, bphany)\n",
    "bp_t1d <- c(bplt1d, bpnt1d, bpht1d)\n",
    "bp_t2d <- c(bplt2d, bpnt2d, bpht2d)\n",
    "bp <- data.frame(bp_cat, bp_any, bp_t1d, bp_t2d)\n",
    "bp"
   ]
  },
  {
   "cell_type": "code",
   "execution_count": 21,
   "id": "769fe19b-8bc2-4755-b0b0-3eb8d10866a4",
   "metadata": {},
   "outputs": [
    {
     "data": {
      "text/html": [
       "<table class=\"dataframe\">\n",
       "<caption>A data.frame: 2 × 4</caption>\n",
       "<thead>\n",
       "\t<tr><th scope=col>chol_cat</th><th scope=col>chol_any</th><th scope=col>chol_t1d</th><th scope=col>chol_t2d</th></tr>\n",
       "\t<tr><th scope=col>&lt;chr&gt;</th><th scope=col>&lt;chr&gt;</th><th scope=col>&lt;chr&gt;</th><th scope=col>&lt;chr&gt;</th></tr>\n",
       "</thead>\n",
       "<tbody>\n",
       "\t<tr><td>Healthy</td><td>111 (0.25)</td><td>7 (0.32)</td><td>104 (0.24)</td></tr>\n",
       "\t<tr><td>High   </td><td>59 (0.13) </td><td>2 (0.09)</td><td>58 (0.14) </td></tr>\n",
       "</tbody>\n",
       "</table>\n"
      ],
      "text/latex": [
       "A data.frame: 2 × 4\n",
       "\\begin{tabular}{llll}\n",
       " chol\\_cat & chol\\_any & chol\\_t1d & chol\\_t2d\\\\\n",
       " <chr> & <chr> & <chr> & <chr>\\\\\n",
       "\\hline\n",
       "\t Healthy & 111 (0.25) & 7 (0.32) & 104 (0.24)\\\\\n",
       "\t High    & 59 (0.13)  & 2 (0.09) & 58 (0.14) \\\\\n",
       "\\end{tabular}\n"
      ],
      "text/markdown": [
       "\n",
       "A data.frame: 2 × 4\n",
       "\n",
       "| chol_cat &lt;chr&gt; | chol_any &lt;chr&gt; | chol_t1d &lt;chr&gt; | chol_t2d &lt;chr&gt; |\n",
       "|---|---|---|---|\n",
       "| Healthy | 111 (0.25) | 7 (0.32) | 104 (0.24) |\n",
       "| High    | 59 (0.13)  | 2 (0.09) | 58 (0.14)  |\n",
       "\n"
      ],
      "text/plain": [
       "  chol_cat chol_any   chol_t1d chol_t2d  \n",
       "1 Healthy  111 (0.25) 7 (0.32) 104 (0.24)\n",
       "2 High     59 (0.13)  2 (0.09) 58 (0.14) "
      ]
     },
     "metadata": {},
     "output_type": "display_data"
    }
   ],
   "source": [
    "# Cholesterol\n",
    "chn_any <- sum(dc$cholesterol == 1 & dc$any_diabetes == 1, na.rm = TRUE)\n",
    "chn_any_p <- round((chn_any/any_diabetes_n)*100,2)\n",
    "chnany <- paste0(chn_any,\" (\",chn_any_p,\")\")\n",
    "\n",
    "chn_t1d <- sum(dc$cholesterol == 1 & dc$t1d_status == 1, na.rm = TRUE)\n",
    "chn_t1d_p <- round((chn_t1d/t1d_n)*100,2)\n",
    "chnt1d <- paste0(chn_t1d,\" (\",chn_t1d_p,\")\")\n",
    "\n",
    "chn_t2d <- sum(dc$cholesterol == 1 & dc$t2d_status == 1, na.rm = TRUE)\n",
    "chn_t2d_p <- round((chn_t2d/t2d_n)*100,2)\n",
    "chnt2d <- paste0(chn_t2d,\" (\",chn_t2d_p,\")\")\n",
    "\n",
    "chh_any <- sum(dc$cholesterol == 2 & dc$any_diabetes == 1, na.rm = TRUE)\n",
    "chh_any_p <- round((chh_any/any_diabetes_n)*100,2)\n",
    "chhany <- paste0(chh_any,\" (\",chh_any_p,\")\")\n",
    "\n",
    "chh_t1d <- sum(dc$cholesterol == 2 & dc$t1d_status == 1, na.rm = TRUE)\n",
    "chh_t1d_p <- round((chh_t1d/t1d_n)*100,2)\n",
    "chht1d <- paste0(chh_t1d,\" (\",chh_t1d_p,\")\")\n",
    "\n",
    "chh_t2d <- sum(dc$cholesterol == 2 & dc$t2d_status == 1, na.rm = TRUE)\n",
    "chh_t2d_p <- round((chh_t2d/t2d_n)*100,2)\n",
    "chht2d <- paste0(chh_t2d,\" (\",chh_t2d_p,\")\")\n",
    "\n",
    "chol_cat <- c(\"Healthy\", \"High\")\n",
    "chol_any <- c(chnany, chhany)\n",
    "chol_t1d <- c(chnt1d, chht1d)\n",
    "chol_t2d <- c(chnt2d, chht2d)\n",
    "chol <- data.frame(chol_cat, chol_any, chol_t1d, chol_t2d)\n",
    "chol"
   ]
  },
  {
   "cell_type": "code",
   "execution_count": 22,
   "id": "b7a1eac9-3b6e-413e-a241-b64fdd526c9b",
   "metadata": {},
   "outputs": [
    {
     "data": {
      "text/html": [
       "<table class=\"dataframe\">\n",
       "<caption>A data.frame: 9 × 4</caption>\n",
       "<thead>\n",
       "\t<tr><th scope=col>rd_cat</th><th scope=col>rd_any</th><th scope=col>rd_t1d</th><th scope=col>rd_t2d</th></tr>\n",
       "\t<tr><th scope=col>&lt;chr&gt;</th><th scope=col>&lt;chr&gt;</th><th scope=col>&lt;chr&gt;</th><th scope=col>&lt;chr&gt;</th></tr>\n",
       "</thead>\n",
       "<tbody>\n",
       "\t<tr><td>Any                 </td><td>26822 (60.61)</td><td>891 (41.14) </td><td>26220 (61.57)</td></tr>\n",
       "\t<tr><td>Creatinine_Normal   </td><td>459 (1.04)   </td><td>12 (0.55)   </td><td>450 (1.06)   </td></tr>\n",
       "\t<tr><td>Creatinine_High     </td><td>10328 (23.34)</td><td>431 (19.9)  </td><td>10045 (23.59)</td></tr>\n",
       "\t<tr><td>Creatinine_Very_High</td><td>31443 (71.06)</td><td>1173 (54.16)</td><td>30583 (71.81)</td></tr>\n",
       "\t<tr><td>ACR_Normal          </td><td>26644 (60.21)</td><td>886 (40.9)  </td><td>26046 (61.16)</td></tr>\n",
       "\t<tr><td>ACR_High            </td><td>26 (0.06)    </td><td>2 (0.09)    </td><td>24 (0.06)    </td></tr>\n",
       "\t<tr><td>ACR_Very_High       </td><td>3745 (8.46)  </td><td>133 (6.14)  </td><td>3654 (8.58)  </td></tr>\n",
       "\t<tr><td>eGFR_Normal         </td><td>3 (0.01)     </td><td>0 (0)       </td><td>3 (0.01)     </td></tr>\n",
       "\t<tr><td>eGFR_Reduced        </td><td>22 (0.05)    </td><td>0 (0)       </td><td>22 (0.05)    </td></tr>\n",
       "</tbody>\n",
       "</table>\n"
      ],
      "text/latex": [
       "A data.frame: 9 × 4\n",
       "\\begin{tabular}{llll}\n",
       " rd\\_cat & rd\\_any & rd\\_t1d & rd\\_t2d\\\\\n",
       " <chr> & <chr> & <chr> & <chr>\\\\\n",
       "\\hline\n",
       "\t Any                  & 26822 (60.61) & 891 (41.14)  & 26220 (61.57)\\\\\n",
       "\t Creatinine\\_Normal    & 459 (1.04)    & 12 (0.55)    & 450 (1.06)   \\\\\n",
       "\t Creatinine\\_High      & 10328 (23.34) & 431 (19.9)   & 10045 (23.59)\\\\\n",
       "\t Creatinine\\_Very\\_High & 31443 (71.06) & 1173 (54.16) & 30583 (71.81)\\\\\n",
       "\t ACR\\_Normal           & 26644 (60.21) & 886 (40.9)   & 26046 (61.16)\\\\\n",
       "\t ACR\\_High             & 26 (0.06)     & 2 (0.09)     & 24 (0.06)    \\\\\n",
       "\t ACR\\_Very\\_High        & 3745 (8.46)   & 133 (6.14)   & 3654 (8.58)  \\\\\n",
       "\t eGFR\\_Normal          & 3 (0.01)      & 0 (0)        & 3 (0.01)     \\\\\n",
       "\t eGFR\\_Reduced         & 22 (0.05)     & 0 (0)        & 22 (0.05)    \\\\\n",
       "\\end{tabular}\n"
      ],
      "text/markdown": [
       "\n",
       "A data.frame: 9 × 4\n",
       "\n",
       "| rd_cat &lt;chr&gt; | rd_any &lt;chr&gt; | rd_t1d &lt;chr&gt; | rd_t2d &lt;chr&gt; |\n",
       "|---|---|---|---|\n",
       "| Any                  | 26822 (60.61) | 891 (41.14)  | 26220 (61.57) |\n",
       "| Creatinine_Normal    | 459 (1.04)    | 12 (0.55)    | 450 (1.06)    |\n",
       "| Creatinine_High      | 10328 (23.34) | 431 (19.9)   | 10045 (23.59) |\n",
       "| Creatinine_Very_High | 31443 (71.06) | 1173 (54.16) | 30583 (71.81) |\n",
       "| ACR_Normal           | 26644 (60.21) | 886 (40.9)   | 26046 (61.16) |\n",
       "| ACR_High             | 26 (0.06)     | 2 (0.09)     | 24 (0.06)     |\n",
       "| ACR_Very_High        | 3745 (8.46)   | 133 (6.14)   | 3654 (8.58)   |\n",
       "| eGFR_Normal          | 3 (0.01)      | 0 (0)        | 3 (0.01)      |\n",
       "| eGFR_Reduced         | 22 (0.05)     | 0 (0)        | 22 (0.05)     |\n",
       "\n"
      ],
      "text/plain": [
       "  rd_cat               rd_any        rd_t1d       rd_t2d       \n",
       "1 Any                  26822 (60.61) 891 (41.14)  26220 (61.57)\n",
       "2 Creatinine_Normal    459 (1.04)    12 (0.55)    450 (1.06)   \n",
       "3 Creatinine_High      10328 (23.34) 431 (19.9)   10045 (23.59)\n",
       "4 Creatinine_Very_High 31443 (71.06) 1173 (54.16) 30583 (71.81)\n",
       "5 ACR_Normal           26644 (60.21) 886 (40.9)   26046 (61.16)\n",
       "6 ACR_High             26 (0.06)     2 (0.09)     24 (0.06)    \n",
       "7 ACR_Very_High        3745 (8.46)   133 (6.14)   3654 (8.58)  \n",
       "8 eGFR_Normal          3 (0.01)      0 (0)        3 (0.01)     \n",
       "9 eGFR_Reduced         22 (0.05)     0 (0)        22 (0.05)    "
      ]
     },
     "metadata": {},
     "output_type": "display_data"
    }
   ],
   "source": [
    "# Renal Disease\n",
    "rda_any <- sum((dc$creatinine == 1 | dc$egfr == 1 | dc$acr == 1) & dc$any_diabetes == 1, na.rm = TRUE)\n",
    "rda_any_p <- round((rda_any/any_diabetes_n)*100,2)\n",
    "rdaany <- paste0(rda_any,\" (\",rda_any_p,\")\")\n",
    "\n",
    "rda_t1d <- sum((dc$creatinine == 1 | dc$egfr == 1 | dc$acr == 1) & dc$t1d_status == 1, na.rm = TRUE)\n",
    "rda_t1d_p <- round((rda_t1d/t1d_n)*100,2)\n",
    "rdat1d <- paste0(rda_t1d,\" (\",rda_t1d_p,\")\")\n",
    "\n",
    "rda_t2d <- sum((dc$creatinine == 1 | dc$egfr == 1 | dc$acr == 1) & dc$t2d_status == 1, na.rm = TRUE)\n",
    "rda_t2d_p <- round((rda_t2d/t2d_n)*100,2)\n",
    "rdat2d <- paste0(rda_t2d,\" (\",rda_t2d_p,\")\")\n",
    "\n",
    "\n",
    "\n",
    "crn_any <- sum(dc$creatinine == 1 & dc$any_diabetes == 1, na.rm = TRUE) \n",
    "crn_any_p <- round((crn_any/any_diabetes_n)*100,2)\n",
    "crnany <- paste0(crn_any,\" (\",crn_any_p,\")\")\n",
    "\n",
    "crn_t1d <- sum(dc$creatinine == 1 & dc$t1d_status == 1, na.rm = TRUE)\n",
    "crn_t1d_p <- round((crn_t1d/t1d_n)*100,2)\n",
    "crnt1d <- paste0(crn_t1d,\" (\",crn_t1d_p,\")\")\n",
    "\n",
    "crn_t2d <- sum(dc$creatinine == 1 & dc$t2d_status == 1, na.rm = TRUE)\n",
    "crn_t2d_p <- round((crn_t2d/t2d_n)*100,2)\n",
    "crnt2d <- paste0(crn_t2d,\" (\",crn_t2d_p,\")\")\n",
    "\n",
    "crh_any <- sum(dc$creatinine == 2 & dc$any_diabetes == 1, na.rm = TRUE)\n",
    "crh_any_p <- round((crh_any/any_diabetes_n)*100,2)\n",
    "crhany <- paste0(crh_any,\" (\",crh_any_p,\")\")\n",
    "\n",
    "crh_t1d <- sum(dc$creatinine == 2 & dc$t1d_status == 1, na.rm = TRUE)\n",
    "crh_t1d_p <- round((crh_t1d/t1d_n)*100,2)\n",
    "crht1d <- paste0(crh_t1d,\" (\",crh_t1d_p,\")\")\n",
    "\n",
    "crh_t2d <- sum(dc$creatinine == 2 & dc$t2d_status == 1, na.rm = TRUE)\n",
    "crh_t2d_p <- round((crh_t2d/t2d_n)*100,2)\n",
    "crht2d <- paste0(crh_t2d,\" (\",crh_t2d_p,\")\")\n",
    "\n",
    "crvh_any <- sum(dc$creatinine == 3 & dc$any_diabetes == 1, na.rm = TRUE) \n",
    "crvh_any_p <- round((crvh_any/any_diabetes_n)*100,2)\n",
    "crvhany <- paste0(crvh_any,\" (\",crvh_any_p,\")\")\n",
    "\n",
    "crvh_t1d <- sum(dc$creatinine == 3 & dc$t1d_status == 1, na.rm = TRUE)\n",
    "crvh_t1d_p <- round((crvh_t1d/t1d_n)*100,2)\n",
    "crvht1d <- paste0(crvh_t1d,\" (\",crvh_t1d_p,\")\")\n",
    "\n",
    "crvh_t2d <- sum(dc$creatinine == 3 & dc$t2d_status == 1, na.rm = TRUE)\n",
    "crvh_t2d_p <- round((crvh_t2d/t2d_n)*100,2)\n",
    "crvht2d <- paste0(crvh_t2d,\" (\",crvh_t2d_p,\")\")\n",
    "\n",
    "\n",
    "\n",
    "egn_any <- sum(dc$egfr == 1 & dc$any_diabetes == 1, na.rm = TRUE) \n",
    "egn_any_p <- round((egn_any/any_diabetes_n)*100,2)\n",
    "egnany <- paste0(egn_any,\" (\",egn_any_p,\")\")\n",
    "\n",
    "egn_t1d <- sum(dc$egfr == 1 & dc$t1d_status == 1, na.rm = TRUE)\n",
    "egn_t1d_p <- round((egn_t1d/t1d_n)*100,2)\n",
    "egnt1d <- paste0(egn_t1d,\" (\",egn_t1d_p,\")\")\n",
    "\n",
    "egn_t2d <- sum(dc$egfr == 1 & dc$t2d_status == 1, na.rm = TRUE)\n",
    "egn_t2d_p <- round((egn_t2d/t2d_n)*100,2)\n",
    "egnt2d <- paste0(egn_t2d,\" (\",egn_t2d_p,\")\")\n",
    "\n",
    "egr_any <- sum(dc$egfr == 2 & dc$any_diabetes == 1, na.rm = TRUE) \n",
    "egr_any_p <- round((egr_any/any_diabetes_n)*100,2)\n",
    "egrany <- paste0(egr_any,\" (\",egr_any_p,\")\")\n",
    "\n",
    "egr_t1d <- sum(dc$egfr == 2 & dc$t1d_status == 1, na.rm = TRUE)\n",
    "egr_t1d_p <- round((egr_t1d/t1d_n)*100,2)\n",
    "egrt1d <- paste0(egr_t1d,\" (\",egr_t1d_p,\")\")\n",
    "\n",
    "egr_t2d <- sum(dc$egfr == 2 & dc$t2d_status == 1, na.rm = TRUE)\n",
    "egr_t2d_p <- round((egr_t2d/t2d_n)*100,2)\n",
    "egrt2d <- paste0(egr_t2d,\" (\",egr_t2d_p,\")\")\n",
    "\n",
    "\n",
    "\n",
    "acrn_any <- sum(dc$acr == 1 & dc$any_diabetes == 1, na.rm = TRUE) \n",
    "acrn_any_p <- round((acrn_any/any_diabetes_n)*100,2)\n",
    "acrnany <- paste0(acrn_any,\" (\",acrn_any_p,\")\")\n",
    "\n",
    "acrn_t1d <- sum(dc$acr == 1 & dc$t1d_status == 1, na.rm = TRUE)\n",
    "acrn_t1d_p <- round((acrn_t1d/t1d_n)*100,2)\n",
    "acrnt1d <- paste0(acrn_t1d,\" (\",acrn_t1d_p,\")\")\n",
    "\n",
    "acrn_t2d <- sum(dc$acr == 1 & dc$t2d_status == 1, na.rm = TRUE)\n",
    "acrn_t2d_p <- round((acrn_t2d/t2d_n)*100,2)\n",
    "acrnt2d <- paste0(acrn_t2d,\" (\",acrn_t2d_p,\")\")\n",
    "\n",
    "acrh_any <- sum(dc$acr == 2 & dc$any_diabetes == 1, na.rm = TRUE) \n",
    "acrh_any_p <- round((acrh_any/any_diabetes_n)*100,2)\n",
    "acrhany <- paste0(acrh_any,\" (\",acrh_any_p,\")\")\n",
    "\n",
    "acrh_t1d <- sum(dc$acr == 2 & dc$t1d_status == 1, na.rm = TRUE)\n",
    "acrh_t1d_p <- round((acrh_t1d/t1d_n)*100,2)\n",
    "acrht1d <- paste0(acrh_t1d,\" (\",acrh_t1d_p,\")\")\n",
    "\n",
    "acrh_t2d <- sum(dc$acr == 2 & dc$t2d_status == 1, na.rm = TRUE)\n",
    "acrh_t2d_p <- round((acrh_t2d/t2d_n)*100,2)\n",
    "acrht2d <- paste0(acrh_t2d,\" (\",acrh_t2d_p,\")\")\n",
    "\n",
    "acrvh_any <- sum(dc$acr == 3 & dc$any_diabetes == 1, na.rm = TRUE) \n",
    "acrvh_any_p <- round((acrvh_any/any_diabetes_n)*100,2)\n",
    "acrvhany <- paste0(acrvh_any,\" (\",acrvh_any_p,\")\")\n",
    "\n",
    "acrvh_t1d <- sum(dc$acr == 3 & dc$t1d_status == 1, na.rm = TRUE)\n",
    "acrvh_t1d_p <- round((acrvh_t1d/t1d_n)*100,2)\n",
    "acrvht1d <- paste0(acrvh_t1d,\" (\",acrvh_t1d_p,\")\")\n",
    "\n",
    "acrvh_t2d <- sum(dc$acr == 3 & dc$t2d_status == 1, na.rm = TRUE)\n",
    "acrvh_t2d_p <- round((acrvh_t2d/t2d_n)*100,2)\n",
    "acrvht2d <- paste0(acrvh_t2d,\" (\",acrvh_t2d_p,\")\")\n",
    "\n",
    "rd_cat <- c(\"Any\", \"Creatinine_Normal\", \"Creatinine_High\", \"Creatinine_Very_High\", \"ACR_Normal\", \"ACR_High\", \"ACR_Very_High\", \"eGFR_Normal\", \"eGFR_Reduced\")\n",
    "rd_any <- c(rdaany, crnany, crhany, crvhany, acrnany, acrhany, acrvhany, egnany, egrany)\n",
    "rd_t1d <- c(rdat1d, crnt1d, crht1d, crvht1d, acrnt1d, acrht1d, acrvht1d, egnt1d, egrt1d)\n",
    "rd_t2d <- c(rdat2d, crnt2d, crht2d, crvht2d, acrnt2d, acrht2d, acrvht2d, egnt2d, egrt2d)\n",
    "rd <- data.frame(rd_cat, rd_any, rd_t1d, rd_t2d)\n",
    "rd"
   ]
  },
  {
   "cell_type": "code",
   "execution_count": 24,
   "id": "f02aa9f2-a290-41c4-ac5b-d889597178a5",
   "metadata": {},
   "outputs": [
    {
     "data": {
      "text/plain": [
       "\n",
       "    0     1     2     3 \n",
       " 2027   460 10337 31453 "
      ]
     },
     "metadata": {},
     "output_type": "display_data"
    }
   ],
   "source": [
    "table(dc$creatinine)"
   ]
  },
  {
   "cell_type": "code",
   "execution_count": 23,
   "id": "9a7d634c-32cd-4c93-be5f-8bbf439173fb",
   "metadata": {},
   "outputs": [
    {
     "data": {
      "text/html": [
       "<table class=\"dataframe\">\n",
       "<caption>A data.frame: 3 × 4</caption>\n",
       "<thead>\n",
       "\t<tr><th scope=col>ethnicity_cat</th><th scope=col>eth_any</th><th scope=col>eth_t1d</th><th scope=col>eth_t2d</th></tr>\n",
       "\t<tr><th scope=col>&lt;chr&gt;</th><th scope=col>&lt;chr&gt;</th><th scope=col>&lt;chr&gt;</th><th scope=col>&lt;chr&gt;</th></tr>\n",
       "</thead>\n",
       "<tbody>\n",
       "\t<tr><td>White    </td><td>25797 (58.3) </td><td>1529 (70.59)</td><td>24531 (57.6) </td></tr>\n",
       "\t<tr><td>Pakistani</td><td>15865 (35.85)</td><td>510 (23.55) </td><td>15564 (36.54)</td></tr>\n",
       "\t<tr><td>Other    </td><td>2588 (5.85)  </td><td>127 (5.86)  </td><td>2494 (5.86)  </td></tr>\n",
       "</tbody>\n",
       "</table>\n"
      ],
      "text/latex": [
       "A data.frame: 3 × 4\n",
       "\\begin{tabular}{llll}\n",
       " ethnicity\\_cat & eth\\_any & eth\\_t1d & eth\\_t2d\\\\\n",
       " <chr> & <chr> & <chr> & <chr>\\\\\n",
       "\\hline\n",
       "\t White     & 25797 (58.3)  & 1529 (70.59) & 24531 (57.6) \\\\\n",
       "\t Pakistani & 15865 (35.85) & 510 (23.55)  & 15564 (36.54)\\\\\n",
       "\t Other     & 2588 (5.85)   & 127 (5.86)   & 2494 (5.86)  \\\\\n",
       "\\end{tabular}\n"
      ],
      "text/markdown": [
       "\n",
       "A data.frame: 3 × 4\n",
       "\n",
       "| ethnicity_cat &lt;chr&gt; | eth_any &lt;chr&gt; | eth_t1d &lt;chr&gt; | eth_t2d &lt;chr&gt; |\n",
       "|---|---|---|---|\n",
       "| White     | 25797 (58.3)  | 1529 (70.59) | 24531 (57.6)  |\n",
       "| Pakistani | 15865 (35.85) | 510 (23.55)  | 15564 (36.54) |\n",
       "| Other     | 2588 (5.85)   | 127 (5.86)   | 2494 (5.86)   |\n",
       "\n"
      ],
      "text/plain": [
       "  ethnicity_cat eth_any       eth_t1d      eth_t2d      \n",
       "1 White         25797 (58.3)  1529 (70.59) 24531 (57.6) \n",
       "2 Pakistani     15865 (35.85) 510 (23.55)  15564 (36.54)\n",
       "3 Other         2588 (5.85)   127 (5.86)   2494 (5.86)  "
      ]
     },
     "metadata": {},
     "output_type": "display_data"
    }
   ],
   "source": [
    "# Ethnicity\n",
    "# White\n",
    "ethw_any <- sum(dc$ethnicity == 1 & dc$any_diabetes == 1, na.rm = TRUE)\n",
    "ethw_any_p <- round((ethw_any/any_diabetes_n)*100,2)\n",
    "ethwany <- paste0(ethw_any,\" (\",ethw_any_p,\")\")\n",
    "\n",
    "ethw_t1d <- sum(dc$ethnicity == 1 & dc$t1d_status == 1, na.rm = TRUE)\n",
    "ethw_t1d_p <- round((ethw_t1d/t1d_n)*100,2)\n",
    "ethwt1d <- paste0(ethw_t1d,\" (\",ethw_t1d_p,\")\")\n",
    "\n",
    "ethw_t2d <- sum(dc$ethnicity == 1 & dc$t2d_status == 1, na.rm = TRUE)\n",
    "ethw_t2d_p <- round((ethw_t2d/t2d_n)*100,2)\n",
    "ethwt2d <- paste0(ethw_t2d,\" (\",ethw_t2d_p,\")\")\n",
    "\n",
    "# Pakistani\n",
    "ethp_any <- sum(dc$ethnicity == 2 & dc$any_diabetes == 1, na.rm = TRUE)\n",
    "ethp_any_p <- round((ethp_any/any_diabetes_n)*100,2)\n",
    "ethpany <- paste0(ethp_any,\" (\",ethp_any_p,\")\")\n",
    "\n",
    "ethp_t1d <- sum(dc$ethnicity == 2 & dc$t1d_status == 1, na.rm = TRUE)\n",
    "ethp_t1d_p <- round((ethp_t1d/t1d_n)*100,2)\n",
    "ethpt1d <- paste0(ethp_t1d,\" (\",ethp_t1d_p,\")\")\n",
    "\n",
    "ethp_t2d <- sum(dc$ethnicity == 2 & dc$t2d_status == 1, na.rm = TRUE)\n",
    "ethp_t2d_p <- round((ethp_t2d/t2d_n)*100,2)\n",
    "ethpt2d <- paste0(ethp_t2d,\" (\",ethp_t2d_p,\")\")\n",
    "\n",
    "# Other\n",
    "etho_any <- sum(dc$ethnicity == 3 & dc$any_diabetes == 1, na.rm = TRUE)\n",
    "etho_any_p <- round((etho_any/any_diabetes_n)*100,2)\n",
    "ethoany <- paste0(etho_any,\" (\",etho_any_p,\")\")\n",
    "\n",
    "etho_t1d <- sum(dc$ethnicity == 3 & dc$t1d_status == 1, na.rm = TRUE)\n",
    "etho_t1d_p <- round((etho_t1d/t1d_n)*100,2)\n",
    "ethot1d <- paste0(etho_t1d,\" (\",etho_t1d_p,\")\")\n",
    "\n",
    "etho_t2d <- sum(dc$ethnicity == 3 & dc$t2d_status == 1, na.rm = TRUE)\n",
    "etho_t2d_p <- round((etho_t2d/t2d_n)*100,2)\n",
    "ethot2d <- paste0(etho_t2d,\" (\",etho_t2d_p,\")\")\n",
    "\n",
    "ethnicity_cat <- c(\"White\", \"Pakistani\", \"Other\")\n",
    "eth_any <- c(ethwany, ethpany, ethoany)\n",
    "eth_t1d <- c(ethwt1d, ethpt1d, ethot1d)\n",
    "eth_t2d <- c(ethwt2d, ethpt2d, ethot2d)\n",
    "ethnicity <- data.frame(ethnicity_cat, eth_any, eth_t1d, eth_t2d)\n",
    "ethnicity\n",
    "\n"
   ]
  },
  {
   "cell_type": "code",
   "execution_count": 24,
   "id": "d69794d3-9d02-490e-849b-48aac0d3b1c9",
   "metadata": {},
   "outputs": [
    {
     "data": {
      "text/html": [
       "<table class=\"dataframe\">\n",
       "<caption>A data.frame: 10 × 4</caption>\n",
       "<thead>\n",
       "\t<tr><th scope=col>cvd_cat</th><th scope=col>cvd_any</th><th scope=col>cvd_t1d</th><th scope=col>cvd_t2d</th></tr>\n",
       "\t<tr><th scope=col>&lt;chr&gt;</th><th scope=col>&lt;chr&gt;</th><th scope=col>&lt;chr&gt;</th><th scope=col>&lt;chr&gt;</th></tr>\n",
       "</thead>\n",
       "<tbody>\n",
       "\t<tr><td>Any CVD                    </td><td>16050 (36.27)</td><td>392 (18.1)</td><td>15822 (37.15)</td></tr>\n",
       "\t<tr><td>Angina                     </td><td>4533 (10.24) </td><td>92 (4.25) </td><td>4483 (10.53) </td></tr>\n",
       "\t<tr><td>Cardiomyopathy             </td><td>1274 (2.88)  </td><td>28 (1.29) </td><td>1255 (2.95)  </td></tr>\n",
       "\t<tr><td>Heart Failure              </td><td>3644 (8.24)  </td><td>76 (3.51) </td><td>3604 (8.46)  </td></tr>\n",
       "\t<tr><td>Hypertension               </td><td>7545 (17.05) </td><td>158 (7.29)</td><td>7467 (17.53) </td></tr>\n",
       "\t<tr><td>Iscaemic Heart Disease     </td><td>2133 (4.82)  </td><td>42 (1.94) </td><td>2110 (4.95)  </td></tr>\n",
       "\t<tr><td>Myocardial Infarction      </td><td>1505 (3.4)   </td><td>33 (1.52) </td><td>1489 (3.5)   </td></tr>\n",
       "\t<tr><td>Stroke                     </td><td>4908 (11.09) </td><td>121 (5.59)</td><td>4832 (11.35) </td></tr>\n",
       "\t<tr><td>Peripheral Vascular Disease</td><td>1458 (3.29)  </td><td>79 (3.65) </td><td>1409 (3.31)  </td></tr>\n",
       "\t<tr><td>Valve Disease              </td><td>1535 (3.47)  </td><td>36 (1.66) </td><td>1511 (3.55)  </td></tr>\n",
       "</tbody>\n",
       "</table>\n"
      ],
      "text/latex": [
       "A data.frame: 10 × 4\n",
       "\\begin{tabular}{llll}\n",
       " cvd\\_cat & cvd\\_any & cvd\\_t1d & cvd\\_t2d\\\\\n",
       " <chr> & <chr> & <chr> & <chr>\\\\\n",
       "\\hline\n",
       "\t Any CVD                     & 16050 (36.27) & 392 (18.1) & 15822 (37.15)\\\\\n",
       "\t Angina                      & 4533 (10.24)  & 92 (4.25)  & 4483 (10.53) \\\\\n",
       "\t Cardiomyopathy              & 1274 (2.88)   & 28 (1.29)  & 1255 (2.95)  \\\\\n",
       "\t Heart Failure               & 3644 (8.24)   & 76 (3.51)  & 3604 (8.46)  \\\\\n",
       "\t Hypertension                & 7545 (17.05)  & 158 (7.29) & 7467 (17.53) \\\\\n",
       "\t Iscaemic Heart Disease      & 2133 (4.82)   & 42 (1.94)  & 2110 (4.95)  \\\\\n",
       "\t Myocardial Infarction       & 1505 (3.4)    & 33 (1.52)  & 1489 (3.5)   \\\\\n",
       "\t Stroke                      & 4908 (11.09)  & 121 (5.59) & 4832 (11.35) \\\\\n",
       "\t Peripheral Vascular Disease & 1458 (3.29)   & 79 (3.65)  & 1409 (3.31)  \\\\\n",
       "\t Valve Disease               & 1535 (3.47)   & 36 (1.66)  & 1511 (3.55)  \\\\\n",
       "\\end{tabular}\n"
      ],
      "text/markdown": [
       "\n",
       "A data.frame: 10 × 4\n",
       "\n",
       "| cvd_cat &lt;chr&gt; | cvd_any &lt;chr&gt; | cvd_t1d &lt;chr&gt; | cvd_t2d &lt;chr&gt; |\n",
       "|---|---|---|---|\n",
       "| Any CVD                     | 16050 (36.27) | 392 (18.1) | 15822 (37.15) |\n",
       "| Angina                      | 4533 (10.24)  | 92 (4.25)  | 4483 (10.53)  |\n",
       "| Cardiomyopathy              | 1274 (2.88)   | 28 (1.29)  | 1255 (2.95)   |\n",
       "| Heart Failure               | 3644 (8.24)   | 76 (3.51)  | 3604 (8.46)   |\n",
       "| Hypertension                | 7545 (17.05)  | 158 (7.29) | 7467 (17.53)  |\n",
       "| Iscaemic Heart Disease      | 2133 (4.82)   | 42 (1.94)  | 2110 (4.95)   |\n",
       "| Myocardial Infarction       | 1505 (3.4)    | 33 (1.52)  | 1489 (3.5)    |\n",
       "| Stroke                      | 4908 (11.09)  | 121 (5.59) | 4832 (11.35)  |\n",
       "| Peripheral Vascular Disease | 1458 (3.29)   | 79 (3.65)  | 1409 (3.31)   |\n",
       "| Valve Disease               | 1535 (3.47)   | 36 (1.66)  | 1511 (3.55)   |\n",
       "\n"
      ],
      "text/plain": [
       "   cvd_cat                     cvd_any       cvd_t1d    cvd_t2d      \n",
       "1  Any CVD                     16050 (36.27) 392 (18.1) 15822 (37.15)\n",
       "2  Angina                      4533 (10.24)  92 (4.25)  4483 (10.53) \n",
       "3  Cardiomyopathy              1274 (2.88)   28 (1.29)  1255 (2.95)  \n",
       "4  Heart Failure               3644 (8.24)   76 (3.51)  3604 (8.46)  \n",
       "5  Hypertension                7545 (17.05)  158 (7.29) 7467 (17.53) \n",
       "6  Iscaemic Heart Disease      2133 (4.82)   42 (1.94)  2110 (4.95)  \n",
       "7  Myocardial Infarction       1505 (3.4)    33 (1.52)  1489 (3.5)   \n",
       "8  Stroke                      4908 (11.09)  121 (5.59) 4832 (11.35) \n",
       "9  Peripheral Vascular Disease 1458 (3.29)   79 (3.65)  1409 (3.31)  \n",
       "10 Valve Disease               1535 (3.47)   36 (1.66)  1511 (3.55)  "
      ]
     },
     "metadata": {},
     "output_type": "display_data"
    }
   ],
   "source": [
    "# N (%) of CVD for each diabetes\n",
    "anycvd_any <- sum(dc$has_cvd == 1 & dc$any_diabetes == 1, na.rm = TRUE)\n",
    "anycvd_any_p <- round((anycvd_any/any_diabetes_n)*100,2)\n",
    "anycvdany <- paste0(anycvd_any,\" (\",anycvd_any_p,\")\")\n",
    "\n",
    "anycvd_t1d <- sum(dc$has_cvd == 1 & dc$t1d_status == 1, na.rm = TRUE)\n",
    "anycvd_t1d_p <- round((anycvd_t1d/t1d_n)*100,2)\n",
    "anycvdt1d <- paste0(anycvd_t1d,\" (\",anycvd_t1d_p,\")\")\n",
    "\n",
    "anycvd_t2d <- sum(dc$has_cvd == 1 & dc$t2d_status == 1, na.rm = TRUE)\n",
    "anycvd_t2d_p <- round((anycvd_t2d/t2d_n)*100,2)\n",
    "anycvdt2d <- paste0(anycvd_t2d,\" (\",anycvd_t2d_p,\")\")\n",
    "\n",
    "ang_any <- sum(dc$has_angina == 1 & dc$any_diabetes == 1, na.rm = TRUE)\n",
    "angcvd_any_p <- round((ang_any/any_diabetes_n)*100,2)\n",
    "angany <- paste0(ang_any,\" (\",angcvd_any_p,\")\")\n",
    "\n",
    "ang_t1d <- sum(dc$has_angina == 1 & dc$t1d_status == 1, na.rm = TRUE)\n",
    "angcvd_t1d_p <- round((ang_t1d/t1d_n)*100,2)\n",
    "angt1d <- paste0(ang_t1d,\" (\",angcvd_t1d_p,\")\")\n",
    "\n",
    "ang_t2d <- sum(dc$has_angina == 1 & dc$t2d_status == 1, na.rm = TRUE)\n",
    "angcvd_t2d_p <- round((ang_t2d/t2d_n)*100,2)\n",
    "angt2d <- paste0(ang_t2d,\" (\",angcvd_t2d_p,\")\")\n",
    "\n",
    "cardio_any <- sum(dc$has_cardiomyopathy== 1 & dc$any_diabetes == 1, na.rm = TRUE)\n",
    "cardiocvd_any_p <- round((cardio_any/any_diabetes_n)*100,2)\n",
    "cardioany <- paste0(cardio_any,\" (\",cardiocvd_any_p,\")\")\n",
    "\n",
    "cardio_t1d <- sum(dc$has_cardiomyopathy== 1 & dc$t1d_status == 1, na.rm = TRUE)\n",
    "cardiocvd_t1d_p <- round((cardio_t1d/t1d_n)*100,2)\n",
    "cardiot1d <- paste0(cardio_t1d,\" (\",cardiocvd_t1d_p,\")\")\n",
    "\n",
    "cardio_t2d <- sum(dc$has_cardiomyopathy== 1 & dc$t2d_status == 1, na.rm = TRUE)\n",
    "cardiocvd_t2d_p <- round((cardio_t2d/t2d_n)*100,2)\n",
    "cardiot2d <- paste0(cardio_t2d,\" (\",cardiocvd_t2d_p,\")\")\n",
    "\n",
    "\n",
    "hf_any <- sum(dc$has_heart_failure== 1 & dc$any_diabetes == 1, na.rm = TRUE)\n",
    "hfcvd_any_p <- round((hf_any/any_diabetes_n)*100,2)\n",
    "hfany <- paste0(hf_any,\" (\",hfcvd_any_p,\")\")\n",
    "\n",
    "hf_t1d <- sum(dc$has_heart_failure== 1 & dc$t1d_status == 1, na.rm = TRUE)\n",
    "hfcvd_t1d_p <- round((hf_t1d/t1d_n)*100,2)\n",
    "hft1d <- paste0(hf_t1d,\" (\",hfcvd_t1d_p,\")\")\n",
    "\n",
    "hf_t2d <- sum(dc$has_heart_failure== 1 & dc$t2d_status == 1, na.rm = TRUE)\n",
    "hfcvd_t2d_p <- round((hf_t2d/t2d_n)*100,2)\n",
    "hft2d <- paste0(hf_t2d,\" (\",hfcvd_t2d_p,\")\")\n",
    "\n",
    "\n",
    "ht_any <- sum(dc$has_hypertension== 1 & dc$any_diabetes == 1, na.rm = TRUE)\n",
    "htcvd_any_p <- round((ht_any/any_diabetes_n)*100,2)\n",
    "htany <- paste0(ht_any,\" (\",htcvd_any_p,\")\")\n",
    "\n",
    "ht_t1d <- sum(dc$has_hypertension== 1 & dc$t1d_status == 1, na.rm = TRUE)\n",
    "htcvd_t1d_p <- round((ht_t1d/t1d_n)*100,2)\n",
    "htt1d <- paste0(ht_t1d,\" (\",htcvd_t1d_p,\")\")\n",
    "\n",
    "ht_t2d <- sum(dc$has_hypertension== 1 & dc$t2d_status == 1, na.rm = TRUE)\n",
    "htcvd_t2d_p <- round((ht_t2d/t2d_n)*100,2)\n",
    "htt2d <- paste0(ht_t2d,\" (\",htcvd_t2d_p,\")\")\n",
    "\n",
    "\n",
    "ihd_any <- sum(dc$has_ihd== 1 & dc$any_diabetes == 1, na.rm = TRUE)\n",
    "ihdcvd_any_p <- round((ihd_any/any_diabetes_n)*100,2)\n",
    "ihdany <- paste0(ihd_any,\" (\",ihdcvd_any_p,\")\")\n",
    "\n",
    "ihd_t1d <- sum(dc$has_ihd== 1 & dc$t1d_status == 1, na.rm = TRUE)\n",
    "ihdcvd_t1d_p <- round((ihd_t1d/t1d_n)*100,2)\n",
    "ihdt1d <- paste0(ihd_t1d,\" (\",ihdcvd_t1d_p,\")\")\n",
    "\n",
    "ihd_t2d <- sum(dc$has_ihd== 1 & dc$t2d_status == 1, na.rm = TRUE)\n",
    "ihdcvd_t2d_p <- round((ihd_t2d/t2d_n)*100,2)\n",
    "ihdt2d <- paste0(ihd_t2d,\" (\",ihdcvd_t2d_p,\")\")\n",
    "\n",
    "\n",
    "mi_any <- sum(dc$has_mi== 1 & dc$any_diabetes == 1, na.rm = TRUE)\n",
    "micvd_any_p <- round((mi_any/any_diabetes_n)*100,2)\n",
    "miany <- paste0(mi_any,\" (\",micvd_any_p,\")\")\n",
    "\n",
    "mi_t1d <- sum(dc$has_mi== 1 & dc$t1d_status == 1, na.rm = TRUE)\n",
    "micvd_t1d_p <- round((mi_t1d/t1d_n)*100,2)\n",
    "mit1d <- paste0(mi_t1d,\" (\",micvd_t1d_p,\")\")\n",
    "\n",
    "mi_t2d <- sum(dc$has_mi== 1 & dc$t2d_status == 1, na.rm = TRUE)\n",
    "micvd_t2d_p <- round((mi_t2d/t2d_n)*100,2)\n",
    "mit2d <- paste0(mi_t2d,\" (\",micvd_t2d_p,\")\")\n",
    "\n",
    "\n",
    "stroke_any <- sum(dc$has_stroke== 1 & dc$any_diabetes == 1, na.rm = TRUE)\n",
    "strokecvd_any_p <- round((stroke_any/any_diabetes_n)*100,2)\n",
    "strokeany <- paste0(stroke_any,\" (\",strokecvd_any_p,\")\")\n",
    "\n",
    "stroke_t1d <- sum(dc$has_stroke== 1 & dc$t1d_status == 1, na.rm = TRUE)\n",
    "strokecvd_t1d_p <- round((stroke_t1d/t1d_n)*100,2)\n",
    "stroket1d <- paste0(stroke_t1d,\" (\",strokecvd_t1d_p,\")\")\n",
    "\n",
    "stroke_t2d <- sum(dc$has_stroke== 1 & dc$t2d_status == 1, na.rm = TRUE)\n",
    "strokecvd_t2d_p <- round((stroke_t2d/t2d_n)*100,2)\n",
    "stroket2d <- paste0(stroke_t2d,\" (\",strokecvd_t2d_p,\")\")\n",
    "\n",
    "\n",
    "pvd_any <- sum(dc$has_pvd== 1 & dc$any_diabetes == 1, na.rm = TRUE)\n",
    "pvdcvd_any_p <- round((pvd_any/any_diabetes_n)*100,2)\n",
    "pvdany <- paste0(pvd_any,\" (\",pvdcvd_any_p,\")\")\n",
    "\n",
    "pvd_t1d <- sum(dc$has_pvd== 1 & dc$t1d_status == 1, na.rm = TRUE)\n",
    "pvdcvd_t1d_p <- round((pvd_t1d/t1d_n)*100,2)\n",
    "pvdt1d <- paste0(pvd_t1d,\" (\",pvdcvd_t1d_p,\")\")\n",
    "\n",
    "pvd_t2d <- sum(dc$has_pvd== 1 & dc$t2d_status == 1, na.rm = TRUE)\n",
    "pvdcvd_t2d_p <- round((pvd_t2d/t2d_n)*100,2)\n",
    "pvdt2d <- paste0(pvd_t2d,\" (\",pvdcvd_t2d_p,\")\")\n",
    "\n",
    "\n",
    "vd_any <- sum(dc$has_valve_disease == 1 & dc$any_diabetes == 1, na.rm = TRUE)\n",
    "vdcvd_any_p <- round((vd_any/any_diabetes_n)*100,2)\n",
    "vdany <- paste0(vd_any,\" (\",vdcvd_any_p,\")\")\n",
    "\n",
    "vd_t1d <- sum(dc$has_valve_disease == 1 & dc$t1d_status == 1, na.rm = TRUE)\n",
    "vdcvd_t1d_p <- round((vd_t1d/t1d_n)*100,2)\n",
    "vdt1d <- paste0(vd_t1d,\" (\",vdcvd_t1d_p,\")\")\n",
    "\n",
    "vd_t2d <- sum(dc$has_valve_disease == 1 & dc$t2d_status == 1, na.rm = TRUE)\n",
    "vdcvd_t2d_p <- round((vd_t2d/t2d_n)*100,2)\n",
    "vdt2d <- paste0(vd_t2d,\" (\",vdcvd_t2d_p,\")\")\n",
    "\n",
    "cvd_cat <- c(\"Any CVD\", \"Angina\", \"Cardiomyopathy\", \"Heart Failure\", \"Hypertension\", \"Iscaemic Heart Disease\", \"Myocardial Infarction\", \"Stroke\", \"Peripheral Vascular Disease\", \"Valve Disease\")\n",
    "cvd_any <- c(anycvdany, angany, cardioany, hfany, htany, ihdany, miany, strokeany, pvdany, vdany)\n",
    "cvd_t1d <- c(anycvdt1d, angt1d, cardiot1d, hft1d, htt1d, ihdt1d, mit1d, stroket1d, pvdt1d, vdt1d)\n",
    "cvd_t2d <- c(anycvdt2d, angt2d, cardiot2d, hft2d, htt2d, ihdt2d, mit2d, stroket2d, pvdt2d, vdt2d)\n",
    "cvd <- data.frame(cvd_cat, cvd_any, cvd_t1d, cvd_t2d)\n",
    "cvd"
   ]
  },
  {
   "cell_type": "code",
   "execution_count": 25,
   "id": "91954152-51ef-4105-9906-dddc5dc85712",
   "metadata": {},
   "outputs": [
    {
     "data": {
      "text/plain": [
       "\n",
       "    0     1 \n",
       "33734 10543 "
      ]
     },
     "metadata": {},
     "output_type": "display_data"
    }
   ],
   "source": [
    "\n",
    "dc <- dc %>%\n",
    "    mutate(deceased = ifelse(is.na(death_datetime.x),0,1))\n",
    "table(dc$deceased)"
   ]
  },
  {
   "cell_type": "code",
   "execution_count": 26,
   "id": "0835899b-5d20-4798-96a0-1c925859094b",
   "metadata": {},
   "outputs": [
    {
     "data": {
      "text/html": [
       "<table class=\"dataframe\">\n",
       "<caption>A data.frame: 2 × 4</caption>\n",
       "<thead>\n",
       "\t<tr><th scope=col>dd_cat</th><th scope=col>dd_any</th><th scope=col>dd_t1d</th><th scope=col>dd_t2d</th></tr>\n",
       "\t<tr><th scope=col>&lt;chr&gt;</th><th scope=col>&lt;chr&gt;</th><th scope=col>&lt;chr&gt;</th><th scope=col>&lt;chr&gt;</th></tr>\n",
       "</thead>\n",
       "<tbody>\n",
       "\t<tr><td>Yes</td><td>10528 (23.79)</td><td>279 (12.88) </td><td>10355 (24.31)</td></tr>\n",
       "\t<tr><td>No </td><td>33722 (76.21)</td><td>1887 (87.12)</td><td>32234 (75.69)</td></tr>\n",
       "</tbody>\n",
       "</table>\n"
      ],
      "text/latex": [
       "A data.frame: 2 × 4\n",
       "\\begin{tabular}{llll}\n",
       " dd\\_cat & dd\\_any & dd\\_t1d & dd\\_t2d\\\\\n",
       " <chr> & <chr> & <chr> & <chr>\\\\\n",
       "\\hline\n",
       "\t Yes & 10528 (23.79) & 279 (12.88)  & 10355 (24.31)\\\\\n",
       "\t No  & 33722 (76.21) & 1887 (87.12) & 32234 (75.69)\\\\\n",
       "\\end{tabular}\n"
      ],
      "text/markdown": [
       "\n",
       "A data.frame: 2 × 4\n",
       "\n",
       "| dd_cat &lt;chr&gt; | dd_any &lt;chr&gt; | dd_t1d &lt;chr&gt; | dd_t2d &lt;chr&gt; |\n",
       "|---|---|---|---|\n",
       "| Yes | 10528 (23.79) | 279 (12.88)  | 10355 (24.31) |\n",
       "| No  | 33722 (76.21) | 1887 (87.12) | 32234 (75.69) |\n",
       "\n"
      ],
      "text/plain": [
       "  dd_cat dd_any        dd_t1d       dd_t2d       \n",
       "1 Yes    10528 (23.79) 279 (12.88)  10355 (24.31)\n",
       "2 No     33722 (76.21) 1887 (87.12) 32234 (75.69)"
      ]
     },
     "metadata": {},
     "output_type": "display_data"
    }
   ],
   "source": [
    "# Deceased\n",
    "dth_any <- sum(dc$deceased == 1 & dc$any_diabetes == 1, na.rm = TRUE)\n",
    "dth_any_p <- round((dth_any/any_diabetes_n)*100,2)\n",
    "dthany <- paste0(dth_any,\" (\",dth_any_p,\")\")\n",
    "\n",
    "ndth_any <- sum(dc$deceased == 0 & dc$any_diabetes == 1, na.rm = TRUE)\n",
    "ndth_any_p <- round((ndth_any/any_diabetes_n)*100,2)\n",
    "ndthany <- paste0(ndth_any,\" (\",ndth_any_p,\")\")\n",
    "\n",
    "\n",
    "dth_t1d <- sum(dc$deceased == 1 & dc$t1d_status == 1, na.rm = TRUE)\n",
    "dth_t1d_p <- round((dth_t1d/t1d_n)*100,2)\n",
    "dtht1d <- paste0(dth_t1d,\" (\",dth_t1d_p,\")\")\n",
    "\n",
    "ndth_t1d <- sum(dc$deceased == 0 & dc$t1d_status == 1, na.rm = TRUE)\n",
    "ndth_t1d_p <- round((ndth_t1d/t1d_n)*100,2)\n",
    "ndtht1d <- paste0(ndth_t1d,\" (\",ndth_t1d_p,\")\")\n",
    "\n",
    "\n",
    "dth_t2d <- sum(dc$deceased == 1 & dc$t2d_status == 1, na.rm = TRUE)\n",
    "dth_t2d_p <- round((dth_t2d/t2d_n)*100,2)\n",
    "dtht2d <- paste0(dth_t2d,\" (\",dth_t2d_p,\")\")\n",
    "\n",
    "ndth_t2d <- sum(dc$deceased == 0 & dc$t2d_status == 1, na.rm = TRUE)\n",
    "ndth_t2d_p <- round((ndth_t2d/t2d_n)*100,2)\n",
    "ndtht2d <- paste0(ndth_t2d,\" (\",ndth_t2d_p,\")\")\n",
    "\n",
    "\n",
    "dd_cat <- c(\"Yes\", \"No\")\n",
    "dd_any <- c(dthany, ndthany)\n",
    "dd_t1d <- c(dtht1d, ndtht1d)\n",
    "dd_t2d <- c(dtht2d, ndtht2d)\n",
    "dth <- data.frame(dd_cat, dd_any, dd_t1d, dd_t2d)\n",
    "dth\n"
   ]
  },
  {
   "cell_type": "code",
   "execution_count": 27,
   "id": "3ba92ce5-5a4d-4d54-b170-a743982c5a16",
   "metadata": {},
   "outputs": [
    {
     "data": {
      "text/html": [
       "<style>\n",
       ".list-inline {list-style: none; margin:0; padding: 0}\n",
       ".list-inline>li {display: inline-block}\n",
       ".list-inline>li:not(:last-child)::after {content: \"\\00b7\"; padding: 0 .5ex}\n",
       "</style>\n",
       "<ol class=list-inline><li>'person_id'</li><li>'age_t1d_diag'</li><li>'date_t1d_diag'</li><li>'t1d_status'</li><li>'age_t2d_diag'</li><li>'date_t2d_diag'</li><li>'t2d_status'</li><li>'age_earliest_diab'</li><li>'earliest_diabetes_diag'</li><li>'any_diabetes'</li><li>'diab_death_time'</li><li>'diabetes_meds'</li><li>'date_angina_diagnosis'</li><li>'has_angina'</li><li>'date_cardiomyopathy_diagnosis'</li><li>'has_cardiomyopathy'</li><li>'date_heart_failure_diagnosis'</li><li>'has_heart_failure'</li><li>'date_hypertension_diagnosis'</li><li>'has_hypertension'</li><li>'date_ihd_diagnosis'</li><li>'has_ihd'</li><li>'date_mi_diagnosis'</li><li>'has_mi'</li><li>'date_pvd_diagnosis'</li><li>'has_pvd'</li><li>'date_stroke_diagnosis'</li><li>'has_stroke'</li><li>'date_valve_disease_diagnosis'</li><li>'has_valve_disease'</li><li>'birth_datetime'</li><li>'death_datetime.x'</li><li>'gender'</li><li>'ethnicity'</li><li>'imd_decile'</li><li>'date_earliest_cvd'</li><li>'diab_cvd_time'</li><li>'cvd_death_time'</li><li>'has_cvd'</li><li>'death_datetime.y'</li><li>'date_cholesterol'</li><li>'cholesterol'</li><li>'closest_cholesterol'</li><li>'date_bmi'</li><li>'bmi'</li><li>'closest_bmi'</li><li>'bmi_value'</li><li>'date_smoking'</li><li>'smoking'</li><li>'closest_smoking'</li><li>'date_bp'</li><li>'blood_pressure'</li><li>'sbp_value'</li><li>'dbp_value'</li><li>'closest_bp'</li><li>'date_creatinine'</li><li>'creatinine'</li><li>'closest_creatinine'</li><li>'date_acr'</li><li>'acr'</li><li>'closest_acr'</li><li>'date_egfr'</li><li>'egfr'</li><li>'closest_egfr'</li><li>'imd_quintile'</li><li>'deceased'</li></ol>\n"
      ],
      "text/latex": [
       "\\begin{enumerate*}\n",
       "\\item 'person\\_id'\n",
       "\\item 'age\\_t1d\\_diag'\n",
       "\\item 'date\\_t1d\\_diag'\n",
       "\\item 't1d\\_status'\n",
       "\\item 'age\\_t2d\\_diag'\n",
       "\\item 'date\\_t2d\\_diag'\n",
       "\\item 't2d\\_status'\n",
       "\\item 'age\\_earliest\\_diab'\n",
       "\\item 'earliest\\_diabetes\\_diag'\n",
       "\\item 'any\\_diabetes'\n",
       "\\item 'diab\\_death\\_time'\n",
       "\\item 'diabetes\\_meds'\n",
       "\\item 'date\\_angina\\_diagnosis'\n",
       "\\item 'has\\_angina'\n",
       "\\item 'date\\_cardiomyopathy\\_diagnosis'\n",
       "\\item 'has\\_cardiomyopathy'\n",
       "\\item 'date\\_heart\\_failure\\_diagnosis'\n",
       "\\item 'has\\_heart\\_failure'\n",
       "\\item 'date\\_hypertension\\_diagnosis'\n",
       "\\item 'has\\_hypertension'\n",
       "\\item 'date\\_ihd\\_diagnosis'\n",
       "\\item 'has\\_ihd'\n",
       "\\item 'date\\_mi\\_diagnosis'\n",
       "\\item 'has\\_mi'\n",
       "\\item 'date\\_pvd\\_diagnosis'\n",
       "\\item 'has\\_pvd'\n",
       "\\item 'date\\_stroke\\_diagnosis'\n",
       "\\item 'has\\_stroke'\n",
       "\\item 'date\\_valve\\_disease\\_diagnosis'\n",
       "\\item 'has\\_valve\\_disease'\n",
       "\\item 'birth\\_datetime'\n",
       "\\item 'death\\_datetime.x'\n",
       "\\item 'gender'\n",
       "\\item 'ethnicity'\n",
       "\\item 'imd\\_decile'\n",
       "\\item 'date\\_earliest\\_cvd'\n",
       "\\item 'diab\\_cvd\\_time'\n",
       "\\item 'cvd\\_death\\_time'\n",
       "\\item 'has\\_cvd'\n",
       "\\item 'death\\_datetime.y'\n",
       "\\item 'date\\_cholesterol'\n",
       "\\item 'cholesterol'\n",
       "\\item 'closest\\_cholesterol'\n",
       "\\item 'date\\_bmi'\n",
       "\\item 'bmi'\n",
       "\\item 'closest\\_bmi'\n",
       "\\item 'bmi\\_value'\n",
       "\\item 'date\\_smoking'\n",
       "\\item 'smoking'\n",
       "\\item 'closest\\_smoking'\n",
       "\\item 'date\\_bp'\n",
       "\\item 'blood\\_pressure'\n",
       "\\item 'sbp\\_value'\n",
       "\\item 'dbp\\_value'\n",
       "\\item 'closest\\_bp'\n",
       "\\item 'date\\_creatinine'\n",
       "\\item 'creatinine'\n",
       "\\item 'closest\\_creatinine'\n",
       "\\item 'date\\_acr'\n",
       "\\item 'acr'\n",
       "\\item 'closest\\_acr'\n",
       "\\item 'date\\_egfr'\n",
       "\\item 'egfr'\n",
       "\\item 'closest\\_egfr'\n",
       "\\item 'imd\\_quintile'\n",
       "\\item 'deceased'\n",
       "\\end{enumerate*}\n"
      ],
      "text/markdown": [
       "1. 'person_id'\n",
       "2. 'age_t1d_diag'\n",
       "3. 'date_t1d_diag'\n",
       "4. 't1d_status'\n",
       "5. 'age_t2d_diag'\n",
       "6. 'date_t2d_diag'\n",
       "7. 't2d_status'\n",
       "8. 'age_earliest_diab'\n",
       "9. 'earliest_diabetes_diag'\n",
       "10. 'any_diabetes'\n",
       "11. 'diab_death_time'\n",
       "12. 'diabetes_meds'\n",
       "13. 'date_angina_diagnosis'\n",
       "14. 'has_angina'\n",
       "15. 'date_cardiomyopathy_diagnosis'\n",
       "16. 'has_cardiomyopathy'\n",
       "17. 'date_heart_failure_diagnosis'\n",
       "18. 'has_heart_failure'\n",
       "19. 'date_hypertension_diagnosis'\n",
       "20. 'has_hypertension'\n",
       "21. 'date_ihd_diagnosis'\n",
       "22. 'has_ihd'\n",
       "23. 'date_mi_diagnosis'\n",
       "24. 'has_mi'\n",
       "25. 'date_pvd_diagnosis'\n",
       "26. 'has_pvd'\n",
       "27. 'date_stroke_diagnosis'\n",
       "28. 'has_stroke'\n",
       "29. 'date_valve_disease_diagnosis'\n",
       "30. 'has_valve_disease'\n",
       "31. 'birth_datetime'\n",
       "32. 'death_datetime.x'\n",
       "33. 'gender'\n",
       "34. 'ethnicity'\n",
       "35. 'imd_decile'\n",
       "36. 'date_earliest_cvd'\n",
       "37. 'diab_cvd_time'\n",
       "38. 'cvd_death_time'\n",
       "39. 'has_cvd'\n",
       "40. 'death_datetime.y'\n",
       "41. 'date_cholesterol'\n",
       "42. 'cholesterol'\n",
       "43. 'closest_cholesterol'\n",
       "44. 'date_bmi'\n",
       "45. 'bmi'\n",
       "46. 'closest_bmi'\n",
       "47. 'bmi_value'\n",
       "48. 'date_smoking'\n",
       "49. 'smoking'\n",
       "50. 'closest_smoking'\n",
       "51. 'date_bp'\n",
       "52. 'blood_pressure'\n",
       "53. 'sbp_value'\n",
       "54. 'dbp_value'\n",
       "55. 'closest_bp'\n",
       "56. 'date_creatinine'\n",
       "57. 'creatinine'\n",
       "58. 'closest_creatinine'\n",
       "59. 'date_acr'\n",
       "60. 'acr'\n",
       "61. 'closest_acr'\n",
       "62. 'date_egfr'\n",
       "63. 'egfr'\n",
       "64. 'closest_egfr'\n",
       "65. 'imd_quintile'\n",
       "66. 'deceased'\n",
       "\n",
       "\n"
      ],
      "text/plain": [
       " [1] \"person_id\"                     \"age_t1d_diag\"                 \n",
       " [3] \"date_t1d_diag\"                 \"t1d_status\"                   \n",
       " [5] \"age_t2d_diag\"                  \"date_t2d_diag\"                \n",
       " [7] \"t2d_status\"                    \"age_earliest_diab\"            \n",
       " [9] \"earliest_diabetes_diag\"        \"any_diabetes\"                 \n",
       "[11] \"diab_death_time\"               \"diabetes_meds\"                \n",
       "[13] \"date_angina_diagnosis\"         \"has_angina\"                   \n",
       "[15] \"date_cardiomyopathy_diagnosis\" \"has_cardiomyopathy\"           \n",
       "[17] \"date_heart_failure_diagnosis\"  \"has_heart_failure\"            \n",
       "[19] \"date_hypertension_diagnosis\"   \"has_hypertension\"             \n",
       "[21] \"date_ihd_diagnosis\"            \"has_ihd\"                      \n",
       "[23] \"date_mi_diagnosis\"             \"has_mi\"                       \n",
       "[25] \"date_pvd_diagnosis\"            \"has_pvd\"                      \n",
       "[27] \"date_stroke_diagnosis\"         \"has_stroke\"                   \n",
       "[29] \"date_valve_disease_diagnosis\"  \"has_valve_disease\"            \n",
       "[31] \"birth_datetime\"                \"death_datetime.x\"             \n",
       "[33] \"gender\"                        \"ethnicity\"                    \n",
       "[35] \"imd_decile\"                    \"date_earliest_cvd\"            \n",
       "[37] \"diab_cvd_time\"                 \"cvd_death_time\"               \n",
       "[39] \"has_cvd\"                       \"death_datetime.y\"             \n",
       "[41] \"date_cholesterol\"              \"cholesterol\"                  \n",
       "[43] \"closest_cholesterol\"           \"date_bmi\"                     \n",
       "[45] \"bmi\"                           \"closest_bmi\"                  \n",
       "[47] \"bmi_value\"                     \"date_smoking\"                 \n",
       "[49] \"smoking\"                       \"closest_smoking\"              \n",
       "[51] \"date_bp\"                       \"blood_pressure\"               \n",
       "[53] \"sbp_value\"                     \"dbp_value\"                    \n",
       "[55] \"closest_bp\"                    \"date_creatinine\"              \n",
       "[57] \"creatinine\"                    \"closest_creatinine\"           \n",
       "[59] \"date_acr\"                      \"acr\"                          \n",
       "[61] \"closest_acr\"                   \"date_egfr\"                    \n",
       "[63] \"egfr\"                          \"closest_egfr\"                 \n",
       "[65] \"imd_quintile\"                  \"deceased\"                     "
      ]
     },
     "metadata": {},
     "output_type": "display_data"
    },
    {
     "data": {
      "text/html": [
       "<table class=\"dataframe\">\n",
       "<caption>A tibble: 5 × 3</caption>\n",
       "<thead>\n",
       "\t<tr><th scope=col>diab_death_time</th><th scope=col>cvd_death_time</th><th scope=col>diab_cvd_time</th></tr>\n",
       "\t<tr><th scope=col>&lt;int&gt;</th><th scope=col>&lt;int&gt;</th><th scope=col>&lt;int&gt;</th></tr>\n",
       "</thead>\n",
       "<tbody>\n",
       "\t<tr><td> 551</td><td>  NA</td><td>  NA</td></tr>\n",
       "\t<tr><td>  17</td><td>2628</td><td>2611</td></tr>\n",
       "\t<tr><td>2620</td><td>  NA</td><td>  NA</td></tr>\n",
       "\t<tr><td> 518</td><td> 377</td><td> 141</td></tr>\n",
       "\t<tr><td>2264</td><td>  NA</td><td>  NA</td></tr>\n",
       "</tbody>\n",
       "</table>\n"
      ],
      "text/latex": [
       "A tibble: 5 × 3\n",
       "\\begin{tabular}{lll}\n",
       " diab\\_death\\_time & cvd\\_death\\_time & diab\\_cvd\\_time\\\\\n",
       " <int> & <int> & <int>\\\\\n",
       "\\hline\n",
       "\t  551 &   NA &   NA\\\\\n",
       "\t   17 & 2628 & 2611\\\\\n",
       "\t 2620 &   NA &   NA\\\\\n",
       "\t  518 &  377 &  141\\\\\n",
       "\t 2264 &   NA &   NA\\\\\n",
       "\\end{tabular}\n"
      ],
      "text/markdown": [
       "\n",
       "A tibble: 5 × 3\n",
       "\n",
       "| diab_death_time &lt;int&gt; | cvd_death_time &lt;int&gt; | diab_cvd_time &lt;int&gt; |\n",
       "|---|---|---|\n",
       "|  551 |   NA |   NA |\n",
       "|   17 | 2628 | 2611 |\n",
       "| 2620 |   NA |   NA |\n",
       "|  518 |  377 |  141 |\n",
       "| 2264 |   NA |   NA |\n",
       "\n"
      ],
      "text/plain": [
       "  diab_death_time cvd_death_time diab_cvd_time\n",
       "1  551              NA             NA         \n",
       "2   17            2628           2611         \n",
       "3 2620              NA             NA         \n",
       "4  518             377            141         \n",
       "5 2264              NA             NA         "
      ]
     },
     "metadata": {},
     "output_type": "display_data"
    }
   ],
   "source": [
    "colnames(dc)\n",
    "dc %>% select(diab_death_time, cvd_death_time, diab_cvd_time) %>% slice(1:5)"
   ]
  },
  {
   "cell_type": "code",
   "execution_count": 37,
   "id": "1ab8a317-3f6d-471c-9271-867a7215df57",
   "metadata": {},
   "outputs": [],
   "source": [
    "# Change time between diagnosis and death to months\n",
    "dc <- dc %>%\n",
    "    mutate(diab_cvd_time_mth = (diab_cvd_time/30.4375),\n",
    "          diab_death_time_mth = (diab_death_time/30.4375),\n",
    "          cvd_death_time_mth = (cvd_death_time/30.4375))"
   ]
  },
  {
   "cell_type": "code",
   "execution_count": 43,
   "id": "5e3cc332-d4d9-4228-9b83-0b6a6dd3e6c2",
   "metadata": {},
   "outputs": [
    {
     "data": {
      "text/html": [
       "<table class=\"dataframe\">\n",
       "<caption>A data.frame: 1 × 3</caption>\n",
       "<thead>\n",
       "\t<tr><th scope=col>dcvd_any</th><th scope=col>dcvd_t1d</th><th scope=col>dcvd_t2d</th></tr>\n",
       "\t<tr><th scope=col>&lt;chr&gt;</th><th scope=col>&lt;chr&gt;</th><th scope=col>&lt;chr&gt;</th></tr>\n",
       "</thead>\n",
       "<tbody>\n",
       "\t<tr><td>66.08 (49.14)</td><td>69.69 (49.11)</td><td>66.01 (49.13)</td></tr>\n",
       "</tbody>\n",
       "</table>\n"
      ],
      "text/latex": [
       "A data.frame: 1 × 3\n",
       "\\begin{tabular}{lll}\n",
       " dcvd\\_any & dcvd\\_t1d & dcvd\\_t2d\\\\\n",
       " <chr> & <chr> & <chr>\\\\\n",
       "\\hline\n",
       "\t 66.08 (49.14) & 69.69 (49.11) & 66.01 (49.13)\\\\\n",
       "\\end{tabular}\n"
      ],
      "text/markdown": [
       "\n",
       "A data.frame: 1 × 3\n",
       "\n",
       "| dcvd_any &lt;chr&gt; | dcvd_t1d &lt;chr&gt; | dcvd_t2d &lt;chr&gt; |\n",
       "|---|---|---|\n",
       "| 66.08 (49.14) | 69.69 (49.11) | 66.01 (49.13) |\n",
       "\n"
      ],
      "text/plain": [
       "  dcvd_any      dcvd_t1d      dcvd_t2d     \n",
       "1 66.08 (49.14) 69.69 (49.11) 66.01 (49.13)"
      ]
     },
     "metadata": {},
     "output_type": "display_data"
    }
   ],
   "source": [
    "# Time between diabetes diagnosis and cardiovascular disease\n",
    "dd_mean_any <- round(mean(dc$diab_cvd_time_mth[dc$any_diabetes == 1], na.rm = TRUE), digits = 2)\n",
    "dd_sd_any <- round(sd(dc$diab_cvd_time_mth[dc$any_diabetes == 1], na.rm = TRUE), digits = 2)\n",
    "dd_any <- paste0(dd_mean_any,\" (\",dd_sd_any,\")\")\n",
    "\n",
    "dd_mean_t1d <- round(mean(dc$diab_cvd_time_mth[dc$t1d_status == 1], na.rm = TRUE), digits = 2)\n",
    "dd_sd_t1d <- round(sd(dc$diab_cvd_time_mth[dc$t1d_status == 1], na.rm = TRUE), digits = 2)\n",
    "dd_t1d <- paste0(dd_mean_t1d,\" (\",dd_sd_t1d,\")\")\n",
    "\n",
    "dd_mean_t2d <- round(mean(dc$diab_cvd_time_mth[dc$t2d_status == 1], na.rm = TRUE), digits = 2)\n",
    "dd_sd_t2d <- round(sd(dc$diab_cvd_time_mth[dc$t2d_status == 1], na.rm = TRUE), digits = 2)\n",
    "dd_t2d <- paste0(dd_mean_t2d,\" (\",dd_sd_t2d,\")\")\n",
    "\n",
    "dcvd_cat <- c(\"Diabetes diagnosis and Cardiovascular Disease\")\n",
    "dcvd_any <- c(dd_any)\n",
    "dcvd_t1d <- c(dd_t1d)\n",
    "dcvd_t2d <- c(dd_t2d)\n",
    "dcvd <- data.frame(dcvd_any, dcvd_t1d, dcvd_t2d)\n",
    "dcvd"
   ]
  },
  {
   "cell_type": "code",
   "execution_count": 44,
   "id": "2d5e04e0-0772-483d-a9a6-7a1926c8fcf9",
   "metadata": {},
   "outputs": [
    {
     "data": {
      "text/html": [
       "<table class=\"dataframe\">\n",
       "<caption>A data.frame: 1 × 3</caption>\n",
       "<thead>\n",
       "\t<tr><th scope=col>dcvd_any</th><th scope=col>dcvd_t1d</th><th scope=col>dcvd_t2d</th></tr>\n",
       "\t<tr><th scope=col>&lt;chr&gt;</th><th scope=col>&lt;chr&gt;</th><th scope=col>&lt;chr&gt;</th></tr>\n",
       "</thead>\n",
       "<tbody>\n",
       "\t<tr><td>80.83 (50.92)</td><td>75.89 (51.34)</td><td>81 (50.87)</td></tr>\n",
       "</tbody>\n",
       "</table>\n"
      ],
      "text/latex": [
       "A data.frame: 1 × 3\n",
       "\\begin{tabular}{lll}\n",
       " dcvd\\_any & dcvd\\_t1d & dcvd\\_t2d\\\\\n",
       " <chr> & <chr> & <chr>\\\\\n",
       "\\hline\n",
       "\t 80.83 (50.92) & 75.89 (51.34) & 81 (50.87)\\\\\n",
       "\\end{tabular}\n"
      ],
      "text/markdown": [
       "\n",
       "A data.frame: 1 × 3\n",
       "\n",
       "| dcvd_any &lt;chr&gt; | dcvd_t1d &lt;chr&gt; | dcvd_t2d &lt;chr&gt; |\n",
       "|---|---|---|\n",
       "| 80.83 (50.92) | 75.89 (51.34) | 81 (50.87) |\n",
       "\n"
      ],
      "text/plain": [
       "  dcvd_any      dcvd_t1d      dcvd_t2d  \n",
       "1 80.83 (50.92) 75.89 (51.34) 81 (50.87)"
      ]
     },
     "metadata": {},
     "output_type": "display_data"
    }
   ],
   "source": [
    "# Time between diabetes and death\n",
    "dd_mean_any <- round(mean(dc$diab_death_time_mth[dc$any_diabetes == 1], na.rm = TRUE), digits = 2)\n",
    "dd_sd_any <- round(sd(dc$diab_death_time_mth[dc$any_diabetes == 1], na.rm = TRUE), digits = 2)\n",
    "dd_any <- paste0(dd_mean_any,\" (\",dd_sd_any,\")\")\n",
    "\n",
    "dd_mean_t1d <- round(mean(dc$diab_death_time_mth[dc$t1d_status == 1], na.rm = TRUE), digits = 2)\n",
    "dd_sd_t1d <- round(sd(dc$diab_death_time_mth[dc$t1d_status == 1], na.rm = TRUE), digits = 2)\n",
    "dd_t1d <- paste0(dd_mean_t1d,\" (\",dd_sd_t1d,\")\")\n",
    "\n",
    "dd_mean_t2d <- round(mean(dc$diab_death_time_mth[dc$t2d_status == 1], na.rm = TRUE), digits = 2)\n",
    "dd_sd_t2d <- round(sd(dc$diab_death_time_mth[dc$t2d_status == 1], na.rm = TRUE), digits = 2)\n",
    "dd_t2d <- paste0(dd_mean_t2d,\" (\",dd_sd_t2d,\")\")\n",
    "\n",
    "dcvd_cat <- c(\"Diabetes diagnosis and death\")\n",
    "dcvd_any <- c(dd_any)\n",
    "dcvd_t1d <- c(dd_t1d)\n",
    "dcvd_t2d <- c(dd_t2d)\n",
    "dcvd <- data.frame(dcvd_any, dcvd_t1d, dcvd_t2d)\n",
    "dcvd"
   ]
  },
  {
   "cell_type": "code",
   "execution_count": 45,
   "id": "fd8c6f4f-2355-4d26-8335-0d72a37a0717",
   "metadata": {},
   "outputs": [
    {
     "data": {
      "text/html": [
       "<table class=\"dataframe\">\n",
       "<caption>A data.frame: 1 × 3</caption>\n",
       "<thead>\n",
       "\t<tr><th scope=col>dcvd_any</th><th scope=col>dcvd_t1d</th><th scope=col>dcvd_t2d</th></tr>\n",
       "\t<tr><th scope=col>&lt;chr&gt;</th><th scope=col>&lt;chr&gt;</th><th scope=col>&lt;chr&gt;</th></tr>\n",
       "</thead>\n",
       "<tbody>\n",
       "\t<tr><td>100.07 (68.15)</td><td>90.22 (61.28)</td><td>100.23 (68.19)</td></tr>\n",
       "</tbody>\n",
       "</table>\n"
      ],
      "text/latex": [
       "A data.frame: 1 × 3\n",
       "\\begin{tabular}{lll}\n",
       " dcvd\\_any & dcvd\\_t1d & dcvd\\_t2d\\\\\n",
       " <chr> & <chr> & <chr>\\\\\n",
       "\\hline\n",
       "\t 100.07 (68.15) & 90.22 (61.28) & 100.23 (68.19)\\\\\n",
       "\\end{tabular}\n"
      ],
      "text/markdown": [
       "\n",
       "A data.frame: 1 × 3\n",
       "\n",
       "| dcvd_any &lt;chr&gt; | dcvd_t1d &lt;chr&gt; | dcvd_t2d &lt;chr&gt; |\n",
       "|---|---|---|\n",
       "| 100.07 (68.15) | 90.22 (61.28) | 100.23 (68.19) |\n",
       "\n"
      ],
      "text/plain": [
       "  dcvd_any       dcvd_t1d      dcvd_t2d      \n",
       "1 100.07 (68.15) 90.22 (61.28) 100.23 (68.19)"
      ]
     },
     "metadata": {},
     "output_type": "display_data"
    }
   ],
   "source": [
    "# Time between cardiovascular disease and death\n",
    "dd_mean_any <- round(mean(dc$cvd_death_time_mth[dc$any_diabetes == 1], na.rm = TRUE), digits = 2)\n",
    "dd_sd_any <- round(sd(dc$cvd_death_time_mth[dc$any_diabetes == 1], na.rm = TRUE), digits = 2)\n",
    "dd_any <- paste0(dd_mean_any,\" (\",dd_sd_any,\")\")\n",
    "\n",
    "dd_mean_t1d <- round(mean(dc$cvd_death_time_mth[dc$t1d_status == 1], na.rm = TRUE), digits = 2)\n",
    "dd_sd_t1d <- round(sd(dc$cvd_death_time_mth[dc$t1d_status == 1], na.rm = TRUE), digits = 2)\n",
    "dd_t1d <- paste0(dd_mean_t1d,\" (\",dd_sd_t1d,\")\")\n",
    "\n",
    "dd_mean_t2d <- round(mean(dc$cvd_death_time_mth[dc$t2d_status == 1], na.rm = TRUE), digits = 2)\n",
    "dd_sd_t2d <- round(sd(dc$cvd_death_time_mth[dc$t2d_status == 1], na.rm = TRUE), digits = 2)\n",
    "dd_t2d <- paste0(dd_mean_t2d,\" (\",dd_sd_t2d,\")\")\n",
    "\n",
    "dcvd_cat <- c(\"CVD diagnosis and death\")\n",
    "dcvd_any <- c(dd_any)\n",
    "dcvd_t1d <- c(dd_t1d)\n",
    "dcvd_t2d <- c(dd_t2d)\n",
    "dcvd <- data.frame(dcvd_any, dcvd_t1d, dcvd_t2d)\n",
    "dcvd"
   ]
  },
  {
   "cell_type": "code",
   "execution_count": 64,
   "id": "7db9389a-a547-4538-bdd1-53a6c26135c3",
   "metadata": {},
   "outputs": [],
   "source": [
    "# Replace 0s in Cholesterol, BMI, Smoking, BP, Creatinine, ACR, EGFR with NAs\n",
    "dc$cholesterol[dc$cholesterol==0] <- NA\n",
    "dc$smoking[dc$smoking==0] <- NA\n",
    "dc$bmi[dc$bmi==0] <- NA\n",
    "dc$blood_pressure[dc$blood_pressure==0] <- NA\n",
    "dc$creatinine[dc$creatinine==0] <- NA\n",
    "dc$acr[dc$acr==0] <- NA\n",
    "dc$egfr[dc$egfr==0] <- NA"
   ]
  },
  {
   "cell_type": "code",
   "execution_count": 76,
   "id": "67f5b354-220a-4e2f-a66c-bf54833e0b0c",
   "metadata": {},
   "outputs": [
    {
     "data": {
      "text/html": [
       "0"
      ],
      "text/latex": [
       "0"
      ],
      "text/markdown": [
       "0"
      ],
      "text/plain": [
       "[1] 0"
      ]
     },
     "metadata": {},
     "output_type": "display_data"
    },
    {
     "data": {
      "text/html": [
       "0"
      ],
      "text/latex": [
       "0"
      ],
      "text/markdown": [
       "0"
      ],
      "text/plain": [
       "[1] 0"
      ]
     },
     "metadata": {},
     "output_type": "display_data"
    },
    {
     "data": {
      "text/html": [
       "0"
      ],
      "text/latex": [
       "0"
      ],
      "text/markdown": [
       "0"
      ],
      "text/plain": [
       "[1] 0"
      ]
     },
     "metadata": {},
     "output_type": "display_data"
    },
    {
     "data": {
      "text/html": [
       "<table class=\"dataframe\">\n",
       "<caption>A data.frame: 1 × 3</caption>\n",
       "<thead>\n",
       "\t<tr><th scope=col>smkg_any_na</th><th scope=col>smkg_t1d_na</th><th scope=col>smkg_t2d_na</th></tr>\n",
       "\t<tr><th scope=col>&lt;chr&gt;</th><th scope=col>&lt;chr&gt;</th><th scope=col>&lt;chr&gt;</th></tr>\n",
       "</thead>\n",
       "<tbody>\n",
       "\t<tr><td>22428 (50.68)</td><td>1364 (62.97)</td><td>21355 (50.14)</td></tr>\n",
       "</tbody>\n",
       "</table>\n"
      ],
      "text/latex": [
       "A data.frame: 1 × 3\n",
       "\\begin{tabular}{lll}\n",
       " smkg\\_any\\_na & smkg\\_t1d\\_na & smkg\\_t2d\\_na\\\\\n",
       " <chr> & <chr> & <chr>\\\\\n",
       "\\hline\n",
       "\t 22428 (50.68) & 1364 (62.97) & 21355 (50.14)\\\\\n",
       "\\end{tabular}\n"
      ],
      "text/markdown": [
       "\n",
       "A data.frame: 1 × 3\n",
       "\n",
       "| smkg_any_na &lt;chr&gt; | smkg_t1d_na &lt;chr&gt; | smkg_t2d_na &lt;chr&gt; |\n",
       "|---|---|---|\n",
       "| 22428 (50.68) | 1364 (62.97) | 21355 (50.14) |\n",
       "\n"
      ],
      "text/plain": [
       "  smkg_any_na   smkg_t1d_na  smkg_t2d_na  \n",
       "1 22428 (50.68) 1364 (62.97) 21355 (50.14)"
      ]
     },
     "metadata": {},
     "output_type": "display_data"
    },
    {
     "data": {
      "text/html": [
       "<table class=\"dataframe\">\n",
       "<caption>A data.frame: 1 × 3</caption>\n",
       "<thead>\n",
       "\t<tr><th scope=col>bmig_any_na</th><th scope=col>bmig_t1d_na</th><th scope=col>bmig_t2d_na</th></tr>\n",
       "\t<tr><th scope=col>&lt;chr&gt;</th><th scope=col>&lt;chr&gt;</th><th scope=col>&lt;chr&gt;</th></tr>\n",
       "</thead>\n",
       "<tbody>\n",
       "\t<tr><td>3062 (6.92)</td><td>331 (15.28)</td><td>2776 (6.52)</td></tr>\n",
       "</tbody>\n",
       "</table>\n"
      ],
      "text/latex": [
       "A data.frame: 1 × 3\n",
       "\\begin{tabular}{lll}\n",
       " bmig\\_any\\_na & bmig\\_t1d\\_na & bmig\\_t2d\\_na\\\\\n",
       " <chr> & <chr> & <chr>\\\\\n",
       "\\hline\n",
       "\t 3062 (6.92) & 331 (15.28) & 2776 (6.52)\\\\\n",
       "\\end{tabular}\n"
      ],
      "text/markdown": [
       "\n",
       "A data.frame: 1 × 3\n",
       "\n",
       "| bmig_any_na &lt;chr&gt; | bmig_t1d_na &lt;chr&gt; | bmig_t2d_na &lt;chr&gt; |\n",
       "|---|---|---|\n",
       "| 3062 (6.92) | 331 (15.28) | 2776 (6.52) |\n",
       "\n"
      ],
      "text/plain": [
       "  bmig_any_na bmig_t1d_na bmig_t2d_na\n",
       "1 3062 (6.92) 331 (15.28) 2776 (6.52)"
      ]
     },
     "metadata": {},
     "output_type": "display_data"
    },
    {
     "data": {
      "text/html": [
       "<table class=\"dataframe\">\n",
       "<caption>A data.frame: 1 × 3</caption>\n",
       "<thead>\n",
       "\t<tr><th scope=col>bpg_any_na</th><th scope=col>bpg_t1d_na</th><th scope=col>bpg_t2d_na</th></tr>\n",
       "\t<tr><th scope=col>&lt;chr&gt;</th><th scope=col>&lt;chr&gt;</th><th scope=col>&lt;chr&gt;</th></tr>\n",
       "</thead>\n",
       "<tbody>\n",
       "\t<tr><td>42073 (95.08)</td><td>2112 (97.51)</td><td>40448 (94.97)</td></tr>\n",
       "</tbody>\n",
       "</table>\n"
      ],
      "text/latex": [
       "A data.frame: 1 × 3\n",
       "\\begin{tabular}{lll}\n",
       " bpg\\_any\\_na & bpg\\_t1d\\_na & bpg\\_t2d\\_na\\\\\n",
       " <chr> & <chr> & <chr>\\\\\n",
       "\\hline\n",
       "\t 42073 (95.08) & 2112 (97.51) & 40448 (94.97)\\\\\n",
       "\\end{tabular}\n"
      ],
      "text/markdown": [
       "\n",
       "A data.frame: 1 × 3\n",
       "\n",
       "| bpg_any_na &lt;chr&gt; | bpg_t1d_na &lt;chr&gt; | bpg_t2d_na &lt;chr&gt; |\n",
       "|---|---|---|\n",
       "| 42073 (95.08) | 2112 (97.51) | 40448 (94.97) |\n",
       "\n"
      ],
      "text/plain": [
       "  bpg_any_na    bpg_t1d_na   bpg_t2d_na   \n",
       "1 42073 (95.08) 2112 (97.51) 40448 (94.97)"
      ]
     },
     "metadata": {},
     "output_type": "display_data"
    },
    {
     "data": {
      "text/html": [
       "<table class=\"dataframe\">\n",
       "<caption>A data.frame: 1 × 3</caption>\n",
       "<thead>\n",
       "\t<tr><th scope=col>cholesterolg_any_na</th><th scope=col>cholesterolg_t1d_na</th><th scope=col>cholesterolg_t2d_na</th></tr>\n",
       "\t<tr><th scope=col>&lt;chr&gt;</th><th scope=col>&lt;chr&gt;</th><th scope=col>&lt;chr&gt;</th></tr>\n",
       "</thead>\n",
       "<tbody>\n",
       "\t<tr><td>44080 (99.62)</td><td>2157 (99.58)</td><td>42427 (99.62)</td></tr>\n",
       "</tbody>\n",
       "</table>\n"
      ],
      "text/latex": [
       "A data.frame: 1 × 3\n",
       "\\begin{tabular}{lll}\n",
       " cholesterolg\\_any\\_na & cholesterolg\\_t1d\\_na & cholesterolg\\_t2d\\_na\\\\\n",
       " <chr> & <chr> & <chr>\\\\\n",
       "\\hline\n",
       "\t 44080 (99.62) & 2157 (99.58) & 42427 (99.62)\\\\\n",
       "\\end{tabular}\n"
      ],
      "text/markdown": [
       "\n",
       "A data.frame: 1 × 3\n",
       "\n",
       "| cholesterolg_any_na &lt;chr&gt; | cholesterolg_t1d_na &lt;chr&gt; | cholesterolg_t2d_na &lt;chr&gt; |\n",
       "|---|---|---|\n",
       "| 44080 (99.62) | 2157 (99.58) | 42427 (99.62) |\n",
       "\n"
      ],
      "text/plain": [
       "  cholesterolg_any_na cholesterolg_t1d_na cholesterolg_t2d_na\n",
       "1 44080 (99.62)       2157 (99.58)        42427 (99.62)      "
      ]
     },
     "metadata": {},
     "output_type": "display_data"
    },
    {
     "data": {
      "text/html": [
       "<table class=\"dataframe\">\n",
       "<caption>A data.frame: 1 × 3</caption>\n",
       "<thead>\n",
       "\t<tr><th scope=col>creatinineg_any_na</th><th scope=col>creatinineg_t1d_na</th><th scope=col>creatinineg_t2d_na</th></tr>\n",
       "\t<tr><th scope=col>&lt;chr&gt;</th><th scope=col>&lt;chr&gt;</th><th scope=col>&lt;chr&gt;</th></tr>\n",
       "</thead>\n",
       "<tbody>\n",
       "\t<tr><td>2020 (4.56)</td><td>550 (25.39)</td><td>1511 (3.55)</td></tr>\n",
       "</tbody>\n",
       "</table>\n"
      ],
      "text/latex": [
       "A data.frame: 1 × 3\n",
       "\\begin{tabular}{lll}\n",
       " creatinineg\\_any\\_na & creatinineg\\_t1d\\_na & creatinineg\\_t2d\\_na\\\\\n",
       " <chr> & <chr> & <chr>\\\\\n",
       "\\hline\n",
       "\t 2020 (4.56) & 550 (25.39) & 1511 (3.55)\\\\\n",
       "\\end{tabular}\n"
      ],
      "text/markdown": [
       "\n",
       "A data.frame: 1 × 3\n",
       "\n",
       "| creatinineg_any_na &lt;chr&gt; | creatinineg_t1d_na &lt;chr&gt; | creatinineg_t2d_na &lt;chr&gt; |\n",
       "|---|---|---|\n",
       "| 2020 (4.56) | 550 (25.39) | 1511 (3.55) |\n",
       "\n"
      ],
      "text/plain": [
       "  creatinineg_any_na creatinineg_t1d_na creatinineg_t2d_na\n",
       "1 2020 (4.56)        550 (25.39)        1511 (3.55)       "
      ]
     },
     "metadata": {},
     "output_type": "display_data"
    },
    {
     "data": {
      "text/html": [
       "<table class=\"dataframe\">\n",
       "<caption>A data.frame: 1 × 3</caption>\n",
       "<thead>\n",
       "\t<tr><th scope=col>acrg_any_na</th><th scope=col>acrg_t1d_na</th><th scope=col>acrg_t2d_na</th></tr>\n",
       "\t<tr><th scope=col>&lt;chr&gt;</th><th scope=col>&lt;chr&gt;</th><th scope=col>&lt;chr&gt;</th></tr>\n",
       "</thead>\n",
       "<tbody>\n",
       "\t<tr><td>13835 (31.27)</td><td>1145 (52.86)</td><td>12865 (30.21)</td></tr>\n",
       "</tbody>\n",
       "</table>\n"
      ],
      "text/latex": [
       "A data.frame: 1 × 3\n",
       "\\begin{tabular}{lll}\n",
       " acrg\\_any\\_na & acrg\\_t1d\\_na & acrg\\_t2d\\_na\\\\\n",
       " <chr> & <chr> & <chr>\\\\\n",
       "\\hline\n",
       "\t 13835 (31.27) & 1145 (52.86) & 12865 (30.21)\\\\\n",
       "\\end{tabular}\n"
      ],
      "text/markdown": [
       "\n",
       "A data.frame: 1 × 3\n",
       "\n",
       "| acrg_any_na &lt;chr&gt; | acrg_t1d_na &lt;chr&gt; | acrg_t2d_na &lt;chr&gt; |\n",
       "|---|---|---|\n",
       "| 13835 (31.27) | 1145 (52.86) | 12865 (30.21) |\n",
       "\n"
      ],
      "text/plain": [
       "  acrg_any_na   acrg_t1d_na  acrg_t2d_na  \n",
       "1 13835 (31.27) 1145 (52.86) 12865 (30.21)"
      ]
     },
     "metadata": {},
     "output_type": "display_data"
    },
    {
     "data": {
      "text/html": [
       "<table class=\"dataframe\">\n",
       "<caption>A data.frame: 1 × 3</caption>\n",
       "<thead>\n",
       "\t<tr><th scope=col>egfrg_any_na</th><th scope=col>egfrg_t1d_na</th><th scope=col>egfrg_t2d_na</th></tr>\n",
       "\t<tr><th scope=col>&lt;chr&gt;</th><th scope=col>&lt;chr&gt;</th><th scope=col>&lt;chr&gt;</th></tr>\n",
       "</thead>\n",
       "<tbody>\n",
       "\t<tr><td>44225 (99.94)</td><td>2166 (100)</td><td>42564 (99.94)</td></tr>\n",
       "</tbody>\n",
       "</table>\n"
      ],
      "text/latex": [
       "A data.frame: 1 × 3\n",
       "\\begin{tabular}{lll}\n",
       " egfrg\\_any\\_na & egfrg\\_t1d\\_na & egfrg\\_t2d\\_na\\\\\n",
       " <chr> & <chr> & <chr>\\\\\n",
       "\\hline\n",
       "\t 44225 (99.94) & 2166 (100) & 42564 (99.94)\\\\\n",
       "\\end{tabular}\n"
      ],
      "text/markdown": [
       "\n",
       "A data.frame: 1 × 3\n",
       "\n",
       "| egfrg_any_na &lt;chr&gt; | egfrg_t1d_na &lt;chr&gt; | egfrg_t2d_na &lt;chr&gt; |\n",
       "|---|---|---|\n",
       "| 44225 (99.94) | 2166 (100) | 42564 (99.94) |\n",
       "\n"
      ],
      "text/plain": [
       "  egfrg_any_na  egfrg_t1d_na egfrg_t2d_na \n",
       "1 44225 (99.94) 2166 (100)   42564 (99.94)"
      ]
     },
     "metadata": {},
     "output_type": "display_data"
    }
   ],
   "source": [
    "# Number of missing records\n",
    "# Age\n",
    "#sum(is.na(dc$age_earliest_diab[dc$any_diabetes == 1]))\n",
    "#sum(is.na(dc$age_t1d_diag[dc$t1d_status == 1]))\n",
    "#sum(is.na(dc$age_t2d_diag[dc$t2d_status == 1]))\n",
    "\n",
    "# Gender\n",
    "#sum(is.na(dc$gender[dc$any_diabetes == 1]))\n",
    "#sum(is.na(dc$age_t1d_diag[dc$t1d_status == 1]))\n",
    "#sum(is.na(dc$age_t2d_diag[dc$t2d_status == 1]))\n",
    "\n",
    "# IMD\n",
    "#sum(is.na(dc$imd_quintile[dc$any_diabetes == 1]))\n",
    "#sum(is.na(dc$imd_quintile[dc$t1d_status == 1]))\n",
    "#sum(is.na(dc$imd_quintile[dc$t2d_status == 1]))\n",
    "\n",
    "# Ethnicity\n",
    "#sum(is.na(dc$ethnicity[dc$any_diabetes == 1]))\n",
    "#sum(is.na(dc$ethnicity[dc$t1d_status == 1]))\n",
    "#sum(is.na(dc$ethnicity[dc$t2d_status == 1]))\n",
    "\n",
    "# Smoking\n",
    "smk_any_na <- sum(is.na(dc$smoking[dc$any_diabetes == 1]))\n",
    "smk_any_na_p <- round((smk_any_na/any_diabetes_n)*100,2)\n",
    "smkanyna <- paste0(smk_any_na,\" (\",smk_any_na_p,\")\")\n",
    "smk_t1d_na <- sum(is.na(dc$smoking[dc$t1d_status == 1]))\n",
    "smk_t1d_na_p <- round((smk_t1d_na/t1d_n)*100,2)\n",
    "smkt1dna <- paste0(smk_t1d_na,\" (\",smk_t1d_na_p,\")\")\n",
    "smk_t2d_na <- sum(is.na(dc$smoking[dc$t2d_status == 1]))\n",
    "smk_t2d_na_p <- round((smk_t2d_na/t2d_n)*100,2)\n",
    "smkt2dna <- paste0(smk_t2d_na,\" (\",smk_t2d_na_p,\")\")\n",
    "smkg_any_na <- c(smkanyna)\n",
    "smkg_t1d_na <- c(smkt1dna)\n",
    "smkg_t2d_na <- c(smkt2dna)\n",
    "smkg_na <- data.frame(smkg_any_na, smkg_t1d_na, smkg_t2d_na)\n",
    "smkg_na\n",
    "\n",
    "\n",
    "# BMI\n",
    "bmi_any_na <- sum(is.na(dc$bmi[dc$any_diabetes == 1]))\n",
    "bmi_any_na_p <- round((bmi_any_na/any_diabetes_n)*100,2)\n",
    "bmianyna <- paste0(bmi_any_na,\" (\",bmi_any_na_p,\")\")\n",
    "bmi_t1d_na <- sum(is.na(dc$bmi[dc$t1d_status == 1]))\n",
    "bmi_t1d_na_p <- round((bmi_t1d_na/t1d_n)*100,2)\n",
    "bmit1dna <- paste0(bmi_t1d_na,\" (\",bmi_t1d_na_p,\")\")\n",
    "bmi_t2d_na <- sum(is.na(dc$bmi[dc$t2d_status == 1]))\n",
    "bmi_t2d_na_p <- round((bmi_t2d_na/t2d_n)*100,2)\n",
    "bmit2dna <- paste0(bmi_t2d_na,\" (\",bmi_t2d_na_p,\")\")\n",
    "bmig_any_na <- c(bmianyna)\n",
    "bmig_t1d_na <- c(bmit1dna)\n",
    "bmig_t2d_na <- c(bmit2dna)\n",
    "bmig_na <- data.frame(bmig_any_na, bmig_t1d_na, bmig_t2d_na)\n",
    "bmig_na\n",
    "\n",
    "# Blood Pressure\n",
    "bp_any_na <- sum(is.na(dc$blood_pressure[dc$any_diabetes == 1]))\n",
    "bp_any_na_p <- round((bp_any_na/any_diabetes_n)*100,2)\n",
    "bpanyna <- paste0(bp_any_na,\" (\",bp_any_na_p,\")\")\n",
    "bp_t1d_na <- sum(is.na(dc$blood_pressure[dc$t1d_status == 1]))\n",
    "bp_t1d_na_p <- round((bp_t1d_na/t1d_n)*100,2)\n",
    "bpt1dna <- paste0(bp_t1d_na,\" (\",bp_t1d_na_p,\")\")\n",
    "bp_t2d_na <- sum(is.na(dc$blood_pressure[dc$t2d_status == 1]))\n",
    "bp_t2d_na_p <- round((bp_t2d_na/t2d_n)*100,2)\n",
    "bpt2dna <- paste0(bp_t2d_na,\" (\",bp_t2d_na_p,\")\")\n",
    "bpg_any_na <- c(bpanyna)\n",
    "bpg_t1d_na <- c(bpt1dna)\n",
    "bpg_t2d_na <- c(bpt2dna)\n",
    "bpg_na <- data.frame(bpg_any_na, bpg_t1d_na, bpg_t2d_na)\n",
    "bpg_na\n",
    "\n",
    "# Cholesterol\n",
    "cholesterol_any_na <- sum(is.na(dc$cholesterol[dc$any_diabetes == 1]))\n",
    "cholesterol_any_na_p <- round((cholesterol_any_na/any_diabetes_n)*100,2)\n",
    "cholesterolanyna <- paste0(cholesterol_any_na,\" (\",cholesterol_any_na_p,\")\")\n",
    "cholesterol_t1d_na <- sum(is.na(dc$cholesterol[dc$t1d_status == 1]))\n",
    "cholesterol_t1d_na_p <- round((cholesterol_t1d_na/t1d_n)*100,2)\n",
    "cholesterolt1dna <- paste0(cholesterol_t1d_na,\" (\",cholesterol_t1d_na_p,\")\")\n",
    "cholesterol_t2d_na <- sum(is.na(dc$cholesterol[dc$t2d_status == 1]))\n",
    "cholesterol_t2d_na_p <- round((cholesterol_t2d_na/t2d_n)*100,2)\n",
    "cholesterolt2dna <- paste0(cholesterol_t2d_na,\" (\",cholesterol_t2d_na_p,\")\")\n",
    "cholesterolg_any_na <- c(cholesterolanyna)\n",
    "cholesterolg_t1d_na <- c(cholesterolt1dna)\n",
    "cholesterolg_t2d_na <- c(cholesterolt2dna)\n",
    "cholesterolg_na <- data.frame(cholesterolg_any_na, cholesterolg_t1d_na, cholesterolg_t2d_na)\n",
    "cholesterolg_na\n",
    "\n",
    "# Creatinine\n",
    "creatinine_any_na <- sum(is.na(dc$creatinine[dc$any_diabetes == 1]))\n",
    "creatinine_any_na_p <- round((creatinine_any_na/any_diabetes_n)*100,2)\n",
    "creatinineanyna <- paste0(creatinine_any_na,\" (\",creatinine_any_na_p,\")\")\n",
    "creatinine_t1d_na <- sum(is.na(dc$creatinine[dc$t1d_status == 1]))\n",
    "creatinine_t1d_na_p <- round((creatinine_t1d_na/t1d_n)*100,2)\n",
    "creatininet1dna <- paste0(creatinine_t1d_na,\" (\",creatinine_t1d_na_p,\")\")\n",
    "creatinine_t2d_na <- sum(is.na(dc$creatinine[dc$t2d_status == 1]))\n",
    "creatinine_t2d_na_p <- round((creatinine_t2d_na/t2d_n)*100,2)\n",
    "creatininet2dna <- paste0(creatinine_t2d_na,\" (\",creatinine_t2d_na_p,\")\")\n",
    "creatinineg_any_na <- c(creatinineanyna)\n",
    "creatinineg_t1d_na <- c(creatininet1dna)\n",
    "creatinineg_t2d_na <- c(creatininet2dna)\n",
    "creatinineg_na <- data.frame(creatinineg_any_na, creatinineg_t1d_na, creatinineg_t2d_na)\n",
    "creatinineg_na\n",
    "\n",
    "# ACR\n",
    "acr_any_na <- sum(is.na(dc$acr[dc$any_diabetes == 1]))\n",
    "acr_any_na_p <- round((acr_any_na/any_diabetes_n)*100,2)\n",
    "acranyna <- paste0(acr_any_na,\" (\",acr_any_na_p,\")\")\n",
    "acr_t1d_na <- sum(is.na(dc$acr[dc$t1d_status == 1]))\n",
    "acr_t1d_na_p <- round((acr_t1d_na/t1d_n)*100,2)\n",
    "acrt1dna <- paste0(acr_t1d_na,\" (\",acr_t1d_na_p,\")\")\n",
    "acr_t2d_na <- sum(is.na(dc$acr[dc$t2d_status == 1]))\n",
    "acr_t2d_na_p <- round((acr_t2d_na/t2d_n)*100,2)\n",
    "acrt2dna <- paste0(acr_t2d_na,\" (\",acr_t2d_na_p,\")\")\n",
    "acrg_any_na <- c(acranyna)\n",
    "acrg_t1d_na <- c(acrt1dna)\n",
    "acrg_t2d_na <- c(acrt2dna)\n",
    "acrg_na <- data.frame(acrg_any_na, acrg_t1d_na, acrg_t2d_na)\n",
    "acrg_na\n",
    "\n",
    "# eGFR\n",
    "egfr_any_na <- sum(is.na(dc$egfr[dc$any_diabetes == 1]))\n",
    "egfr_any_na_p <- round((egfr_any_na/any_diabetes_n)*100,2)\n",
    "egfranyna <- paste0(egfr_any_na,\" (\",egfr_any_na_p,\")\")\n",
    "egfr_t1d_na <- sum(is.na(dc$egfr[dc$t1d_status == 1]))\n",
    "egfr_t1d_na_p <- round((egfr_t1d_na/t1d_n)*100,2)\n",
    "egfrt1dna <- paste0(egfr_t1d_na,\" (\",egfr_t1d_na_p,\")\")\n",
    "egfr_t2d_na <- sum(is.na(dc$egfr[dc$t2d_status == 1]))\n",
    "egfr_t2d_na_p <- round((egfr_t2d_na/t2d_n)*100,2)\n",
    "egfrt2dna <- paste0(egfr_t2d_na,\" (\",egfr_t2d_na_p,\")\")\n",
    "egfrg_any_na <- c(egfranyna)\n",
    "egfrg_t1d_na <- c(egfrt1dna)\n",
    "egfrg_t2d_na <- c(egfrt2dna)\n",
    "egfrg_na <- data.frame(egfrg_any_na, egfrg_t1d_na, egfrg_t2d_na)\n",
    "egfrg_na"
   ]
  },
  {
   "cell_type": "markdown",
   "id": "54dcd9c1-5748-487d-8f01-7232872d00f1",
   "metadata": {},
   "source": []
  },
  {
   "cell_type": "code",
   "execution_count": null,
   "id": "ba4be8d5-c83c-44d5-ad4f-3053d10feaa2",
   "metadata": {},
   "outputs": [],
   "source": [
    "# subset cvds and diabetes\n",
    "# Angina\n",
    "angina <- dc %>%\n",
    "    select(person_id, date_earliest_diabetes, any_diabetes, date_angina_diagnosis, has_angina) %>%\n",
    "    mutate(incident = ifelse(date_angina_diagnosis > date_earliest_diabetes,1,0)) %>%\n",
    "    mutate(prevalent = ifelse(date_angina_diagnosis < date_earliest_diabetes,1,0))\n",
    "\n",
    "# Cardiomyopathy\n",
    "cardiomyopathy <- dc %>%\n",
    "    select(person_id, date_earliest_diabetes, any_diabetes, date_cardiomyopathy_diagnosis, has_cardiomyopathy) %>%\n",
    "    mutate(incident = ifelse(date_cardiomyopathy_diagnosis > date_earliest_diabetes,1,0)) %>%\n",
    "    mutate(prevalent = ifelse(date_cardiomyopathy_diagnosis < date_earliest_diabetes,1,0))\n",
    "\n",
    "# Heart Failure\n",
    "heart_failure <- dc %>%\n",
    "    select(person_id, date_earliest_diabetes, any_diabetes, date_heart_failure_diagnosis, has_heart_failure) %>%\n",
    "    mutate(incident = ifelse(date_heart_failure_diagnosis > date_earliest_diabetes,1,0)) %>%\n",
    "    mutate(prevalent = ifelse(date_heart_failure_diagnosis < date_earliest_diabetes,1,0))\n",
    "\n",
    "# Hypertension\n",
    "hypertension <- dc %>%\n",
    "    select(person_id, date_earliest_diabetes, any_diabetes, date_hypertension_diagnosis, has_hypertension) %>%\n",
    "    mutate(incident = ifelse(date_hypertension_diagnosis > date_earliest_diabetes,1,0)) %>%\n",
    "    mutate(prevalent = ifelse(date_hypertension_diagnosis < date_earliest_diabetes,1,0))\n",
    "\n",
    "# IHD\n",
    "ihd <- dc %>%\n",
    "    select(person_id, date_earliest_diabetes, any_diabetes, date_ihd_diagnosis, has_ihd) %>%\n",
    "    mutate(incident = ifelse(date_ihd_diagnosis > date_earliest_diabetes,1,0)) %>%\n",
    "    mutate(prevalent = ifelse(date_ihd_diagnosis < date_earliest_diabetes,1,0))\n",
    "\n",
    "# MI\n",
    "mi <- dc %>%\n",
    "    select(person_id, date_earliest_diabetes, any_diabetes, date_mi_diagnosis, has_mi) %>%\n",
    "    mutate(incident = ifelse(date_mi_diagnosis > date_earliest_diabetes,1,0)) %>%\n",
    "    mutate(prevalent = ifelse(date_mi_diagnosis < date_earliest_diabetes,1,0))\n",
    "\n",
    "# PVD\n",
    "pvd <- dc %>%\n",
    "    select(person_id, date_earliest_diabetes, any_diabetes, date_pvd_diagnosis, has_pvd) %>%\n",
    "    mutate(incident = ifelse(date_pvd_diagnosis > date_earliest_diabetes,1,0)) %>%\n",
    "    mutate(prevalent = ifelse(date_pvd_diagnosis < date_earliest_diabetes,1,0))\n",
    "\n",
    "# Stroke\n",
    "stroke <- dc %>%\n",
    "    select(person_id, date_earliest_diabetes, any_diabetes, date_stroke_diagnosis, has_stroke) %>%\n",
    "    mutate(incident = ifelse(date_stroke_diagnosis > date_earliest_diabetes,1,0)) %>%\n",
    "    mutate(prevalent = ifelse(date_stroke_diagnosis < date_earliest_diabetes,1,0))\n",
    "\n",
    "# Valve Disease\n",
    "valve_disease <- dc %>%\n",
    "    select(person_id, date_earliest_diabetes, any_diabetes, date_valve_disease_diagnosis, has_valve_disease) %>%\n",
    "    mutate(incident = ifelse(date_valve_disease_diagnosis > date_earliest_diabetes,1,0)) %>%\n",
    "    mutate(prevalent = ifelse(date_valve_disease_diagnosis < date_earliest_diabetes,1,0))"
   ]
  },
  {
   "cell_type": "code",
   "execution_count": null,
   "id": "a1fff44a-08a3-4663-a613-c325adae1e6e",
   "metadata": {},
   "outputs": [],
   "source": [
    "nrow(angina)\n",
    "table(angina$incident)\n",
    "table(angina$prevalent)\n",
    "nrow(cardiomyopathy)\n",
    "table(cardiomyopathy$incident)\n",
    "table(cardiomyopathy$prevalent)\n",
    "nrow(heart_failure)\n",
    "table(heart_failure$incident)\n",
    "table(heart_failure$prevalent)\n",
    "nrow(hypertension)\n",
    "table(hypertension$incident)\n",
    "table(hypertension$prevalent)\n",
    "nrow(ihd)\n",
    "table(ihd$incident)\n",
    "table(ihd$prevalent)\n",
    "nrow(mi)\n",
    "table(mi$incident)\n",
    "table(mi$prevalent)\n",
    "nrow(pvd)\n",
    "table(pvd$incident)\n",
    "table(pvd$prevalent)\n",
    "nrow(stroke)\n",
    "table(stroke$incident)\n",
    "table(stroke$prevalent)\n",
    "nrow(valve_disease)\n",
    "table(valve_disease$incident)\n",
    "table(valve_disease$prevalent)"
   ]
  },
  {
   "cell_type": "code",
   "execution_count": 48,
   "id": "3b801704-6fcd-4e24-a56e-10b2ed9b0b51",
   "metadata": {},
   "outputs": [
    {
     "data": {
      "text/html": [
       "10528"
      ],
      "text/latex": [
       "10528"
      ],
      "text/markdown": [
       "10528"
      ],
      "text/plain": [
       "[1] 10528"
      ]
     },
     "metadata": {},
     "output_type": "display_data"
    }
   ],
   "source": [
    "sum(dc$any_diabetes == 1 & !is.na(dc$death_datetime.x))"
   ]
  }
 ],
 "metadata": {
  "environment": {
   "kernel": "ir",
   "name": "r-cpu.4-2.m111",
   "type": "gcloud",
   "uri": "gcr.io/deeplearning-platform-release/r-cpu.4-2:m111"
  },
  "kernelspec": {
   "display_name": "R",
   "language": "R",
   "name": "ir"
  },
  "language_info": {
   "codemirror_mode": "r",
   "file_extension": ".r",
   "mimetype": "text/x-r-source",
   "name": "R",
   "pygments_lexer": "r",
   "version": "4.3.1"
  }
 },
 "nbformat": 4,
 "nbformat_minor": 5
}
