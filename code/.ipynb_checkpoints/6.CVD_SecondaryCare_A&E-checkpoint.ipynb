{
 "cells": [
  {
   "cell_type": "code",
   "execution_count": 1,
   "id": "15f411ec-42ee-4018-a61f-6a20b94ccecd",
   "metadata": {},
   "outputs": [
    {
     "name": "stderr",
     "output_type": "stream",
     "text": [
      "── \u001b[1mAttaching core tidyverse packages\u001b[22m ──────────────────────── tidyverse 2.0.0 ──\n",
      "\u001b[32m✔\u001b[39m \u001b[34mdplyr    \u001b[39m 1.1.2     \u001b[32m✔\u001b[39m \u001b[34mreadr    \u001b[39m 2.1.4\n",
      "\u001b[32m✔\u001b[39m \u001b[34mforcats  \u001b[39m 1.0.0     \u001b[32m✔\u001b[39m \u001b[34mstringr  \u001b[39m 1.5.0\n",
      "\u001b[32m✔\u001b[39m \u001b[34mggplot2  \u001b[39m 3.4.4     \u001b[32m✔\u001b[39m \u001b[34mtibble   \u001b[39m 3.2.1\n",
      "\u001b[32m✔\u001b[39m \u001b[34mlubridate\u001b[39m 1.9.2     \u001b[32m✔\u001b[39m \u001b[34mtidyr    \u001b[39m 1.3.0\n",
      "\u001b[32m✔\u001b[39m \u001b[34mpurrr    \u001b[39m 1.0.2     \n",
      "── \u001b[1mConflicts\u001b[22m ────────────────────────────────────────── tidyverse_conflicts() ──\n",
      "\u001b[31m✖\u001b[39m \u001b[34mdplyr\u001b[39m::\u001b[32mfilter()\u001b[39m masks \u001b[34mstats\u001b[39m::filter()\n",
      "\u001b[31m✖\u001b[39m \u001b[34mdplyr\u001b[39m::\u001b[32mlag()\u001b[39m    masks \u001b[34mstats\u001b[39m::lag()\n",
      "\u001b[36mℹ\u001b[39m Use the conflicted package (\u001b[3m\u001b[34m<http://conflicted.r-lib.org/>\u001b[39m\u001b[23m) to force all conflicts to become errors\n"
     ]
    }
   ],
   "source": [
    "library(bigrquery)\n",
    "library(tidyverse)"
   ]
  },
  {
   "cell_type": "code",
   "execution_count": 2,
   "id": "d85382fc-7b77-4687-b5e8-96b8570006c1",
   "metadata": {},
   "outputs": [],
   "source": [
    "library(lubridate)"
   ]
  },
  {
   "cell_type": "code",
   "execution_count": 3,
   "id": "830c15a9-e1a4-4474-aff0-429fe6c0e2d7",
   "metadata": {},
   "outputs": [],
   "source": [
    "# Store the project ID\n",
    "projectid = \"yhcr-prd-phm-bia-core\""
   ]
  },
  {
   "cell_type": "code",
   "execution_count": 4,
   "id": "bca2f5d0-774f-412f-b049-7ca915002abf",
   "metadata": {},
   "outputs": [],
   "source": [
    "# Angina: Secondary care between 2002-2022\n",
    "sql1 <- \"SELECT person_id, gender, age_at_attendance_date, arrival_date_time, departure_date_time, diagnosis_1 FROM `yhcr-prd-phm-bia-core.CB_FDM_Warehouse_V2.tbl_ae` \n",
    "WHERE arrival_date_time BETWEEN '2002-01-01' AND '2022-12-31' AND (diagnosis_1 LIKE '%I200%'\n",
    "OR diagnosis_1 LIKE '%I248%'\n",
    "OR diagnosis_1 LIKE '%I209%'\n",
    "OR diagnosis_1 LIKE '%I20%'\n",
    "OR diagnosis_1 LIKE '%A360%'\n",
    "OR diagnosis_1 LIKE '%A691%'\n",
    "OR diagnosis_1 LIKE '%B085%'\n",
    "OR diagnosis_1 LIKE '%B27%'\n",
    "OR diagnosis_1 LIKE '%D70X%'\n",
    "OR diagnosis_1 LIKE '%I739%'\n",
    "OR diagnosis_1 LIKE '%J020%'\n",
    "OR diagnosis_1 LIKE '%J312%'\n",
    "OR diagnosis_1 LIKE '%K122%'\n",
    "OR diagnosis_1 LIKE '%I208%'\n",
    "OR diagnosis_1 LIKE '%I201%')\"\n",
    "tb1 <- bq_project_query(projectid, sql1)\n",
    "angina <-bq_table_download(tb1) # store data in tibble\n",
    "\n",
    "# Cardiomyopathy: Secondary care between 2002-2022\n",
    "sql2 <- \"SELECT person_id, gender, age_at_attendance_date, arrival_date_time, departure_date_time, diagnosis_1 FROM `yhcr-prd-phm-bia-core.CB_FDM_Warehouse_V2.tbl_ae` \n",
    "WHERE arrival_date_time BETWEEN '2002-01-01' AND '2022-12-31' AND (diagnosis_1 LIKE '%E854D%'\n",
    "OR diagnosis_1 LIKE '%I431A%'\n",
    "OR diagnosis_1 LIKE '%I255%'\n",
    "OR diagnosis_1 LIKE '%I429%'\n",
    "OR diagnosis_1 LIKE '%I42%'\n",
    "OR diagnosis_1 LIKE '%I090%'\n",
    "OR diagnosis_1 LIKE '%I11%'\n",
    "OR diagnosis_1 LIKE '%I251%'\n",
    "OR diagnosis_1 LIKE '%I43A%'\n",
    "OR diagnosis_1 LIKE '%O903%'\n",
    "OR diagnosis_1 LIKE '%O994%'\n",
    "OR diagnosis_1 LIKE '%Q248%'\n",
    "OR diagnosis_1 LIKE '%I423%'\n",
    "OR diagnosis_1 LIKE '%I421%'\n",
    "OR diagnosis_1 LIKE '%I428%'\n",
    "OR diagnosis_1 LIKE '%I425%'\n",
    "OR diagnosis_1 LIKE '%I422%'\n",
    "OR diagnosis_1 LIKE '%I420%'\n",
    "OR diagnosis_1 LIKE '%B572D%'\n",
    "OR diagnosis_1 LIKE '%B570D%'\n",
    "OR diagnosis_1 LIKE '%I981A%'\n",
    "OR diagnosis_1 LIKE '%I412A%'\n",
    "OR diagnosis_1 LIKE '%I428D%'\n",
    "OR diagnosis_1 LIKE '%E90XA%'\n",
    "OR diagnosis_1 LIKE '%E740D%'\n",
    "OR diagnosis_1 LIKE '%E763D%'\n",
    "OR diagnosis_1 LIKE '%I528A%'\n",
    "OR diagnosis_1 LIKE '%I438A%'\n",
    "OR diagnosis_1 LIKE '%G111D%'\n",
    "OR diagnosis_1 LIKE '%G711D%'\n",
    "OR diagnosis_1 LIKE '%I427%'\n",
    "OR diagnosis_1 LIKE '%I515%'\n",
    "OR diagnosis_1 LIKE '%I430A%'\n",
    "OR diagnosis_1 LIKE '%I432A%'\n",
    "OR diagnosis_1 LIKE '%G710%'\n",
    "OR diagnosis_1 LIKE '%I518%'\n",
    "OR diagnosis_1 LIKE '%G710D%')\"\n",
    "tb2 <- bq_project_query(projectid, sql2)\n",
    "cardiomyopathy <-bq_table_download(tb2) # store data in tibble\n",
    "\n",
    "# Heart Failure: Secondary care between 2002-2022\n",
    "sql3 <- \"SELECT person_id, gender, age_at_attendance_date, arrival_date_time, departure_date_time, diagnosis_1 FROM `yhcr-prd-phm-bia-core.CB_FDM_Warehouse_V2.tbl_ae` \n",
    "WHERE arrival_date_time BETWEEN '2002-01-01' AND '2022-12-31' AND (diagnosis_1 LIKE '%I099%'\n",
    "OR diagnosis_1 LIKE '%I509%'\n",
    "OR diagnosis_1 LIKE '%I50%'\n",
    "OR diagnosis_1 LIKE '%I110%'\n",
    "OR diagnosis_1 LIKE '%I130%'\n",
    "OR diagnosis_1 LIKE '%I132%'\n",
    "OR diagnosis_1 LIKE '%I971%'\n",
    "OR diagnosis_1 LIKE '%I978%'\n",
    "OR diagnosis_1 LIKE '%O291%'\n",
    "OR diagnosis_1 LIKE '%O742%'\n",
    "OR diagnosis_1 LIKE '%O754%'\n",
    "OR diagnosis_1 LIKE '%O891%'\n",
    "OR diagnosis_1 LIKE '%P290%'\n",
    "OR diagnosis_1 LIKE '%T818%'\n",
    "OR diagnosis_1 LIKE '%E059D%'\n",
    "OR diagnosis_1 LIKE '%I500%'\n",
    "OR diagnosis_1 LIKE '%I10X%'\n",
    "OR diagnosis_1 LIKE '%I501%'\n",
    "OR diagnosis_1 LIKE '%I018%'\n",
    "OR diagnosis_1 LIKE '%I020%'\n",
    "OR diagnosis_1 LIKE '%I098%'\n",
    "OR diagnosis_1 LIKE '%I970%')\"\n",
    "tb3 <- bq_project_query(projectid, sql3)\n",
    "heart_failure <-bq_table_download(tb3) # store data in tibble\n",
    "\n",
    "# Hypertension: Secondary care between 2002-2022\n",
    "sql4 <- \"SELECT person_id, gender, age_at_attendance_date, arrival_date_time, departure_date_time, diagnosis_1 FROM `yhcr-prd-phm-bia-core.CB_FDM_Warehouse_V2.tbl_ae` \n",
    "WHERE arrival_date_time BETWEEN '2002-01-01' AND '2022-12-31' AND (diagnosis_1 LIKE '%I158%'\n",
    "OR diagnosis_1 LIKE '%O16X%'\n",
    "OR diagnosis_1 LIKE '%I21%'\n",
    "OR diagnosis_1 LIKE '%I22%'\n",
    "OR diagnosis_1 LIKE '%I23%'\n",
    "OR diagnosis_1 LIKE '%I24%'\n",
    "OR diagnosis_1 LIKE '%I25%'\n",
    "OR diagnosis_1 LIKE '%I270%'\n",
    "OR diagnosis_1 LIKE '%O10%'\n",
    "OR diagnosis_1 LIKE '%O11X%'\n",
    "OR diagnosis_1 LIKE '%O13X%'\n",
    "OR diagnosis_1 LIKE '%O14%'\n",
    "OR diagnosis_1 LIKE '%O15%'\n",
    "OR diagnosis_1 LIKE '%P292%'\n",
    "OR diagnosis_1 LIKE '%I12%'\n",
    "OR diagnosis_1 LIKE '%I13%'\n",
    "OR diagnosis_1 LIKE '%P000%'\n",
    "OR diagnosis_1 LIKE '%I129%'\n",
    "OR diagnosis_1 LIKE '%I159%'\n",
    "OR diagnosis_1 LIKE '%I15%'\n",
    "OR diagnosis_1 LIKE '%O104%'\n",
    "OR diagnosis_1 LIKE '%I150%'\n",
    "OR diagnosis_1 LIKE '%I152%'\n",
    "OR diagnosis_1 LIKE '%I151%'\n",
    "OR diagnosis_1 LIKE '%O12%'\n",
    "OR diagnosis_1 LIKE '%O100%'\n",
    "OR diagnosis_1 LIKE '%O102%'\n",
    "OR diagnosis_1 LIKE '%O109%'\n",
    "OR diagnosis_1 LIKE '%O121%'\n",
    "OR diagnosis_1 LIKE '%O141%'\n",
    "OR diagnosis_1 LIKE '%O159%'\n",
    "OR diagnosis_1 LIKE '%O152%'\n",
    "OR diagnosis_1 LIKE '%O150%'\n",
    "OR diagnosis_1 LIKE '%O149%'\n",
    "OR diagnosis_1 LIKE '%R688%'\n",
    "OR diagnosis_1 LIKE '%O151%'\n",
    "OR diagnosis_1 LIKE '%O142%'\n",
    "OR diagnosis_1 LIKE '%O140%')\"\n",
    "tb4 <- bq_project_query(projectid, sql4)\n",
    "hypertension <-bq_table_download(tb4) # store data in tibble\n",
    "\n",
    "# Ischaemic Heart Disease: Secondary care between 2002-2022\n",
    "sql5 <- \"SELECT person_id, gender, age_at_attendance_date, arrival_date_time, departure_date_time, diagnosis_1 FROM `yhcr-prd-phm-bia-core.CB_FDM_Warehouse_V2.tbl_ae` \n",
    "WHERE arrival_date_time BETWEEN '2002-01-01' AND '2022-12-31' AND (diagnosis_1 LIKE '%I219%'\n",
    "OR diagnosis_1 LIKE '%I214%'\n",
    "OR diagnosis_1 LIKE '%I212%'\n",
    "OR diagnosis_1 LIKE '%I249%'\n",
    "OR diagnosis_1 LIKE '%I258%'\n",
    "OR diagnosis_1 LIKE '%I250%'\n",
    "OR diagnosis_1 LIKE '%I253%'\n",
    "OR diagnosis_1 LIKE '%I254%'\n",
    "OR diagnosis_1 LIKE '%I259%'\n",
    "OR diagnosis_1 LIKE '%I233%'\n",
    "OR diagnosis_1 LIKE '%I256%'\n",
    "OR diagnosis_1 LIKE '%P294%'\n",
    "OR diagnosis_1 LIKE '%I232%')\"\n",
    "tb5 <- bq_project_query(projectid, sql5)\n",
    "ihd <-bq_table_download(tb5) # store data in tibble\n",
    "\n",
    "# Myocardial Infarction: Secondary care between 2002-2022\n",
    "sql6 <- \"SELECT person_id, gender, age_at_attendance_date, arrival_date_time, departure_date_time, diagnosis_1 FROM `yhcr-prd-phm-bia-core.CB_FDM_Warehouse_V2.tbl_ae` \n",
    "WHERE arrival_date_time BETWEEN '2002-01-01' AND '2022-12-31' AND (diagnosis_1 LIKE '%I210%'\n",
    "OR diagnosis_1 LIKE '%I220%'\n",
    "OR diagnosis_1 LIKE '%I211%'\n",
    "OR diagnosis_1 LIKE '%I221%'\n",
    "OR diagnosis_1 LIKE '%I229%'\n",
    "OR diagnosis_1 LIKE '%I228%'\n",
    "OR diagnosis_1 LIKE '%I213%'\n",
    "OR diagnosis_1 LIKE '%I252%'\n",
    "OR diagnosis_1 LIKE '%A520D%'\n",
    "OR diagnosis_1 LIKE '%I520A%')\"\n",
    "tb6 <- bq_project_query(projectid, sql6)\n",
    "mi <-bq_table_download(tb6) # store data in tibble\n",
    "\n",
    "# Peripheral Vascular Disease: Secondary care between 2002-2022\n",
    "sql7 <- \"SELECT person_id, gender, age_at_attendance_date, arrival_date_time, departure_date_time, diagnosis_1 FROM `yhcr-prd-phm-bia-core.CB_FDM_Warehouse_V2.tbl_ae` \n",
    "WHERE arrival_date_time BETWEEN '2002-01-01' AND '2022-12-31' AND (diagnosis_1 LIKE '%I738%'\n",
    "OR diagnosis_1 LIKE '%E145D%'\n",
    "OR diagnosis_1 LIKE '%E105D%'\n",
    "OR diagnosis_1 LIKE '%E115D%'\n",
    "OR diagnosis_1 LIKE '%E125D%'\n",
    "OR diagnosis_1 LIKE '%E135D%'\n",
    "OR diagnosis_1 LIKE '%O243D%'\n",
    "OR diagnosis_1 LIKE '%O244D%'\n",
    "OR diagnosis_1 LIKE '%O249D%'\n",
    "OR diagnosis_1 LIKE '%I792A%'\n",
    "OR diagnosis_1 LIKE '%I73%')\"\n",
    "tb7 <- bq_project_query(projectid, sql7)\n",
    "pvd <-bq_table_download(tb7) # store data in tibble\n",
    "\n",
    "# Stroke: Secondary care between 2002-2022\n",
    "sql8 <- \"SELECT person_id, gender, age_at_attendance_date, arrival_date_time, departure_date_time, diagnosis_1 FROM `yhcr-prd-phm-bia-core.CB_FDM_Warehouse_V2.tbl_ae` \n",
    "WHERE arrival_date_time BETWEEN '2002-01-01' AND '2022-12-31' AND (diagnosis_1 LIKE '%I619%'\n",
    "OR diagnosis_1 LIKE '%I61%'\n",
    "OR diagnosis_1 LIKE '%I691%'\n",
    "OR diagnosis_1 LIKE '%I618%'\n",
    "OR diagnosis_1 LIKE '%G459%'\n",
    "OR diagnosis_1 LIKE '%G45%'\n",
    "OR diagnosis_1 LIKE '%G451%'\n",
    "OR diagnosis_1 LIKE '%G450%'\n",
    "OR diagnosis_1 LIKE '%R55X%'\n",
    "OR diagnosis_1 LIKE '%I603%'\n",
    "OR diagnosis_1 LIKE '%I611%'\n",
    "OR diagnosis_1 LIKE '%I663D%'\n",
    "OR diagnosis_1 LIKE '%G463A%'\n",
    "OR diagnosis_1 LIKE '%I662D%'\n",
    "OR diagnosis_1 LIKE '%G462A%'\n",
    "OR diagnosis_1 LIKE '%I614%'\n",
    "OR diagnosis_1 LIKE '%P526%'\n",
    "OR diagnosis_1 LIKE '%S068%'\n",
    "OR diagnosis_1 LIKE '%I631%'\n",
    "OR diagnosis_1 LIKE '%I600%'\n",
    "OR diagnosis_1 LIKE '%I639%'\n",
    "OR diagnosis_1 LIKE '%Z866%'\n",
    "OR diagnosis_1 LIKE '%I612%'\n",
    "OR diagnosis_1 LIKE '%I64X%'\n",
    "OR diagnosis_1 LIKE '%I610%'\n",
    "OR diagnosis_1 LIKE '%I690%'\n",
    "OR diagnosis_1 LIKE '%I692%'\n",
    "OR diagnosis_1 LIKE '%I693%'\n",
    "OR diagnosis_1 LIKE '%I694%'\n",
    "OR diagnosis_1 LIKE '%I63%'\n",
    "OR diagnosis_1 LIKE '%I669%'\n",
    "OR diagnosis_1 LIKE '%I66%'\n",
    "OR diagnosis_1 LIKE '%I633%'\n",
    "OR diagnosis_1 LIKE '%I634%'\n",
    "OR diagnosis_1 LIKE '%I635%'\n",
    "OR diagnosis_1 LIKE '%G465A%'\n",
    "OR diagnosis_1 LIKE '%I639D%'\n",
    "OR diagnosis_1 LIKE '%I609%'\n",
    "OR diagnosis_1 LIKE '%I60%'\n",
    "OR diagnosis_1 LIKE '%P103%'\n",
    "OR diagnosis_1 LIKE '%P525%'\n",
    "OR diagnosis_1 LIKE '%I668%'\n",
    "OR diagnosis_1 LIKE '%G452%'\n",
    "OR diagnosis_1 LIKE '%I601%'\n",
    "OR diagnosis_1 LIKE '%I660D%'\n",
    "OR diagnosis_1 LIKE '%G460A%'\n",
    "OR diagnosis_1 LIKE '%I613%'\n",
    "OR diagnosis_1 LIKE '%I630%'\n",
    "OR diagnosis_1 LIKE '%I632%'\n",
    "OR diagnosis_1 LIKE '%G466A%'\n",
    "OR diagnosis_1 LIKE '%G453%'\n",
    "OR diagnosis_1 LIKE '%I616%'\n",
    "OR diagnosis_1 LIKE '%G458%'\n",
    "OR diagnosis_1 LIKE '%I606%'\n",
    "OR diagnosis_1 LIKE '%I607%'\n",
    "OR diagnosis_1 LIKE '%Z867%'\n",
    "OR diagnosis_1 LIKE '%I615%'\n",
    "OR diagnosis_1 LIKE '%G454%'\n",
    "OR diagnosis_1 LIKE '%R413%'\n",
    "OR diagnosis_1 LIKE '%I678%'\n",
    "OR diagnosis_1 LIKE '%I636%'\n",
    "OR diagnosis_1 LIKE '%I604%'\n",
    "OR diagnosis_1 LIKE '%I661D%'\n",
    "OR diagnosis_1 LIKE '%G461A%'\n",
    "OR diagnosis_1 LIKE '%G467A%'\n",
    "OR diagnosis_1 LIKE '%I638%'\n",
    "OR diagnosis_1 LIKE '%I608%'\n",
    "OR diagnosis_1 LIKE '%I605%'\n",
    "OR diagnosis_1 LIKE '%P101%'\n",
    "OR diagnosis_1 LIKE '%P524%'\n",
    "OR diagnosis_1 LIKE '%G464A%'\n",
    "OR diagnosis_1 LIKE '%I602%'\n",
    "OR diagnosis_1 LIKE '%I679%'\n",
    "OR diagnosis_1 LIKE '%I67%'\n",
    "OR diagnosis_1 LIKE '%G46%'\n",
    "OR diagnosis_1 LIKE '%I68%'\n",
    "OR diagnosis_1 LIKE '%I671%'\n",
    "OR diagnosis_1 LIKE '%I672%'\n",
    "OR diagnosis_1 LIKE '%S062%'\n",
    "OR diagnosis_1 LIKE '%S063%'\n",
    "OR diagnosis_1 LIKE '%P10%'\n",
    "OR diagnosis_1 LIKE '%P52%'\n",
    "OR diagnosis_1 LIKE '%I658%')\"\n",
    "tb8 <- bq_project_query(projectid, sql8)\n",
    "stroke <-bq_table_download(tb8) # store data in tibble\n",
    "\n",
    "# Valve Disease: Secondary care between 2002-2022\n",
    "sql9 <- \"SELECT person_id, gender, age_at_attendance_date, arrival_date_time, departure_date_time, diagnosis_1 FROM `yhcr-prd-phm-bia-core.CB_FDM_Warehouse_V2.tbl_ae` \n",
    "WHERE arrival_date_time BETWEEN '2002-01-01' AND '2022-12-31' AND (diagnosis_1 LIKE '%I059%'\n",
    "OR diagnosis_1 LIKE '%I05%'\n",
    "OR diagnosis_1 LIKE '%I080%'\n",
    "OR diagnosis_1 LIKE '%I081%'\n",
    "OR diagnosis_1 LIKE '%I083%'\n",
    "OR diagnosis_1 LIKE '%I34%'\n",
    "OR diagnosis_1 LIKE '%I050%'\n",
    "OR diagnosis_1 LIKE '%I051%'\n",
    "OR diagnosis_1 LIKE '%I052%'\n",
    "OR diagnosis_1 LIKE '%I011%'\n",
    "OR diagnosis_1 LIKE '%I342%'\n",
    "OR diagnosis_1 LIKE '%I069%'\n",
    "OR diagnosis_1 LIKE '%I06%'\n",
    "OR diagnosis_1 LIKE '%I060%'\n",
    "OR diagnosis_1 LIKE '%I062%'\n",
    "OR diagnosis_1 LIKE '%I082%'\n",
    "OR diagnosis_1 LIKE '%I061%'\n",
    "OR diagnosis_1 LIKE '%I078%'\n",
    "OR diagnosis_1 LIKE '%I070%'\n",
    "OR diagnosis_1 LIKE '%I072%'\n",
    "OR diagnosis_1 LIKE '%I071%'\n",
    "OR diagnosis_1 LIKE '%I079%'\n",
    "OR diagnosis_1 LIKE '%I088%'\n",
    "OR diagnosis_1 LIKE '%I234%'\n",
    "OR diagnosis_1 LIKE '%I235%'\n",
    "OR diagnosis_1 LIKE '%I340%'\n",
    "OR diagnosis_1 LIKE '%Q233%'\n",
    "OR diagnosis_1 LIKE '%I349%'\n",
    "OR diagnosis_1 LIKE '%I359%'\n",
    "OR diagnosis_1 LIKE '%I35%'\n",
    "OR diagnosis_1 LIKE '%I391A%'\n",
    "OR diagnosis_1 LIKE '%I351%'\n",
    "OR diagnosis_1 LIKE '%Q231%'\n",
    "OR diagnosis_1 LIKE '%I350%'\n",
    "OR diagnosis_1 LIKE '%I352%'\n",
    "OR diagnosis_1 LIKE '%Q230%'\n",
    "OR diagnosis_1 LIKE '%I369%'\n",
    "OR diagnosis_1 LIKE '%I36%'\n",
    "OR diagnosis_1 LIKE '%I361%'\n",
    "OR diagnosis_1 LIKE '%I360%'\n",
    "OR diagnosis_1 LIKE '%I362%'\n",
    "OR diagnosis_1 LIKE '%I07%'\n",
    "OR diagnosis_1 LIKE '%I379%'\n",
    "OR diagnosis_1 LIKE '%I37%'\n",
    "OR diagnosis_1 LIKE '%I393A%'\n",
    "OR diagnosis_1 LIKE '%Q221%'\n",
    "OR diagnosis_1 LIKE '%Q222%'\n",
    "OR diagnosis_1 LIKE '%Q223%'\n",
    "OR diagnosis_1 LIKE '%I371%'\n",
    "OR diagnosis_1 LIKE '%I370%'\n",
    "OR diagnosis_1 LIKE '%I372%'\n",
    "OR diagnosis_1 LIKE '%I089%'\n",
    "OR diagnosis_1 LIKE '%I08%'\n",
    "OR diagnosis_1 LIKE '%I394A%'\n",
    "OR diagnosis_1 LIKE '%I38X%'\n",
    "OR diagnosis_1 LIKE '%I398A%'\n",
    "OR diagnosis_1 LIKE '%I512%'\n",
    "OR diagnosis_1 LIKE '%I058%'\n",
    "OR diagnosis_1 LIKE '%I068%'\n",
    "OR diagnosis_1 LIKE '%I348%'\n",
    "OR diagnosis_1 LIKE '%I358%'\n",
    "OR diagnosis_1 LIKE '%I368%'\n",
    "OR diagnosis_1 LIKE '%I378%'\n",
    "OR diagnosis_1 LIKE '%I390A%'\n",
    "OR diagnosis_1 LIKE '%I392A%'\n",
    "OR diagnosis_1 LIKE '%Q220%'\n",
    "OR diagnosis_1 LIKE '%Q224%'\n",
    "OR diagnosis_1 LIKE '%Q225%'\n",
    "OR diagnosis_1 LIKE '%Q232%'\n",
    "OR diagnosis_1 LIKE '%Q238%'\n",
    "OR diagnosis_1 LIKE '%Q244%'\n",
    "OR diagnosis_1 LIKE '%Q253%'\n",
    "OR diagnosis_1 LIKE '%Q228%'\n",
    "OR diagnosis_1 LIKE '%Q229%'\n",
    "OR diagnosis_1 LIKE '%T828%'\n",
    "OR diagnosis_1 LIKE '%I341%'\n",
    "OR diagnosis_1 LIKE '%Q239%'\n",
    "OR diagnosis_1 LIKE '%Q23%'\n",
    "OR diagnosis_1 LIKE '%I710%'\n",
    "OR diagnosis_1 LIKE '%Q234%'\n",
    "OR diagnosis_1 LIKE '%Q226%'\n",
    "OR diagnosis_1 LIKE '%T820%'\n",
    "OR diagnosis_1 LIKE '%I712%'\n",
    "OR diagnosis_1 LIKE '%I711%'\n",
    "OR diagnosis_1 LIKE '%Q254%'\n",
    "OR diagnosis_1 LIKE '%I790A%'\n",
    "OR diagnosis_1 LIKE '%Q208%'\n",
    "OR diagnosis_1 LIKE '%Q210%'\n",
    "OR diagnosis_1 LIKE '%I02%'\n",
    "OR diagnosis_1 LIKE '%I511%'\n",
    "OR diagnosis_1 LIKE '%I33%'\n",
    "OR diagnosis_1 LIKE '%A520A%'\n",
    "OR diagnosis_1 LIKE '%I330%')\"\n",
    "tb9 <- bq_project_query(projectid, sql9)\n",
    "valve_disease <-bq_table_download(tb9) # store data in tibble"
   ]
  },
  {
   "cell_type": "code",
   "execution_count": 5,
   "id": "4392b28a-ba2e-46db-9032-3f57d35e0802",
   "metadata": {},
   "outputs": [
    {
     "data": {
      "text/html": [
       "3401"
      ],
      "text/latex": [
       "3401"
      ],
      "text/markdown": [
       "3401"
      ],
      "text/plain": [
       "[1] 3401"
      ]
     },
     "metadata": {},
     "output_type": "display_data"
    },
    {
     "data": {
      "text/html": [
       "553"
      ],
      "text/latex": [
       "553"
      ],
      "text/markdown": [
       "553"
      ],
      "text/plain": [
       "[1] 553"
      ]
     },
     "metadata": {},
     "output_type": "display_data"
    },
    {
     "data": {
      "text/html": [
       "4511"
      ],
      "text/latex": [
       "4511"
      ],
      "text/markdown": [
       "4511"
      ],
      "text/plain": [
       "[1] 4511"
      ]
     },
     "metadata": {},
     "output_type": "display_data"
    },
    {
     "data": {
      "text/html": [
       "5792"
      ],
      "text/latex": [
       "5792"
      ],
      "text/markdown": [
       "5792"
      ],
      "text/plain": [
       "[1] 5792"
      ]
     },
     "metadata": {},
     "output_type": "display_data"
    },
    {
     "data": {
      "text/html": [
       "3977"
      ],
      "text/latex": [
       "3977"
      ],
      "text/markdown": [
       "3977"
      ],
      "text/plain": [
       "[1] 3977"
      ]
     },
     "metadata": {},
     "output_type": "display_data"
    },
    {
     "data": {
      "text/html": [
       "402"
      ],
      "text/latex": [
       "402"
      ],
      "text/markdown": [
       "402"
      ],
      "text/plain": [
       "[1] 402"
      ]
     },
     "metadata": {},
     "output_type": "display_data"
    },
    {
     "data": {
      "text/html": [
       "414"
      ],
      "text/latex": [
       "414"
      ],
      "text/markdown": [
       "414"
      ],
      "text/plain": [
       "[1] 414"
      ]
     },
     "metadata": {},
     "output_type": "display_data"
    },
    {
     "data": {
      "text/html": [
       "14756"
      ],
      "text/latex": [
       "14756"
      ],
      "text/markdown": [
       "14756"
      ],
      "text/plain": [
       "[1] 14756"
      ]
     },
     "metadata": {},
     "output_type": "display_data"
    },
    {
     "data": {
      "text/html": [
       "175"
      ],
      "text/latex": [
       "175"
      ],
      "text/markdown": [
       "175"
      ],
      "text/plain": [
       "[1] 175"
      ]
     },
     "metadata": {},
     "output_type": "display_data"
    }
   ],
   "source": [
    "nrow(angina)\n",
    "nrow(cardiomyopathy)\n",
    "nrow(heart_failure)\n",
    "nrow(hypertension)\n",
    "nrow(ihd)\n",
    "nrow(mi)\n",
    "nrow(pvd)\n",
    "nrow(stroke)\n",
    "nrow(valve_disease)"
   ]
  },
  {
   "cell_type": "code",
   "execution_count": 6,
   "id": "d7402817-d5bd-4d32-b9ab-0712c156f313",
   "metadata": {},
   "outputs": [],
   "source": [
    "# Keep earliest date for each\n",
    "# Angina\n",
    "angina <- angina %>%\n",
    "    mutate(has_angina = 1) %>%\n",
    "    rename(date_angina_diagnosis = arrival_date_time) %>%\n",
    "    rename(age_angina_diag = age_at_attendance_date) %>%\n",
    "    rename(date_angina_departure = departure_date_time) %>%\n",
    "    select(-diagnosis_1) %>%\n",
    "    group_by(person_id) %>%\n",
    "    arrange(date_angina_diagnosis) %>%\n",
    "    mutate(event_number = row_number()) %>%\n",
    "    slice_min(event_number) %>%\n",
    "    select(-event_number) %>%\n",
    "    mutate(los_angina_days = round(difftime(date_angina_departure, date_angina_diagnosis, units=\"days\"))) %>%\n",
    "    ungroup()\n",
    "\n",
    "# Cardiomyopathy\n",
    "cardiomyopathy <- cardiomyopathy %>%\n",
    "    mutate(has_cardiomyopathy = 1) %>%\n",
    "    rename(date_cardiomyopathy_diagnosis = arrival_date_time) %>%\n",
    "    rename(age_cardiomyopathy_diag = age_at_attendance_date) %>%\n",
    "    rename(date_cardiomyopathy_departure = departure_date_time) %>%\n",
    "    select(-diagnosis_1) %>%\n",
    "    group_by(person_id) %>%\n",
    "    arrange(date_cardiomyopathy_diagnosis) %>%\n",
    "    mutate(event_number = row_number()) %>%\n",
    "    slice_min(event_number) %>%\n",
    "    select(-event_number) %>%\n",
    "    ungroup() %>%\n",
    "    mutate(los_cardiomyopathy_days = round(difftime(date_cardiomyopathy_departure, date_cardiomyopathy_diagnosis, units=\"days\")))\n",
    "\n",
    "# Heart Failure\n",
    "heart_failure <- heart_failure %>%\n",
    "    mutate(has_heart_failure = 1) %>%\n",
    "    rename(date_heart_failure_diagnosis = arrival_date_time) %>%\n",
    "    rename(age_heart_failure_diag = age_at_attendance_date) %>%\n",
    "    rename(date_heart_failure_departure = departure_date_time) %>%\n",
    "    select(-diagnosis_1) %>%\n",
    "    group_by(person_id) %>%\n",
    "    arrange(date_heart_failure_diagnosis) %>%\n",
    "    mutate(event_number = row_number()) %>%\n",
    "    slice_min(event_number) %>%\n",
    "    select(-event_number) %>%\n",
    "    ungroup() %>%\n",
    "    mutate(los_heart_failure_days = round(difftime(date_heart_failure_departure, date_heart_failure_diagnosis, units=\"days\")))\n",
    "\n",
    "# Hypertension\n",
    "hypertension <- hypertension %>%\n",
    "    mutate(has_hypertension = 1) %>%\n",
    "    rename(date_hypertension_diagnosis = arrival_date_time) %>%\n",
    "    rename(age_hypertension_diag = age_at_attendance_date) %>%\n",
    "    rename(date_hypertension_departure = departure_date_time) %>%\n",
    "    select(-diagnosis_1) %>%\n",
    "    group_by(person_id) %>%\n",
    "    arrange(date_hypertension_diagnosis) %>%\n",
    "    mutate(event_number = row_number()) %>%\n",
    "    slice_min(event_number) %>%\n",
    "    select(-event_number) %>%\n",
    "    ungroup() %>%\n",
    "  mutate(los_hypertension_days = round(difftime(date_hypertension_departure, date_hypertension_diagnosis, units=\"days\")))\n",
    "\n",
    "# Ischaemic Heart Disease\n",
    "ihd <- ihd %>%\n",
    "    mutate(has_ihd = 1) %>%\n",
    "    rename(date_ihd_diagnosis = arrival_date_time) %>%\n",
    "    rename(age_ihd_diag = age_at_attendance_date) %>%\n",
    "    rename(date_ihd_departure = departure_date_time) %>%\n",
    "    select(-diagnosis_1) %>%\n",
    "    group_by(person_id) %>%\n",
    "    arrange(date_ihd_diagnosis) %>%\n",
    "    mutate(event_number = row_number()) %>%\n",
    "    slice_min(event_number) %>%\n",
    "    select(-event_number) %>%\n",
    "    ungroup() %>%\n",
    "  mutate(los_ihd_days = round(difftime(date_ihd_departure, date_ihd_diagnosis, units=\"days\")))\n",
    "# Myocardial Infarction\n",
    "mi <- mi %>%\n",
    "    mutate(has_mi = 1) %>%\n",
    "    rename(date_mi_diagnosis = arrival_date_time) %>%\n",
    "    rename(age_mi_diag = age_at_attendance_date) %>%\n",
    "    rename(date_mi_departure = departure_date_time) %>%\n",
    "    select(-diagnosis_1) %>%\n",
    "    group_by(person_id) %>%\n",
    "    arrange(date_mi_diagnosis) %>%\n",
    "    mutate(event_number = row_number()) %>%\n",
    "    slice_min(event_number) %>%\n",
    "    select(-event_number) %>%\n",
    "    ungroup() %>%\n",
    "  mutate(los_mi_days = round(difftime(date_mi_departure, date_mi_diagnosis, units=\"days\")))\n",
    "\n",
    "\n",
    "# Peripheral Vascular Disease\n",
    "pvd <- pvd %>%\n",
    "    mutate(has_pvd = 1) %>%\n",
    "    rename(date_pvd_diagnosis = arrival_date_time) %>%\n",
    "    rename(age_pvd_diag = age_at_attendance_date) %>%\n",
    "    rename(date_pvd_departure = departure_date_time) %>%\n",
    "    select(-diagnosis_1) %>%\n",
    "    group_by(person_id) %>%\n",
    "    arrange(date_pvd_diagnosis) %>%\n",
    "    mutate(event_number = row_number()) %>%\n",
    "    slice_min(event_number) %>%\n",
    "    select(-event_number) %>%\n",
    "    ungroup() %>%\n",
    "  mutate(los_pvd_days = round(difftime(date_pvd_departure, date_pvd_diagnosis, units=\"days\")))\n",
    "\n",
    "# Stroke\n",
    "stroke <- stroke %>%\n",
    "    mutate(has_stroke = 1) %>%\n",
    "    rename(date_stroke_diagnosis = arrival_date_time) %>%\n",
    "    rename(age_stroke_diag = age_at_attendance_date) %>%\n",
    "    rename(date_stroke_departure = departure_date_time) %>%\n",
    "    select(-diagnosis_1) %>%\n",
    "    group_by(person_id) %>%\n",
    "    arrange(date_stroke_diagnosis) %>%\n",
    "    mutate(event_number = row_number()) %>%\n",
    "    slice_min(event_number) %>%\n",
    "    select(-event_number) %>%\n",
    "    ungroup() %>%\n",
    "  mutate(los_stroke_days = round(difftime(date_stroke_departure, date_stroke_diagnosis, units=\"days\")))\n",
    "\n",
    "# Valve Disease\n",
    "valve_disease <- valve_disease %>%\n",
    "    mutate(has_valve_disease = 1) %>%\n",
    "    rename(date_valve_disease_diagnosis = arrival_date_time) %>%\n",
    "    rename(age_valve_disease_diag = age_at_attendance_date) %>%\n",
    "    rename(date_valve_disease_departure = departure_date_time) %>%\n",
    "    select(-diagnosis_1) %>%\n",
    "    group_by(person_id) %>%\n",
    "    arrange(date_valve_disease_diagnosis) %>%\n",
    "    mutate(event_number = row_number()) %>%\n",
    "    slice_min(event_number) %>%\n",
    "    select(-event_number) %>%\n",
    "    ungroup() %>%\n",
    "  mutate(los_valve_disease_days = round(difftime(date_valve_disease_departure, date_valve_disease_diagnosis, units=\"days\")))\n"
   ]
  },
  {
   "cell_type": "code",
   "execution_count": 7,
   "id": "e7fee75b-8903-4628-b9b0-618159eb4fe4",
   "metadata": {},
   "outputs": [
    {
     "data": {
      "text/html": [
       "2920"
      ],
      "text/latex": [
       "2920"
      ],
      "text/markdown": [
       "2920"
      ],
      "text/plain": [
       "[1] 2920"
      ]
     },
     "metadata": {},
     "output_type": "display_data"
    },
    {
     "data": {
      "text/html": [
       "497"
      ],
      "text/latex": [
       "497"
      ],
      "text/markdown": [
       "497"
      ],
      "text/plain": [
       "[1] 497"
      ]
     },
     "metadata": {},
     "output_type": "display_data"
    },
    {
     "data": {
      "text/html": [
       "3644"
      ],
      "text/latex": [
       "3644"
      ],
      "text/markdown": [
       "3644"
      ],
      "text/plain": [
       "[1] 3644"
      ]
     },
     "metadata": {},
     "output_type": "display_data"
    },
    {
     "data": {
      "text/html": [
       "4756"
      ],
      "text/latex": [
       "4756"
      ],
      "text/markdown": [
       "4756"
      ],
      "text/plain": [
       "[1] 4756"
      ]
     },
     "metadata": {},
     "output_type": "display_data"
    },
    {
     "data": {
      "text/html": [
       "3239"
      ],
      "text/latex": [
       "3239"
      ],
      "text/markdown": [
       "3239"
      ],
      "text/plain": [
       "[1] 3239"
      ]
     },
     "metadata": {},
     "output_type": "display_data"
    },
    {
     "data": {
      "text/html": [
       "397"
      ],
      "text/latex": [
       "397"
      ],
      "text/markdown": [
       "397"
      ],
      "text/plain": [
       "[1] 397"
      ]
     },
     "metadata": {},
     "output_type": "display_data"
    },
    {
     "data": {
      "text/html": [
       "377"
      ],
      "text/latex": [
       "377"
      ],
      "text/markdown": [
       "377"
      ],
      "text/plain": [
       "[1] 377"
      ]
     },
     "metadata": {},
     "output_type": "display_data"
    },
    {
     "data": {
      "text/html": [
       "12608"
      ],
      "text/latex": [
       "12608"
      ],
      "text/markdown": [
       "12608"
      ],
      "text/plain": [
       "[1] 12608"
      ]
     },
     "metadata": {},
     "output_type": "display_data"
    },
    {
     "data": {
      "text/html": [
       "169"
      ],
      "text/latex": [
       "169"
      ],
      "text/markdown": [
       "169"
      ],
      "text/plain": [
       "[1] 169"
      ]
     },
     "metadata": {},
     "output_type": "display_data"
    }
   ],
   "source": [
    "nrow(angina)\n",
    "nrow(cardiomyopathy)\n",
    "nrow(heart_failure)\n",
    "nrow(hypertension)\n",
    "nrow(ihd)\n",
    "nrow(mi)\n",
    "nrow(pvd)\n",
    "nrow(stroke)\n",
    "nrow(valve_disease)"
   ]
  },
  {
   "cell_type": "code",
   "execution_count": 8,
   "id": "58422d72-b7a7-40b9-b406-86a36d5c3a56",
   "metadata": {},
   "outputs": [
    {
     "data": {
      "text/html": [
       "<table class=\"dataframe\">\n",
       "<caption>A tibble: 6 × 47</caption>\n",
       "<thead>\n",
       "\t<tr><th scope=col>person_id</th><th scope=col>gender</th><th scope=col>age_angina_diag</th><th scope=col>date_angina_diagnosis</th><th scope=col>date_angina_departure</th><th scope=col>has_angina</th><th scope=col>los_angina_days</th><th scope=col>age_cardiomyopathy_diag</th><th scope=col>date_cardiomyopathy_diagnosis</th><th scope=col>date_cardiomyopathy_departure</th><th scope=col>⋯</th><th scope=col>age_stroke_diag</th><th scope=col>date_stroke_diagnosis</th><th scope=col>date_stroke_departure</th><th scope=col>has_stroke</th><th scope=col>los_stroke_days</th><th scope=col>age_valve_disease_diag</th><th scope=col>date_valve_disease_diagnosis</th><th scope=col>date_valve_disease_departure</th><th scope=col>has_valve_disease</th><th scope=col>los_valve_disease_days</th></tr>\n",
       "\t<tr><th scope=col>&lt;int&gt;</th><th scope=col>&lt;chr&gt;</th><th scope=col>&lt;chr&gt;</th><th scope=col>&lt;chr&gt;</th><th scope=col>&lt;chr&gt;</th><th scope=col>&lt;dbl&gt;</th><th scope=col>&lt;drtn&gt;</th><th scope=col>&lt;chr&gt;</th><th scope=col>&lt;chr&gt;</th><th scope=col>&lt;chr&gt;</th><th scope=col>⋯</th><th scope=col>&lt;chr&gt;</th><th scope=col>&lt;chr&gt;</th><th scope=col>&lt;chr&gt;</th><th scope=col>&lt;dbl&gt;</th><th scope=col>&lt;drtn&gt;</th><th scope=col>&lt;chr&gt;</th><th scope=col>&lt;chr&gt;</th><th scope=col>&lt;chr&gt;</th><th scope=col>&lt;dbl&gt;</th><th scope=col>&lt;drtn&gt;</th></tr>\n",
       "</thead>\n",
       "<tbody>\n",
       "\t<tr><td>267536</td><td>1</td><td>49</td><td>2019-12-15 19:29:00.000</td><td>2019-12-16 03:25:20.000</td><td>1</td><td>0 days</td><td>NA</td><td>NA</td><td>NA</td><td>⋯</td><td>NA</td><td>NA</td><td>NA</td><td>NA</td><td>NA days</td><td>NA</td><td>NA</td><td>NA</td><td>NA</td><td>NA days</td></tr>\n",
       "\t<tr><td>270925</td><td>1</td><td>11</td><td>2018-07-27 15:53:00.000</td><td>2018-07-27 18:41:00.000</td><td>1</td><td>0 days</td><td>NA</td><td>NA</td><td>NA</td><td>⋯</td><td>NA</td><td>NA</td><td>NA</td><td>NA</td><td>NA days</td><td>NA</td><td>NA</td><td>NA</td><td>NA</td><td>NA days</td></tr>\n",
       "\t<tr><td>411496</td><td>2</td><td>2 </td><td>2018-03-07 09:45:00.000</td><td>2018-03-07 12:38:00.000</td><td>1</td><td>0 days</td><td>NA</td><td>NA</td><td>NA</td><td>⋯</td><td>NA</td><td>NA</td><td>NA</td><td>NA</td><td>NA days</td><td>NA</td><td>NA</td><td>NA</td><td>NA</td><td>NA days</td></tr>\n",
       "\t<tr><td>432654</td><td>2</td><td>17</td><td>2019-08-29 14:56:00.000</td><td>2019-08-29 18:45:00.000</td><td>1</td><td>0 days</td><td>NA</td><td>NA</td><td>NA</td><td>⋯</td><td>NA</td><td>NA</td><td>NA</td><td>NA</td><td>NA days</td><td>NA</td><td>NA</td><td>NA</td><td>NA</td><td>NA days</td></tr>\n",
       "\t<tr><td>487732</td><td>2</td><td>52</td><td>2020-03-05 11:31:00.000</td><td>2020-03-05 15:30:00.000</td><td>1</td><td>0 days</td><td>NA</td><td>NA</td><td>NA</td><td>⋯</td><td>NA</td><td>NA</td><td>NA</td><td>NA</td><td>NA days</td><td>NA</td><td>NA</td><td>NA</td><td>NA</td><td>NA days</td></tr>\n",
       "\t<tr><td>745480</td><td>2</td><td>71</td><td>2019-09-10 20:31:00.000</td><td>2019-09-10 23:56:52.000</td><td>1</td><td>0 days</td><td>NA</td><td>NA</td><td>NA</td><td>⋯</td><td>NA</td><td>NA</td><td>NA</td><td>NA</td><td>NA days</td><td>NA</td><td>NA</td><td>NA</td><td>NA</td><td>NA days</td></tr>\n",
       "</tbody>\n",
       "</table>\n"
      ],
      "text/latex": [
       "A tibble: 6 × 47\n",
       "\\begin{tabular}{lllllllllllllllllllll}\n",
       " person\\_id & gender & age\\_angina\\_diag & date\\_angina\\_diagnosis & date\\_angina\\_departure & has\\_angina & los\\_angina\\_days & age\\_cardiomyopathy\\_diag & date\\_cardiomyopathy\\_diagnosis & date\\_cardiomyopathy\\_departure & ⋯ & age\\_stroke\\_diag & date\\_stroke\\_diagnosis & date\\_stroke\\_departure & has\\_stroke & los\\_stroke\\_days & age\\_valve\\_disease\\_diag & date\\_valve\\_disease\\_diagnosis & date\\_valve\\_disease\\_departure & has\\_valve\\_disease & los\\_valve\\_disease\\_days\\\\\n",
       " <int> & <chr> & <chr> & <chr> & <chr> & <dbl> & <drtn> & <chr> & <chr> & <chr> & ⋯ & <chr> & <chr> & <chr> & <dbl> & <drtn> & <chr> & <chr> & <chr> & <dbl> & <drtn>\\\\\n",
       "\\hline\n",
       "\t 267536 & 1 & 49 & 2019-12-15 19:29:00.000 & 2019-12-16 03:25:20.000 & 1 & 0 days & NA & NA & NA & ⋯ & NA & NA & NA & NA & NA days & NA & NA & NA & NA & NA days\\\\\n",
       "\t 270925 & 1 & 11 & 2018-07-27 15:53:00.000 & 2018-07-27 18:41:00.000 & 1 & 0 days & NA & NA & NA & ⋯ & NA & NA & NA & NA & NA days & NA & NA & NA & NA & NA days\\\\\n",
       "\t 411496 & 2 & 2  & 2018-03-07 09:45:00.000 & 2018-03-07 12:38:00.000 & 1 & 0 days & NA & NA & NA & ⋯ & NA & NA & NA & NA & NA days & NA & NA & NA & NA & NA days\\\\\n",
       "\t 432654 & 2 & 17 & 2019-08-29 14:56:00.000 & 2019-08-29 18:45:00.000 & 1 & 0 days & NA & NA & NA & ⋯ & NA & NA & NA & NA & NA days & NA & NA & NA & NA & NA days\\\\\n",
       "\t 487732 & 2 & 52 & 2020-03-05 11:31:00.000 & 2020-03-05 15:30:00.000 & 1 & 0 days & NA & NA & NA & ⋯ & NA & NA & NA & NA & NA days & NA & NA & NA & NA & NA days\\\\\n",
       "\t 745480 & 2 & 71 & 2019-09-10 20:31:00.000 & 2019-09-10 23:56:52.000 & 1 & 0 days & NA & NA & NA & ⋯ & NA & NA & NA & NA & NA days & NA & NA & NA & NA & NA days\\\\\n",
       "\\end{tabular}\n"
      ],
      "text/markdown": [
       "\n",
       "A tibble: 6 × 47\n",
       "\n",
       "| person_id &lt;int&gt; | gender &lt;chr&gt; | age_angina_diag &lt;chr&gt; | date_angina_diagnosis &lt;chr&gt; | date_angina_departure &lt;chr&gt; | has_angina &lt;dbl&gt; | los_angina_days &lt;drtn&gt; | age_cardiomyopathy_diag &lt;chr&gt; | date_cardiomyopathy_diagnosis &lt;chr&gt; | date_cardiomyopathy_departure &lt;chr&gt; | ⋯ ⋯ | age_stroke_diag &lt;chr&gt; | date_stroke_diagnosis &lt;chr&gt; | date_stroke_departure &lt;chr&gt; | has_stroke &lt;dbl&gt; | los_stroke_days &lt;drtn&gt; | age_valve_disease_diag &lt;chr&gt; | date_valve_disease_diagnosis &lt;chr&gt; | date_valve_disease_departure &lt;chr&gt; | has_valve_disease &lt;dbl&gt; | los_valve_disease_days &lt;drtn&gt; |\n",
       "|---|---|---|---|---|---|---|---|---|---|---|---|---|---|---|---|---|---|---|---|---|\n",
       "| 267536 | 1 | 49 | 2019-12-15 19:29:00.000 | 2019-12-16 03:25:20.000 | 1 | 0 days | NA | NA | NA | ⋯ | NA | NA | NA | NA | NA days | NA | NA | NA | NA | NA days |\n",
       "| 270925 | 1 | 11 | 2018-07-27 15:53:00.000 | 2018-07-27 18:41:00.000 | 1 | 0 days | NA | NA | NA | ⋯ | NA | NA | NA | NA | NA days | NA | NA | NA | NA | NA days |\n",
       "| 411496 | 2 | 2  | 2018-03-07 09:45:00.000 | 2018-03-07 12:38:00.000 | 1 | 0 days | NA | NA | NA | ⋯ | NA | NA | NA | NA | NA days | NA | NA | NA | NA | NA days |\n",
       "| 432654 | 2 | 17 | 2019-08-29 14:56:00.000 | 2019-08-29 18:45:00.000 | 1 | 0 days | NA | NA | NA | ⋯ | NA | NA | NA | NA | NA days | NA | NA | NA | NA | NA days |\n",
       "| 487732 | 2 | 52 | 2020-03-05 11:31:00.000 | 2020-03-05 15:30:00.000 | 1 | 0 days | NA | NA | NA | ⋯ | NA | NA | NA | NA | NA days | NA | NA | NA | NA | NA days |\n",
       "| 745480 | 2 | 71 | 2019-09-10 20:31:00.000 | 2019-09-10 23:56:52.000 | 1 | 0 days | NA | NA | NA | ⋯ | NA | NA | NA | NA | NA days | NA | NA | NA | NA | NA days |\n",
       "\n"
      ],
      "text/plain": [
       "  person_id gender age_angina_diag date_angina_diagnosis  \n",
       "1 267536    1      49              2019-12-15 19:29:00.000\n",
       "2 270925    1      11              2018-07-27 15:53:00.000\n",
       "3 411496    2      2               2018-03-07 09:45:00.000\n",
       "4 432654    2      17              2019-08-29 14:56:00.000\n",
       "5 487732    2      52              2020-03-05 11:31:00.000\n",
       "6 745480    2      71              2019-09-10 20:31:00.000\n",
       "  date_angina_departure   has_angina los_angina_days age_cardiomyopathy_diag\n",
       "1 2019-12-16 03:25:20.000 1          0 days          NA                     \n",
       "2 2018-07-27 18:41:00.000 1          0 days          NA                     \n",
       "3 2018-03-07 12:38:00.000 1          0 days          NA                     \n",
       "4 2019-08-29 18:45:00.000 1          0 days          NA                     \n",
       "5 2020-03-05 15:30:00.000 1          0 days          NA                     \n",
       "6 2019-09-10 23:56:52.000 1          0 days          NA                     \n",
       "  date_cardiomyopathy_diagnosis date_cardiomyopathy_departure ⋯ age_stroke_diag\n",
       "1 NA                            NA                            ⋯ NA             \n",
       "2 NA                            NA                            ⋯ NA             \n",
       "3 NA                            NA                            ⋯ NA             \n",
       "4 NA                            NA                            ⋯ NA             \n",
       "5 NA                            NA                            ⋯ NA             \n",
       "6 NA                            NA                            ⋯ NA             \n",
       "  date_stroke_diagnosis date_stroke_departure has_stroke los_stroke_days\n",
       "1 NA                    NA                    NA         NA days        \n",
       "2 NA                    NA                    NA         NA days        \n",
       "3 NA                    NA                    NA         NA days        \n",
       "4 NA                    NA                    NA         NA days        \n",
       "5 NA                    NA                    NA         NA days        \n",
       "6 NA                    NA                    NA         NA days        \n",
       "  age_valve_disease_diag date_valve_disease_diagnosis\n",
       "1 NA                     NA                          \n",
       "2 NA                     NA                          \n",
       "3 NA                     NA                          \n",
       "4 NA                     NA                          \n",
       "5 NA                     NA                          \n",
       "6 NA                     NA                          \n",
       "  date_valve_disease_departure has_valve_disease los_valve_disease_days\n",
       "1 NA                           NA                NA days               \n",
       "2 NA                           NA                NA days               \n",
       "3 NA                           NA                NA days               \n",
       "4 NA                           NA                NA days               \n",
       "5 NA                           NA                NA days               \n",
       "6 NA                           NA                NA days               "
      ]
     },
     "metadata": {},
     "output_type": "display_data"
    }
   ],
   "source": [
    "# join all tables together\n",
    "cvd_ae <- full_join(angina, cardiomyopathy, by = c(\"person_id\", \"gender\"))\n",
    "cvd_ae <- full_join(cvd_ae, heart_failure, by = c(\"person_id\", \"gender\"))\n",
    "cvd_ae <- full_join(cvd_ae, hypertension, by = c(\"person_id\", \"gender\"))\n",
    "cvd_ae <- full_join(cvd_ae, ihd, by = c(\"person_id\", \"gender\"))\n",
    "cvd_ae <- full_join(cvd_ae, mi, by = c(\"person_id\", \"gender\"))\n",
    "cvd_ae <- full_join(cvd_ae, pvd, by = c(\"person_id\", \"gender\"))\n",
    "cvd_ae <- full_join(cvd_ae, stroke, by = c(\"person_id\", \"gender\"))\n",
    "cvd_ae <- full_join(cvd_ae, valve_disease, by = c(\"person_id\", \"gender\"))\n",
    "head(cvd_ae)"
   ]
  },
  {
   "cell_type": "code",
   "execution_count": 9,
   "id": "1c3b7989-95f1-4f43-b80f-ed6776d44016",
   "metadata": {},
   "outputs": [
    {
     "data": {
      "text/html": [
       "<table class=\"dataframe\">\n",
       "<caption>A tibble: 6 × 49</caption>\n",
       "<thead>\n",
       "\t<tr><th scope=col>person_id</th><th scope=col>gender</th><th scope=col>age_angina_diag</th><th scope=col>date_angina_diagnosis</th><th scope=col>date_angina_departure</th><th scope=col>has_angina</th><th scope=col>los_angina_days</th><th scope=col>age_cardiomyopathy_diag</th><th scope=col>date_cardiomyopathy_diagnosis</th><th scope=col>date_cardiomyopathy_departure</th><th scope=col>⋯</th><th scope=col>date_stroke_departure</th><th scope=col>has_stroke</th><th scope=col>los_stroke_days</th><th scope=col>age_valve_disease_diag</th><th scope=col>date_valve_disease_diagnosis</th><th scope=col>date_valve_disease_departure</th><th scope=col>has_valve_disease</th><th scope=col>los_valve_disease_days</th><th scope=col>has_cvd</th><th scope=col>cvd_number</th></tr>\n",
       "\t<tr><th scope=col>&lt;int&gt;</th><th scope=col>&lt;chr&gt;</th><th scope=col>&lt;chr&gt;</th><th scope=col>&lt;chr&gt;</th><th scope=col>&lt;chr&gt;</th><th scope=col>&lt;dbl&gt;</th><th scope=col>&lt;drtn&gt;</th><th scope=col>&lt;chr&gt;</th><th scope=col>&lt;chr&gt;</th><th scope=col>&lt;chr&gt;</th><th scope=col>⋯</th><th scope=col>&lt;chr&gt;</th><th scope=col>&lt;dbl&gt;</th><th scope=col>&lt;drtn&gt;</th><th scope=col>&lt;chr&gt;</th><th scope=col>&lt;chr&gt;</th><th scope=col>&lt;chr&gt;</th><th scope=col>&lt;dbl&gt;</th><th scope=col>&lt;drtn&gt;</th><th scope=col>&lt;dbl&gt;</th><th scope=col>&lt;dbl&gt;</th></tr>\n",
       "</thead>\n",
       "<tbody>\n",
       "\t<tr><td>267536</td><td>1</td><td>49</td><td>2019-12-15 19:29:00.000</td><td>2019-12-16 03:25:20.000</td><td>1</td><td>0 days</td><td>NA</td><td>NA</td><td>NA</td><td>⋯</td><td>NA</td><td>0</td><td>NA days</td><td>NA</td><td>NA</td><td>NA</td><td>0</td><td>NA days</td><td>1</td><td>1</td></tr>\n",
       "\t<tr><td>270925</td><td>1</td><td>11</td><td>2018-07-27 15:53:00.000</td><td>2018-07-27 18:41:00.000</td><td>1</td><td>0 days</td><td>NA</td><td>NA</td><td>NA</td><td>⋯</td><td>NA</td><td>0</td><td>NA days</td><td>NA</td><td>NA</td><td>NA</td><td>0</td><td>NA days</td><td>1</td><td>1</td></tr>\n",
       "\t<tr><td>411496</td><td>2</td><td>2 </td><td>2018-03-07 09:45:00.000</td><td>2018-03-07 12:38:00.000</td><td>1</td><td>0 days</td><td>NA</td><td>NA</td><td>NA</td><td>⋯</td><td>NA</td><td>0</td><td>NA days</td><td>NA</td><td>NA</td><td>NA</td><td>0</td><td>NA days</td><td>1</td><td>1</td></tr>\n",
       "\t<tr><td>432654</td><td>2</td><td>17</td><td>2019-08-29 14:56:00.000</td><td>2019-08-29 18:45:00.000</td><td>1</td><td>0 days</td><td>NA</td><td>NA</td><td>NA</td><td>⋯</td><td>NA</td><td>0</td><td>NA days</td><td>NA</td><td>NA</td><td>NA</td><td>0</td><td>NA days</td><td>1</td><td>1</td></tr>\n",
       "\t<tr><td>487732</td><td>2</td><td>52</td><td>2020-03-05 11:31:00.000</td><td>2020-03-05 15:30:00.000</td><td>1</td><td>0 days</td><td>NA</td><td>NA</td><td>NA</td><td>⋯</td><td>NA</td><td>0</td><td>NA days</td><td>NA</td><td>NA</td><td>NA</td><td>0</td><td>NA days</td><td>1</td><td>1</td></tr>\n",
       "\t<tr><td>745480</td><td>2</td><td>71</td><td>2019-09-10 20:31:00.000</td><td>2019-09-10 23:56:52.000</td><td>1</td><td>0 days</td><td>NA</td><td>NA</td><td>NA</td><td>⋯</td><td>NA</td><td>0</td><td>NA days</td><td>NA</td><td>NA</td><td>NA</td><td>0</td><td>NA days</td><td>1</td><td>1</td></tr>\n",
       "</tbody>\n",
       "</table>\n"
      ],
      "text/latex": [
       "A tibble: 6 × 49\n",
       "\\begin{tabular}{lllllllllllllllllllll}\n",
       " person\\_id & gender & age\\_angina\\_diag & date\\_angina\\_diagnosis & date\\_angina\\_departure & has\\_angina & los\\_angina\\_days & age\\_cardiomyopathy\\_diag & date\\_cardiomyopathy\\_diagnosis & date\\_cardiomyopathy\\_departure & ⋯ & date\\_stroke\\_departure & has\\_stroke & los\\_stroke\\_days & age\\_valve\\_disease\\_diag & date\\_valve\\_disease\\_diagnosis & date\\_valve\\_disease\\_departure & has\\_valve\\_disease & los\\_valve\\_disease\\_days & has\\_cvd & cvd\\_number\\\\\n",
       " <int> & <chr> & <chr> & <chr> & <chr> & <dbl> & <drtn> & <chr> & <chr> & <chr> & ⋯ & <chr> & <dbl> & <drtn> & <chr> & <chr> & <chr> & <dbl> & <drtn> & <dbl> & <dbl>\\\\\n",
       "\\hline\n",
       "\t 267536 & 1 & 49 & 2019-12-15 19:29:00.000 & 2019-12-16 03:25:20.000 & 1 & 0 days & NA & NA & NA & ⋯ & NA & 0 & NA days & NA & NA & NA & 0 & NA days & 1 & 1\\\\\n",
       "\t 270925 & 1 & 11 & 2018-07-27 15:53:00.000 & 2018-07-27 18:41:00.000 & 1 & 0 days & NA & NA & NA & ⋯ & NA & 0 & NA days & NA & NA & NA & 0 & NA days & 1 & 1\\\\\n",
       "\t 411496 & 2 & 2  & 2018-03-07 09:45:00.000 & 2018-03-07 12:38:00.000 & 1 & 0 days & NA & NA & NA & ⋯ & NA & 0 & NA days & NA & NA & NA & 0 & NA days & 1 & 1\\\\\n",
       "\t 432654 & 2 & 17 & 2019-08-29 14:56:00.000 & 2019-08-29 18:45:00.000 & 1 & 0 days & NA & NA & NA & ⋯ & NA & 0 & NA days & NA & NA & NA & 0 & NA days & 1 & 1\\\\\n",
       "\t 487732 & 2 & 52 & 2020-03-05 11:31:00.000 & 2020-03-05 15:30:00.000 & 1 & 0 days & NA & NA & NA & ⋯ & NA & 0 & NA days & NA & NA & NA & 0 & NA days & 1 & 1\\\\\n",
       "\t 745480 & 2 & 71 & 2019-09-10 20:31:00.000 & 2019-09-10 23:56:52.000 & 1 & 0 days & NA & NA & NA & ⋯ & NA & 0 & NA days & NA & NA & NA & 0 & NA days & 1 & 1\\\\\n",
       "\\end{tabular}\n"
      ],
      "text/markdown": [
       "\n",
       "A tibble: 6 × 49\n",
       "\n",
       "| person_id &lt;int&gt; | gender &lt;chr&gt; | age_angina_diag &lt;chr&gt; | date_angina_diagnosis &lt;chr&gt; | date_angina_departure &lt;chr&gt; | has_angina &lt;dbl&gt; | los_angina_days &lt;drtn&gt; | age_cardiomyopathy_diag &lt;chr&gt; | date_cardiomyopathy_diagnosis &lt;chr&gt; | date_cardiomyopathy_departure &lt;chr&gt; | ⋯ ⋯ | date_stroke_departure &lt;chr&gt; | has_stroke &lt;dbl&gt; | los_stroke_days &lt;drtn&gt; | age_valve_disease_diag &lt;chr&gt; | date_valve_disease_diagnosis &lt;chr&gt; | date_valve_disease_departure &lt;chr&gt; | has_valve_disease &lt;dbl&gt; | los_valve_disease_days &lt;drtn&gt; | has_cvd &lt;dbl&gt; | cvd_number &lt;dbl&gt; |\n",
       "|---|---|---|---|---|---|---|---|---|---|---|---|---|---|---|---|---|---|---|---|---|\n",
       "| 267536 | 1 | 49 | 2019-12-15 19:29:00.000 | 2019-12-16 03:25:20.000 | 1 | 0 days | NA | NA | NA | ⋯ | NA | 0 | NA days | NA | NA | NA | 0 | NA days | 1 | 1 |\n",
       "| 270925 | 1 | 11 | 2018-07-27 15:53:00.000 | 2018-07-27 18:41:00.000 | 1 | 0 days | NA | NA | NA | ⋯ | NA | 0 | NA days | NA | NA | NA | 0 | NA days | 1 | 1 |\n",
       "| 411496 | 2 | 2  | 2018-03-07 09:45:00.000 | 2018-03-07 12:38:00.000 | 1 | 0 days | NA | NA | NA | ⋯ | NA | 0 | NA days | NA | NA | NA | 0 | NA days | 1 | 1 |\n",
       "| 432654 | 2 | 17 | 2019-08-29 14:56:00.000 | 2019-08-29 18:45:00.000 | 1 | 0 days | NA | NA | NA | ⋯ | NA | 0 | NA days | NA | NA | NA | 0 | NA days | 1 | 1 |\n",
       "| 487732 | 2 | 52 | 2020-03-05 11:31:00.000 | 2020-03-05 15:30:00.000 | 1 | 0 days | NA | NA | NA | ⋯ | NA | 0 | NA days | NA | NA | NA | 0 | NA days | 1 | 1 |\n",
       "| 745480 | 2 | 71 | 2019-09-10 20:31:00.000 | 2019-09-10 23:56:52.000 | 1 | 0 days | NA | NA | NA | ⋯ | NA | 0 | NA days | NA | NA | NA | 0 | NA days | 1 | 1 |\n",
       "\n"
      ],
      "text/plain": [
       "  person_id gender age_angina_diag date_angina_diagnosis  \n",
       "1 267536    1      49              2019-12-15 19:29:00.000\n",
       "2 270925    1      11              2018-07-27 15:53:00.000\n",
       "3 411496    2      2               2018-03-07 09:45:00.000\n",
       "4 432654    2      17              2019-08-29 14:56:00.000\n",
       "5 487732    2      52              2020-03-05 11:31:00.000\n",
       "6 745480    2      71              2019-09-10 20:31:00.000\n",
       "  date_angina_departure   has_angina los_angina_days age_cardiomyopathy_diag\n",
       "1 2019-12-16 03:25:20.000 1          0 days          NA                     \n",
       "2 2018-07-27 18:41:00.000 1          0 days          NA                     \n",
       "3 2018-03-07 12:38:00.000 1          0 days          NA                     \n",
       "4 2019-08-29 18:45:00.000 1          0 days          NA                     \n",
       "5 2020-03-05 15:30:00.000 1          0 days          NA                     \n",
       "6 2019-09-10 23:56:52.000 1          0 days          NA                     \n",
       "  date_cardiomyopathy_diagnosis date_cardiomyopathy_departure ⋯\n",
       "1 NA                            NA                            ⋯\n",
       "2 NA                            NA                            ⋯\n",
       "3 NA                            NA                            ⋯\n",
       "4 NA                            NA                            ⋯\n",
       "5 NA                            NA                            ⋯\n",
       "6 NA                            NA                            ⋯\n",
       "  date_stroke_departure has_stroke los_stroke_days age_valve_disease_diag\n",
       "1 NA                    0          NA days         NA                    \n",
       "2 NA                    0          NA days         NA                    \n",
       "3 NA                    0          NA days         NA                    \n",
       "4 NA                    0          NA days         NA                    \n",
       "5 NA                    0          NA days         NA                    \n",
       "6 NA                    0          NA days         NA                    \n",
       "  date_valve_disease_diagnosis date_valve_disease_departure has_valve_disease\n",
       "1 NA                           NA                           0                \n",
       "2 NA                           NA                           0                \n",
       "3 NA                           NA                           0                \n",
       "4 NA                           NA                           0                \n",
       "5 NA                           NA                           0                \n",
       "6 NA                           NA                           0                \n",
       "  los_valve_disease_days has_cvd cvd_number\n",
       "1 NA days                1       1         \n",
       "2 NA days                1       1         \n",
       "3 NA days                1       1         \n",
       "4 NA days                1       1         \n",
       "5 NA days                1       1         \n",
       "6 NA days                1       1         "
      ]
     },
     "metadata": {},
     "output_type": "display_data"
    }
   ],
   "source": [
    "# recode NAs to 0 in has_* variables#\n",
    "cvd_ae <- cvd_ae %>% \n",
    "    mutate_at(c('has_angina','has_cardiomyopathy','has_heart_failure','has_hypertension','has_ihd','has_mi','has_pvd','has_stroke','has_valve_disease'), ~replace_na(.,0)) %>%\n",
    "    mutate(has_cvd = ifelse(has_angina == 1 | has_cardiomyopathy == 1 | has_heart_failure == 1 | has_hypertension == 1 | has_ihd == 1 | has_mi == 1 | has_pvd == 1 | has_stroke == 1 | has_valve_disease == 1,1,0)) %>%\n",
    "    mutate(cvd_number = rowSums(select(.,\"has_angina\", \"has_cardiomyopathy\", \"has_heart_failure\", \"has_hypertension\", \"has_ihd\", \"has_mi\", \"has_pvd\", \"has_stroke\", \"has_valve_disease\")))\n",
    "head(cvd_ae)"
   ]
  },
  {
   "cell_type": "code",
   "execution_count": 10,
   "id": "0a0f6406-e306-47be-b332-03c4df15b29e",
   "metadata": {},
   "outputs": [
    {
     "data": {
      "text/html": [
       "<table class=\"dataframe\">\n",
       "<caption>A tibble: 6 × 49</caption>\n",
       "<thead>\n",
       "\t<tr><th scope=col>person_id</th><th scope=col>gender</th><th scope=col>age_angina_diag</th><th scope=col>date_angina_diagnosis</th><th scope=col>date_angina_departure</th><th scope=col>has_angina</th><th scope=col>los_angina_days</th><th scope=col>age_cardiomyopathy_diag</th><th scope=col>date_cardiomyopathy_diagnosis</th><th scope=col>date_cardiomyopathy_departure</th><th scope=col>⋯</th><th scope=col>date_stroke_departure</th><th scope=col>has_stroke</th><th scope=col>los_stroke_days</th><th scope=col>age_valve_disease_diag</th><th scope=col>date_valve_disease_diagnosis</th><th scope=col>date_valve_disease_departure</th><th scope=col>has_valve_disease</th><th scope=col>los_valve_disease_days</th><th scope=col>has_cvd</th><th scope=col>cvd_number</th></tr>\n",
       "\t<tr><th scope=col>&lt;int&gt;</th><th scope=col>&lt;chr&gt;</th><th scope=col>&lt;chr&gt;</th><th scope=col>&lt;chr&gt;</th><th scope=col>&lt;chr&gt;</th><th scope=col>&lt;dbl&gt;</th><th scope=col>&lt;drtn&gt;</th><th scope=col>&lt;chr&gt;</th><th scope=col>&lt;chr&gt;</th><th scope=col>&lt;chr&gt;</th><th scope=col>⋯</th><th scope=col>&lt;chr&gt;</th><th scope=col>&lt;dbl&gt;</th><th scope=col>&lt;drtn&gt;</th><th scope=col>&lt;chr&gt;</th><th scope=col>&lt;chr&gt;</th><th scope=col>&lt;chr&gt;</th><th scope=col>&lt;dbl&gt;</th><th scope=col>&lt;drtn&gt;</th><th scope=col>&lt;dbl&gt;</th><th scope=col>&lt;dbl&gt;</th></tr>\n",
       "</thead>\n",
       "<tbody>\n",
       "\t<tr><td>267536</td><td>1</td><td>49</td><td>2019-12-15 19:29:00.000</td><td>2019-12-16 03:25:20.000</td><td>1</td><td>0 days</td><td>NA</td><td>NA</td><td>NA</td><td>⋯</td><td>NA</td><td>0</td><td>NA days</td><td>NA</td><td>NA</td><td>NA</td><td>0</td><td>NA days</td><td>1</td><td>1</td></tr>\n",
       "\t<tr><td>270925</td><td>1</td><td>11</td><td>2018-07-27 15:53:00.000</td><td>2018-07-27 18:41:00.000</td><td>1</td><td>0 days</td><td>NA</td><td>NA</td><td>NA</td><td>⋯</td><td>NA</td><td>0</td><td>NA days</td><td>NA</td><td>NA</td><td>NA</td><td>0</td><td>NA days</td><td>1</td><td>1</td></tr>\n",
       "\t<tr><td>411496</td><td>2</td><td>2 </td><td>2018-03-07 09:45:00.000</td><td>2018-03-07 12:38:00.000</td><td>1</td><td>0 days</td><td>NA</td><td>NA</td><td>NA</td><td>⋯</td><td>NA</td><td>0</td><td>NA days</td><td>NA</td><td>NA</td><td>NA</td><td>0</td><td>NA days</td><td>1</td><td>1</td></tr>\n",
       "\t<tr><td>432654</td><td>2</td><td>17</td><td>2019-08-29 14:56:00.000</td><td>2019-08-29 18:45:00.000</td><td>1</td><td>0 days</td><td>NA</td><td>NA</td><td>NA</td><td>⋯</td><td>NA</td><td>0</td><td>NA days</td><td>NA</td><td>NA</td><td>NA</td><td>0</td><td>NA days</td><td>1</td><td>1</td></tr>\n",
       "\t<tr><td>487732</td><td>2</td><td>52</td><td>2020-03-05 11:31:00.000</td><td>2020-03-05 15:30:00.000</td><td>1</td><td>0 days</td><td>NA</td><td>NA</td><td>NA</td><td>⋯</td><td>NA</td><td>0</td><td>NA days</td><td>NA</td><td>NA</td><td>NA</td><td>0</td><td>NA days</td><td>1</td><td>1</td></tr>\n",
       "\t<tr><td>745480</td><td>2</td><td>71</td><td>2019-09-10 20:31:00.000</td><td>2019-09-10 23:56:52.000</td><td>1</td><td>0 days</td><td>NA</td><td>NA</td><td>NA</td><td>⋯</td><td>NA</td><td>0</td><td>NA days</td><td>NA</td><td>NA</td><td>NA</td><td>0</td><td>NA days</td><td>1</td><td>1</td></tr>\n",
       "</tbody>\n",
       "</table>\n"
      ],
      "text/latex": [
       "A tibble: 6 × 49\n",
       "\\begin{tabular}{lllllllllllllllllllll}\n",
       " person\\_id & gender & age\\_angina\\_diag & date\\_angina\\_diagnosis & date\\_angina\\_departure & has\\_angina & los\\_angina\\_days & age\\_cardiomyopathy\\_diag & date\\_cardiomyopathy\\_diagnosis & date\\_cardiomyopathy\\_departure & ⋯ & date\\_stroke\\_departure & has\\_stroke & los\\_stroke\\_days & age\\_valve\\_disease\\_diag & date\\_valve\\_disease\\_diagnosis & date\\_valve\\_disease\\_departure & has\\_valve\\_disease & los\\_valve\\_disease\\_days & has\\_cvd & cvd\\_number\\\\\n",
       " <int> & <chr> & <chr> & <chr> & <chr> & <dbl> & <drtn> & <chr> & <chr> & <chr> & ⋯ & <chr> & <dbl> & <drtn> & <chr> & <chr> & <chr> & <dbl> & <drtn> & <dbl> & <dbl>\\\\\n",
       "\\hline\n",
       "\t 267536 & 1 & 49 & 2019-12-15 19:29:00.000 & 2019-12-16 03:25:20.000 & 1 & 0 days & NA & NA & NA & ⋯ & NA & 0 & NA days & NA & NA & NA & 0 & NA days & 1 & 1\\\\\n",
       "\t 270925 & 1 & 11 & 2018-07-27 15:53:00.000 & 2018-07-27 18:41:00.000 & 1 & 0 days & NA & NA & NA & ⋯ & NA & 0 & NA days & NA & NA & NA & 0 & NA days & 1 & 1\\\\\n",
       "\t 411496 & 2 & 2  & 2018-03-07 09:45:00.000 & 2018-03-07 12:38:00.000 & 1 & 0 days & NA & NA & NA & ⋯ & NA & 0 & NA days & NA & NA & NA & 0 & NA days & 1 & 1\\\\\n",
       "\t 432654 & 2 & 17 & 2019-08-29 14:56:00.000 & 2019-08-29 18:45:00.000 & 1 & 0 days & NA & NA & NA & ⋯ & NA & 0 & NA days & NA & NA & NA & 0 & NA days & 1 & 1\\\\\n",
       "\t 487732 & 2 & 52 & 2020-03-05 11:31:00.000 & 2020-03-05 15:30:00.000 & 1 & 0 days & NA & NA & NA & ⋯ & NA & 0 & NA days & NA & NA & NA & 0 & NA days & 1 & 1\\\\\n",
       "\t 745480 & 2 & 71 & 2019-09-10 20:31:00.000 & 2019-09-10 23:56:52.000 & 1 & 0 days & NA & NA & NA & ⋯ & NA & 0 & NA days & NA & NA & NA & 0 & NA days & 1 & 1\\\\\n",
       "\\end{tabular}\n"
      ],
      "text/markdown": [
       "\n",
       "A tibble: 6 × 49\n",
       "\n",
       "| person_id &lt;int&gt; | gender &lt;chr&gt; | age_angina_diag &lt;chr&gt; | date_angina_diagnosis &lt;chr&gt; | date_angina_departure &lt;chr&gt; | has_angina &lt;dbl&gt; | los_angina_days &lt;drtn&gt; | age_cardiomyopathy_diag &lt;chr&gt; | date_cardiomyopathy_diagnosis &lt;chr&gt; | date_cardiomyopathy_departure &lt;chr&gt; | ⋯ ⋯ | date_stroke_departure &lt;chr&gt; | has_stroke &lt;dbl&gt; | los_stroke_days &lt;drtn&gt; | age_valve_disease_diag &lt;chr&gt; | date_valve_disease_diagnosis &lt;chr&gt; | date_valve_disease_departure &lt;chr&gt; | has_valve_disease &lt;dbl&gt; | los_valve_disease_days &lt;drtn&gt; | has_cvd &lt;dbl&gt; | cvd_number &lt;dbl&gt; |\n",
       "|---|---|---|---|---|---|---|---|---|---|---|---|---|---|---|---|---|---|---|---|---|\n",
       "| 267536 | 1 | 49 | 2019-12-15 19:29:00.000 | 2019-12-16 03:25:20.000 | 1 | 0 days | NA | NA | NA | ⋯ | NA | 0 | NA days | NA | NA | NA | 0 | NA days | 1 | 1 |\n",
       "| 270925 | 1 | 11 | 2018-07-27 15:53:00.000 | 2018-07-27 18:41:00.000 | 1 | 0 days | NA | NA | NA | ⋯ | NA | 0 | NA days | NA | NA | NA | 0 | NA days | 1 | 1 |\n",
       "| 411496 | 2 | 2  | 2018-03-07 09:45:00.000 | 2018-03-07 12:38:00.000 | 1 | 0 days | NA | NA | NA | ⋯ | NA | 0 | NA days | NA | NA | NA | 0 | NA days | 1 | 1 |\n",
       "| 432654 | 2 | 17 | 2019-08-29 14:56:00.000 | 2019-08-29 18:45:00.000 | 1 | 0 days | NA | NA | NA | ⋯ | NA | 0 | NA days | NA | NA | NA | 0 | NA days | 1 | 1 |\n",
       "| 487732 | 2 | 52 | 2020-03-05 11:31:00.000 | 2020-03-05 15:30:00.000 | 1 | 0 days | NA | NA | NA | ⋯ | NA | 0 | NA days | NA | NA | NA | 0 | NA days | 1 | 1 |\n",
       "| 745480 | 2 | 71 | 2019-09-10 20:31:00.000 | 2019-09-10 23:56:52.000 | 1 | 0 days | NA | NA | NA | ⋯ | NA | 0 | NA days | NA | NA | NA | 0 | NA days | 1 | 1 |\n",
       "\n"
      ],
      "text/plain": [
       "  person_id gender age_angina_diag date_angina_diagnosis  \n",
       "1 267536    1      49              2019-12-15 19:29:00.000\n",
       "2 270925    1      11              2018-07-27 15:53:00.000\n",
       "3 411496    2      2               2018-03-07 09:45:00.000\n",
       "4 432654    2      17              2019-08-29 14:56:00.000\n",
       "5 487732    2      52              2020-03-05 11:31:00.000\n",
       "6 745480    2      71              2019-09-10 20:31:00.000\n",
       "  date_angina_departure   has_angina los_angina_days age_cardiomyopathy_diag\n",
       "1 2019-12-16 03:25:20.000 1          0 days          NA                     \n",
       "2 2018-07-27 18:41:00.000 1          0 days          NA                     \n",
       "3 2018-03-07 12:38:00.000 1          0 days          NA                     \n",
       "4 2019-08-29 18:45:00.000 1          0 days          NA                     \n",
       "5 2020-03-05 15:30:00.000 1          0 days          NA                     \n",
       "6 2019-09-10 23:56:52.000 1          0 days          NA                     \n",
       "  date_cardiomyopathy_diagnosis date_cardiomyopathy_departure ⋯\n",
       "1 NA                            NA                            ⋯\n",
       "2 NA                            NA                            ⋯\n",
       "3 NA                            NA                            ⋯\n",
       "4 NA                            NA                            ⋯\n",
       "5 NA                            NA                            ⋯\n",
       "6 NA                            NA                            ⋯\n",
       "  date_stroke_departure has_stroke los_stroke_days age_valve_disease_diag\n",
       "1 NA                    0          NA days         NA                    \n",
       "2 NA                    0          NA days         NA                    \n",
       "3 NA                    0          NA days         NA                    \n",
       "4 NA                    0          NA days         NA                    \n",
       "5 NA                    0          NA days         NA                    \n",
       "6 NA                    0          NA days         NA                    \n",
       "  date_valve_disease_diagnosis date_valve_disease_departure has_valve_disease\n",
       "1 NA                           NA                           0                \n",
       "2 NA                           NA                           0                \n",
       "3 NA                           NA                           0                \n",
       "4 NA                           NA                           0                \n",
       "5 NA                           NA                           0                \n",
       "6 NA                           NA                           0                \n",
       "  los_valve_disease_days has_cvd cvd_number\n",
       "1 NA days                1       1         \n",
       "2 NA days                1       1         \n",
       "3 NA days                1       1         \n",
       "4 NA days                1       1         \n",
       "5 NA days                1       1         \n",
       "6 NA days                1       1         "
      ]
     },
     "metadata": {},
     "output_type": "display_data"
    }
   ],
   "source": [
    "head(cvd_ae)"
   ]
  },
  {
   "cell_type": "code",
   "execution_count": 11,
   "id": "a3714b44-7ad5-4f39-a7c5-ba0bc2d931b8",
   "metadata": {},
   "outputs": [],
   "source": [
    "# change date variable field class to date to be able to save dataset\n",
    "cvd_ae$date_angina_diagnosis <- as.Date(cvd_ae$date_angina_diagnosis)\n",
    "cvd_ae$date_cardiomyopathy_diagnosis <- as.Date(cvd_ae$date_cardiomyopathy_diagnosis)\n",
    "cvd_ae$date_valve_disease_diagnosis <- as.Date(cvd_ae$date_valve_disease_diagnosis)\n",
    "cvd_ae$date_heart_failure_diagnosis <- as.Date(cvd_ae$date_heart_failure_diagnosis)\n",
    "cvd_ae$date_hypertension_diagnosis <- as.Date(cvd_ae$date_hypertension_diagnosis)\n",
    "cvd_ae$date_ihd_diagnosis <- as.Date(cvd_ae$date_ihd_diagnosis)\n",
    "cvd_ae$date_mi_diagnosis <- as.Date(cvd_ae$date_mi_diagnosis)\n",
    "cvd_ae$date_pvd_diagnosis <- as.Date(cvd_ae$date_pvd_diagnosis)\n",
    "cvd_ae$date_stroke_diagnosis <- as.Date(cvd_ae$date_stroke_diagnosis)\n",
    "cvd_ae$date_angina_departure <- as.Date(cvd_ae$date_angina_departure)\n",
    "cvd_ae$date_cardiomyopathy_departure <- as.Date(cvd_ae$date_cardiomyopathy_departure)\n",
    "cvd_ae$date_valve_disease_departure <- as.Date(cvd_ae$date_valve_disease_departure)\n",
    "cvd_ae$date_heart_failure_departure <- as.Date(cvd_ae$date_heart_failure_departure)\n",
    "cvd_ae$date_hypertension_departure <- as.Date(cvd_ae$date_hypertension_departure)\n",
    "cvd_ae$date_ihd_departure <- as.Date(cvd_ae$date_ihd_departure)\n",
    "cvd_ae$date_mi_departure <- as.Date(cvd_ae$date_mi_departure)\n",
    "cvd_ae$date_pvd_departure <- as.Date(cvd_ae$date_pvd_departure)\n",
    "cvd_ae$date_stroke_departure <- as.Date(cvd_ae$date_stroke_departure)\n",
    "cvd_ae$los_angina_days <- as.numeric(cvd_ae$los_angina_days)\n",
    "cvd_ae$los_cardiomyopathy_days <- as.numeric(cvd_ae$los_cardiomyopathy_days)\n",
    "cvd_ae$los_heart_failure_days <- as.numeric(cvd_ae$los_heart_failure_days)\n",
    "cvd_ae$los_hypertension_days <- as.numeric(cvd_ae$los_hypertension_days)\n",
    "cvd_ae$los_ihd_days <- as.numeric(cvd_ae$los_ihd_days)\n",
    "cvd_ae$los_mi_days <- as.numeric(cvd_ae$los_mi_days)\n",
    "cvd_ae$los_pvd_days <- as.numeric(cvd_ae$los_pvd_days)\n",
    "cvd_ae$los_stroke_days <- as.numeric(cvd_ae$los_stroke_days)\n",
    "cvd_ae$los_valve_disease_days <- as.numeric(cvd_ae$los_valve_disease_days)"
   ]
  },
  {
   "cell_type": "code",
   "execution_count": 13,
   "id": "615bc428-4394-455f-9859-c154d8c4b2fe",
   "metadata": {},
   "outputs": [
    {
     "data": {
      "text/html": [
       "22811"
      ],
      "text/latex": [
       "22811"
      ],
      "text/markdown": [
       "22811"
      ],
      "text/plain": [
       "[1] 22811"
      ]
     },
     "metadata": {},
     "output_type": "display_data"
    }
   ],
   "source": [
    "nrow(cvd_ae)"
   ]
  },
  {
   "cell_type": "code",
   "execution_count": 14,
   "id": "8b5d1e8b-38d5-47b9-b011-92dd84adffc3",
   "metadata": {},
   "outputs": [
    {
     "data": {
      "text/html": [
       "<style>\n",
       ".list-inline {list-style: none; margin:0; padding: 0}\n",
       ".list-inline>li {display: inline-block}\n",
       ".list-inline>li:not(:last-child)::after {content: \"\\00b7\"; padding: 0 .5ex}\n",
       "</style>\n",
       "<ol class=list-inline><li>'person_id'</li><li>'gender'</li><li>'age_angina_diag'</li><li>'date_angina_diagnosis'</li><li>'date_angina_departure'</li><li>'has_angina'</li><li>'los_angina_days'</li><li>'age_cardiomyopathy_diag'</li><li>'date_cardiomyopathy_diagnosis'</li><li>'date_cardiomyopathy_departure'</li><li>'has_cardiomyopathy'</li><li>'los_cardiomyopathy_days'</li><li>'age_heart_failure_diag'</li><li>'date_heart_failure_diagnosis'</li><li>'date_heart_failure_departure'</li><li>'has_heart_failure'</li><li>'los_heart_failure_days'</li><li>'age_hypertension_diag'</li><li>'date_hypertension_diagnosis'</li><li>'date_hypertension_departure'</li><li>'has_hypertension'</li><li>'los_hypertension_days'</li><li>'age_ihd_diag'</li><li>'date_ihd_diagnosis'</li><li>'date_ihd_departure'</li><li>'has_ihd'</li><li>'los_ihd_days'</li><li>'age_mi_diag'</li><li>'date_mi_diagnosis'</li><li>'date_mi_departure'</li><li>'has_mi'</li><li>'los_mi_days'</li><li>'age_pvd_diag'</li><li>'date_pvd_diagnosis'</li><li>'date_pvd_departure'</li><li>'has_pvd'</li><li>'los_pvd_days'</li><li>'age_stroke_diag'</li><li>'date_stroke_diagnosis'</li><li>'date_stroke_departure'</li><li>'has_stroke'</li><li>'los_stroke_days'</li><li>'age_valve_disease_diag'</li><li>'date_valve_disease_diagnosis'</li><li>'date_valve_disease_departure'</li><li>'has_valve_disease'</li><li>'los_valve_disease_days'</li><li>'has_cvd'</li><li>'cvd_number'</li></ol>\n"
      ],
      "text/latex": [
       "\\begin{enumerate*}\n",
       "\\item 'person\\_id'\n",
       "\\item 'gender'\n",
       "\\item 'age\\_angina\\_diag'\n",
       "\\item 'date\\_angina\\_diagnosis'\n",
       "\\item 'date\\_angina\\_departure'\n",
       "\\item 'has\\_angina'\n",
       "\\item 'los\\_angina\\_days'\n",
       "\\item 'age\\_cardiomyopathy\\_diag'\n",
       "\\item 'date\\_cardiomyopathy\\_diagnosis'\n",
       "\\item 'date\\_cardiomyopathy\\_departure'\n",
       "\\item 'has\\_cardiomyopathy'\n",
       "\\item 'los\\_cardiomyopathy\\_days'\n",
       "\\item 'age\\_heart\\_failure\\_diag'\n",
       "\\item 'date\\_heart\\_failure\\_diagnosis'\n",
       "\\item 'date\\_heart\\_failure\\_departure'\n",
       "\\item 'has\\_heart\\_failure'\n",
       "\\item 'los\\_heart\\_failure\\_days'\n",
       "\\item 'age\\_hypertension\\_diag'\n",
       "\\item 'date\\_hypertension\\_diagnosis'\n",
       "\\item 'date\\_hypertension\\_departure'\n",
       "\\item 'has\\_hypertension'\n",
       "\\item 'los\\_hypertension\\_days'\n",
       "\\item 'age\\_ihd\\_diag'\n",
       "\\item 'date\\_ihd\\_diagnosis'\n",
       "\\item 'date\\_ihd\\_departure'\n",
       "\\item 'has\\_ihd'\n",
       "\\item 'los\\_ihd\\_days'\n",
       "\\item 'age\\_mi\\_diag'\n",
       "\\item 'date\\_mi\\_diagnosis'\n",
       "\\item 'date\\_mi\\_departure'\n",
       "\\item 'has\\_mi'\n",
       "\\item 'los\\_mi\\_days'\n",
       "\\item 'age\\_pvd\\_diag'\n",
       "\\item 'date\\_pvd\\_diagnosis'\n",
       "\\item 'date\\_pvd\\_departure'\n",
       "\\item 'has\\_pvd'\n",
       "\\item 'los\\_pvd\\_days'\n",
       "\\item 'age\\_stroke\\_diag'\n",
       "\\item 'date\\_stroke\\_diagnosis'\n",
       "\\item 'date\\_stroke\\_departure'\n",
       "\\item 'has\\_stroke'\n",
       "\\item 'los\\_stroke\\_days'\n",
       "\\item 'age\\_valve\\_disease\\_diag'\n",
       "\\item 'date\\_valve\\_disease\\_diagnosis'\n",
       "\\item 'date\\_valve\\_disease\\_departure'\n",
       "\\item 'has\\_valve\\_disease'\n",
       "\\item 'los\\_valve\\_disease\\_days'\n",
       "\\item 'has\\_cvd'\n",
       "\\item 'cvd\\_number'\n",
       "\\end{enumerate*}\n"
      ],
      "text/markdown": [
       "1. 'person_id'\n",
       "2. 'gender'\n",
       "3. 'age_angina_diag'\n",
       "4. 'date_angina_diagnosis'\n",
       "5. 'date_angina_departure'\n",
       "6. 'has_angina'\n",
       "7. 'los_angina_days'\n",
       "8. 'age_cardiomyopathy_diag'\n",
       "9. 'date_cardiomyopathy_diagnosis'\n",
       "10. 'date_cardiomyopathy_departure'\n",
       "11. 'has_cardiomyopathy'\n",
       "12. 'los_cardiomyopathy_days'\n",
       "13. 'age_heart_failure_diag'\n",
       "14. 'date_heart_failure_diagnosis'\n",
       "15. 'date_heart_failure_departure'\n",
       "16. 'has_heart_failure'\n",
       "17. 'los_heart_failure_days'\n",
       "18. 'age_hypertension_diag'\n",
       "19. 'date_hypertension_diagnosis'\n",
       "20. 'date_hypertension_departure'\n",
       "21. 'has_hypertension'\n",
       "22. 'los_hypertension_days'\n",
       "23. 'age_ihd_diag'\n",
       "24. 'date_ihd_diagnosis'\n",
       "25. 'date_ihd_departure'\n",
       "26. 'has_ihd'\n",
       "27. 'los_ihd_days'\n",
       "28. 'age_mi_diag'\n",
       "29. 'date_mi_diagnosis'\n",
       "30. 'date_mi_departure'\n",
       "31. 'has_mi'\n",
       "32. 'los_mi_days'\n",
       "33. 'age_pvd_diag'\n",
       "34. 'date_pvd_diagnosis'\n",
       "35. 'date_pvd_departure'\n",
       "36. 'has_pvd'\n",
       "37. 'los_pvd_days'\n",
       "38. 'age_stroke_diag'\n",
       "39. 'date_stroke_diagnosis'\n",
       "40. 'date_stroke_departure'\n",
       "41. 'has_stroke'\n",
       "42. 'los_stroke_days'\n",
       "43. 'age_valve_disease_diag'\n",
       "44. 'date_valve_disease_diagnosis'\n",
       "45. 'date_valve_disease_departure'\n",
       "46. 'has_valve_disease'\n",
       "47. 'los_valve_disease_days'\n",
       "48. 'has_cvd'\n",
       "49. 'cvd_number'\n",
       "\n",
       "\n"
      ],
      "text/plain": [
       " [1] \"person_id\"                     \"gender\"                       \n",
       " [3] \"age_angina_diag\"               \"date_angina_diagnosis\"        \n",
       " [5] \"date_angina_departure\"         \"has_angina\"                   \n",
       " [7] \"los_angina_days\"               \"age_cardiomyopathy_diag\"      \n",
       " [9] \"date_cardiomyopathy_diagnosis\" \"date_cardiomyopathy_departure\"\n",
       "[11] \"has_cardiomyopathy\"            \"los_cardiomyopathy_days\"      \n",
       "[13] \"age_heart_failure_diag\"        \"date_heart_failure_diagnosis\" \n",
       "[15] \"date_heart_failure_departure\"  \"has_heart_failure\"            \n",
       "[17] \"los_heart_failure_days\"        \"age_hypertension_diag\"        \n",
       "[19] \"date_hypertension_diagnosis\"   \"date_hypertension_departure\"  \n",
       "[21] \"has_hypertension\"              \"los_hypertension_days\"        \n",
       "[23] \"age_ihd_diag\"                  \"date_ihd_diagnosis\"           \n",
       "[25] \"date_ihd_departure\"            \"has_ihd\"                      \n",
       "[27] \"los_ihd_days\"                  \"age_mi_diag\"                  \n",
       "[29] \"date_mi_diagnosis\"             \"date_mi_departure\"            \n",
       "[31] \"has_mi\"                        \"los_mi_days\"                  \n",
       "[33] \"age_pvd_diag\"                  \"date_pvd_diagnosis\"           \n",
       "[35] \"date_pvd_departure\"            \"has_pvd\"                      \n",
       "[37] \"los_pvd_days\"                  \"age_stroke_diag\"              \n",
       "[39] \"date_stroke_diagnosis\"         \"date_stroke_departure\"        \n",
       "[41] \"has_stroke\"                    \"los_stroke_days\"              \n",
       "[43] \"age_valve_disease_diag\"        \"date_valve_disease_diagnosis\" \n",
       "[45] \"date_valve_disease_departure\"  \"has_valve_disease\"            \n",
       "[47] \"los_valve_disease_days\"        \"has_cvd\"                      \n",
       "[49] \"cvd_number\"                   "
      ]
     },
     "metadata": {},
     "output_type": "display_data"
    }
   ],
   "source": [
    "colnames(cvd_ae)"
   ]
  },
  {
   "cell_type": "code",
   "execution_count": 15,
   "id": "9957a3d7-e2e5-4ea1-ae5f-b1451ef67cae",
   "metadata": {},
   "outputs": [
    {
     "data": {
      "text/html": [
       "<table class=\"dataframe\">\n",
       "<caption>A tibble: 6 × 49</caption>\n",
       "<thead>\n",
       "\t<tr><th scope=col>person_id</th><th scope=col>gender</th><th scope=col>age_angina_diag</th><th scope=col>date_angina_diagnosis</th><th scope=col>date_angina_departure</th><th scope=col>has_angina</th><th scope=col>los_angina_days</th><th scope=col>age_cardiomyopathy_diag</th><th scope=col>date_cardiomyopathy_diagnosis</th><th scope=col>date_cardiomyopathy_departure</th><th scope=col>⋯</th><th scope=col>date_stroke_departure</th><th scope=col>has_stroke</th><th scope=col>los_stroke_days</th><th scope=col>age_valve_disease_diag</th><th scope=col>date_valve_disease_diagnosis</th><th scope=col>date_valve_disease_departure</th><th scope=col>has_valve_disease</th><th scope=col>los_valve_disease_days</th><th scope=col>has_cvd</th><th scope=col>cvd_number</th></tr>\n",
       "\t<tr><th scope=col>&lt;int&gt;</th><th scope=col>&lt;chr&gt;</th><th scope=col>&lt;chr&gt;</th><th scope=col>&lt;date&gt;</th><th scope=col>&lt;date&gt;</th><th scope=col>&lt;dbl&gt;</th><th scope=col>&lt;dbl&gt;</th><th scope=col>&lt;chr&gt;</th><th scope=col>&lt;date&gt;</th><th scope=col>&lt;date&gt;</th><th scope=col>⋯</th><th scope=col>&lt;date&gt;</th><th scope=col>&lt;dbl&gt;</th><th scope=col>&lt;dbl&gt;</th><th scope=col>&lt;chr&gt;</th><th scope=col>&lt;date&gt;</th><th scope=col>&lt;date&gt;</th><th scope=col>&lt;dbl&gt;</th><th scope=col>&lt;dbl&gt;</th><th scope=col>&lt;dbl&gt;</th><th scope=col>&lt;dbl&gt;</th></tr>\n",
       "</thead>\n",
       "<tbody>\n",
       "\t<tr><td>267536</td><td>1</td><td>49</td><td>2019-12-15</td><td>2019-12-16</td><td>1</td><td>0</td><td>NA</td><td>NA</td><td>NA</td><td>⋯</td><td>NA</td><td>0</td><td>NA</td><td>NA</td><td>NA</td><td>NA</td><td>0</td><td>NA</td><td>1</td><td>1</td></tr>\n",
       "\t<tr><td>270925</td><td>1</td><td>11</td><td>2018-07-27</td><td>2018-07-27</td><td>1</td><td>0</td><td>NA</td><td>NA</td><td>NA</td><td>⋯</td><td>NA</td><td>0</td><td>NA</td><td>NA</td><td>NA</td><td>NA</td><td>0</td><td>NA</td><td>1</td><td>1</td></tr>\n",
       "\t<tr><td>411496</td><td>2</td><td>2 </td><td>2018-03-07</td><td>2018-03-07</td><td>1</td><td>0</td><td>NA</td><td>NA</td><td>NA</td><td>⋯</td><td>NA</td><td>0</td><td>NA</td><td>NA</td><td>NA</td><td>NA</td><td>0</td><td>NA</td><td>1</td><td>1</td></tr>\n",
       "\t<tr><td>432654</td><td>2</td><td>17</td><td>2019-08-29</td><td>2019-08-29</td><td>1</td><td>0</td><td>NA</td><td>NA</td><td>NA</td><td>⋯</td><td>NA</td><td>0</td><td>NA</td><td>NA</td><td>NA</td><td>NA</td><td>0</td><td>NA</td><td>1</td><td>1</td></tr>\n",
       "\t<tr><td>487732</td><td>2</td><td>52</td><td>2020-03-05</td><td>2020-03-05</td><td>1</td><td>0</td><td>NA</td><td>NA</td><td>NA</td><td>⋯</td><td>NA</td><td>0</td><td>NA</td><td>NA</td><td>NA</td><td>NA</td><td>0</td><td>NA</td><td>1</td><td>1</td></tr>\n",
       "\t<tr><td>745480</td><td>2</td><td>71</td><td>2019-09-10</td><td>2019-09-10</td><td>1</td><td>0</td><td>NA</td><td>NA</td><td>NA</td><td>⋯</td><td>NA</td><td>0</td><td>NA</td><td>NA</td><td>NA</td><td>NA</td><td>0</td><td>NA</td><td>1</td><td>1</td></tr>\n",
       "</tbody>\n",
       "</table>\n"
      ],
      "text/latex": [
       "A tibble: 6 × 49\n",
       "\\begin{tabular}{lllllllllllllllllllll}\n",
       " person\\_id & gender & age\\_angina\\_diag & date\\_angina\\_diagnosis & date\\_angina\\_departure & has\\_angina & los\\_angina\\_days & age\\_cardiomyopathy\\_diag & date\\_cardiomyopathy\\_diagnosis & date\\_cardiomyopathy\\_departure & ⋯ & date\\_stroke\\_departure & has\\_stroke & los\\_stroke\\_days & age\\_valve\\_disease\\_diag & date\\_valve\\_disease\\_diagnosis & date\\_valve\\_disease\\_departure & has\\_valve\\_disease & los\\_valve\\_disease\\_days & has\\_cvd & cvd\\_number\\\\\n",
       " <int> & <chr> & <chr> & <date> & <date> & <dbl> & <dbl> & <chr> & <date> & <date> & ⋯ & <date> & <dbl> & <dbl> & <chr> & <date> & <date> & <dbl> & <dbl> & <dbl> & <dbl>\\\\\n",
       "\\hline\n",
       "\t 267536 & 1 & 49 & 2019-12-15 & 2019-12-16 & 1 & 0 & NA & NA & NA & ⋯ & NA & 0 & NA & NA & NA & NA & 0 & NA & 1 & 1\\\\\n",
       "\t 270925 & 1 & 11 & 2018-07-27 & 2018-07-27 & 1 & 0 & NA & NA & NA & ⋯ & NA & 0 & NA & NA & NA & NA & 0 & NA & 1 & 1\\\\\n",
       "\t 411496 & 2 & 2  & 2018-03-07 & 2018-03-07 & 1 & 0 & NA & NA & NA & ⋯ & NA & 0 & NA & NA & NA & NA & 0 & NA & 1 & 1\\\\\n",
       "\t 432654 & 2 & 17 & 2019-08-29 & 2019-08-29 & 1 & 0 & NA & NA & NA & ⋯ & NA & 0 & NA & NA & NA & NA & 0 & NA & 1 & 1\\\\\n",
       "\t 487732 & 2 & 52 & 2020-03-05 & 2020-03-05 & 1 & 0 & NA & NA & NA & ⋯ & NA & 0 & NA & NA & NA & NA & 0 & NA & 1 & 1\\\\\n",
       "\t 745480 & 2 & 71 & 2019-09-10 & 2019-09-10 & 1 & 0 & NA & NA & NA & ⋯ & NA & 0 & NA & NA & NA & NA & 0 & NA & 1 & 1\\\\\n",
       "\\end{tabular}\n"
      ],
      "text/markdown": [
       "\n",
       "A tibble: 6 × 49\n",
       "\n",
       "| person_id &lt;int&gt; | gender &lt;chr&gt; | age_angina_diag &lt;chr&gt; | date_angina_diagnosis &lt;date&gt; | date_angina_departure &lt;date&gt; | has_angina &lt;dbl&gt; | los_angina_days &lt;dbl&gt; | age_cardiomyopathy_diag &lt;chr&gt; | date_cardiomyopathy_diagnosis &lt;date&gt; | date_cardiomyopathy_departure &lt;date&gt; | ⋯ ⋯ | date_stroke_departure &lt;date&gt; | has_stroke &lt;dbl&gt; | los_stroke_days &lt;dbl&gt; | age_valve_disease_diag &lt;chr&gt; | date_valve_disease_diagnosis &lt;date&gt; | date_valve_disease_departure &lt;date&gt; | has_valve_disease &lt;dbl&gt; | los_valve_disease_days &lt;dbl&gt; | has_cvd &lt;dbl&gt; | cvd_number &lt;dbl&gt; |\n",
       "|---|---|---|---|---|---|---|---|---|---|---|---|---|---|---|---|---|---|---|---|---|\n",
       "| 267536 | 1 | 49 | 2019-12-15 | 2019-12-16 | 1 | 0 | NA | NA | NA | ⋯ | NA | 0 | NA | NA | NA | NA | 0 | NA | 1 | 1 |\n",
       "| 270925 | 1 | 11 | 2018-07-27 | 2018-07-27 | 1 | 0 | NA | NA | NA | ⋯ | NA | 0 | NA | NA | NA | NA | 0 | NA | 1 | 1 |\n",
       "| 411496 | 2 | 2  | 2018-03-07 | 2018-03-07 | 1 | 0 | NA | NA | NA | ⋯ | NA | 0 | NA | NA | NA | NA | 0 | NA | 1 | 1 |\n",
       "| 432654 | 2 | 17 | 2019-08-29 | 2019-08-29 | 1 | 0 | NA | NA | NA | ⋯ | NA | 0 | NA | NA | NA | NA | 0 | NA | 1 | 1 |\n",
       "| 487732 | 2 | 52 | 2020-03-05 | 2020-03-05 | 1 | 0 | NA | NA | NA | ⋯ | NA | 0 | NA | NA | NA | NA | 0 | NA | 1 | 1 |\n",
       "| 745480 | 2 | 71 | 2019-09-10 | 2019-09-10 | 1 | 0 | NA | NA | NA | ⋯ | NA | 0 | NA | NA | NA | NA | 0 | NA | 1 | 1 |\n",
       "\n"
      ],
      "text/plain": [
       "  person_id gender age_angina_diag date_angina_diagnosis date_angina_departure\n",
       "1 267536    1      49              2019-12-15            2019-12-16           \n",
       "2 270925    1      11              2018-07-27            2018-07-27           \n",
       "3 411496    2      2               2018-03-07            2018-03-07           \n",
       "4 432654    2      17              2019-08-29            2019-08-29           \n",
       "5 487732    2      52              2020-03-05            2020-03-05           \n",
       "6 745480    2      71              2019-09-10            2019-09-10           \n",
       "  has_angina los_angina_days age_cardiomyopathy_diag\n",
       "1 1          0               NA                     \n",
       "2 1          0               NA                     \n",
       "3 1          0               NA                     \n",
       "4 1          0               NA                     \n",
       "5 1          0               NA                     \n",
       "6 1          0               NA                     \n",
       "  date_cardiomyopathy_diagnosis date_cardiomyopathy_departure ⋯\n",
       "1 <NA>                          <NA>                          ⋯\n",
       "2 <NA>                          <NA>                          ⋯\n",
       "3 <NA>                          <NA>                          ⋯\n",
       "4 <NA>                          <NA>                          ⋯\n",
       "5 <NA>                          <NA>                          ⋯\n",
       "6 <NA>                          <NA>                          ⋯\n",
       "  date_stroke_departure has_stroke los_stroke_days age_valve_disease_diag\n",
       "1 <NA>                  0          NA              NA                    \n",
       "2 <NA>                  0          NA              NA                    \n",
       "3 <NA>                  0          NA              NA                    \n",
       "4 <NA>                  0          NA              NA                    \n",
       "5 <NA>                  0          NA              NA                    \n",
       "6 <NA>                  0          NA              NA                    \n",
       "  date_valve_disease_diagnosis date_valve_disease_departure has_valve_disease\n",
       "1 <NA>                         <NA>                         0                \n",
       "2 <NA>                         <NA>                         0                \n",
       "3 <NA>                         <NA>                         0                \n",
       "4 <NA>                         <NA>                         0                \n",
       "5 <NA>                         <NA>                         0                \n",
       "6 <NA>                         <NA>                         0                \n",
       "  los_valve_disease_days has_cvd cvd_number\n",
       "1 NA                     1       1         \n",
       "2 NA                     1       1         \n",
       "3 NA                     1       1         \n",
       "4 NA                     1       1         \n",
       "5 NA                     1       1         \n",
       "6 NA                     1       1         "
      ]
     },
     "metadata": {},
     "output_type": "display_data"
    }
   ],
   "source": [
    "head(cvd_ae)"
   ]
  },
  {
   "cell_type": "code",
   "execution_count": 16,
   "id": "b2f311ea-2b9c-45f0-9474-80f5cae895d6",
   "metadata": {},
   "outputs": [
    {
     "data": {
      "text/html": [
       "<table class=\"dataframe\">\n",
       "<caption>A tibble: 6 × 6</caption>\n",
       "<thead>\n",
       "\t<tr><th scope=col>person_id</th><th scope=col>birth_datetime</th><th scope=col>death_datetime</th><th scope=col>gender</th><th scope=col>ethnicity</th><th scope=col>imd_decile</th></tr>\n",
       "\t<tr><th scope=col>&lt;int&gt;</th><th scope=col>&lt;date&gt;</th><th scope=col>&lt;date&gt;</th><th scope=col>&lt;int&gt;</th><th scope=col>&lt;int&gt;</th><th scope=col>&lt;int&gt;</th></tr>\n",
       "</thead>\n",
       "<tbody>\n",
       "\t<tr><td>16813063</td><td>NA</td><td>NA</td><td>2</td><td>2</td><td>1</td></tr>\n",
       "\t<tr><td>16832562</td><td>NA</td><td>NA</td><td>1</td><td>3</td><td>1</td></tr>\n",
       "\t<tr><td>16769967</td><td>NA</td><td>NA</td><td>1</td><td>1</td><td>1</td></tr>\n",
       "\t<tr><td>16832450</td><td>NA</td><td>NA</td><td>1</td><td>2</td><td>1</td></tr>\n",
       "\t<tr><td>16814272</td><td>NA</td><td>NA</td><td>1</td><td>2</td><td>1</td></tr>\n",
       "\t<tr><td>13715865</td><td>NA</td><td>NA</td><td>1</td><td>2</td><td>1</td></tr>\n",
       "</tbody>\n",
       "</table>\n"
      ],
      "text/latex": [
       "A tibble: 6 × 6\n",
       "\\begin{tabular}{llllll}\n",
       " person\\_id & birth\\_datetime & death\\_datetime & gender & ethnicity & imd\\_decile\\\\\n",
       " <int> & <date> & <date> & <int> & <int> & <int>\\\\\n",
       "\\hline\n",
       "\t 16813063 & NA & NA & 2 & 2 & 1\\\\\n",
       "\t 16832562 & NA & NA & 1 & 3 & 1\\\\\n",
       "\t 16769967 & NA & NA & 1 & 1 & 1\\\\\n",
       "\t 16832450 & NA & NA & 1 & 2 & 1\\\\\n",
       "\t 16814272 & NA & NA & 1 & 2 & 1\\\\\n",
       "\t 13715865 & NA & NA & 1 & 2 & 1\\\\\n",
       "\\end{tabular}\n"
      ],
      "text/markdown": [
       "\n",
       "A tibble: 6 × 6\n",
       "\n",
       "| person_id &lt;int&gt; | birth_datetime &lt;date&gt; | death_datetime &lt;date&gt; | gender &lt;int&gt; | ethnicity &lt;int&gt; | imd_decile &lt;int&gt; |\n",
       "|---|---|---|---|---|---|\n",
       "| 16813063 | NA | NA | 2 | 2 | 1 |\n",
       "| 16832562 | NA | NA | 1 | 3 | 1 |\n",
       "| 16769967 | NA | NA | 1 | 1 | 1 |\n",
       "| 16832450 | NA | NA | 1 | 2 | 1 |\n",
       "| 16814272 | NA | NA | 1 | 2 | 1 |\n",
       "| 13715865 | NA | NA | 1 | 2 | 1 |\n",
       "\n"
      ],
      "text/plain": [
       "  person_id birth_datetime death_datetime gender ethnicity imd_decile\n",
       "1 16813063  <NA>           <NA>           2      2         1         \n",
       "2 16832562  <NA>           <NA>           1      3         1         \n",
       "3 16769967  <NA>           <NA>           1      1         1         \n",
       "4 16832450  <NA>           <NA>           1      2         1         \n",
       "5 16814272  <NA>           <NA>           1      2         1         \n",
       "6 13715865  <NA>           <NA>           1      2         1         "
      ]
     },
     "metadata": {},
     "output_type": "display_data"
    }
   ],
   "source": [
    "# join ethnicity and imd onto cvd_ae\n",
    "sql <- \"SELECT * FROM `yhcr-prd-phm-bia-core.CB_MYSPACE_AH.Patient_Denom`\"\n",
    "tb <- bq_project_query(projectid, sql)\n",
    "person <-bq_table_download(tb)\n",
    "head(person)"
   ]
  },
  {
   "cell_type": "code",
   "execution_count": 17,
   "id": "a7e605f8-883e-4c5b-b08d-ffe5e628cd07",
   "metadata": {},
   "outputs": [
    {
     "data": {
      "text/html": [
       "<table class=\"dataframe\">\n",
       "<caption>A tibble: 6 × 52</caption>\n",
       "<thead>\n",
       "\t<tr><th scope=col>person_id</th><th scope=col>death_datetime</th><th scope=col>gender</th><th scope=col>ethnicity</th><th scope=col>imd_decile</th><th scope=col>age_angina_diag</th><th scope=col>date_angina_diagnosis</th><th scope=col>date_angina_departure</th><th scope=col>has_angina</th><th scope=col>los_angina_days</th><th scope=col>⋯</th><th scope=col>date_stroke_departure</th><th scope=col>has_stroke</th><th scope=col>los_stroke_days</th><th scope=col>age_valve_disease_diag</th><th scope=col>date_valve_disease_diagnosis</th><th scope=col>date_valve_disease_departure</th><th scope=col>has_valve_disease</th><th scope=col>los_valve_disease_days</th><th scope=col>has_cvd</th><th scope=col>cvd_number</th></tr>\n",
       "\t<tr><th scope=col>&lt;int&gt;</th><th scope=col>&lt;date&gt;</th><th scope=col>&lt;int&gt;</th><th scope=col>&lt;int&gt;</th><th scope=col>&lt;int&gt;</th><th scope=col>&lt;chr&gt;</th><th scope=col>&lt;date&gt;</th><th scope=col>&lt;date&gt;</th><th scope=col>&lt;dbl&gt;</th><th scope=col>&lt;dbl&gt;</th><th scope=col>⋯</th><th scope=col>&lt;date&gt;</th><th scope=col>&lt;dbl&gt;</th><th scope=col>&lt;dbl&gt;</th><th scope=col>&lt;chr&gt;</th><th scope=col>&lt;date&gt;</th><th scope=col>&lt;date&gt;</th><th scope=col>&lt;dbl&gt;</th><th scope=col>&lt;dbl&gt;</th><th scope=col>&lt;dbl&gt;</th><th scope=col>&lt;dbl&gt;</th></tr>\n",
       "</thead>\n",
       "<tbody>\n",
       "\t<tr><td>13592387</td><td>NA</td><td>2</td><td>2</td><td>1</td><td>NA</td><td>NA</td><td>NA</td><td>0</td><td>NA</td><td>⋯</td><td>NA</td><td>0</td><td>NA</td><td>NA</td><td>NA</td><td>NA</td><td>0</td><td>NA</td><td>1</td><td>1</td></tr>\n",
       "\t<tr><td>12510417</td><td>NA</td><td>1</td><td>1</td><td>1</td><td>NA</td><td>NA</td><td>NA</td><td>0</td><td>NA</td><td>⋯</td><td>2020-03-21</td><td>1</td><td> 0</td><td>NA</td><td>NA</td><td>NA</td><td>0</td><td>NA</td><td>1</td><td>1</td></tr>\n",
       "\t<tr><td>12443358</td><td>NA</td><td>2</td><td>1</td><td>1</td><td>NA</td><td>NA</td><td>NA</td><td>0</td><td>NA</td><td>⋯</td><td>NA</td><td>0</td><td>NA</td><td>NA</td><td>NA</td><td>NA</td><td>0</td><td>NA</td><td>1</td><td>1</td></tr>\n",
       "\t<tr><td>12883811</td><td>2017-10-15</td><td>2</td><td>1</td><td>1</td><td>NA</td><td>NA</td><td>NA</td><td>0</td><td>NA</td><td>⋯</td><td>2015-12-23</td><td>1</td><td> 0</td><td>NA</td><td>NA</td><td>NA</td><td>0</td><td>NA</td><td>1</td><td>1</td></tr>\n",
       "\t<tr><td>13660877</td><td>2017-09-15</td><td>1</td><td>1</td><td>1</td><td>NA</td><td>NA</td><td>NA</td><td>0</td><td>NA</td><td>⋯</td><td>2016-01-05</td><td>1</td><td> 0</td><td>NA</td><td>NA</td><td>NA</td><td>0</td><td>NA</td><td>1</td><td>1</td></tr>\n",
       "\t<tr><td>12996787</td><td>2015-08-15</td><td>1</td><td>1</td><td>1</td><td>NA</td><td>NA</td><td>NA</td><td>0</td><td>NA</td><td>⋯</td><td>2014-09-02</td><td>1</td><td> 0</td><td>NA</td><td>NA</td><td>NA</td><td>0</td><td>NA</td><td>1</td><td>1</td></tr>\n",
       "</tbody>\n",
       "</table>\n"
      ],
      "text/latex": [
       "A tibble: 6 × 52\n",
       "\\begin{tabular}{lllllllllllllllllllll}\n",
       " person\\_id & death\\_datetime & gender & ethnicity & imd\\_decile & age\\_angina\\_diag & date\\_angina\\_diagnosis & date\\_angina\\_departure & has\\_angina & los\\_angina\\_days & ⋯ & date\\_stroke\\_departure & has\\_stroke & los\\_stroke\\_days & age\\_valve\\_disease\\_diag & date\\_valve\\_disease\\_diagnosis & date\\_valve\\_disease\\_departure & has\\_valve\\_disease & los\\_valve\\_disease\\_days & has\\_cvd & cvd\\_number\\\\\n",
       " <int> & <date> & <int> & <int> & <int> & <chr> & <date> & <date> & <dbl> & <dbl> & ⋯ & <date> & <dbl> & <dbl> & <chr> & <date> & <date> & <dbl> & <dbl> & <dbl> & <dbl>\\\\\n",
       "\\hline\n",
       "\t 13592387 & NA & 2 & 2 & 1 & NA & NA & NA & 0 & NA & ⋯ & NA & 0 & NA & NA & NA & NA & 0 & NA & 1 & 1\\\\\n",
       "\t 12510417 & NA & 1 & 1 & 1 & NA & NA & NA & 0 & NA & ⋯ & 2020-03-21 & 1 &  0 & NA & NA & NA & 0 & NA & 1 & 1\\\\\n",
       "\t 12443358 & NA & 2 & 1 & 1 & NA & NA & NA & 0 & NA & ⋯ & NA & 0 & NA & NA & NA & NA & 0 & NA & 1 & 1\\\\\n",
       "\t 12883811 & 2017-10-15 & 2 & 1 & 1 & NA & NA & NA & 0 & NA & ⋯ & 2015-12-23 & 1 &  0 & NA & NA & NA & 0 & NA & 1 & 1\\\\\n",
       "\t 13660877 & 2017-09-15 & 1 & 1 & 1 & NA & NA & NA & 0 & NA & ⋯ & 2016-01-05 & 1 &  0 & NA & NA & NA & 0 & NA & 1 & 1\\\\\n",
       "\t 12996787 & 2015-08-15 & 1 & 1 & 1 & NA & NA & NA & 0 & NA & ⋯ & 2014-09-02 & 1 &  0 & NA & NA & NA & 0 & NA & 1 & 1\\\\\n",
       "\\end{tabular}\n"
      ],
      "text/markdown": [
       "\n",
       "A tibble: 6 × 52\n",
       "\n",
       "| person_id &lt;int&gt; | death_datetime &lt;date&gt; | gender &lt;int&gt; | ethnicity &lt;int&gt; | imd_decile &lt;int&gt; | age_angina_diag &lt;chr&gt; | date_angina_diagnosis &lt;date&gt; | date_angina_departure &lt;date&gt; | has_angina &lt;dbl&gt; | los_angina_days &lt;dbl&gt; | ⋯ ⋯ | date_stroke_departure &lt;date&gt; | has_stroke &lt;dbl&gt; | los_stroke_days &lt;dbl&gt; | age_valve_disease_diag &lt;chr&gt; | date_valve_disease_diagnosis &lt;date&gt; | date_valve_disease_departure &lt;date&gt; | has_valve_disease &lt;dbl&gt; | los_valve_disease_days &lt;dbl&gt; | has_cvd &lt;dbl&gt; | cvd_number &lt;dbl&gt; |\n",
       "|---|---|---|---|---|---|---|---|---|---|---|---|---|---|---|---|---|---|---|---|---|\n",
       "| 13592387 | NA | 2 | 2 | 1 | NA | NA | NA | 0 | NA | ⋯ | NA | 0 | NA | NA | NA | NA | 0 | NA | 1 | 1 |\n",
       "| 12510417 | NA | 1 | 1 | 1 | NA | NA | NA | 0 | NA | ⋯ | 2020-03-21 | 1 |  0 | NA | NA | NA | 0 | NA | 1 | 1 |\n",
       "| 12443358 | NA | 2 | 1 | 1 | NA | NA | NA | 0 | NA | ⋯ | NA | 0 | NA | NA | NA | NA | 0 | NA | 1 | 1 |\n",
       "| 12883811 | 2017-10-15 | 2 | 1 | 1 | NA | NA | NA | 0 | NA | ⋯ | 2015-12-23 | 1 |  0 | NA | NA | NA | 0 | NA | 1 | 1 |\n",
       "| 13660877 | 2017-09-15 | 1 | 1 | 1 | NA | NA | NA | 0 | NA | ⋯ | 2016-01-05 | 1 |  0 | NA | NA | NA | 0 | NA | 1 | 1 |\n",
       "| 12996787 | 2015-08-15 | 1 | 1 | 1 | NA | NA | NA | 0 | NA | ⋯ | 2014-09-02 | 1 |  0 | NA | NA | NA | 0 | NA | 1 | 1 |\n",
       "\n"
      ],
      "text/plain": [
       "  person_id death_datetime gender ethnicity imd_decile age_angina_diag\n",
       "1 13592387  <NA>           2      2         1          NA             \n",
       "2 12510417  <NA>           1      1         1          NA             \n",
       "3 12443358  <NA>           2      1         1          NA             \n",
       "4 12883811  2017-10-15     2      1         1          NA             \n",
       "5 13660877  2017-09-15     1      1         1          NA             \n",
       "6 12996787  2015-08-15     1      1         1          NA             \n",
       "  date_angina_diagnosis date_angina_departure has_angina los_angina_days ⋯\n",
       "1 <NA>                  <NA>                  0          NA              ⋯\n",
       "2 <NA>                  <NA>                  0          NA              ⋯\n",
       "3 <NA>                  <NA>                  0          NA              ⋯\n",
       "4 <NA>                  <NA>                  0          NA              ⋯\n",
       "5 <NA>                  <NA>                  0          NA              ⋯\n",
       "6 <NA>                  <NA>                  0          NA              ⋯\n",
       "  date_stroke_departure has_stroke los_stroke_days age_valve_disease_diag\n",
       "1 <NA>                  0          NA              NA                    \n",
       "2 2020-03-21            1           0              NA                    \n",
       "3 <NA>                  0          NA              NA                    \n",
       "4 2015-12-23            1           0              NA                    \n",
       "5 2016-01-05            1           0              NA                    \n",
       "6 2014-09-02            1           0              NA                    \n",
       "  date_valve_disease_diagnosis date_valve_disease_departure has_valve_disease\n",
       "1 <NA>                         <NA>                         0                \n",
       "2 <NA>                         <NA>                         0                \n",
       "3 <NA>                         <NA>                         0                \n",
       "4 <NA>                         <NA>                         0                \n",
       "5 <NA>                         <NA>                         0                \n",
       "6 <NA>                         <NA>                         0                \n",
       "  los_valve_disease_days has_cvd cvd_number\n",
       "1 NA                     1       1         \n",
       "2 NA                     1       1         \n",
       "3 NA                     1       1         \n",
       "4 NA                     1       1         \n",
       "5 NA                     1       1         \n",
       "6 NA                     1       1         "
      ]
     },
     "metadata": {},
     "output_type": "display_data"
    }
   ],
   "source": [
    "#join ethnicity and imd onto cvd_ae\n",
    "cvd_ae$gender <- as.integer(cvd_ae$gender)\n",
    "cvd <- right_join(person, cvd_ae, by = c(\"person_id\", \"gender\"))\n",
    "cvd$birth_datetime <- NULL\n",
    "head(cvd)"
   ]
  },
  {
   "cell_type": "code",
   "execution_count": 18,
   "id": "3d7dcd23-d535-4700-8f7a-5ead5db074d6",
   "metadata": {},
   "outputs": [],
   "source": [
    "# create indicator for a&E\n",
    "cvd <- cvd %>%\n",
    "    mutate(in_data = 3)"
   ]
  },
  {
   "cell_type": "code",
   "execution_count": 19,
   "id": "4d422dde-a3ed-4feb-bbce-4380a284dac9",
   "metadata": {},
   "outputs": [],
   "source": [
    "cvd <- cvd %>%\n",
    "    select(-gender, -ethnicity, -imd_decile)"
   ]
  },
  {
   "cell_type": "code",
   "execution_count": 20,
   "id": "b55fdec7-e327-461d-b1dc-bbc52964f7ba",
   "metadata": {},
   "outputs": [
    {
     "data": {
      "text/html": [
       "<style>\n",
       ".list-inline {list-style: none; margin:0; padding: 0}\n",
       ".list-inline>li {display: inline-block}\n",
       ".list-inline>li:not(:last-child)::after {content: \"\\00b7\"; padding: 0 .5ex}\n",
       "</style>\n",
       "<ol class=list-inline><li>'person_id'</li><li>'death_datetime'</li><li>'age_angina_diag'</li><li>'date_angina_diagnosis'</li><li>'date_angina_departure'</li><li>'has_angina'</li><li>'los_angina_days'</li><li>'age_cardiomyopathy_diag'</li><li>'date_cardiomyopathy_diagnosis'</li><li>'date_cardiomyopathy_departure'</li><li>'has_cardiomyopathy'</li><li>'los_cardiomyopathy_days'</li><li>'age_heart_failure_diag'</li><li>'date_heart_failure_diagnosis'</li><li>'date_heart_failure_departure'</li><li>'has_heart_failure'</li><li>'los_heart_failure_days'</li><li>'age_hypertension_diag'</li><li>'date_hypertension_diagnosis'</li><li>'date_hypertension_departure'</li><li>'has_hypertension'</li><li>'los_hypertension_days'</li><li>'age_ihd_diag'</li><li>'date_ihd_diagnosis'</li><li>'date_ihd_departure'</li><li>'has_ihd'</li><li>'los_ihd_days'</li><li>'age_mi_diag'</li><li>'date_mi_diagnosis'</li><li>'date_mi_departure'</li><li>'has_mi'</li><li>'los_mi_days'</li><li>'age_pvd_diag'</li><li>'date_pvd_diagnosis'</li><li>'date_pvd_departure'</li><li>'has_pvd'</li><li>'los_pvd_days'</li><li>'age_stroke_diag'</li><li>'date_stroke_diagnosis'</li><li>'date_stroke_departure'</li><li>'has_stroke'</li><li>'los_stroke_days'</li><li>'age_valve_disease_diag'</li><li>'date_valve_disease_diagnosis'</li><li>'date_valve_disease_departure'</li><li>'has_valve_disease'</li><li>'los_valve_disease_days'</li><li>'has_cvd'</li><li>'cvd_number'</li><li>'in_data'</li></ol>\n"
      ],
      "text/latex": [
       "\\begin{enumerate*}\n",
       "\\item 'person\\_id'\n",
       "\\item 'death\\_datetime'\n",
       "\\item 'age\\_angina\\_diag'\n",
       "\\item 'date\\_angina\\_diagnosis'\n",
       "\\item 'date\\_angina\\_departure'\n",
       "\\item 'has\\_angina'\n",
       "\\item 'los\\_angina\\_days'\n",
       "\\item 'age\\_cardiomyopathy\\_diag'\n",
       "\\item 'date\\_cardiomyopathy\\_diagnosis'\n",
       "\\item 'date\\_cardiomyopathy\\_departure'\n",
       "\\item 'has\\_cardiomyopathy'\n",
       "\\item 'los\\_cardiomyopathy\\_days'\n",
       "\\item 'age\\_heart\\_failure\\_diag'\n",
       "\\item 'date\\_heart\\_failure\\_diagnosis'\n",
       "\\item 'date\\_heart\\_failure\\_departure'\n",
       "\\item 'has\\_heart\\_failure'\n",
       "\\item 'los\\_heart\\_failure\\_days'\n",
       "\\item 'age\\_hypertension\\_diag'\n",
       "\\item 'date\\_hypertension\\_diagnosis'\n",
       "\\item 'date\\_hypertension\\_departure'\n",
       "\\item 'has\\_hypertension'\n",
       "\\item 'los\\_hypertension\\_days'\n",
       "\\item 'age\\_ihd\\_diag'\n",
       "\\item 'date\\_ihd\\_diagnosis'\n",
       "\\item 'date\\_ihd\\_departure'\n",
       "\\item 'has\\_ihd'\n",
       "\\item 'los\\_ihd\\_days'\n",
       "\\item 'age\\_mi\\_diag'\n",
       "\\item 'date\\_mi\\_diagnosis'\n",
       "\\item 'date\\_mi\\_departure'\n",
       "\\item 'has\\_mi'\n",
       "\\item 'los\\_mi\\_days'\n",
       "\\item 'age\\_pvd\\_diag'\n",
       "\\item 'date\\_pvd\\_diagnosis'\n",
       "\\item 'date\\_pvd\\_departure'\n",
       "\\item 'has\\_pvd'\n",
       "\\item 'los\\_pvd\\_days'\n",
       "\\item 'age\\_stroke\\_diag'\n",
       "\\item 'date\\_stroke\\_diagnosis'\n",
       "\\item 'date\\_stroke\\_departure'\n",
       "\\item 'has\\_stroke'\n",
       "\\item 'los\\_stroke\\_days'\n",
       "\\item 'age\\_valve\\_disease\\_diag'\n",
       "\\item 'date\\_valve\\_disease\\_diagnosis'\n",
       "\\item 'date\\_valve\\_disease\\_departure'\n",
       "\\item 'has\\_valve\\_disease'\n",
       "\\item 'los\\_valve\\_disease\\_days'\n",
       "\\item 'has\\_cvd'\n",
       "\\item 'cvd\\_number'\n",
       "\\item 'in\\_data'\n",
       "\\end{enumerate*}\n"
      ],
      "text/markdown": [
       "1. 'person_id'\n",
       "2. 'death_datetime'\n",
       "3. 'age_angina_diag'\n",
       "4. 'date_angina_diagnosis'\n",
       "5. 'date_angina_departure'\n",
       "6. 'has_angina'\n",
       "7. 'los_angina_days'\n",
       "8. 'age_cardiomyopathy_diag'\n",
       "9. 'date_cardiomyopathy_diagnosis'\n",
       "10. 'date_cardiomyopathy_departure'\n",
       "11. 'has_cardiomyopathy'\n",
       "12. 'los_cardiomyopathy_days'\n",
       "13. 'age_heart_failure_diag'\n",
       "14. 'date_heart_failure_diagnosis'\n",
       "15. 'date_heart_failure_departure'\n",
       "16. 'has_heart_failure'\n",
       "17. 'los_heart_failure_days'\n",
       "18. 'age_hypertension_diag'\n",
       "19. 'date_hypertension_diagnosis'\n",
       "20. 'date_hypertension_departure'\n",
       "21. 'has_hypertension'\n",
       "22. 'los_hypertension_days'\n",
       "23. 'age_ihd_diag'\n",
       "24. 'date_ihd_diagnosis'\n",
       "25. 'date_ihd_departure'\n",
       "26. 'has_ihd'\n",
       "27. 'los_ihd_days'\n",
       "28. 'age_mi_diag'\n",
       "29. 'date_mi_diagnosis'\n",
       "30. 'date_mi_departure'\n",
       "31. 'has_mi'\n",
       "32. 'los_mi_days'\n",
       "33. 'age_pvd_diag'\n",
       "34. 'date_pvd_diagnosis'\n",
       "35. 'date_pvd_departure'\n",
       "36. 'has_pvd'\n",
       "37. 'los_pvd_days'\n",
       "38. 'age_stroke_diag'\n",
       "39. 'date_stroke_diagnosis'\n",
       "40. 'date_stroke_departure'\n",
       "41. 'has_stroke'\n",
       "42. 'los_stroke_days'\n",
       "43. 'age_valve_disease_diag'\n",
       "44. 'date_valve_disease_diagnosis'\n",
       "45. 'date_valve_disease_departure'\n",
       "46. 'has_valve_disease'\n",
       "47. 'los_valve_disease_days'\n",
       "48. 'has_cvd'\n",
       "49. 'cvd_number'\n",
       "50. 'in_data'\n",
       "\n",
       "\n"
      ],
      "text/plain": [
       " [1] \"person_id\"                     \"death_datetime\"               \n",
       " [3] \"age_angina_diag\"               \"date_angina_diagnosis\"        \n",
       " [5] \"date_angina_departure\"         \"has_angina\"                   \n",
       " [7] \"los_angina_days\"               \"age_cardiomyopathy_diag\"      \n",
       " [9] \"date_cardiomyopathy_diagnosis\" \"date_cardiomyopathy_departure\"\n",
       "[11] \"has_cardiomyopathy\"            \"los_cardiomyopathy_days\"      \n",
       "[13] \"age_heart_failure_diag\"        \"date_heart_failure_diagnosis\" \n",
       "[15] \"date_heart_failure_departure\"  \"has_heart_failure\"            \n",
       "[17] \"los_heart_failure_days\"        \"age_hypertension_diag\"        \n",
       "[19] \"date_hypertension_diagnosis\"   \"date_hypertension_departure\"  \n",
       "[21] \"has_hypertension\"              \"los_hypertension_days\"        \n",
       "[23] \"age_ihd_diag\"                  \"date_ihd_diagnosis\"           \n",
       "[25] \"date_ihd_departure\"            \"has_ihd\"                      \n",
       "[27] \"los_ihd_days\"                  \"age_mi_diag\"                  \n",
       "[29] \"date_mi_diagnosis\"             \"date_mi_departure\"            \n",
       "[31] \"has_mi\"                        \"los_mi_days\"                  \n",
       "[33] \"age_pvd_diag\"                  \"date_pvd_diagnosis\"           \n",
       "[35] \"date_pvd_departure\"            \"has_pvd\"                      \n",
       "[37] \"los_pvd_days\"                  \"age_stroke_diag\"              \n",
       "[39] \"date_stroke_diagnosis\"         \"date_stroke_departure\"        \n",
       "[41] \"has_stroke\"                    \"los_stroke_days\"              \n",
       "[43] \"age_valve_disease_diag\"        \"date_valve_disease_diagnosis\" \n",
       "[45] \"date_valve_disease_departure\"  \"has_valve_disease\"            \n",
       "[47] \"los_valve_disease_days\"        \"has_cvd\"                      \n",
       "[49] \"cvd_number\"                    \"in_data\"                      "
      ]
     },
     "metadata": {},
     "output_type": "display_data"
    }
   ],
   "source": [
    "colnames(cvd)"
   ]
  },
  {
   "cell_type": "code",
   "execution_count": 23,
   "id": "bdc12e31-392e-4eb9-9937-b1d8204046e0",
   "metadata": {},
   "outputs": [],
   "source": [
    "# save\n",
    "# set destination table - do this regardless of whether it already exists\n",
    "dest_dataset <- bq_dataset(\"yhcr-prd-phm-bia-core\",\"CB_MYSPACE_AH\")\n",
    "dest_table <- bq_table(dest_dataset, \"Cardiovascular_Diseases_AE\")\n",
    "\n",
    "# create a full table spec as follows\n",
    "# then pass this to bq_table_upload\n",
    "dest_fields <- bq_fields(list(bq_field(\"person_id\", \"INT64\", \"REQUIRED\"),\n",
    "                              bq_field(\"age_angina_diag\", \"INT64\"),\n",
    "                              bq_field(\"date_angina_diagnosis\", \"DATE\"),\n",
    "                              bq_field(\"date_angina_departure\", \"DATE\"),\n",
    "                              bq_field(\"has_angina\", \"INT64\"),\n",
    "                              bq_field(\"los_angina_days\", \"INT64\"),\n",
    "                              bq_field(\"age_cardiomyopathy_diag\", \"INT64\"),\n",
    "                              bq_field(\"date_cardiomyopathy_diagnosis\", \"DATE\"),\n",
    "                              bq_field(\"date_cardiomyopathy_departure\", \"DATE\"),\n",
    "                              bq_field(\"has_cardiomyopathy\", \"INT64\"),\n",
    "                              bq_field(\"los_cardiomyopathy_days\", \"INT64\"),\n",
    "                              bq_field(\"age_heart_failure_diag\", \"INT64\"),\n",
    "                              bq_field(\"date_heart_failure_diagnosis\", \"DATE\"),\n",
    "                              bq_field(\"date_heart_failure_departure\", \"DATE\"),\n",
    "                              bq_field(\"has_heart_failure\", \"INT64\"),\n",
    "                              bq_field(\"los_heart_failure_days\", \"INT64\"),\n",
    "                              bq_field(\"age_hypertension_diag\", \"INT64\"),\n",
    "                              bq_field(\"date_hypertension_diagnosis\", \"DATE\"),\n",
    "                              bq_field(\"date_hypertension_departure\", \"DATE\"),\n",
    "                              bq_field(\"has_hypertension\", \"INT64\"),\n",
    "                              bq_field(\"los_hypertension_days\", \"INT64\"),\n",
    "                              bq_field(\"age_ihd_diag\", \"INT64\"),\n",
    "                              bq_field(\"date_ihd_diagnosis\", \"DATE\"),\n",
    "                              bq_field(\"date_ihd_departure\", \"DATE\"),\n",
    "                              bq_field(\"has_ihd\", \"INT64\"),\n",
    "                              bq_field(\"los_ihd_days\", \"INT64\"),\n",
    "                              bq_field(\"age_mi_diag\", \"INT64\"),\n",
    "                              bq_field(\"date_mi_diagnosis\", \"DATE\"),\n",
    "                              bq_field(\"date_mi_departure\", \"DATE\"),\n",
    "                              bq_field(\"has_mi\", \"INT64\"),\n",
    "                              bq_field(\"los_mi_days\", \"INT64\"),\n",
    "                              bq_field(\"age_pvd_diag\", \"INT64\"),\n",
    "                              bq_field(\"date_pvd_diagnosis\", \"DATE\"),\n",
    "                              bq_field(\"date_pvd_departure\", \"DATE\"),\n",
    "                              bq_field(\"has_pvd\", \"INT64\"),\n",
    "                              bq_field(\"los_pvd_days\", \"INT64\"),\n",
    "                              bq_field(\"age_stroke_diag\", \"INT64\"),\n",
    "                              bq_field(\"date_stroke_diagnosis\", \"DATE\"),\n",
    "                              bq_field(\"date_stroke_departure\", \"DATE\"),\n",
    "                              bq_field(\"has_stroke\", \"INT64\"),\n",
    "                              bq_field(\"los_stroke_days\", \"INT64\"),\n",
    "                              bq_field(\"age_valve_disease_diag\", \"INT64\"),\n",
    "                              bq_field(\"date_valve_disease_diagnosis\", \"DATE\"),\n",
    "                              bq_field(\"date_valve_disease_departure\", \"DATE\"),\n",
    "                              bq_field(\"has_valve_disease\", \"INT64\"),\n",
    "                              bq_field(\"los_valve_disease_days\", \"INT64\"),\n",
    "                              bq_field(\"has_cvd\", \"INT64\"),\n",
    "                              bq_field(\"cvd_number\", \"INT64\"),\n",
    "                             bq_field(\"in_data\", \"INT64\")))\n",
    "\n",
    "# delete an existing table if necessary\n",
    "if(bq_table_exists(dest_table)) bq_table_delete(dest_table)\n",
    "# upload file_data to dest_table\n",
    "bq_table_upload(dest_table, cvd, fields = dest_fields, create_disposition='CREATE_IF_NEEDED', write_disposition='WRITE_TRUNCATE')"
   ]
  },
  {
   "cell_type": "code",
   "execution_count": null,
   "id": "ea1e82ce-e1f0-4733-b92f-a50deaf0534c",
   "metadata": {},
   "outputs": [],
   "source": []
  },
  {
   "cell_type": "code",
   "execution_count": null,
   "id": "578b3680-53c2-4533-84cc-a9eba887e3a1",
   "metadata": {},
   "outputs": [],
   "source": []
  }
 ],
 "metadata": {
  "environment": {
   "kernel": "ir",
   "name": "r-cpu.4-2.m111",
   "type": "gcloud",
   "uri": "gcr.io/deeplearning-platform-release/r-cpu.4-2:m111"
  },
  "kernelspec": {
   "display_name": "R",
   "language": "R",
   "name": "ir"
  },
  "language_info": {
   "codemirror_mode": "r",
   "file_extension": ".r",
   "mimetype": "text/x-r-source",
   "name": "R",
   "pygments_lexer": "r",
   "version": "4.3.1"
  }
 },
 "nbformat": 4,
 "nbformat_minor": 5
}
