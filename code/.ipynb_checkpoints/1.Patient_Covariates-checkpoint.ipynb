{
 "cells": [
  {
   "cell_type": "code",
   "execution_count": 18,
   "id": "d2b1d474-0724-4f88-9d36-9678597dba48",
   "metadata": {},
   "outputs": [],
   "source": [
    "library(bigrquery)\n",
    "library(tidyverse)\n",
    "library(labelled)"
   ]
  },
  {
   "cell_type": "code",
   "execution_count": 19,
   "id": "483a9be4-305b-44f4-9847-dee5643e6e19",
   "metadata": {},
   "outputs": [],
   "source": [
    "# Store the project ID\n",
    "projectid = \"yhcr-prd-phm-bia-core\""
   ]
  },
  {
   "cell_type": "code",
   "execution_count": 20,
   "id": "7e204b32-cdf4-411d-a1dd-d5bffbf73c43",
   "metadata": {},
   "outputs": [],
   "source": [
    "# pull covariates from tbl_SRCode\n",
    "# cholesterol\n",
    "chol <- \"SELECT person_id, src_dateevent, src_ctv3code, src_ctv3text, src_numericvalue, src_numericunit FROM `yhcr-prd-phm-bia-core.CB_FDM_PrimaryCare_v5.tbl_SRCode`\n",
    "WHERE src_ctv3code LIKE '%XaIRD%' OR src_ctv3code LIKE '%XaJe9%' OR src_ctv3code LIKE '%Xa86v%' OR src_ctv3code LIKE '%XSK14%' OR src_ctv3code LIKE '%44PF.%' OR src_ctv3code LIKE '%Y1cc2%'\"\n",
    "tb1 <- bq_project_query(projectid, chol)\n",
    "chol <- bq_table_download(tb1)"
   ]
  },
  {
   "cell_type": "code",
   "execution_count": 21,
   "id": "3f5d91cc-7828-41a5-97fb-7c19622da070",
   "metadata": {},
   "outputs": [],
   "source": [
    "# systolic blood pressure\n",
    "sbp <- \"SELECT person_id, src_dateevent, src_ctv3code, src_ctv3text, src_numericvalue, src_numericunit FROM `yhcr-prd-phm-bia-core.CB_FDM_PrimaryCare_v5.tbl_SRCode`\n",
    "WHERE src_ctv3code LIKE '%XaIwj%' OR src_ctv3code LIKE '%XaF4F%' OR src_ctv3code LIKE '%XaJ2E%'\"\n",
    "tb2 <- bq_project_query(projectid, sbp)\n",
    "sbp <- bq_table_download(tb2)"
   ]
  },
  {
   "cell_type": "code",
   "execution_count": 22,
   "id": "bf66a4c3-4f8d-47e1-8217-4f2b1c5ddabd",
   "metadata": {},
   "outputs": [],
   "source": [
    "# diastolic blood pressure\n",
    "dbp <- \"SELECT person_id, src_dateevent, src_ctv3code, src_ctv3text, src_numericvalue, src_numericunit FROM `yhcr-prd-phm-bia-core.CB_FDM_PrimaryCare_v5.tbl_SRCode`\n",
    "WHERE src_ctv3code LIKE '%XaF4S%' OR src_ctv3code LIKE '%XaIwk%' OR src_ctv3code LIKE '%XaJ2F%'\"\n",
    "tb21 <- bq_project_query(projectid, dbp)\n",
    "dbp <- bq_table_download(tb21)"
   ]
  },
  {
   "cell_type": "code",
   "execution_count": 23,
   "id": "262f0fda-e158-4579-b084-b781a24e1c8d",
   "metadata": {},
   "outputs": [],
   "source": [
    "# BMI\n",
    "bmi <- \"SELECT person_id, src_dateevent, src_ctv3code, src_ctv3text, src_numericvalue, src_numericunit FROM `yhcr-prd-phm-bia-core.CB_FDM_PrimaryCare_v5.tbl_SRCode` WHERE src_ctv3code LIKE '%22K..%'\"\n",
    "tb3 <- bq_project_query(projectid, bmi)\n",
    "bmi <- bq_table_download(tb3)"
   ]
  },
  {
   "cell_type": "code",
   "execution_count": 24,
   "id": "135667c4-51b1-461d-8add-dc8faea7ef8f",
   "metadata": {},
   "outputs": [],
   "source": [
    "# Smoking\n",
    "smoke <- \"SELECT person_id, src_dateevent, src_ctv3code, src_ctv3text FROM `yhcr-prd-phm-bia-core.CB_FDM_PrimaryCare_v5.tbl_SRCode`\n",
    "WHERE src_ctv3code LIKE '%Ub1na%' OR src_ctv3code LIKE '%Xe0oq%' OR src_ctv3code LIKE '%137R.%' OR src_ctv3code LIKE '%Ub0oq%'\"\n",
    "tb4 <- bq_project_query(projectid, smoke)\n",
    "smoke <- bq_table_download(tb4)"
   ]
  },
  {
   "cell_type": "code",
   "execution_count": 25,
   "id": "1d880828-62fb-4763-bb3d-cf1944c0aaa1",
   "metadata": {},
   "outputs": [],
   "source": [
    "# Renal disease\n",
    "# Creatinine\n",
    "renal_cr <- \"SELECT person_id, src_dateevent, src_ctv3code, src_ctv3text, src_numericvalue, src_numericunit FROM `yhcr-prd-phm-bia-core.CB_FDM_PrimaryCare_v5.tbl_SRCode`\n",
    "WHERE src_ctv3code LIKE '%44J3.%' OR src_ctv3code LIKE '%46M7.%' OR src_ctv3code LIKE '%X771Q%' OR src_ctv3code LIKE '%X80D7%' \n",
    "OR src_ctv3code LIKE '%XE26a%' OR src_ctv3code LIKE '%XE2q5%' OR src_ctv3code LIKE '%XE2qO%' OR src_ctv3code LIKE '%XaETQ%'\"\n",
    "tb5 <- bq_project_query(projectid, renal_cr)\n",
    "renal_cr <- bq_table_download(tb5)\n",
    "\n",
    "# Albumin\n",
    "renal_al <- \"SELECT person_id, src_dateevent, src_ctv3code, src_ctv3text, src_numericvalue, src_numericunit FROM `yhcr-prd-phm-bia-core.CB_FDM_PrimaryCare_v5.tbl_SRCode`\n",
    "WHERE src_ctv3code LIKE '%46TC.%' OR src_ctv3code LIKE '%X773Y%' OR src_ctv3code LIKE '%XE2n3%' OR src_ctv3code LIKE '%XE2n4%'\"\n",
    "tb51 <- bq_project_query(projectid, renal_al)\n",
    "renal_al <- bq_table_download(tb51)\n",
    "\n",
    "# eGFR\n",
    "renal_egfr <- \"SELECT person_id, src_dateevent, src_ctv3code, src_ctv3text, src_numericvalue, src_numericunit FROM `yhcr-prd-phm-bia-core.CB_FDM_PrimaryCare_v5.tbl_SRCode`\n",
    "WHERE src_ctv3code LIKE '%XaZpN%'\"\n",
    "tb52 <- bq_project_query(projectid, renal_egfr)\n",
    "renal_egfr <- bq_table_download(tb52)"
   ]
  },
  {
   "cell_type": "code",
   "execution_count": 26,
   "id": "484cb824-3d40-4411-92e3-0fbc46266982",
   "metadata": {},
   "outputs": [
    {
     "data": {
      "text/html": [
       "415184"
      ],
      "text/latex": [
       "415184"
      ],
      "text/markdown": [
       "415184"
      ],
      "text/plain": [
       "[1] 415184"
      ]
     },
     "metadata": {},
     "output_type": "display_data"
    },
    {
     "data": {
      "text/html": [
       "5963850"
      ],
      "text/latex": [
       "5963850"
      ],
      "text/markdown": [
       "5963850"
      ],
      "text/plain": [
       "[1] 5963850"
      ]
     },
     "metadata": {},
     "output_type": "display_data"
    },
    {
     "data": {
      "text/html": [
       "2926568"
      ],
      "text/latex": [
       "2926568"
      ],
      "text/markdown": [
       "2926568"
      ],
      "text/plain": [
       "[1] 2926568"
      ]
     },
     "metadata": {},
     "output_type": "display_data"
    },
    {
     "data": {
      "text/html": [
       "317384"
      ],
      "text/latex": [
       "317384"
      ],
      "text/markdown": [
       "317384"
      ],
      "text/plain": [
       "[1] 317384"
      ]
     },
     "metadata": {},
     "output_type": "display_data"
    },
    {
     "data": {
      "text/html": [
       "315600"
      ],
      "text/latex": [
       "315600"
      ],
      "text/markdown": [
       "315600"
      ],
      "text/plain": [
       "[1] 315600"
      ]
     },
     "metadata": {},
     "output_type": "display_data"
    },
    {
     "data": {
      "text/html": [
       "5586104"
      ],
      "text/latex": [
       "5586104"
      ],
      "text/markdown": [
       "5586104"
      ],
      "text/plain": [
       "[1] 5586104"
      ]
     },
     "metadata": {},
     "output_type": "display_data"
    },
    {
     "data": {
      "text/html": [
       "1283036"
      ],
      "text/latex": [
       "1283036"
      ],
      "text/markdown": [
       "1283036"
      ],
      "text/plain": [
       "[1] 1283036"
      ]
     },
     "metadata": {},
     "output_type": "display_data"
    },
    {
     "data": {
      "text/html": [
       "33194"
      ],
      "text/latex": [
       "33194"
      ],
      "text/markdown": [
       "33194"
      ],
      "text/plain": [
       "[1] 33194"
      ]
     },
     "metadata": {},
     "output_type": "display_data"
    }
   ],
   "source": [
    "nrow(chol)\n",
    "nrow(bmi)\n",
    "nrow(smoke)\n",
    "nrow(sbp)\n",
    "nrow(dbp)\n",
    "nrow(renal_cr)\n",
    "nrow(renal_al)\n",
    "nrow(renal_egfr)"
   ]
  },
  {
   "cell_type": "code",
   "execution_count": 27,
   "id": "63bfdaf3-3518-481f-b5e2-0087df27971f",
   "metadata": {},
   "outputs": [
    {
     "data": {
      "text/html": [
       "<table class=\"dataframe\">\n",
       "<caption>A tibble: 6 × 6</caption>\n",
       "<thead>\n",
       "\t<tr><th scope=col>person_id</th><th scope=col>src_dateevent</th><th scope=col>src_ctv3code</th><th scope=col>src_ctv3text</th><th scope=col>src_numericvalue</th><th scope=col>src_numericunit</th></tr>\n",
       "\t<tr><th scope=col>&lt;int&gt;</th><th scope=col>&lt;dttm&gt;</th><th scope=col>&lt;chr&gt;</th><th scope=col>&lt;chr&gt;</th><th scope=col>&lt;chr&gt;</th><th scope=col>&lt;chr&gt;</th></tr>\n",
       "</thead>\n",
       "<tbody>\n",
       "\t<tr><td>10403963</td><td>2016-10-11 00:00:00</td><td>XaJe9</td><td>Serum total cholesterol level</td><td>7        </td><td>mmol/l</td></tr>\n",
       "\t<tr><td> 8373119</td><td>2003-09-22 00:00:00</td><td>44PF.</td><td>Total cholesterol:HDL ratio  </td><td>3.96     </td><td>NULL  </td></tr>\n",
       "\t<tr><td>12710773</td><td>2007-01-11 00:00:01</td><td>44PF.</td><td>Total cholesterol:HDL ratio  </td><td>4.07     </td><td>NULL  </td></tr>\n",
       "\t<tr><td>12935834</td><td>2004-04-02 00:00:00</td><td>44PF.</td><td>Total cholesterol:HDL ratio  </td><td>5.7000003</td><td>NULL  </td></tr>\n",
       "\t<tr><td>  804909</td><td>2005-11-14 00:00:00</td><td>44PF.</td><td>Total cholesterol:HDL ratio  </td><td>5.1000004</td><td>mmHg  </td></tr>\n",
       "\t<tr><td>13418643</td><td>2004-03-15 00:00:00</td><td>44PF.</td><td>Total cholesterol:HDL ratio  </td><td>4.63     </td><td>NULL  </td></tr>\n",
       "</tbody>\n",
       "</table>\n"
      ],
      "text/latex": [
       "A tibble: 6 × 6\n",
       "\\begin{tabular}{llllll}\n",
       " person\\_id & src\\_dateevent & src\\_ctv3code & src\\_ctv3text & src\\_numericvalue & src\\_numericunit\\\\\n",
       " <int> & <dttm> & <chr> & <chr> & <chr> & <chr>\\\\\n",
       "\\hline\n",
       "\t 10403963 & 2016-10-11 00:00:00 & XaJe9 & Serum total cholesterol level & 7         & mmol/l\\\\\n",
       "\t  8373119 & 2003-09-22 00:00:00 & 44PF. & Total cholesterol:HDL ratio   & 3.96      & NULL  \\\\\n",
       "\t 12710773 & 2007-01-11 00:00:01 & 44PF. & Total cholesterol:HDL ratio   & 4.07      & NULL  \\\\\n",
       "\t 12935834 & 2004-04-02 00:00:00 & 44PF. & Total cholesterol:HDL ratio   & 5.7000003 & NULL  \\\\\n",
       "\t   804909 & 2005-11-14 00:00:00 & 44PF. & Total cholesterol:HDL ratio   & 5.1000004 & mmHg  \\\\\n",
       "\t 13418643 & 2004-03-15 00:00:00 & 44PF. & Total cholesterol:HDL ratio   & 4.63      & NULL  \\\\\n",
       "\\end{tabular}\n"
      ],
      "text/markdown": [
       "\n",
       "A tibble: 6 × 6\n",
       "\n",
       "| person_id &lt;int&gt; | src_dateevent &lt;dttm&gt; | src_ctv3code &lt;chr&gt; | src_ctv3text &lt;chr&gt; | src_numericvalue &lt;chr&gt; | src_numericunit &lt;chr&gt; |\n",
       "|---|---|---|---|---|---|\n",
       "| 10403963 | 2016-10-11 00:00:00 | XaJe9 | Serum total cholesterol level | 7         | mmol/l |\n",
       "|  8373119 | 2003-09-22 00:00:00 | 44PF. | Total cholesterol:HDL ratio   | 3.96      | NULL   |\n",
       "| 12710773 | 2007-01-11 00:00:01 | 44PF. | Total cholesterol:HDL ratio   | 4.07      | NULL   |\n",
       "| 12935834 | 2004-04-02 00:00:00 | 44PF. | Total cholesterol:HDL ratio   | 5.7000003 | NULL   |\n",
       "|   804909 | 2005-11-14 00:00:00 | 44PF. | Total cholesterol:HDL ratio   | 5.1000004 | mmHg   |\n",
       "| 13418643 | 2004-03-15 00:00:00 | 44PF. | Total cholesterol:HDL ratio   | 4.63      | NULL   |\n",
       "\n"
      ],
      "text/plain": [
       "  person_id src_dateevent       src_ctv3code src_ctv3text                 \n",
       "1 10403963  2016-10-11 00:00:00 XaJe9        Serum total cholesterol level\n",
       "2  8373119  2003-09-22 00:00:00 44PF.        Total cholesterol:HDL ratio  \n",
       "3 12710773  2007-01-11 00:00:01 44PF.        Total cholesterol:HDL ratio  \n",
       "4 12935834  2004-04-02 00:00:00 44PF.        Total cholesterol:HDL ratio  \n",
       "5   804909  2005-11-14 00:00:00 44PF.        Total cholesterol:HDL ratio  \n",
       "6 13418643  2004-03-15 00:00:00 44PF.        Total cholesterol:HDL ratio  \n",
       "  src_numericvalue src_numericunit\n",
       "1 7                mmol/l         \n",
       "2 3.96             NULL           \n",
       "3 4.07             NULL           \n",
       "4 5.7000003        NULL           \n",
       "5 5.1000004        mmHg           \n",
       "6 4.63             NULL           "
      ]
     },
     "metadata": {},
     "output_type": "display_data"
    },
    {
     "data": {
      "text/plain": [
       "\n",
       "               %           10*6/L          10*6/mL          10^12/L \n",
       "             769                1                2              228 \n",
       "          10^6/L           10^9/L              bpm                C \n",
       "               1             1507               77                3 \n",
       "cigarettes / day     cigars / day         Cigs/day               cm \n",
       "               4                6               80               16 \n",
       "              dB               fL              g/d             g/dl \n",
       "               9              248                1                4 \n",
       "            g/dL              g/l              g/L             iu/L \n",
       "              74                2             1638              998 \n",
       "           iu/mL            IU/mL               Kg          Kg/mï¿½ \n",
       "               8                1              653              468 \n",
       "            ku/L                L            l/min            L/min \n",
       "               2               49               14              106 \n",
       "          Litres                m            mg/dL             mg/L \n",
       "               3              314                3               99 \n",
       "           mg/mg          mg/mmol            miu/L               mL \n",
       "               7               63              439                3 \n",
       "  mL/min/1.73m*2            mlU/L            mm/hr             mmHg \n",
       "               2                4               42             2219 \n",
       "          mmol/l           mmol/L        mmol/mmol             mPas \n",
       "            6876             7508               24               10 \n",
       "            mu/L             ng/L            ng/ml           nmol/L \n",
       "               3               52              119               26 \n",
       "            NULL               pg            pg/mL               pH \n",
       "          388957              225                1                2 \n",
       "          pmol/L              PPM                s             ug/L \n",
       "             107                7               11                3 \n",
       "          umol/l           umol/L       Units/Week            Weeks \n",
       "               2              863              214                5 \n",
       "         yrs old \n",
       "               2 "
      ]
     },
     "metadata": {},
     "output_type": "display_data"
    },
    {
     "data": {
      "text/plain": [
       "                               \n",
       "                                     % 10*6/L 10*6/mL 10^12/L 10^6/L 10^9/L\n",
       "  Cervical smear overdue            17      0       0       4      0     38\n",
       "  Serum total cholesterol level      0      0       0       0      0      1\n",
       "  Total cholesterol                  0      0       0       0      0      0\n",
       "  Total cholesterol measurement      0      0       0       0      0      1\n",
       "  Total cholesterol:HDL ratio      752      1       2     224      1   1467\n",
       "                               \n",
       "                                   bpm      C cigarettes / day cigars / day\n",
       "  Cervical smear overdue             4      0                0            0\n",
       "  Serum total cholesterol level      0      0                0            0\n",
       "  Total cholesterol                  0      0                0            0\n",
       "  Total cholesterol measurement      0      0                0            0\n",
       "  Total cholesterol:HDL ratio       73      3                4            6\n",
       "                               \n",
       "                                Cigs/day     cm     dB     fL    g/d   g/dl\n",
       "  Cervical smear overdue               2      2      0      7      0      0\n",
       "  Serum total cholesterol level        1      0      0      1      0      0\n",
       "  Total cholesterol                    0      0      0      0      0      0\n",
       "  Total cholesterol measurement        1      0      0      0      0      0\n",
       "  Total cholesterol:HDL ratio         76     14      9    240      1      4\n",
       "                               \n",
       "                                  g/dL    g/l    g/L   iu/L  iu/mL  IU/mL\n",
       "  Cervical smear overdue             2      0     14     16      0      0\n",
       "  Serum total cholesterol level      0      0      0      0      0      0\n",
       "  Total cholesterol                  0      0      0      0      0      0\n",
       "  Total cholesterol measurement      0      0      1      0      0      0\n",
       "  Total cholesterol:HDL ratio       72      2   1623    982      8      1\n",
       "                               \n",
       "                                    Kg Kg/mï¿½   ku/L      L  l/min  L/min\n",
       "  Cervical smear overdue            21      20      0      0      0      6\n",
       "  Serum total cholesterol level      1       0      0      0      0      0\n",
       "  Total cholesterol                  0       0      0      0      0      0\n",
       "  Total cholesterol measurement      0       0      0      0      0      0\n",
       "  Total cholesterol:HDL ratio      631     448      2     49     14    100\n",
       "                               \n",
       "                                Litres      m  mg/dL   mg/L  mg/mg mg/mmol\n",
       "  Cervical smear overdue             0      8      1      1      0       2\n",
       "  Serum total cholesterol level      0      1      0      0      0       0\n",
       "  Total cholesterol                  0      0      0      0      0       0\n",
       "  Total cholesterol measurement      0      0      0      0      0       0\n",
       "  Total cholesterol:HDL ratio        3    305      2     98      7      61\n",
       "                               \n",
       "                                 miu/L     mL mL/min/1.73m*2  mlU/L  mm/hr\n",
       "  Cervical smear overdue             3      0              0      0      2\n",
       "  Serum total cholesterol level      0      0              0      0      0\n",
       "  Total cholesterol                  0      0              0      0      0\n",
       "  Total cholesterol measurement      0      0              0      0      0\n",
       "  Total cholesterol:HDL ratio      436      3              2      4     40\n",
       "                               \n",
       "                                  mmHg mmol/l mmol/L mmol/mmol   mPas   mu/L\n",
       "  Cervical smear overdue            68      1     38         0      0      0\n",
       "  Serum total cholesterol level      2   6860      1         0      0      0\n",
       "  Total cholesterol                  0      0      0         0      0      0\n",
       "  Total cholesterol measurement      3      0   1629         0      0      0\n",
       "  Total cholesterol:HDL ratio     2146     15   5840        24     10      3\n",
       "                               \n",
       "                                  ng/L  ng/ml nmol/L   NULL     pg  pg/mL\n",
       "  Cervical smear overdue             0      3      1   8927      9      1\n",
       "  Serum total cholesterol level      0      0      0   6963      0      0\n",
       "  Total cholesterol                  0      0      0    247      0      0\n",
       "  Total cholesterol measurement      0      0      0    187      0      0\n",
       "  Total cholesterol:HDL ratio       52    116     25 372632    216      0\n",
       "                               \n",
       "                                    pH pmol/L    PPM      s   ug/L umol/l\n",
       "  Cervical smear overdue             0      2      1      0      0      0\n",
       "  Serum total cholesterol level      0      0      0      0      0      0\n",
       "  Total cholesterol                  0      0      0      0      0      0\n",
       "  Total cholesterol measurement      0      0      0      0      0      0\n",
       "  Total cholesterol:HDL ratio        2    105      6     11      3      2\n",
       "                               \n",
       "                                umol/L Units/Week  Weeks yrs old\n",
       "  Cervical smear overdue            15          5      0       0\n",
       "  Serum total cholesterol level      0          0      0       0\n",
       "  Total cholesterol                  0          0      0       0\n",
       "  Total cholesterol measurement      1          0      0       0\n",
       "  Total cholesterol:HDL ratio      847        209      5       2"
      ]
     },
     "metadata": {},
     "output_type": "display_data"
    }
   ],
   "source": [
    "head(chol)\n",
    "table(chol$src_numericunit)\n",
    "table(chol$src_ctv3text, chol$src_numericunit)"
   ]
  },
  {
   "cell_type": "code",
   "execution_count": 28,
   "id": "8f1aff15-1d19-4081-b50d-ed00223395c8",
   "metadata": {},
   "outputs": [],
   "source": [
    "cholesterol <- chol %>% filter(src_numericunit == \"mmol/L\" | src_numericunit == \"mmol/l\") # keep only mmol/L units\n",
    "sbp$src_numericvalue <- as.numeric(sbp$src_numericvalue)\n",
    "sysbp <- sbp %>% filter(src_numericunit == \"mmHg\") %>% mutate(src_numericvalue = round(src_numericvalue, digits = 0)) # keep only mmHg units\n",
    "dbp$src_numericvalue <- as.numeric(dbp$src_numericvalue)\n",
    "diabp <- dbp %>% filter(src_numericunit == \"mmHg\") %>% mutate(src_numericvalue = round(src_numericvalue, digits = 0)) # keep only mmHg units\n",
    "BMI <- bmi %>% filter(src_numericunit == \"Kg/mï¿½\" | src_numericunit == \"Kg/m��«\") %>% mutate(src_numericunit = \"kg/m2\")\n",
    "renal_CR <- renal_cr %>% filter(src_numericunit == \"umol/L\")\n",
    "renal_AL <- renal_al %>% filter(src_numericunit == \"mg/mmol\")\n",
    "renal_EGFR <- renal_egfr %>% filter(src_numericunit == \"mL/min/1.73m*2\")"
   ]
  },
  {
   "cell_type": "code",
   "execution_count": 29,
   "id": "2b564b43-5990-4fd9-be5e-df3bdf99cd82",
   "metadata": {},
   "outputs": [
    {
     "data": {
      "text/html": [
       "14384"
      ],
      "text/latex": [
       "14384"
      ],
      "text/markdown": [
       "14384"
      ],
      "text/plain": [
       "[1] 14384"
      ]
     },
     "metadata": {},
     "output_type": "display_data"
    },
    {
     "data": {
      "text/html": [
       "5901593"
      ],
      "text/latex": [
       "5901593"
      ],
      "text/markdown": [
       "5901593"
      ],
      "text/plain": [
       "[1] 5901593"
      ]
     },
     "metadata": {},
     "output_type": "display_data"
    },
    {
     "data": {
      "text/html": [
       "313768"
      ],
      "text/latex": [
       "313768"
      ],
      "text/markdown": [
       "313768"
      ],
      "text/plain": [
       "[1] 313768"
      ]
     },
     "metadata": {},
     "output_type": "display_data"
    },
    {
     "data": {
      "text/html": [
       "312525"
      ],
      "text/latex": [
       "312525"
      ],
      "text/markdown": [
       "312525"
      ],
      "text/plain": [
       "[1] 312525"
      ]
     },
     "metadata": {},
     "output_type": "display_data"
    },
    {
     "data": {
      "text/html": [
       "4749020"
      ],
      "text/latex": [
       "4749020"
      ],
      "text/markdown": [
       "4749020"
      ],
      "text/plain": [
       "[1] 4749020"
      ]
     },
     "metadata": {},
     "output_type": "display_data"
    },
    {
     "data": {
      "text/html": [
       "598402"
      ],
      "text/latex": [
       "598402"
      ],
      "text/markdown": [
       "598402"
      ],
      "text/plain": [
       "[1] 598402"
      ]
     },
     "metadata": {},
     "output_type": "display_data"
    },
    {
     "data": {
      "text/html": [
       "4894"
      ],
      "text/latex": [
       "4894"
      ],
      "text/markdown": [
       "4894"
      ],
      "text/plain": [
       "[1] 4894"
      ]
     },
     "metadata": {},
     "output_type": "display_data"
    }
   ],
   "source": [
    "nrow(cholesterol)\n",
    "nrow(BMI)\n",
    "nrow(sysbp)\n",
    "nrow(diabp)\n",
    "nrow(renal_CR)\n",
    "nrow(renal_AL)\n",
    "nrow(renal_EGFR)"
   ]
  },
  {
   "cell_type": "code",
   "execution_count": 30,
   "id": "586680c3-bb71-4fbf-afc8-8a37cfc7bb58",
   "metadata": {},
   "outputs": [
    {
     "data": {
      "text/html": [
       "<style>\n",
       ".list-inline {list-style: none; margin:0; padding: 0}\n",
       ".list-inline>li {display: inline-block}\n",
       ".list-inline>li:not(:last-child)::after {content: \"\\00b7\"; padding: 0 .5ex}\n",
       "</style>\n",
       "<ol class=list-inline><li>'person_id'</li><li>'src_dateevent'</li><li>'src_ctv3code'</li><li>'src_ctv3text'</li><li>'src_numericvalue'</li><li>'src_numericunit'</li></ol>\n"
      ],
      "text/latex": [
       "\\begin{enumerate*}\n",
       "\\item 'person\\_id'\n",
       "\\item 'src\\_dateevent'\n",
       "\\item 'src\\_ctv3code'\n",
       "\\item 'src\\_ctv3text'\n",
       "\\item 'src\\_numericvalue'\n",
       "\\item 'src\\_numericunit'\n",
       "\\end{enumerate*}\n"
      ],
      "text/markdown": [
       "1. 'person_id'\n",
       "2. 'src_dateevent'\n",
       "3. 'src_ctv3code'\n",
       "4. 'src_ctv3text'\n",
       "5. 'src_numericvalue'\n",
       "6. 'src_numericunit'\n",
       "\n",
       "\n"
      ],
      "text/plain": [
       "[1] \"person_id\"        \"src_dateevent\"    \"src_ctv3code\"     \"src_ctv3text\"    \n",
       "[5] \"src_numericvalue\" \"src_numericunit\" "
      ]
     },
     "metadata": {},
     "output_type": "display_data"
    },
    {
     "data": {
      "text/plain": [
       "                               \n",
       "                                mmol/l mmol/L\n",
       "  Cervical smear overdue             1     38\n",
       "  Serum total cholesterol level   6860      1\n",
       "  Total cholesterol measurement      0   1629\n",
       "  Total cholesterol:HDL ratio       15   5840"
      ]
     },
     "metadata": {},
     "output_type": "display_data"
    },
    {
     "data": {
      "text/html": [
       "<table class=\"dataframe\">\n",
       "<caption>A tibble: 14384 × 3</caption>\n",
       "<thead>\n",
       "\t<tr><th scope=col>src_numericunit</th><th scope=col>src_numericvalue</th><th scope=col>src_ctv3text</th></tr>\n",
       "\t<tr><th scope=col>&lt;chr&gt;</th><th scope=col>&lt;chr&gt;</th><th scope=col>&lt;chr&gt;</th></tr>\n",
       "</thead>\n",
       "<tbody>\n",
       "\t<tr><td>mmol/l</td><td>7   </td><td>Serum total cholesterol level</td></tr>\n",
       "\t<tr><td>mmol/L</td><td>8.8 </td><td>Total cholesterol:HDL ratio  </td></tr>\n",
       "\t<tr><td>mmol/L</td><td>7.5 </td><td>Total cholesterol:HDL ratio  </td></tr>\n",
       "\t<tr><td>mmol/L</td><td>6.5 </td><td>Total cholesterol measurement</td></tr>\n",
       "\t<tr><td>mmol/l</td><td>6.6 </td><td>Serum total cholesterol level</td></tr>\n",
       "\t<tr><td>mmol/L</td><td>10.9</td><td>Total cholesterol:HDL ratio  </td></tr>\n",
       "\t<tr><td>mmol/l</td><td>6.5 </td><td>Serum total cholesterol level</td></tr>\n",
       "\t<tr><td>mmol/l</td><td>7.9 </td><td>Serum total cholesterol level</td></tr>\n",
       "\t<tr><td>mmol/L</td><td>7.2 </td><td>Total cholesterol measurement</td></tr>\n",
       "\t<tr><td>mmol/l</td><td>6.6 </td><td>Serum total cholesterol level</td></tr>\n",
       "\t<tr><td>mmol/l</td><td>6.8 </td><td>Serum total cholesterol level</td></tr>\n",
       "\t<tr><td>mmol/l</td><td>6.18</td><td>Serum total cholesterol level</td></tr>\n",
       "\t<tr><td>mmol/L</td><td>6.4 </td><td>Total cholesterol:HDL ratio  </td></tr>\n",
       "\t<tr><td>mmol/l</td><td>8.1 </td><td>Serum total cholesterol level</td></tr>\n",
       "\t<tr><td>mmol/l</td><td>8.2 </td><td>Serum total cholesterol level</td></tr>\n",
       "\t<tr><td>mmol/l</td><td>5.28</td><td>Serum total cholesterol level</td></tr>\n",
       "\t<tr><td>mmol/L</td><td>6.8 </td><td>Total cholesterol measurement</td></tr>\n",
       "\t<tr><td>mmol/L</td><td>4.73</td><td>Total cholesterol measurement</td></tr>\n",
       "\t<tr><td>mmol/l</td><td>6.5 </td><td>Serum total cholesterol level</td></tr>\n",
       "\t<tr><td>mmol/l</td><td>5.18</td><td>Serum total cholesterol level</td></tr>\n",
       "\t<tr><td>mmol/L</td><td>4.77</td><td>Total cholesterol measurement</td></tr>\n",
       "\t<tr><td>mmol/l</td><td>6.6 </td><td>Serum total cholesterol level</td></tr>\n",
       "\t<tr><td>mmol/L</td><td>6.8 </td><td>Total cholesterol measurement</td></tr>\n",
       "\t<tr><td>mmol/l</td><td>7.7 </td><td>Serum total cholesterol level</td></tr>\n",
       "\t<tr><td>mmol/l</td><td>6.7 </td><td>Serum total cholesterol level</td></tr>\n",
       "\t<tr><td>mmol/L</td><td>8.9 </td><td>Total cholesterol:HDL ratio  </td></tr>\n",
       "\t<tr><td>mmol/l</td><td>3.81</td><td>Serum total cholesterol level</td></tr>\n",
       "\t<tr><td>mmol/l</td><td>7.4 </td><td>Serum total cholesterol level</td></tr>\n",
       "\t<tr><td>mmol/l</td><td>4.22</td><td>Serum total cholesterol level</td></tr>\n",
       "\t<tr><td>mmol/l</td><td>7.3 </td><td>Serum total cholesterol level</td></tr>\n",
       "\t<tr><td>⋮</td><td>⋮</td><td>⋮</td></tr>\n",
       "\t<tr><td>mmol/l</td><td>6.3</td><td>Serum total cholesterol level</td></tr>\n",
       "\t<tr><td>mmol/l</td><td>6.3</td><td>Serum total cholesterol level</td></tr>\n",
       "\t<tr><td>mmol/L</td><td>6.3</td><td>Total cholesterol:HDL ratio  </td></tr>\n",
       "\t<tr><td>mmol/l</td><td>6.3</td><td>Serum total cholesterol level</td></tr>\n",
       "\t<tr><td>mmol/L</td><td>6.3</td><td>Total cholesterol:HDL ratio  </td></tr>\n",
       "\t<tr><td>mmol/l</td><td>6.3</td><td>Serum total cholesterol level</td></tr>\n",
       "\t<tr><td>mmol/l</td><td>6.3</td><td>Serum total cholesterol level</td></tr>\n",
       "\t<tr><td>mmol/l</td><td>6.3</td><td>Serum total cholesterol level</td></tr>\n",
       "\t<tr><td>mmol/l</td><td>6.3</td><td>Serum total cholesterol level</td></tr>\n",
       "\t<tr><td>mmol/L</td><td>6.3</td><td>Total cholesterol measurement</td></tr>\n",
       "\t<tr><td>mmol/L</td><td>6.3</td><td>Total cholesterol:HDL ratio  </td></tr>\n",
       "\t<tr><td>mmol/l</td><td>6.3</td><td>Serum total cholesterol level</td></tr>\n",
       "\t<tr><td>mmol/l</td><td>6.3</td><td>Serum total cholesterol level</td></tr>\n",
       "\t<tr><td>mmol/L</td><td>6.3</td><td>Total cholesterol:HDL ratio  </td></tr>\n",
       "\t<tr><td>mmol/L</td><td>6.3</td><td>Total cholesterol:HDL ratio  </td></tr>\n",
       "\t<tr><td>mmol/l</td><td>6.3</td><td>Serum total cholesterol level</td></tr>\n",
       "\t<tr><td>mmol/L</td><td>6.3</td><td>Total cholesterol:HDL ratio  </td></tr>\n",
       "\t<tr><td>mmol/l</td><td>6.3</td><td>Serum total cholesterol level</td></tr>\n",
       "\t<tr><td>mmol/l</td><td>6.3</td><td>Serum total cholesterol level</td></tr>\n",
       "\t<tr><td>mmol/l</td><td>6.3</td><td>Serum total cholesterol level</td></tr>\n",
       "\t<tr><td>mmol/l</td><td>6.3</td><td>Serum total cholesterol level</td></tr>\n",
       "\t<tr><td>mmol/L</td><td>6.3</td><td>Total cholesterol:HDL ratio  </td></tr>\n",
       "\t<tr><td>mmol/L</td><td>6.3</td><td>Total cholesterol:HDL ratio  </td></tr>\n",
       "\t<tr><td>mmol/L</td><td>6.3</td><td>Total cholesterol:HDL ratio  </td></tr>\n",
       "\t<tr><td>mmol/L</td><td>6.3</td><td>Total cholesterol:HDL ratio  </td></tr>\n",
       "\t<tr><td>mmol/l</td><td>6.3</td><td>Serum total cholesterol level</td></tr>\n",
       "\t<tr><td>mmol/l</td><td>6.3</td><td>Serum total cholesterol level</td></tr>\n",
       "\t<tr><td>mmol/l</td><td>6.3</td><td>Serum total cholesterol level</td></tr>\n",
       "\t<tr><td>mmol/l</td><td>6.3</td><td>Serum total cholesterol level</td></tr>\n",
       "\t<tr><td>mmol/l</td><td>6.3</td><td>Serum total cholesterol level</td></tr>\n",
       "</tbody>\n",
       "</table>\n"
      ],
      "text/latex": [
       "A tibble: 14384 × 3\n",
       "\\begin{tabular}{lll}\n",
       " src\\_numericunit & src\\_numericvalue & src\\_ctv3text\\\\\n",
       " <chr> & <chr> & <chr>\\\\\n",
       "\\hline\n",
       "\t mmol/l & 7    & Serum total cholesterol level\\\\\n",
       "\t mmol/L & 8.8  & Total cholesterol:HDL ratio  \\\\\n",
       "\t mmol/L & 7.5  & Total cholesterol:HDL ratio  \\\\\n",
       "\t mmol/L & 6.5  & Total cholesterol measurement\\\\\n",
       "\t mmol/l & 6.6  & Serum total cholesterol level\\\\\n",
       "\t mmol/L & 10.9 & Total cholesterol:HDL ratio  \\\\\n",
       "\t mmol/l & 6.5  & Serum total cholesterol level\\\\\n",
       "\t mmol/l & 7.9  & Serum total cholesterol level\\\\\n",
       "\t mmol/L & 7.2  & Total cholesterol measurement\\\\\n",
       "\t mmol/l & 6.6  & Serum total cholesterol level\\\\\n",
       "\t mmol/l & 6.8  & Serum total cholesterol level\\\\\n",
       "\t mmol/l & 6.18 & Serum total cholesterol level\\\\\n",
       "\t mmol/L & 6.4  & Total cholesterol:HDL ratio  \\\\\n",
       "\t mmol/l & 8.1  & Serum total cholesterol level\\\\\n",
       "\t mmol/l & 8.2  & Serum total cholesterol level\\\\\n",
       "\t mmol/l & 5.28 & Serum total cholesterol level\\\\\n",
       "\t mmol/L & 6.8  & Total cholesterol measurement\\\\\n",
       "\t mmol/L & 4.73 & Total cholesterol measurement\\\\\n",
       "\t mmol/l & 6.5  & Serum total cholesterol level\\\\\n",
       "\t mmol/l & 5.18 & Serum total cholesterol level\\\\\n",
       "\t mmol/L & 4.77 & Total cholesterol measurement\\\\\n",
       "\t mmol/l & 6.6  & Serum total cholesterol level\\\\\n",
       "\t mmol/L & 6.8  & Total cholesterol measurement\\\\\n",
       "\t mmol/l & 7.7  & Serum total cholesterol level\\\\\n",
       "\t mmol/l & 6.7  & Serum total cholesterol level\\\\\n",
       "\t mmol/L & 8.9  & Total cholesterol:HDL ratio  \\\\\n",
       "\t mmol/l & 3.81 & Serum total cholesterol level\\\\\n",
       "\t mmol/l & 7.4  & Serum total cholesterol level\\\\\n",
       "\t mmol/l & 4.22 & Serum total cholesterol level\\\\\n",
       "\t mmol/l & 7.3  & Serum total cholesterol level\\\\\n",
       "\t ⋮ & ⋮ & ⋮\\\\\n",
       "\t mmol/l & 6.3 & Serum total cholesterol level\\\\\n",
       "\t mmol/l & 6.3 & Serum total cholesterol level\\\\\n",
       "\t mmol/L & 6.3 & Total cholesterol:HDL ratio  \\\\\n",
       "\t mmol/l & 6.3 & Serum total cholesterol level\\\\\n",
       "\t mmol/L & 6.3 & Total cholesterol:HDL ratio  \\\\\n",
       "\t mmol/l & 6.3 & Serum total cholesterol level\\\\\n",
       "\t mmol/l & 6.3 & Serum total cholesterol level\\\\\n",
       "\t mmol/l & 6.3 & Serum total cholesterol level\\\\\n",
       "\t mmol/l & 6.3 & Serum total cholesterol level\\\\\n",
       "\t mmol/L & 6.3 & Total cholesterol measurement\\\\\n",
       "\t mmol/L & 6.3 & Total cholesterol:HDL ratio  \\\\\n",
       "\t mmol/l & 6.3 & Serum total cholesterol level\\\\\n",
       "\t mmol/l & 6.3 & Serum total cholesterol level\\\\\n",
       "\t mmol/L & 6.3 & Total cholesterol:HDL ratio  \\\\\n",
       "\t mmol/L & 6.3 & Total cholesterol:HDL ratio  \\\\\n",
       "\t mmol/l & 6.3 & Serum total cholesterol level\\\\\n",
       "\t mmol/L & 6.3 & Total cholesterol:HDL ratio  \\\\\n",
       "\t mmol/l & 6.3 & Serum total cholesterol level\\\\\n",
       "\t mmol/l & 6.3 & Serum total cholesterol level\\\\\n",
       "\t mmol/l & 6.3 & Serum total cholesterol level\\\\\n",
       "\t mmol/l & 6.3 & Serum total cholesterol level\\\\\n",
       "\t mmol/L & 6.3 & Total cholesterol:HDL ratio  \\\\\n",
       "\t mmol/L & 6.3 & Total cholesterol:HDL ratio  \\\\\n",
       "\t mmol/L & 6.3 & Total cholesterol:HDL ratio  \\\\\n",
       "\t mmol/L & 6.3 & Total cholesterol:HDL ratio  \\\\\n",
       "\t mmol/l & 6.3 & Serum total cholesterol level\\\\\n",
       "\t mmol/l & 6.3 & Serum total cholesterol level\\\\\n",
       "\t mmol/l & 6.3 & Serum total cholesterol level\\\\\n",
       "\t mmol/l & 6.3 & Serum total cholesterol level\\\\\n",
       "\t mmol/l & 6.3 & Serum total cholesterol level\\\\\n",
       "\\end{tabular}\n"
      ],
      "text/markdown": [
       "\n",
       "A tibble: 14384 × 3\n",
       "\n",
       "| src_numericunit &lt;chr&gt; | src_numericvalue &lt;chr&gt; | src_ctv3text &lt;chr&gt; |\n",
       "|---|---|---|\n",
       "| mmol/l | 7    | Serum total cholesterol level |\n",
       "| mmol/L | 8.8  | Total cholesterol:HDL ratio   |\n",
       "| mmol/L | 7.5  | Total cholesterol:HDL ratio   |\n",
       "| mmol/L | 6.5  | Total cholesterol measurement |\n",
       "| mmol/l | 6.6  | Serum total cholesterol level |\n",
       "| mmol/L | 10.9 | Total cholesterol:HDL ratio   |\n",
       "| mmol/l | 6.5  | Serum total cholesterol level |\n",
       "| mmol/l | 7.9  | Serum total cholesterol level |\n",
       "| mmol/L | 7.2  | Total cholesterol measurement |\n",
       "| mmol/l | 6.6  | Serum total cholesterol level |\n",
       "| mmol/l | 6.8  | Serum total cholesterol level |\n",
       "| mmol/l | 6.18 | Serum total cholesterol level |\n",
       "| mmol/L | 6.4  | Total cholesterol:HDL ratio   |\n",
       "| mmol/l | 8.1  | Serum total cholesterol level |\n",
       "| mmol/l | 8.2  | Serum total cholesterol level |\n",
       "| mmol/l | 5.28 | Serum total cholesterol level |\n",
       "| mmol/L | 6.8  | Total cholesterol measurement |\n",
       "| mmol/L | 4.73 | Total cholesterol measurement |\n",
       "| mmol/l | 6.5  | Serum total cholesterol level |\n",
       "| mmol/l | 5.18 | Serum total cholesterol level |\n",
       "| mmol/L | 4.77 | Total cholesterol measurement |\n",
       "| mmol/l | 6.6  | Serum total cholesterol level |\n",
       "| mmol/L | 6.8  | Total cholesterol measurement |\n",
       "| mmol/l | 7.7  | Serum total cholesterol level |\n",
       "| mmol/l | 6.7  | Serum total cholesterol level |\n",
       "| mmol/L | 8.9  | Total cholesterol:HDL ratio   |\n",
       "| mmol/l | 3.81 | Serum total cholesterol level |\n",
       "| mmol/l | 7.4  | Serum total cholesterol level |\n",
       "| mmol/l | 4.22 | Serum total cholesterol level |\n",
       "| mmol/l | 7.3  | Serum total cholesterol level |\n",
       "| ⋮ | ⋮ | ⋮ |\n",
       "| mmol/l | 6.3 | Serum total cholesterol level |\n",
       "| mmol/l | 6.3 | Serum total cholesterol level |\n",
       "| mmol/L | 6.3 | Total cholesterol:HDL ratio   |\n",
       "| mmol/l | 6.3 | Serum total cholesterol level |\n",
       "| mmol/L | 6.3 | Total cholesterol:HDL ratio   |\n",
       "| mmol/l | 6.3 | Serum total cholesterol level |\n",
       "| mmol/l | 6.3 | Serum total cholesterol level |\n",
       "| mmol/l | 6.3 | Serum total cholesterol level |\n",
       "| mmol/l | 6.3 | Serum total cholesterol level |\n",
       "| mmol/L | 6.3 | Total cholesterol measurement |\n",
       "| mmol/L | 6.3 | Total cholesterol:HDL ratio   |\n",
       "| mmol/l | 6.3 | Serum total cholesterol level |\n",
       "| mmol/l | 6.3 | Serum total cholesterol level |\n",
       "| mmol/L | 6.3 | Total cholesterol:HDL ratio   |\n",
       "| mmol/L | 6.3 | Total cholesterol:HDL ratio   |\n",
       "| mmol/l | 6.3 | Serum total cholesterol level |\n",
       "| mmol/L | 6.3 | Total cholesterol:HDL ratio   |\n",
       "| mmol/l | 6.3 | Serum total cholesterol level |\n",
       "| mmol/l | 6.3 | Serum total cholesterol level |\n",
       "| mmol/l | 6.3 | Serum total cholesterol level |\n",
       "| mmol/l | 6.3 | Serum total cholesterol level |\n",
       "| mmol/L | 6.3 | Total cholesterol:HDL ratio   |\n",
       "| mmol/L | 6.3 | Total cholesterol:HDL ratio   |\n",
       "| mmol/L | 6.3 | Total cholesterol:HDL ratio   |\n",
       "| mmol/L | 6.3 | Total cholesterol:HDL ratio   |\n",
       "| mmol/l | 6.3 | Serum total cholesterol level |\n",
       "| mmol/l | 6.3 | Serum total cholesterol level |\n",
       "| mmol/l | 6.3 | Serum total cholesterol level |\n",
       "| mmol/l | 6.3 | Serum total cholesterol level |\n",
       "| mmol/l | 6.3 | Serum total cholesterol level |\n",
       "\n"
      ],
      "text/plain": [
       "      src_numericunit src_numericvalue src_ctv3text                 \n",
       "1     mmol/l          7                Serum total cholesterol level\n",
       "2     mmol/L          8.8              Total cholesterol:HDL ratio  \n",
       "3     mmol/L          7.5              Total cholesterol:HDL ratio  \n",
       "4     mmol/L          6.5              Total cholesterol measurement\n",
       "5     mmol/l          6.6              Serum total cholesterol level\n",
       "6     mmol/L          10.9             Total cholesterol:HDL ratio  \n",
       "7     mmol/l          6.5              Serum total cholesterol level\n",
       "8     mmol/l          7.9              Serum total cholesterol level\n",
       "9     mmol/L          7.2              Total cholesterol measurement\n",
       "10    mmol/l          6.6              Serum total cholesterol level\n",
       "11    mmol/l          6.8              Serum total cholesterol level\n",
       "12    mmol/l          6.18             Serum total cholesterol level\n",
       "13    mmol/L          6.4              Total cholesterol:HDL ratio  \n",
       "14    mmol/l          8.1              Serum total cholesterol level\n",
       "15    mmol/l          8.2              Serum total cholesterol level\n",
       "16    mmol/l          5.28             Serum total cholesterol level\n",
       "17    mmol/L          6.8              Total cholesterol measurement\n",
       "18    mmol/L          4.73             Total cholesterol measurement\n",
       "19    mmol/l          6.5              Serum total cholesterol level\n",
       "20    mmol/l          5.18             Serum total cholesterol level\n",
       "21    mmol/L          4.77             Total cholesterol measurement\n",
       "22    mmol/l          6.6              Serum total cholesterol level\n",
       "23    mmol/L          6.8              Total cholesterol measurement\n",
       "24    mmol/l          7.7              Serum total cholesterol level\n",
       "25    mmol/l          6.7              Serum total cholesterol level\n",
       "26    mmol/L          8.9              Total cholesterol:HDL ratio  \n",
       "27    mmol/l          3.81             Serum total cholesterol level\n",
       "28    mmol/l          7.4              Serum total cholesterol level\n",
       "29    mmol/l          4.22             Serum total cholesterol level\n",
       "30    mmol/l          7.3              Serum total cholesterol level\n",
       "⋮     ⋮               ⋮                ⋮                            \n",
       "14355 mmol/l          6.3              Serum total cholesterol level\n",
       "14356 mmol/l          6.3              Serum total cholesterol level\n",
       "14357 mmol/L          6.3              Total cholesterol:HDL ratio  \n",
       "14358 mmol/l          6.3              Serum total cholesterol level\n",
       "14359 mmol/L          6.3              Total cholesterol:HDL ratio  \n",
       "14360 mmol/l          6.3              Serum total cholesterol level\n",
       "14361 mmol/l          6.3              Serum total cholesterol level\n",
       "14362 mmol/l          6.3              Serum total cholesterol level\n",
       "14363 mmol/l          6.3              Serum total cholesterol level\n",
       "14364 mmol/L          6.3              Total cholesterol measurement\n",
       "14365 mmol/L          6.3              Total cholesterol:HDL ratio  \n",
       "14366 mmol/l          6.3              Serum total cholesterol level\n",
       "14367 mmol/l          6.3              Serum total cholesterol level\n",
       "14368 mmol/L          6.3              Total cholesterol:HDL ratio  \n",
       "14369 mmol/L          6.3              Total cholesterol:HDL ratio  \n",
       "14370 mmol/l          6.3              Serum total cholesterol level\n",
       "14371 mmol/L          6.3              Total cholesterol:HDL ratio  \n",
       "14372 mmol/l          6.3              Serum total cholesterol level\n",
       "14373 mmol/l          6.3              Serum total cholesterol level\n",
       "14374 mmol/l          6.3              Serum total cholesterol level\n",
       "14375 mmol/l          6.3              Serum total cholesterol level\n",
       "14376 mmol/L          6.3              Total cholesterol:HDL ratio  \n",
       "14377 mmol/L          6.3              Total cholesterol:HDL ratio  \n",
       "14378 mmol/L          6.3              Total cholesterol:HDL ratio  \n",
       "14379 mmol/L          6.3              Total cholesterol:HDL ratio  \n",
       "14380 mmol/l          6.3              Serum total cholesterol level\n",
       "14381 mmol/l          6.3              Serum total cholesterol level\n",
       "14382 mmol/l          6.3              Serum total cholesterol level\n",
       "14383 mmol/l          6.3              Serum total cholesterol level\n",
       "14384 mmol/l          6.3              Serum total cholesterol level"
      ]
     },
     "metadata": {},
     "output_type": "display_data"
    }
   ],
   "source": [
    "colnames(cholesterol)\n",
    "table(cholesterol$src_ctv3text, cholesterol$src_numericunit)\n",
    "cholesterol %>% select(src_numericunit, src_numericvalue, src_ctv3text)"
   ]
  },
  {
   "cell_type": "code",
   "execution_count": 31,
   "id": "794a2691-305c-40da-a7e4-25866af7e8b8",
   "metadata": {},
   "outputs": [
    {
     "data": {
      "text/html": [
       "14202"
      ],
      "text/latex": [
       "14202"
      ],
      "text/markdown": [
       "14202"
      ],
      "text/plain": [
       "[1] 14202"
      ]
     },
     "metadata": {},
     "output_type": "display_data"
    },
    {
     "data": {
      "text/plain": [
       "\n",
       "   1    2 \n",
       "9438 4764 "
      ]
     },
     "metadata": {},
     "output_type": "display_data"
    }
   ],
   "source": [
    "# Clean covariate tables\n",
    "# Cholesterol\n",
    "chol$src_numericvalue <- as.numeric(chol$src_numericvalue)\n",
    "cholesterol <- cholesterol %>%\n",
    "    filter(!src_ctv3text == \"Cervical smear overdue\") %>%\n",
    "  mutate(cholesterol = case_when(\n",
    "    src_numericvalue <= 5 ~ 1,\n",
    "    src_numericvalue > 5 ~ 2)) %>%\n",
    "  set_value_labels(cholesterol = c(\"Healthy\" = 1, \"High\" = 2)) %>%\n",
    "  select(person_id, date_cholesterol = src_dateevent, cholesterol)\n",
    "cholesterol$date_cholesterol <- as.Date(cholesterol$date_cholesterol)\n",
    "cholesterol <- cholesterol[!duplicated(cholesterol),]\n",
    "nrow(cholesterol)\n",
    "table(cholesterol$cholesterol)"
   ]
  },
  {
   "cell_type": "code",
   "execution_count": 32,
   "id": "4af04d73-bfe8-48af-b053-3e1c88c7f275",
   "metadata": {},
   "outputs": [
    {
     "data": {
      "text/html": [
       "5525626"
      ],
      "text/latex": [
       "5525626"
      ],
      "text/markdown": [
       "5525626"
      ],
      "text/plain": [
       "[1] 5525626"
      ]
     },
     "metadata": {},
     "output_type": "display_data"
    },
    {
     "data": {
      "text/plain": [
       "\n",
       "      1       2       3       4 \n",
       " 857739 1579448 1490024 1551844 "
      ]
     },
     "metadata": {},
     "output_type": "display_data"
    }
   ],
   "source": [
    "# Clean covariate tables\n",
    "# BMI\n",
    "BMI$src_dateevent <- as.Date(BMI$src_dateevent)\n",
    "BMI$src_numericvalue <- as.numeric(BMI$src_numericvalue)\n",
    "# two decimal places\n",
    "BMI <- BMI %>%\n",
    "  mutate(bmi = case_when(\n",
    "    src_numericvalue < 18.5 ~ 1,\n",
    "    src_numericvalue >= 18.5 & src_numericvalue <= 24.9 ~ 2,\n",
    "    src_numericvalue >= 25 & src_numericvalue <= 29.9 ~ 3,\n",
    "    src_numericvalue >= 30 ~ 4)) %>%\n",
    "  set_value_labels(bmi = c(\"Underweight\" = 1, \"Healthy weight\" = 2, \"Overweight\" = 3, \"Obese\" = 4)) %>%\n",
    "  select(person_id, date_bmi = src_dateevent, bmi, bmi_value = src_numericvalue)\n",
    "BMI <- BMI[!duplicated(BMI),]\n",
    "nrow(BMI)\n",
    "table(BMI$bmi)\n"
   ]
  },
  {
   "cell_type": "code",
   "execution_count": 34,
   "id": "5ea664bc-09c4-4bf7-885c-c9567487214e",
   "metadata": {},
   "outputs": [
    {
     "data": {
      "text/html": [
       "0"
      ],
      "text/latex": [
       "0"
      ],
      "text/markdown": [
       "0"
      ],
      "text/plain": [
       "[1] 0"
      ]
     },
     "metadata": {},
     "output_type": "display_data"
    }
   ],
   "source": [
    "sum(duplicated(BMI))"
   ]
  },
  {
   "cell_type": "code",
   "execution_count": 35,
   "id": "688531c3-49ea-4e9b-9571-c78baf236057",
   "metadata": {},
   "outputs": [
    {
     "data": {
      "text/html": [
       "2739312"
      ],
      "text/latex": [
       "2739312"
      ],
      "text/markdown": [
       "2739312"
      ],
      "text/plain": [
       "[1] 2739312"
      ]
     },
     "metadata": {},
     "output_type": "display_data"
    },
    {
     "data": {
      "text/plain": [
       "\n",
       "      1       2       3 \n",
       "1339305 1214802  185205 "
      ]
     },
     "metadata": {},
     "output_type": "display_data"
    }
   ],
   "source": [
    "# Clean covariate tables\n",
    "# Smoking\n",
    "smoke$src_dateevent <- as.Date(smoke$src_dateevent)\n",
    "smoking <- smoke %>%\n",
    "  mutate(smoking = case_when(\n",
    "    src_ctv3text == \"Smoker\" ~ 1,\n",
    "    src_ctv3text == \"Ex-smoker\" ~ 2,\n",
    "    src_ctv3text == \"Non-smoker\" ~ 3)) %>%\n",
    "  set_value_labels(smoking = c(\"Smoker\" = 1, \"Ex-smoker\" = 2, \"Non-smoker\" = 3)) %>%\n",
    "  select(person_id, date_smoking = src_dateevent, smoking)\n",
    "smoking <- smoking[!duplicated(smoking),]\n",
    "nrow(smoking)\n",
    "table(smoking$smoking)"
   ]
  },
  {
   "cell_type": "code",
   "execution_count": 36,
   "id": "da8408b5-53ab-4f13-8754-06551abd7950",
   "metadata": {},
   "outputs": [
    {
     "data": {
      "text/plain": [
       "\n",
       "     1      2      3 \n",
       "  7617 209840  96311 "
      ]
     },
     "metadata": {},
     "output_type": "display_data"
    }
   ],
   "source": [
    "# Clean covariate tables\n",
    "# Systolic Blood pressure\n",
    "sysbp$src_dateevent <- as.Date(sysbp$src_dateevent)\n",
    "sysbp <- sysbp %>%\n",
    "  mutate(sys_bp = case_when(\n",
    "    src_numericvalue < 90 ~ 1,\n",
    "    src_numericvalue >= 90 & src_numericvalue <= 139 ~ 2,\n",
    "    src_numericvalue >= 140 ~ 3)) %>%\n",
    "  set_value_labels(sys_bp = c(\"Low\" = 1, \"Normal\" = 2, \"High\" = 3)) %>%\n",
    "  select(person_id, date_bp = src_dateevent, sys_bp, sbp_value = src_numericvalue)\n",
    "table(sysbp$sys_bp)"
   ]
  },
  {
   "cell_type": "code",
   "execution_count": 42,
   "id": "9673facd-20eb-4114-ba72-473fec5aec49",
   "metadata": {},
   "outputs": [
    {
     "data": {
      "text/html": [
       "296943"
      ],
      "text/latex": [
       "296943"
      ],
      "text/markdown": [
       "296943"
      ],
      "text/plain": [
       "[1] 296943"
      ]
     },
     "metadata": {},
     "output_type": "display_data"
    }
   ],
   "source": [
    "sysbp <- sysbp[!duplicated(sysbp),]\n",
    "nrow(sysbp)"
   ]
  },
  {
   "cell_type": "code",
   "execution_count": 44,
   "id": "3af410f8-213a-402f-8bc8-e33077285f1f",
   "metadata": {},
   "outputs": [
    {
     "data": {
      "text/plain": [
       "\n",
       "     1      2      3 \n",
       "  7059 198760  91124 "
      ]
     },
     "metadata": {},
     "output_type": "display_data"
    }
   ],
   "source": [
    "table(sysbp$sys_bp)"
   ]
  },
  {
   "cell_type": "code",
   "execution_count": 38,
   "id": "a8146984-43e6-4007-ba87-da9090e4bb65",
   "metadata": {},
   "outputs": [
    {
     "data": {
      "text/plain": [
       "\n",
       "     1      2      3 \n",
       " 34630 244477  33418 "
      ]
     },
     "metadata": {},
     "output_type": "display_data"
    }
   ],
   "source": [
    "# Diastolic Blood pressure\n",
    "diabp$src_dateevent <- as.Date(diabp$src_dateevent)\n",
    "diabp <- diabp %>%\n",
    "  mutate(dia_bp = case_when(\n",
    "    src_numericvalue < 60 ~ 1,\n",
    "    src_numericvalue >= 60 & src_numericvalue <= 89 ~ 2,\n",
    "    src_numericvalue >= 90 ~ 3)) %>%\n",
    "  set_value_labels(dia_bp = c(\"Low\" = 1, \"Normal\" = 2, \"High\" = 3)) %>%\n",
    "  select(person_id, date_bp = src_dateevent, dia_bp, dbp_value = src_numericvalue)\n",
    "table(diabp$dia_bp)"
   ]
  },
  {
   "cell_type": "code",
   "execution_count": 43,
   "id": "8bda9204-2c58-43be-b48e-f57ad9364a14",
   "metadata": {},
   "outputs": [
    {
     "data": {
      "text/html": [
       "289305"
      ],
      "text/latex": [
       "289305"
      ],
      "text/markdown": [
       "289305"
      ],
      "text/plain": [
       "[1] 289305"
      ]
     },
     "metadata": {},
     "output_type": "display_data"
    }
   ],
   "source": [
    "diabp <- diabp[!duplicated(diabp),]\n",
    "nrow(diabp)"
   ]
  },
  {
   "cell_type": "code",
   "execution_count": 45,
   "id": "791a9f5e-12d5-4f9b-8150-20253cb38b81",
   "metadata": {},
   "outputs": [
    {
     "data": {
      "text/plain": [
       "\n",
       "     1      2      3 \n",
       " 31953 226096  31256 "
      ]
     },
     "metadata": {},
     "output_type": "display_data"
    }
   ],
   "source": [
    "table(diabp$dia_bp)"
   ]
  },
  {
   "cell_type": "code",
   "execution_count": 46,
   "id": "24a74a8e-da3c-4fb3-9180-9592f3f6fbff",
   "metadata": {},
   "outputs": [
    {
     "name": "stderr",
     "output_type": "stream",
     "text": [
      "Warning message in full_join(sysbp, diabp, by = c(\"person_id\", \"date_bp\")):\n",
      "“\u001b[1m\u001b[22mDetected an unexpected many-to-many relationship between `x` and `y`.\n",
      "\u001b[36mℹ\u001b[39m Row 1 of `x` matches multiple rows in `y`.\n",
      "\u001b[36mℹ\u001b[39m Row 75363 of `y` matches multiple rows in `x`.\n",
      "\u001b[36mℹ\u001b[39m If a many-to-many relationship is expected, set `relationship =\n",
      "  \"many-to-many\"` to silence this warning.”\n"
     ]
    },
    {
     "data": {
      "text/html": [
       "<table class=\"dataframe\">\n",
       "<caption>A tibble: 6 × 6</caption>\n",
       "<thead>\n",
       "\t<tr><th scope=col>person_id</th><th scope=col>date_bp</th><th scope=col>sys_bp</th><th scope=col>sbp_value</th><th scope=col>dia_bp</th><th scope=col>dbp_value</th></tr>\n",
       "\t<tr><th scope=col>&lt;int&gt;</th><th scope=col>&lt;date&gt;</th><th scope=col>&lt;dbl+lbl&gt;</th><th scope=col>&lt;dbl&gt;</th><th scope=col>&lt;dbl+lbl&gt;</th><th scope=col>&lt;dbl&gt;</th></tr>\n",
       "</thead>\n",
       "<tbody>\n",
       "\t<tr><td>13027445</td><td>2014-09-15</td><td>2</td><td>139</td><td>3</td><td>112</td></tr>\n",
       "\t<tr><td>13027445</td><td>2014-09-15</td><td>2</td><td>139</td><td>3</td><td>104</td></tr>\n",
       "\t<tr><td>12555391</td><td>2019-05-07</td><td>2</td><td>118</td><td>2</td><td> 70</td></tr>\n",
       "\t<tr><td>12703662</td><td>2019-01-14</td><td>2</td><td> 96</td><td>2</td><td> 70</td></tr>\n",
       "\t<tr><td>12703662</td><td>2019-01-14</td><td>2</td><td> 96</td><td>2</td><td> 60</td></tr>\n",
       "\t<tr><td>12775719</td><td>2021-05-14</td><td>2</td><td> 90</td><td>1</td><td> 58</td></tr>\n",
       "</tbody>\n",
       "</table>\n"
      ],
      "text/latex": [
       "A tibble: 6 × 6\n",
       "\\begin{tabular}{llllll}\n",
       " person\\_id & date\\_bp & sys\\_bp & sbp\\_value & dia\\_bp & dbp\\_value\\\\\n",
       " <int> & <date> & <dbl+lbl> & <dbl> & <dbl+lbl> & <dbl>\\\\\n",
       "\\hline\n",
       "\t 13027445 & 2014-09-15 & 2 & 139 & 3 & 112\\\\\n",
       "\t 13027445 & 2014-09-15 & 2 & 139 & 3 & 104\\\\\n",
       "\t 12555391 & 2019-05-07 & 2 & 118 & 2 &  70\\\\\n",
       "\t 12703662 & 2019-01-14 & 2 &  96 & 2 &  70\\\\\n",
       "\t 12703662 & 2019-01-14 & 2 &  96 & 2 &  60\\\\\n",
       "\t 12775719 & 2021-05-14 & 2 &  90 & 1 &  58\\\\\n",
       "\\end{tabular}\n"
      ],
      "text/markdown": [
       "\n",
       "A tibble: 6 × 6\n",
       "\n",
       "| person_id &lt;int&gt; | date_bp &lt;date&gt; | sys_bp &lt;dbl+lbl&gt; | sbp_value &lt;dbl&gt; | dia_bp &lt;dbl+lbl&gt; | dbp_value &lt;dbl&gt; |\n",
       "|---|---|---|---|---|---|\n",
       "| 13027445 | 2014-09-15 | 2 | 139 | 3 | 112 |\n",
       "| 13027445 | 2014-09-15 | 2 | 139 | 3 | 104 |\n",
       "| 12555391 | 2019-05-07 | 2 | 118 | 2 |  70 |\n",
       "| 12703662 | 2019-01-14 | 2 |  96 | 2 |  70 |\n",
       "| 12703662 | 2019-01-14 | 2 |  96 | 2 |  60 |\n",
       "| 12775719 | 2021-05-14 | 2 |  90 | 1 |  58 |\n",
       "\n"
      ],
      "text/plain": [
       "  person_id date_bp    sys_bp sbp_value dia_bp dbp_value\n",
       "1 13027445  2014-09-15 2      139       3      112      \n",
       "2 13027445  2014-09-15 2      139       3      104      \n",
       "3 12555391  2019-05-07 2      118       2       70      \n",
       "4 12703662  2019-01-14 2       96       2       70      \n",
       "5 12703662  2019-01-14 2       96       2       60      \n",
       "6 12775719  2021-05-14 2       90       1       58      "
      ]
     },
     "metadata": {},
     "output_type": "display_data"
    },
    {
     "data": {
      "text/html": [
       "469226"
      ],
      "text/latex": [
       "469226"
      ],
      "text/markdown": [
       "469226"
      ],
      "text/plain": [
       "[1] 469226"
      ]
     },
     "metadata": {},
     "output_type": "display_data"
    },
    {
     "data": {
      "text/plain": [
       "   \n",
       "         1      2      3\n",
       "  1   5599   3721    363\n",
       "  2  39249 261332  14116\n",
       "  3   5134 100721  37102"
      ]
     },
     "metadata": {},
     "output_type": "display_data"
    }
   ],
   "source": [
    "# Join systolic and diastolic blood pressure tables together\n",
    "bp <- full_join(sysbp, diabp, by = c(\"person_id\", \"date_bp\"))\n",
    "head(bp)\n",
    "bp <- bp[!duplicated(bp),]\n",
    "nrow(bp)\n",
    "table(bp$sys_bp, bp$dia_bp)"
   ]
  },
  {
   "cell_type": "code",
   "execution_count": 47,
   "id": "233c6d3e-6a33-462b-be75-441b4ee0d1a4",
   "metadata": {},
   "outputs": [
    {
     "data": {
      "text/plain": [
       "\n",
       "     1      2      3 \n",
       " 54554 261332 152362 "
      ]
     },
     "metadata": {},
     "output_type": "display_data"
    },
    {
     "data": {
      "text/html": [
       "469226"
      ],
      "text/latex": [
       "469226"
      ],
      "text/markdown": [
       "469226"
      ],
      "text/plain": [
       "[1] 469226"
      ]
     },
     "metadata": {},
     "output_type": "display_data"
    },
    {
     "data": {
      "text/plain": [
       "\n",
       "     1      2      3 \n",
       " 54554 261332 152362 "
      ]
     },
     "metadata": {},
     "output_type": "display_data"
    }
   ],
   "source": [
    "# BP variable\n",
    "bp <- bp %>%\n",
    "  mutate(bp = case_when(\n",
    "    sys_bp == 1 & dia_bp == 1 ~ 1,\n",
    "    sys_bp == 1 | dia_bp == 1 ~ 11,\n",
    "    sys_bp == 2 & dia_bp == 2 ~ 2,\n",
    "    sys_bp == 3 & dia_bp == 3 ~ 3,\n",
    "    sys_bp == 3 | dia_bp == 3 ~ 31,\n",
    "    sys_bp == 1 & dia_bp == 3 ~ 32,\n",
    "    sys_bp == 3 & dia_bp == 1 ~ 33,\n",
    "    is.na(sys_bp) | is.na(dia_bp) ~ NA)) %>%\n",
    "  mutate(blood_pressure = case_when(\n",
    "    bp == 1 | bp == 11 ~ 1,\n",
    "    bp == 2 ~ 2,\n",
    "    bp == 3 | bp == 31 | bp == 32 | bp == 33 ~ 3,\n",
    "    is.na(bp) ~ NA)) %>%\n",
    "  set_value_labels(blood_pressure = c(\"Low\" = 1, \"Normal\" = 2, \"High\" = 3)) %>%\n",
    "  select(person_id, date_bp, blood_pressure, sbp_value, dbp_value)\n",
    "table(bp$blood_pressure)\n",
    "bp <- bp[!duplicated(bp),]\n",
    "nrow(bp)\n",
    "table(bp$blood_pressure)"
   ]
  },
  {
   "cell_type": "code",
   "execution_count": 48,
   "id": "cf12add9-d46b-477f-8f8c-4b12a44221b3",
   "metadata": {},
   "outputs": [
    {
     "data": {
      "text/html": [
       "4660693"
      ],
      "text/latex": [
       "4660693"
      ],
      "text/markdown": [
       "4660693"
      ],
      "text/plain": [
       "[1] 4660693"
      ]
     },
     "metadata": {},
     "output_type": "display_data"
    },
    {
     "data": {
      "text/plain": [
       "\n",
       "      1       2       3 \n",
       "  46938 1195322 3418433 "
      ]
     },
     "metadata": {},
     "output_type": "display_data"
    },
    {
     "data": {
      "text/html": [
       "590341"
      ],
      "text/latex": [
       "590341"
      ],
      "text/markdown": [
       "590341"
      ],
      "text/plain": [
       "[1] 590341"
      ]
     },
     "metadata": {},
     "output_type": "display_data"
    },
    {
     "data": {
      "text/plain": [
       "\n",
       "     1      2      3 \n",
       "498303    807  91231 "
      ]
     },
     "metadata": {},
     "output_type": "display_data"
    },
    {
     "data": {
      "text/html": [
       "2424"
      ],
      "text/latex": [
       "2424"
      ],
      "text/markdown": [
       "2424"
      ],
      "text/plain": [
       "[1] 2424"
      ]
     },
     "metadata": {},
     "output_type": "display_data"
    },
    {
     "data": {
      "text/plain": [
       "\n",
       "   1    2 \n",
       " 635 1789 "
      ]
     },
     "metadata": {},
     "output_type": "display_data"
    }
   ],
   "source": [
    "# Clean covariate tables\n",
    "# Kidney Function\n",
    "#renal_CR$src_dateevent <- as.Date(renal_CR$src_dateevent)\n",
    "#renal_AL$src_dateevent <- as.Date(renal_AL$src_dateevent)\n",
    "#renal_EGFR$src_dateevent <- as.Date(renal_EGFR$src_dateevent)\n",
    "\n",
    "# Creatinine\n",
    "renal_CR <- renal_CR %>%\n",
    "    filter(!src_numericvalue < 0) %>%\n",
    "    mutate(creatinine = case_when(\n",
    "        src_numericvalue <= 100 ~ 1,\n",
    "        src_numericvalue > 100 & src_numericvalue < 500 ~ 2,\n",
    "        src_numericvalue >= 500 ~ 3)) %>%\n",
    "    set_value_labels(creatinine = c(\"Normal\" = 1, \"High\" = 2, \"Very High\" = 3)) %>%\n",
    "    select(person_id, date_creatinine = src_dateevent, creatinine)\n",
    "renal_CR <- renal_CR[!duplicated(renal_CR),]\n",
    "nrow(renal_CR)\n",
    "table(renal_CR$creatinine)\n",
    "\n",
    "# Albumin:Creatinine ratio (ACR)\n",
    "renal_AL <- renal_AL %>%\n",
    "    mutate(acr = case_when(\n",
    "        src_numericvalue <= 30 ~ 1,\n",
    "        src_numericvalue > 30 & src_numericvalue < 300 ~ 2,\n",
    "        src_numericvalue >= 300 ~ 3)) %>%\n",
    "    set_value_labels(acr = c(\"Normal\" = 1, \"High\" = 2, \"Very High\" = 3)) %>%\n",
    "    select(person_id, date_acr = src_dateevent, acr)\n",
    "renal_AL <- renal_AL[!duplicated(renal_AL),]\n",
    "nrow(renal_AL)\n",
    "table(renal_AL$acr)\n",
    "\n",
    "# eGFR\n",
    "renal_EGFR <- renal_EGFR %>%\n",
    "    mutate(egfr = case_when(\n",
    "        src_numericvalue >= 90 ~ 1,\n",
    "        src_numericvalue < 90 ~ 2)) %>%\n",
    "    set_value_labels(egfr = c(\"Normal\" = 1, \"Reduced kidney function\" = 2)) %>%\n",
    "    select(person_id, date_egfr = src_dateevent, egfr)\n",
    "renal_EGFR <- renal_EGFR[!duplicated(renal_EGFR),]\n",
    "nrow(renal_EGFR)\n",
    "table(renal_EGFR$egfr)"
   ]
  },
  {
   "cell_type": "code",
   "execution_count": 49,
   "id": "8d05e1c7-467e-4478-b5b0-fd86c5b86b73",
   "metadata": {},
   "outputs": [
    {
     "data": {
      "text/html": [
       "<style>\n",
       ".list-inline {list-style: none; margin:0; padding: 0}\n",
       ".list-inline>li {display: inline-block}\n",
       ".list-inline>li:not(:last-child)::after {content: \"\\00b7\"; padding: 0 .5ex}\n",
       "</style>\n",
       "<ol class=list-inline><li>'person_id'</li><li>'date_bp'</li><li>'blood_pressure'</li><li>'sbp_value'</li><li>'dbp_value'</li></ol>\n"
      ],
      "text/latex": [
       "\\begin{enumerate*}\n",
       "\\item 'person\\_id'\n",
       "\\item 'date\\_bp'\n",
       "\\item 'blood\\_pressure'\n",
       "\\item 'sbp\\_value'\n",
       "\\item 'dbp\\_value'\n",
       "\\end{enumerate*}\n"
      ],
      "text/markdown": [
       "1. 'person_id'\n",
       "2. 'date_bp'\n",
       "3. 'blood_pressure'\n",
       "4. 'sbp_value'\n",
       "5. 'dbp_value'\n",
       "\n",
       "\n"
      ],
      "text/plain": [
       "[1] \"person_id\"      \"date_bp\"        \"blood_pressure\" \"sbp_value\"     \n",
       "[5] \"dbp_value\"     "
      ]
     },
     "metadata": {},
     "output_type": "display_data"
    }
   ],
   "source": [
    "colnames(bp)\n",
    "cholesterol$cholesterol <- as.integer(cholesterol$cholesterol)\n",
    "BMI$bmi <- as.integer(BMI$bmi)\n",
    "smoking$smoking <- as.integer(smoking$smoking)\n",
    "bp$blood_pressure <- as.integer(bp$blood_pressure)\n",
    "#renal$renal_disease <- as.integer(renal$renal_disease)\n",
    "renal_CR$creatinine <- as.integer(renal_CR$creatinine)\n",
    "renal_AL$acr <- as.integer(renal_AL$acr)\n",
    "renal_EGFR$egfr <- as.integer(renal_EGFR$egfr)"
   ]
  },
  {
   "cell_type": "code",
   "execution_count": 50,
   "id": "03afb2d6-749f-4250-a5c4-45c9c41cea7c",
   "metadata": {},
   "outputs": [],
   "source": [
    "# Make sure date variables are class 'Date'\n",
    "cholesterol$date_cholesterol <- as.Date(cholesterol$date_cholesterol)\n",
    "BMI$date_bmi <- as.Date(BMI$date_bmi)\n",
    "smoking$date_smoking <- as.Date(smoking$date_smoking)\n",
    "bp$date_bp <- as.Date(bp$date_bp)\n",
    "renal_CR$date_creatinine <- as.Date(renal_CR$date_creatinine)\n",
    "renal_AL$date_acr <- as.Date(renal_AL$date_acr)\n",
    "renal_EGFR$date_egfr <- as.Date(renal_EGFR$date_egfr)"
   ]
  },
  {
   "cell_type": "code",
   "execution_count": 51,
   "id": "5d01b9fd-950e-4357-ac37-9660db566789",
   "metadata": {},
   "outputs": [
    {
     "data": {
      "text/html": [
       "<table class=\"dataframe\">\n",
       "<caption>A tibble: 6 × 3</caption>\n",
       "<thead>\n",
       "\t<tr><th scope=col>person_id</th><th scope=col>date_cholesterol</th><th scope=col>cholesterol</th></tr>\n",
       "\t<tr><th scope=col>&lt;int&gt;</th><th scope=col>&lt;date&gt;</th><th scope=col>&lt;int&gt;</th></tr>\n",
       "</thead>\n",
       "<tbody>\n",
       "\t<tr><td>10403963</td><td>2016-10-11</td><td>2</td></tr>\n",
       "\t<tr><td>12810245</td><td>2005-07-07</td><td>2</td></tr>\n",
       "\t<tr><td>12431555</td><td>2005-10-13</td><td>2</td></tr>\n",
       "\t<tr><td>12783976</td><td>2018-09-26</td><td>2</td></tr>\n",
       "\t<tr><td>13661214</td><td>2011-01-31</td><td>2</td></tr>\n",
       "\t<tr><td>12665948</td><td>2005-09-09</td><td>1</td></tr>\n",
       "</tbody>\n",
       "</table>\n"
      ],
      "text/latex": [
       "A tibble: 6 × 3\n",
       "\\begin{tabular}{lll}\n",
       " person\\_id & date\\_cholesterol & cholesterol\\\\\n",
       " <int> & <date> & <int>\\\\\n",
       "\\hline\n",
       "\t 10403963 & 2016-10-11 & 2\\\\\n",
       "\t 12810245 & 2005-07-07 & 2\\\\\n",
       "\t 12431555 & 2005-10-13 & 2\\\\\n",
       "\t 12783976 & 2018-09-26 & 2\\\\\n",
       "\t 13661214 & 2011-01-31 & 2\\\\\n",
       "\t 12665948 & 2005-09-09 & 1\\\\\n",
       "\\end{tabular}\n"
      ],
      "text/markdown": [
       "\n",
       "A tibble: 6 × 3\n",
       "\n",
       "| person_id &lt;int&gt; | date_cholesterol &lt;date&gt; | cholesterol &lt;int&gt; |\n",
       "|---|---|---|\n",
       "| 10403963 | 2016-10-11 | 2 |\n",
       "| 12810245 | 2005-07-07 | 2 |\n",
       "| 12431555 | 2005-10-13 | 2 |\n",
       "| 12783976 | 2018-09-26 | 2 |\n",
       "| 13661214 | 2011-01-31 | 2 |\n",
       "| 12665948 | 2005-09-09 | 1 |\n",
       "\n"
      ],
      "text/plain": [
       "  person_id date_cholesterol cholesterol\n",
       "1 10403963  2016-10-11       2          \n",
       "2 12810245  2005-07-07       2          \n",
       "3 12431555  2005-10-13       2          \n",
       "4 12783976  2018-09-26       2          \n",
       "5 13661214  2011-01-31       2          \n",
       "6 12665948  2005-09-09       1          "
      ]
     },
     "metadata": {},
     "output_type": "display_data"
    }
   ],
   "source": [
    "head(cholesterol)"
   ]
  },
  {
   "cell_type": "code",
   "execution_count": 52,
   "id": "b629e26c-37e7-4a11-a5d9-90cdd3700385",
   "metadata": {},
   "outputs": [],
   "source": [
    "# keep dates only between 2006-2018 i.e. a maximum of 1 year before/after diabetes diagnosis\n",
    "cholesterol <- cholesterol %>%\n",
    "    mutate(within_date = ifelse(date_cholesterol >= \"2006-01-01\" & date_cholesterol <= \"2018-12-31\",1,0))\n",
    "BMI <- BMI %>%\n",
    "    mutate(within_date = ifelse(date_bmi >= \"2006-01-01\" & date_bmi <= \"2018-12-31\",1,0))\n",
    "smoking <- smoking %>%\n",
    "    mutate(within_date = ifelse(date_smoking >= \"2006-01-01\" & date_smoking <= \"2018-12-31\",1,0))\n",
    "bp <- bp %>%\n",
    "    mutate(within_date = ifelse(date_bp >= \"2006-01-01\" & date_bp <= \"2018-12-31\",1,0))\n",
    "renal_CR <- renal_CR %>%\n",
    "    mutate(within_date = ifelse(date_creatinine >= \"2006-01-01\" & date_creatinine <= \"2018-12-31\",1,0))\n",
    "renal_AL <- renal_AL %>%\n",
    "    mutate(within_date = ifelse(date_acr >= \"2006-01-01\" & date_acr <= \"2018-12-31\",1,0))\n",
    "renal_EGFR <- renal_EGFR %>%\n",
    "    mutate(within_date = ifelse(date_egfr >= \"2006-01-01\" & date_egfr <= \"2018-12-31\",1,0))"
   ]
  },
  {
   "cell_type": "code",
   "execution_count": 53,
   "id": "011a1136-a42e-49ed-978d-dc55854a576e",
   "metadata": {},
   "outputs": [
    {
     "data": {
      "text/plain": [
       "\n",
       "   0    1 \n",
       "7918 6284 "
      ]
     },
     "metadata": {},
     "output_type": "display_data"
    },
    {
     "data": {
      "text/plain": [
       "\n",
       "      0       1 \n",
       "2061283 3464343 "
      ]
     },
     "metadata": {},
     "output_type": "display_data"
    },
    {
     "data": {
      "text/plain": [
       "\n",
       "      0       1 \n",
       " 796357 1942955 "
      ]
     },
     "metadata": {},
     "output_type": "display_data"
    },
    {
     "data": {
      "text/plain": [
       "\n",
       "     0      1 \n",
       "192654 276572 "
      ]
     },
     "metadata": {},
     "output_type": "display_data"
    },
    {
     "data": {
      "text/plain": [
       "\n",
       "      0       1 \n",
       "1660842 2999851 "
      ]
     },
     "metadata": {},
     "output_type": "display_data"
    },
    {
     "data": {
      "text/plain": [
       "\n",
       "     0      1 \n",
       "166085 424256 "
      ]
     },
     "metadata": {},
     "output_type": "display_data"
    },
    {
     "data": {
      "text/plain": [
       "\n",
       "   0    1 \n",
       "1745  679 "
      ]
     },
     "metadata": {},
     "output_type": "display_data"
    }
   ],
   "source": [
    "table(cholesterol$within_date)\n",
    "table(BMI$within_date)\n",
    "table(smoking$within_date)\n",
    "table(bp$within_date)\n",
    "table(renal_CR$within_date)\n",
    "table(renal_AL$within_date)\n",
    "table(renal_EGFR$within_date)\n",
    "\n",
    "# Keep only those within the dates\n",
    "cholesterol <- cholesterol %>%\n",
    "    filter(!within_date == 0) %>%\n",
    "    select(-within_date)\n",
    "BMI <- BMI %>%\n",
    "    filter(!within_date == 0) %>%\n",
    "    select(-within_date)\n",
    "smoking <- smoking %>%\n",
    "    filter(!within_date == 0) %>%\n",
    "    select(-within_date)\n",
    "bp <- bp %>%\n",
    "    filter(!within_date == 0) %>%\n",
    "    select(-within_date)\n",
    "renal_CR <- renal_CR %>%\n",
    "    filter(!within_date == 0) %>%\n",
    "    select(-within_date)\n",
    "renal_AL <- renal_AL %>%\n",
    "    filter(!within_date == 0) %>%\n",
    "    select(-within_date)\n",
    "renal_EGFR <- renal_EGFR %>%\n",
    "    filter(!within_date == 0) %>%\n",
    "    select(-within_date)"
   ]
  },
  {
   "cell_type": "code",
   "execution_count": 28,
   "id": "4fac6a94-f663-406a-9e90-56ae030a02da",
   "metadata": {},
   "outputs": [
    {
     "data": {
      "text/html": [
       "<table class=\"dataframe\">\n",
       "<caption>A tibble: 6 × 3</caption>\n",
       "<thead>\n",
       "\t<tr><th scope=col>person_id</th><th scope=col>date_cholesterol</th><th scope=col>cholesterol</th></tr>\n",
       "\t<tr><th scope=col>&lt;int&gt;</th><th scope=col>&lt;date&gt;</th><th scope=col>&lt;int&gt;</th></tr>\n",
       "</thead>\n",
       "<tbody>\n",
       "\t<tr><td>12696370</td><td>2022-04-12</td><td>1</td></tr>\n",
       "\t<tr><td>14853123</td><td>2015-11-11</td><td>2</td></tr>\n",
       "\t<tr><td>12783976</td><td>2018-09-26</td><td>2</td></tr>\n",
       "\t<tr><td>13661214</td><td>2011-01-31</td><td>2</td></tr>\n",
       "\t<tr><td>13579953</td><td>2018-05-02</td><td>2</td></tr>\n",
       "\t<tr><td>10425848</td><td>2020-03-06</td><td>2</td></tr>\n",
       "</tbody>\n",
       "</table>\n"
      ],
      "text/latex": [
       "A tibble: 6 × 3\n",
       "\\begin{tabular}{lll}\n",
       " person\\_id & date\\_cholesterol & cholesterol\\\\\n",
       " <int> & <date> & <int>\\\\\n",
       "\\hline\n",
       "\t 12696370 & 2022-04-12 & 1\\\\\n",
       "\t 14853123 & 2015-11-11 & 2\\\\\n",
       "\t 12783976 & 2018-09-26 & 2\\\\\n",
       "\t 13661214 & 2011-01-31 & 2\\\\\n",
       "\t 13579953 & 2018-05-02 & 2\\\\\n",
       "\t 10425848 & 2020-03-06 & 2\\\\\n",
       "\\end{tabular}\n"
      ],
      "text/markdown": [
       "\n",
       "A tibble: 6 × 3\n",
       "\n",
       "| person_id &lt;int&gt; | date_cholesterol &lt;date&gt; | cholesterol &lt;int&gt; |\n",
       "|---|---|---|\n",
       "| 12696370 | 2022-04-12 | 1 |\n",
       "| 14853123 | 2015-11-11 | 2 |\n",
       "| 12783976 | 2018-09-26 | 2 |\n",
       "| 13661214 | 2011-01-31 | 2 |\n",
       "| 13579953 | 2018-05-02 | 2 |\n",
       "| 10425848 | 2020-03-06 | 2 |\n",
       "\n"
      ],
      "text/plain": [
       "  person_id date_cholesterol cholesterol\n",
       "1 12696370  2022-04-12       1          \n",
       "2 14853123  2015-11-11       2          \n",
       "3 12783976  2018-09-26       2          \n",
       "4 13661214  2011-01-31       2          \n",
       "5 13579953  2018-05-02       2          \n",
       "6 10425848  2020-03-06       2          "
      ]
     },
     "metadata": {},
     "output_type": "display_data"
    }
   ],
   "source": [
    "head(cholesterol)"
   ]
  },
  {
   "cell_type": "code",
   "execution_count": 54,
   "id": "66b3cc94-5813-46fc-8406-51d27f367b19",
   "metadata": {},
   "outputs": [
    {
     "data": {
      "text/html": [
       "6284"
      ],
      "text/latex": [
       "6284"
      ],
      "text/markdown": [
       "6284"
      ],
      "text/plain": [
       "[1] 6284"
      ]
     },
     "metadata": {},
     "output_type": "display_data"
    },
    {
     "data": {
      "text/html": [
       "3464343"
      ],
      "text/latex": [
       "3464343"
      ],
      "text/markdown": [
       "3464343"
      ],
      "text/plain": [
       "[1] 3464343"
      ]
     },
     "metadata": {},
     "output_type": "display_data"
    },
    {
     "data": {
      "text/html": [
       "1942955"
      ],
      "text/latex": [
       "1942955"
      ],
      "text/markdown": [
       "1942955"
      ],
      "text/plain": [
       "[1] 1942955"
      ]
     },
     "metadata": {},
     "output_type": "display_data"
    },
    {
     "data": {
      "text/html": [
       "276572"
      ],
      "text/latex": [
       "276572"
      ],
      "text/markdown": [
       "276572"
      ],
      "text/plain": [
       "[1] 276572"
      ]
     },
     "metadata": {},
     "output_type": "display_data"
    },
    {
     "data": {
      "text/html": [
       "2999851"
      ],
      "text/latex": [
       "2999851"
      ],
      "text/markdown": [
       "2999851"
      ],
      "text/plain": [
       "[1] 2999851"
      ]
     },
     "metadata": {},
     "output_type": "display_data"
    },
    {
     "data": {
      "text/html": [
       "424256"
      ],
      "text/latex": [
       "424256"
      ],
      "text/markdown": [
       "424256"
      ],
      "text/plain": [
       "[1] 424256"
      ]
     },
     "metadata": {},
     "output_type": "display_data"
    },
    {
     "data": {
      "text/html": [
       "679"
      ],
      "text/latex": [
       "679"
      ],
      "text/markdown": [
       "679"
      ],
      "text/plain": [
       "[1] 679"
      ]
     },
     "metadata": {},
     "output_type": "display_data"
    }
   ],
   "source": [
    "nrow(cholesterol)\n",
    "nrow(BMI)\n",
    "nrow(smoking)\n",
    "nrow(bp)\n",
    "nrow(renal_CR)\n",
    "nrow(renal_AL)\n",
    "nrow(renal_EGFR)"
   ]
  },
  {
   "cell_type": "code",
   "execution_count": null,
   "id": "f8c0cb39-c256-4798-9d3b-67b94aa15fe8",
   "metadata": {},
   "outputs": [],
   "source": []
  },
  {
   "cell_type": "code",
   "execution_count": 55,
   "id": "b30b8c38-0c10-4882-b68d-6eb93fe1e5de",
   "metadata": {},
   "outputs": [],
   "source": [
    "bq_auth()"
   ]
  },
  {
   "cell_type": "code",
   "execution_count": null,
   "id": "d10f9be5-3b48-4ad4-905d-495b07821983",
   "metadata": {},
   "outputs": [],
   "source": [
    "# save each dataset\n",
    "dest_dataset <- bq_dataset(\"yhcr-prd-phm-bia-core\",\"CB_MYSPACE_AH\")\n",
    "# Cholesterol\n",
    "dest_table <- bq_table(dest_dataset, \"Cholesterol\")\n",
    "dest_fields <- bq_fields(list(bq_field(\"person_id\", \"INT64\", \"REQUIRED\"),\n",
    "                              bq_field(\"date_cholesterol\", \"DATE\"),\n",
    "                              bq_field(\"cholesterol\", \"INT64\")))\n",
    "if(bq_table_exists(dest_table)) bq_table_delete(dest_table)\n",
    "bq_table_upload(dest_table, cholesterol, fields = dest_fields, create_disposition='CREATE_IF_NEEDED', write_disposition='WRITE_TRUNCATE')\n",
    "# BMI\n",
    "dest_table <- bq_table(dest_dataset, \"BMI\")\n",
    "dest_fields <- bq_fields(list(bq_field(\"person_id\", \"INT64\", \"REQUIRED\"),\n",
    "                              bq_field(\"date_bmi\", \"DATE\"),\n",
    "                              bq_field(\"bmi\", \"INT64\"),\n",
    "                              bq_field(\"bmi_value\", \"FLOAT64\")))\n",
    "if(bq_table_exists(dest_table)) bq_table_delete(dest_table)\n",
    "bq_table_upload(dest_table, BMI, fields = dest_fields, create_disposition='CREATE_IF_NEEDED', write_disposition='WRITE_TRUNCATE')\n",
    "# Smoking\n",
    "dest_table <- bq_table(dest_dataset, \"Smoking\")\n",
    "dest_fields <- bq_fields(list(bq_field(\"person_id\", \"INT64\", \"REQUIRED\"),\n",
    "                              bq_field(\"date_smoking\", \"DATE\"),\n",
    "                              bq_field(\"smoking\", \"INT64\")))\n",
    "if(bq_table_exists(dest_table)) bq_table_delete(dest_table)\n",
    "bq_table_upload(dest_table, smoking, fields = dest_fields, create_disposition='CREATE_IF_NEEDED', write_disposition='WRITE_TRUNCATE')\n",
    "# Blood Pressure\n",
    "dest_table <- bq_table(dest_dataset, \"Blood_Pressure\")\n",
    "dest_fields <- bq_fields(list(bq_field(\"person_id\", \"INT64\", \"REQUIRED\"),\n",
    "                              bq_field(\"date_bp\", \"DATE\"),\n",
    "                              bq_field(\"blood_pressure\", \"INT64\"),\n",
    "                              bq_field(\"sbp_value\", \"FLOAT64\"),\n",
    "                              bq_field(\"dbp_value\", \"FLOAT64\")))\n",
    "if(bq_table_exists(dest_table)) bq_table_delete(dest_table)\n",
    "bq_table_upload(dest_table, bp, fields = dest_fields, create_disposition='CREATE_IF_NEEDED', write_disposition='WRITE_TRUNCATE')\n",
    "\n",
    "# Renal disease: Creatinine\n",
    "dest_table <- bq_table(dest_dataset, \"Creatinine\")\n",
    "dest_fields <- bq_fields(list(bq_field(\"person_id\", \"INT64\", \"REQUIRED\"),\n",
    "                              bq_field(\"date_creatinine\", \"DATE\"),\n",
    "                              bq_field(\"creatinine\", \"INT64\")))\n",
    "if(bq_table_exists(dest_table)) bq_table_delete(dest_table)\n",
    "bq_table_upload(dest_table, renal_CR, fields = dest_fields, create_disposition='CREATE_IF_NEEDED', write_disposition='WRITE_TRUNCATE')\n",
    "\n",
    "# Renal disease: ACR\n",
    "dest_table <- bq_table(dest_dataset, \"ACR\")\n",
    "dest_fields <- bq_fields(list(bq_field(\"person_id\", \"INT64\", \"REQUIRED\"),\n",
    "                              bq_field(\"date_acr\", \"DATE\"),\n",
    "                              bq_field(\"acr\", \"INT64\")))\n",
    "if(bq_table_exists(dest_table)) bq_table_delete(dest_table)\n",
    "bq_table_upload(dest_table, renal_AL, fields = dest_fields, create_disposition='CREATE_IF_NEEDED', write_disposition='WRITE_TRUNCATE')\n",
    "\n",
    "# Renal disease: eGFR\n",
    "dest_table <- bq_table(dest_dataset, \"eGFR\")\n",
    "dest_fields <- bq_fields(list(bq_field(\"person_id\", \"INT64\", \"REQUIRED\"),\n",
    "                              bq_field(\"date_egfr\", \"DATE\"),\n",
    "                              bq_field(\"egfr\", \"INT64\")))\n",
    "if(bq_table_exists(dest_table)) bq_table_delete(dest_table)\n",
    "bq_table_upload(dest_table, renal_EGFR, fields = dest_fields, create_disposition='CREATE_IF_NEEDED', write_disposition='WRITE_TRUNCATE')"
   ]
  },
  {
   "cell_type": "code",
   "execution_count": 35,
   "id": "033551a2-8fd2-480f-9b96-5b83bf744ea7",
   "metadata": {},
   "outputs": [
    {
     "data": {
      "text/html": [
       "<style>\n",
       ".list-inline {list-style: none; margin:0; padding: 0}\n",
       ".list-inline>li {display: inline-block}\n",
       ".list-inline>li:not(:last-child)::after {content: \"\\00b7\"; padding: 0 .5ex}\n",
       "</style>\n",
       "<ol class=list-inline><li>'person_id'</li><li>'date_bmi'</li><li>'bmi'</li><li>'bmi_value'</li></ol>\n"
      ],
      "text/latex": [
       "\\begin{enumerate*}\n",
       "\\item 'person\\_id'\n",
       "\\item 'date\\_bmi'\n",
       "\\item 'bmi'\n",
       "\\item 'bmi\\_value'\n",
       "\\end{enumerate*}\n"
      ],
      "text/markdown": [
       "1. 'person_id'\n",
       "2. 'date_bmi'\n",
       "3. 'bmi'\n",
       "4. 'bmi_value'\n",
       "\n",
       "\n"
      ],
      "text/plain": [
       "[1] \"person_id\" \"date_bmi\"  \"bmi\"       \"bmi_value\""
      ]
     },
     "metadata": {},
     "output_type": "display_data"
    },
    {
     "data": {
      "text/html": [
       "'numeric'"
      ],
      "text/latex": [
       "'numeric'"
      ],
      "text/markdown": [
       "'numeric'"
      ],
      "text/plain": [
       "[1] \"numeric\""
      ]
     },
     "metadata": {},
     "output_type": "display_data"
    },
    {
     "data": {
      "text/html": [
       "<style>\n",
       ".list-inline {list-style: none; margin:0; padding: 0}\n",
       ".list-inline>li {display: inline-block}\n",
       ".list-inline>li:not(:last-child)::after {content: \"\\00b7\"; padding: 0 .5ex}\n",
       "</style>\n",
       "<ol class=list-inline><li>'person_id'</li><li>'date_bp'</li><li>'blood_pressure'</li><li>'sbp_value'</li><li>'dbp_value'</li></ol>\n"
      ],
      "text/latex": [
       "\\begin{enumerate*}\n",
       "\\item 'person\\_id'\n",
       "\\item 'date\\_bp'\n",
       "\\item 'blood\\_pressure'\n",
       "\\item 'sbp\\_value'\n",
       "\\item 'dbp\\_value'\n",
       "\\end{enumerate*}\n"
      ],
      "text/markdown": [
       "1. 'person_id'\n",
       "2. 'date_bp'\n",
       "3. 'blood_pressure'\n",
       "4. 'sbp_value'\n",
       "5. 'dbp_value'\n",
       "\n",
       "\n"
      ],
      "text/plain": [
       "[1] \"person_id\"      \"date_bp\"        \"blood_pressure\" \"sbp_value\"     \n",
       "[5] \"dbp_value\"     "
      ]
     },
     "metadata": {},
     "output_type": "display_data"
    }
   ],
   "source": [
    "colnames(BMI)\n",
    "class(BMI$bmi_value)\n",
    "colnames(bp)"
   ]
  }
 ],
 "metadata": {
  "environment": {
   "kernel": "ir",
   "name": "r-cpu.4-2.m111",
   "type": "gcloud",
   "uri": "gcr.io/deeplearning-platform-release/r-cpu.4-2:m111"
  },
  "kernelspec": {
   "display_name": "R",
   "language": "R",
   "name": "ir"
  },
  "language_info": {
   "codemirror_mode": "r",
   "file_extension": ".r",
   "mimetype": "text/x-r-source",
   "name": "R",
   "pygments_lexer": "r",
   "version": "4.3.1"
  }
 },
 "nbformat": 4,
 "nbformat_minor": 5
}
