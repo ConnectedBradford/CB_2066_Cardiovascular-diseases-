{
 "cells": [
  {
   "cell_type": "code",
   "execution_count": 1,
   "id": "5c6bac70-1cc4-4e13-9d3a-498f285e3c01",
   "metadata": {},
   "outputs": [
    {
     "name": "stderr",
     "output_type": "stream",
     "text": [
      "── \u001b[1mAttaching core tidyverse packages\u001b[22m ──────────────────────── tidyverse 2.0.0 ──\n",
      "\u001b[32m✔\u001b[39m \u001b[34mdplyr    \u001b[39m 1.1.2     \u001b[32m✔\u001b[39m \u001b[34mreadr    \u001b[39m 2.1.4\n",
      "\u001b[32m✔\u001b[39m \u001b[34mforcats  \u001b[39m 1.0.0     \u001b[32m✔\u001b[39m \u001b[34mstringr  \u001b[39m 1.5.0\n",
      "\u001b[32m✔\u001b[39m \u001b[34mggplot2  \u001b[39m 3.4.4     \u001b[32m✔\u001b[39m \u001b[34mtibble   \u001b[39m 3.2.1\n",
      "\u001b[32m✔\u001b[39m \u001b[34mlubridate\u001b[39m 1.9.2     \u001b[32m✔\u001b[39m \u001b[34mtidyr    \u001b[39m 1.3.0\n",
      "\u001b[32m✔\u001b[39m \u001b[34mpurrr    \u001b[39m 1.0.2     \n",
      "── \u001b[1mConflicts\u001b[22m ────────────────────────────────────────── tidyverse_conflicts() ──\n",
      "\u001b[31m✖\u001b[39m \u001b[34mdplyr\u001b[39m::\u001b[32mfilter()\u001b[39m masks \u001b[34mstats\u001b[39m::filter()\n",
      "\u001b[31m✖\u001b[39m \u001b[34mdplyr\u001b[39m::\u001b[32mlag()\u001b[39m    masks \u001b[34mstats\u001b[39m::lag()\n",
      "\u001b[36mℹ\u001b[39m Use the conflicted package (\u001b[3m\u001b[34m<http://conflicted.r-lib.org/>\u001b[39m\u001b[23m) to force all conflicts to become errors\n"
     ]
    }
   ],
   "source": [
    "library(bigrquery)\n",
    "library(tidyverse)\n",
    "library(lubridate)"
   ]
  },
  {
   "cell_type": "code",
   "execution_count": 2,
   "id": "ba212c96-9e47-444e-ace5-4654b2aeef3a",
   "metadata": {},
   "outputs": [],
   "source": [
    "# Store the project ID\n",
    "projectid = \"yhcr-prd-phm-bia-core\""
   ]
  },
  {
   "cell_type": "code",
   "execution_count": 3,
   "id": "76c82b0e-a7fb-48e9-a34d-84c2ff897de1",
   "metadata": {},
   "outputs": [],
   "source": [
    "# Set your query\n",
    "sql1 <- \"SELECT * FROM `yhcr-prd-phm-bia-core.CB_MYSPACE_AH.Type1Diabetes`\"\n",
    "sql2 <- \"SELECT * FROM `yhcr-prd-phm-bia-core.CB_MYSPACE_AH.Type2Diabetes`\"\n",
    "sql3 <- \"SELECT * FROM `yhcr-prd-phm-bia-core.CB_MYSPACE_AH.Diabetic_Meds`\"\n",
    "\n",
    "# Run the query; this returns a bq_table object that you can query further\n",
    "tb1 <- bq_project_query(projectid, sql1)\n",
    "tb2 <- bq_project_query(projectid, sql2)\n",
    "tb3 <- bq_project_query(projectid, sql3)\n",
    "\n",
    "# Store data in a tibble\n",
    "t1d <-bq_table_download(tb1)\n",
    "t2d <-bq_table_download(tb2)\n",
    "meds <-bq_table_download(tb3)"
   ]
  },
  {
   "cell_type": "code",
   "execution_count": 4,
   "id": "1d2e7df3-1e14-4f59-8248-b90ae4b580d0",
   "metadata": {},
   "outputs": [
    {
     "data": {
      "text/html": [
       "<table class=\"dataframe\">\n",
       "<caption>A tibble: 6 × 5</caption>\n",
       "<thead>\n",
       "\t<tr><th scope=col>person_id</th><th scope=col>src_dateevent.x</th><th scope=col>t1d_status</th><th scope=col>src_dateevent.y</th><th scope=col>t2d_status</th></tr>\n",
       "\t<tr><th scope=col>&lt;int&gt;</th><th scope=col>&lt;date&gt;</th><th scope=col>&lt;int&gt;</th><th scope=col>&lt;date&gt;</th><th scope=col>&lt;int&gt;</th></tr>\n",
       "</thead>\n",
       "<tbody>\n",
       "\t<tr><td>12822328</td><td>2007-11-07</td><td>1</td><td>NA</td><td>NA</td></tr>\n",
       "\t<tr><td>  711752</td><td>2009-12-14</td><td>1</td><td>NA</td><td>NA</td></tr>\n",
       "\t<tr><td>13561032</td><td>2009-12-14</td><td>1</td><td>NA</td><td>NA</td></tr>\n",
       "\t<tr><td>12763062</td><td>2014-02-27</td><td>1</td><td>NA</td><td>NA</td></tr>\n",
       "\t<tr><td>12883541</td><td>2014-02-27</td><td>1</td><td>2011-10-28</td><td> 1</td></tr>\n",
       "\t<tr><td>13481752</td><td>2015-07-24</td><td>1</td><td>NA</td><td>NA</td></tr>\n",
       "</tbody>\n",
       "</table>\n"
      ],
      "text/latex": [
       "A tibble: 6 × 5\n",
       "\\begin{tabular}{lllll}\n",
       " person\\_id & src\\_dateevent.x & t1d\\_status & src\\_dateevent.y & t2d\\_status\\\\\n",
       " <int> & <date> & <int> & <date> & <int>\\\\\n",
       "\\hline\n",
       "\t 12822328 & 2007-11-07 & 1 & NA & NA\\\\\n",
       "\t   711752 & 2009-12-14 & 1 & NA & NA\\\\\n",
       "\t 13561032 & 2009-12-14 & 1 & NA & NA\\\\\n",
       "\t 12763062 & 2014-02-27 & 1 & NA & NA\\\\\n",
       "\t 12883541 & 2014-02-27 & 1 & 2011-10-28 &  1\\\\\n",
       "\t 13481752 & 2015-07-24 & 1 & NA & NA\\\\\n",
       "\\end{tabular}\n"
      ],
      "text/markdown": [
       "\n",
       "A tibble: 6 × 5\n",
       "\n",
       "| person_id &lt;int&gt; | src_dateevent.x &lt;date&gt; | t1d_status &lt;int&gt; | src_dateevent.y &lt;date&gt; | t2d_status &lt;int&gt; |\n",
       "|---|---|---|---|---|\n",
       "| 12822328 | 2007-11-07 | 1 | NA | NA |\n",
       "|   711752 | 2009-12-14 | 1 | NA | NA |\n",
       "| 13561032 | 2009-12-14 | 1 | NA | NA |\n",
       "| 12763062 | 2014-02-27 | 1 | NA | NA |\n",
       "| 12883541 | 2014-02-27 | 1 | 2011-10-28 |  1 |\n",
       "| 13481752 | 2015-07-24 | 1 | NA | NA |\n",
       "\n"
      ],
      "text/plain": [
       "  person_id src_dateevent.x t1d_status src_dateevent.y t2d_status\n",
       "1 12822328  2007-11-07      1          <NA>            NA        \n",
       "2   711752  2009-12-14      1          <NA>            NA        \n",
       "3 13561032  2009-12-14      1          <NA>            NA        \n",
       "4 12763062  2014-02-27      1          <NA>            NA        \n",
       "5 12883541  2014-02-27      1          2011-10-28       1        \n",
       "6 13481752  2015-07-24      1          <NA>            NA        "
      ]
     },
     "metadata": {},
     "output_type": "display_data"
    }
   ],
   "source": [
    "# join t1d and t2d tables\n",
    "diabetes <- full_join(t1d, t2d, by = \"person_id\")\n",
    "head(diabetes)\n",
    "rm(t1d, t2d)"
   ]
  },
  {
   "cell_type": "code",
   "execution_count": 5,
   "id": "30abf159-28ce-4833-aaf0-ffeabeffdb27",
   "metadata": {},
   "outputs": [
    {
     "data": {
      "text/html": [
       "<table class=\"dataframe\">\n",
       "<caption>A tibble: 6 × 6</caption>\n",
       "<thead>\n",
       "\t<tr><th scope=col>person_id</th><th scope=col>date_t1d_diag</th><th scope=col>t1d_status</th><th scope=col>date_t2d_diag</th><th scope=col>t2d_status</th><th scope=col>any_diabetes</th></tr>\n",
       "\t<tr><th scope=col>&lt;int&gt;</th><th scope=col>&lt;date&gt;</th><th scope=col>&lt;dbl&gt;</th><th scope=col>&lt;date&gt;</th><th scope=col>&lt;dbl&gt;</th><th scope=col>&lt;dbl&gt;</th></tr>\n",
       "</thead>\n",
       "<tbody>\n",
       "\t<tr><td>12822328</td><td>2007-11-07</td><td>1</td><td>NA</td><td>0</td><td>1</td></tr>\n",
       "\t<tr><td>  711752</td><td>2009-12-14</td><td>1</td><td>NA</td><td>0</td><td>1</td></tr>\n",
       "\t<tr><td>13561032</td><td>2009-12-14</td><td>1</td><td>NA</td><td>0</td><td>1</td></tr>\n",
       "\t<tr><td>12763062</td><td>2014-02-27</td><td>1</td><td>NA</td><td>0</td><td>1</td></tr>\n",
       "\t<tr><td>12883541</td><td>2014-02-27</td><td>1</td><td>2011-10-28</td><td>1</td><td>1</td></tr>\n",
       "\t<tr><td>13481752</td><td>2015-07-24</td><td>1</td><td>NA</td><td>0</td><td>1</td></tr>\n",
       "</tbody>\n",
       "</table>\n"
      ],
      "text/latex": [
       "A tibble: 6 × 6\n",
       "\\begin{tabular}{llllll}\n",
       " person\\_id & date\\_t1d\\_diag & t1d\\_status & date\\_t2d\\_diag & t2d\\_status & any\\_diabetes\\\\\n",
       " <int> & <date> & <dbl> & <date> & <dbl> & <dbl>\\\\\n",
       "\\hline\n",
       "\t 12822328 & 2007-11-07 & 1 & NA & 0 & 1\\\\\n",
       "\t   711752 & 2009-12-14 & 1 & NA & 0 & 1\\\\\n",
       "\t 13561032 & 2009-12-14 & 1 & NA & 0 & 1\\\\\n",
       "\t 12763062 & 2014-02-27 & 1 & NA & 0 & 1\\\\\n",
       "\t 12883541 & 2014-02-27 & 1 & 2011-10-28 & 1 & 1\\\\\n",
       "\t 13481752 & 2015-07-24 & 1 & NA & 0 & 1\\\\\n",
       "\\end{tabular}\n"
      ],
      "text/markdown": [
       "\n",
       "A tibble: 6 × 6\n",
       "\n",
       "| person_id &lt;int&gt; | date_t1d_diag &lt;date&gt; | t1d_status &lt;dbl&gt; | date_t2d_diag &lt;date&gt; | t2d_status &lt;dbl&gt; | any_diabetes &lt;dbl&gt; |\n",
       "|---|---|---|---|---|---|\n",
       "| 12822328 | 2007-11-07 | 1 | NA | 0 | 1 |\n",
       "|   711752 | 2009-12-14 | 1 | NA | 0 | 1 |\n",
       "| 13561032 | 2009-12-14 | 1 | NA | 0 | 1 |\n",
       "| 12763062 | 2014-02-27 | 1 | NA | 0 | 1 |\n",
       "| 12883541 | 2014-02-27 | 1 | 2011-10-28 | 1 | 1 |\n",
       "| 13481752 | 2015-07-24 | 1 | NA | 0 | 1 |\n",
       "\n"
      ],
      "text/plain": [
       "  person_id date_t1d_diag t1d_status date_t2d_diag t2d_status any_diabetes\n",
       "1 12822328  2007-11-07    1          <NA>          0          1           \n",
       "2   711752  2009-12-14    1          <NA>          0          1           \n",
       "3 13561032  2009-12-14    1          <NA>          0          1           \n",
       "4 12763062  2014-02-27    1          <NA>          0          1           \n",
       "5 12883541  2014-02-27    1          2011-10-28    1          1           \n",
       "6 13481752  2015-07-24    1          <NA>          0          1           "
      ]
     },
     "metadata": {},
     "output_type": "display_data"
    }
   ],
   "source": [
    "diabetes <- diabetes %>%\n",
    "    mutate(t1d_status = ifelse(is.na(t1d_status),0,1)) %>%\n",
    "    mutate(t2d_status = ifelse(is.na(t2d_status),0,1)) %>%\n",
    "    rename(date_t1d_diag = src_dateevent.x) %>%\n",
    "    rename(date_t2d_diag = src_dateevent.y) %>%\n",
    "    mutate(any_diabetes = ifelse(t1d_status == 1 | t2d_status == 1,1,0))\n",
    "\n",
    "head(diabetes)"
   ]
  },
  {
   "cell_type": "code",
   "execution_count": 7,
   "id": "61a6e86c-5f29-4539-a9a6-2163fdee0b28",
   "metadata": {},
   "outputs": [
    {
     "data": {
      "text/html": [
       "58973"
      ],
      "text/latex": [
       "58973"
      ],
      "text/markdown": [
       "58973"
      ],
      "text/plain": [
       "[1] 58973"
      ]
     },
     "metadata": {},
     "output_type": "display_data"
    },
    {
     "name": "stdout",
     "output_type": "stream",
     "text": [
      "[1] \"type 1 and type 2 diabetes\"\n"
     ]
    },
    {
     "data": {
      "text/plain": [
       "   \n",
       "        0     1\n",
       "  0     0 55923\n",
       "  1  2371   679"
      ]
     },
     "metadata": {},
     "output_type": "display_data"
    },
    {
     "name": "stdout",
     "output_type": "stream",
     "text": [
      "[1] \"type 1 diabetes\"\n"
     ]
    },
    {
     "data": {
      "text/plain": [
       "\n",
       "    0     1 \n",
       "55923  3050 "
      ]
     },
     "metadata": {},
     "output_type": "display_data"
    },
    {
     "name": "stdout",
     "output_type": "stream",
     "text": [
      "[1] \"type 2 diabetes\"\n"
     ]
    },
    {
     "data": {
      "text/plain": [
       "\n",
       "    0     1 \n",
       " 2371 56602 "
      ]
     },
     "metadata": {},
     "output_type": "display_data"
    },
    {
     "data": {
      "text/html": [
       "0"
      ],
      "text/latex": [
       "0"
      ],
      "text/markdown": [
       "0"
      ],
      "text/plain": [
       "[1] 0"
      ]
     },
     "metadata": {},
     "output_type": "display_data"
    }
   ],
   "source": [
    "nrow(diabetes)\n",
    "print(\"type 1 and type 2 diabetes\")\n",
    "table(diabetes$t1d_status, diabetes$t2d_status)\n",
    "print(\"type 1 diabetes\")\n",
    "table(diabetes$t1d_status)\n",
    "print(\"type 2 diabetes\")\n",
    "table(diabetes$t2d_status)\n",
    "sum(duplicated(diabetes))"
   ]
  },
  {
   "cell_type": "code",
   "execution_count": 8,
   "id": "d817d334-ee12-42e2-b54d-cf91de019fd0",
   "metadata": {},
   "outputs": [
    {
     "data": {
      "text/html": [
       "<table class=\"dataframe\">\n",
       "<caption>A tibble: 6 × 6</caption>\n",
       "<thead>\n",
       "\t<tr><th scope=col>person_id</th><th scope=col>birth_datetime</th><th scope=col>death_datetime</th><th scope=col>gender</th><th scope=col>ethnicity</th><th scope=col>imd_decile</th></tr>\n",
       "\t<tr><th scope=col>&lt;int&gt;</th><th scope=col>&lt;date&gt;</th><th scope=col>&lt;date&gt;</th><th scope=col>&lt;int&gt;</th><th scope=col>&lt;int&gt;</th><th scope=col>&lt;int&gt;</th></tr>\n",
       "</thead>\n",
       "<tbody>\n",
       "\t<tr><td>16813063</td><td>NA</td><td>NA</td><td>2</td><td>2</td><td>1</td></tr>\n",
       "\t<tr><td>16832562</td><td>NA</td><td>NA</td><td>1</td><td>3</td><td>1</td></tr>\n",
       "\t<tr><td>16769967</td><td>NA</td><td>NA</td><td>1</td><td>1</td><td>1</td></tr>\n",
       "\t<tr><td>16832450</td><td>NA</td><td>NA</td><td>1</td><td>2</td><td>1</td></tr>\n",
       "\t<tr><td>16814272</td><td>NA</td><td>NA</td><td>1</td><td>2</td><td>1</td></tr>\n",
       "\t<tr><td>13715865</td><td>NA</td><td>NA</td><td>1</td><td>2</td><td>1</td></tr>\n",
       "</tbody>\n",
       "</table>\n"
      ],
      "text/latex": [
       "A tibble: 6 × 6\n",
       "\\begin{tabular}{llllll}\n",
       " person\\_id & birth\\_datetime & death\\_datetime & gender & ethnicity & imd\\_decile\\\\\n",
       " <int> & <date> & <date> & <int> & <int> & <int>\\\\\n",
       "\\hline\n",
       "\t 16813063 & NA & NA & 2 & 2 & 1\\\\\n",
       "\t 16832562 & NA & NA & 1 & 3 & 1\\\\\n",
       "\t 16769967 & NA & NA & 1 & 1 & 1\\\\\n",
       "\t 16832450 & NA & NA & 1 & 2 & 1\\\\\n",
       "\t 16814272 & NA & NA & 1 & 2 & 1\\\\\n",
       "\t 13715865 & NA & NA & 1 & 2 & 1\\\\\n",
       "\\end{tabular}\n"
      ],
      "text/markdown": [
       "\n",
       "A tibble: 6 × 6\n",
       "\n",
       "| person_id &lt;int&gt; | birth_datetime &lt;date&gt; | death_datetime &lt;date&gt; | gender &lt;int&gt; | ethnicity &lt;int&gt; | imd_decile &lt;int&gt; |\n",
       "|---|---|---|---|---|---|\n",
       "| 16813063 | NA | NA | 2 | 2 | 1 |\n",
       "| 16832562 | NA | NA | 1 | 3 | 1 |\n",
       "| 16769967 | NA | NA | 1 | 1 | 1 |\n",
       "| 16832450 | NA | NA | 1 | 2 | 1 |\n",
       "| 16814272 | NA | NA | 1 | 2 | 1 |\n",
       "| 13715865 | NA | NA | 1 | 2 | 1 |\n",
       "\n"
      ],
      "text/plain": [
       "  person_id birth_datetime death_datetime gender ethnicity imd_decile\n",
       "1 16813063  <NA>           <NA>           2      2         1         \n",
       "2 16832562  <NA>           <NA>           1      3         1         \n",
       "3 16769967  <NA>           <NA>           1      1         1         \n",
       "4 16832450  <NA>           <NA>           1      2         1         \n",
       "5 16814272  <NA>           <NA>           1      2         1         \n",
       "6 13715865  <NA>           <NA>           1      2         1         "
      ]
     },
     "metadata": {},
     "output_type": "display_data"
    }
   ],
   "source": [
    "# Join patient table to diabetes patients\n",
    "sql3 <- \"SELECT * FROM `yhcr-prd-phm-bia-core.CB_MYSPACE_AH.Patient_Denom`\"\n",
    "tb3 <- bq_project_query(projectid, sql3)\n",
    "patient <- bq_table_download(tb3)\n",
    "head(patient)"
   ]
  },
  {
   "cell_type": "code",
   "execution_count": 9,
   "id": "c1cb48b3-6106-481c-98e7-ac39507f239d",
   "metadata": {},
   "outputs": [
    {
     "data": {
      "text/html": [
       "39"
      ],
      "text/latex": [
       "39"
      ],
      "text/markdown": [
       "39"
      ],
      "text/plain": [
       "[1] 39"
      ]
     },
     "metadata": {},
     "output_type": "display_data"
    },
    {
     "data": {
      "text/html": [
       "784186"
      ],
      "text/latex": [
       "784186"
      ],
      "text/markdown": [
       "784186"
      ],
      "text/plain": [
       "[1] 784186"
      ]
     },
     "metadata": {},
     "output_type": "display_data"
    }
   ],
   "source": [
    "sum(is.na(patient$birth_datetime))\n",
    "nrow(patient)"
   ]
  },
  {
   "cell_type": "code",
   "execution_count": 10,
   "id": "0a6b7c5e-b472-4f23-bfc1-9d2bbf3048a3",
   "metadata": {},
   "outputs": [
    {
     "data": {
      "text/html": [
       "<table class=\"dataframe\">\n",
       "<caption>A tibble: 6 × 11</caption>\n",
       "<thead>\n",
       "\t<tr><th scope=col>person_id</th><th scope=col>birth_datetime</th><th scope=col>death_datetime</th><th scope=col>gender</th><th scope=col>ethnicity</th><th scope=col>imd_decile</th><th scope=col>date_t1d_diag</th><th scope=col>t1d_status</th><th scope=col>date_t2d_diag</th><th scope=col>t2d_status</th><th scope=col>any_diabetes</th></tr>\n",
       "\t<tr><th scope=col>&lt;int&gt;</th><th scope=col>&lt;date&gt;</th><th scope=col>&lt;date&gt;</th><th scope=col>&lt;int&gt;</th><th scope=col>&lt;int&gt;</th><th scope=col>&lt;int&gt;</th><th scope=col>&lt;date&gt;</th><th scope=col>&lt;dbl&gt;</th><th scope=col>&lt;date&gt;</th><th scope=col>&lt;dbl&gt;</th><th scope=col>&lt;dbl&gt;</th></tr>\n",
       "</thead>\n",
       "<tbody>\n",
       "\t<tr><td>12736614</td><td>1931-06-15</td><td>2012-11-15</td><td>1</td><td>1</td><td>1</td><td>NA</td><td>0</td><td>2007-01-10</td><td>1</td><td>1</td></tr>\n",
       "\t<tr><td>12663073</td><td>1931-06-15</td><td>2014-12-15</td><td>2</td><td>2</td><td>1</td><td>NA</td><td>0</td><td>2010-04-01</td><td>1</td><td>1</td></tr>\n",
       "\t<tr><td>12679588</td><td>1931-06-15</td><td>NA</td><td>2</td><td>1</td><td>1</td><td>NA</td><td>0</td><td>2016-03-30</td><td>1</td><td>1</td></tr>\n",
       "\t<tr><td>13203209</td><td>1931-06-15</td><td>2020-01-15</td><td>1</td><td>2</td><td>1</td><td>NA</td><td>0</td><td>2007-09-13</td><td>1</td><td>1</td></tr>\n",
       "\t<tr><td>12760436</td><td>1931-06-15</td><td>2020-07-15</td><td>1</td><td>2</td><td>1</td><td>NA</td><td>0</td><td>2009-12-29</td><td>1</td><td>1</td></tr>\n",
       "\t<tr><td>12602566</td><td>1931-06-15</td><td>2014-01-15</td><td>2</td><td>1</td><td>1</td><td>NA</td><td>0</td><td>2007-09-06</td><td>1</td><td>1</td></tr>\n",
       "</tbody>\n",
       "</table>\n"
      ],
      "text/latex": [
       "A tibble: 6 × 11\n",
       "\\begin{tabular}{lllllllllll}\n",
       " person\\_id & birth\\_datetime & death\\_datetime & gender & ethnicity & imd\\_decile & date\\_t1d\\_diag & t1d\\_status & date\\_t2d\\_diag & t2d\\_status & any\\_diabetes\\\\\n",
       " <int> & <date> & <date> & <int> & <int> & <int> & <date> & <dbl> & <date> & <dbl> & <dbl>\\\\\n",
       "\\hline\n",
       "\t 12736614 & 1931-06-15 & 2012-11-15 & 1 & 1 & 1 & NA & 0 & 2007-01-10 & 1 & 1\\\\\n",
       "\t 12663073 & 1931-06-15 & 2014-12-15 & 2 & 2 & 1 & NA & 0 & 2010-04-01 & 1 & 1\\\\\n",
       "\t 12679588 & 1931-06-15 & NA & 2 & 1 & 1 & NA & 0 & 2016-03-30 & 1 & 1\\\\\n",
       "\t 13203209 & 1931-06-15 & 2020-01-15 & 1 & 2 & 1 & NA & 0 & 2007-09-13 & 1 & 1\\\\\n",
       "\t 12760436 & 1931-06-15 & 2020-07-15 & 1 & 2 & 1 & NA & 0 & 2009-12-29 & 1 & 1\\\\\n",
       "\t 12602566 & 1931-06-15 & 2014-01-15 & 2 & 1 & 1 & NA & 0 & 2007-09-06 & 1 & 1\\\\\n",
       "\\end{tabular}\n"
      ],
      "text/markdown": [
       "\n",
       "A tibble: 6 × 11\n",
       "\n",
       "| person_id &lt;int&gt; | birth_datetime &lt;date&gt; | death_datetime &lt;date&gt; | gender &lt;int&gt; | ethnicity &lt;int&gt; | imd_decile &lt;int&gt; | date_t1d_diag &lt;date&gt; | t1d_status &lt;dbl&gt; | date_t2d_diag &lt;date&gt; | t2d_status &lt;dbl&gt; | any_diabetes &lt;dbl&gt; |\n",
       "|---|---|---|---|---|---|---|---|---|---|---|\n",
       "| 12736614 | 1931-06-15 | 2012-11-15 | 1 | 1 | 1 | NA | 0 | 2007-01-10 | 1 | 1 |\n",
       "| 12663073 | 1931-06-15 | 2014-12-15 | 2 | 2 | 1 | NA | 0 | 2010-04-01 | 1 | 1 |\n",
       "| 12679588 | 1931-06-15 | NA | 2 | 1 | 1 | NA | 0 | 2016-03-30 | 1 | 1 |\n",
       "| 13203209 | 1931-06-15 | 2020-01-15 | 1 | 2 | 1 | NA | 0 | 2007-09-13 | 1 | 1 |\n",
       "| 12760436 | 1931-06-15 | 2020-07-15 | 1 | 2 | 1 | NA | 0 | 2009-12-29 | 1 | 1 |\n",
       "| 12602566 | 1931-06-15 | 2014-01-15 | 2 | 1 | 1 | NA | 0 | 2007-09-06 | 1 | 1 |\n",
       "\n"
      ],
      "text/plain": [
       "  person_id birth_datetime death_datetime gender ethnicity imd_decile\n",
       "1 12736614  1931-06-15     2012-11-15     1      1         1         \n",
       "2 12663073  1931-06-15     2014-12-15     2      2         1         \n",
       "3 12679588  1931-06-15     <NA>           2      1         1         \n",
       "4 13203209  1931-06-15     2020-01-15     1      2         1         \n",
       "5 12760436  1931-06-15     2020-07-15     1      2         1         \n",
       "6 12602566  1931-06-15     2014-01-15     2      1         1         \n",
       "  date_t1d_diag t1d_status date_t2d_diag t2d_status any_diabetes\n",
       "1 <NA>          0          2007-01-10    1          1           \n",
       "2 <NA>          0          2010-04-01    1          1           \n",
       "3 <NA>          0          2016-03-30    1          1           \n",
       "4 <NA>          0          2007-09-13    1          1           \n",
       "5 <NA>          0          2009-12-29    1          1           \n",
       "6 <NA>          0          2007-09-06    1          1           "
      ]
     },
     "metadata": {},
     "output_type": "display_data"
    }
   ],
   "source": [
    "diabetes_patient <- inner_join(patient, diabetes, by = \"person_id\")\n",
    "head(diabetes_patient)"
   ]
  },
  {
   "cell_type": "code",
   "execution_count": 11,
   "id": "30693130-e859-4c4d-bf52-f4ab14671662",
   "metadata": {},
   "outputs": [
    {
     "data": {
      "text/html": [
       "<table class=\"dataframe\">\n",
       "<caption>A tibble: 6 × 13</caption>\n",
       "<thead>\n",
       "\t<tr><th scope=col>person_id</th><th scope=col>birth_datetime</th><th scope=col>death_datetime</th><th scope=col>gender</th><th scope=col>ethnicity</th><th scope=col>imd_decile</th><th scope=col>date_t1d_diag</th><th scope=col>t1d_status</th><th scope=col>date_t2d_diag</th><th scope=col>t2d_status</th><th scope=col>any_diabetes</th><th scope=col>age_t1d_diag</th><th scope=col>age_t2d_diag</th></tr>\n",
       "\t<tr><th scope=col>&lt;int&gt;</th><th scope=col>&lt;date&gt;</th><th scope=col>&lt;date&gt;</th><th scope=col>&lt;int&gt;</th><th scope=col>&lt;int&gt;</th><th scope=col>&lt;int&gt;</th><th scope=col>&lt;date&gt;</th><th scope=col>&lt;dbl&gt;</th><th scope=col>&lt;date&gt;</th><th scope=col>&lt;dbl&gt;</th><th scope=col>&lt;dbl&gt;</th><th scope=col>&lt;dbl&gt;</th><th scope=col>&lt;dbl&gt;</th></tr>\n",
       "</thead>\n",
       "<tbody>\n",
       "\t<tr><td>12736614</td><td>1931-06-15</td><td>2012-11-15</td><td>1</td><td>1</td><td>1</td><td>NA</td><td>0</td><td>2007-01-10</td><td>1</td><td>1</td><td>NA</td><td>75</td></tr>\n",
       "\t<tr><td>12663073</td><td>1931-06-15</td><td>2014-12-15</td><td>2</td><td>2</td><td>1</td><td>NA</td><td>0</td><td>2010-04-01</td><td>1</td><td>1</td><td>NA</td><td>78</td></tr>\n",
       "\t<tr><td>12679588</td><td>1931-06-15</td><td>NA</td><td>2</td><td>1</td><td>1</td><td>NA</td><td>0</td><td>2016-03-30</td><td>1</td><td>1</td><td>NA</td><td>84</td></tr>\n",
       "\t<tr><td>13203209</td><td>1931-06-15</td><td>2020-01-15</td><td>1</td><td>2</td><td>1</td><td>NA</td><td>0</td><td>2007-09-13</td><td>1</td><td>1</td><td>NA</td><td>76</td></tr>\n",
       "\t<tr><td>12760436</td><td>1931-06-15</td><td>2020-07-15</td><td>1</td><td>2</td><td>1</td><td>NA</td><td>0</td><td>2009-12-29</td><td>1</td><td>1</td><td>NA</td><td>78</td></tr>\n",
       "\t<tr><td>12602566</td><td>1931-06-15</td><td>2014-01-15</td><td>2</td><td>1</td><td>1</td><td>NA</td><td>0</td><td>2007-09-06</td><td>1</td><td>1</td><td>NA</td><td>76</td></tr>\n",
       "</tbody>\n",
       "</table>\n"
      ],
      "text/latex": [
       "A tibble: 6 × 13\n",
       "\\begin{tabular}{lllllllllllll}\n",
       " person\\_id & birth\\_datetime & death\\_datetime & gender & ethnicity & imd\\_decile & date\\_t1d\\_diag & t1d\\_status & date\\_t2d\\_diag & t2d\\_status & any\\_diabetes & age\\_t1d\\_diag & age\\_t2d\\_diag\\\\\n",
       " <int> & <date> & <date> & <int> & <int> & <int> & <date> & <dbl> & <date> & <dbl> & <dbl> & <dbl> & <dbl>\\\\\n",
       "\\hline\n",
       "\t 12736614 & 1931-06-15 & 2012-11-15 & 1 & 1 & 1 & NA & 0 & 2007-01-10 & 1 & 1 & NA & 75\\\\\n",
       "\t 12663073 & 1931-06-15 & 2014-12-15 & 2 & 2 & 1 & NA & 0 & 2010-04-01 & 1 & 1 & NA & 78\\\\\n",
       "\t 12679588 & 1931-06-15 & NA & 2 & 1 & 1 & NA & 0 & 2016-03-30 & 1 & 1 & NA & 84\\\\\n",
       "\t 13203209 & 1931-06-15 & 2020-01-15 & 1 & 2 & 1 & NA & 0 & 2007-09-13 & 1 & 1 & NA & 76\\\\\n",
       "\t 12760436 & 1931-06-15 & 2020-07-15 & 1 & 2 & 1 & NA & 0 & 2009-12-29 & 1 & 1 & NA & 78\\\\\n",
       "\t 12602566 & 1931-06-15 & 2014-01-15 & 2 & 1 & 1 & NA & 0 & 2007-09-06 & 1 & 1 & NA & 76\\\\\n",
       "\\end{tabular}\n"
      ],
      "text/markdown": [
       "\n",
       "A tibble: 6 × 13\n",
       "\n",
       "| person_id &lt;int&gt; | birth_datetime &lt;date&gt; | death_datetime &lt;date&gt; | gender &lt;int&gt; | ethnicity &lt;int&gt; | imd_decile &lt;int&gt; | date_t1d_diag &lt;date&gt; | t1d_status &lt;dbl&gt; | date_t2d_diag &lt;date&gt; | t2d_status &lt;dbl&gt; | any_diabetes &lt;dbl&gt; | age_t1d_diag &lt;dbl&gt; | age_t2d_diag &lt;dbl&gt; |\n",
       "|---|---|---|---|---|---|---|---|---|---|---|---|---|\n",
       "| 12736614 | 1931-06-15 | 2012-11-15 | 1 | 1 | 1 | NA | 0 | 2007-01-10 | 1 | 1 | NA | 75 |\n",
       "| 12663073 | 1931-06-15 | 2014-12-15 | 2 | 2 | 1 | NA | 0 | 2010-04-01 | 1 | 1 | NA | 78 |\n",
       "| 12679588 | 1931-06-15 | NA | 2 | 1 | 1 | NA | 0 | 2016-03-30 | 1 | 1 | NA | 84 |\n",
       "| 13203209 | 1931-06-15 | 2020-01-15 | 1 | 2 | 1 | NA | 0 | 2007-09-13 | 1 | 1 | NA | 76 |\n",
       "| 12760436 | 1931-06-15 | 2020-07-15 | 1 | 2 | 1 | NA | 0 | 2009-12-29 | 1 | 1 | NA | 78 |\n",
       "| 12602566 | 1931-06-15 | 2014-01-15 | 2 | 1 | 1 | NA | 0 | 2007-09-06 | 1 | 1 | NA | 76 |\n",
       "\n"
      ],
      "text/plain": [
       "  person_id birth_datetime death_datetime gender ethnicity imd_decile\n",
       "1 12736614  1931-06-15     2012-11-15     1      1         1         \n",
       "2 12663073  1931-06-15     2014-12-15     2      2         1         \n",
       "3 12679588  1931-06-15     <NA>           2      1         1         \n",
       "4 13203209  1931-06-15     2020-01-15     1      2         1         \n",
       "5 12760436  1931-06-15     2020-07-15     1      2         1         \n",
       "6 12602566  1931-06-15     2014-01-15     2      1         1         \n",
       "  date_t1d_diag t1d_status date_t2d_diag t2d_status any_diabetes age_t1d_diag\n",
       "1 <NA>          0          2007-01-10    1          1            NA          \n",
       "2 <NA>          0          2010-04-01    1          1            NA          \n",
       "3 <NA>          0          2016-03-30    1          1            NA          \n",
       "4 <NA>          0          2007-09-13    1          1            NA          \n",
       "5 <NA>          0          2009-12-29    1          1            NA          \n",
       "6 <NA>          0          2007-09-06    1          1            NA          \n",
       "  age_t2d_diag\n",
       "1 75          \n",
       "2 78          \n",
       "3 84          \n",
       "4 76          \n",
       "5 78          \n",
       "6 76          "
      ]
     },
     "metadata": {},
     "output_type": "display_data"
    }
   ],
   "source": [
    "# calculate age at diabetes\n",
    "diabetes_patient$age_t1d_diag <- interval(diabetes_patient$birth_datetime, diabetes_patient$date_t1d_diag) / years(1)\n",
    "diabetes_patient$age_t1d_diag <- floor(diabetes_patient$age_t1d_diag)\n",
    "diabetes_patient$age_t2d_diag <- interval(diabetes_patient$birth_datetime, diabetes_patient$date_t2d_diag) / years(1)\n",
    "diabetes_patient$age_t2d_diag <- floor(diabetes_patient$age_t2d_diag)\n",
    "head(diabetes_patient)"
   ]
  },
  {
   "cell_type": "code",
   "execution_count": 12,
   "id": "c7275362-a155-44f8-9e7f-7a0dda972110",
   "metadata": {},
   "outputs": [
    {
     "data": {
      "text/html": [
       "0"
      ],
      "text/latex": [
       "0"
      ],
      "text/markdown": [
       "0"
      ],
      "text/plain": [
       "[1] 0"
      ]
     },
     "metadata": {},
     "output_type": "display_data"
    },
    {
     "data": {
      "text/html": [
       "44250"
      ],
      "text/latex": [
       "44250"
      ],
      "text/markdown": [
       "44250"
      ],
      "text/plain": [
       "[1] 44250"
      ]
     },
     "metadata": {},
     "output_type": "display_data"
    }
   ],
   "source": [
    "# age at earliest diabetes \n",
    "diabetes_patient <- diabetes_patient %>%\n",
    "    mutate(age_earliest_diabetes = case_when(\n",
    "    (age_t1d_diag <= age_t2d_diag) | is.na(age_t2d_diag) ~ age_t1d_diag,\n",
    "    (age_t1d_diag > age_t2d_diag) | is.na(age_t1d_diag) ~ age_t2d_diag)) %>%\n",
    "select(-gender, -ethnicity, -imd_decile)\n",
    "sum(is.na(diabetes_patient$birth_datetime))\n",
    "nrow(diabetes_patient)"
   ]
  },
  {
   "cell_type": "code",
   "execution_count": 13,
   "id": "87f72f39-c23c-4bbf-94fc-201ea28f8c64",
   "metadata": {},
   "outputs": [
    {
     "data": {
      "text/plain": [
       "\n",
       "    0     1 \n",
       " 1661 42589 "
      ]
     },
     "metadata": {},
     "output_type": "display_data"
    }
   ],
   "source": [
    "table(diabetes_patient$t2d_status)"
   ]
  },
  {
   "cell_type": "code",
   "execution_count": 14,
   "id": "ff59cd73-3a89-4a96-b291-c9f4ad0d5460",
   "metadata": {},
   "outputs": [
    {
     "data": {
      "text/html": [
       "34.9522585383768"
      ],
      "text/latex": [
       "34.9522585383768"
      ],
      "text/markdown": [
       "34.9522585383768"
      ],
      "text/plain": [
       "[1] 34.95226"
      ]
     },
     "metadata": {},
     "output_type": "display_data"
    }
   ],
   "source": [
    "(15228/43568)*100"
   ]
  },
  {
   "cell_type": "code",
   "execution_count": 15,
   "id": "71c7332e-a198-4d50-bb19-b15a4e2ccb43",
   "metadata": {},
   "outputs": [
    {
     "data": {
      "text/html": [
       "<table class=\"dataframe\">\n",
       "<caption>A tibble: 6 × 12</caption>\n",
       "<thead>\n",
       "\t<tr><th scope=col>person_id</th><th scope=col>birth_datetime</th><th scope=col>death_datetime</th><th scope=col>date_t1d_diag</th><th scope=col>t1d_status</th><th scope=col>date_t2d_diag</th><th scope=col>t2d_status</th><th scope=col>any_diabetes</th><th scope=col>age_t1d_diag</th><th scope=col>age_t2d_diag</th><th scope=col>age_earliest_diabetes</th><th scope=col>date_earliest_diabetes</th></tr>\n",
       "\t<tr><th scope=col>&lt;int&gt;</th><th scope=col>&lt;date&gt;</th><th scope=col>&lt;date&gt;</th><th scope=col>&lt;date&gt;</th><th scope=col>&lt;dbl&gt;</th><th scope=col>&lt;date&gt;</th><th scope=col>&lt;dbl&gt;</th><th scope=col>&lt;dbl&gt;</th><th scope=col>&lt;dbl&gt;</th><th scope=col>&lt;dbl&gt;</th><th scope=col>&lt;dbl&gt;</th><th scope=col>&lt;date&gt;</th></tr>\n",
       "</thead>\n",
       "<tbody>\n",
       "\t<tr><td>12736614</td><td>1931-06-15</td><td>2012-11-15</td><td>NA</td><td>0</td><td>2007-01-10</td><td>1</td><td>1</td><td>NA</td><td>75</td><td>75</td><td>2007-01-10</td></tr>\n",
       "\t<tr><td>12663073</td><td>1931-06-15</td><td>2014-12-15</td><td>NA</td><td>0</td><td>2010-04-01</td><td>1</td><td>1</td><td>NA</td><td>78</td><td>78</td><td>2010-04-01</td></tr>\n",
       "\t<tr><td>12679588</td><td>1931-06-15</td><td>NA</td><td>NA</td><td>0</td><td>2016-03-30</td><td>1</td><td>1</td><td>NA</td><td>84</td><td>84</td><td>2016-03-30</td></tr>\n",
       "\t<tr><td>13203209</td><td>1931-06-15</td><td>2020-01-15</td><td>NA</td><td>0</td><td>2007-09-13</td><td>1</td><td>1</td><td>NA</td><td>76</td><td>76</td><td>2007-09-13</td></tr>\n",
       "\t<tr><td>12760436</td><td>1931-06-15</td><td>2020-07-15</td><td>NA</td><td>0</td><td>2009-12-29</td><td>1</td><td>1</td><td>NA</td><td>78</td><td>78</td><td>2009-12-29</td></tr>\n",
       "\t<tr><td>12602566</td><td>1931-06-15</td><td>2014-01-15</td><td>NA</td><td>0</td><td>2007-09-06</td><td>1</td><td>1</td><td>NA</td><td>76</td><td>76</td><td>2007-09-06</td></tr>\n",
       "</tbody>\n",
       "</table>\n"
      ],
      "text/latex": [
       "A tibble: 6 × 12\n",
       "\\begin{tabular}{llllllllllll}\n",
       " person\\_id & birth\\_datetime & death\\_datetime & date\\_t1d\\_diag & t1d\\_status & date\\_t2d\\_diag & t2d\\_status & any\\_diabetes & age\\_t1d\\_diag & age\\_t2d\\_diag & age\\_earliest\\_diabetes & date\\_earliest\\_diabetes\\\\\n",
       " <int> & <date> & <date> & <date> & <dbl> & <date> & <dbl> & <dbl> & <dbl> & <dbl> & <dbl> & <date>\\\\\n",
       "\\hline\n",
       "\t 12736614 & 1931-06-15 & 2012-11-15 & NA & 0 & 2007-01-10 & 1 & 1 & NA & 75 & 75 & 2007-01-10\\\\\n",
       "\t 12663073 & 1931-06-15 & 2014-12-15 & NA & 0 & 2010-04-01 & 1 & 1 & NA & 78 & 78 & 2010-04-01\\\\\n",
       "\t 12679588 & 1931-06-15 & NA & NA & 0 & 2016-03-30 & 1 & 1 & NA & 84 & 84 & 2016-03-30\\\\\n",
       "\t 13203209 & 1931-06-15 & 2020-01-15 & NA & 0 & 2007-09-13 & 1 & 1 & NA & 76 & 76 & 2007-09-13\\\\\n",
       "\t 12760436 & 1931-06-15 & 2020-07-15 & NA & 0 & 2009-12-29 & 1 & 1 & NA & 78 & 78 & 2009-12-29\\\\\n",
       "\t 12602566 & 1931-06-15 & 2014-01-15 & NA & 0 & 2007-09-06 & 1 & 1 & NA & 76 & 76 & 2007-09-06\\\\\n",
       "\\end{tabular}\n"
      ],
      "text/markdown": [
       "\n",
       "A tibble: 6 × 12\n",
       "\n",
       "| person_id &lt;int&gt; | birth_datetime &lt;date&gt; | death_datetime &lt;date&gt; | date_t1d_diag &lt;date&gt; | t1d_status &lt;dbl&gt; | date_t2d_diag &lt;date&gt; | t2d_status &lt;dbl&gt; | any_diabetes &lt;dbl&gt; | age_t1d_diag &lt;dbl&gt; | age_t2d_diag &lt;dbl&gt; | age_earliest_diabetes &lt;dbl&gt; | date_earliest_diabetes &lt;date&gt; |\n",
       "|---|---|---|---|---|---|---|---|---|---|---|---|\n",
       "| 12736614 | 1931-06-15 | 2012-11-15 | NA | 0 | 2007-01-10 | 1 | 1 | NA | 75 | 75 | 2007-01-10 |\n",
       "| 12663073 | 1931-06-15 | 2014-12-15 | NA | 0 | 2010-04-01 | 1 | 1 | NA | 78 | 78 | 2010-04-01 |\n",
       "| 12679588 | 1931-06-15 | NA | NA | 0 | 2016-03-30 | 1 | 1 | NA | 84 | 84 | 2016-03-30 |\n",
       "| 13203209 | 1931-06-15 | 2020-01-15 | NA | 0 | 2007-09-13 | 1 | 1 | NA | 76 | 76 | 2007-09-13 |\n",
       "| 12760436 | 1931-06-15 | 2020-07-15 | NA | 0 | 2009-12-29 | 1 | 1 | NA | 78 | 78 | 2009-12-29 |\n",
       "| 12602566 | 1931-06-15 | 2014-01-15 | NA | 0 | 2007-09-06 | 1 | 1 | NA | 76 | 76 | 2007-09-06 |\n",
       "\n"
      ],
      "text/plain": [
       "  person_id birth_datetime death_datetime date_t1d_diag t1d_status\n",
       "1 12736614  1931-06-15     2012-11-15     <NA>          0         \n",
       "2 12663073  1931-06-15     2014-12-15     <NA>          0         \n",
       "3 12679588  1931-06-15     <NA>           <NA>          0         \n",
       "4 13203209  1931-06-15     2020-01-15     <NA>          0         \n",
       "5 12760436  1931-06-15     2020-07-15     <NA>          0         \n",
       "6 12602566  1931-06-15     2014-01-15     <NA>          0         \n",
       "  date_t2d_diag t2d_status any_diabetes age_t1d_diag age_t2d_diag\n",
       "1 2007-01-10    1          1            NA           75          \n",
       "2 2010-04-01    1          1            NA           78          \n",
       "3 2016-03-30    1          1            NA           84          \n",
       "4 2007-09-13    1          1            NA           76          \n",
       "5 2009-12-29    1          1            NA           78          \n",
       "6 2007-09-06    1          1            NA           76          \n",
       "  age_earliest_diabetes date_earliest_diabetes\n",
       "1 75                    2007-01-10            \n",
       "2 78                    2010-04-01            \n",
       "3 84                    2016-03-30            \n",
       "4 76                    2007-09-13            \n",
       "5 78                    2009-12-29            \n",
       "6 76                    2007-09-06            "
      ]
     },
     "metadata": {},
     "output_type": "display_data"
    }
   ],
   "source": [
    "# add date at earliest diabetes\n",
    "diabetes_patient <- diabetes_patient %>%\n",
    "    mutate(date_earliest_diabetes = case_when(\n",
    "    (date_t1d_diag <= date_t2d_diag) | is.na(date_t2d_diag) ~ date_t1d_diag,\n",
    "    (date_t1d_diag > date_t2d_diag) | is.na(date_t1d_diag) ~ date_t2d_diag,\n",
    "    is.na(date_t1d_diag) & is.na(date_t2d_diag) ~ NA))\n",
    "head(diabetes_patient)"
   ]
  },
  {
   "cell_type": "code",
   "execution_count": 17,
   "id": "cc3d2b55-4d2e-4f6e-8116-de608e1c8c26",
   "metadata": {},
   "outputs": [
    {
     "data": {
      "text/html": [
       "44250"
      ],
      "text/latex": [
       "44250"
      ],
      "text/markdown": [
       "44250"
      ],
      "text/plain": [
       "[1] 44250"
      ]
     },
     "metadata": {},
     "output_type": "display_data"
    },
    {
     "data": {
      "text/plain": [
       "\n",
       "    0     1 \n",
       "42084  2166 "
      ]
     },
     "metadata": {},
     "output_type": "display_data"
    },
    {
     "data": {
      "text/plain": [
       "\n",
       "    0     1 \n",
       " 1661 42589 "
      ]
     },
     "metadata": {},
     "output_type": "display_data"
    },
    {
     "data": {
      "text/plain": [
       "   \n",
       "        0     1\n",
       "  0     0 42084\n",
       "  1  1661   505"
      ]
     },
     "metadata": {},
     "output_type": "display_data"
    }
   ],
   "source": [
    "nrow(diabetes_patient)\n",
    "table(diabetes_patient$t1d_status)\n",
    "table(diabetes_patient$t2d_status)\n",
    "table(diabetes_patient$t1d_status, diabetes_patient$t2d_status)"
   ]
  },
  {
   "cell_type": "code",
   "execution_count": 18,
   "id": "5ef7febe-2fa1-4a0c-ae79-bdccbce1ca6e",
   "metadata": {},
   "outputs": [],
   "source": [
    "# Join medication data to diabetes_patient\n",
    "dm <- full_join(diabetes_patient, meds, by = \"person_id\")"
   ]
  },
  {
   "cell_type": "code",
   "execution_count": 20,
   "id": "c0e73377-dab9-4218-a362-3ec143ab561d",
   "metadata": {},
   "outputs": [
    {
     "data": {
      "text/html": [
       "44278"
      ],
      "text/latex": [
       "44278"
      ],
      "text/markdown": [
       "44278"
      ],
      "text/plain": [
       "[1] 44278"
      ]
     },
     "metadata": {},
     "output_type": "display_data"
    },
    {
     "data": {
      "text/html": [
       "0"
      ],
      "text/latex": [
       "0"
      ],
      "text/markdown": [
       "0"
      ],
      "text/plain": [
       "[1] 0"
      ]
     },
     "metadata": {},
     "output_type": "display_data"
    }
   ],
   "source": [
    "nrow(dm)"
   ]
  },
  {
   "cell_type": "code",
   "execution_count": 21,
   "id": "d0803d26-bff4-4593-aecd-e5b8ac1867c1",
   "metadata": {},
   "outputs": [],
   "source": [
    "# Remove females who are less than 50 who are on metformin but don't have a diabetes diagnostic code\n",
    "dm <- dm %>%\n",
    "    mutate(diab_date_present = ifelse(!is.na(date_earliest_diabetes),1,0)) %>% # 1 = diabetes date is present i.e. patient has diabetes diagnostic code\n",
    "    mutate(metformin_pls_5yrs = (date_metformin %m+% years(5))) %>% # calculate 5 years from metformin prescription\n",
    "    mutate(diab_met_diff = abs(floor(difftime(date_earliest_diabetes, date_metformin, units = c(\"days\"))))) %>% # absolute number of days between diabetes diagnosis date and metformin date - if >1826 days, drop\n",
    "    mutate(diab_met_diff = as.integer(diab_met_diff))"
   ]
  },
  {
   "cell_type": "code",
   "execution_count": 22,
   "id": "f1da25cb-44b4-46f5-9ce3-1f590dca0969",
   "metadata": {},
   "outputs": [
    {
     "data": {
      "text/html": [
       "<table class=\"dataframe\">\n",
       "<caption>A tibble: 39 × 7</caption>\n",
       "<thead>\n",
       "\t<tr><th scope=col>date_earliest_diabetes</th><th scope=col>diab_date_present</th><th scope=col>metformin_pls_5yrs</th><th scope=col>diab_met_diff</th><th scope=col>met_fe_lsthn_50</th><th scope=col>met_plus</th><th scope=col>gender</th></tr>\n",
       "\t<tr><th scope=col>&lt;date&gt;</th><th scope=col>&lt;dbl&gt;</th><th scope=col>&lt;date&gt;</th><th scope=col>&lt;int&gt;</th><th scope=col>&lt;int&gt;</th><th scope=col>&lt;int&gt;</th><th scope=col>&lt;int&gt;</th></tr>\n",
       "</thead>\n",
       "<tbody>\n",
       "\t<tr><td>2007-02-08</td><td>1</td><td>2021-06-08</td><td>3408</td><td>0</td><td>2</td><td>2</td></tr>\n",
       "\t<tr><td>2007-05-10</td><td>1</td><td>2021-08-22</td><td>3392</td><td>0</td><td>2</td><td>1</td></tr>\n",
       "\t<tr><td>2018-07-06</td><td>1</td><td>2014-12-01</td><td>3139</td><td>0</td><td>2</td><td>1</td></tr>\n",
       "\t<tr><td>2021-11-25</td><td>1</td><td>2019-09-24</td><td>2619</td><td>0</td><td>2</td><td>2</td></tr>\n",
       "\t<tr><td>2017-10-18</td><td>1</td><td>2015-09-22</td><td>2583</td><td>0</td><td>1</td><td>2</td></tr>\n",
       "\t<tr><td>2016-03-08</td><td>1</td><td>2014-04-29</td><td>2505</td><td>0</td><td>2</td><td>1</td></tr>\n",
       "\t<tr><td>2007-01-22</td><td>1</td><td>2018-02-19</td><td>2220</td><td>0</td><td>2</td><td>2</td></tr>\n",
       "\t<tr><td>2011-09-22</td><td>1</td><td>2021-11-08</td><td>1874</td><td>0</td><td>2</td><td>1</td></tr>\n",
       "\t<tr><td>2008-07-01</td><td>1</td><td>2018-04-23</td><td>1757</td><td>0</td><td>2</td><td>1</td></tr>\n",
       "\t<tr><td>2011-09-22</td><td>1</td><td>2012-02-01</td><td>1694</td><td>0</td><td>2</td><td>1</td></tr>\n",
       "\t<tr><td>2007-01-04</td><td>1</td><td>2016-07-19</td><td>1657</td><td>0</td><td>1</td><td>2</td></tr>\n",
       "\t<tr><td>2007-03-05</td><td>1</td><td>2016-04-11</td><td>1498</td><td>0</td><td>2</td><td>2</td></tr>\n",
       "\t<tr><td>2012-01-01</td><td>1</td><td>2021-02-04</td><td>1495</td><td>0</td><td>2</td><td>1</td></tr>\n",
       "\t<tr><td>2010-12-08</td><td>1</td><td>2012-02-12</td><td>1395</td><td>0</td><td>1</td><td>1</td></tr>\n",
       "\t<tr><td>2008-04-07</td><td>1</td><td>2016-04-07</td><td>1095</td><td>0</td><td>1</td><td>2</td></tr>\n",
       "\t<tr><td>2007-08-23</td><td>1</td><td>2015-08-18</td><td>1091</td><td>0</td><td>1</td><td>1</td></tr>\n",
       "\t<tr><td>2008-04-24</td><td>1</td><td>2016-02-09</td><td>1021</td><td>0</td><td>1</td><td>2</td></tr>\n",
       "\t<tr><td>2007-12-28</td><td>1</td><td>2015-07-16</td><td> 931</td><td>0</td><td>1</td><td>2</td></tr>\n",
       "\t<tr><td>2007-09-10</td><td>1</td><td>2015-03-04</td><td> 906</td><td>0</td><td>1</td><td>2</td></tr>\n",
       "\t<tr><td>2008-07-04</td><td>1</td><td>2015-12-22</td><td> 901</td><td>0</td><td>1</td><td>1</td></tr>\n",
       "\t<tr><td>2008-02-28</td><td>1</td><td>2015-08-10</td><td> 894</td><td>0</td><td>2</td><td>2</td></tr>\n",
       "\t<tr><td>2007-06-05</td><td>1</td><td>2014-09-16</td><td> 834</td><td>0</td><td>1</td><td>2</td></tr>\n",
       "\t<tr><td>2007-07-31</td><td>1</td><td>2014-09-11</td><td> 773</td><td>0</td><td>2</td><td>2</td></tr>\n",
       "\t<tr><td>2009-06-08</td><td>1</td><td>2016-07-05</td><td> 757</td><td>0</td><td>2</td><td>1</td></tr>\n",
       "\t<tr><td>2008-11-12</td><td>1</td><td>2015-11-04</td><td> 722</td><td>0</td><td>1</td><td>2</td></tr>\n",
       "\t<tr><td>2010-05-05</td><td>1</td><td>2017-04-05</td><td> 701</td><td>0</td><td>1</td><td>2</td></tr>\n",
       "\t<tr><td>2008-05-08</td><td>1</td><td>2015-03-12</td><td> 673</td><td>0</td><td>2</td><td>1</td></tr>\n",
       "\t<tr><td>2009-11-05</td><td>1</td><td>2016-08-26</td><td> 659</td><td>0</td><td>1</td><td>1</td></tr>\n",
       "\t<tr><td>2015-05-29</td><td>1</td><td>2021-12-06</td><td> 557</td><td>1</td><td>2</td><td>2</td></tr>\n",
       "\t<tr><td>2009-07-30</td><td>1</td><td>2015-11-24</td><td> 482</td><td>0</td><td>1</td><td>2</td></tr>\n",
       "\t<tr><td>2009-07-13</td><td>1</td><td>2015-09-28</td><td> 442</td><td>0</td><td>1</td><td>1</td></tr>\n",
       "\t<tr><td>2008-09-03</td><td>1</td><td>2014-11-09</td><td> 432</td><td>0</td><td>1</td><td>2</td></tr>\n",
       "\t<tr><td>2009-08-19</td><td>1</td><td>2015-07-27</td><td> 342</td><td>0</td><td>1</td><td>1</td></tr>\n",
       "\t<tr><td>2009-04-20</td><td>1</td><td>2015-01-27</td><td> 282</td><td>0</td><td>2</td><td>1</td></tr>\n",
       "\t<tr><td>2010-01-30</td><td>1</td><td>2015-09-20</td><td> 233</td><td>0</td><td>2</td><td>1</td></tr>\n",
       "\t<tr><td>2009-01-02</td><td>1</td><td>2014-08-07</td><td> 217</td><td>0</td><td>1</td><td>2</td></tr>\n",
       "\t<tr><td>2007-03-16</td><td>1</td><td>2012-01-19</td><td>  56</td><td>0</td><td>1</td><td>2</td></tr>\n",
       "\t<tr><td>2010-03-11</td><td>1</td><td>2015-04-21</td><td>  41</td><td>0</td><td>1</td><td>2</td></tr>\n",
       "\t<tr><td>2016-04-03</td><td>1</td><td>2021-04-04</td><td>   1</td><td>0</td><td>2</td><td>1</td></tr>\n",
       "</tbody>\n",
       "</table>\n"
      ],
      "text/latex": [
       "A tibble: 39 × 7\n",
       "\\begin{tabular}{lllllll}\n",
       " date\\_earliest\\_diabetes & diab\\_date\\_present & metformin\\_pls\\_5yrs & diab\\_met\\_diff & met\\_fe\\_lsthn\\_50 & met\\_plus & gender\\\\\n",
       " <date> & <dbl> & <date> & <int> & <int> & <int> & <int>\\\\\n",
       "\\hline\n",
       "\t 2007-02-08 & 1 & 2021-06-08 & 3408 & 0 & 2 & 2\\\\\n",
       "\t 2007-05-10 & 1 & 2021-08-22 & 3392 & 0 & 2 & 1\\\\\n",
       "\t 2018-07-06 & 1 & 2014-12-01 & 3139 & 0 & 2 & 1\\\\\n",
       "\t 2021-11-25 & 1 & 2019-09-24 & 2619 & 0 & 2 & 2\\\\\n",
       "\t 2017-10-18 & 1 & 2015-09-22 & 2583 & 0 & 1 & 2\\\\\n",
       "\t 2016-03-08 & 1 & 2014-04-29 & 2505 & 0 & 2 & 1\\\\\n",
       "\t 2007-01-22 & 1 & 2018-02-19 & 2220 & 0 & 2 & 2\\\\\n",
       "\t 2011-09-22 & 1 & 2021-11-08 & 1874 & 0 & 2 & 1\\\\\n",
       "\t 2008-07-01 & 1 & 2018-04-23 & 1757 & 0 & 2 & 1\\\\\n",
       "\t 2011-09-22 & 1 & 2012-02-01 & 1694 & 0 & 2 & 1\\\\\n",
       "\t 2007-01-04 & 1 & 2016-07-19 & 1657 & 0 & 1 & 2\\\\\n",
       "\t 2007-03-05 & 1 & 2016-04-11 & 1498 & 0 & 2 & 2\\\\\n",
       "\t 2012-01-01 & 1 & 2021-02-04 & 1495 & 0 & 2 & 1\\\\\n",
       "\t 2010-12-08 & 1 & 2012-02-12 & 1395 & 0 & 1 & 1\\\\\n",
       "\t 2008-04-07 & 1 & 2016-04-07 & 1095 & 0 & 1 & 2\\\\\n",
       "\t 2007-08-23 & 1 & 2015-08-18 & 1091 & 0 & 1 & 1\\\\\n",
       "\t 2008-04-24 & 1 & 2016-02-09 & 1021 & 0 & 1 & 2\\\\\n",
       "\t 2007-12-28 & 1 & 2015-07-16 &  931 & 0 & 1 & 2\\\\\n",
       "\t 2007-09-10 & 1 & 2015-03-04 &  906 & 0 & 1 & 2\\\\\n",
       "\t 2008-07-04 & 1 & 2015-12-22 &  901 & 0 & 1 & 1\\\\\n",
       "\t 2008-02-28 & 1 & 2015-08-10 &  894 & 0 & 2 & 2\\\\\n",
       "\t 2007-06-05 & 1 & 2014-09-16 &  834 & 0 & 1 & 2\\\\\n",
       "\t 2007-07-31 & 1 & 2014-09-11 &  773 & 0 & 2 & 2\\\\\n",
       "\t 2009-06-08 & 1 & 2016-07-05 &  757 & 0 & 2 & 1\\\\\n",
       "\t 2008-11-12 & 1 & 2015-11-04 &  722 & 0 & 1 & 2\\\\\n",
       "\t 2010-05-05 & 1 & 2017-04-05 &  701 & 0 & 1 & 2\\\\\n",
       "\t 2008-05-08 & 1 & 2015-03-12 &  673 & 0 & 2 & 1\\\\\n",
       "\t 2009-11-05 & 1 & 2016-08-26 &  659 & 0 & 1 & 1\\\\\n",
       "\t 2015-05-29 & 1 & 2021-12-06 &  557 & 1 & 2 & 2\\\\\n",
       "\t 2009-07-30 & 1 & 2015-11-24 &  482 & 0 & 1 & 2\\\\\n",
       "\t 2009-07-13 & 1 & 2015-09-28 &  442 & 0 & 1 & 1\\\\\n",
       "\t 2008-09-03 & 1 & 2014-11-09 &  432 & 0 & 1 & 2\\\\\n",
       "\t 2009-08-19 & 1 & 2015-07-27 &  342 & 0 & 1 & 1\\\\\n",
       "\t 2009-04-20 & 1 & 2015-01-27 &  282 & 0 & 2 & 1\\\\\n",
       "\t 2010-01-30 & 1 & 2015-09-20 &  233 & 0 & 2 & 1\\\\\n",
       "\t 2009-01-02 & 1 & 2014-08-07 &  217 & 0 & 1 & 2\\\\\n",
       "\t 2007-03-16 & 1 & 2012-01-19 &   56 & 0 & 1 & 2\\\\\n",
       "\t 2010-03-11 & 1 & 2015-04-21 &   41 & 0 & 1 & 2\\\\\n",
       "\t 2016-04-03 & 1 & 2021-04-04 &    1 & 0 & 2 & 1\\\\\n",
       "\\end{tabular}\n"
      ],
      "text/markdown": [
       "\n",
       "A tibble: 39 × 7\n",
       "\n",
       "| date_earliest_diabetes &lt;date&gt; | diab_date_present &lt;dbl&gt; | metformin_pls_5yrs &lt;date&gt; | diab_met_diff &lt;int&gt; | met_fe_lsthn_50 &lt;int&gt; | met_plus &lt;int&gt; | gender &lt;int&gt; |\n",
       "|---|---|---|---|---|---|---|\n",
       "| 2007-02-08 | 1 | 2021-06-08 | 3408 | 0 | 2 | 2 |\n",
       "| 2007-05-10 | 1 | 2021-08-22 | 3392 | 0 | 2 | 1 |\n",
       "| 2018-07-06 | 1 | 2014-12-01 | 3139 | 0 | 2 | 1 |\n",
       "| 2021-11-25 | 1 | 2019-09-24 | 2619 | 0 | 2 | 2 |\n",
       "| 2017-10-18 | 1 | 2015-09-22 | 2583 | 0 | 1 | 2 |\n",
       "| 2016-03-08 | 1 | 2014-04-29 | 2505 | 0 | 2 | 1 |\n",
       "| 2007-01-22 | 1 | 2018-02-19 | 2220 | 0 | 2 | 2 |\n",
       "| 2011-09-22 | 1 | 2021-11-08 | 1874 | 0 | 2 | 1 |\n",
       "| 2008-07-01 | 1 | 2018-04-23 | 1757 | 0 | 2 | 1 |\n",
       "| 2011-09-22 | 1 | 2012-02-01 | 1694 | 0 | 2 | 1 |\n",
       "| 2007-01-04 | 1 | 2016-07-19 | 1657 | 0 | 1 | 2 |\n",
       "| 2007-03-05 | 1 | 2016-04-11 | 1498 | 0 | 2 | 2 |\n",
       "| 2012-01-01 | 1 | 2021-02-04 | 1495 | 0 | 2 | 1 |\n",
       "| 2010-12-08 | 1 | 2012-02-12 | 1395 | 0 | 1 | 1 |\n",
       "| 2008-04-07 | 1 | 2016-04-07 | 1095 | 0 | 1 | 2 |\n",
       "| 2007-08-23 | 1 | 2015-08-18 | 1091 | 0 | 1 | 1 |\n",
       "| 2008-04-24 | 1 | 2016-02-09 | 1021 | 0 | 1 | 2 |\n",
       "| 2007-12-28 | 1 | 2015-07-16 |  931 | 0 | 1 | 2 |\n",
       "| 2007-09-10 | 1 | 2015-03-04 |  906 | 0 | 1 | 2 |\n",
       "| 2008-07-04 | 1 | 2015-12-22 |  901 | 0 | 1 | 1 |\n",
       "| 2008-02-28 | 1 | 2015-08-10 |  894 | 0 | 2 | 2 |\n",
       "| 2007-06-05 | 1 | 2014-09-16 |  834 | 0 | 1 | 2 |\n",
       "| 2007-07-31 | 1 | 2014-09-11 |  773 | 0 | 2 | 2 |\n",
       "| 2009-06-08 | 1 | 2016-07-05 |  757 | 0 | 2 | 1 |\n",
       "| 2008-11-12 | 1 | 2015-11-04 |  722 | 0 | 1 | 2 |\n",
       "| 2010-05-05 | 1 | 2017-04-05 |  701 | 0 | 1 | 2 |\n",
       "| 2008-05-08 | 1 | 2015-03-12 |  673 | 0 | 2 | 1 |\n",
       "| 2009-11-05 | 1 | 2016-08-26 |  659 | 0 | 1 | 1 |\n",
       "| 2015-05-29 | 1 | 2021-12-06 |  557 | 1 | 2 | 2 |\n",
       "| 2009-07-30 | 1 | 2015-11-24 |  482 | 0 | 1 | 2 |\n",
       "| 2009-07-13 | 1 | 2015-09-28 |  442 | 0 | 1 | 1 |\n",
       "| 2008-09-03 | 1 | 2014-11-09 |  432 | 0 | 1 | 2 |\n",
       "| 2009-08-19 | 1 | 2015-07-27 |  342 | 0 | 1 | 1 |\n",
       "| 2009-04-20 | 1 | 2015-01-27 |  282 | 0 | 2 | 1 |\n",
       "| 2010-01-30 | 1 | 2015-09-20 |  233 | 0 | 2 | 1 |\n",
       "| 2009-01-02 | 1 | 2014-08-07 |  217 | 0 | 1 | 2 |\n",
       "| 2007-03-16 | 1 | 2012-01-19 |   56 | 0 | 1 | 2 |\n",
       "| 2010-03-11 | 1 | 2015-04-21 |   41 | 0 | 1 | 2 |\n",
       "| 2016-04-03 | 1 | 2021-04-04 |    1 | 0 | 2 | 1 |\n",
       "\n"
      ],
      "text/plain": [
       "   date_earliest_diabetes diab_date_present metformin_pls_5yrs diab_met_diff\n",
       "1  2007-02-08             1                 2021-06-08         3408         \n",
       "2  2007-05-10             1                 2021-08-22         3392         \n",
       "3  2018-07-06             1                 2014-12-01         3139         \n",
       "4  2021-11-25             1                 2019-09-24         2619         \n",
       "5  2017-10-18             1                 2015-09-22         2583         \n",
       "6  2016-03-08             1                 2014-04-29         2505         \n",
       "7  2007-01-22             1                 2018-02-19         2220         \n",
       "8  2011-09-22             1                 2021-11-08         1874         \n",
       "9  2008-07-01             1                 2018-04-23         1757         \n",
       "10 2011-09-22             1                 2012-02-01         1694         \n",
       "11 2007-01-04             1                 2016-07-19         1657         \n",
       "12 2007-03-05             1                 2016-04-11         1498         \n",
       "13 2012-01-01             1                 2021-02-04         1495         \n",
       "14 2010-12-08             1                 2012-02-12         1395         \n",
       "15 2008-04-07             1                 2016-04-07         1095         \n",
       "16 2007-08-23             1                 2015-08-18         1091         \n",
       "17 2008-04-24             1                 2016-02-09         1021         \n",
       "18 2007-12-28             1                 2015-07-16          931         \n",
       "19 2007-09-10             1                 2015-03-04          906         \n",
       "20 2008-07-04             1                 2015-12-22          901         \n",
       "21 2008-02-28             1                 2015-08-10          894         \n",
       "22 2007-06-05             1                 2014-09-16          834         \n",
       "23 2007-07-31             1                 2014-09-11          773         \n",
       "24 2009-06-08             1                 2016-07-05          757         \n",
       "25 2008-11-12             1                 2015-11-04          722         \n",
       "26 2010-05-05             1                 2017-04-05          701         \n",
       "27 2008-05-08             1                 2015-03-12          673         \n",
       "28 2009-11-05             1                 2016-08-26          659         \n",
       "29 2015-05-29             1                 2021-12-06          557         \n",
       "30 2009-07-30             1                 2015-11-24          482         \n",
       "31 2009-07-13             1                 2015-09-28          442         \n",
       "32 2008-09-03             1                 2014-11-09          432         \n",
       "33 2009-08-19             1                 2015-07-27          342         \n",
       "34 2009-04-20             1                 2015-01-27          282         \n",
       "35 2010-01-30             1                 2015-09-20          233         \n",
       "36 2009-01-02             1                 2014-08-07          217         \n",
       "37 2007-03-16             1                 2012-01-19           56         \n",
       "38 2010-03-11             1                 2015-04-21           41         \n",
       "39 2016-04-03             1                 2021-04-04            1         \n",
       "   met_fe_lsthn_50 met_plus gender\n",
       "1  0               2        2     \n",
       "2  0               2        1     \n",
       "3  0               2        1     \n",
       "4  0               2        2     \n",
       "5  0               1        2     \n",
       "6  0               2        1     \n",
       "7  0               2        2     \n",
       "8  0               2        1     \n",
       "9  0               2        1     \n",
       "10 0               2        1     \n",
       "11 0               1        2     \n",
       "12 0               2        2     \n",
       "13 0               2        1     \n",
       "14 0               1        1     \n",
       "15 0               1        2     \n",
       "16 0               1        1     \n",
       "17 0               1        2     \n",
       "18 0               1        2     \n",
       "19 0               1        2     \n",
       "20 0               1        1     \n",
       "21 0               2        2     \n",
       "22 0               1        2     \n",
       "23 0               2        2     \n",
       "24 0               2        1     \n",
       "25 0               1        2     \n",
       "26 0               1        2     \n",
       "27 0               2        1     \n",
       "28 0               1        1     \n",
       "29 1               2        2     \n",
       "30 0               1        2     \n",
       "31 0               1        1     \n",
       "32 0               1        2     \n",
       "33 0               1        1     \n",
       "34 0               2        1     \n",
       "35 0               2        1     \n",
       "36 0               1        2     \n",
       "37 0               1        2     \n",
       "38 0               1        2     \n",
       "39 0               2        1     "
      ]
     },
     "metadata": {},
     "output_type": "display_data"
    }
   ],
   "source": [
    "dm %>%\n",
    "select(date_earliest_diabetes, diab_date_present, metformin_pls_5yrs, diab_met_diff, met_fe_lsthn_50, met_plus, gender) %>%\n",
    "filter(!is.na(diab_met_diff)) %>%\n",
    "arrange(desc(diab_met_diff)) "
   ]
  },
  {
   "cell_type": "code",
   "execution_count": 18,
   "id": "c1c2286b-489a-478f-a906-0f95e13b5ec9",
   "metadata": {},
   "outputs": [
    {
     "data": {
      "text/html": [
       "<style>\n",
       ".list-inline {list-style: none; margin:0; padding: 0}\n",
       ".list-inline>li {display: inline-block}\n",
       ".list-inline>li:not(:last-child)::after {content: \"\\00b7\"; padding: 0 .5ex}\n",
       "</style>\n",
       "<ol class=list-inline><li>'person_id'</li><li>'birth_datetime'</li><li>'death_datetime'</li><li>'date_t1d_diag'</li><li>'t1d_status'</li><li>'date_t2d_diag'</li><li>'t2d_status'</li><li>'any_diabetes'</li><li>'age_t1d_diag'</li><li>'age_t2d_diag'</li><li>'age_earliest_diabetes'</li><li>'date_earliest_diabetes'</li><li>'gender'</li><li>'date_metformin'</li><li>'age_metformin'</li><li>'has_metformin'</li><li>'date_thiazolid'</li><li>'age_thiazolid'</li><li>'has_thiazolid'</li><li>'date_gliptins'</li><li>'age_gliptins'</li><li>'has_gliptins'</li><li>'date_sulfon'</li><li>'age_sulfon'</li><li>'has_sulfon'</li><li>'date_glpra'</li><li>'age_glpra'</li><li>'has_glpra'</li><li>'date_glucinhib'</li><li>'age_glucinhib'</li><li>'has_glucinhib'</li><li>'date_combo'</li><li>'age_combo'</li><li>'has_combo'</li><li>'date_insulin'</li><li>'age_insulin'</li><li>'has_insulin'</li><li>'date_earliest_med'</li><li>'met_plus'</li><li>'met_diab'</li><li>'met_earliest'</li><li>'met_fe_lsthn_50'</li><li>'diab_date_present'</li><li>'metformin_pls_5yrs'</li><li>'diab_met_diff'</li></ol>\n"
      ],
      "text/latex": [
       "\\begin{enumerate*}\n",
       "\\item 'person\\_id'\n",
       "\\item 'birth\\_datetime'\n",
       "\\item 'death\\_datetime'\n",
       "\\item 'date\\_t1d\\_diag'\n",
       "\\item 't1d\\_status'\n",
       "\\item 'date\\_t2d\\_diag'\n",
       "\\item 't2d\\_status'\n",
       "\\item 'any\\_diabetes'\n",
       "\\item 'age\\_t1d\\_diag'\n",
       "\\item 'age\\_t2d\\_diag'\n",
       "\\item 'age\\_earliest\\_diabetes'\n",
       "\\item 'date\\_earliest\\_diabetes'\n",
       "\\item 'gender'\n",
       "\\item 'date\\_metformin'\n",
       "\\item 'age\\_metformin'\n",
       "\\item 'has\\_metformin'\n",
       "\\item 'date\\_thiazolid'\n",
       "\\item 'age\\_thiazolid'\n",
       "\\item 'has\\_thiazolid'\n",
       "\\item 'date\\_gliptins'\n",
       "\\item 'age\\_gliptins'\n",
       "\\item 'has\\_gliptins'\n",
       "\\item 'date\\_sulfon'\n",
       "\\item 'age\\_sulfon'\n",
       "\\item 'has\\_sulfon'\n",
       "\\item 'date\\_glpra'\n",
       "\\item 'age\\_glpra'\n",
       "\\item 'has\\_glpra'\n",
       "\\item 'date\\_glucinhib'\n",
       "\\item 'age\\_glucinhib'\n",
       "\\item 'has\\_glucinhib'\n",
       "\\item 'date\\_combo'\n",
       "\\item 'age\\_combo'\n",
       "\\item 'has\\_combo'\n",
       "\\item 'date\\_insulin'\n",
       "\\item 'age\\_insulin'\n",
       "\\item 'has\\_insulin'\n",
       "\\item 'date\\_earliest\\_med'\n",
       "\\item 'met\\_plus'\n",
       "\\item 'met\\_diab'\n",
       "\\item 'met\\_earliest'\n",
       "\\item 'met\\_fe\\_lsthn\\_50'\n",
       "\\item 'diab\\_date\\_present'\n",
       "\\item 'metformin\\_pls\\_5yrs'\n",
       "\\item 'diab\\_met\\_diff'\n",
       "\\end{enumerate*}\n"
      ],
      "text/markdown": [
       "1. 'person_id'\n",
       "2. 'birth_datetime'\n",
       "3. 'death_datetime'\n",
       "4. 'date_t1d_diag'\n",
       "5. 't1d_status'\n",
       "6. 'date_t2d_diag'\n",
       "7. 't2d_status'\n",
       "8. 'any_diabetes'\n",
       "9. 'age_t1d_diag'\n",
       "10. 'age_t2d_diag'\n",
       "11. 'age_earliest_diabetes'\n",
       "12. 'date_earliest_diabetes'\n",
       "13. 'gender'\n",
       "14. 'date_metformin'\n",
       "15. 'age_metformin'\n",
       "16. 'has_metformin'\n",
       "17. 'date_thiazolid'\n",
       "18. 'age_thiazolid'\n",
       "19. 'has_thiazolid'\n",
       "20. 'date_gliptins'\n",
       "21. 'age_gliptins'\n",
       "22. 'has_gliptins'\n",
       "23. 'date_sulfon'\n",
       "24. 'age_sulfon'\n",
       "25. 'has_sulfon'\n",
       "26. 'date_glpra'\n",
       "27. 'age_glpra'\n",
       "28. 'has_glpra'\n",
       "29. 'date_glucinhib'\n",
       "30. 'age_glucinhib'\n",
       "31. 'has_glucinhib'\n",
       "32. 'date_combo'\n",
       "33. 'age_combo'\n",
       "34. 'has_combo'\n",
       "35. 'date_insulin'\n",
       "36. 'age_insulin'\n",
       "37. 'has_insulin'\n",
       "38. 'date_earliest_med'\n",
       "39. 'met_plus'\n",
       "40. 'met_diab'\n",
       "41. 'met_earliest'\n",
       "42. 'met_fe_lsthn_50'\n",
       "43. 'diab_date_present'\n",
       "44. 'metformin_pls_5yrs'\n",
       "45. 'diab_met_diff'\n",
       "\n",
       "\n"
      ],
      "text/plain": [
       " [1] \"person_id\"              \"birth_datetime\"         \"death_datetime\"        \n",
       " [4] \"date_t1d_diag\"          \"t1d_status\"             \"date_t2d_diag\"         \n",
       " [7] \"t2d_status\"             \"any_diabetes\"           \"age_t1d_diag\"          \n",
       "[10] \"age_t2d_diag\"           \"age_earliest_diabetes\"  \"date_earliest_diabetes\"\n",
       "[13] \"gender\"                 \"date_metformin\"         \"age_metformin\"         \n",
       "[16] \"has_metformin\"          \"date_thiazolid\"         \"age_thiazolid\"         \n",
       "[19] \"has_thiazolid\"          \"date_gliptins\"          \"age_gliptins\"          \n",
       "[22] \"has_gliptins\"           \"date_sulfon\"            \"age_sulfon\"            \n",
       "[25] \"has_sulfon\"             \"date_glpra\"             \"age_glpra\"             \n",
       "[28] \"has_glpra\"              \"date_glucinhib\"         \"age_glucinhib\"         \n",
       "[31] \"has_glucinhib\"          \"date_combo\"             \"age_combo\"             \n",
       "[34] \"has_combo\"              \"date_insulin\"           \"age_insulin\"           \n",
       "[37] \"has_insulin\"            \"date_earliest_med\"      \"met_plus\"              \n",
       "[40] \"met_diab\"               \"met_earliest\"           \"met_fe_lsthn_50\"       \n",
       "[43] \"diab_date_present\"      \"metformin_pls_5yrs\"     \"diab_met_diff\"         "
      ]
     },
     "metadata": {},
     "output_type": "display_data"
    }
   ],
   "source": [
    "colnames(dm)"
   ]
  },
  {
   "cell_type": "code",
   "execution_count": 23,
   "id": "4de0aaaf-b5d4-470b-9319-a56506e6bb1f",
   "metadata": {},
   "outputs": [],
   "source": [
    "# diabetes diagnosis from medications, choose earliest diabetes diagnosis date between earliest date and earliest med, calculate age at earliest diabetes diag\n",
    "dm <- dm %>%\n",
    "    mutate(diabetes_meds = ifelse(is.na(date_earliest_diabetes) & (has_metformin == 1 | has_thiazolid == 1 | has_gliptins == 1 | has_sulfon == 1 | has_glpra == 1 |\n",
    "                                                                  has_glucinhib == 1 | has_combo == 1 | has_insulin == 1),1,0)) %>%\n",
    "    mutate(earliest_diabetes_diag = case_when(\n",
    "    (date_earliest_diabetes <= date_earliest_med) | is.na(date_earliest_med) ~ date_earliest_diabetes,\n",
    "    (date_earliest_diabetes > date_earliest_med) | is.na(date_earliest_diabetes) ~ date_earliest_med)) %>%\n",
    "    mutate(age_earliest_diab = floor(interval(birth_datetime, earliest_diabetes_diag) / years(1))) %>%\n",
    "    # time between diabetes and death\n",
    "    mutate(diab_death_time = abs(difftime(earliest_diabetes_diag, death_datetime, units = \"days\")),\n",
    "          diab_death_time = as.integer(diab_death_time))"
   ]
  },
  {
   "cell_type": "code",
   "execution_count": 24,
   "id": "536340bd-a417-49fd-adfd-d21751382871",
   "metadata": {},
   "outputs": [],
   "source": [
    "dm <- dm %>% select(person_id, date_t1d_diag, age_t1d_diag, t1d_status, date_t2d_diag, age_t2d_diag, t2d_status, any_diabetes, diabetes_meds, age_earliest_diab, earliest_diabetes_diag, diab_death_time)"
   ]
  },
  {
   "cell_type": "code",
   "execution_count": 25,
   "id": "f18bf07a-1678-460f-aba8-cce7723d4107",
   "metadata": {},
   "outputs": [
    {
     "data": {
      "text/html": [
       "44278"
      ],
      "text/latex": [
       "44278"
      ],
      "text/markdown": [
       "44278"
      ],
      "text/plain": [
       "[1] 44278"
      ]
     },
     "metadata": {},
     "output_type": "display_data"
    },
    {
     "data": {
      "text/plain": [
       "\n",
       "    0     1 \n",
       "42084  2166 "
      ]
     },
     "metadata": {},
     "output_type": "display_data"
    },
    {
     "data": {
      "text/plain": [
       "\n",
       "    0     1 \n",
       " 1661 42589 "
      ]
     },
     "metadata": {},
     "output_type": "display_data"
    },
    {
     "data": {
      "text/plain": [
       "   \n",
       "        0     1\n",
       "  0     0 42084\n",
       "  1  1661   505"
      ]
     },
     "metadata": {},
     "output_type": "display_data"
    },
    {
     "data": {
      "text/plain": [
       "\n",
       "    1 \n",
       "44250 "
      ]
     },
     "metadata": {},
     "output_type": "display_data"
    }
   ],
   "source": [
    "nrow(dm)\n",
    "table(dm$t1d_status)\n",
    "table(dm$t2d_status)\n",
    "table(dm$t1d_status, dm$t2d_status)\n",
    "table(dm$any_diabetes)"
   ]
  },
  {
   "cell_type": "code",
   "execution_count": 21,
   "id": "9f693696-ca30-4d57-ba89-6cc825e4d6e4",
   "metadata": {},
   "outputs": [
    {
     "data": {
      "text/html": [
       "<style>\n",
       ".list-inline {list-style: none; margin:0; padding: 0}\n",
       ".list-inline>li {display: inline-block}\n",
       ".list-inline>li:not(:last-child)::after {content: \"\\00b7\"; padding: 0 .5ex}\n",
       "</style>\n",
       "<ol class=list-inline><li>'person_id'</li><li>'date_t1d_diag'</li><li>'age_t1d_diag'</li><li>'t1d_status'</li><li>'date_t2d_diag'</li><li>'age_t2d_diag'</li><li>'t2d_status'</li><li>'any_diabetes'</li><li>'diabetes_meds'</li><li>'age_earliest_diab'</li><li>'earliest_diabetes_diag'</li><li>'diab_death_time'</li></ol>\n"
      ],
      "text/latex": [
       "\\begin{enumerate*}\n",
       "\\item 'person\\_id'\n",
       "\\item 'date\\_t1d\\_diag'\n",
       "\\item 'age\\_t1d\\_diag'\n",
       "\\item 't1d\\_status'\n",
       "\\item 'date\\_t2d\\_diag'\n",
       "\\item 'age\\_t2d\\_diag'\n",
       "\\item 't2d\\_status'\n",
       "\\item 'any\\_diabetes'\n",
       "\\item 'diabetes\\_meds'\n",
       "\\item 'age\\_earliest\\_diab'\n",
       "\\item 'earliest\\_diabetes\\_diag'\n",
       "\\item 'diab\\_death\\_time'\n",
       "\\end{enumerate*}\n"
      ],
      "text/markdown": [
       "1. 'person_id'\n",
       "2. 'date_t1d_diag'\n",
       "3. 'age_t1d_diag'\n",
       "4. 't1d_status'\n",
       "5. 'date_t2d_diag'\n",
       "6. 'age_t2d_diag'\n",
       "7. 't2d_status'\n",
       "8. 'any_diabetes'\n",
       "9. 'diabetes_meds'\n",
       "10. 'age_earliest_diab'\n",
       "11. 'earliest_diabetes_diag'\n",
       "12. 'diab_death_time'\n",
       "\n",
       "\n"
      ],
      "text/plain": [
       " [1] \"person_id\"              \"date_t1d_diag\"          \"age_t1d_diag\"          \n",
       " [4] \"t1d_status\"             \"date_t2d_diag\"          \"age_t2d_diag\"          \n",
       " [7] \"t2d_status\"             \"any_diabetes\"           \"diabetes_meds\"         \n",
       "[10] \"age_earliest_diab\"      \"earliest_diabetes_diag\" \"diab_death_time\"       "
      ]
     },
     "metadata": {},
     "output_type": "display_data"
    }
   ],
   "source": [
    "colnames(dm)"
   ]
  },
  {
   "cell_type": "code",
   "execution_count": 26,
   "id": "92f93776-d6a7-4a71-b988-1b29afe511ab",
   "metadata": {},
   "outputs": [],
   "source": [
    "# set destination table - do this regardless of whether it already exists\n",
    "dest_dataset <- bq_dataset(\"yhcr-prd-phm-bia-core\",\"CB_MYSPACE_AH\")\n",
    "dest_table <- bq_table(dest_dataset, \"Diabetes\")\n",
    "\n",
    "# create a full table spec as follows\n",
    "# then pass this to bq_table_upload\n",
    "dest_fields <- bq_fields(list(bq_field(\"person_id\", \"INT64\", \"REQUIRED\"),\n",
    "                              bq_field(\"age_t1d_diag\", \"INT64\"),\n",
    "                              bq_field(\"date_t1d_diag\", \"DATE\"),\n",
    "                              bq_field(\"t1d_status\", \"INT64\"),\n",
    "                              bq_field(\"age_t2d_diag\", \"INT64\"),\n",
    "                              bq_field(\"date_t2d_diag\", \"DATE\"),\n",
    "                              bq_field(\"t2d_status\", \"INT64\"),\n",
    "                              bq_field(\"age_earliest_diab\", \"INT64\"),\n",
    "                              bq_field(\"earliest_diabetes_diag\", \"DATE\"),\n",
    "                              bq_field(\"any_diabetes\", \"INT64\"),\n",
    "                              bq_field(\"diab_death_time\", \"INT64\"),\n",
    "                              bq_field(\"diabetes_meds\", \"INT64\")\n",
    "))\n",
    "\n",
    "# delete an existing table if necessary\n",
    "if(bq_table_exists(dest_table)) bq_table_delete(dest_table)\n",
    "# upload file_data to dest_table\n",
    "bq_table_upload(dest_table, dm, fields = dest_fields, create_disposition='CREATE_IF_NEEDED', write_disposition='WRITE_TRUNCATE')"
   ]
  },
  {
   "cell_type": "code",
   "execution_count": 23,
   "id": "76002439-7e41-422c-9bc5-329ed49a3cea",
   "metadata": {},
   "outputs": [
    {
     "name": "stderr",
     "output_type": "stream",
     "text": [
      "Warning message:\n",
      "“Unknown or uninitialised column: `gender`.”\n"
     ]
    },
    {
     "data": {
      "text/html": [
       "0"
      ],
      "text/latex": [
       "0"
      ],
      "text/markdown": [
       "0"
      ],
      "text/plain": [
       "[1] 0"
      ]
     },
     "metadata": {},
     "output_type": "display_data"
    }
   ],
   "source": [
    "sum(is.na(diabetes_patient$gender))"
   ]
  },
  {
   "cell_type": "code",
   "execution_count": 21,
   "id": "030ddee9-5c94-46d3-acb0-87917a450ff3",
   "metadata": {},
   "outputs": [
    {
     "data": {
      "text/html": [
       "28340"
      ],
      "text/latex": [
       "28340"
      ],
      "text/markdown": [
       "28340"
      ],
      "text/plain": [
       "[1] 28340"
      ]
     },
     "metadata": {},
     "output_type": "display_data"
    }
   ],
   "source": [
    "nrow(diabetes_patient)"
   ]
  },
  {
   "cell_type": "code",
   "execution_count": null,
   "id": "7d6a6c25-11b8-474c-b02a-7cb3f115d57b",
   "metadata": {},
   "outputs": [],
   "source": [
    "43568-15244"
   ]
  },
  {
   "cell_type": "code",
   "execution_count": null,
   "id": "b6596c5a-66a6-449f-b812-c71a8b3630a9",
   "metadata": {},
   "outputs": [],
   "source": []
  }
 ],
 "metadata": {
  "environment": {
   "kernel": "ir",
   "name": "r-cpu.4-2.m111",
   "type": "gcloud",
   "uri": "gcr.io/deeplearning-platform-release/r-cpu.4-2:m111"
  },
  "kernelspec": {
   "display_name": "R",
   "language": "R",
   "name": "ir"
  },
  "language_info": {
   "codemirror_mode": "r",
   "file_extension": ".r",
   "mimetype": "text/x-r-source",
   "name": "R",
   "pygments_lexer": "r",
   "version": "4.3.1"
  }
 },
 "nbformat": 4,
 "nbformat_minor": 5
}
