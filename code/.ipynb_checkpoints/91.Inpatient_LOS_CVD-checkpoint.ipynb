{
 "cells": [
  {
   "cell_type": "code",
   "execution_count": 1,
   "id": "aeb4e187-1eef-4535-b159-816d219d4669",
   "metadata": {},
   "outputs": [
    {
     "name": "stderr",
     "output_type": "stream",
     "text": [
      "── \u001b[1mAttaching core tidyverse packages\u001b[22m ──────────────────────── tidyverse 2.0.0 ──\n",
      "\u001b[32m✔\u001b[39m \u001b[34mdplyr    \u001b[39m 1.1.2     \u001b[32m✔\u001b[39m \u001b[34mreadr    \u001b[39m 2.1.4\n",
      "\u001b[32m✔\u001b[39m \u001b[34mforcats  \u001b[39m 1.0.0     \u001b[32m✔\u001b[39m \u001b[34mstringr  \u001b[39m 1.5.0\n",
      "\u001b[32m✔\u001b[39m \u001b[34mggplot2  \u001b[39m 3.4.4     \u001b[32m✔\u001b[39m \u001b[34mtibble   \u001b[39m 3.2.1\n",
      "\u001b[32m✔\u001b[39m \u001b[34mlubridate\u001b[39m 1.9.2     \u001b[32m✔\u001b[39m \u001b[34mtidyr    \u001b[39m 1.3.0\n",
      "\u001b[32m✔\u001b[39m \u001b[34mpurrr    \u001b[39m 1.0.2     \n",
      "── \u001b[1mConflicts\u001b[22m ────────────────────────────────────────── tidyverse_conflicts() ──\n",
      "\u001b[31m✖\u001b[39m \u001b[34mdplyr\u001b[39m::\u001b[32mfilter()\u001b[39m masks \u001b[34mstats\u001b[39m::filter()\n",
      "\u001b[31m✖\u001b[39m \u001b[34mdplyr\u001b[39m::\u001b[32mlag()\u001b[39m    masks \u001b[34mstats\u001b[39m::lag()\n",
      "\u001b[36mℹ\u001b[39m Use the conflicted package (\u001b[3m\u001b[34m<http://conflicted.r-lib.org/>\u001b[39m\u001b[23m) to force all conflicts to become errors\n"
     ]
    }
   ],
   "source": [
    "library(bigrquery)\n",
    "library(tidyverse)"
   ]
  },
  {
   "cell_type": "code",
   "execution_count": 2,
   "id": "cfe62896-672d-49c9-8085-e9f5ed4d2b84",
   "metadata": {},
   "outputs": [],
   "source": [
    "# Store the project ID\n",
    "projectid = \"yhcr-prd-phm-bia-core\""
   ]
  },
  {
   "cell_type": "code",
   "execution_count": 3,
   "id": "9b79b6f5-d0aa-4b2e-839e-116fcaca3865",
   "metadata": {},
   "outputs": [],
   "source": [
    "# CVD Episodes\n",
    "sql3 <- \"SELECT *  FROM `yhcr-prd-phm-bia-core.CB_MYSPACE_AH.Cardiovascular_Diseases_Episodes`\"\n",
    "tb3 <- bq_project_query(projectid, sql3)\n",
    "cvd_ep <-bq_table_download(tb3)\n",
    "\n",
    "# Diabetes\n",
    "sql1 <- \"SELECT *  FROM `yhcr-prd-phm-bia-core.CB_MYSPACE_AH.Diabetes`\"\n",
    "tb1 <- bq_project_query(projectid, sql1)\n",
    "diabetes <-bq_table_download(tb1)"
   ]
  },
  {
   "cell_type": "code",
   "execution_count": 5,
   "id": "4129b3ed-f2e6-4080-9f1a-e48edce845ec",
   "metadata": {},
   "outputs": [
    {
     "data": {
      "text/html": [
       "<style>\n",
       ".list-inline {list-style: none; margin:0; padding: 0}\n",
       ".list-inline>li {display: inline-block}\n",
       ".list-inline>li:not(:last-child)::after {content: \"\\00b7\"; padding: 0 .5ex}\n",
       "</style>\n",
       "<ol class=list-inline><li>'person_id'</li><li>'age_angina_diag'</li><li>'date_angina_diagnosis'</li><li>'date_angina_departure'</li><li>'has_angina'</li><li>'los_angina_days'</li><li>'age_cardiomyopathy_diag'</li><li>'date_cardiomyopathy_diagnosis'</li><li>'date_cardiomyopathy_departure'</li><li>'has_cardiomyopathy'</li><li>'los_cardiomyopathy_days'</li><li>'age_heart_failure_diag'</li><li>'date_heart_failure_diagnosis'</li><li>'date_heart_failure_departure'</li><li>'has_heart_failure'</li><li>'los_heart_failure_days'</li><li>'age_hypertension_diag'</li><li>'date_hypertension_diagnosis'</li><li>'date_hypertension_departure'</li><li>'has_hypertension'</li><li>'los_hypertension_days'</li><li>'age_ihd_diag'</li><li>'date_ihd_diagnosis'</li><li>'date_ihd_departure'</li><li>'has_ihd'</li><li>'los_ihd_days'</li><li>'age_mi_diag'</li><li>'date_mi_diagnosis'</li><li>'date_mi_departure'</li><li>'has_mi'</li><li>'los_mi_days'</li><li>'age_pvd_diag'</li><li>'date_pvd_diagnosis'</li><li>'date_pvd_departure'</li><li>'has_pvd'</li><li>'los_pvd_days'</li><li>'age_stroke_diag'</li><li>'date_stroke_diagnosis'</li><li>'date_stroke_departure'</li><li>'has_stroke'</li><li>'los_stroke_days'</li><li>'age_valve_disease_diag'</li><li>'date_valve_disease_diagnosis'</li><li>'date_valve_disease_departure'</li><li>'has_valve_disease'</li><li>'los_valve_disease_days'</li><li>'has_cvd'</li><li>'cvd_number'</li><li>'in_data'</li></ol>\n"
      ],
      "text/latex": [
       "\\begin{enumerate*}\n",
       "\\item 'person\\_id'\n",
       "\\item 'age\\_angina\\_diag'\n",
       "\\item 'date\\_angina\\_diagnosis'\n",
       "\\item 'date\\_angina\\_departure'\n",
       "\\item 'has\\_angina'\n",
       "\\item 'los\\_angina\\_days'\n",
       "\\item 'age\\_cardiomyopathy\\_diag'\n",
       "\\item 'date\\_cardiomyopathy\\_diagnosis'\n",
       "\\item 'date\\_cardiomyopathy\\_departure'\n",
       "\\item 'has\\_cardiomyopathy'\n",
       "\\item 'los\\_cardiomyopathy\\_days'\n",
       "\\item 'age\\_heart\\_failure\\_diag'\n",
       "\\item 'date\\_heart\\_failure\\_diagnosis'\n",
       "\\item 'date\\_heart\\_failure\\_departure'\n",
       "\\item 'has\\_heart\\_failure'\n",
       "\\item 'los\\_heart\\_failure\\_days'\n",
       "\\item 'age\\_hypertension\\_diag'\n",
       "\\item 'date\\_hypertension\\_diagnosis'\n",
       "\\item 'date\\_hypertension\\_departure'\n",
       "\\item 'has\\_hypertension'\n",
       "\\item 'los\\_hypertension\\_days'\n",
       "\\item 'age\\_ihd\\_diag'\n",
       "\\item 'date\\_ihd\\_diagnosis'\n",
       "\\item 'date\\_ihd\\_departure'\n",
       "\\item 'has\\_ihd'\n",
       "\\item 'los\\_ihd\\_days'\n",
       "\\item 'age\\_mi\\_diag'\n",
       "\\item 'date\\_mi\\_diagnosis'\n",
       "\\item 'date\\_mi\\_departure'\n",
       "\\item 'has\\_mi'\n",
       "\\item 'los\\_mi\\_days'\n",
       "\\item 'age\\_pvd\\_diag'\n",
       "\\item 'date\\_pvd\\_diagnosis'\n",
       "\\item 'date\\_pvd\\_departure'\n",
       "\\item 'has\\_pvd'\n",
       "\\item 'los\\_pvd\\_days'\n",
       "\\item 'age\\_stroke\\_diag'\n",
       "\\item 'date\\_stroke\\_diagnosis'\n",
       "\\item 'date\\_stroke\\_departure'\n",
       "\\item 'has\\_stroke'\n",
       "\\item 'los\\_stroke\\_days'\n",
       "\\item 'age\\_valve\\_disease\\_diag'\n",
       "\\item 'date\\_valve\\_disease\\_diagnosis'\n",
       "\\item 'date\\_valve\\_disease\\_departure'\n",
       "\\item 'has\\_valve\\_disease'\n",
       "\\item 'los\\_valve\\_disease\\_days'\n",
       "\\item 'has\\_cvd'\n",
       "\\item 'cvd\\_number'\n",
       "\\item 'in\\_data'\n",
       "\\end{enumerate*}\n"
      ],
      "text/markdown": [
       "1. 'person_id'\n",
       "2. 'age_angina_diag'\n",
       "3. 'date_angina_diagnosis'\n",
       "4. 'date_angina_departure'\n",
       "5. 'has_angina'\n",
       "6. 'los_angina_days'\n",
       "7. 'age_cardiomyopathy_diag'\n",
       "8. 'date_cardiomyopathy_diagnosis'\n",
       "9. 'date_cardiomyopathy_departure'\n",
       "10. 'has_cardiomyopathy'\n",
       "11. 'los_cardiomyopathy_days'\n",
       "12. 'age_heart_failure_diag'\n",
       "13. 'date_heart_failure_diagnosis'\n",
       "14. 'date_heart_failure_departure'\n",
       "15. 'has_heart_failure'\n",
       "16. 'los_heart_failure_days'\n",
       "17. 'age_hypertension_diag'\n",
       "18. 'date_hypertension_diagnosis'\n",
       "19. 'date_hypertension_departure'\n",
       "20. 'has_hypertension'\n",
       "21. 'los_hypertension_days'\n",
       "22. 'age_ihd_diag'\n",
       "23. 'date_ihd_diagnosis'\n",
       "24. 'date_ihd_departure'\n",
       "25. 'has_ihd'\n",
       "26. 'los_ihd_days'\n",
       "27. 'age_mi_diag'\n",
       "28. 'date_mi_diagnosis'\n",
       "29. 'date_mi_departure'\n",
       "30. 'has_mi'\n",
       "31. 'los_mi_days'\n",
       "32. 'age_pvd_diag'\n",
       "33. 'date_pvd_diagnosis'\n",
       "34. 'date_pvd_departure'\n",
       "35. 'has_pvd'\n",
       "36. 'los_pvd_days'\n",
       "37. 'age_stroke_diag'\n",
       "38. 'date_stroke_diagnosis'\n",
       "39. 'date_stroke_departure'\n",
       "40. 'has_stroke'\n",
       "41. 'los_stroke_days'\n",
       "42. 'age_valve_disease_diag'\n",
       "43. 'date_valve_disease_diagnosis'\n",
       "44. 'date_valve_disease_departure'\n",
       "45. 'has_valve_disease'\n",
       "46. 'los_valve_disease_days'\n",
       "47. 'has_cvd'\n",
       "48. 'cvd_number'\n",
       "49. 'in_data'\n",
       "\n",
       "\n"
      ],
      "text/plain": [
       " [1] \"person_id\"                     \"age_angina_diag\"              \n",
       " [3] \"date_angina_diagnosis\"         \"date_angina_departure\"        \n",
       " [5] \"has_angina\"                    \"los_angina_days\"              \n",
       " [7] \"age_cardiomyopathy_diag\"       \"date_cardiomyopathy_diagnosis\"\n",
       " [9] \"date_cardiomyopathy_departure\" \"has_cardiomyopathy\"           \n",
       "[11] \"los_cardiomyopathy_days\"       \"age_heart_failure_diag\"       \n",
       "[13] \"date_heart_failure_diagnosis\"  \"date_heart_failure_departure\" \n",
       "[15] \"has_heart_failure\"             \"los_heart_failure_days\"       \n",
       "[17] \"age_hypertension_diag\"         \"date_hypertension_diagnosis\"  \n",
       "[19] \"date_hypertension_departure\"   \"has_hypertension\"             \n",
       "[21] \"los_hypertension_days\"         \"age_ihd_diag\"                 \n",
       "[23] \"date_ihd_diagnosis\"            \"date_ihd_departure\"           \n",
       "[25] \"has_ihd\"                       \"los_ihd_days\"                 \n",
       "[27] \"age_mi_diag\"                   \"date_mi_diagnosis\"            \n",
       "[29] \"date_mi_departure\"             \"has_mi\"                       \n",
       "[31] \"los_mi_days\"                   \"age_pvd_diag\"                 \n",
       "[33] \"date_pvd_diagnosis\"            \"date_pvd_departure\"           \n",
       "[35] \"has_pvd\"                       \"los_pvd_days\"                 \n",
       "[37] \"age_stroke_diag\"               \"date_stroke_diagnosis\"        \n",
       "[39] \"date_stroke_departure\"         \"has_stroke\"                   \n",
       "[41] \"los_stroke_days\"               \"age_valve_disease_diag\"       \n",
       "[43] \"date_valve_disease_diagnosis\"  \"date_valve_disease_departure\" \n",
       "[45] \"has_valve_disease\"             \"los_valve_disease_days\"       \n",
       "[47] \"has_cvd\"                       \"cvd_number\"                   \n",
       "[49] \"in_data\"                      "
      ]
     },
     "metadata": {},
     "output_type": "display_data"
    }
   ],
   "source": [
    "colnames(cvd_ep)"
   ]
  },
  {
   "cell_type": "code",
   "execution_count": 12,
   "id": "85a0ec59-42d1-4675-a93e-817dc8c1147e",
   "metadata": {},
   "outputs": [],
   "source": [
    "# Keep only relevant variables, choose earliest CVD date and LOS for that CVD\n",
    "cvd <- cvd_ep %>%\n",
    "    mutate(earliest_cvd_date = pmin(date_angina_diagnosis, date_cardiomyopathy_diagnosis, date_heart_failure_diagnosis, date_hypertension_diagnosis, date_ihd_diagnosis, date_mi_diagnosis, date_pvd_diagnosis, date_stroke_diagnosis, date_valve_disease_diagnosis, na.rm = TRUE)) %>%\n",
    "    mutate(age_earliest_cvd = case_when(\n",
    "        earliest_cvd_date == date_angina_diagnosis ~ age_angina_diag,\n",
    "        earliest_cvd_date == date_cardiomyopathy_diagnosis ~ age_cardiomyopathy_diag,\n",
    "        earliest_cvd_date == date_heart_failure_diagnosis ~ age_heart_failure_diag,\n",
    "        earliest_cvd_date == date_hypertension_diagnosis ~ age_hypertension_diag,\n",
    "        earliest_cvd_date == date_ihd_diagnosis ~ age_ihd_diag,\n",
    "        earliest_cvd_date == date_mi_diagnosis ~ age_mi_diag,\n",
    "        earliest_cvd_date == date_pvd_diagnosis ~ age_pvd_diag,\n",
    "        earliest_cvd_date == date_stroke_diagnosis ~ age_stroke_diag,\n",
    "        earliest_cvd_date == date_valve_disease_diagnosis ~ age_valve_disease_diag)) %>%\n",
    "    mutate(los_earliest_cvd = case_when(\n",
    "        earliest_cvd_date == date_angina_diagnosis ~ los_angina_days,\n",
    "        earliest_cvd_date == date_cardiomyopathy_diagnosis ~ los_cardiomyopathy_days,\n",
    "        earliest_cvd_date == date_heart_failure_diagnosis ~ los_heart_failure_days,\n",
    "        earliest_cvd_date == date_hypertension_diagnosis ~ los_hypertension_days,\n",
    "        earliest_cvd_date == date_ihd_diagnosis ~ los_ihd_days,\n",
    "        earliest_cvd_date == date_mi_diagnosis ~ los_mi_days,\n",
    "        earliest_cvd_date == date_pvd_diagnosis ~ los_pvd_days,\n",
    "        earliest_cvd_date == date_stroke_diagnosis ~ los_stroke_days,\n",
    "        earliest_cvd_date == date_valve_disease_diagnosis ~ los_valve_disease_days)) %>%\n",
    "    select(person_id, has_cvd, cvd_number, earliest_cvd_date, los_earliest_cvd, age_earliest_cvd)"
   ]
  },
  {
   "cell_type": "code",
   "execution_count": 15,
   "id": "5372c468-06a9-4fdd-a0db-be6e2b70ab25",
   "metadata": {},
   "outputs": [],
   "source": [
    "# Keep relevant vars in diabetes \n",
    "diab <- diabetes %>%\n",
    "    select(person_id, age_earliest_diab, earliest_diabetes_diag, any_diabetes)"
   ]
  },
  {
   "cell_type": "code",
   "execution_count": 17,
   "id": "90f8c83b-8235-4cff-a5e2-f5607e9eceb6",
   "metadata": {},
   "outputs": [
    {
     "data": {
      "text/html": [
       "<table class=\"dataframe\">\n",
       "<caption>A tibble: 6 × 6</caption>\n",
       "<thead>\n",
       "\t<tr><th scope=col>person_id</th><th scope=col>has_cvd</th><th scope=col>cvd_number</th><th scope=col>earliest_cvd_date</th><th scope=col>los_earliest_cvd</th><th scope=col>age_earliest_cvd</th></tr>\n",
       "\t<tr><th scope=col>&lt;int&gt;</th><th scope=col>&lt;int&gt;</th><th scope=col>&lt;int&gt;</th><th scope=col>&lt;date&gt;</th><th scope=col>&lt;int&gt;</th><th scope=col>&lt;int&gt;</th></tr>\n",
       "</thead>\n",
       "<tbody>\n",
       "\t<tr><td>13377215</td><td>1</td><td>2</td><td>2013-04-21</td><td>12</td><td>81</td></tr>\n",
       "\t<tr><td>12693795</td><td>1</td><td>2</td><td>2016-10-21</td><td> 8</td><td>73</td></tr>\n",
       "\t<tr><td>13674850</td><td>1</td><td>2</td><td>2020-10-27</td><td>37</td><td>50</td></tr>\n",
       "\t<tr><td>12517678</td><td>1</td><td>2</td><td>2021-07-27</td><td> 0</td><td>50</td></tr>\n",
       "\t<tr><td>12457945</td><td>1</td><td>2</td><td>2014-11-21</td><td>15</td><td>86</td></tr>\n",
       "\t<tr><td>13054895</td><td>1</td><td>2</td><td>2014-01-15</td><td>15</td><td>77</td></tr>\n",
       "</tbody>\n",
       "</table>\n"
      ],
      "text/latex": [
       "A tibble: 6 × 6\n",
       "\\begin{tabular}{llllll}\n",
       " person\\_id & has\\_cvd & cvd\\_number & earliest\\_cvd\\_date & los\\_earliest\\_cvd & age\\_earliest\\_cvd\\\\\n",
       " <int> & <int> & <int> & <date> & <int> & <int>\\\\\n",
       "\\hline\n",
       "\t 13377215 & 1 & 2 & 2013-04-21 & 12 & 81\\\\\n",
       "\t 12693795 & 1 & 2 & 2016-10-21 &  8 & 73\\\\\n",
       "\t 13674850 & 1 & 2 & 2020-10-27 & 37 & 50\\\\\n",
       "\t 12517678 & 1 & 2 & 2021-07-27 &  0 & 50\\\\\n",
       "\t 12457945 & 1 & 2 & 2014-11-21 & 15 & 86\\\\\n",
       "\t 13054895 & 1 & 2 & 2014-01-15 & 15 & 77\\\\\n",
       "\\end{tabular}\n"
      ],
      "text/markdown": [
       "\n",
       "A tibble: 6 × 6\n",
       "\n",
       "| person_id &lt;int&gt; | has_cvd &lt;int&gt; | cvd_number &lt;int&gt; | earliest_cvd_date &lt;date&gt; | los_earliest_cvd &lt;int&gt; | age_earliest_cvd &lt;int&gt; |\n",
       "|---|---|---|---|---|---|\n",
       "| 13377215 | 1 | 2 | 2013-04-21 | 12 | 81 |\n",
       "| 12693795 | 1 | 2 | 2016-10-21 |  8 | 73 |\n",
       "| 13674850 | 1 | 2 | 2020-10-27 | 37 | 50 |\n",
       "| 12517678 | 1 | 2 | 2021-07-27 |  0 | 50 |\n",
       "| 12457945 | 1 | 2 | 2014-11-21 | 15 | 86 |\n",
       "| 13054895 | 1 | 2 | 2014-01-15 | 15 | 77 |\n",
       "\n"
      ],
      "text/plain": [
       "  person_id has_cvd cvd_number earliest_cvd_date los_earliest_cvd\n",
       "1 13377215  1       2          2013-04-21        12              \n",
       "2 12693795  1       2          2016-10-21         8              \n",
       "3 13674850  1       2          2020-10-27        37              \n",
       "4 12517678  1       2          2021-07-27         0              \n",
       "5 12457945  1       2          2014-11-21        15              \n",
       "6 13054895  1       2          2014-01-15        15              \n",
       "  age_earliest_cvd\n",
       "1 81              \n",
       "2 73              \n",
       "3 50              \n",
       "4 50              \n",
       "5 86              \n",
       "6 77              "
      ]
     },
     "metadata": {},
     "output_type": "display_data"
    },
    {
     "data": {
      "text/html": [
       "<table class=\"dataframe\">\n",
       "<caption>A tibble: 6 × 4</caption>\n",
       "<thead>\n",
       "\t<tr><th scope=col>person_id</th><th scope=col>age_earliest_diab</th><th scope=col>earliest_diabetes_diag</th><th scope=col>any_diabetes</th></tr>\n",
       "\t<tr><th scope=col>&lt;int&gt;</th><th scope=col>&lt;int&gt;</th><th scope=col>&lt;date&gt;</th><th scope=col>&lt;int&gt;</th></tr>\n",
       "</thead>\n",
       "<tbody>\n",
       "\t<tr><td>13548546</td><td>60</td><td>2007-01-11</td><td>1</td></tr>\n",
       "\t<tr><td>12975170</td><td>80</td><td>2020-04-28</td><td>1</td></tr>\n",
       "\t<tr><td>13450523</td><td>36</td><td>2011-10-13</td><td>1</td></tr>\n",
       "\t<tr><td>12431500</td><td>75</td><td>2011-08-16</td><td>1</td></tr>\n",
       "\t<tr><td>13235332</td><td>47</td><td>2007-07-05</td><td>1</td></tr>\n",
       "\t<tr><td>12805324</td><td>39</td><td>2008-04-08</td><td>1</td></tr>\n",
       "</tbody>\n",
       "</table>\n"
      ],
      "text/latex": [
       "A tibble: 6 × 4\n",
       "\\begin{tabular}{llll}\n",
       " person\\_id & age\\_earliest\\_diab & earliest\\_diabetes\\_diag & any\\_diabetes\\\\\n",
       " <int> & <int> & <date> & <int>\\\\\n",
       "\\hline\n",
       "\t 13548546 & 60 & 2007-01-11 & 1\\\\\n",
       "\t 12975170 & 80 & 2020-04-28 & 1\\\\\n",
       "\t 13450523 & 36 & 2011-10-13 & 1\\\\\n",
       "\t 12431500 & 75 & 2011-08-16 & 1\\\\\n",
       "\t 13235332 & 47 & 2007-07-05 & 1\\\\\n",
       "\t 12805324 & 39 & 2008-04-08 & 1\\\\\n",
       "\\end{tabular}\n"
      ],
      "text/markdown": [
       "\n",
       "A tibble: 6 × 4\n",
       "\n",
       "| person_id &lt;int&gt; | age_earliest_diab &lt;int&gt; | earliest_diabetes_diag &lt;date&gt; | any_diabetes &lt;int&gt; |\n",
       "|---|---|---|---|\n",
       "| 13548546 | 60 | 2007-01-11 | 1 |\n",
       "| 12975170 | 80 | 2020-04-28 | 1 |\n",
       "| 13450523 | 36 | 2011-10-13 | 1 |\n",
       "| 12431500 | 75 | 2011-08-16 | 1 |\n",
       "| 13235332 | 47 | 2007-07-05 | 1 |\n",
       "| 12805324 | 39 | 2008-04-08 | 1 |\n",
       "\n"
      ],
      "text/plain": [
       "  person_id age_earliest_diab earliest_diabetes_diag any_diabetes\n",
       "1 13548546  60                2007-01-11             1           \n",
       "2 12975170  80                2020-04-28             1           \n",
       "3 13450523  36                2011-10-13             1           \n",
       "4 12431500  75                2011-08-16             1           \n",
       "5 13235332  47                2007-07-05             1           \n",
       "6 12805324  39                2008-04-08             1           "
      ]
     },
     "metadata": {},
     "output_type": "display_data"
    }
   ],
   "source": [
    "head(cvd)\n",
    "head(diab)"
   ]
  },
  {
   "cell_type": "code",
   "execution_count": 20,
   "id": "c1fa39b5-d4a5-44e3-ac84-2414dffe230d",
   "metadata": {},
   "outputs": [
    {
     "data": {
      "text/html": [
       "<style>\n",
       ".list-inline {list-style: none; margin:0; padding: 0}\n",
       ".list-inline>li {display: inline-block}\n",
       ".list-inline>li:not(:last-child)::after {content: \"\\00b7\"; padding: 0 .5ex}\n",
       "</style>\n",
       "<ol class=list-inline><li>'person_id'</li><li>'age_earliest_diab'</li><li>'earliest_diabetes_diag'</li><li>'any_diabetes'</li><li>'has_cvd'</li><li>'cvd_number'</li><li>'earliest_cvd_date'</li><li>'los_earliest_cvd'</li><li>'age_earliest_cvd'</li></ol>\n"
      ],
      "text/latex": [
       "\\begin{enumerate*}\n",
       "\\item 'person\\_id'\n",
       "\\item 'age\\_earliest\\_diab'\n",
       "\\item 'earliest\\_diabetes\\_diag'\n",
       "\\item 'any\\_diabetes'\n",
       "\\item 'has\\_cvd'\n",
       "\\item 'cvd\\_number'\n",
       "\\item 'earliest\\_cvd\\_date'\n",
       "\\item 'los\\_earliest\\_cvd'\n",
       "\\item 'age\\_earliest\\_cvd'\n",
       "\\end{enumerate*}\n"
      ],
      "text/markdown": [
       "1. 'person_id'\n",
       "2. 'age_earliest_diab'\n",
       "3. 'earliest_diabetes_diag'\n",
       "4. 'any_diabetes'\n",
       "5. 'has_cvd'\n",
       "6. 'cvd_number'\n",
       "7. 'earliest_cvd_date'\n",
       "8. 'los_earliest_cvd'\n",
       "9. 'age_earliest_cvd'\n",
       "\n",
       "\n"
      ],
      "text/plain": [
       "[1] \"person_id\"              \"age_earliest_diab\"      \"earliest_diabetes_diag\"\n",
       "[4] \"any_diabetes\"           \"has_cvd\"                \"cvd_number\"            \n",
       "[7] \"earliest_cvd_date\"      \"los_earliest_cvd\"       \"age_earliest_cvd\"      "
      ]
     },
     "metadata": {},
     "output_type": "display_data"
    }
   ],
   "source": [
    "# Join cvd and diab - inner join, left join or full join?\n",
    "db_cvd <- inner_join(diab, cvd, by = \"person_id\")\n",
    "colnames(db_cvd)"
   ]
  },
  {
   "cell_type": "code",
   "execution_count": 25,
   "id": "60eceed9-99e3-4334-b1f0-06fc61ce7060",
   "metadata": {},
   "outputs": [
    {
     "data": {
      "text/html": [
       "1896"
      ],
      "text/latex": [
       "1896"
      ],
      "text/markdown": [
       "1896"
      ],
      "text/plain": [
       "[1] 1896"
      ]
     },
     "metadata": {},
     "output_type": "display_data"
    },
    {
     "data": {
      "text/plain": [
       "   Min. 1st Qu.  Median    Mean 3rd Qu.    Max. \n",
       "  2.000   2.000   4.000   6.963   7.000 223.000 "
      ]
     },
     "metadata": {},
     "output_type": "display_data"
    },
    {
     "data": {
      "text/html": [
       "5"
      ],
      "text/latex": [
       "5"
      ],
      "text/markdown": [
       "5"
      ],
      "text/plain": [
       "[1] 5"
      ]
     },
     "metadata": {},
     "output_type": "display_data"
    }
   ],
   "source": [
    "sum(db_cvd$los_earliest_cvd == 1)\n",
    "\n",
    "exclude_1_day <- db_cvd %>%\n",
    "    filter(!los_earliest_cvd <= 1)\n",
    "\n",
    "summary(exclude_1_day$los_earliest_cvd)\n",
    "IQR(exclude_1_day$los_earliest_cvd)"
   ]
  }
 ],
 "metadata": {
  "environment": {
   "kernel": "ir",
   "name": "r-cpu.4-2.m111",
   "type": "gcloud",
   "uri": "gcr.io/deeplearning-platform-release/r-cpu.4-2:m111"
  },
  "kernelspec": {
   "display_name": "R",
   "language": "R",
   "name": "ir"
  },
  "language_info": {
   "codemirror_mode": "r",
   "file_extension": ".r",
   "mimetype": "text/x-r-source",
   "name": "R",
   "pygments_lexer": "r",
   "version": "4.3.1"
  }
 },
 "nbformat": 4,
 "nbformat_minor": 5
}
