{
 "cells": [
  {
   "cell_type": "code",
   "execution_count": 31,
   "id": "8afe3a24-1071-46a2-ab4e-ece418ac163b",
   "metadata": {},
   "outputs": [],
   "source": [
    "library(bigrquery)\n",
    "library(tidyverse)"
   ]
  },
  {
   "cell_type": "code",
   "execution_count": 32,
   "id": "30e16e41-b959-4083-a478-551dd9f0e552",
   "metadata": {},
   "outputs": [],
   "source": [
    "# Store the project ID\n",
    "projectid = \"yhcr-prd-phm-bia-core\""
   ]
  },
  {
   "cell_type": "code",
   "execution_count": 33,
   "id": "51daa401-0a4a-4f7d-8700-1ad0dc4361e9",
   "metadata": {},
   "outputs": [],
   "source": [
    "# load diabetes and covariates\n",
    "# Diabetes\n",
    "sql1 <- \"SELECT *  FROM `yhcr-prd-phm-bia-core.CB_MYSPACE_AH.Diabetes`\"\n",
    "tb1 <- bq_project_query(projectid, sql1)\n",
    "diabetes <-bq_table_download(tb1)\n",
    "\n",
    "# Cholesterol\n",
    "sql2 <- \"SELECT *  FROM `yhcr-prd-phm-bia-core.CB_MYSPACE_AH.Cholesterol`\"\n",
    "tb2 <- bq_project_query(projectid, sql2)\n",
    "cholesterol <-bq_table_download(tb2)\n",
    "\n",
    "# BMI\n",
    "sql3 <- \"SELECT *  FROM `yhcr-prd-phm-bia-core.CB_MYSPACE_AH.BMI`\"\n",
    "tb3 <- bq_project_query(projectid, sql3)\n",
    "bmi <-bq_table_download(tb3)\n",
    "\n",
    "# Smoking\n",
    "sql4 <- \"SELECT *  FROM `yhcr-prd-phm-bia-core.CB_MYSPACE_AH.Smoking`\"\n",
    "tb4 <- bq_project_query(projectid, sql4)\n",
    "smoking <-bq_table_download(tb4)\n",
    "\n",
    "# Blood Pressure\n",
    "sql5 <- \"SELECT *  FROM `yhcr-prd-phm-bia-core.CB_MYSPACE_AH.Blood_Pressure`\"\n",
    "tb5 <- bq_project_query(projectid, sql5)\n",
    "bp <-bq_table_download(tb5)\n",
    "\n",
    "# Renal Disease: Creatinine\n",
    "sql6 <- \"SELECT *  FROM `yhcr-prd-phm-bia-core.CB_MYSPACE_AH.Creatinine`\"\n",
    "tb6 <- bq_project_query(projectid, sql6)\n",
    "creatinine <-bq_table_download(tb6)\n",
    "\n",
    "# Renal Disease: ACR\n",
    "sql7 <- \"SELECT *  FROM `yhcr-prd-phm-bia-core.CB_MYSPACE_AH.ACR`\"\n",
    "tb7 <- bq_project_query(projectid, sql7)\n",
    "acr <-bq_table_download(tb7)\n",
    "\n",
    "# Renal Disease: eGFR\n",
    "sql8 <- \"SELECT *  FROM `yhcr-prd-phm-bia-core.CB_MYSPACE_AH.eGFR`\"\n",
    "tb8 <- bq_project_query(projectid, sql8)\n",
    "egfr <-bq_table_download(tb8)"
   ]
  },
  {
   "cell_type": "code",
   "execution_count": 40,
   "id": "2c67e796-be2c-40d5-852c-492f269e9b08",
   "metadata": {},
   "outputs": [
    {
     "data": {
      "text/html": [
       "3464343"
      ],
      "text/latex": [
       "3464343"
      ],
      "text/markdown": [
       "3464343"
      ],
      "text/plain": [
       "[1] 3464343"
      ]
     },
     "metadata": {},
     "output_type": "display_data"
    },
    {
     "data": {
      "text/html": [
       "3386259"
      ],
      "text/latex": [
       "3386259"
      ],
      "text/markdown": [
       "3386259"
      ],
      "text/plain": [
       "[1] 3386259"
      ]
     },
     "metadata": {},
     "output_type": "display_data"
    }
   ],
   "source": [
    "# drop BMI values <14 or >50\n",
    "bmi <- bmi %>% filter(!bmi_value < 14) %>% filter(!bmi_value > 50)\n",
    "nrow(bmi)"
   ]
  },
  {
   "cell_type": "code",
   "execution_count": 41,
   "id": "616f75e5-fee9-4cf7-a275-e2349b70bddd",
   "metadata": {},
   "outputs": [
    {
     "data": {
      "text/html": [
       "<table class=\"dataframe\">\n",
       "<caption>A tibble: 6 × 18</caption>\n",
       "<thead>\n",
       "\t<tr><th scope=col>person_id</th><th scope=col>age_t1d_diag</th><th scope=col>date_t1d_diag</th><th scope=col>t1d_status</th><th scope=col>age_t2d_diag</th><th scope=col>date_t2d_diag</th><th scope=col>t2d_status</th><th scope=col>age_earliest_diab</th><th scope=col>earliest_diabetes_diag</th><th scope=col>any_diabetes</th><th scope=col>diab_death_time</th><th scope=col>diabetes_meds</th><th scope=col>date_bmi</th><th scope=col>bmi</th><th scope=col>bmi_value</th><th scope=col>diff_date</th><th scope=col>order</th><th scope=col>closest_bmi</th></tr>\n",
       "\t<tr><th scope=col>&lt;int&gt;</th><th scope=col>&lt;int&gt;</th><th scope=col>&lt;date&gt;</th><th scope=col>&lt;int&gt;</th><th scope=col>&lt;int&gt;</th><th scope=col>&lt;date&gt;</th><th scope=col>&lt;int&gt;</th><th scope=col>&lt;int&gt;</th><th scope=col>&lt;date&gt;</th><th scope=col>&lt;int&gt;</th><th scope=col>&lt;int&gt;</th><th scope=col>&lt;int&gt;</th><th scope=col>&lt;date&gt;</th><th scope=col>&lt;int&gt;</th><th scope=col>&lt;dbl&gt;</th><th scope=col>&lt;int&gt;</th><th scope=col>&lt;int&gt;</th><th scope=col>&lt;dbl&gt;</th></tr>\n",
       "</thead>\n",
       "<tbody>\n",
       "\t<tr><td> 147</td><td>NA</td><td>NA</td><td>0</td><td>42</td><td>2018-01-29</td><td>1</td><td>42</td><td>2018-01-29</td><td>1</td><td>  NA</td><td>0</td><td>2018-01-19</td><td>3</td><td>26.07897</td><td>10</td><td>1</td><td>1</td></tr>\n",
       "\t<tr><td> 230</td><td>NA</td><td>NA</td><td>0</td><td>53</td><td>2018-12-12</td><td>1</td><td>53</td><td>2018-12-12</td><td>1</td><td>  NA</td><td>0</td><td>2018-12-18</td><td>3</td><td>28.44095</td><td> 6</td><td>1</td><td>1</td></tr>\n",
       "\t<tr><td>1153</td><td>19</td><td>2007-02-19</td><td>1</td><td>NA</td><td>NA</td><td>0</td><td>19</td><td>2007-02-19</td><td>1</td><td>  NA</td><td>0</td><td>2007-03-15</td><td>2</td><td>22.30270</td><td>24</td><td>1</td><td>1</td></tr>\n",
       "\t<tr><td>1168</td><td>NA</td><td>NA</td><td>0</td><td>40</td><td>2007-04-25</td><td>1</td><td>40</td><td>2007-04-25</td><td>1</td><td>  NA</td><td>0</td><td>2007-04-25</td><td>4</td><td>35.00000</td><td> 0</td><td>1</td><td>1</td></tr>\n",
       "\t<tr><td>1422</td><td>NA</td><td>NA</td><td>0</td><td>61</td><td>2013-01-10</td><td>1</td><td>61</td><td>2013-01-10</td><td>1</td><td>  NA</td><td>0</td><td>2012-11-14</td><td>4</td><td>36.57979</td><td>57</td><td>1</td><td>1</td></tr>\n",
       "\t<tr><td>1535</td><td>NA</td><td>NA</td><td>0</td><td>78</td><td>2007-04-23</td><td>1</td><td>78</td><td>2007-04-23</td><td>1</td><td>2033</td><td>0</td><td>2007-04-23</td><td>4</td><td>37.20000</td><td> 0</td><td>1</td><td>1</td></tr>\n",
       "</tbody>\n",
       "</table>\n"
      ],
      "text/latex": [
       "A tibble: 6 × 18\n",
       "\\begin{tabular}{llllllllllllllllll}\n",
       " person\\_id & age\\_t1d\\_diag & date\\_t1d\\_diag & t1d\\_status & age\\_t2d\\_diag & date\\_t2d\\_diag & t2d\\_status & age\\_earliest\\_diab & earliest\\_diabetes\\_diag & any\\_diabetes & diab\\_death\\_time & diabetes\\_meds & date\\_bmi & bmi & bmi\\_value & diff\\_date & order & closest\\_bmi\\\\\n",
       " <int> & <int> & <date> & <int> & <int> & <date> & <int> & <int> & <date> & <int> & <int> & <int> & <date> & <int> & <dbl> & <int> & <int> & <dbl>\\\\\n",
       "\\hline\n",
       "\t  147 & NA & NA & 0 & 42 & 2018-01-29 & 1 & 42 & 2018-01-29 & 1 &   NA & 0 & 2018-01-19 & 3 & 26.07897 & 10 & 1 & 1\\\\\n",
       "\t  230 & NA & NA & 0 & 53 & 2018-12-12 & 1 & 53 & 2018-12-12 & 1 &   NA & 0 & 2018-12-18 & 3 & 28.44095 &  6 & 1 & 1\\\\\n",
       "\t 1153 & 19 & 2007-02-19 & 1 & NA & NA & 0 & 19 & 2007-02-19 & 1 &   NA & 0 & 2007-03-15 & 2 & 22.30270 & 24 & 1 & 1\\\\\n",
       "\t 1168 & NA & NA & 0 & 40 & 2007-04-25 & 1 & 40 & 2007-04-25 & 1 &   NA & 0 & 2007-04-25 & 4 & 35.00000 &  0 & 1 & 1\\\\\n",
       "\t 1422 & NA & NA & 0 & 61 & 2013-01-10 & 1 & 61 & 2013-01-10 & 1 &   NA & 0 & 2012-11-14 & 4 & 36.57979 & 57 & 1 & 1\\\\\n",
       "\t 1535 & NA & NA & 0 & 78 & 2007-04-23 & 1 & 78 & 2007-04-23 & 1 & 2033 & 0 & 2007-04-23 & 4 & 37.20000 &  0 & 1 & 1\\\\\n",
       "\\end{tabular}\n"
      ],
      "text/markdown": [
       "\n",
       "A tibble: 6 × 18\n",
       "\n",
       "| person_id &lt;int&gt; | age_t1d_diag &lt;int&gt; | date_t1d_diag &lt;date&gt; | t1d_status &lt;int&gt; | age_t2d_diag &lt;int&gt; | date_t2d_diag &lt;date&gt; | t2d_status &lt;int&gt; | age_earliest_diab &lt;int&gt; | earliest_diabetes_diag &lt;date&gt; | any_diabetes &lt;int&gt; | diab_death_time &lt;int&gt; | diabetes_meds &lt;int&gt; | date_bmi &lt;date&gt; | bmi &lt;int&gt; | bmi_value &lt;dbl&gt; | diff_date &lt;int&gt; | order &lt;int&gt; | closest_bmi &lt;dbl&gt; |\n",
       "|---|---|---|---|---|---|---|---|---|---|---|---|---|---|---|---|---|---|\n",
       "|  147 | NA | NA | 0 | 42 | 2018-01-29 | 1 | 42 | 2018-01-29 | 1 |   NA | 0 | 2018-01-19 | 3 | 26.07897 | 10 | 1 | 1 |\n",
       "|  230 | NA | NA | 0 | 53 | 2018-12-12 | 1 | 53 | 2018-12-12 | 1 |   NA | 0 | 2018-12-18 | 3 | 28.44095 |  6 | 1 | 1 |\n",
       "| 1153 | 19 | 2007-02-19 | 1 | NA | NA | 0 | 19 | 2007-02-19 | 1 |   NA | 0 | 2007-03-15 | 2 | 22.30270 | 24 | 1 | 1 |\n",
       "| 1168 | NA | NA | 0 | 40 | 2007-04-25 | 1 | 40 | 2007-04-25 | 1 |   NA | 0 | 2007-04-25 | 4 | 35.00000 |  0 | 1 | 1 |\n",
       "| 1422 | NA | NA | 0 | 61 | 2013-01-10 | 1 | 61 | 2013-01-10 | 1 |   NA | 0 | 2012-11-14 | 4 | 36.57979 | 57 | 1 | 1 |\n",
       "| 1535 | NA | NA | 0 | 78 | 2007-04-23 | 1 | 78 | 2007-04-23 | 1 | 2033 | 0 | 2007-04-23 | 4 | 37.20000 |  0 | 1 | 1 |\n",
       "\n"
      ],
      "text/plain": [
       "  person_id age_t1d_diag date_t1d_diag t1d_status age_t2d_diag date_t2d_diag\n",
       "1  147      NA           <NA>          0          42           2018-01-29   \n",
       "2  230      NA           <NA>          0          53           2018-12-12   \n",
       "3 1153      19           2007-02-19    1          NA           <NA>         \n",
       "4 1168      NA           <NA>          0          40           2007-04-25   \n",
       "5 1422      NA           <NA>          0          61           2013-01-10   \n",
       "6 1535      NA           <NA>          0          78           2007-04-23   \n",
       "  t2d_status age_earliest_diab earliest_diabetes_diag any_diabetes\n",
       "1 1          42                2018-01-29             1           \n",
       "2 1          53                2018-12-12             1           \n",
       "3 0          19                2007-02-19             1           \n",
       "4 1          40                2007-04-25             1           \n",
       "5 1          61                2013-01-10             1           \n",
       "6 1          78                2007-04-23             1           \n",
       "  diab_death_time diabetes_meds date_bmi   bmi bmi_value diff_date order\n",
       "1   NA            0             2018-01-19 3   26.07897  10        1    \n",
       "2   NA            0             2018-12-18 3   28.44095   6        1    \n",
       "3   NA            0             2007-03-15 2   22.30270  24        1    \n",
       "4   NA            0             2007-04-25 4   35.00000   0        1    \n",
       "5   NA            0             2012-11-14 4   36.57979  57        1    \n",
       "6 2033            0             2007-04-23 4   37.20000   0        1    \n",
       "  closest_bmi\n",
       "1 1          \n",
       "2 1          \n",
       "3 1          \n",
       "4 1          \n",
       "5 1          \n",
       "6 1          "
      ]
     },
     "metadata": {},
     "output_type": "display_data"
    },
    {
     "data": {
      "text/html": [
       "0"
      ],
      "text/latex": [
       "0"
      ],
      "text/markdown": [
       "0"
      ],
      "text/plain": [
       "[1] 0"
      ]
     },
     "metadata": {},
     "output_type": "display_data"
    }
   ],
   "source": [
    "# Join diabetes and BMI tables\n",
    "diab_bmi <- left_join(diabetes, bmi, by = \"person_id\")\n",
    "\n",
    "# add indicator for bmi event closest to date of diabetes diagnosis, drop those that are > 365 days different\n",
    "diab_bmi <- diab_bmi %>%\n",
    "    mutate(diff_date = as.integer(abs(earliest_diabetes_diag - date_bmi))) %>%\n",
    "    filter(!diff_date >= 366) %>%\n",
    "    group_by(person_id) %>%\n",
    "    arrange(person_id, diff_date) %>%\n",
    "    mutate(order = row_number()) %>%\n",
    "    ungroup() %>%\n",
    "    mutate(closest_bmi = ifelse(order == 1, 1,0)) %>%\n",
    "    filter(closest_bmi == 1)\n",
    "head(diab_bmi)\n",
    "sum(duplicated(diab_bmi))"
   ]
  },
  {
   "cell_type": "code",
   "execution_count": 42,
   "id": "edd26f7c-16b3-4aed-8e67-c342a63aee76",
   "metadata": {},
   "outputs": [
    {
     "data": {
      "text/html": [
       "<table class=\"dataframe\">\n",
       "<caption>A tibble: 6 × 5</caption>\n",
       "<thead>\n",
       "\t<tr><th scope=col>person_id</th><th scope=col>date_bmi</th><th scope=col>bmi</th><th scope=col>closest_bmi</th><th scope=col>bmi_value</th></tr>\n",
       "\t<tr><th scope=col>&lt;int&gt;</th><th scope=col>&lt;date&gt;</th><th scope=col>&lt;int&gt;</th><th scope=col>&lt;dbl&gt;</th><th scope=col>&lt;dbl&gt;</th></tr>\n",
       "</thead>\n",
       "<tbody>\n",
       "\t<tr><td> 147</td><td>2018-01-19</td><td>3</td><td>1</td><td>26.07897</td></tr>\n",
       "\t<tr><td> 230</td><td>2018-12-18</td><td>3</td><td>1</td><td>28.44095</td></tr>\n",
       "\t<tr><td>1153</td><td>2007-03-15</td><td>2</td><td>1</td><td>22.30270</td></tr>\n",
       "\t<tr><td>1168</td><td>2007-04-25</td><td>4</td><td>1</td><td>35.00000</td></tr>\n",
       "\t<tr><td>1422</td><td>2012-11-14</td><td>4</td><td>1</td><td>36.57979</td></tr>\n",
       "\t<tr><td>1535</td><td>2007-04-23</td><td>4</td><td>1</td><td>37.20000</td></tr>\n",
       "</tbody>\n",
       "</table>\n"
      ],
      "text/latex": [
       "A tibble: 6 × 5\n",
       "\\begin{tabular}{lllll}\n",
       " person\\_id & date\\_bmi & bmi & closest\\_bmi & bmi\\_value\\\\\n",
       " <int> & <date> & <int> & <dbl> & <dbl>\\\\\n",
       "\\hline\n",
       "\t  147 & 2018-01-19 & 3 & 1 & 26.07897\\\\\n",
       "\t  230 & 2018-12-18 & 3 & 1 & 28.44095\\\\\n",
       "\t 1153 & 2007-03-15 & 2 & 1 & 22.30270\\\\\n",
       "\t 1168 & 2007-04-25 & 4 & 1 & 35.00000\\\\\n",
       "\t 1422 & 2012-11-14 & 4 & 1 & 36.57979\\\\\n",
       "\t 1535 & 2007-04-23 & 4 & 1 & 37.20000\\\\\n",
       "\\end{tabular}\n"
      ],
      "text/markdown": [
       "\n",
       "A tibble: 6 × 5\n",
       "\n",
       "| person_id &lt;int&gt; | date_bmi &lt;date&gt; | bmi &lt;int&gt; | closest_bmi &lt;dbl&gt; | bmi_value &lt;dbl&gt; |\n",
       "|---|---|---|---|---|\n",
       "|  147 | 2018-01-19 | 3 | 1 | 26.07897 |\n",
       "|  230 | 2018-12-18 | 3 | 1 | 28.44095 |\n",
       "| 1153 | 2007-03-15 | 2 | 1 | 22.30270 |\n",
       "| 1168 | 2007-04-25 | 4 | 1 | 35.00000 |\n",
       "| 1422 | 2012-11-14 | 4 | 1 | 36.57979 |\n",
       "| 1535 | 2007-04-23 | 4 | 1 | 37.20000 |\n",
       "\n"
      ],
      "text/plain": [
       "  person_id date_bmi   bmi closest_bmi bmi_value\n",
       "1  147      2018-01-19 3   1           26.07897 \n",
       "2  230      2018-12-18 3   1           28.44095 \n",
       "3 1153      2007-03-15 2   1           22.30270 \n",
       "4 1168      2007-04-25 4   1           35.00000 \n",
       "5 1422      2012-11-14 4   1           36.57979 \n",
       "6 1535      2007-04-23 4   1           37.20000 "
      ]
     },
     "metadata": {},
     "output_type": "display_data"
    },
    {
     "data": {
      "text/html": [
       "0"
      ],
      "text/latex": [
       "0"
      ],
      "text/markdown": [
       "0"
      ],
      "text/plain": [
       "[1] 0"
      ]
     },
     "metadata": {},
     "output_type": "display_data"
    }
   ],
   "source": [
    "# subset bmi \n",
    "BMI <- diab_bmi %>%\n",
    "select(person_id, date_bmi, bmi, closest_bmi, bmi_value) %>%\n",
    "filter(!is.na(date_bmi))\n",
    "head(BMI)\n",
    "sum(duplicated(BMI))"
   ]
  },
  {
   "cell_type": "code",
   "execution_count": 44,
   "id": "1f8d5daf-eede-48e8-87db-9468a675e352",
   "metadata": {},
   "outputs": [
    {
     "data": {
      "text/html": [
       "34326"
      ],
      "text/latex": [
       "34326"
      ],
      "text/markdown": [
       "34326"
      ],
      "text/plain": [
       "[1] 34326"
      ]
     },
     "metadata": {},
     "output_type": "display_data"
    },
    {
     "data": {
      "text/plain": [
       "\n",
       "    1     2     3     4 \n",
       "  317  4674 11055 17944 "
      ]
     },
     "metadata": {},
     "output_type": "display_data"
    }
   ],
   "source": [
    "nrow(BMI)\n",
    "table(BMI$bmi)"
   ]
  },
  {
   "cell_type": "code",
   "execution_count": 45,
   "id": "d40b66c8-35f2-409d-99cc-fd3b507585d0",
   "metadata": {},
   "outputs": [
    {
     "data": {
      "text/html": [
       "<table class=\"dataframe\">\n",
       "<caption>A tibble: 6 × 17</caption>\n",
       "<thead>\n",
       "\t<tr><th scope=col>person_id</th><th scope=col>age_t1d_diag</th><th scope=col>date_t1d_diag</th><th scope=col>t1d_status</th><th scope=col>age_t2d_diag</th><th scope=col>date_t2d_diag</th><th scope=col>t2d_status</th><th scope=col>age_earliest_diab</th><th scope=col>earliest_diabetes_diag</th><th scope=col>any_diabetes</th><th scope=col>diab_death_time</th><th scope=col>diabetes_meds</th><th scope=col>date_cholesterol</th><th scope=col>cholesterol</th><th scope=col>diff_date</th><th scope=col>order</th><th scope=col>closest_cholesterol</th></tr>\n",
       "\t<tr><th scope=col>&lt;int&gt;</th><th scope=col>&lt;int&gt;</th><th scope=col>&lt;date&gt;</th><th scope=col>&lt;int&gt;</th><th scope=col>&lt;int&gt;</th><th scope=col>&lt;date&gt;</th><th scope=col>&lt;int&gt;</th><th scope=col>&lt;int&gt;</th><th scope=col>&lt;date&gt;</th><th scope=col>&lt;int&gt;</th><th scope=col>&lt;int&gt;</th><th scope=col>&lt;int&gt;</th><th scope=col>&lt;date&gt;</th><th scope=col>&lt;int&gt;</th><th scope=col>&lt;int&gt;</th><th scope=col>&lt;int&gt;</th><th scope=col>&lt;dbl&gt;</th></tr>\n",
       "</thead>\n",
       "<tbody>\n",
       "\t<tr><td>196901</td><td>23</td><td>2009-04-21</td><td>1</td><td>NA</td><td>NA</td><td>0</td><td>23</td><td>2009-04-21</td><td>1</td><td>  NA</td><td>0</td><td>2009-04-16</td><td>1</td><td> 5</td><td>1</td><td>1</td></tr>\n",
       "\t<tr><td>275085</td><td>NA</td><td>NA</td><td>0</td><td>34</td><td>2016-06-07</td><td>1</td><td>34</td><td>2016-06-07</td><td>1</td><td>  NA</td><td>0</td><td>2016-06-06</td><td>2</td><td> 1</td><td>1</td><td>1</td></tr>\n",
       "\t<tr><td>448093</td><td>NA</td><td>NA</td><td>0</td><td>72</td><td>2013-09-03</td><td>1</td><td>72</td><td>2013-09-03</td><td>1</td><td>3329</td><td>0</td><td>2013-09-03</td><td>1</td><td> 0</td><td>1</td><td>1</td></tr>\n",
       "\t<tr><td>512392</td><td>NA</td><td>NA</td><td>0</td><td>75</td><td>2010-04-13</td><td>1</td><td>75</td><td>2010-04-13</td><td>1</td><td> 489</td><td>0</td><td>2010-05-28</td><td>1</td><td>45</td><td>1</td><td>1</td></tr>\n",
       "\t<tr><td>605409</td><td>NA</td><td>NA</td><td>0</td><td>70</td><td>2014-11-24</td><td>1</td><td>70</td><td>2014-11-24</td><td>1</td><td>1421</td><td>0</td><td>2014-09-09</td><td>1</td><td>76</td><td>1</td><td>1</td></tr>\n",
       "\t<tr><td>685452</td><td>NA</td><td>NA</td><td>0</td><td>42</td><td>2015-05-29</td><td>1</td><td>42</td><td>2015-05-29</td><td>1</td><td>  NA</td><td>0</td><td>2015-05-26</td><td>2</td><td> 3</td><td>1</td><td>1</td></tr>\n",
       "</tbody>\n",
       "</table>\n"
      ],
      "text/latex": [
       "A tibble: 6 × 17\n",
       "\\begin{tabular}{lllllllllllllllll}\n",
       " person\\_id & age\\_t1d\\_diag & date\\_t1d\\_diag & t1d\\_status & age\\_t2d\\_diag & date\\_t2d\\_diag & t2d\\_status & age\\_earliest\\_diab & earliest\\_diabetes\\_diag & any\\_diabetes & diab\\_death\\_time & diabetes\\_meds & date\\_cholesterol & cholesterol & diff\\_date & order & closest\\_cholesterol\\\\\n",
       " <int> & <int> & <date> & <int> & <int> & <date> & <int> & <int> & <date> & <int> & <int> & <int> & <date> & <int> & <int> & <int> & <dbl>\\\\\n",
       "\\hline\n",
       "\t 196901 & 23 & 2009-04-21 & 1 & NA & NA & 0 & 23 & 2009-04-21 & 1 &   NA & 0 & 2009-04-16 & 1 &  5 & 1 & 1\\\\\n",
       "\t 275085 & NA & NA & 0 & 34 & 2016-06-07 & 1 & 34 & 2016-06-07 & 1 &   NA & 0 & 2016-06-06 & 2 &  1 & 1 & 1\\\\\n",
       "\t 448093 & NA & NA & 0 & 72 & 2013-09-03 & 1 & 72 & 2013-09-03 & 1 & 3329 & 0 & 2013-09-03 & 1 &  0 & 1 & 1\\\\\n",
       "\t 512392 & NA & NA & 0 & 75 & 2010-04-13 & 1 & 75 & 2010-04-13 & 1 &  489 & 0 & 2010-05-28 & 1 & 45 & 1 & 1\\\\\n",
       "\t 605409 & NA & NA & 0 & 70 & 2014-11-24 & 1 & 70 & 2014-11-24 & 1 & 1421 & 0 & 2014-09-09 & 1 & 76 & 1 & 1\\\\\n",
       "\t 685452 & NA & NA & 0 & 42 & 2015-05-29 & 1 & 42 & 2015-05-29 & 1 &   NA & 0 & 2015-05-26 & 2 &  3 & 1 & 1\\\\\n",
       "\\end{tabular}\n"
      ],
      "text/markdown": [
       "\n",
       "A tibble: 6 × 17\n",
       "\n",
       "| person_id &lt;int&gt; | age_t1d_diag &lt;int&gt; | date_t1d_diag &lt;date&gt; | t1d_status &lt;int&gt; | age_t2d_diag &lt;int&gt; | date_t2d_diag &lt;date&gt; | t2d_status &lt;int&gt; | age_earliest_diab &lt;int&gt; | earliest_diabetes_diag &lt;date&gt; | any_diabetes &lt;int&gt; | diab_death_time &lt;int&gt; | diabetes_meds &lt;int&gt; | date_cholesterol &lt;date&gt; | cholesterol &lt;int&gt; | diff_date &lt;int&gt; | order &lt;int&gt; | closest_cholesterol &lt;dbl&gt; |\n",
       "|---|---|---|---|---|---|---|---|---|---|---|---|---|---|---|---|---|\n",
       "| 196901 | 23 | 2009-04-21 | 1 | NA | NA | 0 | 23 | 2009-04-21 | 1 |   NA | 0 | 2009-04-16 | 1 |  5 | 1 | 1 |\n",
       "| 275085 | NA | NA | 0 | 34 | 2016-06-07 | 1 | 34 | 2016-06-07 | 1 |   NA | 0 | 2016-06-06 | 2 |  1 | 1 | 1 |\n",
       "| 448093 | NA | NA | 0 | 72 | 2013-09-03 | 1 | 72 | 2013-09-03 | 1 | 3329 | 0 | 2013-09-03 | 1 |  0 | 1 | 1 |\n",
       "| 512392 | NA | NA | 0 | 75 | 2010-04-13 | 1 | 75 | 2010-04-13 | 1 |  489 | 0 | 2010-05-28 | 1 | 45 | 1 | 1 |\n",
       "| 605409 | NA | NA | 0 | 70 | 2014-11-24 | 1 | 70 | 2014-11-24 | 1 | 1421 | 0 | 2014-09-09 | 1 | 76 | 1 | 1 |\n",
       "| 685452 | NA | NA | 0 | 42 | 2015-05-29 | 1 | 42 | 2015-05-29 | 1 |   NA | 0 | 2015-05-26 | 2 |  3 | 1 | 1 |\n",
       "\n"
      ],
      "text/plain": [
       "  person_id age_t1d_diag date_t1d_diag t1d_status age_t2d_diag date_t2d_diag\n",
       "1 196901    23           2009-04-21    1          NA           <NA>         \n",
       "2 275085    NA           <NA>          0          34           2016-06-07   \n",
       "3 448093    NA           <NA>          0          72           2013-09-03   \n",
       "4 512392    NA           <NA>          0          75           2010-04-13   \n",
       "5 605409    NA           <NA>          0          70           2014-11-24   \n",
       "6 685452    NA           <NA>          0          42           2015-05-29   \n",
       "  t2d_status age_earliest_diab earliest_diabetes_diag any_diabetes\n",
       "1 0          23                2009-04-21             1           \n",
       "2 1          34                2016-06-07             1           \n",
       "3 1          72                2013-09-03             1           \n",
       "4 1          75                2010-04-13             1           \n",
       "5 1          70                2014-11-24             1           \n",
       "6 1          42                2015-05-29             1           \n",
       "  diab_death_time diabetes_meds date_cholesterol cholesterol diff_date order\n",
       "1   NA            0             2009-04-16       1            5        1    \n",
       "2   NA            0             2016-06-06       2            1        1    \n",
       "3 3329            0             2013-09-03       1            0        1    \n",
       "4  489            0             2010-05-28       1           45        1    \n",
       "5 1421            0             2014-09-09       1           76        1    \n",
       "6   NA            0             2015-05-26       2            3        1    \n",
       "  closest_cholesterol\n",
       "1 1                  \n",
       "2 1                  \n",
       "3 1                  \n",
       "4 1                  \n",
       "5 1                  \n",
       "6 1                  "
      ]
     },
     "metadata": {},
     "output_type": "display_data"
    }
   ],
   "source": [
    "# join diabetes and chol\n",
    "diab_chol <- left_join(diabetes, cholesterol, by = \"person_id\")\n",
    "# add indicator for chol event closest to date of diabetes diagnosis, drop those that are > 365 days different\n",
    "diab_chol <- diab_chol %>%\n",
    "    mutate(diff_date = as.integer(abs(earliest_diabetes_diag - date_cholesterol))) %>%\n",
    "    filter(!diff_date >= 366) %>%\n",
    "    group_by(person_id) %>%\n",
    "    arrange(person_id, diff_date) %>%\n",
    "    mutate(order = row_number()) %>%\n",
    "    ungroup() %>%\n",
    "    mutate(closest_cholesterol = ifelse(order == 1, 1,0)) %>%\n",
    "    filter(closest_cholesterol == 1)\n",
    "head(diab_chol)"
   ]
  },
  {
   "cell_type": "code",
   "execution_count": 46,
   "id": "612419e4-2b8c-4e57-b115-7d10499395ea",
   "metadata": {},
   "outputs": [
    {
     "data": {
      "text/html": [
       "<table class=\"dataframe\">\n",
       "<caption>A tibble: 6 × 4</caption>\n",
       "<thead>\n",
       "\t<tr><th scope=col>person_id</th><th scope=col>date_cholesterol</th><th scope=col>cholesterol</th><th scope=col>closest_cholesterol</th></tr>\n",
       "\t<tr><th scope=col>&lt;int&gt;</th><th scope=col>&lt;date&gt;</th><th scope=col>&lt;int&gt;</th><th scope=col>&lt;dbl&gt;</th></tr>\n",
       "</thead>\n",
       "<tbody>\n",
       "\t<tr><td>196901</td><td>2009-04-16</td><td>1</td><td>1</td></tr>\n",
       "\t<tr><td>275085</td><td>2016-06-06</td><td>2</td><td>1</td></tr>\n",
       "\t<tr><td>448093</td><td>2013-09-03</td><td>1</td><td>1</td></tr>\n",
       "\t<tr><td>512392</td><td>2010-05-28</td><td>1</td><td>1</td></tr>\n",
       "\t<tr><td>605409</td><td>2014-09-09</td><td>1</td><td>1</td></tr>\n",
       "\t<tr><td>685452</td><td>2015-05-26</td><td>2</td><td>1</td></tr>\n",
       "</tbody>\n",
       "</table>\n"
      ],
      "text/latex": [
       "A tibble: 6 × 4\n",
       "\\begin{tabular}{llll}\n",
       " person\\_id & date\\_cholesterol & cholesterol & closest\\_cholesterol\\\\\n",
       " <int> & <date> & <int> & <dbl>\\\\\n",
       "\\hline\n",
       "\t 196901 & 2009-04-16 & 1 & 1\\\\\n",
       "\t 275085 & 2016-06-06 & 2 & 1\\\\\n",
       "\t 448093 & 2013-09-03 & 1 & 1\\\\\n",
       "\t 512392 & 2010-05-28 & 1 & 1\\\\\n",
       "\t 605409 & 2014-09-09 & 1 & 1\\\\\n",
       "\t 685452 & 2015-05-26 & 2 & 1\\\\\n",
       "\\end{tabular}\n"
      ],
      "text/markdown": [
       "\n",
       "A tibble: 6 × 4\n",
       "\n",
       "| person_id &lt;int&gt; | date_cholesterol &lt;date&gt; | cholesterol &lt;int&gt; | closest_cholesterol &lt;dbl&gt; |\n",
       "|---|---|---|---|\n",
       "| 196901 | 2009-04-16 | 1 | 1 |\n",
       "| 275085 | 2016-06-06 | 2 | 1 |\n",
       "| 448093 | 2013-09-03 | 1 | 1 |\n",
       "| 512392 | 2010-05-28 | 1 | 1 |\n",
       "| 605409 | 2014-09-09 | 1 | 1 |\n",
       "| 685452 | 2015-05-26 | 2 | 1 |\n",
       "\n"
      ],
      "text/plain": [
       "  person_id date_cholesterol cholesterol closest_cholesterol\n",
       "1 196901    2009-04-16       1           1                  \n",
       "2 275085    2016-06-06       2           1                  \n",
       "3 448093    2013-09-03       1           1                  \n",
       "4 512392    2010-05-28       1           1                  \n",
       "5 605409    2014-09-09       1           1                  \n",
       "6 685452    2015-05-26       2           1                  "
      ]
     },
     "metadata": {},
     "output_type": "display_data"
    },
    {
     "data": {
      "text/html": [
       "128"
      ],
      "text/latex": [
       "128"
      ],
      "text/markdown": [
       "128"
      ],
      "text/plain": [
       "[1] 128"
      ]
     },
     "metadata": {},
     "output_type": "display_data"
    }
   ],
   "source": [
    "# subset chol \n",
    "Chol <- diab_chol %>%\n",
    "select(person_id, date_cholesterol, cholesterol, closest_cholesterol) %>%\n",
    "filter(!is.na(date_cholesterol))\n",
    "head(Chol)\n",
    "nrow(Chol)"
   ]
  },
  {
   "cell_type": "code",
   "execution_count": 47,
   "id": "05709111-2ac0-4409-9747-a9841dbb9e62",
   "metadata": {},
   "outputs": [
    {
     "data": {
      "text/plain": [
       "\n",
       " 1  2 \n",
       "84 44 "
      ]
     },
     "metadata": {},
     "output_type": "display_data"
    }
   ],
   "source": [
    "table(Chol$cholesterol)"
   ]
  },
  {
   "cell_type": "code",
   "execution_count": 48,
   "id": "783b4292-d2f0-4f8a-a1b8-4113938318af",
   "metadata": {},
   "outputs": [
    {
     "data": {
      "text/html": [
       "<table class=\"dataframe\">\n",
       "<caption>A tibble: 6 × 17</caption>\n",
       "<thead>\n",
       "\t<tr><th scope=col>person_id</th><th scope=col>age_t1d_diag</th><th scope=col>date_t1d_diag</th><th scope=col>t1d_status</th><th scope=col>age_t2d_diag</th><th scope=col>date_t2d_diag</th><th scope=col>t2d_status</th><th scope=col>age_earliest_diab</th><th scope=col>earliest_diabetes_diag</th><th scope=col>any_diabetes</th><th scope=col>diab_death_time</th><th scope=col>diabetes_meds</th><th scope=col>date_smoking</th><th scope=col>smoking</th><th scope=col>diff_date</th><th scope=col>order</th><th scope=col>closest_smoking</th></tr>\n",
       "\t<tr><th scope=col>&lt;int&gt;</th><th scope=col>&lt;int&gt;</th><th scope=col>&lt;date&gt;</th><th scope=col>&lt;int&gt;</th><th scope=col>&lt;int&gt;</th><th scope=col>&lt;date&gt;</th><th scope=col>&lt;int&gt;</th><th scope=col>&lt;int&gt;</th><th scope=col>&lt;date&gt;</th><th scope=col>&lt;int&gt;</th><th scope=col>&lt;int&gt;</th><th scope=col>&lt;int&gt;</th><th scope=col>&lt;date&gt;</th><th scope=col>&lt;int&gt;</th><th scope=col>&lt;int&gt;</th><th scope=col>&lt;int&gt;</th><th scope=col>&lt;dbl&gt;</th></tr>\n",
       "</thead>\n",
       "<tbody>\n",
       "\t<tr><td>1422</td><td>NA</td><td>NA</td><td>0</td><td>61</td><td>2013-01-10</td><td>1</td><td>61</td><td>2013-01-10</td><td>1</td><td>  NA</td><td>0</td><td>2012-11-14</td><td>1</td><td> 57</td><td>1</td><td>1</td></tr>\n",
       "\t<tr><td>1535</td><td>NA</td><td>NA</td><td>0</td><td>78</td><td>2007-04-23</td><td>1</td><td>78</td><td>2007-04-23</td><td>1</td><td>2033</td><td>0</td><td>2007-11-02</td><td>1</td><td>193</td><td>1</td><td>1</td></tr>\n",
       "\t<tr><td>2115</td><td>NA</td><td>NA</td><td>0</td><td>73</td><td>2008-07-22</td><td>1</td><td>73</td><td>2008-07-22</td><td>1</td><td> 754</td><td>0</td><td>2008-08-21</td><td>2</td><td> 30</td><td>1</td><td>1</td></tr>\n",
       "\t<tr><td>2173</td><td>NA</td><td>NA</td><td>0</td><td>58</td><td>2014-09-09</td><td>1</td><td>58</td><td>2014-09-09</td><td>1</td><td>  NA</td><td>0</td><td>2014-09-03</td><td>1</td><td>  6</td><td>1</td><td>1</td></tr>\n",
       "\t<tr><td>2369</td><td>NA</td><td>NA</td><td>0</td><td>53</td><td>2008-10-09</td><td>1</td><td>53</td><td>2008-10-09</td><td>1</td><td>  NA</td><td>0</td><td>2008-06-12</td><td>2</td><td>119</td><td>1</td><td>1</td></tr>\n",
       "\t<tr><td>2427</td><td>NA</td><td>NA</td><td>0</td><td>64</td><td>2017-10-20</td><td>1</td><td>64</td><td>2017-10-20</td><td>1</td><td>  NA</td><td>0</td><td>2017-05-02</td><td>2</td><td>171</td><td>1</td><td>1</td></tr>\n",
       "</tbody>\n",
       "</table>\n"
      ],
      "text/latex": [
       "A tibble: 6 × 17\n",
       "\\begin{tabular}{lllllllllllllllll}\n",
       " person\\_id & age\\_t1d\\_diag & date\\_t1d\\_diag & t1d\\_status & age\\_t2d\\_diag & date\\_t2d\\_diag & t2d\\_status & age\\_earliest\\_diab & earliest\\_diabetes\\_diag & any\\_diabetes & diab\\_death\\_time & diabetes\\_meds & date\\_smoking & smoking & diff\\_date & order & closest\\_smoking\\\\\n",
       " <int> & <int> & <date> & <int> & <int> & <date> & <int> & <int> & <date> & <int> & <int> & <int> & <date> & <int> & <int> & <int> & <dbl>\\\\\n",
       "\\hline\n",
       "\t 1422 & NA & NA & 0 & 61 & 2013-01-10 & 1 & 61 & 2013-01-10 & 1 &   NA & 0 & 2012-11-14 & 1 &  57 & 1 & 1\\\\\n",
       "\t 1535 & NA & NA & 0 & 78 & 2007-04-23 & 1 & 78 & 2007-04-23 & 1 & 2033 & 0 & 2007-11-02 & 1 & 193 & 1 & 1\\\\\n",
       "\t 2115 & NA & NA & 0 & 73 & 2008-07-22 & 1 & 73 & 2008-07-22 & 1 &  754 & 0 & 2008-08-21 & 2 &  30 & 1 & 1\\\\\n",
       "\t 2173 & NA & NA & 0 & 58 & 2014-09-09 & 1 & 58 & 2014-09-09 & 1 &   NA & 0 & 2014-09-03 & 1 &   6 & 1 & 1\\\\\n",
       "\t 2369 & NA & NA & 0 & 53 & 2008-10-09 & 1 & 53 & 2008-10-09 & 1 &   NA & 0 & 2008-06-12 & 2 & 119 & 1 & 1\\\\\n",
       "\t 2427 & NA & NA & 0 & 64 & 2017-10-20 & 1 & 64 & 2017-10-20 & 1 &   NA & 0 & 2017-05-02 & 2 & 171 & 1 & 1\\\\\n",
       "\\end{tabular}\n"
      ],
      "text/markdown": [
       "\n",
       "A tibble: 6 × 17\n",
       "\n",
       "| person_id &lt;int&gt; | age_t1d_diag &lt;int&gt; | date_t1d_diag &lt;date&gt; | t1d_status &lt;int&gt; | age_t2d_diag &lt;int&gt; | date_t2d_diag &lt;date&gt; | t2d_status &lt;int&gt; | age_earliest_diab &lt;int&gt; | earliest_diabetes_diag &lt;date&gt; | any_diabetes &lt;int&gt; | diab_death_time &lt;int&gt; | diabetes_meds &lt;int&gt; | date_smoking &lt;date&gt; | smoking &lt;int&gt; | diff_date &lt;int&gt; | order &lt;int&gt; | closest_smoking &lt;dbl&gt; |\n",
       "|---|---|---|---|---|---|---|---|---|---|---|---|---|---|---|---|---|\n",
       "| 1422 | NA | NA | 0 | 61 | 2013-01-10 | 1 | 61 | 2013-01-10 | 1 |   NA | 0 | 2012-11-14 | 1 |  57 | 1 | 1 |\n",
       "| 1535 | NA | NA | 0 | 78 | 2007-04-23 | 1 | 78 | 2007-04-23 | 1 | 2033 | 0 | 2007-11-02 | 1 | 193 | 1 | 1 |\n",
       "| 2115 | NA | NA | 0 | 73 | 2008-07-22 | 1 | 73 | 2008-07-22 | 1 |  754 | 0 | 2008-08-21 | 2 |  30 | 1 | 1 |\n",
       "| 2173 | NA | NA | 0 | 58 | 2014-09-09 | 1 | 58 | 2014-09-09 | 1 |   NA | 0 | 2014-09-03 | 1 |   6 | 1 | 1 |\n",
       "| 2369 | NA | NA | 0 | 53 | 2008-10-09 | 1 | 53 | 2008-10-09 | 1 |   NA | 0 | 2008-06-12 | 2 | 119 | 1 | 1 |\n",
       "| 2427 | NA | NA | 0 | 64 | 2017-10-20 | 1 | 64 | 2017-10-20 | 1 |   NA | 0 | 2017-05-02 | 2 | 171 | 1 | 1 |\n",
       "\n"
      ],
      "text/plain": [
       "  person_id age_t1d_diag date_t1d_diag t1d_status age_t2d_diag date_t2d_diag\n",
       "1 1422      NA           <NA>          0          61           2013-01-10   \n",
       "2 1535      NA           <NA>          0          78           2007-04-23   \n",
       "3 2115      NA           <NA>          0          73           2008-07-22   \n",
       "4 2173      NA           <NA>          0          58           2014-09-09   \n",
       "5 2369      NA           <NA>          0          53           2008-10-09   \n",
       "6 2427      NA           <NA>          0          64           2017-10-20   \n",
       "  t2d_status age_earliest_diab earliest_diabetes_diag any_diabetes\n",
       "1 1          61                2013-01-10             1           \n",
       "2 1          78                2007-04-23             1           \n",
       "3 1          73                2008-07-22             1           \n",
       "4 1          58                2014-09-09             1           \n",
       "5 1          53                2008-10-09             1           \n",
       "6 1          64                2017-10-20             1           \n",
       "  diab_death_time diabetes_meds date_smoking smoking diff_date order\n",
       "1   NA            0             2012-11-14   1        57       1    \n",
       "2 2033            0             2007-11-02   1       193       1    \n",
       "3  754            0             2008-08-21   2        30       1    \n",
       "4   NA            0             2014-09-03   1         6       1    \n",
       "5   NA            0             2008-06-12   2       119       1    \n",
       "6   NA            0             2017-05-02   2       171       1    \n",
       "  closest_smoking\n",
       "1 1              \n",
       "2 1              \n",
       "3 1              \n",
       "4 1              \n",
       "5 1              \n",
       "6 1              "
      ]
     },
     "metadata": {},
     "output_type": "display_data"
    }
   ],
   "source": [
    "# join diabetes and smoking\n",
    "diab_smoke <- left_join(diabetes, smoking, by = \"person_id\")\n",
    "# add indicator for smoke event closest to date of diabetes diagnosis, drop those that are > 365 days different\n",
    "diab_smoke <- diab_smoke %>%\n",
    "    mutate(diff_date = as.integer(abs(earliest_diabetes_diag - date_smoking))) %>%\n",
    "    filter(!diff_date >= 366) %>%\n",
    "    group_by(person_id) %>%\n",
    "    arrange(person_id, diff_date) %>%\n",
    "    mutate(order = row_number()) %>%\n",
    "    ungroup() %>%\n",
    "    mutate(closest_smoking = ifelse(order == 1, 1,0)) %>%\n",
    "    filter(closest_smoking == 1)\n",
    "head(diab_smoke)"
   ]
  },
  {
   "cell_type": "code",
   "execution_count": 49,
   "id": "01c1d92a-c15d-4fc1-b579-e26993bae433",
   "metadata": {},
   "outputs": [
    {
     "data": {
      "text/html": [
       "<table class=\"dataframe\">\n",
       "<caption>A tibble: 6 × 4</caption>\n",
       "<thead>\n",
       "\t<tr><th scope=col>person_id</th><th scope=col>date_smoking</th><th scope=col>smoking</th><th scope=col>closest_smoking</th></tr>\n",
       "\t<tr><th scope=col>&lt;int&gt;</th><th scope=col>&lt;date&gt;</th><th scope=col>&lt;int&gt;</th><th scope=col>&lt;dbl&gt;</th></tr>\n",
       "</thead>\n",
       "<tbody>\n",
       "\t<tr><td>1422</td><td>2012-11-14</td><td>1</td><td>1</td></tr>\n",
       "\t<tr><td>1535</td><td>2007-11-02</td><td>1</td><td>1</td></tr>\n",
       "\t<tr><td>2115</td><td>2008-08-21</td><td>2</td><td>1</td></tr>\n",
       "\t<tr><td>2173</td><td>2014-09-03</td><td>1</td><td>1</td></tr>\n",
       "\t<tr><td>2369</td><td>2008-06-12</td><td>2</td><td>1</td></tr>\n",
       "\t<tr><td>2427</td><td>2017-05-02</td><td>2</td><td>1</td></tr>\n",
       "</tbody>\n",
       "</table>\n"
      ],
      "text/latex": [
       "A tibble: 6 × 4\n",
       "\\begin{tabular}{llll}\n",
       " person\\_id & date\\_smoking & smoking & closest\\_smoking\\\\\n",
       " <int> & <date> & <int> & <dbl>\\\\\n",
       "\\hline\n",
       "\t 1422 & 2012-11-14 & 1 & 1\\\\\n",
       "\t 1535 & 2007-11-02 & 1 & 1\\\\\n",
       "\t 2115 & 2008-08-21 & 2 & 1\\\\\n",
       "\t 2173 & 2014-09-03 & 1 & 1\\\\\n",
       "\t 2369 & 2008-06-12 & 2 & 1\\\\\n",
       "\t 2427 & 2017-05-02 & 2 & 1\\\\\n",
       "\\end{tabular}\n"
      ],
      "text/markdown": [
       "\n",
       "A tibble: 6 × 4\n",
       "\n",
       "| person_id &lt;int&gt; | date_smoking &lt;date&gt; | smoking &lt;int&gt; | closest_smoking &lt;dbl&gt; |\n",
       "|---|---|---|---|\n",
       "| 1422 | 2012-11-14 | 1 | 1 |\n",
       "| 1535 | 2007-11-02 | 1 | 1 |\n",
       "| 2115 | 2008-08-21 | 2 | 1 |\n",
       "| 2173 | 2014-09-03 | 1 | 1 |\n",
       "| 2369 | 2008-06-12 | 2 | 1 |\n",
       "| 2427 | 2017-05-02 | 2 | 1 |\n",
       "\n"
      ],
      "text/plain": [
       "  person_id date_smoking smoking closest_smoking\n",
       "1 1422      2012-11-14   1       1              \n",
       "2 1535      2007-11-02   1       1              \n",
       "3 2115      2008-08-21   2       1              \n",
       "4 2173      2014-09-03   1       1              \n",
       "5 2369      2008-06-12   2       1              \n",
       "6 2427      2017-05-02   2       1              "
      ]
     },
     "metadata": {},
     "output_type": "display_data"
    },
    {
     "data": {
      "text/html": [
       "18424"
      ],
      "text/latex": [
       "18424"
      ],
      "text/markdown": [
       "18424"
      ],
      "text/plain": [
       "[1] 18424"
      ]
     },
     "metadata": {},
     "output_type": "display_data"
    }
   ],
   "source": [
    "# subset smoking \n",
    "Smoke <- diab_smoke %>%\n",
    "select(person_id, date_smoking, smoking, closest_smoking) %>%\n",
    "filter(!is.na(date_smoking))\n",
    "head(Smoke)\n",
    "nrow(Smoke)"
   ]
  },
  {
   "cell_type": "code",
   "execution_count": 50,
   "id": "2fc5c541-bc3b-47b8-800e-19e431da1a06",
   "metadata": {},
   "outputs": [
    {
     "data": {
      "text/plain": [
       "\n",
       "    1     2     3 \n",
       " 6738 10250  1436 "
      ]
     },
     "metadata": {},
     "output_type": "display_data"
    }
   ],
   "source": [
    "table(Smoke$smoking)"
   ]
  },
  {
   "cell_type": "code",
   "execution_count": 51,
   "id": "96b86096-b6c5-479a-8bab-76f92642a7ca",
   "metadata": {},
   "outputs": [
    {
     "data": {
      "text/html": [
       "<table class=\"dataframe\">\n",
       "<caption>A tibble: 6 × 19</caption>\n",
       "<thead>\n",
       "\t<tr><th scope=col>person_id</th><th scope=col>age_t1d_diag</th><th scope=col>date_t1d_diag</th><th scope=col>t1d_status</th><th scope=col>age_t2d_diag</th><th scope=col>date_t2d_diag</th><th scope=col>t2d_status</th><th scope=col>age_earliest_diab</th><th scope=col>earliest_diabetes_diag</th><th scope=col>any_diabetes</th><th scope=col>diab_death_time</th><th scope=col>diabetes_meds</th><th scope=col>date_bp</th><th scope=col>blood_pressure</th><th scope=col>sbp_value</th><th scope=col>dbp_value</th><th scope=col>diff_date</th><th scope=col>order</th><th scope=col>closest_bp</th></tr>\n",
       "\t<tr><th scope=col>&lt;int&gt;</th><th scope=col>&lt;int&gt;</th><th scope=col>&lt;date&gt;</th><th scope=col>&lt;int&gt;</th><th scope=col>&lt;int&gt;</th><th scope=col>&lt;date&gt;</th><th scope=col>&lt;int&gt;</th><th scope=col>&lt;int&gt;</th><th scope=col>&lt;date&gt;</th><th scope=col>&lt;int&gt;</th><th scope=col>&lt;int&gt;</th><th scope=col>&lt;int&gt;</th><th scope=col>&lt;date&gt;</th><th scope=col>&lt;int&gt;</th><th scope=col>&lt;dbl&gt;</th><th scope=col>&lt;dbl&gt;</th><th scope=col>&lt;int&gt;</th><th scope=col>&lt;int&gt;</th><th scope=col>&lt;dbl&gt;</th></tr>\n",
       "</thead>\n",
       "<tbody>\n",
       "\t<tr><td>36414</td><td>NA</td><td>NA</td><td>0</td><td>67</td><td>2018-08-24</td><td>1</td><td>67</td><td>2018-08-24</td><td>1</td><td>  NA</td><td>0</td><td>2018-08-24</td><td> 2</td><td>130</td><td> 69</td><td>  0</td><td>1</td><td>1</td></tr>\n",
       "\t<tr><td>43294</td><td>NA</td><td>NA</td><td>0</td><td>52</td><td>2007-02-15</td><td>1</td><td>52</td><td>2007-02-15</td><td>1</td><td>3256</td><td>0</td><td>2007-09-20</td><td> 2</td><td> 90</td><td> 70</td><td>217</td><td>1</td><td>1</td></tr>\n",
       "\t<tr><td>54241</td><td> 6</td><td>2017-12-01</td><td>1</td><td>NA</td><td>NA</td><td>0</td><td> 6</td><td>2017-12-01</td><td>1</td><td>  NA</td><td>0</td><td>2018-01-10</td><td>NA</td><td> NA</td><td> 70</td><td> 40</td><td>1</td><td>1</td></tr>\n",
       "\t<tr><td>55960</td><td>33</td><td>2009-06-23</td><td>1</td><td>43</td><td>2019-04-30</td><td>1</td><td>33</td><td>2009-06-23</td><td>1</td><td>  NA</td><td>0</td><td>2009-11-12</td><td> 3</td><td>176</td><td>106</td><td>142</td><td>1</td><td>1</td></tr>\n",
       "\t<tr><td>74946</td><td>NA</td><td>NA</td><td>0</td><td>54</td><td>2017-01-27</td><td>1</td><td>54</td><td>2017-01-27</td><td>1</td><td>  NA</td><td>0</td><td>2017-02-21</td><td> 3</td><td>155</td><td> 99</td><td> 25</td><td>1</td><td>1</td></tr>\n",
       "\t<tr><td>78568</td><td>NA</td><td>NA</td><td>0</td><td>83</td><td>2013-11-05</td><td>1</td><td>83</td><td>2013-11-05</td><td>1</td><td>  NA</td><td>0</td><td>2013-02-04</td><td> 3</td><td>176</td><td> 74</td><td>274</td><td>1</td><td>1</td></tr>\n",
       "</tbody>\n",
       "</table>\n"
      ],
      "text/latex": [
       "A tibble: 6 × 19\n",
       "\\begin{tabular}{lllllllllllllllllll}\n",
       " person\\_id & age\\_t1d\\_diag & date\\_t1d\\_diag & t1d\\_status & age\\_t2d\\_diag & date\\_t2d\\_diag & t2d\\_status & age\\_earliest\\_diab & earliest\\_diabetes\\_diag & any\\_diabetes & diab\\_death\\_time & diabetes\\_meds & date\\_bp & blood\\_pressure & sbp\\_value & dbp\\_value & diff\\_date & order & closest\\_bp\\\\\n",
       " <int> & <int> & <date> & <int> & <int> & <date> & <int> & <int> & <date> & <int> & <int> & <int> & <date> & <int> & <dbl> & <dbl> & <int> & <int> & <dbl>\\\\\n",
       "\\hline\n",
       "\t 36414 & NA & NA & 0 & 67 & 2018-08-24 & 1 & 67 & 2018-08-24 & 1 &   NA & 0 & 2018-08-24 &  2 & 130 &  69 &   0 & 1 & 1\\\\\n",
       "\t 43294 & NA & NA & 0 & 52 & 2007-02-15 & 1 & 52 & 2007-02-15 & 1 & 3256 & 0 & 2007-09-20 &  2 &  90 &  70 & 217 & 1 & 1\\\\\n",
       "\t 54241 &  6 & 2017-12-01 & 1 & NA & NA & 0 &  6 & 2017-12-01 & 1 &   NA & 0 & 2018-01-10 & NA &  NA &  70 &  40 & 1 & 1\\\\\n",
       "\t 55960 & 33 & 2009-06-23 & 1 & 43 & 2019-04-30 & 1 & 33 & 2009-06-23 & 1 &   NA & 0 & 2009-11-12 &  3 & 176 & 106 & 142 & 1 & 1\\\\\n",
       "\t 74946 & NA & NA & 0 & 54 & 2017-01-27 & 1 & 54 & 2017-01-27 & 1 &   NA & 0 & 2017-02-21 &  3 & 155 &  99 &  25 & 1 & 1\\\\\n",
       "\t 78568 & NA & NA & 0 & 83 & 2013-11-05 & 1 & 83 & 2013-11-05 & 1 &   NA & 0 & 2013-02-04 &  3 & 176 &  74 & 274 & 1 & 1\\\\\n",
       "\\end{tabular}\n"
      ],
      "text/markdown": [
       "\n",
       "A tibble: 6 × 19\n",
       "\n",
       "| person_id &lt;int&gt; | age_t1d_diag &lt;int&gt; | date_t1d_diag &lt;date&gt; | t1d_status &lt;int&gt; | age_t2d_diag &lt;int&gt; | date_t2d_diag &lt;date&gt; | t2d_status &lt;int&gt; | age_earliest_diab &lt;int&gt; | earliest_diabetes_diag &lt;date&gt; | any_diabetes &lt;int&gt; | diab_death_time &lt;int&gt; | diabetes_meds &lt;int&gt; | date_bp &lt;date&gt; | blood_pressure &lt;int&gt; | sbp_value &lt;dbl&gt; | dbp_value &lt;dbl&gt; | diff_date &lt;int&gt; | order &lt;int&gt; | closest_bp &lt;dbl&gt; |\n",
       "|---|---|---|---|---|---|---|---|---|---|---|---|---|---|---|---|---|---|---|\n",
       "| 36414 | NA | NA | 0 | 67 | 2018-08-24 | 1 | 67 | 2018-08-24 | 1 |   NA | 0 | 2018-08-24 |  2 | 130 |  69 |   0 | 1 | 1 |\n",
       "| 43294 | NA | NA | 0 | 52 | 2007-02-15 | 1 | 52 | 2007-02-15 | 1 | 3256 | 0 | 2007-09-20 |  2 |  90 |  70 | 217 | 1 | 1 |\n",
       "| 54241 |  6 | 2017-12-01 | 1 | NA | NA | 0 |  6 | 2017-12-01 | 1 |   NA | 0 | 2018-01-10 | NA |  NA |  70 |  40 | 1 | 1 |\n",
       "| 55960 | 33 | 2009-06-23 | 1 | 43 | 2019-04-30 | 1 | 33 | 2009-06-23 | 1 |   NA | 0 | 2009-11-12 |  3 | 176 | 106 | 142 | 1 | 1 |\n",
       "| 74946 | NA | NA | 0 | 54 | 2017-01-27 | 1 | 54 | 2017-01-27 | 1 |   NA | 0 | 2017-02-21 |  3 | 155 |  99 |  25 | 1 | 1 |\n",
       "| 78568 | NA | NA | 0 | 83 | 2013-11-05 | 1 | 83 | 2013-11-05 | 1 |   NA | 0 | 2013-02-04 |  3 | 176 |  74 | 274 | 1 | 1 |\n",
       "\n"
      ],
      "text/plain": [
       "  person_id age_t1d_diag date_t1d_diag t1d_status age_t2d_diag date_t2d_diag\n",
       "1 36414     NA           <NA>          0          67           2018-08-24   \n",
       "2 43294     NA           <NA>          0          52           2007-02-15   \n",
       "3 54241      6           2017-12-01    1          NA           <NA>         \n",
       "4 55960     33           2009-06-23    1          43           2019-04-30   \n",
       "5 74946     NA           <NA>          0          54           2017-01-27   \n",
       "6 78568     NA           <NA>          0          83           2013-11-05   \n",
       "  t2d_status age_earliest_diab earliest_diabetes_diag any_diabetes\n",
       "1 1          67                2018-08-24             1           \n",
       "2 1          52                2007-02-15             1           \n",
       "3 0           6                2017-12-01             1           \n",
       "4 1          33                2009-06-23             1           \n",
       "5 1          54                2017-01-27             1           \n",
       "6 1          83                2013-11-05             1           \n",
       "  diab_death_time diabetes_meds date_bp    blood_pressure sbp_value dbp_value\n",
       "1   NA            0             2018-08-24  2             130        69      \n",
       "2 3256            0             2007-09-20  2              90        70      \n",
       "3   NA            0             2018-01-10 NA              NA        70      \n",
       "4   NA            0             2009-11-12  3             176       106      \n",
       "5   NA            0             2017-02-21  3             155        99      \n",
       "6   NA            0             2013-02-04  3             176        74      \n",
       "  diff_date order closest_bp\n",
       "1   0       1     1         \n",
       "2 217       1     1         \n",
       "3  40       1     1         \n",
       "4 142       1     1         \n",
       "5  25       1     1         \n",
       "6 274       1     1         "
      ]
     },
     "metadata": {},
     "output_type": "display_data"
    },
    {
     "data": {
      "text/html": [
       "0"
      ],
      "text/latex": [
       "0"
      ],
      "text/markdown": [
       "0"
      ],
      "text/plain": [
       "[1] 0"
      ]
     },
     "metadata": {},
     "output_type": "display_data"
    }
   ],
   "source": [
    "# join diabetes and BP\n",
    "diab_bp <- left_join(diabetes, bp, by = \"person_id\")\n",
    "# add indicator for bp event closest to date of diabetes diagnosis, drop those that are > 365 days different\n",
    "diab_bp <- diab_bp %>%\n",
    "    mutate(diff_date = as.integer(abs(earliest_diabetes_diag - date_bp))) %>%\n",
    "    filter(!diff_date >= 366) %>%\n",
    "    group_by(person_id) %>%\n",
    "    arrange(person_id, diff_date) %>%\n",
    "    mutate(order = row_number()) %>%\n",
    "    ungroup() %>%\n",
    "    mutate(closest_bp = ifelse(order == 1, 1,0)) %>%\n",
    "    filter(closest_bp == 1)\n",
    "head(diab_bp)\n",
    "sum(duplicated(diab_bp))"
   ]
  },
  {
   "cell_type": "code",
   "execution_count": 52,
   "id": "7ef54fef-6392-4805-b23a-ba4d8a00592a",
   "metadata": {},
   "outputs": [
    {
     "data": {
      "text/html": [
       "<table class=\"dataframe\">\n",
       "<caption>A tibble: 6 × 6</caption>\n",
       "<thead>\n",
       "\t<tr><th scope=col>person_id</th><th scope=col>date_bp</th><th scope=col>blood_pressure</th><th scope=col>sbp_value</th><th scope=col>dbp_value</th><th scope=col>closest_bp</th></tr>\n",
       "\t<tr><th scope=col>&lt;int&gt;</th><th scope=col>&lt;date&gt;</th><th scope=col>&lt;int&gt;</th><th scope=col>&lt;dbl&gt;</th><th scope=col>&lt;dbl&gt;</th><th scope=col>&lt;dbl&gt;</th></tr>\n",
       "</thead>\n",
       "<tbody>\n",
       "\t<tr><td>36414</td><td>2018-08-24</td><td> 2</td><td>130</td><td> 69</td><td>1</td></tr>\n",
       "\t<tr><td>43294</td><td>2007-09-20</td><td> 2</td><td> 90</td><td> 70</td><td>1</td></tr>\n",
       "\t<tr><td>54241</td><td>2018-01-10</td><td>NA</td><td> NA</td><td> 70</td><td>1</td></tr>\n",
       "\t<tr><td>55960</td><td>2009-11-12</td><td> 3</td><td>176</td><td>106</td><td>1</td></tr>\n",
       "\t<tr><td>74946</td><td>2017-02-21</td><td> 3</td><td>155</td><td> 99</td><td>1</td></tr>\n",
       "\t<tr><td>78568</td><td>2013-02-04</td><td> 3</td><td>176</td><td> 74</td><td>1</td></tr>\n",
       "</tbody>\n",
       "</table>\n"
      ],
      "text/latex": [
       "A tibble: 6 × 6\n",
       "\\begin{tabular}{llllll}\n",
       " person\\_id & date\\_bp & blood\\_pressure & sbp\\_value & dbp\\_value & closest\\_bp\\\\\n",
       " <int> & <date> & <int> & <dbl> & <dbl> & <dbl>\\\\\n",
       "\\hline\n",
       "\t 36414 & 2018-08-24 &  2 & 130 &  69 & 1\\\\\n",
       "\t 43294 & 2007-09-20 &  2 &  90 &  70 & 1\\\\\n",
       "\t 54241 & 2018-01-10 & NA &  NA &  70 & 1\\\\\n",
       "\t 55960 & 2009-11-12 &  3 & 176 & 106 & 1\\\\\n",
       "\t 74946 & 2017-02-21 &  3 & 155 &  99 & 1\\\\\n",
       "\t 78568 & 2013-02-04 &  3 & 176 &  74 & 1\\\\\n",
       "\\end{tabular}\n"
      ],
      "text/markdown": [
       "\n",
       "A tibble: 6 × 6\n",
       "\n",
       "| person_id &lt;int&gt; | date_bp &lt;date&gt; | blood_pressure &lt;int&gt; | sbp_value &lt;dbl&gt; | dbp_value &lt;dbl&gt; | closest_bp &lt;dbl&gt; |\n",
       "|---|---|---|---|---|---|\n",
       "| 36414 | 2018-08-24 |  2 | 130 |  69 | 1 |\n",
       "| 43294 | 2007-09-20 |  2 |  90 |  70 | 1 |\n",
       "| 54241 | 2018-01-10 | NA |  NA |  70 | 1 |\n",
       "| 55960 | 2009-11-12 |  3 | 176 | 106 | 1 |\n",
       "| 74946 | 2017-02-21 |  3 | 155 |  99 | 1 |\n",
       "| 78568 | 2013-02-04 |  3 | 176 |  74 | 1 |\n",
       "\n"
      ],
      "text/plain": [
       "  person_id date_bp    blood_pressure sbp_value dbp_value closest_bp\n",
       "1 36414     2018-08-24  2             130        69       1         \n",
       "2 43294     2007-09-20  2              90        70       1         \n",
       "3 54241     2018-01-10 NA              NA        70       1         \n",
       "4 55960     2009-11-12  3             176       106       1         \n",
       "5 74946     2017-02-21  3             155        99       1         \n",
       "6 78568     2013-02-04  3             176        74       1         "
      ]
     },
     "metadata": {},
     "output_type": "display_data"
    },
    {
     "data": {
      "text/html": [
       "1584"
      ],
      "text/latex": [
       "1584"
      ],
      "text/markdown": [
       "1584"
      ],
      "text/plain": [
       "[1] 1584"
      ]
     },
     "metadata": {},
     "output_type": "display_data"
    },
    {
     "data": {
      "text/html": [
       "0"
      ],
      "text/latex": [
       "0"
      ],
      "text/markdown": [
       "0"
      ],
      "text/plain": [
       "[1] 0"
      ]
     },
     "metadata": {},
     "output_type": "display_data"
    }
   ],
   "source": [
    "# subset bp \n",
    "BP <- diab_bp %>%\n",
    "select(person_id, date_bp, blood_pressure, sbp_value, dbp_value, closest_bp) %>%\n",
    "filter(!is.na(date_bp))\n",
    "head(BP)\n",
    "nrow(BP)\n",
    "sum(duplicated(BP))"
   ]
  },
  {
   "cell_type": "code",
   "execution_count": 53,
   "id": "7eadabdb-69e0-4f50-843e-ba01f342e3f8",
   "metadata": {},
   "outputs": [
    {
     "data": {
      "text/plain": [
       "\n",
       "  1   2   3 \n",
       "155 813 607 "
      ]
     },
     "metadata": {},
     "output_type": "display_data"
    }
   ],
   "source": [
    "table(BP$blood_pressure)"
   ]
  },
  {
   "cell_type": "code",
   "execution_count": 12,
   "id": "87d7a6fe-ba62-473e-988b-8aaa70b7d69b",
   "metadata": {},
   "outputs": [],
   "source": [
    "# join diabetes and renal\n",
    "#diab_renal <- left_join(diabetes, renal, by = \"person_id\")\n",
    "# keep date of bmi event closest to date of diabetes diagnosis\n",
    "#diab_renal <- diab_renal %>%\n",
    "#    mutate(diff_date = abs(date_earliest_diabetes - date_renal)) %>%\n",
    "#    group_by(person_id) %>%\n",
    "#    slice_min(diff_date, with_ties = FALSE)\n",
    "#head(diab_renal)\n"
   ]
  },
  {
   "cell_type": "code",
   "execution_count": 54,
   "id": "6a599bb1-0304-4f4d-a209-16ecc2180ab7",
   "metadata": {},
   "outputs": [
    {
     "data": {
      "text/html": [
       "<table class=\"dataframe\">\n",
       "<caption>A tibble: 6 × 17</caption>\n",
       "<thead>\n",
       "\t<tr><th scope=col>person_id</th><th scope=col>age_t1d_diag</th><th scope=col>date_t1d_diag</th><th scope=col>t1d_status</th><th scope=col>age_t2d_diag</th><th scope=col>date_t2d_diag</th><th scope=col>t2d_status</th><th scope=col>age_earliest_diab</th><th scope=col>earliest_diabetes_diag</th><th scope=col>any_diabetes</th><th scope=col>diab_death_time</th><th scope=col>diabetes_meds</th><th scope=col>date_creatinine</th><th scope=col>creatinine</th><th scope=col>diff_date</th><th scope=col>order</th><th scope=col>closest_creatinine</th></tr>\n",
       "\t<tr><th scope=col>&lt;int&gt;</th><th scope=col>&lt;int&gt;</th><th scope=col>&lt;date&gt;</th><th scope=col>&lt;int&gt;</th><th scope=col>&lt;int&gt;</th><th scope=col>&lt;date&gt;</th><th scope=col>&lt;int&gt;</th><th scope=col>&lt;int&gt;</th><th scope=col>&lt;date&gt;</th><th scope=col>&lt;int&gt;</th><th scope=col>&lt;int&gt;</th><th scope=col>&lt;int&gt;</th><th scope=col>&lt;date&gt;</th><th scope=col>&lt;int&gt;</th><th scope=col>&lt;int&gt;</th><th scope=col>&lt;int&gt;</th><th scope=col>&lt;dbl&gt;</th></tr>\n",
       "</thead>\n",
       "<tbody>\n",
       "\t<tr><td> 147</td><td>NA</td><td>NA</td><td>0</td><td>42</td><td>2018-01-29</td><td>1</td><td>42</td><td>2018-01-29</td><td>1</td><td>  NA</td><td>0</td><td>2018-01-19</td><td>3</td><td> 10</td><td>1</td><td>1</td></tr>\n",
       "\t<tr><td>1153</td><td>19</td><td>2007-02-19</td><td>1</td><td>NA</td><td>NA</td><td>0</td><td>19</td><td>2007-02-19</td><td>1</td><td>  NA</td><td>0</td><td>2007-09-26</td><td>3</td><td>219</td><td>1</td><td>1</td></tr>\n",
       "\t<tr><td>1168</td><td>NA</td><td>NA</td><td>0</td><td>40</td><td>2007-04-25</td><td>1</td><td>40</td><td>2007-04-25</td><td>1</td><td>  NA</td><td>0</td><td>2007-03-23</td><td>3</td><td> 33</td><td>1</td><td>1</td></tr>\n",
       "\t<tr><td>1188</td><td>NA</td><td>NA</td><td>0</td><td>61</td><td>2011-06-06</td><td>1</td><td>61</td><td>2011-06-06</td><td>1</td><td>3114</td><td>0</td><td>2011-07-08</td><td>3</td><td> 32</td><td>1</td><td>1</td></tr>\n",
       "\t<tr><td>1422</td><td>NA</td><td>NA</td><td>0</td><td>61</td><td>2013-01-10</td><td>1</td><td>61</td><td>2013-01-10</td><td>1</td><td>  NA</td><td>0</td><td>2013-08-06</td><td>3</td><td>208</td><td>1</td><td>1</td></tr>\n",
       "\t<tr><td>1535</td><td>NA</td><td>NA</td><td>0</td><td>78</td><td>2007-04-23</td><td>1</td><td>78</td><td>2007-04-23</td><td>1</td><td>2033</td><td>0</td><td>2007-04-23</td><td>2</td><td>  0</td><td>1</td><td>1</td></tr>\n",
       "</tbody>\n",
       "</table>\n"
      ],
      "text/latex": [
       "A tibble: 6 × 17\n",
       "\\begin{tabular}{lllllllllllllllll}\n",
       " person\\_id & age\\_t1d\\_diag & date\\_t1d\\_diag & t1d\\_status & age\\_t2d\\_diag & date\\_t2d\\_diag & t2d\\_status & age\\_earliest\\_diab & earliest\\_diabetes\\_diag & any\\_diabetes & diab\\_death\\_time & diabetes\\_meds & date\\_creatinine & creatinine & diff\\_date & order & closest\\_creatinine\\\\\n",
       " <int> & <int> & <date> & <int> & <int> & <date> & <int> & <int> & <date> & <int> & <int> & <int> & <date> & <int> & <int> & <int> & <dbl>\\\\\n",
       "\\hline\n",
       "\t  147 & NA & NA & 0 & 42 & 2018-01-29 & 1 & 42 & 2018-01-29 & 1 &   NA & 0 & 2018-01-19 & 3 &  10 & 1 & 1\\\\\n",
       "\t 1153 & 19 & 2007-02-19 & 1 & NA & NA & 0 & 19 & 2007-02-19 & 1 &   NA & 0 & 2007-09-26 & 3 & 219 & 1 & 1\\\\\n",
       "\t 1168 & NA & NA & 0 & 40 & 2007-04-25 & 1 & 40 & 2007-04-25 & 1 &   NA & 0 & 2007-03-23 & 3 &  33 & 1 & 1\\\\\n",
       "\t 1188 & NA & NA & 0 & 61 & 2011-06-06 & 1 & 61 & 2011-06-06 & 1 & 3114 & 0 & 2011-07-08 & 3 &  32 & 1 & 1\\\\\n",
       "\t 1422 & NA & NA & 0 & 61 & 2013-01-10 & 1 & 61 & 2013-01-10 & 1 &   NA & 0 & 2013-08-06 & 3 & 208 & 1 & 1\\\\\n",
       "\t 1535 & NA & NA & 0 & 78 & 2007-04-23 & 1 & 78 & 2007-04-23 & 1 & 2033 & 0 & 2007-04-23 & 2 &   0 & 1 & 1\\\\\n",
       "\\end{tabular}\n"
      ],
      "text/markdown": [
       "\n",
       "A tibble: 6 × 17\n",
       "\n",
       "| person_id &lt;int&gt; | age_t1d_diag &lt;int&gt; | date_t1d_diag &lt;date&gt; | t1d_status &lt;int&gt; | age_t2d_diag &lt;int&gt; | date_t2d_diag &lt;date&gt; | t2d_status &lt;int&gt; | age_earliest_diab &lt;int&gt; | earliest_diabetes_diag &lt;date&gt; | any_diabetes &lt;int&gt; | diab_death_time &lt;int&gt; | diabetes_meds &lt;int&gt; | date_creatinine &lt;date&gt; | creatinine &lt;int&gt; | diff_date &lt;int&gt; | order &lt;int&gt; | closest_creatinine &lt;dbl&gt; |\n",
       "|---|---|---|---|---|---|---|---|---|---|---|---|---|---|---|---|---|\n",
       "|  147 | NA | NA | 0 | 42 | 2018-01-29 | 1 | 42 | 2018-01-29 | 1 |   NA | 0 | 2018-01-19 | 3 |  10 | 1 | 1 |\n",
       "| 1153 | 19 | 2007-02-19 | 1 | NA | NA | 0 | 19 | 2007-02-19 | 1 |   NA | 0 | 2007-09-26 | 3 | 219 | 1 | 1 |\n",
       "| 1168 | NA | NA | 0 | 40 | 2007-04-25 | 1 | 40 | 2007-04-25 | 1 |   NA | 0 | 2007-03-23 | 3 |  33 | 1 | 1 |\n",
       "| 1188 | NA | NA | 0 | 61 | 2011-06-06 | 1 | 61 | 2011-06-06 | 1 | 3114 | 0 | 2011-07-08 | 3 |  32 | 1 | 1 |\n",
       "| 1422 | NA | NA | 0 | 61 | 2013-01-10 | 1 | 61 | 2013-01-10 | 1 |   NA | 0 | 2013-08-06 | 3 | 208 | 1 | 1 |\n",
       "| 1535 | NA | NA | 0 | 78 | 2007-04-23 | 1 | 78 | 2007-04-23 | 1 | 2033 | 0 | 2007-04-23 | 2 |   0 | 1 | 1 |\n",
       "\n"
      ],
      "text/plain": [
       "  person_id age_t1d_diag date_t1d_diag t1d_status age_t2d_diag date_t2d_diag\n",
       "1  147      NA           <NA>          0          42           2018-01-29   \n",
       "2 1153      19           2007-02-19    1          NA           <NA>         \n",
       "3 1168      NA           <NA>          0          40           2007-04-25   \n",
       "4 1188      NA           <NA>          0          61           2011-06-06   \n",
       "5 1422      NA           <NA>          0          61           2013-01-10   \n",
       "6 1535      NA           <NA>          0          78           2007-04-23   \n",
       "  t2d_status age_earliest_diab earliest_diabetes_diag any_diabetes\n",
       "1 1          42                2018-01-29             1           \n",
       "2 0          19                2007-02-19             1           \n",
       "3 1          40                2007-04-25             1           \n",
       "4 1          61                2011-06-06             1           \n",
       "5 1          61                2013-01-10             1           \n",
       "6 1          78                2007-04-23             1           \n",
       "  diab_death_time diabetes_meds date_creatinine creatinine diff_date order\n",
       "1   NA            0             2018-01-19      3           10       1    \n",
       "2   NA            0             2007-09-26      3          219       1    \n",
       "3   NA            0             2007-03-23      3           33       1    \n",
       "4 3114            0             2011-07-08      3           32       1    \n",
       "5   NA            0             2013-08-06      3          208       1    \n",
       "6 2033            0             2007-04-23      2            0       1    \n",
       "  closest_creatinine\n",
       "1 1                 \n",
       "2 1                 \n",
       "3 1                 \n",
       "4 1                 \n",
       "5 1                 \n",
       "6 1                 "
      ]
     },
     "metadata": {},
     "output_type": "display_data"
    }
   ],
   "source": [
    "# Join diabetes and creatinine\n",
    "diab_cr <- left_join(diabetes, creatinine, by = \"person_id\")\n",
    "\n",
    "# add indicator for creatinine event closest to date of diabetes diagnosis, drop those that are > 365 days different\n",
    "diab_cr <- diab_cr %>%\n",
    "    mutate(diff_date = as.integer(abs(earliest_diabetes_diag - date_creatinine))) %>%\n",
    "    filter(!diff_date >= 366) %>%\n",
    "    group_by(person_id) %>%\n",
    "    arrange(person_id, diff_date) %>%\n",
    "    mutate(order = row_number()) %>%\n",
    "    ungroup() %>%\n",
    "    mutate(closest_creatinine = ifelse(order == 1, 1,0)) %>%\n",
    "    filter(closest_creatinine == 1)\n",
    "head(diab_cr)"
   ]
  },
  {
   "cell_type": "code",
   "execution_count": 55,
   "id": "2534a463-ed18-487d-a8d2-3ff9935f6f8b",
   "metadata": {},
   "outputs": [
    {
     "data": {
      "text/html": [
       "<table class=\"dataframe\">\n",
       "<caption>A tibble: 6 × 4</caption>\n",
       "<thead>\n",
       "\t<tr><th scope=col>person_id</th><th scope=col>date_creatinine</th><th scope=col>creatinine</th><th scope=col>closest_creatinine</th></tr>\n",
       "\t<tr><th scope=col>&lt;int&gt;</th><th scope=col>&lt;date&gt;</th><th scope=col>&lt;int&gt;</th><th scope=col>&lt;dbl&gt;</th></tr>\n",
       "</thead>\n",
       "<tbody>\n",
       "\t<tr><td> 147</td><td>2018-01-19</td><td>3</td><td>1</td></tr>\n",
       "\t<tr><td>1153</td><td>2007-09-26</td><td>3</td><td>1</td></tr>\n",
       "\t<tr><td>1168</td><td>2007-03-23</td><td>3</td><td>1</td></tr>\n",
       "\t<tr><td>1188</td><td>2011-07-08</td><td>3</td><td>1</td></tr>\n",
       "\t<tr><td>1422</td><td>2013-08-06</td><td>3</td><td>1</td></tr>\n",
       "\t<tr><td>1535</td><td>2007-04-23</td><td>2</td><td>1</td></tr>\n",
       "</tbody>\n",
       "</table>\n"
      ],
      "text/latex": [
       "A tibble: 6 × 4\n",
       "\\begin{tabular}{llll}\n",
       " person\\_id & date\\_creatinine & creatinine & closest\\_creatinine\\\\\n",
       " <int> & <date> & <int> & <dbl>\\\\\n",
       "\\hline\n",
       "\t  147 & 2018-01-19 & 3 & 1\\\\\n",
       "\t 1153 & 2007-09-26 & 3 & 1\\\\\n",
       "\t 1168 & 2007-03-23 & 3 & 1\\\\\n",
       "\t 1188 & 2011-07-08 & 3 & 1\\\\\n",
       "\t 1422 & 2013-08-06 & 3 & 1\\\\\n",
       "\t 1535 & 2007-04-23 & 2 & 1\\\\\n",
       "\\end{tabular}\n"
      ],
      "text/markdown": [
       "\n",
       "A tibble: 6 × 4\n",
       "\n",
       "| person_id &lt;int&gt; | date_creatinine &lt;date&gt; | creatinine &lt;int&gt; | closest_creatinine &lt;dbl&gt; |\n",
       "|---|---|---|---|\n",
       "|  147 | 2018-01-19 | 3 | 1 |\n",
       "| 1153 | 2007-09-26 | 3 | 1 |\n",
       "| 1168 | 2007-03-23 | 3 | 1 |\n",
       "| 1188 | 2011-07-08 | 3 | 1 |\n",
       "| 1422 | 2013-08-06 | 3 | 1 |\n",
       "| 1535 | 2007-04-23 | 2 | 1 |\n",
       "\n"
      ],
      "text/plain": [
       "  person_id date_creatinine creatinine closest_creatinine\n",
       "1  147      2018-01-19      3          1                 \n",
       "2 1153      2007-09-26      3          1                 \n",
       "3 1168      2007-03-23      3          1                 \n",
       "4 1188      2011-07-08      3          1                 \n",
       "5 1422      2013-08-06      3          1                 \n",
       "6 1535      2007-04-23      2          1                 "
      ]
     },
     "metadata": {},
     "output_type": "display_data"
    },
    {
     "data": {
      "text/html": [
       "35108"
      ],
      "text/latex": [
       "35108"
      ],
      "text/markdown": [
       "35108"
      ],
      "text/plain": [
       "[1] 35108"
      ]
     },
     "metadata": {},
     "output_type": "display_data"
    }
   ],
   "source": [
    "# subset cr \n",
    "Creatinine <- diab_cr %>%\n",
    "select(person_id, date_creatinine, creatinine, closest_creatinine) %>%\n",
    "filter(!is.na(date_creatinine))\n",
    "head(Creatinine)\n",
    "nrow(Creatinine)"
   ]
  },
  {
   "cell_type": "code",
   "execution_count": 56,
   "id": "62ded18f-b6d8-4a22-8644-6ed0bc2f369c",
   "metadata": {},
   "outputs": [
    {
     "data": {
      "text/plain": [
       "\n",
       "    1     2     3 \n",
       "  410  9135 25563 "
      ]
     },
     "metadata": {},
     "output_type": "display_data"
    }
   ],
   "source": [
    "table(Creatinine$creatinine)"
   ]
  },
  {
   "cell_type": "code",
   "execution_count": 57,
   "id": "809492f4-c20c-464f-b42e-a7383cb997ff",
   "metadata": {},
   "outputs": [
    {
     "data": {
      "text/html": [
       "<table class=\"dataframe\">\n",
       "<caption>A tibble: 6 × 17</caption>\n",
       "<thead>\n",
       "\t<tr><th scope=col>person_id</th><th scope=col>age_t1d_diag</th><th scope=col>date_t1d_diag</th><th scope=col>t1d_status</th><th scope=col>age_t2d_diag</th><th scope=col>date_t2d_diag</th><th scope=col>t2d_status</th><th scope=col>age_earliest_diab</th><th scope=col>earliest_diabetes_diag</th><th scope=col>any_diabetes</th><th scope=col>diab_death_time</th><th scope=col>diabetes_meds</th><th scope=col>date_acr</th><th scope=col>acr</th><th scope=col>diff_date</th><th scope=col>order</th><th scope=col>closest_acr</th></tr>\n",
       "\t<tr><th scope=col>&lt;int&gt;</th><th scope=col>&lt;int&gt;</th><th scope=col>&lt;date&gt;</th><th scope=col>&lt;int&gt;</th><th scope=col>&lt;int&gt;</th><th scope=col>&lt;date&gt;</th><th scope=col>&lt;int&gt;</th><th scope=col>&lt;int&gt;</th><th scope=col>&lt;date&gt;</th><th scope=col>&lt;int&gt;</th><th scope=col>&lt;int&gt;</th><th scope=col>&lt;int&gt;</th><th scope=col>&lt;date&gt;</th><th scope=col>&lt;int&gt;</th><th scope=col>&lt;int&gt;</th><th scope=col>&lt;int&gt;</th><th scope=col>&lt;dbl&gt;</th></tr>\n",
       "</thead>\n",
       "<tbody>\n",
       "\t<tr><td> 147</td><td>NA</td><td>NA</td><td>0</td><td>42</td><td>2018-01-29</td><td>1</td><td>42</td><td>2018-01-29</td><td>1</td><td>  NA</td><td>0</td><td>2018-01-19</td><td>1</td><td> 10</td><td>1</td><td>1</td></tr>\n",
       "\t<tr><td>1153</td><td>19</td><td>2007-02-19</td><td>1</td><td>NA</td><td>NA</td><td>0</td><td>19</td><td>2007-02-19</td><td>1</td><td>  NA</td><td>0</td><td>2006-08-22</td><td>1</td><td>181</td><td>1</td><td>1</td></tr>\n",
       "\t<tr><td>1168</td><td>NA</td><td>NA</td><td>0</td><td>40</td><td>2007-04-25</td><td>1</td><td>40</td><td>2007-04-25</td><td>1</td><td>  NA</td><td>0</td><td>2006-11-29</td><td>1</td><td>147</td><td>1</td><td>1</td></tr>\n",
       "\t<tr><td>1535</td><td>NA</td><td>NA</td><td>0</td><td>78</td><td>2007-04-23</td><td>1</td><td>78</td><td>2007-04-23</td><td>1</td><td>2033</td><td>0</td><td>2007-04-23</td><td>1</td><td>  0</td><td>1</td><td>1</td></tr>\n",
       "\t<tr><td>2173</td><td>NA</td><td>NA</td><td>0</td><td>58</td><td>2014-09-09</td><td>1</td><td>58</td><td>2014-09-09</td><td>1</td><td>  NA</td><td>0</td><td>2014-09-24</td><td>1</td><td> 15</td><td>1</td><td>1</td></tr>\n",
       "\t<tr><td>2427</td><td>NA</td><td>NA</td><td>0</td><td>64</td><td>2017-10-20</td><td>1</td><td>64</td><td>2017-10-20</td><td>1</td><td>  NA</td><td>0</td><td>2017-10-05</td><td>1</td><td> 15</td><td>1</td><td>1</td></tr>\n",
       "</tbody>\n",
       "</table>\n"
      ],
      "text/latex": [
       "A tibble: 6 × 17\n",
       "\\begin{tabular}{lllllllllllllllll}\n",
       " person\\_id & age\\_t1d\\_diag & date\\_t1d\\_diag & t1d\\_status & age\\_t2d\\_diag & date\\_t2d\\_diag & t2d\\_status & age\\_earliest\\_diab & earliest\\_diabetes\\_diag & any\\_diabetes & diab\\_death\\_time & diabetes\\_meds & date\\_acr & acr & diff\\_date & order & closest\\_acr\\\\\n",
       " <int> & <int> & <date> & <int> & <int> & <date> & <int> & <int> & <date> & <int> & <int> & <int> & <date> & <int> & <int> & <int> & <dbl>\\\\\n",
       "\\hline\n",
       "\t  147 & NA & NA & 0 & 42 & 2018-01-29 & 1 & 42 & 2018-01-29 & 1 &   NA & 0 & 2018-01-19 & 1 &  10 & 1 & 1\\\\\n",
       "\t 1153 & 19 & 2007-02-19 & 1 & NA & NA & 0 & 19 & 2007-02-19 & 1 &   NA & 0 & 2006-08-22 & 1 & 181 & 1 & 1\\\\\n",
       "\t 1168 & NA & NA & 0 & 40 & 2007-04-25 & 1 & 40 & 2007-04-25 & 1 &   NA & 0 & 2006-11-29 & 1 & 147 & 1 & 1\\\\\n",
       "\t 1535 & NA & NA & 0 & 78 & 2007-04-23 & 1 & 78 & 2007-04-23 & 1 & 2033 & 0 & 2007-04-23 & 1 &   0 & 1 & 1\\\\\n",
       "\t 2173 & NA & NA & 0 & 58 & 2014-09-09 & 1 & 58 & 2014-09-09 & 1 &   NA & 0 & 2014-09-24 & 1 &  15 & 1 & 1\\\\\n",
       "\t 2427 & NA & NA & 0 & 64 & 2017-10-20 & 1 & 64 & 2017-10-20 & 1 &   NA & 0 & 2017-10-05 & 1 &  15 & 1 & 1\\\\\n",
       "\\end{tabular}\n"
      ],
      "text/markdown": [
       "\n",
       "A tibble: 6 × 17\n",
       "\n",
       "| person_id &lt;int&gt; | age_t1d_diag &lt;int&gt; | date_t1d_diag &lt;date&gt; | t1d_status &lt;int&gt; | age_t2d_diag &lt;int&gt; | date_t2d_diag &lt;date&gt; | t2d_status &lt;int&gt; | age_earliest_diab &lt;int&gt; | earliest_diabetes_diag &lt;date&gt; | any_diabetes &lt;int&gt; | diab_death_time &lt;int&gt; | diabetes_meds &lt;int&gt; | date_acr &lt;date&gt; | acr &lt;int&gt; | diff_date &lt;int&gt; | order &lt;int&gt; | closest_acr &lt;dbl&gt; |\n",
       "|---|---|---|---|---|---|---|---|---|---|---|---|---|---|---|---|---|\n",
       "|  147 | NA | NA | 0 | 42 | 2018-01-29 | 1 | 42 | 2018-01-29 | 1 |   NA | 0 | 2018-01-19 | 1 |  10 | 1 | 1 |\n",
       "| 1153 | 19 | 2007-02-19 | 1 | NA | NA | 0 | 19 | 2007-02-19 | 1 |   NA | 0 | 2006-08-22 | 1 | 181 | 1 | 1 |\n",
       "| 1168 | NA | NA | 0 | 40 | 2007-04-25 | 1 | 40 | 2007-04-25 | 1 |   NA | 0 | 2006-11-29 | 1 | 147 | 1 | 1 |\n",
       "| 1535 | NA | NA | 0 | 78 | 2007-04-23 | 1 | 78 | 2007-04-23 | 1 | 2033 | 0 | 2007-04-23 | 1 |   0 | 1 | 1 |\n",
       "| 2173 | NA | NA | 0 | 58 | 2014-09-09 | 1 | 58 | 2014-09-09 | 1 |   NA | 0 | 2014-09-24 | 1 |  15 | 1 | 1 |\n",
       "| 2427 | NA | NA | 0 | 64 | 2017-10-20 | 1 | 64 | 2017-10-20 | 1 |   NA | 0 | 2017-10-05 | 1 |  15 | 1 | 1 |\n",
       "\n"
      ],
      "text/plain": [
       "  person_id age_t1d_diag date_t1d_diag t1d_status age_t2d_diag date_t2d_diag\n",
       "1  147      NA           <NA>          0          42           2018-01-29   \n",
       "2 1153      19           2007-02-19    1          NA           <NA>         \n",
       "3 1168      NA           <NA>          0          40           2007-04-25   \n",
       "4 1535      NA           <NA>          0          78           2007-04-23   \n",
       "5 2173      NA           <NA>          0          58           2014-09-09   \n",
       "6 2427      NA           <NA>          0          64           2017-10-20   \n",
       "  t2d_status age_earliest_diab earliest_diabetes_diag any_diabetes\n",
       "1 1          42                2018-01-29             1           \n",
       "2 0          19                2007-02-19             1           \n",
       "3 1          40                2007-04-25             1           \n",
       "4 1          78                2007-04-23             1           \n",
       "5 1          58                2014-09-09             1           \n",
       "6 1          64                2017-10-20             1           \n",
       "  diab_death_time diabetes_meds date_acr   acr diff_date order closest_acr\n",
       "1   NA            0             2018-01-19 1    10       1     1          \n",
       "2   NA            0             2006-08-22 1   181       1     1          \n",
       "3   NA            0             2006-11-29 1   147       1     1          \n",
       "4 2033            0             2007-04-23 1     0       1     1          \n",
       "5   NA            0             2014-09-24 1    15       1     1          \n",
       "6   NA            0             2017-10-05 1    15       1     1          "
      ]
     },
     "metadata": {},
     "output_type": "display_data"
    }
   ],
   "source": [
    "# Join diabetes and albumin:creatinine ratio\n",
    "diab_acr <- left_join(diabetes, acr, by = \"person_id\")\n",
    "\n",
    "# add indicator for acr event closest to date of diabetes diagnosis, drop those that are > 365 days different\n",
    "diab_acr <- diab_acr %>%\n",
    "    mutate(diff_date = as.integer(abs(earliest_diabetes_diag - date_acr))) %>%\n",
    "    filter(!diff_date >= 366) %>%\n",
    "    group_by(person_id) %>%\n",
    "    arrange(person_id, diff_date) %>%\n",
    "    mutate(order = row_number()) %>%\n",
    "    ungroup() %>%\n",
    "    mutate(closest_acr = ifelse(order == 1, 1,0)) %>%\n",
    "    filter(closest_acr == 1)\n",
    "head(diab_acr)"
   ]
  },
  {
   "cell_type": "code",
   "execution_count": 58,
   "id": "92616754-f311-4e95-bc2c-fd871cc62af3",
   "metadata": {},
   "outputs": [
    {
     "data": {
      "text/html": [
       "<table class=\"dataframe\">\n",
       "<caption>A tibble: 6 × 4</caption>\n",
       "<thead>\n",
       "\t<tr><th scope=col>person_id</th><th scope=col>date_acr</th><th scope=col>acr</th><th scope=col>closest_acr</th></tr>\n",
       "\t<tr><th scope=col>&lt;int&gt;</th><th scope=col>&lt;date&gt;</th><th scope=col>&lt;int&gt;</th><th scope=col>&lt;dbl&gt;</th></tr>\n",
       "</thead>\n",
       "<tbody>\n",
       "\t<tr><td> 147</td><td>2018-01-19</td><td>1</td><td>1</td></tr>\n",
       "\t<tr><td>1153</td><td>2006-08-22</td><td>1</td><td>1</td></tr>\n",
       "\t<tr><td>1168</td><td>2006-11-29</td><td>1</td><td>1</td></tr>\n",
       "\t<tr><td>1535</td><td>2007-04-23</td><td>1</td><td>1</td></tr>\n",
       "\t<tr><td>2173</td><td>2014-09-24</td><td>1</td><td>1</td></tr>\n",
       "\t<tr><td>2427</td><td>2017-10-05</td><td>1</td><td>1</td></tr>\n",
       "</tbody>\n",
       "</table>\n"
      ],
      "text/latex": [
       "A tibble: 6 × 4\n",
       "\\begin{tabular}{llll}\n",
       " person\\_id & date\\_acr & acr & closest\\_acr\\\\\n",
       " <int> & <date> & <int> & <dbl>\\\\\n",
       "\\hline\n",
       "\t  147 & 2018-01-19 & 1 & 1\\\\\n",
       "\t 1153 & 2006-08-22 & 1 & 1\\\\\n",
       "\t 1168 & 2006-11-29 & 1 & 1\\\\\n",
       "\t 1535 & 2007-04-23 & 1 & 1\\\\\n",
       "\t 2173 & 2014-09-24 & 1 & 1\\\\\n",
       "\t 2427 & 2017-10-05 & 1 & 1\\\\\n",
       "\\end{tabular}\n"
      ],
      "text/markdown": [
       "\n",
       "A tibble: 6 × 4\n",
       "\n",
       "| person_id &lt;int&gt; | date_acr &lt;date&gt; | acr &lt;int&gt; | closest_acr &lt;dbl&gt; |\n",
       "|---|---|---|---|\n",
       "|  147 | 2018-01-19 | 1 | 1 |\n",
       "| 1153 | 2006-08-22 | 1 | 1 |\n",
       "| 1168 | 2006-11-29 | 1 | 1 |\n",
       "| 1535 | 2007-04-23 | 1 | 1 |\n",
       "| 2173 | 2014-09-24 | 1 | 1 |\n",
       "| 2427 | 2017-10-05 | 1 | 1 |\n",
       "\n"
      ],
      "text/plain": [
       "  person_id date_acr   acr closest_acr\n",
       "1  147      2018-01-19 1   1          \n",
       "2 1153      2006-08-22 1   1          \n",
       "3 1168      2006-11-29 1   1          \n",
       "4 1535      2007-04-23 1   1          \n",
       "5 2173      2014-09-24 1   1          \n",
       "6 2427      2017-10-05 1   1          "
      ]
     },
     "metadata": {},
     "output_type": "display_data"
    },
    {
     "data": {
      "text/html": [
       "26168"
      ],
      "text/latex": [
       "26168"
      ],
      "text/markdown": [
       "26168"
      ],
      "text/plain": [
       "[1] 26168"
      ]
     },
     "metadata": {},
     "output_type": "display_data"
    }
   ],
   "source": [
    "# subset albumin:creatinine ratio\n",
    "ACR <- diab_acr %>%\n",
    "select(person_id, date_acr, acr, closest_acr) %>%\n",
    "filter(!is.na(date_acr))\n",
    "head(ACR)\n",
    "nrow(ACR)"
   ]
  },
  {
   "cell_type": "code",
   "execution_count": 59,
   "id": "5feaabe2-1516-4107-9caf-00733d84ba4e",
   "metadata": {},
   "outputs": [
    {
     "data": {
      "text/plain": [
       "\n",
       "    1     2     3 \n",
       "22989    20  3159 "
      ]
     },
     "metadata": {},
     "output_type": "display_data"
    }
   ],
   "source": [
    "table(ACR$acr)"
   ]
  },
  {
   "cell_type": "code",
   "execution_count": 60,
   "id": "b3442d53-880f-485d-b728-a6232e9bdaef",
   "metadata": {},
   "outputs": [
    {
     "data": {
      "text/html": [
       "<table class=\"dataframe\">\n",
       "<caption>A tibble: 6 × 17</caption>\n",
       "<thead>\n",
       "\t<tr><th scope=col>person_id</th><th scope=col>age_t1d_diag</th><th scope=col>date_t1d_diag</th><th scope=col>t1d_status</th><th scope=col>age_t2d_diag</th><th scope=col>date_t2d_diag</th><th scope=col>t2d_status</th><th scope=col>age_earliest_diab</th><th scope=col>earliest_diabetes_diag</th><th scope=col>any_diabetes</th><th scope=col>diab_death_time</th><th scope=col>diabetes_meds</th><th scope=col>date_egfr</th><th scope=col>egfr</th><th scope=col>diff_date</th><th scope=col>order</th><th scope=col>closest_egfr</th></tr>\n",
       "\t<tr><th scope=col>&lt;int&gt;</th><th scope=col>&lt;int&gt;</th><th scope=col>&lt;date&gt;</th><th scope=col>&lt;int&gt;</th><th scope=col>&lt;int&gt;</th><th scope=col>&lt;date&gt;</th><th scope=col>&lt;int&gt;</th><th scope=col>&lt;int&gt;</th><th scope=col>&lt;date&gt;</th><th scope=col>&lt;int&gt;</th><th scope=col>&lt;int&gt;</th><th scope=col>&lt;int&gt;</th><th scope=col>&lt;date&gt;</th><th scope=col>&lt;int&gt;</th><th scope=col>&lt;int&gt;</th><th scope=col>&lt;int&gt;</th><th scope=col>&lt;dbl&gt;</th></tr>\n",
       "</thead>\n",
       "<tbody>\n",
       "\t<tr><td>12414023</td><td>NA</td><td>NA</td><td>0</td><td>45</td><td>2014-12-08</td><td>1</td><td>45</td><td>2014-12-08</td><td>1</td><td>  NA</td><td>0</td><td>2014-05-19</td><td>2</td><td>203</td><td>1</td><td>1</td></tr>\n",
       "\t<tr><td>12429763</td><td>NA</td><td>NA</td><td>0</td><td>51</td><td>2018-02-23</td><td>1</td><td>51</td><td>2018-02-23</td><td>1</td><td>  NA</td><td>0</td><td>2018-07-11</td><td>2</td><td>138</td><td>1</td><td>1</td></tr>\n",
       "\t<tr><td>12583239</td><td>NA</td><td>NA</td><td>0</td><td>49</td><td>2018-01-17</td><td>1</td><td>49</td><td>2018-01-17</td><td>1</td><td>  NA</td><td>0</td><td>2017-06-29</td><td>2</td><td>202</td><td>1</td><td>1</td></tr>\n",
       "\t<tr><td>12764746</td><td>NA</td><td>NA</td><td>0</td><td>56</td><td>2016-07-15</td><td>1</td><td>56</td><td>2016-07-15</td><td>1</td><td>1279</td><td>0</td><td>2016-02-27</td><td>1</td><td>139</td><td>1</td><td>1</td></tr>\n",
       "\t<tr><td>12787579</td><td>NA</td><td>NA</td><td>0</td><td>72</td><td>2018-03-16</td><td>1</td><td>72</td><td>2018-03-16</td><td>1</td><td>  NA</td><td>0</td><td>2018-10-10</td><td>2</td><td>208</td><td>1</td><td>1</td></tr>\n",
       "\t<tr><td>13005441</td><td>NA</td><td>NA</td><td>0</td><td>48</td><td>2018-10-15</td><td>1</td><td>48</td><td>2018-10-15</td><td>1</td><td>  NA</td><td>0</td><td>2018-08-01</td><td>2</td><td> 75</td><td>1</td><td>1</td></tr>\n",
       "</tbody>\n",
       "</table>\n"
      ],
      "text/latex": [
       "A tibble: 6 × 17\n",
       "\\begin{tabular}{lllllllllllllllll}\n",
       " person\\_id & age\\_t1d\\_diag & date\\_t1d\\_diag & t1d\\_status & age\\_t2d\\_diag & date\\_t2d\\_diag & t2d\\_status & age\\_earliest\\_diab & earliest\\_diabetes\\_diag & any\\_diabetes & diab\\_death\\_time & diabetes\\_meds & date\\_egfr & egfr & diff\\_date & order & closest\\_egfr\\\\\n",
       " <int> & <int> & <date> & <int> & <int> & <date> & <int> & <int> & <date> & <int> & <int> & <int> & <date> & <int> & <int> & <int> & <dbl>\\\\\n",
       "\\hline\n",
       "\t 12414023 & NA & NA & 0 & 45 & 2014-12-08 & 1 & 45 & 2014-12-08 & 1 &   NA & 0 & 2014-05-19 & 2 & 203 & 1 & 1\\\\\n",
       "\t 12429763 & NA & NA & 0 & 51 & 2018-02-23 & 1 & 51 & 2018-02-23 & 1 &   NA & 0 & 2018-07-11 & 2 & 138 & 1 & 1\\\\\n",
       "\t 12583239 & NA & NA & 0 & 49 & 2018-01-17 & 1 & 49 & 2018-01-17 & 1 &   NA & 0 & 2017-06-29 & 2 & 202 & 1 & 1\\\\\n",
       "\t 12764746 & NA & NA & 0 & 56 & 2016-07-15 & 1 & 56 & 2016-07-15 & 1 & 1279 & 0 & 2016-02-27 & 1 & 139 & 1 & 1\\\\\n",
       "\t 12787579 & NA & NA & 0 & 72 & 2018-03-16 & 1 & 72 & 2018-03-16 & 1 &   NA & 0 & 2018-10-10 & 2 & 208 & 1 & 1\\\\\n",
       "\t 13005441 & NA & NA & 0 & 48 & 2018-10-15 & 1 & 48 & 2018-10-15 & 1 &   NA & 0 & 2018-08-01 & 2 &  75 & 1 & 1\\\\\n",
       "\\end{tabular}\n"
      ],
      "text/markdown": [
       "\n",
       "A tibble: 6 × 17\n",
       "\n",
       "| person_id &lt;int&gt; | age_t1d_diag &lt;int&gt; | date_t1d_diag &lt;date&gt; | t1d_status &lt;int&gt; | age_t2d_diag &lt;int&gt; | date_t2d_diag &lt;date&gt; | t2d_status &lt;int&gt; | age_earliest_diab &lt;int&gt; | earliest_diabetes_diag &lt;date&gt; | any_diabetes &lt;int&gt; | diab_death_time &lt;int&gt; | diabetes_meds &lt;int&gt; | date_egfr &lt;date&gt; | egfr &lt;int&gt; | diff_date &lt;int&gt; | order &lt;int&gt; | closest_egfr &lt;dbl&gt; |\n",
       "|---|---|---|---|---|---|---|---|---|---|---|---|---|---|---|---|---|\n",
       "| 12414023 | NA | NA | 0 | 45 | 2014-12-08 | 1 | 45 | 2014-12-08 | 1 |   NA | 0 | 2014-05-19 | 2 | 203 | 1 | 1 |\n",
       "| 12429763 | NA | NA | 0 | 51 | 2018-02-23 | 1 | 51 | 2018-02-23 | 1 |   NA | 0 | 2018-07-11 | 2 | 138 | 1 | 1 |\n",
       "| 12583239 | NA | NA | 0 | 49 | 2018-01-17 | 1 | 49 | 2018-01-17 | 1 |   NA | 0 | 2017-06-29 | 2 | 202 | 1 | 1 |\n",
       "| 12764746 | NA | NA | 0 | 56 | 2016-07-15 | 1 | 56 | 2016-07-15 | 1 | 1279 | 0 | 2016-02-27 | 1 | 139 | 1 | 1 |\n",
       "| 12787579 | NA | NA | 0 | 72 | 2018-03-16 | 1 | 72 | 2018-03-16 | 1 |   NA | 0 | 2018-10-10 | 2 | 208 | 1 | 1 |\n",
       "| 13005441 | NA | NA | 0 | 48 | 2018-10-15 | 1 | 48 | 2018-10-15 | 1 |   NA | 0 | 2018-08-01 | 2 |  75 | 1 | 1 |\n",
       "\n"
      ],
      "text/plain": [
       "  person_id age_t1d_diag date_t1d_diag t1d_status age_t2d_diag date_t2d_diag\n",
       "1 12414023  NA           <NA>          0          45           2014-12-08   \n",
       "2 12429763  NA           <NA>          0          51           2018-02-23   \n",
       "3 12583239  NA           <NA>          0          49           2018-01-17   \n",
       "4 12764746  NA           <NA>          0          56           2016-07-15   \n",
       "5 12787579  NA           <NA>          0          72           2018-03-16   \n",
       "6 13005441  NA           <NA>          0          48           2018-10-15   \n",
       "  t2d_status age_earliest_diab earliest_diabetes_diag any_diabetes\n",
       "1 1          45                2014-12-08             1           \n",
       "2 1          51                2018-02-23             1           \n",
       "3 1          49                2018-01-17             1           \n",
       "4 1          56                2016-07-15             1           \n",
       "5 1          72                2018-03-16             1           \n",
       "6 1          48                2018-10-15             1           \n",
       "  diab_death_time diabetes_meds date_egfr  egfr diff_date order closest_egfr\n",
       "1   NA            0             2014-05-19 2    203       1     1           \n",
       "2   NA            0             2018-07-11 2    138       1     1           \n",
       "3   NA            0             2017-06-29 2    202       1     1           \n",
       "4 1279            0             2016-02-27 1    139       1     1           \n",
       "5   NA            0             2018-10-10 2    208       1     1           \n",
       "6   NA            0             2018-08-01 2     75       1     1           "
      ]
     },
     "metadata": {},
     "output_type": "display_data"
    }
   ],
   "source": [
    "# Join diabetes and egfr\n",
    "diab_egfr <- left_join(diabetes, egfr, by = \"person_id\")\n",
    "\n",
    "# add indicator for egfr event closest to date of diabetes diagnosis, drop those that are > 365 days different\n",
    "diab_egfr <- diab_egfr %>%\n",
    "    mutate(diff_date = as.integer(abs(earliest_diabetes_diag - date_egfr))) %>%\n",
    "    filter(!diff_date >= 366) %>%\n",
    "    group_by(person_id) %>%\n",
    "    arrange(person_id, diff_date) %>%\n",
    "    mutate(order = row_number()) %>%\n",
    "    ungroup() %>%\n",
    "    mutate(closest_egfr = ifelse(order == 1, 1,0)) %>%\n",
    "    filter(closest_egfr == 1)\n",
    "head(diab_egfr)"
   ]
  },
  {
   "cell_type": "code",
   "execution_count": 61,
   "id": "0ebabeab-0429-4911-92d4-1cf3deffbbce",
   "metadata": {},
   "outputs": [
    {
     "data": {
      "text/html": [
       "<table class=\"dataframe\">\n",
       "<caption>A tibble: 6 × 4</caption>\n",
       "<thead>\n",
       "\t<tr><th scope=col>person_id</th><th scope=col>date_egfr</th><th scope=col>egfr</th><th scope=col>closest_egfr</th></tr>\n",
       "\t<tr><th scope=col>&lt;int&gt;</th><th scope=col>&lt;date&gt;</th><th scope=col>&lt;int&gt;</th><th scope=col>&lt;dbl&gt;</th></tr>\n",
       "</thead>\n",
       "<tbody>\n",
       "\t<tr><td>12414023</td><td>2014-05-19</td><td>2</td><td>1</td></tr>\n",
       "\t<tr><td>12429763</td><td>2018-07-11</td><td>2</td><td>1</td></tr>\n",
       "\t<tr><td>12583239</td><td>2017-06-29</td><td>2</td><td>1</td></tr>\n",
       "\t<tr><td>12764746</td><td>2016-02-27</td><td>1</td><td>1</td></tr>\n",
       "\t<tr><td>12787579</td><td>2018-10-10</td><td>2</td><td>1</td></tr>\n",
       "\t<tr><td>13005441</td><td>2018-08-01</td><td>2</td><td>1</td></tr>\n",
       "</tbody>\n",
       "</table>\n"
      ],
      "text/latex": [
       "A tibble: 6 × 4\n",
       "\\begin{tabular}{llll}\n",
       " person\\_id & date\\_egfr & egfr & closest\\_egfr\\\\\n",
       " <int> & <date> & <int> & <dbl>\\\\\n",
       "\\hline\n",
       "\t 12414023 & 2014-05-19 & 2 & 1\\\\\n",
       "\t 12429763 & 2018-07-11 & 2 & 1\\\\\n",
       "\t 12583239 & 2017-06-29 & 2 & 1\\\\\n",
       "\t 12764746 & 2016-02-27 & 1 & 1\\\\\n",
       "\t 12787579 & 2018-10-10 & 2 & 1\\\\\n",
       "\t 13005441 & 2018-08-01 & 2 & 1\\\\\n",
       "\\end{tabular}\n"
      ],
      "text/markdown": [
       "\n",
       "A tibble: 6 × 4\n",
       "\n",
       "| person_id &lt;int&gt; | date_egfr &lt;date&gt; | egfr &lt;int&gt; | closest_egfr &lt;dbl&gt; |\n",
       "|---|---|---|---|\n",
       "| 12414023 | 2014-05-19 | 2 | 1 |\n",
       "| 12429763 | 2018-07-11 | 2 | 1 |\n",
       "| 12583239 | 2017-06-29 | 2 | 1 |\n",
       "| 12764746 | 2016-02-27 | 1 | 1 |\n",
       "| 12787579 | 2018-10-10 | 2 | 1 |\n",
       "| 13005441 | 2018-08-01 | 2 | 1 |\n",
       "\n"
      ],
      "text/plain": [
       "  person_id date_egfr  egfr closest_egfr\n",
       "1 12414023  2014-05-19 2    1           \n",
       "2 12429763  2018-07-11 2    1           \n",
       "3 12583239  2017-06-29 2    1           \n",
       "4 12764746  2016-02-27 1    1           \n",
       "5 12787579  2018-10-10 2    1           \n",
       "6 13005441  2018-08-01 2    1           "
      ]
     },
     "metadata": {},
     "output_type": "display_data"
    },
    {
     "data": {
      "text/html": [
       "8"
      ],
      "text/latex": [
       "8"
      ],
      "text/markdown": [
       "8"
      ],
      "text/plain": [
       "[1] 8"
      ]
     },
     "metadata": {},
     "output_type": "display_data"
    }
   ],
   "source": [
    "# subset egfr \n",
    "EGFR <- diab_egfr %>%\n",
    "select(person_id, date_egfr, egfr, closest_egfr) %>%\n",
    "filter(!is.na(date_egfr))\n",
    "head(EGFR)\n",
    "nrow(EGFR)"
   ]
  },
  {
   "cell_type": "code",
   "execution_count": 62,
   "id": "d940ca6f-9ad4-4bf6-8d1a-8945507fd159",
   "metadata": {},
   "outputs": [
    {
     "data": {
      "text/plain": [
       "\n",
       "1 2 \n",
       "1 7 "
      ]
     },
     "metadata": {},
     "output_type": "display_data"
    }
   ],
   "source": [
    "table(EGFR$egfr)"
   ]
  },
  {
   "cell_type": "code",
   "execution_count": null,
   "id": "9e2d2084-c8c5-4d2b-a365-867abc0a24c7",
   "metadata": {},
   "outputs": [],
   "source": [
    "# join all covariates to patient table\n",
    "# import patient table\n",
    "sql <- \"SELECT *  FROM `yhcr-prd-phm-bia-core.CB_MYSPACE_AH.Patient_Denom`\"\n",
    "tb <- bq_project_query(projectid, sql)\n",
    "patient_denom <-bq_table_download(tb)\n",
    "head(patient_denom)"
   ]
  },
  {
   "cell_type": "code",
   "execution_count": null,
   "id": "c5931dc0-086b-4324-b4c6-a3fcff4c3141",
   "metadata": {},
   "outputs": [],
   "source": [
    "# join Chol, BMI, Smoke, BP and Renal_D to patient_denom\n",
    "patient <- left_join(patient_denom, Chol)\n",
    "patient <- left_join(patient, BMI)\n",
    "patient <- left_join(patient, Smoke)\n",
    "patient <- left_join(patient, BP)\n",
    "patient <- left_join(patient, Creatinine)\n",
    "patient <- left_join(patient, ACR)\n",
    "patient <- left_join(patient, EGFR)"
   ]
  },
  {
   "cell_type": "code",
   "execution_count": null,
   "id": "897c4ab2-3566-41be-9400-c3f1886b9cf1",
   "metadata": {},
   "outputs": [],
   "source": [
    "head(patient)\n",
    "nrow(patient)\n",
    "sum(!is.na(patient$cholesterol))\n",
    "sum(!is.na(patient$bmi))\n",
    "sum(!is.na(patient$smoking))\n",
    "sum(!is.na(patient$blood_pressure))\n",
    "sum(!is.na(patient$creatinine))\n",
    "sum(!is.na(patient$acr))\n",
    "sum(!is.na(patient$egfr))"
   ]
  },
  {
   "cell_type": "code",
   "execution_count": 22,
   "id": "901ee8c4-5194-4ae9-a51a-2d0114bed9b2",
   "metadata": {},
   "outputs": [],
   "source": [
    "patient_covs <- patient %>%\n",
    "    mutate_at(c('cholesterol','bmi', 'smoking', 'blood_pressure', 'creatinine', 'acr', 'egfr'), ~replace_na(.,0))"
   ]
  },
  {
   "cell_type": "code",
   "execution_count": 23,
   "id": "6c3ca0bd-2bbe-4040-92b5-77a30ae42ab6",
   "metadata": {},
   "outputs": [
    {
     "data": {
      "text/plain": [
       "\n",
       "     1      2 \n",
       "385987 398199 "
      ]
     },
     "metadata": {},
     "output_type": "display_data"
    },
    {
     "data": {
      "text/plain": [
       "\n",
       "     1      2      3 \n",
       "495036 202615  86535 "
      ]
     },
     "metadata": {},
     "output_type": "display_data"
    },
    {
     "data": {
      "text/plain": [
       "\n",
       "     1      2      3      4      5      6      7      8      9     10 \n",
       "290711  77500  93078  74043  53405  63714  42832  40513  30533  17857 "
      ]
     },
     "metadata": {},
     "output_type": "display_data"
    },
    {
     "data": {
      "text/plain": [
       "\n",
       "     0      1      2 \n",
       "784058     84     44 "
      ]
     },
     "metadata": {},
     "output_type": "display_data"
    },
    {
     "data": {
      "text/plain": [
       "\n",
       "     0      1      2      3      4 \n",
       "750196    317   4674  11055  17944 "
      ]
     },
     "metadata": {},
     "output_type": "display_data"
    },
    {
     "data": {
      "text/plain": [
       "\n",
       "     0      1      2      3 \n",
       "765762   6738  10250   1436 "
      ]
     },
     "metadata": {},
     "output_type": "display_data"
    },
    {
     "data": {
      "text/plain": [
       "\n",
       "     0      1      2      3 \n",
       "782611    155    813    607 "
      ]
     },
     "metadata": {},
     "output_type": "display_data"
    },
    {
     "data": {
      "text/plain": [
       "\n",
       "     0      1      2      3 \n",
       "749078    410   9135  25563 "
      ]
     },
     "metadata": {},
     "output_type": "display_data"
    },
    {
     "data": {
      "text/plain": [
       "\n",
       "     0      1      2      3 \n",
       "758018  22989     20   3159 "
      ]
     },
     "metadata": {},
     "output_type": "display_data"
    },
    {
     "data": {
      "text/plain": [
       "\n",
       "     0      1      2 \n",
       "784178      1      7 "
      ]
     },
     "metadata": {},
     "output_type": "display_data"
    }
   ],
   "source": [
    "table(patient_covs$gender)\n",
    "table(patient_covs$ethnicity)\n",
    "table(patient_covs$imd_decile)\n",
    "table(patient_covs$cholesterol)\n",
    "table(patient_covs$bmi)\n",
    "table(patient_covs$smoking)\n",
    "table(patient_covs$blood_pressure)\n",
    "table(patient_covs$creatinine)\n",
    "table(patient_covs$acr)\n",
    "table(patient_covs$egfr)"
   ]
  },
  {
   "cell_type": "code",
   "execution_count": 24,
   "id": "9a0217e8-ee9f-48b0-9a7b-21e332f19d48",
   "metadata": {},
   "outputs": [
    {
     "data": {
      "text/html": [
       "'patient_covs'"
      ],
      "text/latex": [
       "'patient\\_covs'"
      ],
      "text/markdown": [
       "'patient_covs'"
      ],
      "text/plain": [
       "[1] \"patient_covs\""
      ]
     },
     "metadata": {},
     "output_type": "display_data"
    }
   ],
   "source": [
    "rm(list=setdiff(ls(), \"patient_covs\"))\n",
    "ls()"
   ]
  },
  {
   "cell_type": "code",
   "execution_count": 28,
   "id": "1f9f45ef-5778-4758-8226-d0996ec03621",
   "metadata": {},
   "outputs": [
    {
     "data": {
      "text/html": [
       "784186"
      ],
      "text/latex": [
       "784186"
      ],
      "text/markdown": [
       "784186"
      ],
      "text/plain": [
       "[1] 784186"
      ]
     },
     "metadata": {},
     "output_type": "display_data"
    },
    {
     "name": "stderr",
     "output_type": "stream",
     "text": [
      "Warning message:\n",
      "“Unknown or uninitialised column: `t1d_status`.”\n"
     ]
    },
    {
     "data": {
      "text/plain": [
       "< table of extent 0 >"
      ]
     },
     "metadata": {},
     "output_type": "display_data"
    }
   ],
   "source": [
    "nrow(patient_covs)\n",
    "table(patient_covs$t1d_status)"
   ]
  },
  {
   "cell_type": "code",
   "execution_count": 25,
   "id": "805b6914-9d21-4982-95ce-69fc20ab54e5",
   "metadata": {},
   "outputs": [],
   "source": [
    "#colnames(patient_covs)\n",
    "#patient_bp_bmi <- patient_covs %>%\n",
    "#    select(person_id, birth_datetime, death_datetime, gender, ethnicity, imd_decile, date_bmi, bmi, bmi_value, closest_bmi, date_bp, blood_pressure, sbp_value, dbp_value, closest_bp)\n",
    "#patient_covs <- patient_covs %>%\n",
    "#    select(-date_bmi, -bmi, -bmi_value, -closest_bmi, -date_bp, -blood_pressure, -sbp_value, -dbp_value, -closest_bp)"
   ]
  },
  {
   "cell_type": "code",
   "execution_count": 26,
   "id": "773139ce-58f7-4450-af9a-bb2a67dc0f31",
   "metadata": {},
   "outputs": [],
   "source": [
    "# save patient_covs as csv\n",
    "write.csv(patient_covs, '/home/jupyter/T2D_CVD_Study/Patient_Covariates_Table.csv')"
   ]
  },
  {
   "cell_type": "code",
   "execution_count": null,
   "id": "1aff3e84-defd-45de-886a-0b2cf7ca084c",
   "metadata": {},
   "outputs": [],
   "source": [
    "sum(duplicated(patient_covs))"
   ]
  },
  {
   "cell_type": "code",
   "execution_count": null,
   "id": "a1e52dd5-b8d1-40a2-bd75-fc96dd028d10",
   "metadata": {},
   "outputs": [],
   "source": [
    "bq_auth()"
   ]
  },
  {
   "cell_type": "code",
   "execution_count": 118,
   "id": "4939cecc-3543-44fb-a993-5f3cb69fc4c7",
   "metadata": {},
   "outputs": [
    {
     "data": {
      "text/html": [
       "<style>\n",
       ".list-inline {list-style: none; margin:0; padding: 0}\n",
       ".list-inline>li {display: inline-block}\n",
       ".list-inline>li:not(:last-child)::after {content: \"\\00b7\"; padding: 0 .5ex}\n",
       "</style>\n",
       "<ol class=list-inline><li>'person_id'</li><li>'birth_datetime'</li><li>'death_datetime'</li><li>'gender'</li><li>'ethnicity'</li><li>'imd_decile'</li><li>'date_cholesterol'</li><li>'cholesterol'</li><li>'closest_cholesterol'</li><li>'date_bmi'</li><li>'bmi'</li><li>'closest_bmi'</li><li>'bmi_value'</li><li>'date_smoking'</li><li>'smoking'</li><li>'closest_smoking'</li><li>'date_bp'</li><li>'blood_pressure'</li><li>'sbp_value'</li><li>'dbp_value'</li><li>'closest_bp'</li><li>'date_creatinine'</li><li>'creatinine'</li><li>'closest_creatinine'</li><li>'date_acr'</li><li>'acr'</li><li>'closest_acr'</li><li>'date_egfr'</li><li>'egfr'</li><li>'closest_egfr'</li></ol>\n"
      ],
      "text/latex": [
       "\\begin{enumerate*}\n",
       "\\item 'person\\_id'\n",
       "\\item 'birth\\_datetime'\n",
       "\\item 'death\\_datetime'\n",
       "\\item 'gender'\n",
       "\\item 'ethnicity'\n",
       "\\item 'imd\\_decile'\n",
       "\\item 'date\\_cholesterol'\n",
       "\\item 'cholesterol'\n",
       "\\item 'closest\\_cholesterol'\n",
       "\\item 'date\\_bmi'\n",
       "\\item 'bmi'\n",
       "\\item 'closest\\_bmi'\n",
       "\\item 'bmi\\_value'\n",
       "\\item 'date\\_smoking'\n",
       "\\item 'smoking'\n",
       "\\item 'closest\\_smoking'\n",
       "\\item 'date\\_bp'\n",
       "\\item 'blood\\_pressure'\n",
       "\\item 'sbp\\_value'\n",
       "\\item 'dbp\\_value'\n",
       "\\item 'closest\\_bp'\n",
       "\\item 'date\\_creatinine'\n",
       "\\item 'creatinine'\n",
       "\\item 'closest\\_creatinine'\n",
       "\\item 'date\\_acr'\n",
       "\\item 'acr'\n",
       "\\item 'closest\\_acr'\n",
       "\\item 'date\\_egfr'\n",
       "\\item 'egfr'\n",
       "\\item 'closest\\_egfr'\n",
       "\\end{enumerate*}\n"
      ],
      "text/markdown": [
       "1. 'person_id'\n",
       "2. 'birth_datetime'\n",
       "3. 'death_datetime'\n",
       "4. 'gender'\n",
       "5. 'ethnicity'\n",
       "6. 'imd_decile'\n",
       "7. 'date_cholesterol'\n",
       "8. 'cholesterol'\n",
       "9. 'closest_cholesterol'\n",
       "10. 'date_bmi'\n",
       "11. 'bmi'\n",
       "12. 'closest_bmi'\n",
       "13. 'bmi_value'\n",
       "14. 'date_smoking'\n",
       "15. 'smoking'\n",
       "16. 'closest_smoking'\n",
       "17. 'date_bp'\n",
       "18. 'blood_pressure'\n",
       "19. 'sbp_value'\n",
       "20. 'dbp_value'\n",
       "21. 'closest_bp'\n",
       "22. 'date_creatinine'\n",
       "23. 'creatinine'\n",
       "24. 'closest_creatinine'\n",
       "25. 'date_acr'\n",
       "26. 'acr'\n",
       "27. 'closest_acr'\n",
       "28. 'date_egfr'\n",
       "29. 'egfr'\n",
       "30. 'closest_egfr'\n",
       "\n",
       "\n"
      ],
      "text/plain": [
       " [1] \"person_id\"           \"birth_datetime\"      \"death_datetime\"     \n",
       " [4] \"gender\"              \"ethnicity\"           \"imd_decile\"         \n",
       " [7] \"date_cholesterol\"    \"cholesterol\"         \"closest_cholesterol\"\n",
       "[10] \"date_bmi\"            \"bmi\"                 \"closest_bmi\"        \n",
       "[13] \"bmi_value\"           \"date_smoking\"        \"smoking\"            \n",
       "[16] \"closest_smoking\"     \"date_bp\"             \"blood_pressure\"     \n",
       "[19] \"sbp_value\"           \"dbp_value\"           \"closest_bp\"         \n",
       "[22] \"date_creatinine\"     \"creatinine\"          \"closest_creatinine\" \n",
       "[25] \"date_acr\"            \"acr\"                 \"closest_acr\"        \n",
       "[28] \"date_egfr\"           \"egfr\"                \"closest_egfr\"       "
      ]
     },
     "metadata": {},
     "output_type": "display_data"
    }
   ],
   "source": [
    "colnames(patient_covs)"
   ]
  },
  {
   "cell_type": "code",
   "execution_count": 120,
   "id": "076698d0-0182-463e-a156-c82dbbdd7749",
   "metadata": {},
   "outputs": [
    {
     "ename": "ERROR",
     "evalue": "Error in rawToChar(rawConnectionValue(con)): long vectors not supported yet: raw.c:68\n",
     "output_type": "error",
     "traceback": [
      "Error in rawToChar(rawConnectionValue(con)): long vectors not supported yet: raw.c:68\nTraceback:\n",
      "1. bq_table_upload(dest_table, patient_covs, fields = dest_fields, \n .     create_disposition = \"CREATE_IF_NEEDED\", write_disposition = \"WRITE_TRUNCATE\")",
      "2. bq_perform_upload(x, values, ...)",
      "3. part(c(`Content-type` = \"application/json; charset=UTF-8\"), export_json(values))",
      "4. paste0(body, collapse = \"\\n\")",
      "5. export_json(values)",
      "6. rawToChar(rawConnectionValue(con))"
     ]
    }
   ],
   "source": [
    "# save new patient table\n",
    "# set destination table - do this regardless of whether it already exists\n",
    "dest_dataset <- bq_dataset(\"yhcr-prd-phm-bia-core\",\"CB_MYSPACE_AH\")\n",
    "dest_table <- bq_table(dest_dataset, \"Patient_Covariates_Table_1\")\n",
    "\n",
    "# create a full table spec as follows\n",
    "# then pass this to bq_table_upload\n",
    "dest_fields <- bq_fields(list(bq_field(\"person_id\", \"INT64\", \"REQUIRED\"),\n",
    "                              bq_field(\"birth_datetime\", \"DATE\"),\n",
    "                              bq_field(\"death_datetime\", \"DATE\"),\n",
    "                              bq_field(\"gender\", \"INT64\"),\n",
    "                              bq_field(\"ethnicity\", \"INT64\"),\n",
    "                              bq_field(\"imd_decile\", \"INT64\"),\n",
    "                              bq_field(\"date_cholesterol\", \"DATE\"),\n",
    "                              bq_field(\"cholesterol\", \"INT64\"),\n",
    "                              bq_field(\"closest_cholesterol\", \"INT64\"),\n",
    "                              bq_field(\"date_bmi\", \"DATE\"),\n",
    "                              bq_field(\"bmi\", \"INT64\"),\n",
    "                              bq_field(\"bmi_value\", \"FLOAT64\"),\n",
    "                              bq_field(\"closest_bmi\", \"INT64\"),\n",
    "                              bq_field(\"date_smoking\", \"DATE\"),\n",
    "                              bq_field(\"smoking\", \"INT64\"),\n",
    "                              bq_field(\"closest_smoking\", \"INT64\"),\n",
    "                              bq_field(\"date_bp\", \"DATE\"),\n",
    "                              bq_field(\"blood_pressure\", \"INT64\"),\n",
    "                              bq_field(\"sbp_value\", \"FLOAT64\"),\n",
    "                              bq_field(\"dbp_value\", \"FLOAT64\"),\n",
    "                              bq_field(\"closest_bp\", \"INT64\"),\n",
    "                              bq_field(\"date_creatinine\", \"DATE\"),\n",
    "                              bq_field(\"creatinine\", \"INT64\"),\n",
    "                              bq_field(\"closest_creatinine\", \"INT64\"),\n",
    "                              bq_field(\"date_acr\", \"DATE\"),\n",
    "                              bq_field(\"acr\", \"INT64\"),\n",
    "                              bq_field(\"closest_acr\", \"INT64\"),\n",
    "                              bq_field(\"date_egfr\", \"DATE\"),\n",
    "                              bq_field(\"egfr\", \"INT64\"),\n",
    "                              bq_field(\"closest_egfr\", \"INT64\")))\n",
    "\n",
    "# delete an existing table if necessary\n",
    "if(bq_table_exists(dest_table)) bq_table_delete(dest_table)\n",
    "# upload file_data to dest_table\n",
    "bq_table_upload(dest_table, patient_covs, fields = dest_fields, create_disposition='CREATE_IF_NEEDED', write_disposition='WRITE_TRUNCATE')"
   ]
  },
  {
   "cell_type": "code",
   "execution_count": 147,
   "id": "347aa467-2be7-444d-9d40-59d0522979e3",
   "metadata": {},
   "outputs": [
    {
     "ename": "ERROR",
     "evalue": "Error in rawToChar(rawConnectionValue(con)): long vectors not supported yet: raw.c:68\n",
     "output_type": "error",
     "traceback": [
      "Error in rawToChar(rawConnectionValue(con)): long vectors not supported yet: raw.c:68\nTraceback:\n",
      "1. bq_table_upload(dest_table, patient_covs, fields = dest_fields, \n .     create_disposition = \"CREATE_IF_NEEDED\", write_disposition = \"WRITE_TRUNCATE\")",
      "2. bq_perform_upload(x, values, ...)",
      "3. part(c(`Content-type` = \"application/json; charset=UTF-8\"), export_json(values))",
      "4. paste0(body, collapse = \"\\n\")",
      "5. export_json(values)",
      "6. rawToChar(rawConnectionValue(con))"
     ]
    }
   ],
   "source": [
    "# save new patient table\n",
    "# set destination table - do this regardless of whether it already exists\n",
    "dest_dataset <- bq_dataset(\"yhcr-prd-phm-bia-core\",\"CB_MYSPACE_AH\")\n",
    "dest_table <- bq_table(dest_dataset, \"Patient_Covariates_Table1\")\n",
    "\n",
    "# create a full table spec as follows\n",
    "# then pass this to bq_table_upload\n",
    "dest_fields <- bq_fields(list(bq_field(\"person_id\", \"INT64\", \"REQUIRED\"),\n",
    "                              bq_field(\"birth_datetime\", \"DATE\"),\n",
    "                              bq_field(\"death_datetime\", \"DATE\"),\n",
    "                              bq_field(\"gender\", \"INT64\"),\n",
    "                              bq_field(\"ethnicity\", \"INT64\"),\n",
    "                              bq_field(\"imd_decile\", \"INT64\"),\n",
    "                              bq_field(\"date_cholesterol\", \"DATE\"),\n",
    "                              bq_field(\"cholesterol\", \"INT64\"),\n",
    "                              bq_field(\"closest_cholesterol\", \"INT64\"),\n",
    "                              bq_field(\"date_smoking\", \"DATE\"),\n",
    "                              bq_field(\"smoking\", \"INT64\"),\n",
    "                              bq_field(\"closest_smoking\", \"INT64\"),\n",
    "                              bq_field(\"date_creatinine\", \"DATE\"),\n",
    "                              bq_field(\"creatinine\", \"INT64\"),\n",
    "                              bq_field(\"closest_creatinine\", \"INT64\"),\n",
    "                              bq_field(\"date_acr\", \"DATE\"),\n",
    "                              bq_field(\"acr\", \"INT64\"),\n",
    "                              bq_field(\"closest_acr\", \"INT64\"),\n",
    "                              bq_field(\"date_egfr\", \"DATE\"),\n",
    "                              bq_field(\"egfr\", \"INT64\"),\n",
    "                              bq_field(\"closest_egfr\", \"INT64\")))\n",
    "\n",
    "# delete an existing table if necessary\n",
    "if(bq_table_exists(dest_table)) bq_table_delete(dest_table)\n",
    "# upload file_data to dest_table\n",
    "bq_table_upload(dest_table, patient_covs, fields = dest_fields, create_disposition='CREATE_IF_NEEDED', write_disposition='WRITE_TRUNCATE')"
   ]
  },
  {
   "cell_type": "code",
   "execution_count": 59,
   "id": "d9bcc1f1-d3ec-4cc4-8198-412ba34e721b",
   "metadata": {},
   "outputs": [],
   "source": [
    "# save new patient table\n",
    "# set destination table - do this regardless of whether it already exists\n",
    "dest_dataset <- bq_dataset(\"yhcr-prd-phm-bia-core\",\"CB_MYSPACE_AH\")\n",
    "dest_table <- bq_table(dest_dataset, \"Patient_Covariates_Table_2\")\n",
    "\n",
    "# create a full table spec as follows\n",
    "# then pass this to bq_table_upload\n",
    "dest_fields <- bq_fields(list(bq_field(\"person_id\", \"INT64\", \"REQUIRED\"),\n",
    "                              bq_field(\"birth_datetime\", \"DATE\"),\n",
    "                              bq_field(\"death_datetime\", \"DATE\"),\n",
    "                              bq_field(\"gender\", \"INT64\"),\n",
    "                              bq_field(\"ethnicity\", \"INT64\"),\n",
    "                              bq_field(\"imd_decile\", \"INT64\"),\n",
    "                              bq_field(\"date_bmi\", \"DATE\"),\n",
    "                              bq_field(\"bmi\", \"INT64\"),\n",
    "                              bq_field(\"bmi_value\", \"FLOAT64\"),\n",
    "                              bq_field(\"closest_bmi\", \"INT64\"),\n",
    "                              bq_field(\"date_bp\", \"DATE\"),\n",
    "                              bq_field(\"blood_pressure\", \"INT64\"),\n",
    "                              bq_field(\"sbp_value\", \"FLOAT64\"),\n",
    "                              bq_field(\"dbp_value\", \"FLOAT64\"),\n",
    "                              bq_field(\"closest_bp\", \"INT64\")))\n",
    "\n",
    "# delete an existing table if necessary\n",
    "if(bq_table_exists(dest_table)) bq_table_delete(dest_table)\n",
    "# upload file_data to dest_table\n",
    "bq_table_upload(dest_table, patient_bp_bmi, fields = dest_fields, create_disposition='CREATE_IF_NEEDED', write_disposition='WRITE_TRUNCATE')"
   ]
  },
  {
   "cell_type": "code",
   "execution_count": null,
   "id": "d1b152d5-61f7-4c9b-bfb3-aabd8b84d344",
   "metadata": {},
   "outputs": [],
   "source": []
  }
 ],
 "metadata": {
  "environment": {
   "kernel": "ir",
   "name": "r-cpu.4-2.m111",
   "type": "gcloud",
   "uri": "gcr.io/deeplearning-platform-release/r-cpu.4-2:m111"
  },
  "kernelspec": {
   "display_name": "R",
   "language": "R",
   "name": "ir"
  },
  "language_info": {
   "codemirror_mode": "r",
   "file_extension": ".r",
   "mimetype": "text/x-r-source",
   "name": "R",
   "pygments_lexer": "r",
   "version": "4.3.1"
  }
 },
 "nbformat": 4,
 "nbformat_minor": 5
}
