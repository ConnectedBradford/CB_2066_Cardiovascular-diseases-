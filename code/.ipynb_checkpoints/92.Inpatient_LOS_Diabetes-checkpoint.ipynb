{
 "cells": [
  {
   "cell_type": "code",
   "execution_count": 1,
   "id": "2527dacf-0b49-4bac-92fe-2d5b846eaab6",
   "metadata": {},
   "outputs": [
    {
     "name": "stderr",
     "output_type": "stream",
     "text": [
      "── \u001b[1mAttaching core tidyverse packages\u001b[22m ──────────────────────── tidyverse 2.0.0 ──\n",
      "\u001b[32m✔\u001b[39m \u001b[34mdplyr    \u001b[39m 1.1.2     \u001b[32m✔\u001b[39m \u001b[34mreadr    \u001b[39m 2.1.4\n",
      "\u001b[32m✔\u001b[39m \u001b[34mforcats  \u001b[39m 1.0.0     \u001b[32m✔\u001b[39m \u001b[34mstringr  \u001b[39m 1.5.0\n",
      "\u001b[32m✔\u001b[39m \u001b[34mggplot2  \u001b[39m 3.4.4     \u001b[32m✔\u001b[39m \u001b[34mtibble   \u001b[39m 3.2.1\n",
      "\u001b[32m✔\u001b[39m \u001b[34mlubridate\u001b[39m 1.9.2     \u001b[32m✔\u001b[39m \u001b[34mtidyr    \u001b[39m 1.3.0\n",
      "\u001b[32m✔\u001b[39m \u001b[34mpurrr    \u001b[39m 1.0.2     \n",
      "── \u001b[1mConflicts\u001b[22m ────────────────────────────────────────── tidyverse_conflicts() ──\n",
      "\u001b[31m✖\u001b[39m \u001b[34mdplyr\u001b[39m::\u001b[32mfilter()\u001b[39m masks \u001b[34mstats\u001b[39m::filter()\n",
      "\u001b[31m✖\u001b[39m \u001b[34mdplyr\u001b[39m::\u001b[32mlag()\u001b[39m    masks \u001b[34mstats\u001b[39m::lag()\n",
      "\u001b[36mℹ\u001b[39m Use the conflicted package (\u001b[3m\u001b[34m<http://conflicted.r-lib.org/>\u001b[39m\u001b[23m) to force all conflicts to become errors\n"
     ]
    }
   ],
   "source": [
    "library(bigrquery)\n",
    "library(tidyverse)"
   ]
  },
  {
   "cell_type": "code",
   "execution_count": 2,
   "id": "15bdd6e7-2020-4d2f-9076-31948686ec2f",
   "metadata": {},
   "outputs": [],
   "source": [
    "# Store the project ID\n",
    "projectid = \"yhcr-prd-phm-bia-core\""
   ]
  },
  {
   "cell_type": "code",
   "execution_count": 6,
   "id": "4e010f82-0ee0-4c67-920b-9f43101cb3df",
   "metadata": {},
   "outputs": [],
   "source": [
    "# Diabetes\n",
    "sql1 <- \"SELECT *  FROM `yhcr-prd-phm-bia-core.CB_MYSPACE_AH.Diabetes`\"\n",
    "tb1 <- bq_project_query(projectid, sql1)\n",
    "diabetes <-bq_table_download(tb1)\n",
    "diab <- diabetes %>% select(person_id, any_diabetes)"
   ]
  },
  {
   "cell_type": "code",
   "execution_count": 4,
   "id": "eba95375-a836-47d9-a506-540c71b7b9ef",
   "metadata": {},
   "outputs": [],
   "source": [
    "# Secondary Care Episodes table\n",
    "sql2 <- \"SELECT person_id, episode_start_date, episode_end_date FROM `yhcr-prd-phm-bia-core.CB_FDM_Warehouse_V2.tbl_episode` \n",
    "WHERE episode_start_date BETWEEN '2002-01-01' AND '2022-12-31'\"\n",
    "tb2 <- bq_project_query(projectid, sql2)\n",
    "episodes <-bq_table_download(tb2)"
   ]
  },
  {
   "cell_type": "code",
   "execution_count": 13,
   "id": "ce528425-6be0-4a5f-92a0-0437a54822a5",
   "metadata": {},
   "outputs": [
    {
     "data": {
      "text/html": [
       "<table class=\"dataframe\">\n",
       "<caption>A tibble: 6 × 4</caption>\n",
       "<thead>\n",
       "\t<tr><th scope=col>person_id</th><th scope=col>any_diabetes</th><th scope=col>episode_start_date</th><th scope=col>episode_end_date</th></tr>\n",
       "\t<tr><th scope=col>&lt;int&gt;</th><th scope=col>&lt;int&gt;</th><th scope=col>&lt;chr&gt;</th><th scope=col>&lt;chr&gt;</th></tr>\n",
       "</thead>\n",
       "<tbody>\n",
       "\t<tr><td>12975170</td><td>1</td><td>2013-03-05</td><td>2013-03-23</td></tr>\n",
       "\t<tr><td>12975170</td><td>1</td><td>2020-04-29</td><td>2020-04-30</td></tr>\n",
       "\t<tr><td>12975170</td><td>1</td><td>2018-02-21</td><td>2018-02-21</td></tr>\n",
       "\t<tr><td>12975170</td><td>1</td><td>2013-03-30</td><td>2013-04-21</td></tr>\n",
       "\t<tr><td>12975170</td><td>1</td><td>2013-05-23</td><td>2013-05-29</td></tr>\n",
       "\t<tr><td>12975170</td><td>1</td><td>2018-08-13</td><td>2018-08-13</td></tr>\n",
       "</tbody>\n",
       "</table>\n"
      ],
      "text/latex": [
       "A tibble: 6 × 4\n",
       "\\begin{tabular}{llll}\n",
       " person\\_id & any\\_diabetes & episode\\_start\\_date & episode\\_end\\_date\\\\\n",
       " <int> & <int> & <chr> & <chr>\\\\\n",
       "\\hline\n",
       "\t 12975170 & 1 & 2013-03-05 & 2013-03-23\\\\\n",
       "\t 12975170 & 1 & 2020-04-29 & 2020-04-30\\\\\n",
       "\t 12975170 & 1 & 2018-02-21 & 2018-02-21\\\\\n",
       "\t 12975170 & 1 & 2013-03-30 & 2013-04-21\\\\\n",
       "\t 12975170 & 1 & 2013-05-23 & 2013-05-29\\\\\n",
       "\t 12975170 & 1 & 2018-08-13 & 2018-08-13\\\\\n",
       "\\end{tabular}\n"
      ],
      "text/markdown": [
       "\n",
       "A tibble: 6 × 4\n",
       "\n",
       "| person_id &lt;int&gt; | any_diabetes &lt;int&gt; | episode_start_date &lt;chr&gt; | episode_end_date &lt;chr&gt; |\n",
       "|---|---|---|---|\n",
       "| 12975170 | 1 | 2013-03-05 | 2013-03-23 |\n",
       "| 12975170 | 1 | 2020-04-29 | 2020-04-30 |\n",
       "| 12975170 | 1 | 2018-02-21 | 2018-02-21 |\n",
       "| 12975170 | 1 | 2013-03-30 | 2013-04-21 |\n",
       "| 12975170 | 1 | 2013-05-23 | 2013-05-29 |\n",
       "| 12975170 | 1 | 2018-08-13 | 2018-08-13 |\n",
       "\n"
      ],
      "text/plain": [
       "  person_id any_diabetes episode_start_date episode_end_date\n",
       "1 12975170  1            2013-03-05         2013-03-23      \n",
       "2 12975170  1            2020-04-29         2020-04-30      \n",
       "3 12975170  1            2018-02-21         2018-02-21      \n",
       "4 12975170  1            2013-03-30         2013-04-21      \n",
       "5 12975170  1            2013-05-23         2013-05-29      \n",
       "6 12975170  1            2018-08-13         2018-08-13      "
      ]
     },
     "metadata": {},
     "output_type": "display_data"
    }
   ],
   "source": [
    "# Join diabetes and episodes tables\n",
    "diab_epi <- left_join(diab, episodes, by = \"person_id\")\n",
    "diab_epi <- diab_epi %>% filter(!is.na(episode_start_date))\n",
    "head(diab_epi)"
   ]
  },
  {
   "cell_type": "code",
   "execution_count": 16,
   "id": "2f5e5ad1-e78d-4f7b-9e15-dce730275877",
   "metadata": {},
   "outputs": [],
   "source": [
    "# Calculate length of stay\n",
    "diab_epi <- diab_epi %>%\n",
    "    mutate(los_all_days = round(difftime(episode_end_date, episode_start_date, units = \"days\"))) %>%\n",
    "    mutate(los_all_days = as.integer(los_all_days))"
   ]
  },
  {
   "cell_type": "code",
   "execution_count": null,
   "id": "b9d3ecf3-8e1e-4ab6-8287-af4bd0f93c7e",
   "metadata": {},
   "outputs": [],
   "source": [
    "# Keep only one row per patient? Based on?"
   ]
  },
  {
   "cell_type": "code",
   "execution_count": 23,
   "id": "a655faeb-3cda-4527-9fdd-eb14b81e48e9",
   "metadata": {},
   "outputs": [
    {
     "data": {
      "text/plain": [
       "\n",
       " FALSE   TRUE \n",
       "162732  35641 "
      ]
     },
     "metadata": {},
     "output_type": "display_data"
    },
    {
     "data": {
      "text/plain": [
       "   Min. 1st Qu.  Median    Mean 3rd Qu.    Max. \n",
       "  2.000   2.000   4.000   7.232   8.000 379.000 "
      ]
     },
     "metadata": {},
     "output_type": "display_data"
    },
    {
     "data": {
      "text/html": [
       "6"
      ],
      "text/latex": [
       "6"
      ],
      "text/markdown": [
       "6"
      ],
      "text/plain": [
       "[1] 6"
      ]
     },
     "metadata": {},
     "output_type": "display_data"
    }
   ],
   "source": [
    "table(diab_epi$los_all_days == 1)\n",
    "\n",
    "dep <- diab_epi %>% \n",
    "    filter(diab_epi$los_all_days >= 2)\n",
    "\n",
    "summary(dep$los_all_days)\n",
    "IQR(dep$los_all_days)"
   ]
  }
 ],
 "metadata": {
  "environment": {
   "kernel": "ir",
   "name": "r-cpu.4-2.m111",
   "type": "gcloud",
   "uri": "gcr.io/deeplearning-platform-release/r-cpu.4-2:m111"
  },
  "kernelspec": {
   "display_name": "R",
   "language": "R",
   "name": "ir"
  },
  "language_info": {
   "codemirror_mode": "r",
   "file_extension": ".r",
   "mimetype": "text/x-r-source",
   "name": "R",
   "pygments_lexer": "r",
   "version": "4.3.1"
  }
 },
 "nbformat": 4,
 "nbformat_minor": 5
}
