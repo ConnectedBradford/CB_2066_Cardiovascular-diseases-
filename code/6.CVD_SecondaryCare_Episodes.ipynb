{
 "cells": [
  {
   "cell_type": "code",
   "execution_count": 1,
   "id": "f01dce62-ef19-4eea-8b86-4b96326a8183",
   "metadata": {},
   "outputs": [
    {
     "name": "stderr",
     "output_type": "stream",
     "text": [
      "── \u001b[1mAttaching core tidyverse packages\u001b[22m ──────────────────────── tidyverse 2.0.0 ──\n",
      "\u001b[32m✔\u001b[39m \u001b[34mdplyr    \u001b[39m 1.1.2     \u001b[32m✔\u001b[39m \u001b[34mreadr    \u001b[39m 2.1.4\n",
      "\u001b[32m✔\u001b[39m \u001b[34mforcats  \u001b[39m 1.0.0     \u001b[32m✔\u001b[39m \u001b[34mstringr  \u001b[39m 1.5.0\n",
      "\u001b[32m✔\u001b[39m \u001b[34mggplot2  \u001b[39m 3.4.4     \u001b[32m✔\u001b[39m \u001b[34mtibble   \u001b[39m 3.2.1\n",
      "\u001b[32m✔\u001b[39m \u001b[34mlubridate\u001b[39m 1.9.2     \u001b[32m✔\u001b[39m \u001b[34mtidyr    \u001b[39m 1.3.0\n",
      "\u001b[32m✔\u001b[39m \u001b[34mpurrr    \u001b[39m 1.0.2     \n",
      "── \u001b[1mConflicts\u001b[22m ────────────────────────────────────────── tidyverse_conflicts() ──\n",
      "\u001b[31m✖\u001b[39m \u001b[34mdplyr\u001b[39m::\u001b[32mfilter()\u001b[39m masks \u001b[34mstats\u001b[39m::filter()\n",
      "\u001b[31m✖\u001b[39m \u001b[34mdplyr\u001b[39m::\u001b[32mlag()\u001b[39m    masks \u001b[34mstats\u001b[39m::lag()\n",
      "\u001b[36mℹ\u001b[39m Use the conflicted package (\u001b[3m\u001b[34m<http://conflicted.r-lib.org/>\u001b[39m\u001b[23m) to force all conflicts to become errors\n"
     ]
    }
   ],
   "source": [
    "library(bigrquery)\n",
    "library(tidyverse)"
   ]
  },
  {
   "cell_type": "code",
   "execution_count": 2,
   "id": "8def1491-b7be-4eb2-8fc1-5cdedf29e5c6",
   "metadata": {},
   "outputs": [],
   "source": [
    "# Store the project ID\n",
    "projectid = \"yhcr-prd-phm-bia-core\""
   ]
  },
  {
   "cell_type": "code",
   "execution_count": 3,
   "id": "ca849e21-eb41-4fcb-a54b-a6b5facdef35",
   "metadata": {},
   "outputs": [],
   "source": [
    "# load episodes\n",
    "# Angina: Secondary care between 2002-2022\n",
    "sql1 <- \"SELECT person_id, gender, birth_month, birth_year, episode_start_date, episode_end_date, diagnosis_1  FROM `yhcr-prd-phm-bia-core.CB_FDM_Warehouse_V2.tbl_episode` \n",
    "WHERE episode_start_date BETWEEN '2002-01-01' AND '2022-12-31' AND (diagnosis_1 LIKE '%I200%'\n",
    "OR diagnosis_1 LIKE '%I248%'\n",
    "OR diagnosis_1 LIKE '%I209%'\n",
    "OR diagnosis_1 LIKE '%I20%'\n",
    "OR diagnosis_1 LIKE '%A360%'\n",
    "OR diagnosis_1 LIKE '%A691%'\n",
    "OR diagnosis_1 LIKE '%B085%'\n",
    "OR diagnosis_1 LIKE '%B27%'\n",
    "OR diagnosis_1 LIKE '%D70X%'\n",
    "OR diagnosis_1 LIKE '%I739%'\n",
    "OR diagnosis_1 LIKE '%J020%'\n",
    "OR diagnosis_1 LIKE '%J312%'\n",
    "OR diagnosis_1 LIKE '%K122%'\n",
    "OR diagnosis_1 LIKE '%I208%'\n",
    "OR diagnosis_1 LIKE '%I201%')\"\n",
    "tb1 <- bq_project_query(projectid, sql1)\n",
    "angina <-bq_table_download(tb1) # store data in tibble\n",
    "\n",
    "\n",
    "# Cardiomyopathy: Secondary care between 2002-2022\n",
    "sql2 <- \"SELECT person_id, gender, birth_month, birth_year, episode_start_date, episode_end_date, diagnosis_1  FROM `yhcr-prd-phm-bia-core.CB_FDM_Warehouse_V2.tbl_episode` \n",
    "WHERE episode_start_date BETWEEN '2002-01-01' AND '2022-12-31' AND (diagnosis_1 LIKE '%E854D%'\n",
    "OR diagnosis_1 LIKE '%I431A%'\n",
    "OR diagnosis_1 LIKE '%I255%'\n",
    "OR diagnosis_1 LIKE '%I429%'\n",
    "OR diagnosis_1 LIKE '%I42%'\n",
    "OR diagnosis_1 LIKE '%I090%'\n",
    "OR diagnosis_1 LIKE '%I11%'\n",
    "OR diagnosis_1 LIKE '%I251%'\n",
    "OR diagnosis_1 LIKE '%I43A%'\n",
    "OR diagnosis_1 LIKE '%O903%'\n",
    "OR diagnosis_1 LIKE '%O994%'\n",
    "OR diagnosis_1 LIKE '%Q248%'\n",
    "OR diagnosis_1 LIKE '%I423%'\n",
    "OR diagnosis_1 LIKE '%I421%'\n",
    "OR diagnosis_1 LIKE '%I428%'\n",
    "OR diagnosis_1 LIKE '%I425%'\n",
    "OR diagnosis_1 LIKE '%I422%'\n",
    "OR diagnosis_1 LIKE '%I420%'\n",
    "OR diagnosis_1 LIKE '%B572D%'\n",
    "OR diagnosis_1 LIKE '%B570D%'\n",
    "OR diagnosis_1 LIKE '%I981A%'\n",
    "OR diagnosis_1 LIKE '%I412A%'\n",
    "OR diagnosis_1 LIKE '%I428D%'\n",
    "OR diagnosis_1 LIKE '%E90XA%'\n",
    "OR diagnosis_1 LIKE '%E740D%'\n",
    "OR diagnosis_1 LIKE '%E763D%'\n",
    "OR diagnosis_1 LIKE '%I528A%'\n",
    "OR diagnosis_1 LIKE '%I438A%'\n",
    "OR diagnosis_1 LIKE '%G111D%'\n",
    "OR diagnosis_1 LIKE '%G711D%'\n",
    "OR diagnosis_1 LIKE '%I427%'\n",
    "OR diagnosis_1 LIKE '%I515%'\n",
    "OR diagnosis_1 LIKE '%I430A%'\n",
    "OR diagnosis_1 LIKE '%I432A%'\n",
    "OR diagnosis_1 LIKE '%G710%'\n",
    "OR diagnosis_1 LIKE '%I518%'\n",
    "OR diagnosis_1 LIKE '%G710D%')\"\n",
    "tb2 <- bq_project_query(projectid, sql2)\n",
    "cardiomyopathy <-bq_table_download(tb2) # store data in tibble\n",
    "\n",
    "# Heart Failure: Secondary care between 2002-2022\n",
    "sql3 <- \"SELECT person_id, gender, birth_month, birth_year, episode_start_date, episode_end_date, diagnosis_1  FROM `yhcr-prd-phm-bia-core.CB_FDM_Warehouse_V2.tbl_episode` \n",
    "WHERE episode_start_date BETWEEN '2002-01-01' AND '2022-12-31' AND (diagnosis_1 LIKE '%I099%'\n",
    "OR diagnosis_1 LIKE '%I509%'\n",
    "OR diagnosis_1 LIKE '%I50%'\n",
    "OR diagnosis_1 LIKE '%I110%'\n",
    "OR diagnosis_1 LIKE '%I130%'\n",
    "OR diagnosis_1 LIKE '%I132%'\n",
    "OR diagnosis_1 LIKE '%I971%'\n",
    "OR diagnosis_1 LIKE '%I978%'\n",
    "OR diagnosis_1 LIKE '%O291%'\n",
    "OR diagnosis_1 LIKE '%O742%'\n",
    "OR diagnosis_1 LIKE '%O754%'\n",
    "OR diagnosis_1 LIKE '%O891%'\n",
    "OR diagnosis_1 LIKE '%P290%'\n",
    "OR diagnosis_1 LIKE '%T818%'\n",
    "OR diagnosis_1 LIKE '%E059D%'\n",
    "OR diagnosis_1 LIKE '%I500%'\n",
    "OR diagnosis_1 LIKE '%I10X%'\n",
    "OR diagnosis_1 LIKE '%I501%'\n",
    "OR diagnosis_1 LIKE '%I018%'\n",
    "OR diagnosis_1 LIKE '%I020%'\n",
    "OR diagnosis_1 LIKE '%I098%'\n",
    "OR diagnosis_1 LIKE '%I970%')\"\n",
    "tb3 <- bq_project_query(projectid, sql3)\n",
    "heart_failure <-bq_table_download(tb3) # store data in tibble\n",
    "\n",
    "# Hypertension: Secondary care between 2002-2022\n",
    "sql4 <- \"SELECT person_id, gender, birth_month, birth_year, episode_start_date, episode_end_date, diagnosis_1  FROM `yhcr-prd-phm-bia-core.CB_FDM_Warehouse_V2.tbl_episode` \n",
    "WHERE episode_start_date BETWEEN '2002-01-01' AND '2022-12-31' AND (diagnosis_1 LIKE '%I158%'\n",
    "OR diagnosis_1 LIKE '%O16X%'\n",
    "OR diagnosis_1 LIKE '%I21%'\n",
    "OR diagnosis_1 LIKE '%I22%'\n",
    "OR diagnosis_1 LIKE '%I23%'\n",
    "OR diagnosis_1 LIKE '%I24%'\n",
    "OR diagnosis_1 LIKE '%I25%'\n",
    "OR diagnosis_1 LIKE '%I270%'\n",
    "OR diagnosis_1 LIKE '%O10%'\n",
    "OR diagnosis_1 LIKE '%O11X%'\n",
    "OR diagnosis_1 LIKE '%O13X%'\n",
    "OR diagnosis_1 LIKE '%O14%'\n",
    "OR diagnosis_1 LIKE '%O15%'\n",
    "OR diagnosis_1 LIKE '%P292%'\n",
    "OR diagnosis_1 LIKE '%I12%'\n",
    "OR diagnosis_1 LIKE '%I13%'\n",
    "OR diagnosis_1 LIKE '%P000%'\n",
    "OR diagnosis_1 LIKE '%I129%'\n",
    "OR diagnosis_1 LIKE '%I159%'\n",
    "OR diagnosis_1 LIKE '%I15%'\n",
    "OR diagnosis_1 LIKE '%O104%'\n",
    "OR diagnosis_1 LIKE '%I150%'\n",
    "OR diagnosis_1 LIKE '%I152%'\n",
    "OR diagnosis_1 LIKE '%I151%'\n",
    "OR diagnosis_1 LIKE '%O12%'\n",
    "OR diagnosis_1 LIKE '%O100%'\n",
    "OR diagnosis_1 LIKE '%O102%'\n",
    "OR diagnosis_1 LIKE '%O109%'\n",
    "OR diagnosis_1 LIKE '%O121%'\n",
    "OR diagnosis_1 LIKE '%O141%'\n",
    "OR diagnosis_1 LIKE '%O159%'\n",
    "OR diagnosis_1 LIKE '%O152%'\n",
    "OR diagnosis_1 LIKE '%O150%'\n",
    "OR diagnosis_1 LIKE '%O149%'\n",
    "OR diagnosis_1 LIKE '%R688%'\n",
    "OR diagnosis_1 LIKE '%O151%'\n",
    "OR diagnosis_1 LIKE '%O142%'\n",
    "OR diagnosis_1 LIKE '%O140%')\"\n",
    "tb4 <- bq_project_query(projectid, sql4)\n",
    "hypertension <-bq_table_download(tb4) # store data in tibble\n",
    "\n",
    "# Ischaemic Heart Disease: Secondary care between 2002-2022\n",
    "sql5 <- \"SELECT person_id, gender, birth_month, birth_year, episode_start_date, episode_end_date, diagnosis_1  FROM `yhcr-prd-phm-bia-core.CB_FDM_Warehouse_V2.tbl_episode` \n",
    "WHERE episode_start_date BETWEEN '2002-01-01' AND '2022-12-31' AND (diagnosis_1 LIKE '%I219%'\n",
    "OR diagnosis_1 LIKE '%I214%'\n",
    "OR diagnosis_1 LIKE '%I212%'\n",
    "OR diagnosis_1 LIKE '%I249%'\n",
    "OR diagnosis_1 LIKE '%I258%'\n",
    "OR diagnosis_1 LIKE '%I250%'\n",
    "OR diagnosis_1 LIKE '%I253%'\n",
    "OR diagnosis_1 LIKE '%I254%'\n",
    "OR diagnosis_1 LIKE '%I259%'\n",
    "OR diagnosis_1 LIKE '%I233%'\n",
    "OR diagnosis_1 LIKE '%I256%'\n",
    "OR diagnosis_1 LIKE '%P294%'\n",
    "OR diagnosis_1 LIKE '%I232%')\"\n",
    "tb5 <- bq_project_query(projectid, sql5)\n",
    "ihd <-bq_table_download(tb5) # store data in tibble\n",
    "\n",
    "# Myocardial Infarction: Secondary care between 2002-2022\n",
    "sql6 <- \"SELECT person_id, gender, birth_month, birth_year, episode_start_date, episode_end_date, diagnosis_1  FROM `yhcr-prd-phm-bia-core.CB_FDM_Warehouse_V2.tbl_episode` \n",
    "WHERE episode_start_date BETWEEN '2002-01-01' AND '2022-12-31' AND (diagnosis_1 LIKE '%I210%'\n",
    "OR diagnosis_1 LIKE '%I220%'\n",
    "OR diagnosis_1 LIKE '%I211%'\n",
    "OR diagnosis_1 LIKE '%I221%'\n",
    "OR diagnosis_1 LIKE '%I229%'\n",
    "OR diagnosis_1 LIKE '%I228%'\n",
    "OR diagnosis_1 LIKE '%I213%'\n",
    "OR diagnosis_1 LIKE '%I252%'\n",
    "OR diagnosis_1 LIKE '%A520D%'\n",
    "OR diagnosis_1 LIKE '%I520A%')\"\n",
    "tb6 <- bq_project_query(projectid, sql6)\n",
    "mi <-bq_table_download(tb6) # store data in tibble\n",
    "\n",
    "# Peripheral Vascular Disease: Secondary care between 2002-2022\n",
    "sql7 <- \"SELECT person_id, gender, birth_month, birth_year, episode_start_date, episode_end_date, diagnosis_1  FROM `yhcr-prd-phm-bia-core.CB_FDM_Warehouse_V2.tbl_episode` \n",
    "WHERE episode_start_date BETWEEN '2002-01-01' AND '2022-12-31' AND (diagnosis_1 LIKE '%I738%'\n",
    "OR diagnosis_1 LIKE '%E145D%'\n",
    "OR diagnosis_1 LIKE '%E105D%'\n",
    "OR diagnosis_1 LIKE '%E115D%'\n",
    "OR diagnosis_1 LIKE '%E125D%'\n",
    "OR diagnosis_1 LIKE '%E135D%'\n",
    "OR diagnosis_1 LIKE '%O243D%'\n",
    "OR diagnosis_1 LIKE '%O244D%'\n",
    "OR diagnosis_1 LIKE '%O249D%'\n",
    "OR diagnosis_1 LIKE '%I792A%'\n",
    "OR diagnosis_1 LIKE '%I73%')\"\n",
    "tb7 <- bq_project_query(projectid, sql7)\n",
    "pvd <-bq_table_download(tb7) # store data in tibble\n",
    "\n",
    "# Stroke: Secondary care between 2002-2022\n",
    "sql8 <- \"SELECT person_id, gender, birth_month, birth_year, episode_start_date, episode_end_date, diagnosis_1  FROM `yhcr-prd-phm-bia-core.CB_FDM_Warehouse_V2.tbl_episode` \n",
    "WHERE episode_start_date BETWEEN '2002-01-01' AND '2022-12-31' AND (diagnosis_1 LIKE '%I619%'\n",
    "OR diagnosis_1 LIKE '%I61%'\n",
    "OR diagnosis_1 LIKE '%I691%'\n",
    "OR diagnosis_1 LIKE '%I618%'\n",
    "OR diagnosis_1 LIKE '%G459%'\n",
    "OR diagnosis_1 LIKE '%G45%'\n",
    "OR diagnosis_1 LIKE '%G451%'\n",
    "OR diagnosis_1 LIKE '%G450%'\n",
    "OR diagnosis_1 LIKE '%R55X%'\n",
    "OR diagnosis_1 LIKE '%I603%'\n",
    "OR diagnosis_1 LIKE '%I611%'\n",
    "OR diagnosis_1 LIKE '%I663D%'\n",
    "OR diagnosis_1 LIKE '%G463A%'\n",
    "OR diagnosis_1 LIKE '%I662D%'\n",
    "OR diagnosis_1 LIKE '%G462A%'\n",
    "OR diagnosis_1 LIKE '%I614%'\n",
    "OR diagnosis_1 LIKE '%P526%'\n",
    "OR diagnosis_1 LIKE '%S068%'\n",
    "OR diagnosis_1 LIKE '%I631%'\n",
    "OR diagnosis_1 LIKE '%I600%'\n",
    "OR diagnosis_1 LIKE '%I639%'\n",
    "OR diagnosis_1 LIKE '%Z866%'\n",
    "OR diagnosis_1 LIKE '%I612%'\n",
    "OR diagnosis_1 LIKE '%I64X%'\n",
    "OR diagnosis_1 LIKE '%I610%'\n",
    "OR diagnosis_1 LIKE '%I690%'\n",
    "OR diagnosis_1 LIKE '%I692%'\n",
    "OR diagnosis_1 LIKE '%I693%'\n",
    "OR diagnosis_1 LIKE '%I694%'\n",
    "OR diagnosis_1 LIKE '%I63%'\n",
    "OR diagnosis_1 LIKE '%I669%'\n",
    "OR diagnosis_1 LIKE '%I66%'\n",
    "OR diagnosis_1 LIKE '%I633%'\n",
    "OR diagnosis_1 LIKE '%I634%'\n",
    "OR diagnosis_1 LIKE '%I635%'\n",
    "OR diagnosis_1 LIKE '%G465A%'\n",
    "OR diagnosis_1 LIKE '%I639D%'\n",
    "OR diagnosis_1 LIKE '%I609%'\n",
    "OR diagnosis_1 LIKE '%I60%'\n",
    "OR diagnosis_1 LIKE '%P103%'\n",
    "OR diagnosis_1 LIKE '%P525%'\n",
    "OR diagnosis_1 LIKE '%I668%'\n",
    "OR diagnosis_1 LIKE '%G452%'\n",
    "OR diagnosis_1 LIKE '%I601%'\n",
    "OR diagnosis_1 LIKE '%I660D%'\n",
    "OR diagnosis_1 LIKE '%G460A%'\n",
    "OR diagnosis_1 LIKE '%I613%'\n",
    "OR diagnosis_1 LIKE '%I630%'\n",
    "OR diagnosis_1 LIKE '%I632%'\n",
    "OR diagnosis_1 LIKE '%G466A%'\n",
    "OR diagnosis_1 LIKE '%G453%'\n",
    "OR diagnosis_1 LIKE '%I616%'\n",
    "OR diagnosis_1 LIKE '%G458%'\n",
    "OR diagnosis_1 LIKE '%I606%'\n",
    "OR diagnosis_1 LIKE '%I607%'\n",
    "OR diagnosis_1 LIKE '%Z867%'\n",
    "OR diagnosis_1 LIKE '%I615%'\n",
    "OR diagnosis_1 LIKE '%G454%'\n",
    "OR diagnosis_1 LIKE '%R413%'\n",
    "OR diagnosis_1 LIKE '%I678%'\n",
    "OR diagnosis_1 LIKE '%I636%'\n",
    "OR diagnosis_1 LIKE '%I604%'\n",
    "OR diagnosis_1 LIKE '%I661D%'\n",
    "OR diagnosis_1 LIKE '%G461A%'\n",
    "OR diagnosis_1 LIKE '%G467A%'\n",
    "OR diagnosis_1 LIKE '%I638%'\n",
    "OR diagnosis_1 LIKE '%I608%'\n",
    "OR diagnosis_1 LIKE '%I605%'\n",
    "OR diagnosis_1 LIKE '%P101%'\n",
    "OR diagnosis_1 LIKE '%P524%'\n",
    "OR diagnosis_1 LIKE '%G464A%'\n",
    "OR diagnosis_1 LIKE '%I602%'\n",
    "OR diagnosis_1 LIKE '%I679%'\n",
    "OR diagnosis_1 LIKE '%I67%'\n",
    "OR diagnosis_1 LIKE '%G46%'\n",
    "OR diagnosis_1 LIKE '%I68%'\n",
    "OR diagnosis_1 LIKE '%I671%'\n",
    "OR diagnosis_1 LIKE '%I672%'\n",
    "OR diagnosis_1 LIKE '%S062%'\n",
    "OR diagnosis_1 LIKE '%S063%'\n",
    "OR diagnosis_1 LIKE '%P10%'\n",
    "OR diagnosis_1 LIKE '%P52%'\n",
    "OR diagnosis_1 LIKE '%I658%')\"\n",
    "tb8 <- bq_project_query(projectid, sql8)\n",
    "stroke <-bq_table_download(tb8) # store data in tibble\n",
    "\n",
    "# Valve Disease: Secondary care between 2002-2022\n",
    "sql9 <- \"SELECT person_id, gender, birth_month, birth_year, episode_start_date, episode_end_date, diagnosis_1  FROM `yhcr-prd-phm-bia-core.CB_FDM_Warehouse_V2.tbl_episode` \n",
    "WHERE episode_start_date BETWEEN '2002-01-01' AND '2022-12-31' AND (diagnosis_1 LIKE '%I059%'\n",
    "OR diagnosis_1 LIKE '%I05%'\n",
    "OR diagnosis_1 LIKE '%I080%'\n",
    "OR diagnosis_1 LIKE '%I081%'\n",
    "OR diagnosis_1 LIKE '%I083%'\n",
    "OR diagnosis_1 LIKE '%I34%'\n",
    "OR diagnosis_1 LIKE '%I050%'\n",
    "OR diagnosis_1 LIKE '%I051%'\n",
    "OR diagnosis_1 LIKE '%I052%'\n",
    "OR diagnosis_1 LIKE '%I011%'\n",
    "OR diagnosis_1 LIKE '%I342%'\n",
    "OR diagnosis_1 LIKE '%I069%'\n",
    "OR diagnosis_1 LIKE '%I06%'\n",
    "OR diagnosis_1 LIKE '%I060%'\n",
    "OR diagnosis_1 LIKE '%I062%'\n",
    "OR diagnosis_1 LIKE '%I082%'\n",
    "OR diagnosis_1 LIKE '%I061%'\n",
    "OR diagnosis_1 LIKE '%I078%'\n",
    "OR diagnosis_1 LIKE '%I070%'\n",
    "OR diagnosis_1 LIKE '%I072%'\n",
    "OR diagnosis_1 LIKE '%I071%'\n",
    "OR diagnosis_1 LIKE '%I079%'\n",
    "OR diagnosis_1 LIKE '%I088%'\n",
    "OR diagnosis_1 LIKE '%I234%'\n",
    "OR diagnosis_1 LIKE '%I235%'\n",
    "OR diagnosis_1 LIKE '%I340%'\n",
    "OR diagnosis_1 LIKE '%Q233%'\n",
    "OR diagnosis_1 LIKE '%I349%'\n",
    "OR diagnosis_1 LIKE '%I359%'\n",
    "OR diagnosis_1 LIKE '%I35%'\n",
    "OR diagnosis_1 LIKE '%I391A%'\n",
    "OR diagnosis_1 LIKE '%I351%'\n",
    "OR diagnosis_1 LIKE '%Q231%'\n",
    "OR diagnosis_1 LIKE '%I350%'\n",
    "OR diagnosis_1 LIKE '%I352%'\n",
    "OR diagnosis_1 LIKE '%Q230%'\n",
    "OR diagnosis_1 LIKE '%I369%'\n",
    "OR diagnosis_1 LIKE '%I36%'\n",
    "OR diagnosis_1 LIKE '%I361%'\n",
    "OR diagnosis_1 LIKE '%I360%'\n",
    "OR diagnosis_1 LIKE '%I362%'\n",
    "OR diagnosis_1 LIKE '%I07%'\n",
    "OR diagnosis_1 LIKE '%I379%'\n",
    "OR diagnosis_1 LIKE '%I37%'\n",
    "OR diagnosis_1 LIKE '%I393A%'\n",
    "OR diagnosis_1 LIKE '%Q221%'\n",
    "OR diagnosis_1 LIKE '%Q222%'\n",
    "OR diagnosis_1 LIKE '%Q223%'\n",
    "OR diagnosis_1 LIKE '%I371%'\n",
    "OR diagnosis_1 LIKE '%I370%'\n",
    "OR diagnosis_1 LIKE '%I372%'\n",
    "OR diagnosis_1 LIKE '%I089%'\n",
    "OR diagnosis_1 LIKE '%I08%'\n",
    "OR diagnosis_1 LIKE '%I394A%'\n",
    "OR diagnosis_1 LIKE '%I38X%'\n",
    "OR diagnosis_1 LIKE '%I398A%'\n",
    "OR diagnosis_1 LIKE '%I512%'\n",
    "OR diagnosis_1 LIKE '%I058%'\n",
    "OR diagnosis_1 LIKE '%I068%'\n",
    "OR diagnosis_1 LIKE '%I348%'\n",
    "OR diagnosis_1 LIKE '%I358%'\n",
    "OR diagnosis_1 LIKE '%I368%'\n",
    "OR diagnosis_1 LIKE '%I378%'\n",
    "OR diagnosis_1 LIKE '%I390A%'\n",
    "OR diagnosis_1 LIKE '%I392A%'\n",
    "OR diagnosis_1 LIKE '%Q220%'\n",
    "OR diagnosis_1 LIKE '%Q224%'\n",
    "OR diagnosis_1 LIKE '%Q225%'\n",
    "OR diagnosis_1 LIKE '%Q232%'\n",
    "OR diagnosis_1 LIKE '%Q238%'\n",
    "OR diagnosis_1 LIKE '%Q244%'\n",
    "OR diagnosis_1 LIKE '%Q253%'\n",
    "OR diagnosis_1 LIKE '%Q228%'\n",
    "OR diagnosis_1 LIKE '%Q229%'\n",
    "OR diagnosis_1 LIKE '%T828%'\n",
    "OR diagnosis_1 LIKE '%I341%'\n",
    "OR diagnosis_1 LIKE '%Q239%'\n",
    "OR diagnosis_1 LIKE '%Q23%'\n",
    "OR diagnosis_1 LIKE '%I710%'\n",
    "OR diagnosis_1 LIKE '%Q234%'\n",
    "OR diagnosis_1 LIKE '%Q226%'\n",
    "OR diagnosis_1 LIKE '%T820%'\n",
    "OR diagnosis_1 LIKE '%I712%'\n",
    "OR diagnosis_1 LIKE '%I711%'\n",
    "OR diagnosis_1 LIKE '%Q254%'\n",
    "OR diagnosis_1 LIKE '%I790A%'\n",
    "OR diagnosis_1 LIKE '%Q208%'\n",
    "OR diagnosis_1 LIKE '%Q210%'\n",
    "OR diagnosis_1 LIKE '%I02%'\n",
    "OR diagnosis_1 LIKE '%I511%'\n",
    "OR diagnosis_1 LIKE '%I33%'\n",
    "OR diagnosis_1 LIKE '%A520A%'\n",
    "OR diagnosis_1 LIKE '%I330%')\"\n",
    "tb9 <- bq_project_query(projectid, sql9)\n",
    "valve_disease <-bq_table_download(tb9) # store data in tibble"
   ]
  },
  {
   "cell_type": "code",
   "execution_count": 4,
   "id": "6ea8b747-240b-45b6-84a1-bfdd9e5f7455",
   "metadata": {},
   "outputs": [
    {
     "data": {
      "text/html": [
       "10531"
      ],
      "text/latex": [
       "10531"
      ],
      "text/markdown": [
       "10531"
      ],
      "text/plain": [
       "[1] 10531"
      ]
     },
     "metadata": {},
     "output_type": "display_data"
    },
    {
     "data": {
      "text/html": [
       "4732"
      ],
      "text/latex": [
       "4732"
      ],
      "text/markdown": [
       "4732"
      ],
      "text/plain": [
       "[1] 4732"
      ]
     },
     "metadata": {},
     "output_type": "display_data"
    },
    {
     "data": {
      "text/html": [
       "13266"
      ],
      "text/latex": [
       "13266"
      ],
      "text/markdown": [
       "13266"
      ],
      "text/plain": [
       "[1] 13266"
      ]
     },
     "metadata": {},
     "output_type": "display_data"
    },
    {
     "data": {
      "text/html": [
       "25505"
      ],
      "text/latex": [
       "25505"
      ],
      "text/markdown": [
       "25505"
      ],
      "text/plain": [
       "[1] 25505"
      ]
     },
     "metadata": {},
     "output_type": "display_data"
    },
    {
     "data": {
      "text/html": [
       "10256"
      ],
      "text/latex": [
       "10256"
      ],
      "text/markdown": [
       "10256"
      ],
      "text/plain": [
       "[1] 10256"
      ]
     },
     "metadata": {},
     "output_type": "display_data"
    },
    {
     "data": {
      "text/html": [
       "3250"
      ],
      "text/latex": [
       "3250"
      ],
      "text/markdown": [
       "3250"
      ],
      "text/plain": [
       "[1] 3250"
      ]
     },
     "metadata": {},
     "output_type": "display_data"
    },
    {
     "data": {
      "text/html": [
       "2252"
      ],
      "text/latex": [
       "2252"
      ],
      "text/markdown": [
       "2252"
      ],
      "text/plain": [
       "[1] 2252"
      ]
     },
     "metadata": {},
     "output_type": "display_data"
    },
    {
     "data": {
      "text/html": [
       "21294"
      ],
      "text/latex": [
       "21294"
      ],
      "text/markdown": [
       "21294"
      ],
      "text/plain": [
       "[1] 21294"
      ]
     },
     "metadata": {},
     "output_type": "display_data"
    },
    {
     "data": {
      "text/html": [
       "2843"
      ],
      "text/latex": [
       "2843"
      ],
      "text/markdown": [
       "2843"
      ],
      "text/plain": [
       "[1] 2843"
      ]
     },
     "metadata": {},
     "output_type": "display_data"
    }
   ],
   "source": [
    "nrow(angina)\n",
    "nrow(cardiomyopathy)\n",
    "nrow(heart_failure)\n",
    "nrow(hypertension)\n",
    "nrow(ihd)\n",
    "nrow(mi)\n",
    "nrow(pvd)\n",
    "nrow(stroke)\n",
    "nrow(valve_disease)"
   ]
  },
  {
   "cell_type": "code",
   "execution_count": 4,
   "id": "bdd06cea-06cf-43a7-92ca-5bc3732b4bea",
   "metadata": {},
   "outputs": [
    {
     "data": {
      "text/html": [
       "<table class=\"dataframe\">\n",
       "<caption>A tibble: 6 × 7</caption>\n",
       "<thead>\n",
       "\t<tr><th scope=col>person_id</th><th scope=col>gender</th><th scope=col>birth_month</th><th scope=col>birth_year</th><th scope=col>episode_start_date</th><th scope=col>episode_end_date</th><th scope=col>diagnosis_1</th></tr>\n",
       "\t<tr><th scope=col>&lt;int&gt;</th><th scope=col>&lt;chr&gt;</th><th scope=col>&lt;chr&gt;</th><th scope=col>&lt;chr&gt;</th><th scope=col>&lt;chr&gt;</th><th scope=col>&lt;chr&gt;</th><th scope=col>&lt;chr&gt;</th></tr>\n",
       "</thead>\n",
       "<tbody>\n",
       "\t<tr><td>12899585</td><td>1</td><td>1</td><td>1991</td><td>2019-03-09</td><td>2019-03-11</td><td>K122</td></tr>\n",
       "\t<tr><td>12900012</td><td>1</td><td>1</td><td>1984</td><td>2022-03-18</td><td>2022-03-18</td><td>K122</td></tr>\n",
       "\t<tr><td>13054024</td><td>1</td><td>1</td><td>1923</td><td>2011-04-30</td><td>2011-05-01</td><td>I209</td></tr>\n",
       "\t<tr><td>13384115</td><td>2</td><td>1</td><td>1934</td><td>2015-07-20</td><td>2015-07-21</td><td>I209</td></tr>\n",
       "\t<tr><td>13588512</td><td>2</td><td>1</td><td>1929</td><td>2012-07-19</td><td>2012-07-20</td><td>I200</td></tr>\n",
       "\t<tr><td>13486183</td><td>1</td><td>1</td><td>1925</td><td>2014-01-02</td><td>2014-01-03</td><td>I209</td></tr>\n",
       "</tbody>\n",
       "</table>\n"
      ],
      "text/latex": [
       "A tibble: 6 × 7\n",
       "\\begin{tabular}{lllllll}\n",
       " person\\_id & gender & birth\\_month & birth\\_year & episode\\_start\\_date & episode\\_end\\_date & diagnosis\\_1\\\\\n",
       " <int> & <chr> & <chr> & <chr> & <chr> & <chr> & <chr>\\\\\n",
       "\\hline\n",
       "\t 12899585 & 1 & 1 & 1991 & 2019-03-09 & 2019-03-11 & K122\\\\\n",
       "\t 12900012 & 1 & 1 & 1984 & 2022-03-18 & 2022-03-18 & K122\\\\\n",
       "\t 13054024 & 1 & 1 & 1923 & 2011-04-30 & 2011-05-01 & I209\\\\\n",
       "\t 13384115 & 2 & 1 & 1934 & 2015-07-20 & 2015-07-21 & I209\\\\\n",
       "\t 13588512 & 2 & 1 & 1929 & 2012-07-19 & 2012-07-20 & I200\\\\\n",
       "\t 13486183 & 1 & 1 & 1925 & 2014-01-02 & 2014-01-03 & I209\\\\\n",
       "\\end{tabular}\n"
      ],
      "text/markdown": [
       "\n",
       "A tibble: 6 × 7\n",
       "\n",
       "| person_id &lt;int&gt; | gender &lt;chr&gt; | birth_month &lt;chr&gt; | birth_year &lt;chr&gt; | episode_start_date &lt;chr&gt; | episode_end_date &lt;chr&gt; | diagnosis_1 &lt;chr&gt; |\n",
       "|---|---|---|---|---|---|---|\n",
       "| 12899585 | 1 | 1 | 1991 | 2019-03-09 | 2019-03-11 | K122 |\n",
       "| 12900012 | 1 | 1 | 1984 | 2022-03-18 | 2022-03-18 | K122 |\n",
       "| 13054024 | 1 | 1 | 1923 | 2011-04-30 | 2011-05-01 | I209 |\n",
       "| 13384115 | 2 | 1 | 1934 | 2015-07-20 | 2015-07-21 | I209 |\n",
       "| 13588512 | 2 | 1 | 1929 | 2012-07-19 | 2012-07-20 | I200 |\n",
       "| 13486183 | 1 | 1 | 1925 | 2014-01-02 | 2014-01-03 | I209 |\n",
       "\n"
      ],
      "text/plain": [
       "  person_id gender birth_month birth_year episode_start_date episode_end_date\n",
       "1 12899585  1      1           1991       2019-03-09         2019-03-11      \n",
       "2 12900012  1      1           1984       2022-03-18         2022-03-18      \n",
       "3 13054024  1      1           1923       2011-04-30         2011-05-01      \n",
       "4 13384115  2      1           1934       2015-07-20         2015-07-21      \n",
       "5 13588512  2      1           1929       2012-07-19         2012-07-20      \n",
       "6 13486183  1      1           1925       2014-01-02         2014-01-03      \n",
       "  diagnosis_1\n",
       "1 K122       \n",
       "2 K122       \n",
       "3 I209       \n",
       "4 I209       \n",
       "5 I200       \n",
       "6 I209       "
      ]
     },
     "metadata": {},
     "output_type": "display_data"
    }
   ],
   "source": [
    "head(angina)"
   ]
  },
  {
   "cell_type": "code",
   "execution_count": 7,
   "id": "88713c10-4171-4357-b2c5-1e8217e6afe7",
   "metadata": {},
   "outputs": [
    {
     "ename": "ERROR",
     "evalue": "\u001b[1m\u001b[33mError\u001b[39m in `rename()`:\u001b[22m\n\u001b[33m!\u001b[39m Can't rename columns that don't exist.\n\u001b[31m✖\u001b[39m Column `episode_start_date` doesn't exist.\n",
     "output_type": "error",
     "traceback": [
      "\u001b[1m\u001b[33mError\u001b[39m in `rename()`:\u001b[22m\n\u001b[33m!\u001b[39m Can't rename columns that don't exist.\n\u001b[31m✖\u001b[39m Column `episode_start_date` doesn't exist.\nTraceback:\n",
      "1. angina %>% mutate(has_angina = 1) %>% rename(date_angina_diagnosis = episode_start_date) %>% \n .     select(-diagnosis_1) %>% group_by(person_id) %>% arrange(date_angina_diagnosis) %>% \n .     mutate(event_number = row_number()) %>% slice_min(event_number) %>% \n .     select(-event_number) %>% ungroup()",
      "2. ungroup(.)",
      "3. select(., -event_number)",
      "4. slice_min(., event_number)",
      "5. mutate(., event_number = row_number())",
      "6. arrange(., date_angina_diagnosis)",
      "7. group_by(., person_id)",
      "8. select(., -diagnosis_1)",
      "9. rename(., date_angina_diagnosis = episode_start_date)",
      "10. rename.data.frame(., date_angina_diagnosis = episode_start_date)",
      "11. tidyselect::eval_rename(expr(c(...)), .data)",
      "12. rename_impl(data, names(data), as_quosure(expr, env), strict = strict, \n  .     name_spec = name_spec, allow_predicates = allow_predicates, \n  .     error_call = error_call)",
      "13. eval_select_impl(x, names, {\n  .     {\n  .         sel\n  .     }\n  . }, strict = strict, name_spec = name_spec, type = \"rename\", allow_predicates = allow_predicates, \n  .     error_call = error_call)",
      "14. with_subscript_errors(out <- vars_select_eval(vars, expr, strict = strict, \n  .     data = x, name_spec = name_spec, uniquely_named = uniquely_named, \n  .     allow_rename = allow_rename, allow_empty = allow_empty, allow_predicates = allow_predicates, \n  .     type = type, error_call = error_call), type = type)",
      "15. try_fetch(expr, vctrs_error_subscript = function(cnd) {\n  .     cnd$subscript_action <- subscript_action(type)\n  .     cnd$subscript_elt <- \"column\"\n  .     cnd_signal(cnd)\n  . })",
      "16. withCallingHandlers(expr, condition = function(cnd) {\n  .     {\n  .         .__handler_frame__. <- TRUE\n  .         .__setup_frame__. <- frame\n  .         if (inherits(cnd, \"message\")) {\n  .             except <- c(\"warning\", \"error\")\n  .         }\n  .         else if (inherits(cnd, \"warning\")) {\n  .             except <- \"error\"\n  .         }\n  .         else {\n  .             except <- \"\"\n  .         }\n  .     }\n  .     while (!is_null(cnd)) {\n  .         if (inherits(cnd, \"vctrs_error_subscript\")) {\n  .             out <- handlers[[1L]](cnd)\n  .             if (!inherits(out, \"rlang_zap\")) \n  .                 throw(out)\n  .         }\n  .         inherit <- .subset2(.subset2(cnd, \"rlang\"), \"inherit\")\n  .         if (is_false(inherit)) {\n  .             return()\n  .         }\n  .         cnd <- .subset2(cnd, \"parent\")\n  .     }\n  . })",
      "17. vars_select_eval(vars, expr, strict = strict, data = x, name_spec = name_spec, \n  .     uniquely_named = uniquely_named, allow_rename = allow_rename, \n  .     allow_empty = allow_empty, allow_predicates = allow_predicates, \n  .     type = type, error_call = error_call)",
      "18. walk_data_tree(expr, data_mask, context_mask)",
      "19. eval_c(expr, data_mask, context_mask)",
      "20. reduce_sels(node, data_mask, context_mask, init = init)",
      "21. walk_data_tree(new, data_mask, context_mask)",
      "22. as_indices_sel_impl(out, vars = vars, strict = strict, data = data, \n  .     allow_predicates = allow_predicates, call = error_call, arg = as_label(expr))",
      "23. as_indices_impl(x, vars, call = call, arg = arg, strict = strict)",
      "24. chr_as_locations(x, vars, call = call, arg = arg)",
      "25. vctrs::vec_as_location(x, n = length(vars), names = vars, call = call, \n  .     arg = arg)",
      "26. (function () \n  . stop_subscript_oob(i = i, subscript_type = subscript_type, names = names, \n  .     subscript_action = subscript_action, subscript_arg = subscript_arg, \n  .     call = call))()",
      "27. stop_subscript_oob(i = i, subscript_type = subscript_type, names = names, \n  .     subscript_action = subscript_action, subscript_arg = subscript_arg, \n  .     call = call)",
      "28. stop_subscript(class = \"vctrs_error_subscript_oob\", i = i, subscript_type = subscript_type, \n  .     ..., call = call)",
      "29. abort(class = c(class, \"vctrs_error_subscript\"), i = i, ..., \n  .     call = call)",
      "30. signal_abort(cnd, .file)",
      "31. signalCondition(cnd)",
      "32. (function (cnd) \n  . {\n  .     {\n  .         .__handler_frame__. <- TRUE\n  .         .__setup_frame__. <- frame\n  .         if (inherits(cnd, \"message\")) {\n  .             except <- c(\"warning\", \"error\")\n  .         }\n  .         else if (inherits(cnd, \"warning\")) {\n  .             except <- \"error\"\n  .         }\n  .         else {\n  .             except <- \"\"\n  .         }\n  .     }\n  .     while (!is_null(cnd)) {\n  .         if (inherits(cnd, \"vctrs_error_subscript\")) {\n  .             out <- handlers[[1L]](cnd)\n  .             if (!inherits(out, \"rlang_zap\")) \n  .                 throw(out)\n  .         }\n  .         inherit <- .subset2(.subset2(cnd, \"rlang\"), \"inherit\")\n  .         if (is_false(inherit)) {\n  .             return()\n  .         }\n  .         cnd <- .subset2(cnd, \"parent\")\n  .     }\n  . })(structure(list(message = \"\", trace = structure(list(call = list(\n  .     IRkernel::main(), kernel$run(), handle_shell(), executor$execute(msg), \n  .     tryCatch(evaluate(request$content$code, envir = .GlobalEnv, \n  .         output_handler = oh, stop_on_error = 1L), interrupt = function(cond) {\n  .         log_debug(\"Interrupt during execution\")\n  .         interrupted <<- TRUE\n  .     }, error = .self$handle_error), tryCatchList(expr, classes, \n  .         parentenv, handlers), tryCatchOne(tryCatchList(expr, \n  .         names[-nh], parentenv, handlers[-nh]), names[nh], parentenv, \n  .         handlers[[nh]]), doTryCatch(return(expr), name, parentenv, \n  .         handler), tryCatchList(expr, names[-nh], parentenv, handlers[-nh]), \n  .     tryCatchOne(expr, names, parentenv, handlers[[1L]]), doTryCatch(return(expr), \n  .         name, parentenv, handler), evaluate(request$content$code, \n  .         envir = .GlobalEnv, output_handler = oh, stop_on_error = 1L), \n  .     evaluate_call(expr, parsed$src[[i]], envir = envir, enclos = enclos, \n  .         debug = debug, last = i == length(out), use_try = stop_on_error != \n  .             2L, keep_warning = keep_warning, keep_message = keep_message, \n  .         log_echo = log_echo, log_warning = log_warning, output_handler = output_handler, \n  .         include_timing = include_timing), timing_fn(handle(ev <- withCallingHandlers(withVisible(eval_with_user_handlers(expr, \n  .         envir, enclos, user_handlers)), warning = wHandler, error = eHandler, \n  .         message = mHandler))), handle(ev <- withCallingHandlers(withVisible(eval_with_user_handlers(expr, \n  .         envir, enclos, user_handlers)), warning = wHandler, error = eHandler, \n  .         message = mHandler)), try(f, silent = TRUE), tryCatch(expr, \n  .         error = function(e) {\n  .             call <- conditionCall(e)\n  .             if (!is.null(call)) {\n  .                 if (identical(call[[1L]], quote(doTryCatch))) \n  .                   call <- sys.call(-4L)\n  .                 dcall <- deparse(call, nlines = 1L)\n  .                 prefix <- paste(\"Error in\", dcall, \": \")\n  .                 LONG <- 75L\n  .                 sm <- strsplit(conditionMessage(e), \"\\n\")[[1L]]\n  .                 w <- 14L + nchar(dcall, type = \"w\") + nchar(sm[1L], \n  .                   type = \"w\")\n  .                 if (is.na(w)) \n  .                   w <- 14L + nchar(dcall, type = \"b\") + nchar(sm[1L], \n  .                     type = \"b\")\n  .                 if (w > LONG) \n  .                   prefix <- paste0(prefix, \"\\n  \")\n  .             }\n  .             else prefix <- \"Error : \"\n  .             msg <- paste0(prefix, conditionMessage(e), \"\\n\")\n  .             .Internal(seterrmessage(msg[1L]))\n  .             if (!silent && isTRUE(getOption(\"show.error.messages\"))) {\n  .                 cat(msg, file = outFile)\n  .                 .Internal(printDeferredWarnings())\n  .             }\n  .             invisible(structure(msg, class = \"try-error\", condition = e))\n  .         }), tryCatchList(expr, classes, parentenv, handlers), \n  .     tryCatchOne(expr, names, parentenv, handlers[[1L]]), doTryCatch(return(expr), \n  .         name, parentenv, handler), withCallingHandlers(withVisible(eval_with_user_handlers(expr, \n  .         envir, enclos, user_handlers)), warning = wHandler, error = eHandler, \n  .         message = mHandler), withVisible(eval_with_user_handlers(expr, \n  .         envir, enclos, user_handlers)), eval_with_user_handlers(expr, \n  .         envir, enclos, user_handlers), eval(expr, envir, enclos), \n  .     eval(expr, envir, enclos), angina %>% mutate(has_angina = 1) %>% \n  .         rename(date_angina_diagnosis = episode_start_date) %>% \n  .         select(-diagnosis_1) %>% group_by(person_id) %>% arrange(date_angina_diagnosis) %>% \n  .         mutate(event_number = row_number()) %>% slice_min(event_number) %>% \n  .         select(-event_number) %>% ungroup(), ungroup(.), select(., \n  .         -event_number), slice_min(., event_number), mutate(., \n  .         event_number = row_number()), arrange(., date_angina_diagnosis), \n  .     group_by(., person_id), select(., -diagnosis_1), rename(., \n  .         date_angina_diagnosis = episode_start_date), rename.data.frame(., \n  .         date_angina_diagnosis = episode_start_date), tidyselect::eval_rename(expr(c(...)), \n  .         .data), rename_impl(data, names(data), as_quosure(expr, \n  .         env), strict = strict, name_spec = name_spec, allow_predicates = allow_predicates, \n  .         error_call = error_call), eval_select_impl(x, names, \n  .         {\n  .             {\n  .                 sel\n  .             }\n  .         }, strict = strict, name_spec = name_spec, type = \"rename\", \n  .         allow_predicates = allow_predicates, error_call = error_call), \n  .     with_subscript_errors(out <- vars_select_eval(vars, expr, \n  .         strict = strict, data = x, name_spec = name_spec, uniquely_named = uniquely_named, \n  .         allow_rename = allow_rename, allow_empty = allow_empty, \n  .         allow_predicates = allow_predicates, type = type, error_call = error_call), \n  .         type = type), try_fetch(expr, vctrs_error_subscript = function(cnd) {\n  .         cnd$subscript_action <- subscript_action(type)\n  .         cnd$subscript_elt <- \"column\"\n  .         cnd_signal(cnd)\n  .     }), withCallingHandlers(expr, condition = function(cnd) {\n  .         {\n  .             .__handler_frame__. <- TRUE\n  .             .__setup_frame__. <- frame\n  .             if (inherits(cnd, \"message\")) {\n  .                 except <- c(\"warning\", \"error\")\n  .             }\n  .             else if (inherits(cnd, \"warning\")) {\n  .                 except <- \"error\"\n  .             }\n  .             else {\n  .                 except <- \"\"\n  .             }\n  .         }\n  .         while (!is_null(cnd)) {\n  .             if (inherits(cnd, \"vctrs_error_subscript\")) {\n  .                 out <- handlers[[1L]](cnd)\n  .                 if (!inherits(out, \"rlang_zap\")) \n  .                   throw(out)\n  .             }\n  .             inherit <- .subset2(.subset2(cnd, \"rlang\"), \"inherit\")\n  .             if (is_false(inherit)) {\n  .                 return()\n  .             }\n  .             cnd <- .subset2(cnd, \"parent\")\n  .         }\n  .     }), vars_select_eval(vars, expr, strict = strict, data = x, \n  .         name_spec = name_spec, uniquely_named = uniquely_named, \n  .         allow_rename = allow_rename, allow_empty = allow_empty, \n  .         allow_predicates = allow_predicates, type = type, error_call = error_call), \n  .     walk_data_tree(expr, data_mask, context_mask), eval_c(expr, \n  .         data_mask, context_mask), reduce_sels(node, data_mask, \n  .         context_mask, init = init), walk_data_tree(new, data_mask, \n  .         context_mask), as_indices_sel_impl(out, vars = vars, \n  .         strict = strict, data = data, allow_predicates = allow_predicates, \n  .         call = error_call, arg = as_label(expr)), as_indices_impl(x, \n  .         vars, call = call, arg = arg, strict = strict), chr_as_locations(x, \n  .         vars, call = call, arg = arg), vctrs::vec_as_location(x, \n  .         n = length(vars), names = vars, call = call, arg = arg), \n  .     `<fn>`(), stop_subscript_oob(i = i, subscript_type = subscript_type, \n  .         names = names, subscript_action = subscript_action, subscript_arg = subscript_arg, \n  .         call = call), stop_subscript(class = \"vctrs_error_subscript_oob\", \n  .         i = i, subscript_type = subscript_type, ..., call = call), \n  .     abort(class = c(class, \"vctrs_error_subscript\"), i = i, ..., \n  .         call = call)), parent = c(0L, 1L, 2L, 3L, 4L, 5L, 6L, \n  . 7L, 6L, 9L, 10L, 4L, 12L, 13L, 13L, 15L, 16L, 17L, 18L, 19L, \n  . 13L, 13L, 13L, 23L, 24L, 0L, 0L, 0L, 0L, 0L, 0L, 0L, 0L, 0L, \n  . 0L, 35L, 36L, 37L, 38L, 39L, 40L, 38L, 42L, 43L, 44L, 45L, 46L, \n  . 47L, 48L, 49L, 0L, 51L, 52L, 53L), visible = c(TRUE, TRUE, TRUE, \n  . TRUE, TRUE, TRUE, TRUE, TRUE, TRUE, TRUE, TRUE, TRUE, TRUE, TRUE, \n  . TRUE, TRUE, TRUE, TRUE, TRUE, TRUE, TRUE, TRUE, TRUE, TRUE, TRUE, \n  . TRUE, TRUE, TRUE, TRUE, TRUE, TRUE, TRUE, TRUE, TRUE, TRUE, FALSE, \n  . FALSE, FALSE, FALSE, FALSE, FALSE, FALSE, FALSE, FALSE, FALSE, \n  . FALSE, FALSE, FALSE, FALSE, FALSE, FALSE, FALSE, FALSE, FALSE\n  . ), namespace = c(\"IRkernel\", NA, \"IRkernel\", NA, \"base\", \"base\", \n  . \"base\", \"base\", \"base\", \"base\", \"base\", \"evaluate\", \"evaluate\", \n  . \"evaluate\", \"evaluate\", \"base\", \"base\", \"base\", \"base\", \"base\", \n  . \"base\", \"base\", \"evaluate\", \"base\", \"base\", NA, \"dplyr\", \"dplyr\", \n  . \"dplyr\", \"dplyr\", \"dplyr\", \"dplyr\", \"dplyr\", \"dplyr\", \"dplyr\", \n  . \"tidyselect\", \"tidyselect\", \"tidyselect\", \"tidyselect\", \"rlang\", \n  . \"base\", \"tidyselect\", \"tidyselect\", \"tidyselect\", \"tidyselect\", \n  . \"tidyselect\", \"tidyselect\", \"tidyselect\", \"tidyselect\", \"vctrs\", \n  . \"vctrs\", \"vctrs\", \"vctrs\", \"rlang\"), scope = c(\"::\", NA, \"local\", \n  . NA, \"::\", \"local\", \"local\", \"local\", \"local\", \"local\", \"local\", \n  . \"::\", \":::\", \"local\", \"local\", \"::\", \"::\", \"local\", \"local\", \n  . \"local\", \"::\", \"::\", \":::\", \"::\", \"::\", NA, \"::\", \"::\", \"::\", \n  . \"::\", \"::\", \"::\", \"::\", \"::\", \":::\", \"::\", \":::\", \":::\", \":::\", \n  . \"::\", \"::\", \":::\", \":::\", \":::\", \":::\", \":::\", \":::\", \":::\", \n  . \":::\", \"::\", \"local\", \":::\", \":::\", \"::\"), error_frame = c(FALSE, \n  . FALSE, FALSE, FALSE, FALSE, FALSE, FALSE, FALSE, FALSE, FALSE, \n  . FALSE, FALSE, FALSE, FALSE, FALSE, FALSE, FALSE, FALSE, FALSE, \n  . FALSE, FALSE, FALSE, FALSE, FALSE, FALSE, FALSE, FALSE, FALSE, \n  . FALSE, FALSE, FALSE, FALSE, FALSE, FALSE, TRUE, FALSE, FALSE, \n  . FALSE, FALSE, FALSE, FALSE, FALSE, FALSE, FALSE, FALSE, FALSE, \n  . FALSE, FALSE, FALSE, FALSE, FALSE, FALSE, FALSE, FALSE)), row.names = c(NA, \n  . -54L), version = 2L, class = c(\"rlang_trace\", \"rlib_trace\", \"tbl\", \n  . \"data.frame\")), parent = NULL, i = \"episode_start_date\", subscript_type = \"character\", \n  .     names = c(\"person_id\", \"gender\", \"birth_month\", \"birth_year\", \n  .     \"date_angina_diagnosis\", \"episode_end_date\", \"has_angina\"\n  .     ), subscript_action = NULL, subscript_arg = \"episode_start_date\", \n  .     rlang = list(inherit = TRUE), call = rename(., date_angina_diagnosis = episode_start_date)), class = c(\"vctrs_error_subscript_oob\", \n  . \"vctrs_error_subscript\", \"rlang_error\", \"error\", \"condition\")))",
      "33. handlers[[1L]](cnd)",
      "34. cnd_signal(cnd)",
      "35. signal_abort(cnd)"
     ]
    }
   ],
   "source": [
    "# Keep earliest date for each\n",
    "# Angina\n",
    "angina <- angina %>%\n",
    "    mutate(has_angina = 1) %>%\n",
    "    rename(date_angina_diagnosis = episode_start_date) %>%\n",
    "    select(-diagnosis_1) %>%\n",
    "    group_by(person_id) %>%\n",
    "    arrange(date_angina_diagnosis) %>%\n",
    "    mutate(event_number = row_number()) %>%\n",
    "    slice_min(event_number) %>%\n",
    "    select(-event_number) %>%\n",
    "    ungroup()\n",
    "\n",
    "# Cardiomyopathy\n",
    "cardiomyopathy <- cardiomyopathy %>%\n",
    "    mutate(has_cardiomyopathy = 1) %>%\n",
    "    rename(date_cardiomyopathy_diagnosis = episode_start_date) %>%\n",
    "    select(-diagnosis_1) %>%\n",
    "    group_by(person_id) %>%\n",
    "    arrange(date_cardiomyopathy_diagnosis) %>%\n",
    "    mutate(event_number = row_number()) %>%\n",
    "    slice_min(event_number) %>%\n",
    "    select(-event_number) %>%\n",
    "    ungroup()\n",
    "\n",
    "# Heart Failure\n",
    "heart_failure <- heart_failure %>%\n",
    "    mutate(has_heart_failure = 1) %>%\n",
    "    rename(date_heart_failure_diagnosis = episode_start_date) %>%\n",
    "    select(-diagnosis_1) %>%\n",
    "    group_by(person_id) %>%\n",
    "    arrange(date_heart_failure_diagnosis) %>%\n",
    "    mutate(event_number = row_number()) %>%\n",
    "    slice_min(event_number) %>%\n",
    "    select(-event_number) %>%\n",
    "    ungroup()\n",
    "\n",
    "# Hypertension\n",
    "hypertension <- hypertension %>%\n",
    "    mutate(has_hypertension = 1) %>%\n",
    "    rename(date_hypertension_diagnosis = episode_start_date) %>%\n",
    "    select(-diagnosis_1) %>%\n",
    "    group_by(person_id) %>%\n",
    "    arrange(date_hypertension_diagnosis) %>%\n",
    "    mutate(event_number = row_number()) %>%\n",
    "    slice_min(event_number) %>%\n",
    "    select(-event_number) %>%\n",
    "    ungroup()\n",
    "\n",
    "# Ischaemic Heart Disease\n",
    "ihd <- ihd %>%\n",
    "    mutate(has_ihd = 1) %>%\n",
    "    rename(date_ihd_diagnosis = episode_start_date) %>%\n",
    "    select(-diagnosis_1) %>%\n",
    "    group_by(person_id) %>%\n",
    "    arrange(date_ihd_diagnosis) %>%\n",
    "    mutate(event_number = row_number()) %>%\n",
    "    slice_min(event_number) %>%\n",
    "    select(-event_number) %>%\n",
    "    ungroup()\n",
    "\n",
    "# Myocardial Infarction\n",
    "mi <- mi %>%\n",
    "    mutate(has_mi = 1) %>%\n",
    "    rename(date_mi_diagnosis = episode_start_date) %>%\n",
    "    select(-diagnosis_1) %>%\n",
    "    group_by(person_id) %>%\n",
    "    arrange(date_mi_diagnosis) %>%\n",
    "    mutate(event_number = row_number()) %>%\n",
    "    slice_min(event_number) %>%\n",
    "    select(-event_number) %>%\n",
    "    ungroup()\n",
    "\n",
    "# Peripheral Vascular Disease\n",
    "pvd <- pvd %>%\n",
    "    mutate(has_pvd = 1) %>%\n",
    "    rename(date_pvd_diagnosis = episode_start_date) %>%\n",
    "    select(-diagnosis_1) %>%\n",
    "    group_by(person_id) %>%\n",
    "    arrange(date_pvd_diagnosis) %>%\n",
    "    mutate(event_number = row_number()) %>%\n",
    "    slice_min(event_number) %>%\n",
    "    select(-event_number) %>%\n",
    "    ungroup()\n",
    "\n",
    "# Stroke\n",
    "stroke <- stroke %>%\n",
    "    mutate(has_stroke = 1) %>%\n",
    "    rename(date_stroke_diagnosis = episode_start_date) %>%\n",
    "    select(-diagnosis_1) %>%\n",
    "    group_by(person_id) %>%\n",
    "    arrange(date_stroke_diagnosis) %>%\n",
    "    mutate(event_number = row_number()) %>%\n",
    "    slice_min(event_number) %>%\n",
    "    select(-event_number) %>%\n",
    "    ungroup()\n",
    "\n",
    "# Valve Disease\n",
    "valve_disease <- valve_disease %>%\n",
    "    mutate(has_valve_disease = 1) %>%\n",
    "    rename(date_valve_disease_diagnosis = episode_start_date) %>%\n",
    "    select(-diagnosis_1) %>%\n",
    "    group_by(person_id) %>%\n",
    "    arrange(date_valve_disease_diagnosis) %>%\n",
    "    mutate(event_number = row_number()) %>%\n",
    "    slice_min(event_number) %>%\n",
    "    select(-event_number) %>%\n",
    "    ungroup()\n"
   ]
  },
  {
   "cell_type": "code",
   "execution_count": 8,
   "id": "72e28e2b-094f-4483-b53b-32163a34786f",
   "metadata": {},
   "outputs": [
    {
     "data": {
      "text/html": [
       "6448"
      ],
      "text/latex": [
       "6448"
      ],
      "text/markdown": [
       "6448"
      ],
      "text/plain": [
       "[1] 6448"
      ]
     },
     "metadata": {},
     "output_type": "display_data"
    },
    {
     "data": {
      "text/html": [
       "3404"
      ],
      "text/latex": [
       "3404"
      ],
      "text/markdown": [
       "3404"
      ],
      "text/plain": [
       "[1] 3404"
      ]
     },
     "metadata": {},
     "output_type": "display_data"
    },
    {
     "data": {
      "text/html": [
       "6367"
      ],
      "text/latex": [
       "6367"
      ],
      "text/markdown": [
       "6367"
      ],
      "text/plain": [
       "[1] 6367"
      ]
     },
     "metadata": {},
     "output_type": "display_data"
    },
    {
     "data": {
      "text/html": [
       "13213"
      ],
      "text/latex": [
       "13213"
      ],
      "text/markdown": [
       "13213"
      ],
      "text/plain": [
       "[1] 13213"
      ]
     },
     "metadata": {},
     "output_type": "display_data"
    },
    {
     "data": {
      "text/html": [
       "5797"
      ],
      "text/latex": [
       "5797"
      ],
      "text/markdown": [
       "5797"
      ],
      "text/plain": [
       "[1] 5797"
      ]
     },
     "metadata": {},
     "output_type": "display_data"
    },
    {
     "data": {
      "text/html": [
       "2475"
      ],
      "text/latex": [
       "2475"
      ],
      "text/markdown": [
       "2475"
      ],
      "text/plain": [
       "[1] 2475"
      ]
     },
     "metadata": {},
     "output_type": "display_data"
    },
    {
     "data": {
      "text/html": [
       "1124"
      ],
      "text/latex": [
       "1124"
      ],
      "text/markdown": [
       "1124"
      ],
      "text/plain": [
       "[1] 1124"
      ]
     },
     "metadata": {},
     "output_type": "display_data"
    },
    {
     "data": {
      "text/html": [
       "13449"
      ],
      "text/latex": [
       "13449"
      ],
      "text/markdown": [
       "13449"
      ],
      "text/plain": [
       "[1] 13449"
      ]
     },
     "metadata": {},
     "output_type": "display_data"
    },
    {
     "data": {
      "text/html": [
       "1741"
      ],
      "text/latex": [
       "1741"
      ],
      "text/markdown": [
       "1741"
      ],
      "text/plain": [
       "[1] 1741"
      ]
     },
     "metadata": {},
     "output_type": "display_data"
    }
   ],
   "source": [
    "nrow(angina)\n",
    "nrow(cardiomyopathy)\n",
    "nrow(heart_failure)\n",
    "nrow(hypertension)\n",
    "nrow(ihd)\n",
    "nrow(mi)\n",
    "nrow(pvd)\n",
    "nrow(stroke)\n",
    "nrow(valve_disease)"
   ]
  },
  {
   "cell_type": "code",
   "execution_count": null,
   "id": "54c1dd59-b848-42ff-905d-00a358bef5b5",
   "metadata": {},
   "outputs": [],
   "source": []
  },
  {
   "cell_type": "code",
   "execution_count": null,
   "id": "699aef42-092b-4578-93f3-211de3d51536",
   "metadata": {},
   "outputs": [
    {
     "ename": "ERROR",
     "evalue": "Error in parse(text = x, srcfile = src): <text>:9:20: unexpected symbol\n8: nrow(stroke)\n9: nrow(valve_disease)head\n                      ^\n",
     "output_type": "error",
     "traceback": [
      "Error in parse(text = x, srcfile = src): <text>:9:20: unexpected symbol\n8: nrow(stroke)\n9: nrow(valve_disease)head\n                      ^\nTraceback:\n"
     ]
    }
   ],
   "source": [
    "head(angina)"
   ]
  },
  {
   "cell_type": "code",
   "execution_count": 9,
   "id": "a396584f-a987-49d0-96d6-d3c6e35f0158",
   "metadata": {},
   "outputs": [
    {
     "data": {
      "text/html": [
       "<table class=\"dataframe\">\n",
       "<caption>A tibble: 6 × 6</caption>\n",
       "<thead>\n",
       "\t<tr><th scope=col>person_id</th><th scope=col>birth_datetime</th><th scope=col>death_datetime</th><th scope=col>gender</th><th scope=col>ethnicity</th><th scope=col>imd_decile</th></tr>\n",
       "\t<tr><th scope=col>&lt;int&gt;</th><th scope=col>&lt;date&gt;</th><th scope=col>&lt;date&gt;</th><th scope=col>&lt;int&gt;</th><th scope=col>&lt;int&gt;</th><th scope=col>&lt;int&gt;</th></tr>\n",
       "</thead>\n",
       "<tbody>\n",
       "\t<tr><td>16813063</td><td>NA</td><td>NA</td><td>2</td><td>2</td><td>1</td></tr>\n",
       "\t<tr><td>16832562</td><td>NA</td><td>NA</td><td>1</td><td>3</td><td>1</td></tr>\n",
       "\t<tr><td>16769967</td><td>NA</td><td>NA</td><td>1</td><td>1</td><td>1</td></tr>\n",
       "\t<tr><td>16832450</td><td>NA</td><td>NA</td><td>1</td><td>2</td><td>1</td></tr>\n",
       "\t<tr><td>16814272</td><td>NA</td><td>NA</td><td>1</td><td>2</td><td>1</td></tr>\n",
       "\t<tr><td>13715865</td><td>NA</td><td>NA</td><td>1</td><td>2</td><td>1</td></tr>\n",
       "</tbody>\n",
       "</table>\n"
      ],
      "text/latex": [
       "A tibble: 6 × 6\n",
       "\\begin{tabular}{llllll}\n",
       " person\\_id & birth\\_datetime & death\\_datetime & gender & ethnicity & imd\\_decile\\\\\n",
       " <int> & <date> & <date> & <int> & <int> & <int>\\\\\n",
       "\\hline\n",
       "\t 16813063 & NA & NA & 2 & 2 & 1\\\\\n",
       "\t 16832562 & NA & NA & 1 & 3 & 1\\\\\n",
       "\t 16769967 & NA & NA & 1 & 1 & 1\\\\\n",
       "\t 16832450 & NA & NA & 1 & 2 & 1\\\\\n",
       "\t 16814272 & NA & NA & 1 & 2 & 1\\\\\n",
       "\t 13715865 & NA & NA & 1 & 2 & 1\\\\\n",
       "\\end{tabular}\n"
      ],
      "text/markdown": [
       "\n",
       "A tibble: 6 × 6\n",
       "\n",
       "| person_id &lt;int&gt; | birth_datetime &lt;date&gt; | death_datetime &lt;date&gt; | gender &lt;int&gt; | ethnicity &lt;int&gt; | imd_decile &lt;int&gt; |\n",
       "|---|---|---|---|---|---|\n",
       "| 16813063 | NA | NA | 2 | 2 | 1 |\n",
       "| 16832562 | NA | NA | 1 | 3 | 1 |\n",
       "| 16769967 | NA | NA | 1 | 1 | 1 |\n",
       "| 16832450 | NA | NA | 1 | 2 | 1 |\n",
       "| 16814272 | NA | NA | 1 | 2 | 1 |\n",
       "| 13715865 | NA | NA | 1 | 2 | 1 |\n",
       "\n"
      ],
      "text/plain": [
       "  person_id birth_datetime death_datetime gender ethnicity imd_decile\n",
       "1 16813063  <NA>           <NA>           2      2         1         \n",
       "2 16832562  <NA>           <NA>           1      3         1         \n",
       "3 16769967  <NA>           <NA>           1      1         1         \n",
       "4 16832450  <NA>           <NA>           1      2         1         \n",
       "5 16814272  <NA>           <NA>           1      2         1         \n",
       "6 13715865  <NA>           <NA>           1      2         1         "
      ]
     },
     "metadata": {},
     "output_type": "display_data"
    }
   ],
   "source": [
    "# person table\n",
    "sql <- \"SELECT * FROM `yhcr-prd-phm-bia-core.CB_MYSPACE_AH.Patient_Denom`\"\n",
    "tb <- bq_project_query(projectid, sql)\n",
    "person <-bq_table_download(tb)\n",
    "head(person)"
   ]
  },
  {
   "cell_type": "code",
   "execution_count": 10,
   "id": "b405697c-4222-4590-84af-2beab937bed6",
   "metadata": {},
   "outputs": [],
   "source": [
    "# change class of gender to integer in cvd episodes\n",
    "angina$gender <- as.integer(angina$gender)\n",
    "cardiomyopathy$gender <- as.integer(cardiomyopathy$gender)\n",
    "heart_failure$gender <- as.integer(heart_failure$gender)\n",
    "hypertension$gender <- as.integer(hypertension$gender)\n",
    "ihd$gender <- as.integer(ihd$gender)\n",
    "mi$gender <- as.integer(mi$gender)\n",
    "pvd$gender <- as.integer(pvd$gender)\n",
    "stroke$gender <- as.integer(stroke$gender)\n",
    "valve_disease$gender <- as.integer(valve_disease$gender)"
   ]
  },
  {
   "cell_type": "code",
   "execution_count": 11,
   "id": "eca0b65a-e63d-4378-b395-13dc0c8d0fb8",
   "metadata": {},
   "outputs": [],
   "source": [
    "# join person to each table \n",
    "angina <- right_join(person, angina, by = c(\"person_id\", \"gender\"))\n",
    "cardiomyopathy <- right_join(person, cardiomyopathy, by = c(\"person_id\", \"gender\"))\n",
    "heart_failure <- right_join(person, heart_failure, by = c(\"person_id\", \"gender\"))\n",
    "hypertension <- right_join(person, hypertension, by = c(\"person_id\", \"gender\"))\n",
    "ihd <- right_join(person, ihd, by = c(\"person_id\", \"gender\"))\n",
    "mi <- right_join(person, mi, by = c(\"person_id\", \"gender\"))\n",
    "pvd <- right_join(person, pvd, by = c(\"person_id\", \"gender\"))\n",
    "stroke <- right_join(person, stroke, by = c(\"person_id\", \"gender\"))\n",
    "valve_disease <- right_join(person, valve_disease, by = c(\"person_id\", \"gender\"))"
   ]
  },
  {
   "cell_type": "code",
   "execution_count": 12,
   "id": "94e081ab-8443-4b7b-b4fb-722fae796331",
   "metadata": {},
   "outputs": [
    {
     "data": {
      "text/html": [
       "<table class=\"dataframe\">\n",
       "<caption>A tibble: 6 × 11</caption>\n",
       "<thead>\n",
       "\t<tr><th scope=col>person_id</th><th scope=col>birth_datetime</th><th scope=col>death_datetime</th><th scope=col>gender</th><th scope=col>ethnicity</th><th scope=col>imd_decile</th><th scope=col>birth_month</th><th scope=col>birth_year</th><th scope=col>date_angina_diagnosis</th><th scope=col>episode_end_date</th><th scope=col>has_angina</th></tr>\n",
       "\t<tr><th scope=col>&lt;int&gt;</th><th scope=col>&lt;date&gt;</th><th scope=col>&lt;date&gt;</th><th scope=col>&lt;int&gt;</th><th scope=col>&lt;int&gt;</th><th scope=col>&lt;int&gt;</th><th scope=col>&lt;chr&gt;</th><th scope=col>&lt;chr&gt;</th><th scope=col>&lt;chr&gt;</th><th scope=col>&lt;chr&gt;</th><th scope=col>&lt;dbl&gt;</th></tr>\n",
       "</thead>\n",
       "<tbody>\n",
       "\t<tr><td>13252685</td><td>1931-06-15</td><td>NA</td><td>2</td><td>1</td><td>1</td><td>6</td><td>1931</td><td>2017-03-04</td><td>2017-03-04</td><td>1</td></tr>\n",
       "\t<tr><td>12528166</td><td>1931-06-15</td><td>2012-09-15</td><td>2</td><td>1</td><td>1</td><td>6</td><td>1931</td><td>2012-03-02</td><td>2012-03-04</td><td>1</td></tr>\n",
       "\t<tr><td>13504067</td><td>1931-06-15</td><td>2016-06-15</td><td>2</td><td>1</td><td>1</td><td>6</td><td>1931</td><td>2010-07-11</td><td>2010-07-12</td><td>1</td></tr>\n",
       "\t<tr><td>13709103</td><td>1931-06-15</td><td>2012-08-15</td><td>2</td><td>1</td><td>1</td><td>6</td><td>1931</td><td>2011-07-08</td><td>2011-07-08</td><td>1</td></tr>\n",
       "\t<tr><td>12767167</td><td>1931-06-15</td><td>2016-07-15</td><td>1</td><td>1</td><td>2</td><td>6</td><td>1931</td><td>2015-03-28</td><td>2015-03-29</td><td>1</td></tr>\n",
       "\t<tr><td>12646228</td><td>1931-06-15</td><td>2014-03-15</td><td>2</td><td>1</td><td>2</td><td>6</td><td>1931</td><td>2013-12-17</td><td>2013-12-19</td><td>1</td></tr>\n",
       "</tbody>\n",
       "</table>\n"
      ],
      "text/latex": [
       "A tibble: 6 × 11\n",
       "\\begin{tabular}{lllllllllll}\n",
       " person\\_id & birth\\_datetime & death\\_datetime & gender & ethnicity & imd\\_decile & birth\\_month & birth\\_year & date\\_angina\\_diagnosis & episode\\_end\\_date & has\\_angina\\\\\n",
       " <int> & <date> & <date> & <int> & <int> & <int> & <chr> & <chr> & <chr> & <chr> & <dbl>\\\\\n",
       "\\hline\n",
       "\t 13252685 & 1931-06-15 & NA & 2 & 1 & 1 & 6 & 1931 & 2017-03-04 & 2017-03-04 & 1\\\\\n",
       "\t 12528166 & 1931-06-15 & 2012-09-15 & 2 & 1 & 1 & 6 & 1931 & 2012-03-02 & 2012-03-04 & 1\\\\\n",
       "\t 13504067 & 1931-06-15 & 2016-06-15 & 2 & 1 & 1 & 6 & 1931 & 2010-07-11 & 2010-07-12 & 1\\\\\n",
       "\t 13709103 & 1931-06-15 & 2012-08-15 & 2 & 1 & 1 & 6 & 1931 & 2011-07-08 & 2011-07-08 & 1\\\\\n",
       "\t 12767167 & 1931-06-15 & 2016-07-15 & 1 & 1 & 2 & 6 & 1931 & 2015-03-28 & 2015-03-29 & 1\\\\\n",
       "\t 12646228 & 1931-06-15 & 2014-03-15 & 2 & 1 & 2 & 6 & 1931 & 2013-12-17 & 2013-12-19 & 1\\\\\n",
       "\\end{tabular}\n"
      ],
      "text/markdown": [
       "\n",
       "A tibble: 6 × 11\n",
       "\n",
       "| person_id &lt;int&gt; | birth_datetime &lt;date&gt; | death_datetime &lt;date&gt; | gender &lt;int&gt; | ethnicity &lt;int&gt; | imd_decile &lt;int&gt; | birth_month &lt;chr&gt; | birth_year &lt;chr&gt; | date_angina_diagnosis &lt;chr&gt; | episode_end_date &lt;chr&gt; | has_angina &lt;dbl&gt; |\n",
       "|---|---|---|---|---|---|---|---|---|---|---|\n",
       "| 13252685 | 1931-06-15 | NA | 2 | 1 | 1 | 6 | 1931 | 2017-03-04 | 2017-03-04 | 1 |\n",
       "| 12528166 | 1931-06-15 | 2012-09-15 | 2 | 1 | 1 | 6 | 1931 | 2012-03-02 | 2012-03-04 | 1 |\n",
       "| 13504067 | 1931-06-15 | 2016-06-15 | 2 | 1 | 1 | 6 | 1931 | 2010-07-11 | 2010-07-12 | 1 |\n",
       "| 13709103 | 1931-06-15 | 2012-08-15 | 2 | 1 | 1 | 6 | 1931 | 2011-07-08 | 2011-07-08 | 1 |\n",
       "| 12767167 | 1931-06-15 | 2016-07-15 | 1 | 1 | 2 | 6 | 1931 | 2015-03-28 | 2015-03-29 | 1 |\n",
       "| 12646228 | 1931-06-15 | 2014-03-15 | 2 | 1 | 2 | 6 | 1931 | 2013-12-17 | 2013-12-19 | 1 |\n",
       "\n"
      ],
      "text/plain": [
       "  person_id birth_datetime death_datetime gender ethnicity imd_decile\n",
       "1 13252685  1931-06-15     <NA>           2      1         1         \n",
       "2 12528166  1931-06-15     2012-09-15     2      1         1         \n",
       "3 13504067  1931-06-15     2016-06-15     2      1         1         \n",
       "4 13709103  1931-06-15     2012-08-15     2      1         1         \n",
       "5 12767167  1931-06-15     2016-07-15     1      1         2         \n",
       "6 12646228  1931-06-15     2014-03-15     2      1         2         \n",
       "  birth_month birth_year date_angina_diagnosis episode_end_date has_angina\n",
       "1 6           1931       2017-03-04            2017-03-04       1         \n",
       "2 6           1931       2012-03-02            2012-03-04       1         \n",
       "3 6           1931       2010-07-11            2010-07-12       1         \n",
       "4 6           1931       2011-07-08            2011-07-08       1         \n",
       "5 6           1931       2015-03-28            2015-03-29       1         \n",
       "6 6           1931       2013-12-17            2013-12-19       1         "
      ]
     },
     "metadata": {},
     "output_type": "display_data"
    }
   ],
   "source": [
    "head(angina)"
   ]
  },
  {
   "cell_type": "code",
   "execution_count": 13,
   "id": "f30bd7d1-4412-4724-8e5c-6a75ad264738",
   "metadata": {},
   "outputs": [
    {
     "data": {
      "text/html": [
       "<table class=\"dataframe\">\n",
       "<caption>A tibble: 6 × 10</caption>\n",
       "<thead>\n",
       "\t<tr><th scope=col>person_id</th><th scope=col>death_datetime</th><th scope=col>gender</th><th scope=col>ethnicity</th><th scope=col>imd_decile</th><th scope=col>date_angina_diagnosis</th><th scope=col>date_angina_departure</th><th scope=col>has_angina</th><th scope=col>los_angina_days</th><th scope=col>age_angina_diag</th></tr>\n",
       "\t<tr><th scope=col>&lt;int&gt;</th><th scope=col>&lt;date&gt;</th><th scope=col>&lt;int&gt;</th><th scope=col>&lt;int&gt;</th><th scope=col>&lt;int&gt;</th><th scope=col>&lt;chr&gt;</th><th scope=col>&lt;chr&gt;</th><th scope=col>&lt;dbl&gt;</th><th scope=col>&lt;int&gt;</th><th scope=col>&lt;dbl&gt;</th></tr>\n",
       "</thead>\n",
       "<tbody>\n",
       "\t<tr><td>13252685</td><td>NA</td><td>2</td><td>1</td><td>1</td><td>2017-03-04</td><td>2017-03-04</td><td>1</td><td>0</td><td>85</td></tr>\n",
       "\t<tr><td>12528166</td><td>2012-09-15</td><td>2</td><td>1</td><td>1</td><td>2012-03-02</td><td>2012-03-04</td><td>1</td><td>2</td><td>80</td></tr>\n",
       "\t<tr><td>13504067</td><td>2016-06-15</td><td>2</td><td>1</td><td>1</td><td>2010-07-11</td><td>2010-07-12</td><td>1</td><td>1</td><td>79</td></tr>\n",
       "\t<tr><td>13709103</td><td>2012-08-15</td><td>2</td><td>1</td><td>1</td><td>2011-07-08</td><td>2011-07-08</td><td>1</td><td>0</td><td>80</td></tr>\n",
       "\t<tr><td>12767167</td><td>2016-07-15</td><td>1</td><td>1</td><td>2</td><td>2015-03-28</td><td>2015-03-29</td><td>1</td><td>1</td><td>83</td></tr>\n",
       "\t<tr><td>12646228</td><td>2014-03-15</td><td>2</td><td>1</td><td>2</td><td>2013-12-17</td><td>2013-12-19</td><td>1</td><td>2</td><td>82</td></tr>\n",
       "</tbody>\n",
       "</table>\n"
      ],
      "text/latex": [
       "A tibble: 6 × 10\n",
       "\\begin{tabular}{llllllllll}\n",
       " person\\_id & death\\_datetime & gender & ethnicity & imd\\_decile & date\\_angina\\_diagnosis & date\\_angina\\_departure & has\\_angina & los\\_angina\\_days & age\\_angina\\_diag\\\\\n",
       " <int> & <date> & <int> & <int> & <int> & <chr> & <chr> & <dbl> & <int> & <dbl>\\\\\n",
       "\\hline\n",
       "\t 13252685 & NA & 2 & 1 & 1 & 2017-03-04 & 2017-03-04 & 1 & 0 & 85\\\\\n",
       "\t 12528166 & 2012-09-15 & 2 & 1 & 1 & 2012-03-02 & 2012-03-04 & 1 & 2 & 80\\\\\n",
       "\t 13504067 & 2016-06-15 & 2 & 1 & 1 & 2010-07-11 & 2010-07-12 & 1 & 1 & 79\\\\\n",
       "\t 13709103 & 2012-08-15 & 2 & 1 & 1 & 2011-07-08 & 2011-07-08 & 1 & 0 & 80\\\\\n",
       "\t 12767167 & 2016-07-15 & 1 & 1 & 2 & 2015-03-28 & 2015-03-29 & 1 & 1 & 83\\\\\n",
       "\t 12646228 & 2014-03-15 & 2 & 1 & 2 & 2013-12-17 & 2013-12-19 & 1 & 2 & 82\\\\\n",
       "\\end{tabular}\n"
      ],
      "text/markdown": [
       "\n",
       "A tibble: 6 × 10\n",
       "\n",
       "| person_id &lt;int&gt; | death_datetime &lt;date&gt; | gender &lt;int&gt; | ethnicity &lt;int&gt; | imd_decile &lt;int&gt; | date_angina_diagnosis &lt;chr&gt; | date_angina_departure &lt;chr&gt; | has_angina &lt;dbl&gt; | los_angina_days &lt;int&gt; | age_angina_diag &lt;dbl&gt; |\n",
       "|---|---|---|---|---|---|---|---|---|---|\n",
       "| 13252685 | NA | 2 | 1 | 1 | 2017-03-04 | 2017-03-04 | 1 | 0 | 85 |\n",
       "| 12528166 | 2012-09-15 | 2 | 1 | 1 | 2012-03-02 | 2012-03-04 | 1 | 2 | 80 |\n",
       "| 13504067 | 2016-06-15 | 2 | 1 | 1 | 2010-07-11 | 2010-07-12 | 1 | 1 | 79 |\n",
       "| 13709103 | 2012-08-15 | 2 | 1 | 1 | 2011-07-08 | 2011-07-08 | 1 | 0 | 80 |\n",
       "| 12767167 | 2016-07-15 | 1 | 1 | 2 | 2015-03-28 | 2015-03-29 | 1 | 1 | 83 |\n",
       "| 12646228 | 2014-03-15 | 2 | 1 | 2 | 2013-12-17 | 2013-12-19 | 1 | 2 | 82 |\n",
       "\n"
      ],
      "text/plain": [
       "  person_id death_datetime gender ethnicity imd_decile date_angina_diagnosis\n",
       "1 13252685  <NA>           2      1         1          2017-03-04           \n",
       "2 12528166  2012-09-15     2      1         1          2012-03-02           \n",
       "3 13504067  2016-06-15     2      1         1          2010-07-11           \n",
       "4 13709103  2012-08-15     2      1         1          2011-07-08           \n",
       "5 12767167  2016-07-15     1      1         2          2015-03-28           \n",
       "6 12646228  2014-03-15     2      1         2          2013-12-17           \n",
       "  date_angina_departure has_angina los_angina_days age_angina_diag\n",
       "1 2017-03-04            1          0               85             \n",
       "2 2012-03-04            1          2               80             \n",
       "3 2010-07-12            1          1               79             \n",
       "4 2011-07-08            1          0               80             \n",
       "5 2015-03-29            1          1               83             \n",
       "6 2013-12-19            1          2               82             "
      ]
     },
     "metadata": {},
     "output_type": "display_data"
    }
   ],
   "source": [
    "# calculate age at diagnosis and remove birth year and add length of stay \n",
    "angina_person <- angina %>%\n",
    "    rename(date_angina_departure = episode_end_date) %>% \n",
    "    mutate(los_angina_days = round(difftime(date_angina_departure, date_angina_diagnosis, units=\"days\"))) %>%\n",
    "    mutate(age_angina_diag = interval(birth_datetime, date_angina_diagnosis)/years(1)) %>%\n",
    "    mutate(age_angina_diag = floor(age_angina_diag)) %>%\n",
    "    select(-birth_datetime, -birth_month, -birth_year)\n",
    "angina_person$los_angina_days <- as.integer(angina_person$los_angina_days)\n",
    "head(angina_person)\n",
    "\n",
    "cardiomyopathy_person <- cardiomyopathy %>%\n",
    "    rename(date_cardiomyopathy_departure = episode_end_date) %>% \n",
    "    mutate(los_cardiomyopathy_days = round(difftime(date_cardiomyopathy_departure, date_cardiomyopathy_diagnosis, units=\"days\"))) %>%\n",
    "    mutate(age_cardiomyopathy_diag = interval(birth_datetime, date_cardiomyopathy_diagnosis)/years(1)) %>%\n",
    "    mutate(age_cardiomyopathy_diag = floor(age_cardiomyopathy_diag)) %>%\n",
    "    select(-birth_datetime, -birth_month, -birth_year)\n",
    "cardiomyopathy_person$los_cardiomyopathy_days <- as.integer(cardiomyopathy_person$los_cardiomyopathy_days)\n",
    "\n",
    "heart_failure_person <- heart_failure %>%\n",
    "  rename(date_heart_failure_departure = episode_end_date) %>% \n",
    "  mutate(los_heart_failure_days = round(difftime(date_heart_failure_departure, date_heart_failure_diagnosis, units=\"days\"))) %>%\n",
    "  mutate(age_heart_failure_diag = interval(birth_datetime, date_heart_failure_diagnosis)/years(1)) %>%\n",
    "  mutate(age_heart_failure_diag = floor(age_heart_failure_diag)) %>%\n",
    "  select(-birth_datetime, -birth_month, -birth_year)\n",
    "heart_failure_person$los_heart_failure_days <- as.integer(heart_failure_person$los_heart_failure_days)\n",
    "\n",
    "hypertension_person <- hypertension %>%\n",
    "  rename(date_hypertension_departure = episode_end_date) %>% \n",
    "  mutate(los_hypertension_days = round(difftime(date_hypertension_departure, date_hypertension_diagnosis, units=\"days\"))) %>%\n",
    "  mutate(age_hypertension_diag = interval(birth_datetime, date_hypertension_diagnosis)/years(1)) %>%\n",
    "  mutate(age_hypertension_diag = floor(age_hypertension_diag)) %>%\n",
    "  select(-birth_datetime, -birth_month, -birth_year)\n",
    "hypertension_person$los_hypertension_days <- as.integer(hypertension_person$los_hypertension_days)\n",
    "\n",
    "ihd_person <- ihd %>%\n",
    "  rename(date_ihd_departure = episode_end_date) %>% \n",
    "  mutate(los_ihd_days = round(difftime(date_ihd_departure, date_ihd_diagnosis, units=\"days\"))) %>%\n",
    "  mutate(age_ihd_diag = interval(birth_datetime, date_ihd_diagnosis)/years(1)) %>%\n",
    "  mutate(age_ihd_diag = floor(age_ihd_diag)) %>%\n",
    "  select(-birth_datetime, -birth_month, -birth_year)\n",
    "ihd_person$los_ihd_days <- as.integer(ihd_person$los_ihd_days)\n",
    "\n",
    "mi_person <- mi %>%\n",
    "  rename(date_mi_departure = episode_end_date) %>% \n",
    "  mutate(los_mi_days = round(difftime(date_mi_departure, date_mi_diagnosis, units=\"days\"))) %>%\n",
    "  mutate(age_mi_diag = interval(birth_datetime, date_mi_diagnosis)/years(1)) %>%\n",
    "  mutate(age_mi_diag = floor(age_mi_diag)) %>%\n",
    "  select(-birth_datetime, -birth_month, -birth_year)\n",
    "mi_person$los_mi_days <- as.integer(mi_person$los_mi_days)\n",
    "\n",
    "pvd_person <- pvd %>%\n",
    "  rename(date_pvd_departure = episode_end_date) %>% \n",
    "  mutate(los_pvd_days = round(difftime(date_pvd_departure, date_pvd_diagnosis, units=\"days\"))) %>%\n",
    "  mutate(age_pvd_diag = interval(birth_datetime, date_pvd_diagnosis)/years(1)) %>%\n",
    "  mutate(age_pvd_diag = floor(age_pvd_diag)) %>%\n",
    "  select(-birth_datetime, -birth_month, -birth_year)\n",
    "pvd_person$los_pvd_days <- as.integer(pvd_person$los_pvd_days)\n",
    "\n",
    "stroke_person <- stroke %>%\n",
    "  rename(date_stroke_departure = episode_end_date) %>% \n",
    "  mutate(los_stroke_days = round(difftime(date_stroke_departure, date_stroke_diagnosis, units=\"days\"))) %>%\n",
    "  mutate(age_stroke_diag = interval(birth_datetime, date_stroke_diagnosis)/years(1)) %>%\n",
    "  mutate(age_stroke_diag = floor(age_stroke_diag)) %>%\n",
    "  select(-birth_datetime, -birth_month, -birth_year)\n",
    "stroke_person$los_stroke_days <- as.integer(stroke_person$los_stroke_days)\n",
    "\n",
    "valve_disease_person <- valve_disease %>%\n",
    "  rename(date_valve_disease_departure = episode_end_date) %>% \n",
    "  mutate(los_valve_disease_days = round(difftime(date_valve_disease_departure, date_valve_disease_diagnosis, units=\"days\"))) %>%\n",
    "  mutate(age_valve_disease_diag = interval(birth_datetime, date_valve_disease_diagnosis)/years(1)) %>%\n",
    "  mutate(age_valve_disease_diag = floor(age_valve_disease_diag)) %>%\n",
    "  select(-birth_datetime, -birth_month, -birth_year)\n",
    "valve_disease_person$los_valve_disease_days <- as.integer(valve_disease_person$los_valve_disease_days)"
   ]
  },
  {
   "cell_type": "code",
   "execution_count": 14,
   "id": "a99df81e-83fc-4179-9d4b-b0410dde1338",
   "metadata": {},
   "outputs": [
    {
     "data": {
      "text/html": [
       "<table class=\"dataframe\">\n",
       "<caption>A tibble: 6 × 58</caption>\n",
       "<thead>\n",
       "\t<tr><th scope=col>person_id</th><th scope=col>death_datetime.x</th><th scope=col>gender</th><th scope=col>ethnicity</th><th scope=col>imd_decile</th><th scope=col>date_angina_diagnosis</th><th scope=col>date_angina_departure</th><th scope=col>has_angina</th><th scope=col>los_angina_days</th><th scope=col>age_angina_diag</th><th scope=col>⋯</th><th scope=col>date_stroke_departure</th><th scope=col>has_stroke</th><th scope=col>los_stroke_days</th><th scope=col>age_stroke_diag</th><th scope=col>death_datetime</th><th scope=col>date_valve_disease_diagnosis</th><th scope=col>date_valve_disease_departure</th><th scope=col>has_valve_disease</th><th scope=col>los_valve_disease_days</th><th scope=col>age_valve_disease_diag</th></tr>\n",
       "\t<tr><th scope=col>&lt;int&gt;</th><th scope=col>&lt;date&gt;</th><th scope=col>&lt;int&gt;</th><th scope=col>&lt;int&gt;</th><th scope=col>&lt;int&gt;</th><th scope=col>&lt;chr&gt;</th><th scope=col>&lt;chr&gt;</th><th scope=col>&lt;dbl&gt;</th><th scope=col>&lt;int&gt;</th><th scope=col>&lt;dbl&gt;</th><th scope=col>⋯</th><th scope=col>&lt;chr&gt;</th><th scope=col>&lt;dbl&gt;</th><th scope=col>&lt;int&gt;</th><th scope=col>&lt;dbl&gt;</th><th scope=col>&lt;date&gt;</th><th scope=col>&lt;chr&gt;</th><th scope=col>&lt;chr&gt;</th><th scope=col>&lt;dbl&gt;</th><th scope=col>&lt;int&gt;</th><th scope=col>&lt;dbl&gt;</th></tr>\n",
       "</thead>\n",
       "<tbody>\n",
       "\t<tr><td>13252685</td><td>NA</td><td>2</td><td>1</td><td>1</td><td>2017-03-04</td><td>2017-03-04</td><td>1</td><td>0</td><td>85</td><td>⋯</td><td>NA</td><td>NA</td><td>NA</td><td>NA</td><td>NA</td><td>NA</td><td>NA</td><td>NA</td><td>NA</td><td>NA</td></tr>\n",
       "\t<tr><td>12528166</td><td>2012-09-15</td><td>2</td><td>1</td><td>1</td><td>2012-03-02</td><td>2012-03-04</td><td>1</td><td>2</td><td>80</td><td>⋯</td><td>NA</td><td>NA</td><td>NA</td><td>NA</td><td>NA</td><td>NA</td><td>NA</td><td>NA</td><td>NA</td><td>NA</td></tr>\n",
       "\t<tr><td>13504067</td><td>2016-06-15</td><td>2</td><td>1</td><td>1</td><td>2010-07-11</td><td>2010-07-12</td><td>1</td><td>1</td><td>79</td><td>⋯</td><td>NA</td><td>NA</td><td>NA</td><td>NA</td><td>NA</td><td>NA</td><td>NA</td><td>NA</td><td>NA</td><td>NA</td></tr>\n",
       "\t<tr><td>13709103</td><td>2012-08-15</td><td>2</td><td>1</td><td>1</td><td>2011-07-08</td><td>2011-07-08</td><td>1</td><td>0</td><td>80</td><td>⋯</td><td>NA</td><td>NA</td><td>NA</td><td>NA</td><td>NA</td><td>NA</td><td>NA</td><td>NA</td><td>NA</td><td>NA</td></tr>\n",
       "\t<tr><td>12767167</td><td>2016-07-15</td><td>1</td><td>1</td><td>2</td><td>2015-03-28</td><td>2015-03-29</td><td>1</td><td>1</td><td>83</td><td>⋯</td><td>NA</td><td>NA</td><td>NA</td><td>NA</td><td>NA</td><td>NA</td><td>NA</td><td>NA</td><td>NA</td><td>NA</td></tr>\n",
       "\t<tr><td>12646228</td><td>2014-03-15</td><td>2</td><td>1</td><td>2</td><td>2013-12-17</td><td>2013-12-19</td><td>1</td><td>2</td><td>82</td><td>⋯</td><td>NA</td><td>NA</td><td>NA</td><td>NA</td><td>NA</td><td>NA</td><td>NA</td><td>NA</td><td>NA</td><td>NA</td></tr>\n",
       "</tbody>\n",
       "</table>\n"
      ],
      "text/latex": [
       "A tibble: 6 × 58\n",
       "\\begin{tabular}{lllllllllllllllllllll}\n",
       " person\\_id & death\\_datetime.x & gender & ethnicity & imd\\_decile & date\\_angina\\_diagnosis & date\\_angina\\_departure & has\\_angina & los\\_angina\\_days & age\\_angina\\_diag & ⋯ & date\\_stroke\\_departure & has\\_stroke & los\\_stroke\\_days & age\\_stroke\\_diag & death\\_datetime & date\\_valve\\_disease\\_diagnosis & date\\_valve\\_disease\\_departure & has\\_valve\\_disease & los\\_valve\\_disease\\_days & age\\_valve\\_disease\\_diag\\\\\n",
       " <int> & <date> & <int> & <int> & <int> & <chr> & <chr> & <dbl> & <int> & <dbl> & ⋯ & <chr> & <dbl> & <int> & <dbl> & <date> & <chr> & <chr> & <dbl> & <int> & <dbl>\\\\\n",
       "\\hline\n",
       "\t 13252685 & NA & 2 & 1 & 1 & 2017-03-04 & 2017-03-04 & 1 & 0 & 85 & ⋯ & NA & NA & NA & NA & NA & NA & NA & NA & NA & NA\\\\\n",
       "\t 12528166 & 2012-09-15 & 2 & 1 & 1 & 2012-03-02 & 2012-03-04 & 1 & 2 & 80 & ⋯ & NA & NA & NA & NA & NA & NA & NA & NA & NA & NA\\\\\n",
       "\t 13504067 & 2016-06-15 & 2 & 1 & 1 & 2010-07-11 & 2010-07-12 & 1 & 1 & 79 & ⋯ & NA & NA & NA & NA & NA & NA & NA & NA & NA & NA\\\\\n",
       "\t 13709103 & 2012-08-15 & 2 & 1 & 1 & 2011-07-08 & 2011-07-08 & 1 & 0 & 80 & ⋯ & NA & NA & NA & NA & NA & NA & NA & NA & NA & NA\\\\\n",
       "\t 12767167 & 2016-07-15 & 1 & 1 & 2 & 2015-03-28 & 2015-03-29 & 1 & 1 & 83 & ⋯ & NA & NA & NA & NA & NA & NA & NA & NA & NA & NA\\\\\n",
       "\t 12646228 & 2014-03-15 & 2 & 1 & 2 & 2013-12-17 & 2013-12-19 & 1 & 2 & 82 & ⋯ & NA & NA & NA & NA & NA & NA & NA & NA & NA & NA\\\\\n",
       "\\end{tabular}\n"
      ],
      "text/markdown": [
       "\n",
       "A tibble: 6 × 58\n",
       "\n",
       "| person_id &lt;int&gt; | death_datetime.x &lt;date&gt; | gender &lt;int&gt; | ethnicity &lt;int&gt; | imd_decile &lt;int&gt; | date_angina_diagnosis &lt;chr&gt; | date_angina_departure &lt;chr&gt; | has_angina &lt;dbl&gt; | los_angina_days &lt;int&gt; | age_angina_diag &lt;dbl&gt; | ⋯ ⋯ | date_stroke_departure &lt;chr&gt; | has_stroke &lt;dbl&gt; | los_stroke_days &lt;int&gt; | age_stroke_diag &lt;dbl&gt; | death_datetime &lt;date&gt; | date_valve_disease_diagnosis &lt;chr&gt; | date_valve_disease_departure &lt;chr&gt; | has_valve_disease &lt;dbl&gt; | los_valve_disease_days &lt;int&gt; | age_valve_disease_diag &lt;dbl&gt; |\n",
       "|---|---|---|---|---|---|---|---|---|---|---|---|---|---|---|---|---|---|---|---|---|\n",
       "| 13252685 | NA | 2 | 1 | 1 | 2017-03-04 | 2017-03-04 | 1 | 0 | 85 | ⋯ | NA | NA | NA | NA | NA | NA | NA | NA | NA | NA |\n",
       "| 12528166 | 2012-09-15 | 2 | 1 | 1 | 2012-03-02 | 2012-03-04 | 1 | 2 | 80 | ⋯ | NA | NA | NA | NA | NA | NA | NA | NA | NA | NA |\n",
       "| 13504067 | 2016-06-15 | 2 | 1 | 1 | 2010-07-11 | 2010-07-12 | 1 | 1 | 79 | ⋯ | NA | NA | NA | NA | NA | NA | NA | NA | NA | NA |\n",
       "| 13709103 | 2012-08-15 | 2 | 1 | 1 | 2011-07-08 | 2011-07-08 | 1 | 0 | 80 | ⋯ | NA | NA | NA | NA | NA | NA | NA | NA | NA | NA |\n",
       "| 12767167 | 2016-07-15 | 1 | 1 | 2 | 2015-03-28 | 2015-03-29 | 1 | 1 | 83 | ⋯ | NA | NA | NA | NA | NA | NA | NA | NA | NA | NA |\n",
       "| 12646228 | 2014-03-15 | 2 | 1 | 2 | 2013-12-17 | 2013-12-19 | 1 | 2 | 82 | ⋯ | NA | NA | NA | NA | NA | NA | NA | NA | NA | NA |\n",
       "\n"
      ],
      "text/plain": [
       "  person_id death_datetime.x gender ethnicity imd_decile date_angina_diagnosis\n",
       "1 13252685  <NA>             2      1         1          2017-03-04           \n",
       "2 12528166  2012-09-15       2      1         1          2012-03-02           \n",
       "3 13504067  2016-06-15       2      1         1          2010-07-11           \n",
       "4 13709103  2012-08-15       2      1         1          2011-07-08           \n",
       "5 12767167  2016-07-15       1      1         2          2015-03-28           \n",
       "6 12646228  2014-03-15       2      1         2          2013-12-17           \n",
       "  date_angina_departure has_angina los_angina_days age_angina_diag ⋯\n",
       "1 2017-03-04            1          0               85              ⋯\n",
       "2 2012-03-04            1          2               80              ⋯\n",
       "3 2010-07-12            1          1               79              ⋯\n",
       "4 2011-07-08            1          0               80              ⋯\n",
       "5 2015-03-29            1          1               83              ⋯\n",
       "6 2013-12-19            1          2               82              ⋯\n",
       "  date_stroke_departure has_stroke los_stroke_days age_stroke_diag\n",
       "1 NA                    NA         NA              NA             \n",
       "2 NA                    NA         NA              NA             \n",
       "3 NA                    NA         NA              NA             \n",
       "4 NA                    NA         NA              NA             \n",
       "5 NA                    NA         NA              NA             \n",
       "6 NA                    NA         NA              NA             \n",
       "  death_datetime date_valve_disease_diagnosis date_valve_disease_departure\n",
       "1 <NA>           NA                           NA                          \n",
       "2 <NA>           NA                           NA                          \n",
       "3 <NA>           NA                           NA                          \n",
       "4 <NA>           NA                           NA                          \n",
       "5 <NA>           NA                           NA                          \n",
       "6 <NA>           NA                           NA                          \n",
       "  has_valve_disease los_valve_disease_days age_valve_disease_diag\n",
       "1 NA                NA                     NA                    \n",
       "2 NA                NA                     NA                    \n",
       "3 NA                NA                     NA                    \n",
       "4 NA                NA                     NA                    \n",
       "5 NA                NA                     NA                    \n",
       "6 NA                NA                     NA                    "
      ]
     },
     "metadata": {},
     "output_type": "display_data"
    }
   ],
   "source": [
    "# join all cvd episodes tables together\n",
    "cvd_ep <- full_join(angina_person, cardiomyopathy_person, by = c(\"person_id\", \"gender\", \"ethnicity\", \"imd_decile\"))\n",
    "cvd_ep <- full_join(cvd_ep, heart_failure_person, by = c(\"person_id\", \"gender\", \"ethnicity\", \"imd_decile\"))\n",
    "cvd_ep <- full_join(cvd_ep, hypertension_person, by = c(\"person_id\", \"gender\", \"ethnicity\", \"imd_decile\"))\n",
    "cvd_ep <- full_join(cvd_ep, ihd_person, by = c(\"person_id\", \"gender\", \"ethnicity\", \"imd_decile\"))\n",
    "cvd_ep <- full_join(cvd_ep, mi_person, by = c(\"person_id\", \"gender\", \"ethnicity\", \"imd_decile\"))\n",
    "cvd_ep <- full_join(cvd_ep, pvd_person, by = c(\"person_id\", \"gender\", \"ethnicity\", \"imd_decile\"))\n",
    "cvd_ep <- full_join(cvd_ep, stroke_person, by = c(\"person_id\", \"gender\", \"ethnicity\", \"imd_decile\"))\n",
    "cvd_ep <- full_join(cvd_ep, valve_disease_person, by = c(\"person_id\", \"gender\", \"ethnicity\", \"imd_decile\"))\n",
    "head(cvd_ep)"
   ]
  },
  {
   "cell_type": "code",
   "execution_count": 15,
   "id": "30147f7e-ccd8-43cc-a3ef-2c9ee7b16c21",
   "metadata": {},
   "outputs": [
    {
     "data": {
      "text/html": [
       "34587"
      ],
      "text/latex": [
       "34587"
      ],
      "text/markdown": [
       "34587"
      ],
      "text/plain": [
       "[1] 34587"
      ]
     },
     "metadata": {},
     "output_type": "display_data"
    }
   ],
   "source": [
    "nrow(cvd_ep)"
   ]
  },
  {
   "cell_type": "code",
   "execution_count": 13,
   "id": "0981f5d3-5cc3-411f-be3f-0f5c96cfd3a9",
   "metadata": {},
   "outputs": [
    {
     "data": {
      "text/html": [
       "<table class=\"dataframe\">\n",
       "<caption>A tibble: 6 × 51</caption>\n",
       "<thead>\n",
       "\t<tr><th scope=col>person_id</th><th scope=col>gender</th><th scope=col>ethnicity</th><th scope=col>imd_decile</th><th scope=col>date_angina_diagnosis</th><th scope=col>date_angina_departure</th><th scope=col>has_angina</th><th scope=col>los_angina_days</th><th scope=col>age_angina_diag</th><th scope=col>date_cardiomyopathy_diagnosis</th><th scope=col>⋯</th><th scope=col>has_stroke</th><th scope=col>los_stroke_days</th><th scope=col>age_stroke_diag</th><th scope=col>date_valve_disease_diagnosis</th><th scope=col>date_valve_disease_departure</th><th scope=col>has_valve_disease</th><th scope=col>los_valve_disease_days</th><th scope=col>age_valve_disease_diag</th><th scope=col>has_cvd</th><th scope=col>cvd_number</th></tr>\n",
       "\t<tr><th scope=col>&lt;int&gt;</th><th scope=col>&lt;int&gt;</th><th scope=col>&lt;int&gt;</th><th scope=col>&lt;int&gt;</th><th scope=col>&lt;chr&gt;</th><th scope=col>&lt;chr&gt;</th><th scope=col>&lt;dbl&gt;</th><th scope=col>&lt;int&gt;</th><th scope=col>&lt;dbl&gt;</th><th scope=col>&lt;chr&gt;</th><th scope=col>⋯</th><th scope=col>&lt;dbl&gt;</th><th scope=col>&lt;int&gt;</th><th scope=col>&lt;dbl&gt;</th><th scope=col>&lt;chr&gt;</th><th scope=col>&lt;chr&gt;</th><th scope=col>&lt;dbl&gt;</th><th scope=col>&lt;int&gt;</th><th scope=col>&lt;dbl&gt;</th><th scope=col>&lt;dbl&gt;</th><th scope=col>&lt;dbl&gt;</th></tr>\n",
       "</thead>\n",
       "<tbody>\n",
       "\t<tr><td>13709103</td><td>2</td><td>3</td><td>1</td><td>2011-07-08</td><td>2011-07-08</td><td>1</td><td>0</td><td>80</td><td>NA        </td><td>⋯</td><td>0</td><td>NA</td><td>NA</td><td>NA</td><td>NA</td><td>0</td><td>NA</td><td>NA</td><td>1</td><td>2</td></tr>\n",
       "\t<tr><td>13504067</td><td>2</td><td>1</td><td>1</td><td>2010-07-11</td><td>2010-07-12</td><td>1</td><td>1</td><td>79</td><td>NA        </td><td>⋯</td><td>0</td><td>NA</td><td>NA</td><td>NA</td><td>NA</td><td>0</td><td>NA</td><td>NA</td><td>1</td><td>3</td></tr>\n",
       "\t<tr><td>12528166</td><td>2</td><td>1</td><td>1</td><td>2012-03-02</td><td>2012-03-04</td><td>1</td><td>2</td><td>80</td><td>NA        </td><td>⋯</td><td>0</td><td>NA</td><td>NA</td><td>NA</td><td>NA</td><td>0</td><td>NA</td><td>NA</td><td>1</td><td>2</td></tr>\n",
       "\t<tr><td>12551414</td><td>2</td><td>3</td><td>2</td><td>2013-10-01</td><td>2013-10-01</td><td>1</td><td>0</td><td>82</td><td>NA        </td><td>⋯</td><td>0</td><td>NA</td><td>NA</td><td>NA</td><td>NA</td><td>0</td><td>NA</td><td>NA</td><td>1</td><td>2</td></tr>\n",
       "\t<tr><td>12646228</td><td>2</td><td>1</td><td>2</td><td>2013-12-17</td><td>2013-12-19</td><td>1</td><td>2</td><td>82</td><td>2014-01-10</td><td>⋯</td><td>0</td><td>NA</td><td>NA</td><td>NA</td><td>NA</td><td>0</td><td>NA</td><td>NA</td><td>1</td><td>4</td></tr>\n",
       "\t<tr><td>13239724</td><td>1</td><td>1</td><td>2</td><td>2010-08-09</td><td>2010-08-09</td><td>1</td><td>0</td><td>79</td><td>NA        </td><td>⋯</td><td>0</td><td>NA</td><td>NA</td><td>NA</td><td>NA</td><td>0</td><td>NA</td><td>NA</td><td>1</td><td>2</td></tr>\n",
       "</tbody>\n",
       "</table>\n"
      ],
      "text/latex": [
       "A tibble: 6 × 51\n",
       "\\begin{tabular}{lllllllllllllllllllll}\n",
       " person\\_id & gender & ethnicity & imd\\_decile & date\\_angina\\_diagnosis & date\\_angina\\_departure & has\\_angina & los\\_angina\\_days & age\\_angina\\_diag & date\\_cardiomyopathy\\_diagnosis & ⋯ & has\\_stroke & los\\_stroke\\_days & age\\_stroke\\_diag & date\\_valve\\_disease\\_diagnosis & date\\_valve\\_disease\\_departure & has\\_valve\\_disease & los\\_valve\\_disease\\_days & age\\_valve\\_disease\\_diag & has\\_cvd & cvd\\_number\\\\\n",
       " <int> & <int> & <int> & <int> & <chr> & <chr> & <dbl> & <int> & <dbl> & <chr> & ⋯ & <dbl> & <int> & <dbl> & <chr> & <chr> & <dbl> & <int> & <dbl> & <dbl> & <dbl>\\\\\n",
       "\\hline\n",
       "\t 13709103 & 2 & 3 & 1 & 2011-07-08 & 2011-07-08 & 1 & 0 & 80 & NA         & ⋯ & 0 & NA & NA & NA & NA & 0 & NA & NA & 1 & 2\\\\\n",
       "\t 13504067 & 2 & 1 & 1 & 2010-07-11 & 2010-07-12 & 1 & 1 & 79 & NA         & ⋯ & 0 & NA & NA & NA & NA & 0 & NA & NA & 1 & 3\\\\\n",
       "\t 12528166 & 2 & 1 & 1 & 2012-03-02 & 2012-03-04 & 1 & 2 & 80 & NA         & ⋯ & 0 & NA & NA & NA & NA & 0 & NA & NA & 1 & 2\\\\\n",
       "\t 12551414 & 2 & 3 & 2 & 2013-10-01 & 2013-10-01 & 1 & 0 & 82 & NA         & ⋯ & 0 & NA & NA & NA & NA & 0 & NA & NA & 1 & 2\\\\\n",
       "\t 12646228 & 2 & 1 & 2 & 2013-12-17 & 2013-12-19 & 1 & 2 & 82 & 2014-01-10 & ⋯ & 0 & NA & NA & NA & NA & 0 & NA & NA & 1 & 4\\\\\n",
       "\t 13239724 & 1 & 1 & 2 & 2010-08-09 & 2010-08-09 & 1 & 0 & 79 & NA         & ⋯ & 0 & NA & NA & NA & NA & 0 & NA & NA & 1 & 2\\\\\n",
       "\\end{tabular}\n"
      ],
      "text/markdown": [
       "\n",
       "A tibble: 6 × 51\n",
       "\n",
       "| person_id &lt;int&gt; | gender &lt;int&gt; | ethnicity &lt;int&gt; | imd_decile &lt;int&gt; | date_angina_diagnosis &lt;chr&gt; | date_angina_departure &lt;chr&gt; | has_angina &lt;dbl&gt; | los_angina_days &lt;int&gt; | age_angina_diag &lt;dbl&gt; | date_cardiomyopathy_diagnosis &lt;chr&gt; | ⋯ ⋯ | has_stroke &lt;dbl&gt; | los_stroke_days &lt;int&gt; | age_stroke_diag &lt;dbl&gt; | date_valve_disease_diagnosis &lt;chr&gt; | date_valve_disease_departure &lt;chr&gt; | has_valve_disease &lt;dbl&gt; | los_valve_disease_days &lt;int&gt; | age_valve_disease_diag &lt;dbl&gt; | has_cvd &lt;dbl&gt; | cvd_number &lt;dbl&gt; |\n",
       "|---|---|---|---|---|---|---|---|---|---|---|---|---|---|---|---|---|---|---|---|---|\n",
       "| 13709103 | 2 | 3 | 1 | 2011-07-08 | 2011-07-08 | 1 | 0 | 80 | NA         | ⋯ | 0 | NA | NA | NA | NA | 0 | NA | NA | 1 | 2 |\n",
       "| 13504067 | 2 | 1 | 1 | 2010-07-11 | 2010-07-12 | 1 | 1 | 79 | NA         | ⋯ | 0 | NA | NA | NA | NA | 0 | NA | NA | 1 | 3 |\n",
       "| 12528166 | 2 | 1 | 1 | 2012-03-02 | 2012-03-04 | 1 | 2 | 80 | NA         | ⋯ | 0 | NA | NA | NA | NA | 0 | NA | NA | 1 | 2 |\n",
       "| 12551414 | 2 | 3 | 2 | 2013-10-01 | 2013-10-01 | 1 | 0 | 82 | NA         | ⋯ | 0 | NA | NA | NA | NA | 0 | NA | NA | 1 | 2 |\n",
       "| 12646228 | 2 | 1 | 2 | 2013-12-17 | 2013-12-19 | 1 | 2 | 82 | 2014-01-10 | ⋯ | 0 | NA | NA | NA | NA | 0 | NA | NA | 1 | 4 |\n",
       "| 13239724 | 1 | 1 | 2 | 2010-08-09 | 2010-08-09 | 1 | 0 | 79 | NA         | ⋯ | 0 | NA | NA | NA | NA | 0 | NA | NA | 1 | 2 |\n",
       "\n"
      ],
      "text/plain": [
       "  person_id gender ethnicity imd_decile date_angina_diagnosis\n",
       "1 13709103  2      3         1          2011-07-08           \n",
       "2 13504067  2      1         1          2010-07-11           \n",
       "3 12528166  2      1         1          2012-03-02           \n",
       "4 12551414  2      3         2          2013-10-01           \n",
       "5 12646228  2      1         2          2013-12-17           \n",
       "6 13239724  1      1         2          2010-08-09           \n",
       "  date_angina_departure has_angina los_angina_days age_angina_diag\n",
       "1 2011-07-08            1          0               80             \n",
       "2 2010-07-12            1          1               79             \n",
       "3 2012-03-04            1          2               80             \n",
       "4 2013-10-01            1          0               82             \n",
       "5 2013-12-19            1          2               82             \n",
       "6 2010-08-09            1          0               79             \n",
       "  date_cardiomyopathy_diagnosis ⋯ has_stroke los_stroke_days age_stroke_diag\n",
       "1 NA                            ⋯ 0          NA              NA             \n",
       "2 NA                            ⋯ 0          NA              NA             \n",
       "3 NA                            ⋯ 0          NA              NA             \n",
       "4 NA                            ⋯ 0          NA              NA             \n",
       "5 2014-01-10                    ⋯ 0          NA              NA             \n",
       "6 NA                            ⋯ 0          NA              NA             \n",
       "  date_valve_disease_diagnosis date_valve_disease_departure has_valve_disease\n",
       "1 NA                           NA                           0                \n",
       "2 NA                           NA                           0                \n",
       "3 NA                           NA                           0                \n",
       "4 NA                           NA                           0                \n",
       "5 NA                           NA                           0                \n",
       "6 NA                           NA                           0                \n",
       "  los_valve_disease_days age_valve_disease_diag has_cvd cvd_number\n",
       "1 NA                     NA                     1       2         \n",
       "2 NA                     NA                     1       3         \n",
       "3 NA                     NA                     1       2         \n",
       "4 NA                     NA                     1       2         \n",
       "5 NA                     NA                     1       4         \n",
       "6 NA                     NA                     1       2         "
      ]
     },
     "metadata": {},
     "output_type": "display_data"
    }
   ],
   "source": [
    "# has cvd and cvd number\n",
    "cvd_ep <- cvd_ep %>%\n",
    "    mutate_at(c('has_angina','has_cardiomyopathy','has_heart_failure','has_hypertension','has_ihd','has_mi','has_pvd','has_stroke','has_valve_disease'), ~replace_na(.,0)) %>%\n",
    "    mutate(has_cvd = ifelse(has_angina == 1 | has_cardiomyopathy == 1 | has_heart_failure == 1 | has_hypertension == 1 | has_ihd == 1 | has_mi == 1 | has_pvd == 1 | has_stroke == 1 | has_valve_disease == 1,1,0)) %>%\n",
    "    mutate(cvd_number = rowSums(select(.,\"has_angina\", \"has_cardiomyopathy\", \"has_heart_failure\", \"has_hypertension\", \"has_ihd\", \"has_mi\", \"has_pvd\", \"has_stroke\", \"has_valve_disease\")))\n",
    "head(cvd_ep)"
   ]
  },
  {
   "cell_type": "code",
   "execution_count": 14,
   "id": "8bb7ab91-7c82-4258-b524-971a3dedc3b0",
   "metadata": {},
   "outputs": [],
   "source": [
    "# create indicator for episodes\n",
    "cvd_ep <- cvd_ep %>%\n",
    "    mutate(in_data = 2)"
   ]
  },
  {
   "cell_type": "code",
   "execution_count": 15,
   "id": "4f081210-6243-4fc1-b160-ba9ab5fc0df9",
   "metadata": {},
   "outputs": [
    {
     "data": {
      "text/html": [
       "<table class=\"dataframe\">\n",
       "<caption>A tibble: 6 × 52</caption>\n",
       "<thead>\n",
       "\t<tr><th scope=col>person_id</th><th scope=col>gender</th><th scope=col>ethnicity</th><th scope=col>imd_decile</th><th scope=col>date_angina_diagnosis</th><th scope=col>date_angina_departure</th><th scope=col>has_angina</th><th scope=col>los_angina_days</th><th scope=col>age_angina_diag</th><th scope=col>date_cardiomyopathy_diagnosis</th><th scope=col>⋯</th><th scope=col>los_stroke_days</th><th scope=col>age_stroke_diag</th><th scope=col>date_valve_disease_diagnosis</th><th scope=col>date_valve_disease_departure</th><th scope=col>has_valve_disease</th><th scope=col>los_valve_disease_days</th><th scope=col>age_valve_disease_diag</th><th scope=col>has_cvd</th><th scope=col>cvd_number</th><th scope=col>in_data</th></tr>\n",
       "\t<tr><th scope=col>&lt;int&gt;</th><th scope=col>&lt;int&gt;</th><th scope=col>&lt;int&gt;</th><th scope=col>&lt;int&gt;</th><th scope=col>&lt;chr&gt;</th><th scope=col>&lt;chr&gt;</th><th scope=col>&lt;dbl&gt;</th><th scope=col>&lt;int&gt;</th><th scope=col>&lt;dbl&gt;</th><th scope=col>&lt;chr&gt;</th><th scope=col>⋯</th><th scope=col>&lt;int&gt;</th><th scope=col>&lt;dbl&gt;</th><th scope=col>&lt;chr&gt;</th><th scope=col>&lt;chr&gt;</th><th scope=col>&lt;dbl&gt;</th><th scope=col>&lt;int&gt;</th><th scope=col>&lt;dbl&gt;</th><th scope=col>&lt;dbl&gt;</th><th scope=col>&lt;dbl&gt;</th><th scope=col>&lt;dbl&gt;</th></tr>\n",
       "</thead>\n",
       "<tbody>\n",
       "\t<tr><td>13709103</td><td>2</td><td>3</td><td>1</td><td>2011-07-08</td><td>2011-07-08</td><td>1</td><td>0</td><td>80</td><td>NA        </td><td>⋯</td><td>NA</td><td>NA</td><td>NA</td><td>NA</td><td>0</td><td>NA</td><td>NA</td><td>1</td><td>2</td><td>2</td></tr>\n",
       "\t<tr><td>13504067</td><td>2</td><td>1</td><td>1</td><td>2010-07-11</td><td>2010-07-12</td><td>1</td><td>1</td><td>79</td><td>NA        </td><td>⋯</td><td>NA</td><td>NA</td><td>NA</td><td>NA</td><td>0</td><td>NA</td><td>NA</td><td>1</td><td>3</td><td>2</td></tr>\n",
       "\t<tr><td>12528166</td><td>2</td><td>1</td><td>1</td><td>2012-03-02</td><td>2012-03-04</td><td>1</td><td>2</td><td>80</td><td>NA        </td><td>⋯</td><td>NA</td><td>NA</td><td>NA</td><td>NA</td><td>0</td><td>NA</td><td>NA</td><td>1</td><td>2</td><td>2</td></tr>\n",
       "\t<tr><td>12551414</td><td>2</td><td>3</td><td>2</td><td>2013-10-01</td><td>2013-10-01</td><td>1</td><td>0</td><td>82</td><td>NA        </td><td>⋯</td><td>NA</td><td>NA</td><td>NA</td><td>NA</td><td>0</td><td>NA</td><td>NA</td><td>1</td><td>2</td><td>2</td></tr>\n",
       "\t<tr><td>12646228</td><td>2</td><td>1</td><td>2</td><td>2013-12-17</td><td>2013-12-19</td><td>1</td><td>2</td><td>82</td><td>2014-01-10</td><td>⋯</td><td>NA</td><td>NA</td><td>NA</td><td>NA</td><td>0</td><td>NA</td><td>NA</td><td>1</td><td>4</td><td>2</td></tr>\n",
       "\t<tr><td>13239724</td><td>1</td><td>1</td><td>2</td><td>2010-08-09</td><td>2010-08-09</td><td>1</td><td>0</td><td>79</td><td>NA        </td><td>⋯</td><td>NA</td><td>NA</td><td>NA</td><td>NA</td><td>0</td><td>NA</td><td>NA</td><td>1</td><td>2</td><td>2</td></tr>\n",
       "</tbody>\n",
       "</table>\n"
      ],
      "text/latex": [
       "A tibble: 6 × 52\n",
       "\\begin{tabular}{lllllllllllllllllllll}\n",
       " person\\_id & gender & ethnicity & imd\\_decile & date\\_angina\\_diagnosis & date\\_angina\\_departure & has\\_angina & los\\_angina\\_days & age\\_angina\\_diag & date\\_cardiomyopathy\\_diagnosis & ⋯ & los\\_stroke\\_days & age\\_stroke\\_diag & date\\_valve\\_disease\\_diagnosis & date\\_valve\\_disease\\_departure & has\\_valve\\_disease & los\\_valve\\_disease\\_days & age\\_valve\\_disease\\_diag & has\\_cvd & cvd\\_number & in\\_data\\\\\n",
       " <int> & <int> & <int> & <int> & <chr> & <chr> & <dbl> & <int> & <dbl> & <chr> & ⋯ & <int> & <dbl> & <chr> & <chr> & <dbl> & <int> & <dbl> & <dbl> & <dbl> & <dbl>\\\\\n",
       "\\hline\n",
       "\t 13709103 & 2 & 3 & 1 & 2011-07-08 & 2011-07-08 & 1 & 0 & 80 & NA         & ⋯ & NA & NA & NA & NA & 0 & NA & NA & 1 & 2 & 2\\\\\n",
       "\t 13504067 & 2 & 1 & 1 & 2010-07-11 & 2010-07-12 & 1 & 1 & 79 & NA         & ⋯ & NA & NA & NA & NA & 0 & NA & NA & 1 & 3 & 2\\\\\n",
       "\t 12528166 & 2 & 1 & 1 & 2012-03-02 & 2012-03-04 & 1 & 2 & 80 & NA         & ⋯ & NA & NA & NA & NA & 0 & NA & NA & 1 & 2 & 2\\\\\n",
       "\t 12551414 & 2 & 3 & 2 & 2013-10-01 & 2013-10-01 & 1 & 0 & 82 & NA         & ⋯ & NA & NA & NA & NA & 0 & NA & NA & 1 & 2 & 2\\\\\n",
       "\t 12646228 & 2 & 1 & 2 & 2013-12-17 & 2013-12-19 & 1 & 2 & 82 & 2014-01-10 & ⋯ & NA & NA & NA & NA & 0 & NA & NA & 1 & 4 & 2\\\\\n",
       "\t 13239724 & 1 & 1 & 2 & 2010-08-09 & 2010-08-09 & 1 & 0 & 79 & NA         & ⋯ & NA & NA & NA & NA & 0 & NA & NA & 1 & 2 & 2\\\\\n",
       "\\end{tabular}\n"
      ],
      "text/markdown": [
       "\n",
       "A tibble: 6 × 52\n",
       "\n",
       "| person_id &lt;int&gt; | gender &lt;int&gt; | ethnicity &lt;int&gt; | imd_decile &lt;int&gt; | date_angina_diagnosis &lt;chr&gt; | date_angina_departure &lt;chr&gt; | has_angina &lt;dbl&gt; | los_angina_days &lt;int&gt; | age_angina_diag &lt;dbl&gt; | date_cardiomyopathy_diagnosis &lt;chr&gt; | ⋯ ⋯ | los_stroke_days &lt;int&gt; | age_stroke_diag &lt;dbl&gt; | date_valve_disease_diagnosis &lt;chr&gt; | date_valve_disease_departure &lt;chr&gt; | has_valve_disease &lt;dbl&gt; | los_valve_disease_days &lt;int&gt; | age_valve_disease_diag &lt;dbl&gt; | has_cvd &lt;dbl&gt; | cvd_number &lt;dbl&gt; | in_data &lt;dbl&gt; |\n",
       "|---|---|---|---|---|---|---|---|---|---|---|---|---|---|---|---|---|---|---|---|---|\n",
       "| 13709103 | 2 | 3 | 1 | 2011-07-08 | 2011-07-08 | 1 | 0 | 80 | NA         | ⋯ | NA | NA | NA | NA | 0 | NA | NA | 1 | 2 | 2 |\n",
       "| 13504067 | 2 | 1 | 1 | 2010-07-11 | 2010-07-12 | 1 | 1 | 79 | NA         | ⋯ | NA | NA | NA | NA | 0 | NA | NA | 1 | 3 | 2 |\n",
       "| 12528166 | 2 | 1 | 1 | 2012-03-02 | 2012-03-04 | 1 | 2 | 80 | NA         | ⋯ | NA | NA | NA | NA | 0 | NA | NA | 1 | 2 | 2 |\n",
       "| 12551414 | 2 | 3 | 2 | 2013-10-01 | 2013-10-01 | 1 | 0 | 82 | NA         | ⋯ | NA | NA | NA | NA | 0 | NA | NA | 1 | 2 | 2 |\n",
       "| 12646228 | 2 | 1 | 2 | 2013-12-17 | 2013-12-19 | 1 | 2 | 82 | 2014-01-10 | ⋯ | NA | NA | NA | NA | 0 | NA | NA | 1 | 4 | 2 |\n",
       "| 13239724 | 1 | 1 | 2 | 2010-08-09 | 2010-08-09 | 1 | 0 | 79 | NA         | ⋯ | NA | NA | NA | NA | 0 | NA | NA | 1 | 2 | 2 |\n",
       "\n"
      ],
      "text/plain": [
       "  person_id gender ethnicity imd_decile date_angina_diagnosis\n",
       "1 13709103  2      3         1          2011-07-08           \n",
       "2 13504067  2      1         1          2010-07-11           \n",
       "3 12528166  2      1         1          2012-03-02           \n",
       "4 12551414  2      3         2          2013-10-01           \n",
       "5 12646228  2      1         2          2013-12-17           \n",
       "6 13239724  1      1         2          2010-08-09           \n",
       "  date_angina_departure has_angina los_angina_days age_angina_diag\n",
       "1 2011-07-08            1          0               80             \n",
       "2 2010-07-12            1          1               79             \n",
       "3 2012-03-04            1          2               80             \n",
       "4 2013-10-01            1          0               82             \n",
       "5 2013-12-19            1          2               82             \n",
       "6 2010-08-09            1          0               79             \n",
       "  date_cardiomyopathy_diagnosis ⋯ los_stroke_days age_stroke_diag\n",
       "1 NA                            ⋯ NA              NA             \n",
       "2 NA                            ⋯ NA              NA             \n",
       "3 NA                            ⋯ NA              NA             \n",
       "4 NA                            ⋯ NA              NA             \n",
       "5 2014-01-10                    ⋯ NA              NA             \n",
       "6 NA                            ⋯ NA              NA             \n",
       "  date_valve_disease_diagnosis date_valve_disease_departure has_valve_disease\n",
       "1 NA                           NA                           0                \n",
       "2 NA                           NA                           0                \n",
       "3 NA                           NA                           0                \n",
       "4 NA                           NA                           0                \n",
       "5 NA                           NA                           0                \n",
       "6 NA                           NA                           0                \n",
       "  los_valve_disease_days age_valve_disease_diag has_cvd cvd_number in_data\n",
       "1 NA                     NA                     1       2          2      \n",
       "2 NA                     NA                     1       3          2      \n",
       "3 NA                     NA                     1       2          2      \n",
       "4 NA                     NA                     1       2          2      \n",
       "5 NA                     NA                     1       4          2      \n",
       "6 NA                     NA                     1       2          2      "
      ]
     },
     "metadata": {},
     "output_type": "display_data"
    }
   ],
   "source": [
    "head(cvd_ep)"
   ]
  },
  {
   "cell_type": "code",
   "execution_count": 16,
   "id": "e32d8f2e-e568-45c6-9dd1-948f8a027e1a",
   "metadata": {},
   "outputs": [],
   "source": [
    "cvd_ep <- cvd_ep %>%\n",
    "    select(-gender, -ethnicity, -imd_decile)"
   ]
  },
  {
   "cell_type": "code",
   "execution_count": 17,
   "id": "458075fc-70cf-4cfc-a9b1-86d7dff6529c",
   "metadata": {},
   "outputs": [
    {
     "data": {
      "text/html": [
       "<style>\n",
       ".list-inline {list-style: none; margin:0; padding: 0}\n",
       ".list-inline>li {display: inline-block}\n",
       ".list-inline>li:not(:last-child)::after {content: \"\\00b7\"; padding: 0 .5ex}\n",
       "</style>\n",
       "<ol class=list-inline><li>'person_id'</li><li>'date_angina_diagnosis'</li><li>'date_angina_departure'</li><li>'has_angina'</li><li>'los_angina_days'</li><li>'age_angina_diag'</li><li>'date_cardiomyopathy_diagnosis'</li><li>'date_cardiomyopathy_departure'</li><li>'has_cardiomyopathy'</li><li>'los_cardiomyopathy_days'</li><li>'age_cardiomyopathy_diag'</li><li>'date_heart_failure_diagnosis'</li><li>'date_heart_failure_departure'</li><li>'has_heart_failure'</li><li>'los_heart_failure_days'</li><li>'age_heart_failure_diag'</li><li>'date_hypertension_diagnosis'</li><li>'date_hypertension_departure'</li><li>'has_hypertension'</li><li>'los_hypertension_days'</li><li>'age_hypertension_diag'</li><li>'date_ihd_diagnosis'</li><li>'date_ihd_departure'</li><li>'has_ihd'</li><li>'los_ihd_days'</li><li>'age_ihd_diag'</li><li>'date_mi_diagnosis'</li><li>'date_mi_departure'</li><li>'has_mi'</li><li>'los_mi_days'</li><li>'age_mi_diag'</li><li>'date_pvd_diagnosis'</li><li>'date_pvd_departure'</li><li>'has_pvd'</li><li>'los_pvd_days'</li><li>'age_pvd_diag'</li><li>'date_stroke_diagnosis'</li><li>'date_stroke_departure'</li><li>'has_stroke'</li><li>'los_stroke_days'</li><li>'age_stroke_diag'</li><li>'date_valve_disease_diagnosis'</li><li>'date_valve_disease_departure'</li><li>'has_valve_disease'</li><li>'los_valve_disease_days'</li><li>'age_valve_disease_diag'</li><li>'has_cvd'</li><li>'cvd_number'</li><li>'in_data'</li></ol>\n"
      ],
      "text/latex": [
       "\\begin{enumerate*}\n",
       "\\item 'person\\_id'\n",
       "\\item 'date\\_angina\\_diagnosis'\n",
       "\\item 'date\\_angina\\_departure'\n",
       "\\item 'has\\_angina'\n",
       "\\item 'los\\_angina\\_days'\n",
       "\\item 'age\\_angina\\_diag'\n",
       "\\item 'date\\_cardiomyopathy\\_diagnosis'\n",
       "\\item 'date\\_cardiomyopathy\\_departure'\n",
       "\\item 'has\\_cardiomyopathy'\n",
       "\\item 'los\\_cardiomyopathy\\_days'\n",
       "\\item 'age\\_cardiomyopathy\\_diag'\n",
       "\\item 'date\\_heart\\_failure\\_diagnosis'\n",
       "\\item 'date\\_heart\\_failure\\_departure'\n",
       "\\item 'has\\_heart\\_failure'\n",
       "\\item 'los\\_heart\\_failure\\_days'\n",
       "\\item 'age\\_heart\\_failure\\_diag'\n",
       "\\item 'date\\_hypertension\\_diagnosis'\n",
       "\\item 'date\\_hypertension\\_departure'\n",
       "\\item 'has\\_hypertension'\n",
       "\\item 'los\\_hypertension\\_days'\n",
       "\\item 'age\\_hypertension\\_diag'\n",
       "\\item 'date\\_ihd\\_diagnosis'\n",
       "\\item 'date\\_ihd\\_departure'\n",
       "\\item 'has\\_ihd'\n",
       "\\item 'los\\_ihd\\_days'\n",
       "\\item 'age\\_ihd\\_diag'\n",
       "\\item 'date\\_mi\\_diagnosis'\n",
       "\\item 'date\\_mi\\_departure'\n",
       "\\item 'has\\_mi'\n",
       "\\item 'los\\_mi\\_days'\n",
       "\\item 'age\\_mi\\_diag'\n",
       "\\item 'date\\_pvd\\_diagnosis'\n",
       "\\item 'date\\_pvd\\_departure'\n",
       "\\item 'has\\_pvd'\n",
       "\\item 'los\\_pvd\\_days'\n",
       "\\item 'age\\_pvd\\_diag'\n",
       "\\item 'date\\_stroke\\_diagnosis'\n",
       "\\item 'date\\_stroke\\_departure'\n",
       "\\item 'has\\_stroke'\n",
       "\\item 'los\\_stroke\\_days'\n",
       "\\item 'age\\_stroke\\_diag'\n",
       "\\item 'date\\_valve\\_disease\\_diagnosis'\n",
       "\\item 'date\\_valve\\_disease\\_departure'\n",
       "\\item 'has\\_valve\\_disease'\n",
       "\\item 'los\\_valve\\_disease\\_days'\n",
       "\\item 'age\\_valve\\_disease\\_diag'\n",
       "\\item 'has\\_cvd'\n",
       "\\item 'cvd\\_number'\n",
       "\\item 'in\\_data'\n",
       "\\end{enumerate*}\n"
      ],
      "text/markdown": [
       "1. 'person_id'\n",
       "2. 'date_angina_diagnosis'\n",
       "3. 'date_angina_departure'\n",
       "4. 'has_angina'\n",
       "5. 'los_angina_days'\n",
       "6. 'age_angina_diag'\n",
       "7. 'date_cardiomyopathy_diagnosis'\n",
       "8. 'date_cardiomyopathy_departure'\n",
       "9. 'has_cardiomyopathy'\n",
       "10. 'los_cardiomyopathy_days'\n",
       "11. 'age_cardiomyopathy_diag'\n",
       "12. 'date_heart_failure_diagnosis'\n",
       "13. 'date_heart_failure_departure'\n",
       "14. 'has_heart_failure'\n",
       "15. 'los_heart_failure_days'\n",
       "16. 'age_heart_failure_diag'\n",
       "17. 'date_hypertension_diagnosis'\n",
       "18. 'date_hypertension_departure'\n",
       "19. 'has_hypertension'\n",
       "20. 'los_hypertension_days'\n",
       "21. 'age_hypertension_diag'\n",
       "22. 'date_ihd_diagnosis'\n",
       "23. 'date_ihd_departure'\n",
       "24. 'has_ihd'\n",
       "25. 'los_ihd_days'\n",
       "26. 'age_ihd_diag'\n",
       "27. 'date_mi_diagnosis'\n",
       "28. 'date_mi_departure'\n",
       "29. 'has_mi'\n",
       "30. 'los_mi_days'\n",
       "31. 'age_mi_diag'\n",
       "32. 'date_pvd_diagnosis'\n",
       "33. 'date_pvd_departure'\n",
       "34. 'has_pvd'\n",
       "35. 'los_pvd_days'\n",
       "36. 'age_pvd_diag'\n",
       "37. 'date_stroke_diagnosis'\n",
       "38. 'date_stroke_departure'\n",
       "39. 'has_stroke'\n",
       "40. 'los_stroke_days'\n",
       "41. 'age_stroke_diag'\n",
       "42. 'date_valve_disease_diagnosis'\n",
       "43. 'date_valve_disease_departure'\n",
       "44. 'has_valve_disease'\n",
       "45. 'los_valve_disease_days'\n",
       "46. 'age_valve_disease_diag'\n",
       "47. 'has_cvd'\n",
       "48. 'cvd_number'\n",
       "49. 'in_data'\n",
       "\n",
       "\n"
      ],
      "text/plain": [
       " [1] \"person_id\"                     \"date_angina_diagnosis\"        \n",
       " [3] \"date_angina_departure\"         \"has_angina\"                   \n",
       " [5] \"los_angina_days\"               \"age_angina_diag\"              \n",
       " [7] \"date_cardiomyopathy_diagnosis\" \"date_cardiomyopathy_departure\"\n",
       " [9] \"has_cardiomyopathy\"            \"los_cardiomyopathy_days\"      \n",
       "[11] \"age_cardiomyopathy_diag\"       \"date_heart_failure_diagnosis\" \n",
       "[13] \"date_heart_failure_departure\"  \"has_heart_failure\"            \n",
       "[15] \"los_heart_failure_days\"        \"age_heart_failure_diag\"       \n",
       "[17] \"date_hypertension_diagnosis\"   \"date_hypertension_departure\"  \n",
       "[19] \"has_hypertension\"              \"los_hypertension_days\"        \n",
       "[21] \"age_hypertension_diag\"         \"date_ihd_diagnosis\"           \n",
       "[23] \"date_ihd_departure\"            \"has_ihd\"                      \n",
       "[25] \"los_ihd_days\"                  \"age_ihd_diag\"                 \n",
       "[27] \"date_mi_diagnosis\"             \"date_mi_departure\"            \n",
       "[29] \"has_mi\"                        \"los_mi_days\"                  \n",
       "[31] \"age_mi_diag\"                   \"date_pvd_diagnosis\"           \n",
       "[33] \"date_pvd_departure\"            \"has_pvd\"                      \n",
       "[35] \"los_pvd_days\"                  \"age_pvd_diag\"                 \n",
       "[37] \"date_stroke_diagnosis\"         \"date_stroke_departure\"        \n",
       "[39] \"has_stroke\"                    \"los_stroke_days\"              \n",
       "[41] \"age_stroke_diag\"               \"date_valve_disease_diagnosis\" \n",
       "[43] \"date_valve_disease_departure\"  \"has_valve_disease\"            \n",
       "[45] \"los_valve_disease_days\"        \"age_valve_disease_diag\"       \n",
       "[47] \"has_cvd\"                       \"cvd_number\"                   \n",
       "[49] \"in_data\"                      "
      ]
     },
     "metadata": {},
     "output_type": "display_data"
    }
   ],
   "source": [
    "colnames(cvd_ep)"
   ]
  },
  {
   "cell_type": "code",
   "execution_count": 18,
   "id": "79bf644d-01b6-49bd-8560-15790f059e1f",
   "metadata": {},
   "outputs": [],
   "source": [
    "# save dataset\n",
    "# set destination table - do this regardless of whether it already exists\n",
    "dest_dataset <- bq_dataset(\"yhcr-prd-phm-bia-core\",\"CB_MYSPACE_AH\")\n",
    "dest_table <- bq_table(dest_dataset, \"Cardiovascular_Diseases_Episodes\")\n",
    "\n",
    "# create a full table spec as follows\n",
    "# then pass this to bq_table_upload\n",
    "dest_fields <- bq_fields(list(bq_field(\"person_id\", \"INT64\", \"REQUIRED\"),\n",
    "                              bq_field(\"age_angina_diag\", \"INT64\"),\n",
    "                              bq_field(\"date_angina_diagnosis\", \"DATE\"),\n",
    "                              bq_field(\"date_angina_departure\", \"DATE\"),\n",
    "                              bq_field(\"has_angina\", \"INT64\"),\n",
    "                              bq_field(\"los_angina_days\", \"INT64\"),\n",
    "                              bq_field(\"age_cardiomyopathy_diag\", \"INT64\"),\n",
    "                              bq_field(\"date_cardiomyopathy_diagnosis\", \"DATE\"),\n",
    "                              bq_field(\"date_cardiomyopathy_departure\", \"DATE\"),\n",
    "                              bq_field(\"has_cardiomyopathy\", \"INT64\"),\n",
    "                              bq_field(\"los_cardiomyopathy_days\", \"INT64\"),\n",
    "                              bq_field(\"age_heart_failure_diag\", \"INT64\"),\n",
    "                              bq_field(\"date_heart_failure_diagnosis\", \"DATE\"),\n",
    "                              bq_field(\"date_heart_failure_departure\", \"DATE\"),\n",
    "                              bq_field(\"has_heart_failure\", \"INT64\"),\n",
    "                              bq_field(\"los_heart_failure_days\", \"INT64\"),\n",
    "                              bq_field(\"age_hypertension_diag\", \"INT64\"),\n",
    "                              bq_field(\"date_hypertension_diagnosis\", \"DATE\"),\n",
    "                              bq_field(\"date_hypertension_departure\", \"DATE\"),\n",
    "                              bq_field(\"has_hypertension\", \"INT64\"),\n",
    "                              bq_field(\"los_hypertension_days\", \"INT64\"),\n",
    "                              bq_field(\"age_ihd_diag\", \"INT64\"),\n",
    "                              bq_field(\"date_ihd_diagnosis\", \"DATE\"),\n",
    "                              bq_field(\"date_ihd_departure\", \"DATE\"),\n",
    "                              bq_field(\"has_ihd\", \"INT64\"),\n",
    "                              bq_field(\"los_ihd_days\", \"INT64\"),\n",
    "                              bq_field(\"age_mi_diag\", \"INT64\"),\n",
    "                              bq_field(\"date_mi_diagnosis\", \"DATE\"),\n",
    "                              bq_field(\"date_mi_departure\", \"DATE\"),\n",
    "                              bq_field(\"has_mi\", \"INT64\"),\n",
    "                              bq_field(\"los_mi_days\", \"INT64\"),\n",
    "                              bq_field(\"age_pvd_diag\", \"INT64\"),\n",
    "                              bq_field(\"date_pvd_diagnosis\", \"DATE\"),\n",
    "                              bq_field(\"date_pvd_departure\", \"DATE\"),\n",
    "                              bq_field(\"has_pvd\", \"INT64\"),\n",
    "                              bq_field(\"los_pvd_days\", \"INT64\"),\n",
    "                              bq_field(\"age_stroke_diag\", \"INT64\"),\n",
    "                              bq_field(\"date_stroke_diagnosis\", \"DATE\"),\n",
    "                              bq_field(\"date_stroke_departure\", \"DATE\"),\n",
    "                              bq_field(\"has_stroke\", \"INT64\"),\n",
    "                              bq_field(\"los_stroke_days\", \"INT64\"),\n",
    "                              bq_field(\"age_valve_disease_diag\", \"INT64\"),\n",
    "                              bq_field(\"date_valve_disease_diagnosis\", \"DATE\"),\n",
    "                              bq_field(\"date_valve_disease_departure\", \"DATE\"),\n",
    "                              bq_field(\"has_valve_disease\", \"INT64\"),\n",
    "                              bq_field(\"los_valve_disease_days\", \"INT64\"),\n",
    "                              bq_field(\"has_cvd\", \"INT64\"),\n",
    "                              bq_field(\"cvd_number\", \"INT64\"),\n",
    "                                bq_field(\"in_data\", \"INT64\")))\n",
    "\n",
    "# delete an existing table if necessary\n",
    "if(bq_table_exists(dest_table)) bq_table_delete(dest_table)\n",
    "# upload file_data to dest_table\n",
    "bq_table_upload(dest_table, cvd_ep, fields = dest_fields, create_disposition='CREATE_IF_NEEDED', write_disposition='WRITE_TRUNCATE')"
   ]
  },
  {
   "cell_type": "code",
   "execution_count": null,
   "id": "a5e2720d-a668-45e8-939b-9a47f2b064e3",
   "metadata": {},
   "outputs": [],
   "source": []
  }
 ],
 "metadata": {
  "environment": {
   "kernel": "ir",
   "name": "r-cpu.4-2.m111",
   "type": "gcloud",
   "uri": "gcr.io/deeplearning-platform-release/r-cpu.4-2:m111"
  },
  "kernelspec": {
   "display_name": "R",
   "language": "R",
   "name": "ir"
  },
  "language_info": {
   "codemirror_mode": "r",
   "file_extension": ".r",
   "mimetype": "text/x-r-source",
   "name": "R",
   "pygments_lexer": "r",
   "version": "4.3.1"
  }
 },
 "nbformat": 4,
 "nbformat_minor": 5
}
