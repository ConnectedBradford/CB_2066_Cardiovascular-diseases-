{
 "cells": [
  {
   "cell_type": "code",
   "execution_count": 1,
   "id": "19611660-5aa3-4a0e-99a8-7d07c2fa871a",
   "metadata": {},
   "outputs": [
    {
     "name": "stderr",
     "output_type": "stream",
     "text": [
      "── \u001b[1mAttaching core tidyverse packages\u001b[22m ──────────────────────── tidyverse 2.0.0 ──\n",
      "\u001b[32m✔\u001b[39m \u001b[34mdplyr    \u001b[39m 1.1.2     \u001b[32m✔\u001b[39m \u001b[34mreadr    \u001b[39m 2.1.4\n",
      "\u001b[32m✔\u001b[39m \u001b[34mforcats  \u001b[39m 1.0.0     \u001b[32m✔\u001b[39m \u001b[34mstringr  \u001b[39m 1.5.0\n",
      "\u001b[32m✔\u001b[39m \u001b[34mggplot2  \u001b[39m 3.4.4     \u001b[32m✔\u001b[39m \u001b[34mtibble   \u001b[39m 3.2.1\n",
      "\u001b[32m✔\u001b[39m \u001b[34mlubridate\u001b[39m 1.9.2     \u001b[32m✔\u001b[39m \u001b[34mtidyr    \u001b[39m 1.3.0\n",
      "\u001b[32m✔\u001b[39m \u001b[34mpurrr    \u001b[39m 1.0.2     \n",
      "── \u001b[1mConflicts\u001b[22m ────────────────────────────────────────── tidyverse_conflicts() ──\n",
      "\u001b[31m✖\u001b[39m \u001b[34mdplyr\u001b[39m::\u001b[32mfilter()\u001b[39m masks \u001b[34mstats\u001b[39m::filter()\n",
      "\u001b[31m✖\u001b[39m \u001b[34mdplyr\u001b[39m::\u001b[32mlag()\u001b[39m    masks \u001b[34mstats\u001b[39m::lag()\n",
      "\u001b[36mℹ\u001b[39m Use the conflicted package (\u001b[3m\u001b[34m<http://conflicted.r-lib.org/>\u001b[39m\u001b[23m) to force all conflicts to become errors\n"
     ]
    }
   ],
   "source": [
    "library(bigrquery)\n",
    "library(tidyverse)"
   ]
  },
  {
   "cell_type": "code",
   "execution_count": 2,
   "id": "d24bef98-a968-4556-8636-67f692032d7b",
   "metadata": {},
   "outputs": [],
   "source": [
    "# Store the project ID\n",
    "projectid = \"yhcr-prd-phm-bia-core\""
   ]
  },
  {
   "cell_type": "code",
   "execution_count": 3,
   "id": "59bab36e-1e1b-4a15-874d-b2062fabeea8",
   "metadata": {},
   "outputs": [],
   "source": [
    "# Set your query\n",
    "metformin <- \"SELECT person_id, src_datemedicationstart, src_idmultilexdmd, src_nameofmedication, src_dateevent FROM `yhcr-prd-phm-bia-core.CB_FDM_PrimaryCare_v5.tbl_SRPrimaryCareMedication` \n",
    "where src_nameofmedication LIKE '%metformin%' OR src_nameofmedication LIKE '%glucophage%' OR src_nameofmedication LIKE '%sukkarto%'\"\n",
    "thiazolid <- \"SELECT person_id, src_datemedicationstart, src_idmultilexdmd, src_nameofmedication, src_dateevent FROM `yhcr-prd-phm-bia-core.CB_FDM_PrimaryCare_v5.tbl_SRPrimaryCareMedication` \n",
    "where src_nameofmedication LIKE '%pioglitazone%' OR src_nameofmedication LIKE '%actos%' OR src_nameofmedication LIKE '%avandia%'\"\n",
    "gliptins <- \"SELECT person_id, src_datemedicationstart, src_idmultilexdmd, src_nameofmedication, src_dateevent FROM `yhcr-prd-phm-bia-core.CB_FDM_PrimaryCare_v5.tbl_SRPrimaryCareMedication` \n",
    "where src_nameofmedication LIKE '%gliptin%' OR src_nameofmedication LIKE '%vipidia%' OR src_nameofmedication LIKE '%trajenta%' OR src_nameofmedication LIKE '%onglyza%'\n",
    "OR src_nameofmedication LIKE '%januvia%' OR src_nameofmedication LIKE '%galvus%'\"\n",
    "sulfon <- \"SELECT person_id, src_datemedicationstart, src_idmultilexdmd, src_nameofmedication, src_dateevent FROM `yhcr-prd-phm-bia-core.CB_FDM_PrimaryCare_v5.tbl_SRPrimaryCareMedication` \n",
    "where src_nameofmedication LIKE '%glimepiride%' OR src_nameofmedication LIKE '%amaryl%' OR src_nameofmedication LIKE '%gliclazide%' OR src_nameofmedication LIKE '%glipizide%'\n",
    "OR src_nameofmedication LIKE '%glibenclamide%'\"\n",
    "glpra <- \"SELECT person_id, src_datemedicationstart, src_idmultilexdmd, src_nameofmedication, src_dateevent FROM `yhcr-prd-phm-bia-core.CB_FDM_PrimaryCare_v5.tbl_SRPrimaryCareMedication` \n",
    "where src_nameofmedication LIKE '%exenatide%' OR src_nameofmedication LIKE '%bydureon%' OR src_nameofmedication LIKE '%byetta%' OR src_nameofmedication LIKE '%dulaglutide%'\n",
    "OR src_nameofmedication LIKE '%trulicity%' OR src_nameofmedication LIKE '%liraglutide%' OR src_nameofmedication LIKE '%victoza%' OR src_nameofmedication LIKE '%lixisenatide%'\n",
    " OR src_nameofmedication LIKE '%lyxumia%' OR src_nameofmedication LIKE '%semaglutide%' OR src_nameofmedication LIKE '%ozempic%'\"\n",
    "glucinhib <- \"SELECT person_id, src_datemedicationstart, src_idmultilexdmd, src_nameofmedication, src_dateevent FROM `yhcr-prd-phm-bia-core.CB_FDM_PrimaryCare_v5.tbl_SRPrimaryCareMedication` \n",
    "where src_nameofmedication LIKE '%flozin%' OR src_nameofmedication LIKE '%invokana%' OR src_nameofmedication LIKE '%forxiga%' OR src_nameofmedication LIKE '%jardiance%'\"\n",
    "combo <- \"SELECT person_id, src_datemedicationstart, src_idmultilexdmd, src_nameofmedication, src_dateevent FROM `yhcr-prd-phm-bia-core.CB_FDM_PrimaryCare_v5.tbl_SRPrimaryCareMedication` \n",
    "where src_nameofmedication LIKE '%alogliptin 12.5mg / metformin 1g tablets%' OR src_nameofmedication LIKE '%canagliflozin 50mg / metformin 1g tablets%' \n",
    "OR src_nameofmedication LIKE '%canagliflozin 50mg / metformin 850mg tablets%' OR src_nameofmedication LIKE '%dapagliflozin 5mg / metformin 1g tablets%'\n",
    "OR src_nameofmedication LIKE '%dapagliflozin 5mg / metformin 850mg tablets%' OR src_nameofmedication LIKE '%empagliflozin 12.5mg / metformin 1g tablets%' \n",
    "OR src_nameofmedication LIKE '%empagliflozin 12.5mg / metformin 850mg tablets%' OR src_nameofmedication LIKE '%empagliflozin 5mg / metformin 1g tablets%'\n",
    "OR src_nameofmedication LIKE '%empagliflozin 5mg / metformin 850mg tablets%' OR src_nameofmedication LIKE '%linagliptin 2.5mg / metformin 1g tablets%' \n",
    "OR src_nameofmedication LIKE '%linagliptin 2.5mg / metformin 850mg tablets%' OR src_nameofmedication LIKE '%metformin 1g / sitagliptin 50mg tablets%' \n",
    "OR src_nameofmedication LIKE '%pioglitazone 15mg / metformin 850mg tablets%' OR src_nameofmedication LIKE '%rosiglitazone 2mg / metformin 1g tablets%'\n",
    "OR src_nameofmedication LIKE '%rosiglitazone 2mg / metformin 500mg tablets%' OR src_nameofmedication LIKE '%rosiglitazone 4mg / metformin 1g tablets%' \n",
    "OR src_nameofmedication LIKE '%saxagliptin 2.5mg / metformin 1g tablets%' OR src_nameofmedication LIKE '%saxagliptin 2.5mg / metformin 850mg tablets%' \n",
    "OR src_nameofmedication LIKE '%sitagliptin with metformin (roi) tablets 50mg + 850mg%' OR src_nameofmedication LIKE '%textual drug : metformin + pioglitazone tabs 850mg + 15mg%'\n",
    "OR src_nameofmedication LIKE '%vildagliptin 50mg / metformin 1g tablets%' OR src_nameofmedication LIKE '%vildagliptin 50mg / metformin 850mg tablets%'\"\n",
    "insulin <- \"SELECT person_id, src_datemedicationstart, src_idmultilexdmd, src_nameofmedication, src_dateevent FROM `yhcr-prd-phm-bia-core.CB_FDM_PrimaryCare_v5.tbl_SRPrimaryCareMedication` \n",
    "where src_nameofmedication LIKE '%insulatard%' OR src_nameofmedication LIKE '%degludec%' OR src_nameofmedication LIKE '%tresiba%' OR src_nameofmedication LIKE '%detemir%'\n",
    "OR src_nameofmedication LIKE '%glargine%' OR src_nameofmedication LIKE '%lantus%' OR src_nameofmedication LIKE '%toujeo%' OR src_nameofmedication LIKE '%abasaglar%'\n",
    "OR src_nameofmedication LIKE '%humulin%' OR src_nameofmedication LIKE '%actrapid%' OR src_nameofmedication LIKE '%aspart%'\n",
    "OR src_nameofmedication LIKE '%novorapid%' OR src_nameofmedication LIKE '%fiasp%'\n",
    "OR src_nameofmedication LIKE '%lispro%' OR src_nameofmedication LIKE '%humalog%'\n",
    "OR src_nameofmedication LIKE '%glulisine%' OR src_nameofmedication LIKE '%apidra%'\n",
    "OR src_nameofmedication LIKE '%insuman%'\"\n",
    "drp_nt_drugs <- \"SELECT person_id, src_datemedicationstart, src_idmultilexdmd, src_nameofmedication, src_dateevent FROM `yhcr-prd-phm-bia-core.CB_FDM_PrimaryCare_v5.tbl_SRPrimaryCareMedication` \n",
    "where src_nameofmedication LIKE '%lactose%' OR src_nameofmedication LIKE '%becton%' OR src_nameofmedication LIKE '%menarini%' OR src_nameofmedication LIKE '%glucorx%'\n",
    "OR src_nameofmedication LIKE '%gauge%' OR src_nameofmedication LIKE '%microfine%' OR src_nameofmedication LIKE '%micro-fine%' OR src_nameofmedication LIKE '%needles%'\n",
    "OR src_nameofmedication LIKE '%clikstar%' OR src_nameofmedication LIKE '%reusable%' OR src_nameofmedication LIKE '%re-usable%'\"\n",
    "\n",
    "# Run the query; this returns a bq_table object that you can query further\n",
    "metf <- bq_project_query(projectid, metformin)\n",
    "thiaz <- bq_project_query(projectid, thiazolid)\n",
    "glip <- bq_project_query(projectid, gliptins)\n",
    "sulf <- bq_project_query(projectid, sulfon)\n",
    "glp <- bq_project_query(projectid, glpra)\n",
    "gluc <- bq_project_query(projectid, glucinhib)\n",
    "comb <- bq_project_query(projectid, combo)\n",
    "insu <- bq_project_query(projectid, insulin)\n",
    "drop <- bq_project_query(projectid, drp_nt_drugs)\n",
    "\n",
    "# Store data in a tibble\n",
    "metformin <-bq_table_download(metf)\n",
    "thiazolid <-bq_table_download(thiaz)\n",
    "gliptins <-bq_table_download(glip)\n",
    "sulfon <-bq_table_download(sulf)\n",
    "glpra <-bq_table_download(glp)\n",
    "glucinhib <-bq_table_download(gluc)\n",
    "combo <- bq_table_download(comb)\n",
    "insulin <- bq_table_download(insu)\n",
    "drp_nt_drugs <- bq_table_download(drop)"
   ]
  },
  {
   "cell_type": "code",
   "execution_count": 4,
   "id": "8da224dc-5d91-42ac-bc7c-83307f776cfb",
   "metadata": {},
   "outputs": [],
   "source": [
    "# Filter all medication start dates after 2007-01-01\n",
    "metformin <- metformin %>%\n",
    "    mutate(src_datemedicationstart = as.Date(src_datemedicationstart)) %>%\n",
    "    filter(src_datemedicationstart >= \"2007-01-01\" & src_datemedicationstart <= \"2017-01-01\")\n",
    "thiazolid <- thiazolid %>%\n",
    "    mutate(src_datemedicationstart = as.Date(src_datemedicationstart)) %>%\n",
    "    filter(src_datemedicationstart >= \"2007-01-01\" & src_datemedicationstart <= \"2017-01-01\")\n",
    "gliptins <- gliptins %>%\n",
    "    mutate(src_datemedicationstart = as.Date(src_datemedicationstart)) %>%\n",
    "    filter(src_datemedicationstart >= \"2007-01-01\" & src_datemedicationstart <= \"2017-01-01\")\n",
    "sulfon <- sulfon %>%\n",
    "    mutate(src_datemedicationstart = as.Date(src_datemedicationstart)) %>%\n",
    "    filter(src_datemedicationstart >= \"2007-01-01\" & src_datemedicationstart <= \"2017-01-01\")\n",
    "glpra <- glpra %>%\n",
    "    mutate(src_datemedicationstart = as.Date(src_datemedicationstart)) %>%\n",
    "    filter(src_datemedicationstart >= \"2007-01-01\" & src_datemedicationstart <= \"2017-01-01\")\n",
    "glucinhib <- glucinhib %>%\n",
    "    mutate(src_datemedicationstart = as.Date(src_datemedicationstart)) %>%\n",
    "    filter(src_datemedicationstart >= \"2007-01-01\" & src_datemedicationstart <= \"2017-01-01\")\n",
    "combo <- combo %>%\n",
    "    mutate(src_datemedicationstart = as.Date(src_datemedicationstart)) %>%\n",
    "    filter(src_datemedicationstart >= \"2007-01-01\" & src_datemedicationstart <= \"2017-01-01\")\n",
    "insulin <- insulin %>%\n",
    "    mutate(src_datemedicationstart = as.Date(src_datemedicationstart)) %>%\n",
    "    filter(src_datemedicationstart >= \"2007-01-01\" & src_datemedicationstart <= \"2017-01-01\")"
   ]
  },
  {
   "cell_type": "code",
   "execution_count": 82,
   "id": "cd396381-1a94-4788-93c9-488218ad22ad",
   "metadata": {},
   "outputs": [
    {
     "data": {
      "text/html": [
       "1400"
      ],
      "text/latex": [
       "1400"
      ],
      "text/markdown": [
       "1400"
      ],
      "text/plain": [
       "[1] 1400"
      ]
     },
     "metadata": {},
     "output_type": "display_data"
    },
    {
     "data": {
      "text/html": [
       "1400"
      ],
      "text/latex": [
       "1400"
      ],
      "text/markdown": [
       "1400"
      ],
      "text/plain": [
       "[1] 1400"
      ]
     },
     "metadata": {},
     "output_type": "display_data"
    },
    {
     "data": {
      "text/html": [
       "840"
      ],
      "text/latex": [
       "840"
      ],
      "text/markdown": [
       "840"
      ],
      "text/plain": [
       "[1] 840"
      ]
     },
     "metadata": {},
     "output_type": "display_data"
    },
    {
     "data": {
      "text/html": [
       "58"
      ],
      "text/latex": [
       "58"
      ],
      "text/markdown": [
       "58"
      ],
      "text/plain": [
       "[1] 58"
      ]
     },
     "metadata": {},
     "output_type": "display_data"
    },
    {
     "data": {
      "text/html": [
       "237229"
      ],
      "text/latex": [
       "237229"
      ],
      "text/markdown": [
       "237229"
      ],
      "text/plain": [
       "[1] 237229"
      ]
     },
     "metadata": {},
     "output_type": "display_data"
    },
    {
     "data": {
      "text/html": [
       "237229"
      ],
      "text/latex": [
       "237229"
      ],
      "text/markdown": [
       "237229"
      ],
      "text/plain": [
       "[1] 237229"
      ]
     },
     "metadata": {},
     "output_type": "display_data"
    },
    {
     "data": {
      "text/html": [
       "46"
      ],
      "text/latex": [
       "46"
      ],
      "text/markdown": [
       "46"
      ],
      "text/plain": [
       "[1] 46"
      ]
     },
     "metadata": {},
     "output_type": "display_data"
    },
    {
     "data": {
      "text/html": [
       "46"
      ],
      "text/latex": [
       "46"
      ],
      "text/markdown": [
       "46"
      ],
      "text/plain": [
       "[1] 46"
      ]
     },
     "metadata": {},
     "output_type": "display_data"
    },
    {
     "data": {
      "text/html": [
       "64"
      ],
      "text/latex": [
       "64"
      ],
      "text/markdown": [
       "64"
      ],
      "text/plain": [
       "[1] 64"
      ]
     },
     "metadata": {},
     "output_type": "display_data"
    },
    {
     "data": {
      "text/html": [
       "64"
      ],
      "text/latex": [
       "64"
      ],
      "text/markdown": [
       "64"
      ],
      "text/plain": [
       "[1] 64"
      ]
     },
     "metadata": {},
     "output_type": "display_data"
    },
    {
     "data": {
      "text/html": [
       "21147"
      ],
      "text/latex": [
       "21147"
      ],
      "text/markdown": [
       "21147"
      ],
      "text/plain": [
       "[1] 21147"
      ]
     },
     "metadata": {},
     "output_type": "display_data"
    },
    {
     "data": {
      "text/html": [
       "21147"
      ],
      "text/latex": [
       "21147"
      ],
      "text/markdown": [
       "21147"
      ],
      "text/plain": [
       "[1] 21147"
      ]
     },
     "metadata": {},
     "output_type": "display_data"
    },
    {
     "data": {
      "text/html": [
       "2"
      ],
      "text/latex": [
       "2"
      ],
      "text/markdown": [
       "2"
      ],
      "text/plain": [
       "[1] 2"
      ]
     },
     "metadata": {},
     "output_type": "display_data"
    },
    {
     "data": {
      "text/html": [
       "2"
      ],
      "text/latex": [
       "2"
      ],
      "text/markdown": [
       "2"
      ],
      "text/plain": [
       "[1] 2"
      ]
     },
     "metadata": {},
     "output_type": "display_data"
    },
    {
     "data": {
      "text/html": [
       "28957"
      ],
      "text/latex": [
       "28957"
      ],
      "text/markdown": [
       "28957"
      ],
      "text/plain": [
       "[1] 28957"
      ]
     },
     "metadata": {},
     "output_type": "display_data"
    },
    {
     "data": {
      "text/html": [
       "28957"
      ],
      "text/latex": [
       "28957"
      ],
      "text/markdown": [
       "28957"
      ],
      "text/plain": [
       "[1] 28957"
      ]
     },
     "metadata": {},
     "output_type": "display_data"
    }
   ],
   "source": [
    "# Remove src_nameofmedication if in drp_nt_drugs\n",
    "nrow(metformin)\n",
    "metformin <- anti_join(metformin, drp_nt_drugs, by = \"src_nameofmedication\")\n",
    "nrow(metformin)\n",
    "\n",
    "nrow(thiazolid)\n",
    "thiazolid <- anti_join(thiazolid, drp_nt_drugs, by = \"src_nameofmedication\")\n",
    "nrow(thiazolid)\n",
    "\n",
    "nrow(gliptins)\n",
    "gliptins <- anti_join(gliptins, drp_nt_drugs, by = \"src_nameofmedication\")\n",
    "nrow(gliptins)\n",
    "\n",
    "nrow(sulfon)\n",
    "sulfon <- anti_join(sulfon, drp_nt_drugs, by = \"src_nameofmedication\")\n",
    "nrow(sulfon)\n",
    "\n",
    "nrow(glpra)\n",
    "glpra <- anti_join(glpra, drp_nt_drugs, by = \"src_nameofmedication\")\n",
    "nrow(glpra)\n",
    "\n",
    "nrow(glucinhib)\n",
    "glucinhib <- anti_join(glucinhib, drp_nt_drugs, by = \"src_nameofmedication\")\n",
    "nrow(glucinhib)\n",
    "\n",
    "nrow(combo)\n",
    "combo <- anti_join(combo, drp_nt_drugs, by = \"src_nameofmedication\")\n",
    "nrow(combo)\n",
    "\n",
    "nrow(insulin)\n",
    "insulin <- anti_join(insulin, drp_nt_drugs, by = \"src_nameofmedication\")\n",
    "nrow(insulin)"
   ]
  },
  {
   "cell_type": "code",
   "execution_count": 5,
   "id": "f0fe2f3f-79ea-45c0-856f-a5c9d3442326",
   "metadata": {},
   "outputs": [
    {
     "data": {
      "text/html": [
       "<table class=\"dataframe\">\n",
       "<caption>A tibble: 6 × 3</caption>\n",
       "<thead>\n",
       "\t<tr><th scope=col>person_id</th><th scope=col>birth_datetime</th><th scope=col>gender</th></tr>\n",
       "\t<tr><th scope=col>&lt;int&gt;</th><th scope=col>&lt;date&gt;</th><th scope=col>&lt;int&gt;</th></tr>\n",
       "</thead>\n",
       "<tbody>\n",
       "\t<tr><td>16832562</td><td>NA</td><td>1</td></tr>\n",
       "\t<tr><td>16769967</td><td>NA</td><td>1</td></tr>\n",
       "\t<tr><td>16832450</td><td>NA</td><td>1</td></tr>\n",
       "\t<tr><td>16814272</td><td>NA</td><td>1</td></tr>\n",
       "\t<tr><td>13715865</td><td>NA</td><td>1</td></tr>\n",
       "\t<tr><td>16812975</td><td>NA</td><td>1</td></tr>\n",
       "</tbody>\n",
       "</table>\n"
      ],
      "text/latex": [
       "A tibble: 6 × 3\n",
       "\\begin{tabular}{lll}\n",
       " person\\_id & birth\\_datetime & gender\\\\\n",
       " <int> & <date> & <int>\\\\\n",
       "\\hline\n",
       "\t 16832562 & NA & 1\\\\\n",
       "\t 16769967 & NA & 1\\\\\n",
       "\t 16832450 & NA & 1\\\\\n",
       "\t 16814272 & NA & 1\\\\\n",
       "\t 13715865 & NA & 1\\\\\n",
       "\t 16812975 & NA & 1\\\\\n",
       "\\end{tabular}\n"
      ],
      "text/markdown": [
       "\n",
       "A tibble: 6 × 3\n",
       "\n",
       "| person_id &lt;int&gt; | birth_datetime &lt;date&gt; | gender &lt;int&gt; |\n",
       "|---|---|---|\n",
       "| 16832562 | NA | 1 |\n",
       "| 16769967 | NA | 1 |\n",
       "| 16832450 | NA | 1 |\n",
       "| 16814272 | NA | 1 |\n",
       "| 13715865 | NA | 1 |\n",
       "| 16812975 | NA | 1 |\n",
       "\n"
      ],
      "text/plain": [
       "  person_id birth_datetime gender\n",
       "1 16832562  <NA>           1     \n",
       "2 16769967  <NA>           1     \n",
       "3 16832450  <NA>           1     \n",
       "4 16814272  <NA>           1     \n",
       "5 13715865  <NA>           1     \n",
       "6 16812975  <NA>           1     "
      ]
     },
     "metadata": {},
     "output_type": "display_data"
    }
   ],
   "source": [
    "# Join with patient table to calculate age at event and gender\n",
    "sql3 <- \"SELECT person_id, birth_datetime, gender FROM `yhcr-prd-phm-bia-core.CB_MYSPACE_AH.Patient_Denom`\"\n",
    "tb3 <- bq_project_query(projectid, sql3)\n",
    "patient <- bq_table_download(tb3)\n",
    "head(patient)"
   ]
  },
  {
   "cell_type": "code",
   "execution_count": 6,
   "id": "30852dcb-0cfd-474a-a64c-8d02ca35af56",
   "metadata": {},
   "outputs": [],
   "source": [
    "# Drop those where birth_datetime and gender = NA\n",
    "patient <- patient %>%\n",
    "    filter(!is.na(birth_datetime)) %>%\n",
    "    filter(!is.na(gender))"
   ]
  },
  {
   "cell_type": "code",
   "execution_count": 7,
   "id": "768b3762-a10f-4e85-b9ef-ba4322620b42",
   "metadata": {},
   "outputs": [
    {
     "name": "stderr",
     "output_type": "stream",
     "text": [
      "\u001b[1m\u001b[22mJoining with `by = join_by(person_id)`\n",
      "\u001b[1m\u001b[22mJoining with `by = join_by(person_id)`\n",
      "\u001b[1m\u001b[22mJoining with `by = join_by(person_id)`\n",
      "\u001b[1m\u001b[22mJoining with `by = join_by(person_id)`\n",
      "\u001b[1m\u001b[22mJoining with `by = join_by(person_id)`\n",
      "\u001b[1m\u001b[22mJoining with `by = join_by(person_id)`\n",
      "\u001b[1m\u001b[22mJoining with `by = join_by(person_id)`\n",
      "\u001b[1m\u001b[22mJoining with `by = join_by(person_id)`\n"
     ]
    }
   ],
   "source": [
    "# Join patient table to each drug table, calculate age at date medication start, keep earliest date for medication per person\n",
    "# Metformin\n",
    "pt_metf <- patient %>%\n",
    "    right_join(metformin) %>%\n",
    "    select(person_id, birth_datetime, gender, src_datemedicationstart) %>%\n",
    "    mutate(age_metformin = floor(interval(birth_datetime, src_datemedicationstart) / years(1))) %>%\n",
    "    group_by(person_id) %>%\n",
    "    arrange(src_datemedicationstart) %>%\n",
    "    mutate(event_number = row_number()) %>%\n",
    "    slice_min(event_number, with_ties = FALSE) %>%\n",
    "    select(-event_number) %>%\n",
    "    filter(!is.na(birth_datetime)) %>%\n",
    "    rename(date_metformin = src_datemedicationstart) %>%\n",
    "    mutate(has_metformin = 1) %>%\n",
    "    select(-birth_datetime)\n",
    "\n",
    "# Thiazolid\n",
    "pt_thi <- patient %>%\n",
    "    right_join(thiazolid) %>%\n",
    "    select(person_id, birth_datetime, gender, src_datemedicationstart) %>%\n",
    "    mutate(age_thiazolid = floor(interval(birth_datetime, src_datemedicationstart) / years(1))) %>%\n",
    "    group_by(person_id) %>%\n",
    "    arrange(src_datemedicationstart) %>%\n",
    "    mutate(event_number = row_number()) %>%\n",
    "    slice_min(event_number, with_ties = FALSE) %>%\n",
    "    select(-event_number) %>%\n",
    "    filter(!is.na(birth_datetime)) %>%\n",
    "    rename(date_thiazolid = src_datemedicationstart) %>%\n",
    "    mutate(has_thiazolid = 1) %>%\n",
    "    select(-birth_datetime)\n",
    "\n",
    "# Gliptins\n",
    "pt_glip <- patient %>%\n",
    "    right_join(gliptins) %>%\n",
    "    select(person_id, birth_datetime, gender, src_datemedicationstart) %>%\n",
    "    mutate(age_gliptins = floor(interval(birth_datetime, src_datemedicationstart) / years(1))) %>%\n",
    "    group_by(person_id) %>%\n",
    "    arrange(src_datemedicationstart) %>%\n",
    "    mutate(event_number = row_number()) %>%\n",
    "    slice_min(event_number, with_ties = FALSE) %>%\n",
    "    select(-event_number) %>%\n",
    "    filter(!is.na(birth_datetime)) %>%\n",
    "    rename(date_gliptins = src_datemedicationstart) %>%\n",
    "    mutate(has_gliptins = 1) %>%\n",
    "    select(-birth_datetime)\n",
    "\n",
    "# Sulfon\n",
    "pt_sulf <- patient %>%\n",
    "    right_join(sulfon) %>%\n",
    "    select(person_id, birth_datetime, gender, src_datemedicationstart) %>%\n",
    "    mutate(age_sulfon = floor(interval(birth_datetime, src_datemedicationstart) / years(1))) %>%\n",
    "    group_by(person_id) %>%\n",
    "    arrange(src_datemedicationstart) %>%\n",
    "    mutate(event_number = row_number()) %>%\n",
    "    slice_min(event_number, with_ties = FALSE) %>%\n",
    "    select(-event_number) %>%\n",
    "    filter(!is.na(birth_datetime)) %>%\n",
    "    rename(date_sulfon = src_datemedicationstart) %>%\n",
    "    mutate(has_sulfon = 1) %>%\n",
    "    select(-birth_datetime)\n",
    "\n",
    "# Glpra\n",
    "pt_glpra <- patient %>%\n",
    "    right_join(glpra) %>%\n",
    "    select(person_id, birth_datetime, gender, src_datemedicationstart) %>%\n",
    "    mutate(age_glpra = floor(interval(birth_datetime, src_datemedicationstart) / years(1))) %>%\n",
    "    group_by(person_id) %>%\n",
    "    arrange(src_datemedicationstart) %>%\n",
    "    mutate(event_number = row_number()) %>%\n",
    "    slice_min(event_number, with_ties = FALSE) %>%\n",
    "    select(-event_number) %>%\n",
    "    filter(!is.na(birth_datetime)) %>%\n",
    "    rename(date_glpra = src_datemedicationstart) %>%\n",
    "    mutate(has_glpra = 1) %>%\n",
    "    select(-birth_datetime)\n",
    "\n",
    "# Glucinhib\n",
    "pt_glu <- patient %>%\n",
    "    right_join(glucinhib) %>%\n",
    "    select(person_id, birth_datetime, gender, src_datemedicationstart) %>%\n",
    "    mutate(age_glucinhib = floor(interval(birth_datetime, src_datemedicationstart) / years(1))) %>%\n",
    "    group_by(person_id) %>%\n",
    "    arrange(src_datemedicationstart) %>%\n",
    "    mutate(event_number = row_number()) %>%\n",
    "    slice_min(event_number, with_ties = FALSE) %>%\n",
    "    select(-event_number) %>%\n",
    "    filter(!is.na(birth_datetime)) %>%\n",
    "    rename(date_glucinhib = src_datemedicationstart) %>%\n",
    "    mutate(has_glucinhib = 1) %>%\n",
    "    select(-birth_datetime)\n",
    "\n",
    "# Combo\n",
    "pt_comb <- patient %>%\n",
    "    right_join(combo) %>%\n",
    "    select(person_id, birth_datetime, gender, src_datemedicationstart) %>%\n",
    "    mutate(age_combo = floor(interval(birth_datetime, src_datemedicationstart) / years(1))) %>%\n",
    "    group_by(person_id) %>%\n",
    "    arrange(src_datemedicationstart) %>%\n",
    "    mutate(event_number = row_number()) %>%\n",
    "    slice_min(event_number, with_ties = FALSE) %>%\n",
    "    select(-event_number) %>%\n",
    "    filter(!is.na(birth_datetime)) %>%\n",
    "    rename(date_combo = src_datemedicationstart) %>%\n",
    "    mutate(has_combo = 1) %>%\n",
    "    select(-birth_datetime)\n",
    "\n",
    "# Insulin\n",
    "pt_insu <- patient %>%\n",
    "    right_join(insulin) %>%\n",
    "    select(person_id, birth_datetime, gender, src_datemedicationstart) %>%\n",
    "    mutate(age_insulin = floor(interval(birth_datetime, src_datemedicationstart) / years(1))) %>%\n",
    "    group_by(person_id) %>%\n",
    "    arrange(src_datemedicationstart) %>%\n",
    "    mutate(event_number = row_number()) %>%\n",
    "    slice_min(event_number, with_ties = FALSE) %>%\n",
    "    select(-event_number) %>%\n",
    "    filter(!is.na(birth_datetime)) %>%\n",
    "    rename(date_insulin = src_datemedicationstart) %>%\n",
    "    mutate(has_insulin = 1) %>%\n",
    "    select(-birth_datetime)"
   ]
  },
  {
   "cell_type": "code",
   "execution_count": 8,
   "id": "3d11a96a-242b-4348-b284-3330cf861954",
   "metadata": {},
   "outputs": [
    {
     "data": {
      "text/html": [
       "67"
      ],
      "text/latex": [
       "67"
      ],
      "text/markdown": [
       "67"
      ],
      "text/plain": [
       "[1] 67"
      ]
     },
     "metadata": {},
     "output_type": "display_data"
    },
    {
     "data": {
      "text/html": [
       "70"
      ],
      "text/latex": [
       "70"
      ],
      "text/markdown": [
       "70"
      ],
      "text/plain": [
       "[1] 70"
      ]
     },
     "metadata": {},
     "output_type": "display_data"
    },
    {
     "data": {
      "text/html": [
       "7196"
      ],
      "text/latex": [
       "7196"
      ],
      "text/markdown": [
       "7196"
      ],
      "text/plain": [
       "[1] 7196"
      ]
     },
     "metadata": {},
     "output_type": "display_data"
    },
    {
     "data": {
      "text/html": [
       "6"
      ],
      "text/latex": [
       "6"
      ],
      "text/markdown": [
       "6"
      ],
      "text/plain": [
       "[1] 6"
      ]
     },
     "metadata": {},
     "output_type": "display_data"
    },
    {
     "data": {
      "text/html": [
       "5"
      ],
      "text/latex": [
       "5"
      ],
      "text/markdown": [
       "5"
      ],
      "text/plain": [
       "[1] 5"
      ]
     },
     "metadata": {},
     "output_type": "display_data"
    },
    {
     "data": {
      "text/html": [
       "1775"
      ],
      "text/latex": [
       "1775"
      ],
      "text/markdown": [
       "1775"
      ],
      "text/plain": [
       "[1] 1775"
      ]
     },
     "metadata": {},
     "output_type": "display_data"
    },
    {
     "data": {
      "text/html": [
       "1"
      ],
      "text/latex": [
       "1"
      ],
      "text/markdown": [
       "1"
      ],
      "text/plain": [
       "[1] 1"
      ]
     },
     "metadata": {},
     "output_type": "display_data"
    },
    {
     "data": {
      "text/html": [
       "1317"
      ],
      "text/latex": [
       "1317"
      ],
      "text/markdown": [
       "1317"
      ],
      "text/plain": [
       "[1] 1317"
      ]
     },
     "metadata": {},
     "output_type": "display_data"
    }
   ],
   "source": [
    "nrow(pt_metf)\n",
    "nrow(pt_thi)\n",
    "nrow(pt_glip)\n",
    "nrow(pt_sulf)\n",
    "nrow(pt_glpra)\n",
    "nrow(pt_glu)\n",
    "nrow(pt_comb)\n",
    "nrow(pt_insu)"
   ]
  },
  {
   "cell_type": "code",
   "execution_count": 9,
   "id": "805b34ba-465d-473a-8622-619a83977fb2",
   "metadata": {},
   "outputs": [],
   "source": [
    "# Join all tables by person_id\n",
    "meds <- pt_metf %>%\n",
    "    left_join(pt_thi, by = c(\"person_id\", \"gender\")) %>%\n",
    "    left_join(pt_glip, by = c(\"person_id\", \"gender\")) %>%\n",
    "    left_join(pt_sulf, by = c(\"person_id\", \"gender\")) %>%\n",
    "    left_join(pt_glpra, by = c(\"person_id\", \"gender\")) %>%\n",
    "    left_join(pt_glu, by = c(\"person_id\", \"gender\")) %>%\n",
    "    left_join(pt_comb, by = c(\"person_id\", \"gender\")) %>%\n",
    "    left_join(pt_insu, by = c(\"person_id\", \"gender\"))"
   ]
  },
  {
   "cell_type": "code",
   "execution_count": 10,
   "id": "5d044271-fd28-4b28-be01-19dabac94d41",
   "metadata": {},
   "outputs": [],
   "source": [
    "# Add variable for earliest date\n",
    "meds <- meds %>%\n",
    "    mutate(date_earliest_med = pmin(date_metformin, date_thiazolid, date_gliptins, date_sulfon, date_glpra, date_glucinhib, date_combo, date_insulin, na.rm = TRUE))"
   ]
  },
  {
   "cell_type": "code",
   "execution_count": 11,
   "id": "e915974e-9ef1-4624-8385-417f64838d74",
   "metadata": {},
   "outputs": [],
   "source": [
    "# add indicator for metformin i.e. if taking metformin and another drug (1 = metformin + another drug, 2 = only metformin), if male or female > 50 years \n",
    "meds <- meds %>%\n",
    "    mutate(met_plus = case_when(\n",
    "        !is.na(has_metformin) & (has_thiazolid == 1 | has_gliptins == 1 | has_sulfon == 1 | has_glpra == 1 | has_glucinhib == 1 | has_combo == 1 | has_insulin == 1) ~ 1,\n",
    "        !is.na(has_metformin) & is.na(has_thiazolid) & is.na(has_gliptins) & is.na(has_sulfon) & is.na(has_glpra) & is.na(has_glucinhib) & is.na(has_combo) & is.na(has_insulin) ~ 2)) %>%\n",
    "    mutate(met_diab = ifelse((met_plus == 2 & gender == 1) | (met_plus == 2 & gender == 2 & age_metformin >= 50),1,0)) %>%\n",
    "    mutate(met_fe_lsthn_50 = ifelse(met_plus == 2 & gender == 2 & age_metformin < 50,1,0)) %>%\n",
    "    mutate(met_earliest = ifelse(date_metformin == date_earliest_med,1,0))"
   ]
  },
  {
   "cell_type": "code",
   "execution_count": 12,
   "id": "2aa2ee86-c5d4-4347-9c45-59e35a403653",
   "metadata": {},
   "outputs": [
    {
     "data": {
      "text/html": [
       "<style>\n",
       ".list-inline {list-style: none; margin:0; padding: 0}\n",
       ".list-inline>li {display: inline-block}\n",
       ".list-inline>li:not(:last-child)::after {content: \"\\00b7\"; padding: 0 .5ex}\n",
       "</style>\n",
       "<ol class=list-inline><li>'person_id'</li><li>'gender'</li><li>'date_metformin'</li><li>'age_metformin'</li><li>'has_metformin'</li><li>'date_thiazolid'</li><li>'age_thiazolid'</li><li>'has_thiazolid'</li><li>'date_gliptins'</li><li>'age_gliptins'</li><li>'has_gliptins'</li><li>'date_sulfon'</li><li>'age_sulfon'</li><li>'has_sulfon'</li><li>'date_glpra'</li><li>'age_glpra'</li><li>'has_glpra'</li><li>'date_glucinhib'</li><li>'age_glucinhib'</li><li>'has_glucinhib'</li><li>'date_combo'</li><li>'age_combo'</li><li>'has_combo'</li><li>'date_insulin'</li><li>'age_insulin'</li><li>'has_insulin'</li><li>'date_earliest_med'</li><li>'met_plus'</li><li>'met_diab'</li><li>'met_fe_lsthn_50'</li><li>'met_earliest'</li></ol>\n"
      ],
      "text/latex": [
       "\\begin{enumerate*}\n",
       "\\item 'person\\_id'\n",
       "\\item 'gender'\n",
       "\\item 'date\\_metformin'\n",
       "\\item 'age\\_metformin'\n",
       "\\item 'has\\_metformin'\n",
       "\\item 'date\\_thiazolid'\n",
       "\\item 'age\\_thiazolid'\n",
       "\\item 'has\\_thiazolid'\n",
       "\\item 'date\\_gliptins'\n",
       "\\item 'age\\_gliptins'\n",
       "\\item 'has\\_gliptins'\n",
       "\\item 'date\\_sulfon'\n",
       "\\item 'age\\_sulfon'\n",
       "\\item 'has\\_sulfon'\n",
       "\\item 'date\\_glpra'\n",
       "\\item 'age\\_glpra'\n",
       "\\item 'has\\_glpra'\n",
       "\\item 'date\\_glucinhib'\n",
       "\\item 'age\\_glucinhib'\n",
       "\\item 'has\\_glucinhib'\n",
       "\\item 'date\\_combo'\n",
       "\\item 'age\\_combo'\n",
       "\\item 'has\\_combo'\n",
       "\\item 'date\\_insulin'\n",
       "\\item 'age\\_insulin'\n",
       "\\item 'has\\_insulin'\n",
       "\\item 'date\\_earliest\\_med'\n",
       "\\item 'met\\_plus'\n",
       "\\item 'met\\_diab'\n",
       "\\item 'met\\_fe\\_lsthn\\_50'\n",
       "\\item 'met\\_earliest'\n",
       "\\end{enumerate*}\n"
      ],
      "text/markdown": [
       "1. 'person_id'\n",
       "2. 'gender'\n",
       "3. 'date_metformin'\n",
       "4. 'age_metformin'\n",
       "5. 'has_metformin'\n",
       "6. 'date_thiazolid'\n",
       "7. 'age_thiazolid'\n",
       "8. 'has_thiazolid'\n",
       "9. 'date_gliptins'\n",
       "10. 'age_gliptins'\n",
       "11. 'has_gliptins'\n",
       "12. 'date_sulfon'\n",
       "13. 'age_sulfon'\n",
       "14. 'has_sulfon'\n",
       "15. 'date_glpra'\n",
       "16. 'age_glpra'\n",
       "17. 'has_glpra'\n",
       "18. 'date_glucinhib'\n",
       "19. 'age_glucinhib'\n",
       "20. 'has_glucinhib'\n",
       "21. 'date_combo'\n",
       "22. 'age_combo'\n",
       "23. 'has_combo'\n",
       "24. 'date_insulin'\n",
       "25. 'age_insulin'\n",
       "26. 'has_insulin'\n",
       "27. 'date_earliest_med'\n",
       "28. 'met_plus'\n",
       "29. 'met_diab'\n",
       "30. 'met_fe_lsthn_50'\n",
       "31. 'met_earliest'\n",
       "\n",
       "\n"
      ],
      "text/plain": [
       " [1] \"person_id\"         \"gender\"            \"date_metformin\"   \n",
       " [4] \"age_metformin\"     \"has_metformin\"     \"date_thiazolid\"   \n",
       " [7] \"age_thiazolid\"     \"has_thiazolid\"     \"date_gliptins\"    \n",
       "[10] \"age_gliptins\"      \"has_gliptins\"      \"date_sulfon\"      \n",
       "[13] \"age_sulfon\"        \"has_sulfon\"        \"date_glpra\"       \n",
       "[16] \"age_glpra\"         \"has_glpra\"         \"date_glucinhib\"   \n",
       "[19] \"age_glucinhib\"     \"has_glucinhib\"     \"date_combo\"       \n",
       "[22] \"age_combo\"         \"has_combo\"         \"date_insulin\"     \n",
       "[25] \"age_insulin\"       \"has_insulin\"       \"date_earliest_med\"\n",
       "[28] \"met_plus\"          \"met_diab\"          \"met_fe_lsthn_50\"  \n",
       "[31] \"met_earliest\"     "
      ]
     },
     "metadata": {},
     "output_type": "display_data"
    }
   ],
   "source": [
    "colnames(meds)"
   ]
  },
  {
   "cell_type": "code",
   "execution_count": 13,
   "id": "6c417f8b-5448-4074-b9ca-1af8375471bb",
   "metadata": {},
   "outputs": [],
   "source": [
    "# Save dataset\n",
    "dest_dataset <- bq_dataset(\"yhcr-prd-phm-bia-core\",\"CB_MYSPACE_AH\")\n",
    "dest_table <- bq_table(dest_dataset, \"Diabetic_Meds\")\n",
    "\n",
    "# create a full table spec as follows\n",
    "# then pass this to bq_table_upload\n",
    "dest_fields <- bq_fields(list(bq_field(\"person_id\", \"INT64\", \"REQUIRED\"),\n",
    "                              bq_field(\"gender\", \"INT64\"),\n",
    "                              bq_field(\"date_metformin\", \"DATE\"),\n",
    "                              bq_field(\"age_metformin\", \"INT64\"),\n",
    "                              bq_field(\"has_metformin\", \"INT64\"),\n",
    "                              bq_field(\"date_thiazolid\", \"DATE\"),\n",
    "                              bq_field(\"age_thiazolid\", \"INT64\"),\n",
    "                              bq_field(\"has_thiazolid\", \"INT64\"),\n",
    "                              bq_field(\"date_gliptins\", \"DATE\"),\n",
    "                              bq_field(\"age_gliptins\", \"INT64\"),\n",
    "                              bq_field(\"has_gliptins\", \"INT64\"),\n",
    "                              bq_field(\"date_sulfon\", \"DATE\"),\n",
    "                              bq_field(\"age_sulfon\", \"INT64\"),\n",
    "                              bq_field(\"has_sulfon\", \"INT64\"),\n",
    "                              bq_field(\"date_glpra\", \"DATE\"),\n",
    "                              bq_field(\"age_glpra\", \"INT64\"),\n",
    "                              bq_field(\"has_glpra\", \"INT64\"),\n",
    "                              bq_field(\"date_glucinhib\", \"DATE\"),\n",
    "                              bq_field(\"age_glucinhib\", \"INT64\"),\n",
    "                              bq_field(\"has_glucinhib\", \"INT64\"),\n",
    "                              bq_field(\"date_combo\", \"DATE\"),\n",
    "                              bq_field(\"age_combo\", \"INT64\"),\n",
    "                              bq_field(\"has_combo\", \"INT64\"),\n",
    "                              bq_field(\"date_insulin\", \"DATE\"),\n",
    "                              bq_field(\"age_insulin\", \"INT64\"),\n",
    "                              bq_field(\"has_insulin\", \"INT64\"),\n",
    "                              bq_field(\"date_earliest_med\", \"DATE\"),\n",
    "                              bq_field(\"met_plus\", \"INT64\"),\n",
    "                              bq_field(\"met_diab\", \"INT64\"),\n",
    "                              bq_field(\"met_earliest\", \"INT64\"),\n",
    "                              bq_field(\"met_fe_lsthn_50\", \"INT64\")))\n",
    "\n",
    "# delete an existing table if necessary\n",
    "if(bq_table_exists(dest_table)) bq_table_delete(dest_table)\n",
    "# upload file_data to dest_table\n",
    "bq_table_upload(dest_table, meds, fields = dest_fields, create_disposition='CREATE_IF_NEEDED', write_disposition='WRITE_TRUNCATE')"
   ]
  },
  {
   "cell_type": "code",
   "execution_count": null,
   "id": "7a68d1b1-7541-4868-9893-ae1f6ff477f4",
   "metadata": {},
   "outputs": [],
   "source": []
  }
 ],
 "metadata": {
  "environment": {
   "kernel": "ir",
   "name": "r-cpu.4-2.m111",
   "type": "gcloud",
   "uri": "gcr.io/deeplearning-platform-release/r-cpu.4-2:m111"
  },
  "kernelspec": {
   "display_name": "R",
   "language": "R",
   "name": "ir"
  },
  "language_info": {
   "codemirror_mode": "r",
   "file_extension": ".r",
   "mimetype": "text/x-r-source",
   "name": "R",
   "pygments_lexer": "r",
   "version": "4.3.1"
  }
 },
 "nbformat": 4,
 "nbformat_minor": 5
}
